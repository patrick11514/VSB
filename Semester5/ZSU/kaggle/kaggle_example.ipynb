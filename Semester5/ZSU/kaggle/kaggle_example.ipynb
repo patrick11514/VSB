{
 "cells": [
  {
   "cell_type": "code",
   "execution_count": null,
   "id": "d05dfd9c-394f-4082-8fd3-135f6aefec44",
   "metadata": {},
   "outputs": [],
   "source": [
    "import numpy as np\n",
    "import pandas as pd\n",
    "import seaborn as sns\n",
    "import matplotlib.pyplot as plt\n",
    "import math\n",
    "\n",
    "from sklearn.tree import DecisionTreeClassifier\n",
    "from sklearn.metrics import accuracy_score"
   ]
  },
  {
   "cell_type": "code",
   "execution_count": null,
   "id": "33fc20e5-a93f-49be-945c-b98408813fd9",
   "metadata": {},
   "outputs": [],
   "source": [
    "columns = []\n",
    "for x in range(1, 6):\n",
    "    columns.append(f'S{x}')\n",
    "    columns.append(f'C{x}')\n",
    "columns.append('CLASS')\n",
    "\n",
    "df_train = pd.read_csv('poker-hand-training-true.csv', header=None, sep=',', names=columns)\n",
    "df_train"
   ]
  },
  {
   "cell_type": "code",
   "execution_count": null,
   "id": "8785c73a-984f-4af6-82b8-a9cdc6a2ed10",
   "metadata": {
    "scrolled": true
   },
   "outputs": [],
   "source": [
    "df_train.astype(str).describe()"
   ]
  },
  {
   "cell_type": "code",
   "execution_count": null,
   "id": "b3d41040-daa3-4941-b8a1-f4b2af3f7fce",
   "metadata": {},
   "outputs": [],
   "source": [
    "df_train.CLASS.value_counts()"
   ]
  },
  {
   "cell_type": "code",
   "execution_count": null,
   "id": "e9b5294a-0fba-48ef-8b65-d7faf58f295e",
   "metadata": {},
   "outputs": [],
   "source": [
    "df_test = pd.read_csv('test.csv', header=None, sep=',', names=columns[:-1])\n",
    "df_test"
   ]
  },
  {
   "cell_type": "code",
   "execution_count": null,
   "id": "f6b9a86b-c9c5-4e1a-9f5e-4631b7469105",
   "metadata": {
    "scrolled": true
   },
   "outputs": [],
   "source": [
    "df_test.astype(str).describe()"
   ]
  },
  {
   "cell_type": "code",
   "execution_count": null,
   "id": "93425ae3-bac5-4b86-b3fe-454a27e62275",
   "metadata": {},
   "outputs": [],
   "source": [
    "X_train, y_train = df_train.iloc[:, :-1], df_train.CLASS"
   ]
  },
  {
   "cell_type": "code",
   "execution_count": null,
   "id": "698f3984-7677-4279-b2ea-feeef6e790a2",
   "metadata": {},
   "outputs": [],
   "source": [
    "X_test = df_test"
   ]
  },
  {
   "cell_type": "code",
   "execution_count": null,
   "id": "431bed32-556f-4b49-a72b-53be07757662",
   "metadata": {},
   "outputs": [],
   "source": [
    "X_train.shape, X_test.shape, y_train.shape"
   ]
  },
  {
   "cell_type": "code",
   "execution_count": null,
   "id": "1640c6d1-ff54-460e-aa05-b2b24061dddc",
   "metadata": {},
   "outputs": [],
   "source": [
    "clf = DecisionTreeClassifier(random_state=13)\n",
    "clf.fit(X_train, y_train)\n",
    "y_pred = clf.predict(X_test)"
   ]
  },
  {
   "cell_type": "code",
   "execution_count": null,
   "id": "839192c8-d656-456e-9431-979f4a85a76a",
   "metadata": {},
   "outputs": [],
   "source": [
    "df_res = pd.DataFrame(y_pred, columns=['CLASS'])\n",
    "df_res.index.name = 'ID'\n",
    "df_res = df_res.reset_index()"
   ]
  },
  {
   "cell_type": "code",
   "execution_count": null,
   "id": "46e37ecd-b940-4604-bef1-52a8b7d64f70",
   "metadata": {},
   "outputs": [],
   "source": [
    "df_res.to_csv('benchmark_submission.csv', index=False)"
   ]
  }
 ],
 "metadata": {
  "kernelspec": {
   "display_name": "Python 3 (ipykernel)",
   "language": "python",
   "name": "python3"
  },
  "language_info": {
   "codemirror_mode": {
    "name": "ipython",
    "version": 3
   },
   "file_extension": ".py",
   "mimetype": "text/x-python",
   "name": "python",
   "nbconvert_exporter": "python",
   "pygments_lexer": "ipython3",
   "version": "3.12.0"
  }
 },
 "nbformat": 4,
 "nbformat_minor": 5
}
