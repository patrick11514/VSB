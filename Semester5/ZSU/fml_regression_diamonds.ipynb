{
 "cells": [
  {
   "cell_type": "markdown",
   "metadata": {
    "id": "ePgoqySh9QJ0"
   },
   "source": [
    "# Fundamentals of Machine Learning - Diamond price prediction\n",
    "* We will use diamond [dataset](https://www.kaggle.com/datasets/amirhosseinmirzaie/diamonds-price-dataset)\n",
    "* The prediction of the price of the diamond is a complex task\n",
    "\n",
    "![img01](https://github.com/rasvob/VSB-FEI-Fundamentals-of-Machine-Learning-Exercises/blob/master/images/diamond01.jpg?raw=true)"
   ]
  },
  {
   "cell_type": "code",
   "execution_count": null,
   "metadata": {
    "executionInfo": {
     "elapsed": 393,
     "status": "ok",
     "timestamp": 1700767533035,
     "user": {
      "displayName": "Jan Platoš",
      "userId": "17018338888827516123"
     },
     "user_tz": -60
    },
    "id": "rQjMpOi_BHju"
   },
   "outputs": [],
   "source": [
    "import pandas as pd\n",
    "import numpy as np\n",
    "from sklearn import datasets\n",
    "from sklearn.tree import DecisionTreeRegressor\n",
    "from sklearn.neural_network import MLPRegressor\n",
    "from sklearn.neighbors import KNeighborsRegressor\n",
    "from sklearn.ensemble import RandomForestRegressor\n",
    "from sklearn.preprocessing import MinMaxScaler\n",
    "from sklearn.model_selection import train_test_split\n",
    "from sklearn.metrics import mean_absolute_error, mean_squared_error, mean_absolute_percentage_error\n",
    "import plotly.express as px\n",
    "import warnings\n",
    "warnings.filterwarnings('ignore')"
   ]
  },
  {
   "cell_type": "code",
   "execution_count": null,
   "metadata": {
    "colab": {
     "base_uri": "https://localhost:8080/",
     "height": 423
    },
    "executionInfo": {
     "elapsed": 471,
     "status": "ok",
     "timestamp": 1700767533496,
     "user": {
      "displayName": "Jan Platoš",
      "userId": "17018338888827516123"
     },
     "user_tz": -60
    },
    "id": "_U6Xg440BYIp",
    "outputId": "458e2b1e-bbc9-4ff0-b02c-ad85164b4dd3"
   },
   "outputs": [],
   "source": [
    "df = pd.read_csv(\"https://raw.githubusercontent.com/rasvob/VSB-FEI-Fundamentals-of-Machine-Learning-Exercises/master/datasets/diamonds.csv\").drop(columns=[\"x\", \"y\", \"z\"])\n",
    "df"
   ]
  },
  {
   "cell_type": "markdown",
   "metadata": {
    "id": "nxkjMdUG-MK6"
   },
   "source": [
    "# 📌 Explanation of the properties in the dataset\n",
    "\n",
    "## **Carats**\n",
    "* The weigfht of the diamond (‘Carat’ is a term used to describe the weight of a diamond, and the word originates from Ceratonia siliqua, commonly known as the Carob tree.)\n",
    "\n",
    "![img02](https://github.com/rasvob/VSB-FEI-Fundamentals-of-Machine-Learning-Exercises/blob/master/images/diamond02.jpg?raw=true)\n",
    "\n",
    "## **Clarity** \n",
    "* Clarity of the diamond is a measure of the purity and rarity of the stone, graded by the visibility of these characteristics under 10-power magnification\n",
    "\n",
    "![img03](https://github.com/rasvob/VSB-FEI-Fundamentals-of-Machine-Learning-Exercises/blob/master/images/diamond03.jpg?raw=true)\n",
    "\n",
    "## **Color** of the diamond\n",
    "\n",
    "![img04](https://github.com/rasvob/VSB-FEI-Fundamentals-of-Machine-Learning-Exercises/blob/master/images/diamond04.jpg?raw=true)\n",
    "\n",
    "## **Depth**\n",
    "* The **depth** of a diamond refers to its measurement from top to bottom, from the table on the top of the diamond to the culet at its base\n",
    "* The depth of any diamond is expressed as a percentage\n",
    "\n",
    "## **Diamond’s table**\n",
    "* A diamond’s **table** is the flat facet on its surface — the large, flat surface facet that you can see when you look at the diamond from above\n",
    "* As the largest facet on a diamond, the table plays a major role in determining how brilliant (sparkly) the diamond is\n",
    "\n",
    "![img05](https://github.com/rasvob/VSB-FEI-Fundamentals-of-Machine-Learning-Exercises/blob/master/images/diamond05.jpg?raw=true)"
   ]
  },
  {
   "cell_type": "code",
   "execution_count": null,
   "metadata": {
    "colab": {
     "base_uri": "https://localhost:8080/"
    },
    "executionInfo": {
     "elapsed": 23,
     "status": "ok",
     "timestamp": 1700767533497,
     "user": {
      "displayName": "Jan Platoš",
      "userId": "17018338888827516123"
     },
     "user_tz": -60
    },
    "id": "fMajZuFzG_Et",
    "outputId": "53d4f04a-96ec-4ec3-c0bd-c82763a287cd"
   },
   "outputs": [],
   "source": [
    "df[\"clarity\"].unique()"
   ]
  },
  {
   "cell_type": "markdown",
   "metadata": {
    "id": "T70XCZOJroMo"
   },
   "source": [
    "## 💡 Conversion of the Cut, Color and Clarity will differ\n",
    "*   Cut is present in the dataset in the ideal order\n",
    "*   Color is alphabetically ordered letters and must be soirted in the data\n",
    "*   Clarity need a conversion table"
   ]
  },
  {
   "cell_type": "code",
   "execution_count": null,
   "metadata": {
    "colab": {
     "base_uri": "https://localhost:8080/",
     "height": 423
    },
    "executionInfo": {
     "elapsed": 14,
     "status": "ok",
     "timestamp": 1700767533497,
     "user": {
      "displayName": "Jan Platoš",
      "userId": "17018338888827516123"
     },
     "user_tz": -60
    },
    "id": "2shtbzY-heE4",
    "outputId": "4af60325-5602-4e9a-b472-e6e10b7dfc34"
   },
   "outputs": [],
   "source": [
    "df[\"cut\"], unique_cut = pd.factorize(df[\"cut\"], sort=False)\n",
    "df[\"color\"], unique_color =  pd.factorize(df[\"color\"], sort=True)\n",
    "df[\"clarity\"].replace(to_replace={'IF':0, 'VVS1':1,'VVS2':2, 'VS1':3, 'VS2':4,'SI1':5, 'SI2':6, 'I1':7}, inplace=True)\n",
    "df"
   ]
  },
  {
   "cell_type": "markdown",
   "metadata": {
    "id": "uwp_PSNvsXxD"
   },
   "source": [
    "## Let's look on the distribution of the numerical values and histogram of the categorical ones"
   ]
  },
  {
   "cell_type": "code",
   "execution_count": null,
   "metadata": {
    "colab": {
     "base_uri": "https://localhost:8080/",
     "height": 542,
     "output_embedded_package_id": "1Ry8WVeElGMDR-VIbZZMtu3lqzgNbCqI1"
    },
    "executionInfo": {
     "elapsed": 5204,
     "status": "ok",
     "timestamp": 1700767538691,
     "user": {
      "displayName": "Jan Platoš",
      "userId": "17018338888827516123"
     },
     "user_tz": -60
    },
    "id": "av6tuZqsH8x9",
    "outputId": "52cf5de6-4302-4adb-d9f1-9af40724025c"
   },
   "outputs": [],
   "source": [
    "px.box(df, y=[\"carat\",\"depth\", \"table\"])"
   ]
  },
  {
   "cell_type": "code",
   "execution_count": null,
   "metadata": {
    "colab": {
     "base_uri": "https://localhost:8080/",
     "height": 542
    },
    "executionInfo": {
     "elapsed": 9,
     "status": "ok",
     "timestamp": 1700767538691,
     "user": {
      "displayName": "Jan Platoš",
      "userId": "17018338888827516123"
     },
     "user_tz": -60
    },
    "id": "qM1Y3Lh7lhtF",
    "outputId": "00d66216-55f3-41d4-e49a-8a1ab1377aaa"
   },
   "outputs": [],
   "source": [
    "px.histogram(df, x=[\"cut\", \"color\", \"clarity\"])"
   ]
  },
  {
   "cell_type": "code",
   "execution_count": null,
   "metadata": {
    "colab": {
     "base_uri": "https://localhost:8080/",
     "height": 542
    },
    "executionInfo": {
     "elapsed": 2327,
     "status": "ok",
     "timestamp": 1700767541013,
     "user": {
      "displayName": "Jan Platoš",
      "userId": "17018338888827516123"
     },
     "user_tz": -60
    },
    "id": "apzUpCUWMQFq",
    "outputId": "0655ad43-d234-4ddc-a8ca-6974711343ff"
   },
   "outputs": [],
   "source": [
    "px.scatter_matrix(df, dimensions=[\"carat\",\"depth\", \"table\"], color=\"price\")"
   ]
  },
  {
   "cell_type": "markdown",
   "metadata": {
    "id": "XYsJ-nbAst_1"
   },
   "source": [
    "## A parallel coordinate plot is sometime hard to interpret\n",
    "* 💡 Presence of the categorical data may hide the basic trends\n",
    "* As may be seen, the highest price is not always for heaviest diamonds or most clear"
   ]
  },
  {
   "cell_type": "code",
   "execution_count": null,
   "metadata": {
    "colab": {
     "base_uri": "https://localhost:8080/",
     "height": 542
    },
    "executionInfo": {
     "elapsed": 19,
     "status": "ok",
     "timestamp": 1700767541014,
     "user": {
      "displayName": "Jan Platoš",
      "userId": "17018338888827516123"
     },
     "user_tz": -60
    },
    "id": "GF07zvpDONTj",
    "outputId": "9a87d60b-4b35-4c66-d628-0a06ab9919de"
   },
   "outputs": [],
   "source": [
    "px.parallel_coordinates(df, color=\"price\", dimensions=[\"carat\",\"cut\", \"color\", \"clarity\", \"depth\", \"table\"])"
   ]
  },
  {
   "cell_type": "code",
   "execution_count": null,
   "metadata": {
    "colab": {
     "base_uri": "https://localhost:8080/",
     "height": 542
    },
    "executionInfo": {
     "elapsed": 1266,
     "status": "ok",
     "timestamp": 1700768426902,
     "user": {
      "displayName": "Jan Platoš",
      "userId": "17018338888827516123"
     },
     "user_tz": -60
    },
    "id": "hbTgR34GsoMB",
    "outputId": "4b69f4db-d875-4a80-f898-754e741d2bda"
   },
   "outputs": [],
   "source": [
    "px.parallel_coordinates(df, color=\"price\", dimensions=[\"carat\", \"depth\", \"table\"])"
   ]
  },
  {
   "cell_type": "markdown",
   "metadata": {
    "id": "JTnaTuApSs2W"
   },
   "source": [
    "# 🚀 Regression of the data\n",
    "* Split the datasets into `X` input matrix and `y` output vector"
   ]
  },
  {
   "cell_type": "code",
   "execution_count": null,
   "metadata": {
    "executionInfo": {
     "elapsed": 13,
     "status": "ok",
     "timestamp": 1700767541014,
     "user": {
      "displayName": "Jan Platoš",
      "userId": "17018338888827516123"
     },
     "user_tz": -60
    },
    "id": "8GjN0d1IS9sW"
   },
   "outputs": [],
   "source": [
    "X = df.drop(columns=[\"price\"]).values\n",
    "y = df[\"price\"].values"
   ]
  },
  {
   "cell_type": "code",
   "execution_count": null,
   "metadata": {
    "colab": {
     "base_uri": "https://localhost:8080/"
    },
    "executionInfo": {
     "elapsed": 14,
     "status": "ok",
     "timestamp": 1700767541015,
     "user": {
      "displayName": "Jan Platoš",
      "userId": "17018338888827516123"
     },
     "user_tz": -60
    },
    "id": "BVTXIl8HUXFN",
    "outputId": "c87f624b-68b9-4ff6-8bbe-31923d8caf58"
   },
   "outputs": [],
   "source": [
    "X.shape, y.shape"
   ]
  },
  {
   "cell_type": "markdown",
   "metadata": {
    "id": "ue_RKz5_VrUG"
   },
   "source": [
    "# Split the dataset into training and testing subsets"
   ]
  },
  {
   "cell_type": "code",
   "execution_count": null,
   "metadata": {
    "executionInfo": {
     "elapsed": 11,
     "status": "ok",
     "timestamp": 1700767541015,
     "user": {
      "displayName": "Jan Platoš",
      "userId": "17018338888827516123"
     },
     "user_tz": -60
    },
    "id": "6F-fCsAPVy5v"
   },
   "outputs": [],
   "source": [
    "X_train, X_test, y_train, y_test = train_test_split(X, y, test_size=0.25, random_state=42)"
   ]
  },
  {
   "cell_type": "code",
   "execution_count": null,
   "metadata": {
    "colab": {
     "base_uri": "https://localhost:8080/"
    },
    "executionInfo": {
     "elapsed": 11,
     "status": "ok",
     "timestamp": 1700767541015,
     "user": {
      "displayName": "Jan Platoš",
      "userId": "17018338888827516123"
     },
     "user_tz": -60
    },
    "id": "lQO4LlBdWXCi",
    "outputId": "0ec88978-2772-4bf3-f0bc-02ae8be57038"
   },
   "outputs": [],
   "source": [
    "X_train.shape, y_train.shape, X_test.shape, y_test.shape"
   ]
  },
  {
   "cell_type": "markdown",
   "metadata": {
    "id": "_gK6cuqUXfpT"
   },
   "source": [
    "# Let's build the models\n",
    "* 💡 Try KNeighborsClassifier, GaussianNB, DecisionTreeClassifier, RandomForrest and MultiLayerPerceptron aka Neural network"
   ]
  },
  {
   "cell_type": "code",
   "execution_count": null,
   "metadata": {
    "executionInfo": {
     "elapsed": 9,
     "status": "ok",
     "timestamp": 1700767541015,
     "user": {
      "displayName": "Jan Platoš",
      "userId": "17018338888827516123"
     },
     "user_tz": -60
    },
    "id": "FXxdQ3jxXFYd"
   },
   "outputs": [],
   "source": [
    "models = [\n",
    "    [\"KNN(3)\", KNeighborsRegressor(3)],\n",
    "    [\"KNN(5)\", KNeighborsRegressor(5)],\n",
    "    [\"KNN(7)\", KNeighborsRegressor(7)],\n",
    "    [\"DecisionTree\", DecisionTreeRegressor()],\n",
    "    [\"RandomForrest(10)\", RandomForestRegressor(10)],\n",
    "    [\"RandomForrest(20)\", RandomForestRegressor(20)],\n",
    "    [\"RandomForrest(50)\", RandomForestRegressor(50)],\n",
    "    [\"RandomForrest(100)\", RandomForestRegressor(100)],\n",
    "    [\"MLP(10)\", MLPRegressor(10)],\n",
    "    [\"MLP(20)\", MLPRegressor(20)],\n",
    "    [\"MLP(50)\", MLPRegressor(50)],\n",
    "    [\"MLP(100)\", MLPRegressor(100)],\n",
    "    [\"MLP(200)\", MLPRegressor(200)],\n",
    "]"
   ]
  },
  {
   "cell_type": "code",
   "execution_count": null,
   "metadata": {
    "colab": {
     "base_uri": "https://localhost:8080/"
    },
    "executionInfo": {
     "elapsed": 311461,
     "status": "ok",
     "timestamp": 1700767852467,
     "user": {
      "displayName": "Jan Platoš",
      "userId": "17018338888827516123"
     },
     "user_tz": -60
    },
    "id": "n-gaTxZgYa8A",
    "outputId": "14ad1f81-3d78-44b7-ba8f-4a637d939fa0"
   },
   "outputs": [],
   "source": [
    "print(\"                          Train                          Test\")\n",
    "print(\"                          MAE        MSE      MAPE       MAE        MSE      MAPE\")\n",
    "for name, model in models:\n",
    "  model.fit(X_train, y_train)\n",
    "  train_predicted = model.predict(X_train)\n",
    "  test_predicted = model.predict(X_test)\n",
    "  mae_train = mean_absolute_error(y_train, train_predicted)\n",
    "  mae_test = mean_absolute_error(y_test, test_predicted)\n",
    "  mse_train = mean_squared_error(y_train, train_predicted)\n",
    "  mse_test = mean_squared_error(y_test, test_predicted)\n",
    "  mape_train = mean_absolute_percentage_error(y_train, train_predicted)\n",
    "  mape_test = mean_absolute_percentage_error(y_test, test_predicted)\n",
    "  print(f\"{name:20s}  {mae_train:7.1f}    {mse_train:7.0f}  {100*mape_train:7.1f}%   {mae_test:7.1f}    {mse_test:7.0f}  {100*mape_test:7.1f}%\")"
   ]
  },
  {
   "cell_type": "markdown",
   "metadata": {
    "id": "xyxkpe0Mbf1v"
   },
   "source": [
    "## Let's check the scaled version of the dataset"
   ]
  },
  {
   "cell_type": "code",
   "execution_count": null,
   "metadata": {
    "executionInfo": {
     "elapsed": 24,
     "status": "ok",
     "timestamp": 1700767852468,
     "user": {
      "displayName": "Jan Platoš",
      "userId": "17018338888827516123"
     },
     "user_tz": -60
    },
    "id": "x_WNNgjCbeer"
   },
   "outputs": [],
   "source": [
    "scaler = MinMaxScaler()\n",
    "scaler.fit(X_train)\n",
    "\n",
    "sX_train = scaler.transform(X_train)\n",
    "sX_test = scaler.transform(X_test)"
   ]
  },
  {
   "cell_type": "code",
   "execution_count": null,
   "metadata": {
    "colab": {
     "base_uri": "https://localhost:8080/"
    },
    "executionInfo": {
     "elapsed": 298661,
     "status": "ok",
     "timestamp": 1700768151107,
     "user": {
      "displayName": "Jan Platoš",
      "userId": "17018338888827516123"
     },
     "user_tz": -60
    },
    "id": "Rv869mvmcIz8",
    "outputId": "ea67a425-3945-403d-ef4d-b9a882d3a5a5"
   },
   "outputs": [],
   "source": [
    "print(\"                          Train                          Test\")\n",
    "print(\"                          MAE        MSE      MAPE       MAE        MSE      MAPE\")\n",
    "for name, model in models:\n",
    "  model.fit(sX_train, y_train)\n",
    "  train_predicted = model.predict(sX_train)\n",
    "  test_predicted = model.predict(sX_test)\n",
    "  mae_train = mean_absolute_error(y_train, train_predicted)\n",
    "  mae_test = mean_absolute_error(y_test, test_predicted)\n",
    "  mse_train = mean_squared_error(y_train, train_predicted)\n",
    "  mse_test = mean_squared_error(y_test, test_predicted)\n",
    "  mape_train = mean_absolute_percentage_error(y_train, train_predicted)\n",
    "  mape_test = mean_absolute_percentage_error(y_test, test_predicted)\n",
    "  print(f\"{name:20s}  {mae_train:7.1f}    {mse_train:7.0f}  {100*mape_train:7.1f}%   {mae_test:7.1f}    {mse_test:7.0f}  {100*mape_test:7.1f}%\")"
   ]
  },
  {
   "cell_type": "markdown",
   "metadata": {
    "id": "-jOZDGGi4iA9"
   },
   "source": [
    "## ⚡ Let's scale the `price` too\n",
    "* This may allow MLP to achieve a better results"
   ]
  },
  {
   "cell_type": "code",
   "execution_count": null,
   "metadata": {
    "executionInfo": {
     "elapsed": 14,
     "status": "ok",
     "timestamp": 1700768151109,
     "user": {
      "displayName": "Jan Platoš",
      "userId": "17018338888827516123"
     },
     "user_tz": -60
    },
    "id": "P00Haux5uA_6"
   },
   "outputs": [],
   "source": [
    "yscaler = MinMaxScaler()\n",
    "yscaler.fit(y_train.reshape((y_train.shape[0], 1)))\n",
    "sy_train = yscaler.transform(y_train.reshape((y_train.shape[0], 1))).ravel()\n",
    "sy_test = yscaler.transform(y_test.reshape((y_test.shape[0], 1))).ravel()"
   ]
  },
  {
   "cell_type": "code",
   "execution_count": null,
   "metadata": {
    "colab": {
     "base_uri": "https://localhost:8080/"
    },
    "executionInfo": {
     "elapsed": 43562,
     "status": "ok",
     "timestamp": 1700768194659,
     "user": {
      "displayName": "Jan Platoš",
      "userId": "17018338888827516123"
     },
     "user_tz": -60
    },
    "id": "AHq-A_wW1902",
    "outputId": "e59ec800-48a6-41c7-ac3b-92200de8b9ab"
   },
   "outputs": [],
   "source": [
    "print(\"                          Train                          Test\")\n",
    "print(\"                          MAE        MSE      MAPE       MAE        MSE      MAPE\")\n",
    "for name, model in models:\n",
    "  model.fit(sX_train, sy_train)\n",
    "  train_predicted = model.predict(sX_train)\n",
    "  test_predicted = model.predict(sX_test)\n",
    "  train_predicted = yscaler.inverse_transform(train_predicted.reshape(train_predicted.shape[0], 1)).ravel()\n",
    "  test_predicted = yscaler.inverse_transform(test_predicted.reshape(test_predicted.shape[0], 1)).ravel()\n",
    "  mae_train = mean_absolute_error(y_train, train_predicted)\n",
    "  mae_test = mean_absolute_error(y_test, test_predicted)\n",
    "  mse_train = mean_squared_error(y_train, train_predicted)\n",
    "  mse_test = mean_squared_error(y_test, test_predicted)\n",
    "  mape_train = mean_absolute_percentage_error(y_train, train_predicted)\n",
    "  mape_test = mean_absolute_percentage_error(y_test, test_predicted)\n",
    "  print(f\"{name:20s}  {mae_train:7.1f}    {mse_train:7.0f}  {100*mape_train:7.1f}%   {mae_test:7.1f}    {mse_test:7.0f}  {100*mape_test:7.1f}%\")"
   ]
  },
  {
   "cell_type": "markdown",
   "metadata": {
    "id": "vPKd24h06zP2"
   },
   "source": [
    "## 💡 Let's try a different approach\n",
    "* Generate dummies (binarization) of all categorical data and see the effect on the prediction of different models"
   ]
  },
  {
   "cell_type": "code",
   "execution_count": null,
   "metadata": {
    "executionInfo": {
     "elapsed": 14,
     "status": "ok",
     "timestamp": 1700768194661,
     "user": {
      "displayName": "Jan Platoš",
      "userId": "17018338888827516123"
     },
     "user_tz": -60
    },
    "id": "abdemwDq5RHb"
   },
   "outputs": [],
   "source": [
    "df = pd.read_csv(\"https://raw.githubusercontent.com/rasvob/VSB-FEI-Fundamentals-of-Machine-Learning-Exercises/master/datasets/diamonds.csv\").drop(columns=[\"x\", \"y\", \"z\"])\n",
    "df = pd.get_dummies(df)\n",
    "\n",
    "X = df.drop(columns=[\"price\"]).values\n",
    "y = df[\"price\"].values\n",
    "\n",
    "X_train, X_test, y_train, y_test = train_test_split(X, y, test_size=0.25, random_state=42)\n",
    "\n",
    "scaler = MinMaxScaler()\n",
    "scaler.fit(X_train)\n",
    "\n",
    "sX_train = scaler.transform(X_train)\n",
    "sX_test = scaler.transform(X_test)\n",
    "\n",
    "yscaler = MinMaxScaler()\n",
    "yscaler.fit(y_train.reshape((y_train.shape[0], 1)))\n",
    "sy_train = yscaler.transform(y_train.reshape((y_train.shape[0], 1))).ravel()\n",
    "sy_test = yscaler.transform(y_test.reshape((y_test.shape[0], 1))).ravel()"
   ]
  },
  {
   "cell_type": "code",
   "execution_count": null,
   "metadata": {
    "colab": {
     "base_uri": "https://localhost:8080/",
     "height": 813,
     "output_embedded_package_id": "1vof1cB7on_IxtPR_8yb5prHC-L9HVBwX"
    },
    "executionInfo": {
     "elapsed": 90290,
     "status": "ok",
     "timestamp": 1700768284939,
     "user": {
      "displayName": "Jan Platoš",
      "userId": "17018338888827516123"
     },
     "user_tz": -60
    },
    "id": "LsyN4E-B6W-0",
    "outputId": "fcf589e8-79b1-48e5-8422-c874094c293a"
   },
   "outputs": [],
   "source": [
    "print(\"                          Train                          Test\")\n",
    "print(\"                          MAE        MSE      MAPE       MAE        MSE      MAPE\")\n",
    "test_results = {'GroundTruth': y_test}\n",
    "for name, model in models:\n",
    "  model.fit(sX_train, sy_train)\n",
    "  train_predicted = model.predict(sX_train)\n",
    "  test_predicted = model.predict(sX_test)\n",
    "  train_predicted = yscaler.inverse_transform(train_predicted.reshape(train_predicted.shape[0], 1)).ravel()\n",
    "  test_predicted = yscaler.inverse_transform(test_predicted.reshape(test_predicted.shape[0], 1)).ravel()\n",
    "  test_results[name] = test_predicted\n",
    "  mae_train = mean_absolute_error(y_train, train_predicted)\n",
    "  mae_test = mean_absolute_error(y_test, test_predicted)\n",
    "  mse_train = mean_squared_error(y_train, train_predicted)\n",
    "  mse_test = mean_squared_error(y_test, test_predicted)\n",
    "  mape_train = mean_absolute_percentage_error(y_train, train_predicted)\n",
    "  mape_test = mean_absolute_percentage_error(y_test, test_predicted)\n",
    "  print(f\"{name:20s}  {mae_train:7.1f}    {mse_train:7.0f}  {100*mape_train:7.1f}%   {mae_test:7.1f}    {mse_test:7.0f}  {100*mape_test:7.1f}%\")\n",
    "  # break;\n",
    "px.line(pd.DataFrame(data=test_results))"
   ]
  }
 ],
 "metadata": {
  "colab": {
   "authorship_tag": "ABX9TyP8yZo317fKRkpTGiMcvjmp",
   "provenance": [
    {
     "file_id": "1y0ZtMobq5Y_NRo7NlGedQqKuAnuP9Dgy",
     "timestamp": 1700597220902
    }
   ]
  },
  "kernelspec": {
   "display_name": "Python 3 (ipykernel)",
   "language": "python",
   "name": "python3"
  },
  "language_info": {
   "codemirror_mode": {
    "name": "ipython",
    "version": 3
   },
   "file_extension": ".py",
   "mimetype": "text/x-python",
   "name": "python",
   "nbconvert_exporter": "python",
   "pygments_lexer": "ipython3",
   "version": "3.12.0"
  }
 },
 "nbformat": 4,
 "nbformat_minor": 4
}
