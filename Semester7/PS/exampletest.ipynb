{
 "cells": [
  {
   "cell_type": "code",
   "execution_count": 2,
   "id": "e27a9359",
   "metadata": {
    "vscode": {
     "languageId": "r"
    }
   },
   "outputs": [
    {
     "data": {
      "text/html": [
       "0.1"
      ],
      "text/latex": [
       "0.1"
      ],
      "text/markdown": [
       "0.1"
      ],
      "text/plain": [
       "[1] 0.1"
      ]
     },
     "metadata": {},
     "output_type": "display_data"
    }
   ],
   "source": [
    "B <- 0.4\n",
    "H <- 0.5\n",
    "D <- 1 - (B + H)\n",
    "D\n"
   ]
  },
  {
   "cell_type": "code",
   "execution_count": 4,
   "id": "ce70b3c3",
   "metadata": {
    "vscode": {
     "languageId": "r"
    }
   },
   "outputs": [
    {
     "data": {
      "text/html": [
       "0.031"
      ],
      "text/latex": [
       "0.031"
      ],
      "text/markdown": [
       "0.031"
      ],
      "text/plain": [
       "[1] 0.031"
      ]
     },
     "metadata": {},
     "output_type": "display_data"
    }
   ],
   "source": [
    "UB <- 0.99\n",
    "UH <- 0.95\n",
    "UD <- 0.98\n",
    "\n",
    "NU <- (1 - UB) * B + (1 - UH) * H + (1 - UD) * D\n",
    "NU"
   ]
  },
  {
   "cell_type": "code",
   "execution_count": 6,
   "id": "b0a2ff87",
   "metadata": {
    "vscode": {
     "languageId": "r"
    }
   },
   "outputs": [
    {
     "data": {
      "text/html": [
       "0.129032258064516"
      ],
      "text/latex": [
       "0.129032258064516"
      ],
      "text/markdown": [
       "0.129032258064516"
      ],
      "text/plain": [
       "[1] 0.1290323"
      ]
     },
     "metadata": {},
     "output_type": "display_data"
    }
   ],
   "source": [
    "# P(B|neg U)\n",
    "BNU <- ((1 - UB) * B) / (NU)\n",
    "BNU"
   ]
  }
 ],
 "metadata": {
  "kernelspec": {
   "display_name": "R",
   "language": "R",
   "name": "ir"
  },
  "language_info": {
   "codemirror_mode": "r",
   "file_extension": ".r",
   "mimetype": "text/x-r-source",
   "name": "R",
   "pygments_lexer": "r",
   "version": "4.5.1"
  }
 },
 "nbformat": 4,
 "nbformat_minor": 5
}
