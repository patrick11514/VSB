{
 "cells": [
  {
   "cell_type": "markdown",
   "metadata": {},
   "source": [
    "# Cvičení 4 - Spojitá náhodná veličina\n",
    "## Michal Béreš, Martina Litschmannová, Adéla Vrtková\n",
    "---"
   ]
  },
  {
   "cell_type": "markdown",
   "metadata": {},
   "source": [
    "**Obsah tohoto skriptu je pouze jako doplňující ilustrace k cvičení, není nutno znát ke zkoušce. Důležité je to umět spočítat ručně.**\n",
    "## Numerická integrace v Rku\n",
    "Rkovská funkce **integrate**<br>\n",
    "integrate(f, a, b) = $\\int_{a}^{b}f(x)dx$\n",
    "- **f** je Rková funkce (námi definovaná) která má jeden vstupní argument - vektor hodnot ve kterém má vrátit své hodnoty\n",
    "- **a** dolní integrační mez\n",
    "- **b** horní integrační mez"
   ]
  },
  {
   "cell_type": "code",
   "execution_count": null,
   "metadata": {
    "vscode": {
     "languageId": "r"
    }
   },
   "outputs": [],
   "source": [
    "f <- function(x) {\n",
    "    return(x * x)\n",
    "} # x^2\n",
    "a <- -1\n",
    "b <- 2\n",
    "integrate(f, a, b)\n"
   ]
  },
  {
   "cell_type": "markdown",
   "metadata": {},
   "source": [
    "---\n",
    "# Příklady k procvičení\n",
    "---\n",
    "## Příklad 1.\n",
    "Náhodná veličina X má distribuční funkci<br>\n",
    "$F(x)=\\begin{cases}\n",
    "0    &      x \\leq 0 \\\\\n",
    "cx^2 &  0 < x \\leq 1 \\\\\n",
    "1    &  1 < x\n",
    "\\end{cases}$<br>\n",
    "Jaké hodnoty může nabývat konstanta c?"
   ]
  },
  {
   "cell_type": "code",
   "execution_count": null,
   "metadata": {
    "vscode": {
     "languageId": "r"
    }
   },
   "outputs": [],
   "source": [
    "# c = 1, ze spojitosti F(x)\n",
    "# cx^2 = 1 pro x = 1"
   ]
  },
  {
   "cell_type": "markdown",
   "metadata": {},
   "source": [
    "## Příklad 2.\n",
    "Rozdělení náhodné veličiny X je dáno hustotou<br>\n",
    "$f(x)=\\begin{cases}\n",
    "2x+2 & x \\in <-1;0> \\\\\n",
    "0    & x \\notin <-1;0>\n",
    "\\end{cases}$<br>\n",
    "Určete:\n",
    "\n",
    "**2. a)**\n",
    "$F(x)$,"
   ]
  },
  {
   "cell_type": "code",
   "execution_count": null,
   "metadata": {
    "vscode": {
     "languageId": "r"
    }
   },
   "outputs": [],
   "source": [
    "F.dist <- function(x) {\n",
    "    res <- x * x + 2 * x + 1 # x^2+2x+1\n",
    "    res[x < -1] <- 0 # 0 pro x<=0\n",
    "    res[x > 0] <- 1 # 1 pro x>1\n",
    "    return(res)\n",
    "}\n"
   ]
  },
  {
   "cell_type": "code",
   "execution_count": null,
   "metadata": {
    "vscode": {
     "languageId": "r"
    }
   },
   "outputs": [],
   "source": [
    "x <- seq(from = -2, to = 1, by = 0.01) # body na ose x\n",
    "FX <- F.dist(x) # hodnoty f(x)\n",
    "plot(x, FX, type = \"l\") # vykreslit tečky (cex je velikost)\n"
   ]
  },
  {
   "cell_type": "markdown",
   "metadata": {},
   "source": [
    "**2. b)** \n",
    "$P(−2 ≤ X ≤ −0.5), P(−2 ≤ X ≤ −1), P(X > 0.5), P(X = 0.3)$"
   ]
  },
  {
   "cell_type": "code",
   "execution_count": null,
   "metadata": {
    "vscode": {
     "languageId": "r"
    }
   },
   "outputs": [],
   "source": [
    "f.dens <- function(x) {\n",
    "    res <- 2 * x + 2\n",
    "    # pozor na x<-1 protože '<-' je v rku přiřazení\n",
    "    res[x < -1] <- 0 # 0 pro x<=0\n",
    "    res[x > 0] <- 0 # 1 pro x>1\n",
    "    return(res)\n",
    "}"
   ]
  },
  {
   "cell_type": "code",
   "execution_count": null,
   "metadata": {
    "vscode": {
     "languageId": "r"
    }
   },
   "outputs": [],
   "source": [
    "# P(−2 ≤ X ≤ −0.5)\n",
    "integrate(f.dens, -2, -0.5)$value\n",
    "integrate(f.dens, -1, -0.5)$value\n"
   ]
  },
  {
   "cell_type": "code",
   "execution_count": null,
   "metadata": {
    "vscode": {
     "languageId": "r"
    }
   },
   "outputs": [],
   "source": [
    "# P(−2 ≤ X ≤ −1)\n",
    "integrate(f.dens, -2, -1)$value\n"
   ]
  },
  {
   "cell_type": "code",
   "execution_count": null,
   "metadata": {
    "vscode": {
     "languageId": "r"
    }
   },
   "outputs": [],
   "source": [
    "# P(X > 0.5)\n",
    "integrate(f.dens, 0.5, 100)$value # tohle nebude vždy fungovat\n"
   ]
  },
  {
   "cell_type": "code",
   "execution_count": null,
   "metadata": {
    "vscode": {
     "languageId": "r"
    }
   },
   "outputs": [],
   "source": [
    "# P(X = 0.3)\n",
    "integrate(f.dens, 0.3, 0.3)$value\n",
    "# je jasné že tato pravděpodobnost je 0\n",
    "# odpovídá integrálu s a=b tedy s nulovou velikostí na ose x\n"
   ]
  },
  {
   "cell_type": "markdown",
   "metadata": {},
   "source": [
    "**2. c)**\n",
    "střední hodnotu, rozptyl a směrodatnou odchylku náhodné veličiny X."
   ]
  },
  {
   "cell_type": "code",
   "execution_count": null,
   "metadata": {
    "vscode": {
     "languageId": "r"
    }
   },
   "outputs": [],
   "source": [
    "# E(X)\n",
    "x_fx <- function(x) {\n",
    "    fx <- f.dens(x)\n",
    "    return(x * fx)\n",
    "}\n",
    "# integrujeme jen tam kde víme, že je f(x) nenulová\n",
    "E_X <- integrate(x_fx, -1, 0)$value\n",
    "E_X\n"
   ]
  },
  {
   "cell_type": "code",
   "execution_count": null,
   "metadata": {
    "vscode": {
     "languageId": "r"
    }
   },
   "outputs": [],
   "source": [
    "# E(X^2)\n",
    "xx_fx <- function(x) {\n",
    "    fx <- f.dens(x)\n",
    "    return(x * x * fx)\n",
    "}\n",
    "# integrujeme jen tam kde víme, že je f(x) nenulová\n",
    "E_XX <- integrate(xx_fx, -1, 0)$value\n",
    "E_XX\n"
   ]
  },
  {
   "cell_type": "code",
   "execution_count": null,
   "metadata": {
    "vscode": {
     "languageId": "r"
    }
   },
   "outputs": [],
   "source": [
    "# D(X)\n",
    "D_X <- E_XX - E_X^2\n",
    "D_X\n"
   ]
  },
  {
   "cell_type": "code",
   "execution_count": null,
   "metadata": {
    "vscode": {
     "languageId": "r"
    }
   },
   "outputs": [],
   "source": [
    "# sigma(x)\n",
    "std_X <- sqrt(D_X)\n",
    "std_X\n"
   ]
  },
  {
   "cell_type": "markdown",
   "metadata": {},
   "source": [
    "**2. d)**\n",
    "modus $\\hat{x}$"
   ]
  },
  {
   "cell_type": "code",
   "execution_count": null,
   "metadata": {
    "vscode": {
     "languageId": "r"
    }
   },
   "outputs": [],
   "source": [
    "# modus = 0\n"
   ]
  },
  {
   "cell_type": "markdown",
   "metadata": {},
   "source": [
    "**2. e)**\n",
    "medián $x_{0,5}$"
   ]
  },
  {
   "cell_type": "code",
   "execution_count": null,
   "metadata": {
    "vscode": {
     "languageId": "r"
    }
   },
   "outputs": [],
   "source": [
    "x <- seq(from = -2, to = 1, by = 0.001) # body na ose x\n",
    "FX <- F.dist(x)\n",
    "plot(x, FX, type = \"l\")\n",
    "lines(c(-2, 1), c(0.5, 0.5))\n"
   ]
  },
  {
   "cell_type": "markdown",
   "metadata": {},
   "source": [
    "## Příklad 3.\n",
    "Náhodná veličina $Y$ je definována jako: $Y = 3X+1$, kde $X$ je náhodná veličina z předcházejícího\n",
    "příkladu. Určete:\n",
    "\n",
    "\n",
    "**3. a)** \n",
    "$F_Y(y)$"
   ]
  },
  {
   "cell_type": "code",
   "execution_count": null,
   "metadata": {
    "vscode": {
     "languageId": "r"
    }
   },
   "outputs": [],
   "source": [
    "FY.dist <- function(y) {\n",
    "    # spočteno ze vztahu FY(y) = P(Y < y) = P(3X + 1 < y) = ...\n",
    "    x <- (y - 1) / 3\n",
    "    FY <- F.dist(x)\n",
    "    return(FY)\n",
    "}\n",
    "y <- seq(from = -3, to = 2, by = 0.001) # body na ose x\n",
    "FY <- FY.dist(y)\n",
    "plot(y, FY, type = \"l\")\n"
   ]
  },
  {
   "cell_type": "markdown",
   "metadata": {},
   "source": [
    "**3. b)** \n",
    "$f_Y(y)$"
   ]
  },
  {
   "cell_type": "code",
   "execution_count": null,
   "metadata": {
    "vscode": {
     "languageId": "r"
    }
   },
   "outputs": [],
   "source": [
    "# derivace F_Y\n",
    "fY.dens <- function(y) {\n",
    "    res <- 2 / 9 * (y + 2)\n",
    "    res[y < -2] <- 0 # 0 pro x<-2\n",
    "    res[y > 1] <- 0 # 1 pro x>1\n",
    "    return(res)\n",
    "}\n",
    "integrate(fY.dens, -2, 1)$value # kontrola celkového integrálu\n",
    "y <- seq(from = -3, to = 2, by = 0.001) # body na ose x\n",
    "fY <- fY.dens(y)\n",
    "plot(y, fY, cex = 0.2)\n"
   ]
  },
  {
   "cell_type": "markdown",
   "metadata": {},
   "source": [
    "**3. c)**\n",
    "$E(Y), D(Y), \\sigma(Y)$"
   ]
  },
  {
   "cell_type": "code",
   "execution_count": null,
   "metadata": {
    "vscode": {
     "languageId": "r"
    }
   },
   "outputs": [],
   "source": [
    "# E(Y)\n",
    "y_fy <- function(y) {\n",
    "    fy <- fY.dens(y)\n",
    "    return(y * fy)\n",
    "}\n",
    "# integrujeme jen tam kde víme, že je f(y) nenulová\n",
    "E_Y <- integrate(y_fy, -2, 1)$value\n",
    "E_Y\n",
    "0\n"
   ]
  },
  {
   "cell_type": "code",
   "execution_count": null,
   "metadata": {
    "vscode": {
     "languageId": "r"
    }
   },
   "outputs": [],
   "source": [
    "# alternativně\n",
    "E_Y <- 3 * E_X + 1\n",
    "E_Y\n"
   ]
  },
  {
   "cell_type": "code",
   "execution_count": null,
   "metadata": {
    "vscode": {
     "languageId": "r"
    }
   },
   "outputs": [],
   "source": [
    "# E(Y^2)\n",
    "yy_fy <- function(y) {\n",
    "    fy <- fY.dens(y)\n",
    "    return(y * y * fy)\n",
    "}\n",
    "# integrujeme jen tam kde víme, že je f(y) nenulová\n",
    "E_YY <- integrate(yy_fy, -2, 1)$value\n",
    "E_YY\n",
    "1 / 2\n"
   ]
  },
  {
   "cell_type": "code",
   "execution_count": null,
   "metadata": {
    "vscode": {
     "languageId": "r"
    }
   },
   "outputs": [],
   "source": [
    "# D(Y)\n",
    "D_Y <- E_YY - E_Y^2\n",
    "D_Y\n",
    "1 / 2\n"
   ]
  },
  {
   "cell_type": "code",
   "execution_count": null,
   "metadata": {
    "vscode": {
     "languageId": "r"
    }
   },
   "outputs": [],
   "source": [
    "# alternativně\n",
    "D_Y <- 3^2 * D_X\n",
    "D_Y\n"
   ]
  },
  {
   "cell_type": "code",
   "execution_count": null,
   "metadata": {
    "vscode": {
     "languageId": "r"
    }
   },
   "outputs": [],
   "source": [
    "# sigma(Y)\n",
    "sqrt(D_Y)\n",
    "sqrt(2) / 2\n"
   ]
  },
  {
   "cell_type": "markdown",
   "metadata": {},
   "source": [
    "## Příklad 4.\n",
    "Spočtěte $\\omega$ takové, aby náhodná veličina $X$ s hustotou pravděpodobnosti:<br>\n",
    "$f(x)=\\begin{cases}\n",
    "0 & x < 0 \\\\\n",
    "3e^{-3x}    & x \\geq 0\n",
    "\\end{cases}$ <br>\n",
    "byla s pravděpodobností 0.3 větší než $\\omega$"
   ]
  },
  {
   "cell_type": "code",
   "execution_count": null,
   "metadata": {
    "vscode": {
     "languageId": "r"
    }
   },
   "outputs": [],
   "source": [
    "F.dist <- function(x) {\n",
    "    res <- 1 - exp(-3 * x)\n",
    "    res[x < 0] <- 0 # 0 pro x<=0\n",
    "    return(res)\n",
    "}\n"
   ]
  },
  {
   "cell_type": "code",
   "execution_count": null,
   "metadata": {
    "vscode": {
     "languageId": "r"
    }
   },
   "outputs": [],
   "source": [
    "x <- seq(from = -1, to = 3, by = 0.001) # body na ose x\n",
    "FX <- F.dist(x)\n",
    "plot(x, FX, type = \"l\")\n",
    "lines(c(-1, 3), c(0.7, 0.7))\n"
   ]
  },
  {
   "cell_type": "code",
   "execution_count": null,
   "metadata": {
    "vscode": {
     "languageId": "r"
    }
   },
   "outputs": [],
   "source": [
    "x[FX >= 0.7][1]\n"
   ]
  },
  {
   "cell_type": "code",
   "execution_count": null,
   "metadata": {
    "vscode": {
     "languageId": "r"
    }
   },
   "outputs": [],
   "source": [
    "-1 / 3 * log(0.3)\n"
   ]
  }
 ],
 "metadata": {
  "kernelspec": {
   "display_name": "R",
   "language": "R",
   "name": "ir"
  },
  "language_info": {
   "codemirror_mode": "r",
   "file_extension": ".r",
   "mimetype": "text/x-r-source",
   "name": "R",
   "pygments_lexer": "r",
   "version": "4.3.2"
  }
 },
 "nbformat": 4,
 "nbformat_minor": 4
}
