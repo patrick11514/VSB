{
 "cells": [
  {
   "cell_type": "markdown",
   "metadata": {},
   "source": [
    "# Cvičení 1 - Kombinatorika\n",
    "## Adéla Vrtková, Michal Béreš, Martina Litschmannová"
   ]
  },
  {
   "cell_type": "markdown",
   "metadata": {},
   "source": [
    "## Variace\n",
    "\n",
    "V(n,k) - variace bez opakování, první argument bude celkový počet entit, druhý argument velikost výběru"
   ]
  },
  {
   "cell_type": "code",
   "execution_count": null,
   "metadata": {
    "vscode": {
     "languageId": "r"
    }
   },
   "outputs": [],
   "source": [
    "# funkce se vytváří příkazem fucntion, je to objekt jehož jméno je dáno až proměnnou\n",
    "# do které tento objekt přiřadím\n",
    "variace <- function(n, k) { # zde zadávám počet parametrů a jejich jména\n",
    "    # celé tělo funkce je uzavřeno mezi závorkami {...}\n",
    "    citatel <- factorial(n) # faktoriál v originálním Rku existuje tak jej použijeme\n",
    "    jmenovatel <- factorial(n - k)\n",
    "    return(citatel / jmenovatel) # to co funkce vrátí se dává do příkazu return(...)\n",
    "}\n"
   ]
  },
  {
   "cell_type": "markdown",
   "metadata": {},
   "source": [
    "V*(n,k) - variace s opakováním"
   ]
  },
  {
   "cell_type": "code",
   "execution_count": null,
   "metadata": {
    "vscode": {
     "languageId": "r"
    }
   },
   "outputs": [],
   "source": [
    "variace_opak <- function(n, k) {\n",
    "  return(n^k)\n",
    "}\n"
   ]
  },
  {
   "cell_type": "markdown",
   "metadata": {},
   "source": [
    "## Permutace\n",
    "\n",
    "P(n)=V(n,n) - permutace"
   ]
  },
  {
   "cell_type": "code",
   "execution_count": null,
   "metadata": {
    "vscode": {
     "languageId": "r"
    }
   },
   "outputs": [],
   "source": [
    "permutace <- function(n) {\n",
    "  return(variace(n, n))\n",
    "}\n"
   ]
  },
  {
   "cell_type": "markdown",
   "metadata": {},
   "source": [
    "P*(n1,n2,n3,....,nk) - permutace s opakováním, vstup bude vektor s jednotlivými počty unikátních entit"
   ]
  },
  {
   "cell_type": "code",
   "execution_count": null,
   "metadata": {
    "vscode": {
     "languageId": "r"
    }
   },
   "outputs": [],
   "source": [
    "permutace_opak <- function(vec_n) { # vec_n je vektro počtů hodnot př.: vec_n = c(2,2,2,4,3)\n",
    "    n <- sum(vec_n) # spočteme kolik máme hodnot celkem\n",
    "    res_temp <- factorial(n) # jejich faktoriál = hodnota v čitateli\n",
    "    # jednoduchý cyklus začíná příkazem for, pak v závorkách následuje název iterátoru a z\n",
    "    # jakého seznamu bude brán\n",
    "    for (pocet in vec_n) # pocet je iterátor a postupně bude nabývat hodnot z vektoru vec_n\n",
    "    {\n",
    "        # postupně dělíme faktoriálem každého počtu unikátních entit\n",
    "        res_temp <- res_temp / factorial(pocet)\n",
    "    }\n",
    "    return(res_temp)\n",
    "}\n"
   ]
  },
  {
   "cell_type": "markdown",
   "metadata": {},
   "source": [
    "## Kombinace\n",
    "\n",
    "C(n,k) - kombinace"
   ]
  },
  {
   "cell_type": "code",
   "execution_count": null,
   "metadata": {
    "vscode": {
     "languageId": "r"
    }
   },
   "outputs": [],
   "source": [
    "kombinace <- function(n, k) {\n",
    "  return(choose(n, k)) # funkce for kombinace už existuje v Rku a jmenuje se choose\n",
    "}\n"
   ]
  },
  {
   "cell_type": "markdown",
   "metadata": {},
   "source": [
    "C*(n,k) - kombinace s opakováním"
   ]
  },
  {
   "cell_type": "code",
   "execution_count": null,
   "metadata": {
    "vscode": {
     "languageId": "r"
    }
   },
   "outputs": [],
   "source": [
    "kombinace_opak <- function(n, k) {\n",
    "  return(choose(n + k - 1, k)) # použijeme známý vzorec\n",
    "}\n"
   ]
  },
  {
   "cell_type": "markdown",
   "metadata": {},
   "source": [
    "# Úlohy na cvičení\n",
    "\n",
    "## Příklad 1.\n",
    "\n",
    "V prodejně mají k dispozici tři typy zámků. Pro otevření prvního\n",
    "zámku je nutno zmáčknout čtyři z deseti tlačítek označených číslicemi 0 až 9. (Na pořadí nezáleží - tlačítka zůstávají zmáčknuta.)\n",
    "Druhý zámek se otevře pokud zmáčkneme šest tlačítek z deseti.\n",
    "Pro otevření třetího zámku je nutno nastavit správnou kombinaci\n",
    "na čtyřech kotoučích. Který z těchto zámků nejlépé chrání před\n",
    "zloději?"
   ]
  },
  {
   "cell_type": "code",
   "execution_count": null,
   "metadata": {
    "vscode": {
     "languageId": "r"
    }
   },
   "outputs": [],
   "source": [
    "z1 <- kombinace(10, 4)\n",
    "z2 <- kombinace(10, 6)\n",
    "z3 <- variace_opak(10, 4)\n",
    "paste(\"pocet kombinaci: \", z1, \",\", z2, \",\", z3)\n",
    "paste(\"pradvedepodobnost nahodnehootevreni: \", 1 / z1, \",\", 1 / z2, \",\", 1 / z3)\n"
   ]
  },
  {
   "cell_type": "markdown",
   "metadata": {},
   "source": [
    "## Příklad 2.\n",
    "\n",
    "V prodejně nabízejí dva druhy zamykání kufříku. První kufřík se zamyká šifrou, která se skládá\n",
    "z šesti číslic. Druhý kufřík se zamyká dvěma zámky, které se otevírají současně. Šifra každého\n",
    "z nich se skládá ze tří číslic. Určete pro každý kufřík pravděpodobnost otevření zlodějem při\n",
    "prvním pokusu. Který typ zámku je bezpečnější?"
   ]
  },
  {
   "cell_type": "code",
   "execution_count": null,
   "metadata": {
    "vscode": {
     "languageId": "r"
    }
   },
   "outputs": [],
   "source": [
    "z1 <- variace_opak(10, 6)\n",
    "z2 <- variace_opak(10, 3) * variace_opak(10, 3)\n",
    "z2_v2 <- variace_opak(10, 3) + variace_opak(10, 3)\n",
    "paste(\"pocet kombinaci: \", z1, \",\", z2, \",druha varianta - \", z2_v2)\n"
   ]
  },
  {
   "cell_type": "markdown",
   "metadata": {},
   "source": [
    "## Příklad 3.\n",
    "\n",
    "V urně je 40 koulí - 2 červené a 38 bílých. Z urny náhodně vytáhneme 2 koule. S jakou pravděpodobností budou obě červené?"
   ]
  },
  {
   "cell_type": "code",
   "execution_count": null,
   "metadata": {
    "vscode": {
     "languageId": "r"
    }
   },
   "outputs": [],
   "source": [
    "poc_moz <- kombinace(40, 2)\n",
    "poc_priz <- kombinace(2, 2)\n",
    "prob <- poc_priz / poc_moz\n",
    "paste(\"pravdepodobnost je: \", prob)\n"
   ]
  },
  {
   "cell_type": "markdown",
   "metadata": {},
   "source": [
    "## Příklad 4.\n",
    "\n",
    "Student si měl ke zkoušce připravit odpovědi na 40 otázek. Na dvě otázky, které mu dal zkoušející, neuměl odpovědět a tak řekl „To mám smůlu! To jsou jediné dvě otázky, na které neumím odpovědět.“ S jakou pravděpodobností mluví pravdu?"
   ]
  },
  {
   "cell_type": "code",
   "execution_count": null,
   "metadata": {
    "vscode": {
     "languageId": "r"
    }
   },
   "outputs": [],
   "source": []
  },
  {
   "cell_type": "markdown",
   "metadata": {},
   "source": [
    "## Příklad 5. \n",
    "\n",
    "Test z chemie žák složí, pokud v seznamu 40 chemických sloučenin podtrhne jediné dva aldehydy, které v seznamu jsou. Jaká je pravděpodobnost, že test složí žák, který provede výběr\n",
    "sloučenin náhodně?"
   ]
  },
  {
   "cell_type": "code",
   "execution_count": null,
   "metadata": {
    "vscode": {
     "languageId": "r"
    }
   },
   "outputs": [],
   "source": []
  },
  {
   "cell_type": "markdown",
   "metadata": {},
   "source": [
    "## Příklad 6.\n",
    "\n",
    "Ze zahraničí se vracela skupina 40 turistů a mezi nimi byli 2 pašeráci. Na hranici celník 2 turisty\n",
    "vyzval k osobní prohlídce a ukázalo se, že oba dva jsou pašeráci. Zbylí turisté na to reagovali:\n",
    "„Celník měl opravdu štěstí!“, „Pašeráky někdo udal!“, . . .. Jak se postavit k těmto výrokům?\n",
    "Je oprávněné podezření, že pašeráky někdo udal?"
   ]
  },
  {
   "cell_type": "code",
   "execution_count": null,
   "metadata": {
    "vscode": {
     "languageId": "r"
    }
   },
   "outputs": [],
   "source": []
  },
  {
   "cell_type": "markdown",
   "metadata": {},
   "source": [
    "## Příklad 7.\n",
    "\n",
    "Z urny se třemi koulemi, dvěma červenými a jednou bílou, budou současně vybrány dvě koule.\n",
    "Student a učitel uzavřou sázku. Pokud budou obě koule stejné barvy, vyhraje student. Pokud\n",
    "budou mít koule různou barvu, vyhraje učitel. Je hra férová? Jaké jsou pravděpodobnosti výhry\n",
    "učitele a studenta?"
   ]
  },
  {
   "cell_type": "code",
   "execution_count": null,
   "metadata": {
    "vscode": {
     "languageId": "r"
    }
   },
   "outputs": [],
   "source": [
    "# funkce combn vyrobí kombinace o předepsané velikosti - první parametr je vektor hodnot, druhý velikost výběru\n",
    "combn(c(\"cerna\", \"cerna\", \"cervena\"), 2)\n"
   ]
  },
  {
   "cell_type": "markdown",
   "metadata": {},
   "source": [
    "## Příklad 8.\n",
    "\n",
    "\n",
    "Hra popsaná v příkladu 7 nebyla férová. Jakou kouli (červenou nebo bílou) musíme do urny přidat, aby hra férová byla?"
   ]
  },
  {
   "cell_type": "code",
   "execution_count": null,
   "metadata": {
    "vscode": {
     "languageId": "r"
    }
   },
   "outputs": [],
   "source": [
    "combn(c(\"cerna\", \"cerna\", \"cerna\", \"cervena\"), 2)\n",
    "combn(c(\"cerna\", \"cerna\", \"cervena\", \"cervena\"), 2)\n"
   ]
  },
  {
   "cell_type": "markdown",
   "metadata": {},
   "source": [
    "## Příklad 9.\n",
    "\n",
    "Chcete hrát Člověče nezlob se, ale ztratila se hrací kostka. Čím a jak lze nahradit hrací kostku,\n",
    "máte-li k dispozici hrací karty (balíček 32 karet) a 4 různobarevné kuličky?"
   ]
  },
  {
   "cell_type": "code",
   "execution_count": null,
   "metadata": {
    "vscode": {
     "languageId": "r"
    }
   },
   "outputs": [],
   "source": []
  },
  {
   "cell_type": "markdown",
   "metadata": {},
   "source": [
    "## Příklad 10.\n",
    "\n",
    "Chcete hrát Člověče nezlob se, ale ztratila se hrací kostka. Jak lze nahradit hrací kostku, máte-li\n",
    "k dispozici 3 různobarevné kuličky?"
   ]
  },
  {
   "cell_type": "code",
   "execution_count": null,
   "metadata": {
    "vscode": {
     "languageId": "r"
    }
   },
   "outputs": [],
   "source": []
  },
  {
   "cell_type": "markdown",
   "metadata": {},
   "source": [
    "## Příklad 11.\n",
    "\n",
    "V prodejně vozů Škoda mají v měsíci únoru prodejní akci. Ke standardnímu vybavení nabízejí\n",
    "3 položky z nadstandardní výbavy zdarma. Nadstandardní výbava zahrnuje 7 položek:\n",
    "- tempomat, vyhřívání sedadel, zadní airbagy, xenonová světla, stropní okénko, bezpečnostní\n",
    "zámek převodovky, speciální odolný metalízový lak.\n",
    "\n",
    "Kolik možností má zákazník, jak zvolit 3 položky z nadstandardní výbavy?"
   ]
  },
  {
   "cell_type": "code",
   "execution_count": null,
   "metadata": {
    "vscode": {
     "languageId": "r"
    }
   },
   "outputs": [],
   "source": [
    "kombinace(7, 3)\n"
   ]
  },
  {
   "cell_type": "markdown",
   "metadata": {},
   "source": [
    "## Příklad 12.\n",
    "\n",
    " Při zkoušce si do 5. řady sedlo 12 studentů. Zkoušející chce určit sám, jak tyto studenty v řadě\n",
    "rozesadit.\n",
    "- Kolik je možností jak studenty rozesadit?\n",
    "- Student Brahý žádá, aby mohl sedět na kraji a odejít dříve, aby stihl vlak. Kolik je možností jak studenty rozesadit, chce-li zkoušející vyhovět požadavku studenta Brahého?\n",
    "- Kolik je možností jak studenty rozesadit, nesmějí-li Pažout a Horáček sedět vedle sebe?"
   ]
  },
  {
   "cell_type": "code",
   "execution_count": null,
   "metadata": {
    "vscode": {
     "languageId": "r"
    }
   },
   "outputs": [],
   "source": [
    "# a\n",
    "permutace(12)\n",
    "prazdnych_sedadel <- 8\n",
    "permutace_opak(c(1, 1, 1, 1, 1, 1, 1, 1, 1, 1, 1, 1, prazdnych_sedadel))\n",
    "# b\n",
    "1 * permutace(11) + permutace(11) * 1\n",
    "# c\n",
    "vedle_sebe <- permutace(11) + permutace(11)\n",
    "permutace(12) - vedle_sebe\n"
   ]
  },
  {
   "cell_type": "markdown",
   "metadata": {},
   "source": [
    "## Příklad 13.\n",
    "\n",
    "Kolik anagramů lze vytvořit ze slova STATISTIKA?"
   ]
  },
  {
   "cell_type": "code",
   "execution_count": null,
   "metadata": {
    "vscode": {
     "languageId": "r"
    }
   },
   "outputs": [],
   "source": [
    "statistika <- c(2, 3, 2, 2, 1)\n",
    "permutace_opak(statistika)\n"
   ]
  },
  {
   "cell_type": "markdown",
   "metadata": {},
   "source": [
    "## Příklad 14.\n",
    "\n",
    "V Tescu dostali nové zboží – 6 druhů chlapeckých trik. Od každého druhu mají alespoň 7 kusů.\n",
    "Maminka chce synovi koupit 4 trika. Kolik je možností, jak je vybrat\n",
    "- mají-li být všechna různá?\n",
    "- připouští-li, že mohou být všechna stejná?"
   ]
  },
  {
   "cell_type": "code",
   "execution_count": null,
   "metadata": {
    "vscode": {
     "languageId": "r"
    }
   },
   "outputs": [],
   "source": [
    "# a\n",
    "kombinace(6, 4)\n",
    "# b\n",
    "kombinace_opak(6, 4)\n"
   ]
  },
  {
   "cell_type": "markdown",
   "metadata": {},
   "source": [
    "## Příklad 15.\n",
    "Kolik hesel délky 5 můžeme vytvořit ze znaků abecedy\n",
    "- nejsou-li rozlišována velká a malá písmena?\n",
    "- jsou-li rozlišována velká a malá písmena?"
   ]
  },
  {
   "cell_type": "code",
   "execution_count": null,
   "metadata": {
    "vscode": {
     "languageId": "r"
    }
   },
   "outputs": [],
   "source": [
    "# a\n",
    "variace_opak(26, 5)\n",
    "# b\n",
    "variace_opak(52, 5)\n"
   ]
  }
 ],
 "metadata": {
  "kernelspec": {
   "display_name": "R",
   "language": "R",
   "name": "ir"
  },
  "language_info": {
   "codemirror_mode": "r",
   "file_extension": ".r",
   "mimetype": "text/x-r-source",
   "name": "R",
   "pygments_lexer": "r",
   "version": "4.3.1"
  }
 },
 "nbformat": 4,
 "nbformat_minor": 4
}
