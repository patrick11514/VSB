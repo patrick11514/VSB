{
 "cells": [
  {
   "cell_type": "markdown",
   "metadata": {},
   "source": [
    "# Cvičení 1 - Pravděpodobnost\n",
    "## Michal Béreš, Adéla Vrtková, Martina Litschmannová \n",
    "---"
   ]
  },
  {
   "cell_type": "markdown",
   "metadata": {},
   "source": [
    "V tomto cvičení projdeme úvod do pravděpodobnosti. Předpokládáme znalosti z přednášky, především pojmy: \n",
    "\n",
    "\n",
    "\n",
    "### Základní prostor\n",
    "Základní prostor $\\Omega$ je množina všech možných výsledků nějakého náhodného pokusu.\n",
    "\n",
    "### Jev\n",
    "Jev je libovolná podmnožina základního prostoru $\\Omega$.\n",
    "\n",
    "### Elementární jev\n",
    "Elementární jev je jev, který obsahuje pouze jeden prvek základního prostoru $\\Omega$.\n",
    "\n",
    "### Úplná množina vzájemně disjunktních jevů\n",
    "Množina jevů $A_1, A_2, \\ldots, A_n$ je úplná množina vzájemně disjunktních jevů, pokud platí:\n",
    "1. $A_1 \\cup A_2 \\cup \\ldots \\cup A_n = \\Omega$\n",
    "2. $A_i \\cap A_j = \\emptyset$ pro $i \\neq j$\n",
    "\n",
    "\n",
    "## Definice pravděpodobnosti\n",
    "Pravděpodobnost je číslo, které přiřazuje každému jevu $A$ číslo $P(A)$, splňující následující podmínky:\n",
    "1. $0 \\leq P(A) \\leq 1$\n",
    "2. $P(\\Omega)=1$\n",
    "3. Jestliže $A_1, A_2, \\ldots$ jsou navzájem disjunktní jevy, pak $P(A_1 \\cup A_2 \\cup \\ldots)=P(A_1)+P(A_2)+\\ldots$\n",
    "\n",
    "\n",
    "## Věta o podmíněné pravděpodobnosti\n",
    "$$P(A|B)=\\frac{P(A \\cap B)}{P(B)}, \\quad P(B) \\neq 0$$\n",
    "\n",
    "## Úplná pravděpodobnost\n",
    "$$P(A)=\\sum_{i=1}^{n}P(B_i)P(A|B_i), \\quad P(B_i) \\neq 0, \\forall i = 1,\\ldots,n$$\n",
    "\n",
    "## Bayesova věta\n",
    "$$P(B_k|A)=\\frac{P(B_k)P(A|B_k)}{\\sum_{i=1}^{n}P(B_i)P(A|B_i)}, \\quad P(B_i) \\neq 0, \\forall i = 1,\\ldots,n$$\n"
   ]
  },
  {
   "cell_type": "markdown",
   "metadata": {},
   "source": [
    "---\n",
    "# Úlohy k procvičení\n",
    "---\n",
    "## Příklad 1.\n",
    "Určete pravděpodobnost, že při hodu 20stěnnou spravedlivou (férovou) kostkou padne číslo větší než 14."
   ]
  },
  {
   "cell_type": "code",
   "execution_count": null,
   "metadata": {
    "vscode": {
     "languageId": "r"
    }
   },
   "outputs": [],
   "source": [
    "omega <- 1:20\n",
    "omega\n",
    "A <- c(15, 16, 17, 18, 19, 20)\n",
    "A\n",
    "# pravděpodobnost jako podíl příznivých ku všem\n",
    "length(A) / length(omega)\n"
   ]
  },
  {
   "cell_type": "markdown",
   "metadata": {},
   "source": [
    "## Příklad 2.\n",
    "Určete pravděpodobnost, že při hodu 20stěnnou kostkou padne číslo větší než 14, víte-li, že sudá čísla padají 2x častěji než lichá."
   ]
  },
  {
   "cell_type": "code",
   "execution_count": null,
   "metadata": {
    "vscode": {
     "languageId": "r"
    }
   },
   "outputs": [],
   "source": [
    "# 2*P_liche = P_sude\n",
    "# sum(P) = 1\n",
    "P_liche <- 1 / 30\n",
    "P_sude <- 2 * P_liche\n",
    "\n",
    "P_A <- P_liche * 3 + P_sude * 3\n",
    "P_A\n"
   ]
  },
  {
   "cell_type": "markdown",
   "metadata": {},
   "source": [
    "## Příklad 3.\n",
    "Určete pravděpodobnost, že ve sportce uhodnete 4 čísla. (Ve sportce se losuje 6 čísel ze 49.)"
   ]
  },
  {
   "cell_type": "code",
   "execution_count": null,
   "metadata": {
    "vscode": {
     "languageId": "r"
    }
   },
   "outputs": [],
   "source": [
    "# kombinace jsou choose v R\n",
    "\n",
    "# musíme trefit 4 z 6 a 2 z 43\n",
    "\n",
    "(choose(6, 4) * choose(43, 2)) / choose(49, 6)\n"
   ]
  },
  {
   "cell_type": "markdown",
   "metadata": {},
   "source": [
    "## Příklad 4.\n",
    "Z abecedního seznamu studentů zapsaných na dané cvičení vybere učitel prvních 12 a nabídne jim sázku: „Pokud se každý z Vás narodil v jiném znamení zvěrokruhu, dám každému z Vás 100 Kč. Pokud jsou však mezi Vámi alespoň dva studenti, kteří se narodili ve stejném znamení, dá mi každý z Vás 100 Kč.“ Vyplatí se studentům sázku přijmout? S jakou pravděpodobností studenti vyhrají?"
   ]
  },
  {
   "cell_type": "code",
   "execution_count": null,
   "metadata": {
    "vscode": {
     "languageId": "r"
    }
   },
   "outputs": [],
   "source": [
    "# kolik možností znamení může mít 12 studentů?\n",
    "# kolik z nich vede k tomu, že každý student má jiné znamení?\n",
    "\n",
    "factorial(12) / 12^12\n"
   ]
  },
  {
   "attachments": {
    "image.png": {
     "image/png": "[encoded data removed]"
    }
   },
   "cell_type": "markdown",
   "metadata": {},
   "source": [
    "## Příklad 5.\n",
    "Spočtěte pravděpodobnost toho, že z bodu 1 do bodu 2 bude protékat elektrický proud, je-li část el. obvodu včetně pravděpodobnosti poruch jednotlivých součástek vyznačen na následujícím obrázku. (Poruchy jednotlivých součástek jsou na sobě nezávislé.)\n",
    "![image.png](attachment:image.png)"
   ]
  },
  {
   "cell_type": "code",
   "execution_count": null,
   "metadata": {
    "vscode": {
     "languageId": "r"
    }
   },
   "outputs": [],
   "source": [
    "# rozdělíme na bloky I=(A,B) a II=(C,D,E)\n",
    "PI <- 1 - (1 - 0.1) * (1 - 0.3)\n",
    "PI\n",
    "PII <- 0.2 * 0.3 * 0.2\n",
    "PII\n",
    "# výsledek\n",
    "(1 - PI) * (1 - PII)\n"
   ]
  },
  {
   "cell_type": "markdown",
   "metadata": {},
   "source": [
    "## Příklad 6.\n",
    "Ohrada má obdélníkový tvar, východní a západní stěna mají délku 40 m, jižní a severní pak 100 m. V této ohradě běhá kůň. Jaká je pravděpodobnost, že je k jižní stěně blíž než ke zbývajícím třem?"
   ]
  },
  {
   "cell_type": "code",
   "execution_count": null,
   "metadata": {
    "vscode": {
     "languageId": "r"
    }
   },
   "outputs": [],
   "source": [
    "# geometrická pravděpodobnost\n",
    "ohrada <- 40 * 100\n",
    "# blize k jihu\n",
    "blize_J <- 20 * 60 + 20 * 20\n",
    "# pravdepodobnosti\n",
    "blize_J / ohrada\n"
   ]
  },
  {
   "cell_type": "markdown",
   "metadata": {},
   "source": [
    "## Příklad 7.\n",
    "V nesymptomatické populaci je 0.001 % lidí s rakovinou. Klinické testy\n",
    "kvality diagnostické metody pro detekci rakoviny v nesymptomatické\n",
    "populaci ukázaly 99.9% senzitivitu a 99.5% specificitu této metody. \n",
    "- Jako osoba bez symptomů jste podstoupili test s pozitivním výsledkem.\n",
    "Jsou starosti na místě?"
   ]
  },
  {
   "cell_type": "code",
   "execution_count": null,
   "metadata": {
    "vscode": {
     "languageId": "r"
    }
   },
   "outputs": [],
   "source": [
    "# T ... pozitivní výsledek testu\n",
    "# R ... pacient má skutečně nemoc\n",
    "\n",
    "# P(R) ... pravděpodobnost, že pacient má nemoc\n",
    "# P(~R) ... pravděpodobnost, že pacient nemá nemoc\n",
    "# P(T|R) ... pravděpodobnost, že test bude pozitivní, pokud pacient má nemoc (sensitivita)\n",
    "# P(~T|R) ... pravděpodobnost, že test bude negativní, pokud pacient má nemoc\n",
    "# P(~T|~R) ... pravděpodobnost, že test bude negativní, pokud pacient nemá nemoc (specificita)\n",
    "# P(T|~R) ... pravděpodobnost, že test bude pozitivní, pokud pacient nemá nemoc\n",
    "\n",
    "\n",
    "P_R <- 0.00001\n",
    "P_notR <- 1 - P_R\n",
    "P_T_R <- 0.999\n",
    "P_notT_R <- 1 - P_T_R\n",
    "P_notT_notR <- 0.995\n",
    "P_T_notR <- 1 - P_notT_notR\n",
    "\n",
    "# P(R|T) ... pravděpodobnost, že jsme skutečně nemocní, pokud test byl pozitivní\n",
    "P_R_T <- (P_T_R * P_R) / (P_T_R * P_R + P_T_notR * P_notR)\n",
    "P_R_T * 100\n"
   ]
  },
  {
   "cell_type": "markdown",
   "metadata": {},
   "source": [
    "## Příklad 8.\n",
    "Telegrafické znaky se skládají ze signálů „tečka“, „čárka“. Je statisticky zjištěno, že se zkomolí 25 % sdělení „tečka“ a 20 % signálů „čárka“. Dále je známo, že signály se používají v poměru 3:2. Určete pravděpodobnost, že byl přijat správně signál, jestliže byl přijat signál „tečka“."
   ]
  },
  {
   "cell_type": "code",
   "execution_count": null,
   "metadata": {
    "vscode": {
     "languageId": "r"
    }
   },
   "outputs": [],
   "source": [
    "# OT ... odeslána tečka\n",
    "# OC ... odeslána čárka\n",
    "# PT ... přijata tečka\n",
    "# PC ... přijata čárka\n",
    "\n",
    "P_OT <- 3 / 5 # P(OT)\n",
    "P_OC <- 2 / 5 # P(OC)\n",
    "\n",
    "P_PC_OT <- 0.25 # P(PC|OT) ... zkomolení tečky\n",
    "P_PT_OT <- 1 - P_PC_OT # P(PT|OT)\n",
    "\n",
    "P_PT_OC <- 0.2 # P(PT|OC) ... zkomolení čárky\n",
    "P_PC_OC <- 1 - P_PT_OC # P(PC|OC)\n",
    "\n",
    "# P(OT|PT) ... pravděpodobnost, že byla odeslána tečka, pokud byla přijata tečka\n",
    "P_OT_PT <- (P_PT_OT * P_OT) / (P_PT_OT * P_OT + P_PT_OC * P_OC)\n",
    "P_OT_PT\n"
   ]
  },
  {
   "cell_type": "markdown",
   "metadata": {},
   "source": [
    "## Příklad 9.\n",
    "V jednom městě jezdí 85 % zelených taxíků a 15 % modrých. Svědek dopravní nehody vypověděl, že nehodu zavinil řidič modrého taxíku, který pak ujel. Testy provedené za obdobných světelných podmínek ukázaly, že svědek dobře identifikuje barvu taxíku v 80 % případů a ve 20 % případů se mýlí.\n",
    " - Jaká je pravděpodobnost, že viník nehody skutečně řídil modrý taxík?\n",
    " - Následně byl nalezen další nezávislý svědek, který rovněž tvrdí, že taxík byl modrý. Jaká je nyní pravděpodobnost, že viník nehody skutečně řídil modrý taxík?\n",
    " - Ovlivní pravděpodobnost, že viník nehody skutečně řídil modrý taxík to, zda dva výše\n",
    "zmínění svědci vypovídali postupně nebo najednou?"
   ]
  },
  {
   "cell_type": "code",
   "execution_count": null,
   "metadata": {
    "vscode": {
     "languageId": "r"
    }
   },
   "outputs": [],
   "source": [
    "# 1.\n",
    "\n",
    "# ZZ ... nehodu skutečně způsobil zelený taxík\n",
    "# ZM ... nehodu skutečně způsobil modrý taxík\n",
    "# OZ ... svědek označil zelený taxík\n",
    "# OM ... svědek označil modrý taxík\n",
    "\n",
    "P_ZM <- 0.15 # P(ZM) - pravděpodobnost, že nehodu skutečně způsobil modrý taxík\n",
    "P_ZZ <- 0.85 # P(ZZ) - pravděpodobnost, že nehodu skutečně způsobil zelený taxík\n",
    "\n",
    "P_OM_ZM <- 0.8 # P(OM|ZM) - nehodu způsobil modrý a svědek správně označil modrý\n",
    "P_OZ_ZM <- 1 - P_OM_ZM # P(OZ|ZM) - nehodu způsobil modrý, ale svědek označil zelený\n",
    "\n",
    "P_OZ_ZZ <- 0.8 # P(OZ|ZZ) - nehodu způsobil zelený a svědek správně označil zelený\n",
    "P_OM_ZZ <- 1 - P_OZ_ZZ # P(OM|ZZ) - nehodu způsobil zelený, ale svědek označil modrý\n",
    "\n",
    "# P(ZM|OM) ... pravděpodobnost, že nehodu skutečně způsobil modrý, pokud svědek označil modrý taxík\n",
    "P_ZM_OM <- (P_OM_ZM * P_ZM) / ((P_OM_ZM * P_ZM) + (P_OM_ZZ * P_ZZ))\n",
    "P_ZM_OM\n"
   ]
  },
  {
   "cell_type": "code",
   "execution_count": null,
   "metadata": {
    "vscode": {
     "languageId": "r"
    }
   },
   "outputs": [],
   "source": [
    "# 2. nebo odpověděli najednou\n",
    "\n",
    "# ZZ ... nehodu skutečně způsobil zelený taxík\n",
    "# ZM ... nehodu skutečně způsobil modrý taxík\n",
    "# OZ1, OZ2 ... první a druhý svědek označili zelený taxík\n",
    "# OM1, OM2 ... první a druhý svědek označili modrý taxík\n",
    "\n",
    "P_ZM <- 0.15 # P(ZM)\n",
    "P_ZZ <- 0.85 # P(ZZ)\n",
    "\n",
    "P_OM1_ZM <- 0.8 # P(OM1|ZM) - první svědek správně označil modrý\n",
    "P_OZ1_ZM <- 1 - P_OM1_ZM # P(OZ1|ZM)\n",
    "\n",
    "P_OZ1_ZZ <- 0.8 # P(OZ1|ZZ) - první svědek správně označil zelený\n",
    "P_OM1_ZZ <- 1 - P_OZ1_ZZ # P(OM1|ZZ)\n",
    "\n",
    "P_OM2_ZM <- 0.8 # P(OM2|ZM) - druhý svědek správně označil modrý\n",
    "P_OZ2_ZM <- 1 - P_OM2_ZM # P(OZ2|ZM)\n",
    "\n",
    "P_OZ2_ZZ <- 0.8 # P(OZ2|ZZ) - druhý svědek správně označil zelený\n",
    "P_OM2_ZZ <- 1 - P_OZ2_ZZ # P(OM2|ZZ)\n",
    "\n",
    "# P(OM1, OM2 | ZM) = P(OM1 | ZM) * P(OM2 | ZM) (nezávislí svědci)\n",
    "P_OM1OM2_ZM <- P_OM1_ZM * P_OM2_ZM\n",
    "\n",
    "# P(OM1, OM2 | ZZ) = P(OM1 | ZZ) * P(OM2 | ZZ)\n",
    "P_OM1OM2_ZZ <- P_OM1_ZZ * P_OM2_ZZ\n",
    "\n",
    "# P(ZM | OM1, OM2) ... pravděpodobnost, že nehodu skutečně způsobil modrý, pokud oba svědci označili modrý taxík\n",
    "P_ZM_OM1OM2 <- (P_OM1OM2_ZM * P_ZM) / ((P_OM1OM2_ZM * P_ZM) + (P_OM1OM2_ZZ * P_ZZ))\n",
    "P_ZM_OM1OM2\n"
   ]
  },
  {
   "cell_type": "code",
   "execution_count": null,
   "metadata": {
    "vscode": {
     "languageId": "r"
    }
   },
   "outputs": [],
   "source": [
    "# 2. druhý průchod Bayesem\n",
    "\n",
    "# ZZ ... nehodu skutečně způsobil zelený taxík\n",
    "# ZM ... nehodu skutečně způsobil modrý taxík\n",
    "# OZ2 ... druhý svědek označil zelený taxík\n",
    "# OM2 ... druhý svědek označil modrý taxík\n",
    "\n",
    "P_ZM <- P_ZM_OM # Výsledek z první úlohy\n",
    "P_ZZ <- 1 - P_ZM\n",
    "\n",
    "P_OM2_ZM <- 0.8 # P(OM2|ZM) - druhý svědek správně označil modrý\n",
    "P_OZ2_ZM <- 1 - P_OM2_ZM # P(OZ2|ZM)\n",
    "\n",
    "P_OZ2_ZZ <- 0.8 # P(OZ2|ZZ) - druhý svědek správně označil zelený\n",
    "P_OM2_ZZ <- 1 - P_OZ2_ZZ # P(OM2|ZZ)\n",
    "\n",
    "# P(ZM | OM2, OM) ... pravděpodobnost, že nehodu skutečně způsobil modrý, pokud oba svědci označili modrý taxík\n",
    "P_ZM_OM2 <- (P_OM2_ZM * P_ZM) / ((P_OM2_ZM * P_ZM) + (P_OM2_ZZ * P_ZZ))\n",
    "P_ZM_OM2\n"
   ]
  },
  {
   "cell_type": "markdown",
   "metadata": {},
   "source": [
    "## Příklad 10.\n",
    "Potřebujeme zjistit odpověď na určitou citlivou otázku. Jak odhadnout, kolik procent dotazovaných na otázku odpoví ANO a přitom všem respondentům zaručit naprostou anonymitu? Jedním z řešení je tzv. dvojitě anonymní anketa:\n",
    "\n",
    "Necháme respondenty hodit korunou a dvojkorunou a ti, kterým padl na koruně líc napíšou na lísteček odpověď (ANO/NE) na citlivou otázku. Ostatní respondenti napíší, zda jim padl na dvojkoruně líc (ANO/NE). Jakým způsobem určíme podíl studentů, kteří na citlivou otázku odpověděli ANO?\n",
    "\n",
    "Předpokládejme, že respondenti byli dotazování, zda podváděli u zkoušky. Z anketních lístků se zjistilo, že „ANO“ odpovědělo 120 respondentů a „NE“ odpovědělo 200 respondentů. Kolik procent studentů podvádělo u zkoušky?"
   ]
  },
  {
   "cell_type": "code",
   "execution_count": null,
   "metadata": {
    "vscode": {
     "languageId": "r"
    }
   },
   "outputs": [],
   "source": [
    "# PC ... respondent odpovídá na citlivou otázku\n",
    "# PP ... respondent odpovídá podle hodu druhou mincí\n",
    "# ANO ... odpověď ANO na anketním lístku\n",
    "# NE ... odpověď NE na anketním lístku\n",
    "\n",
    "P_PC <- 0.5 # Pravděpodobnost, že respondent odpovídá na citlivou otázku\n",
    "P_PP <- 0.5 # Pravděpodobnost, že respondent odpovídá podle hodu druhou mincí\n",
    "\n",
    "P_ANO_PP <- 0.5 # Pravděpodobnost, že respondent odpovídající hodem mince napíše ANO\n",
    "\n",
    "# Získaná data z anketních lístků:\n",
    "N_ANO <- 120 # Počet odpovědí ANO\n",
    "N_NE <- 200 # Počet odpovědí NE\n",
    "N_total <- N_ANO + N_NE # Celkový počet respondentů\n",
    "\n",
    "# Pozorovaná celková pravděpodobnost odpovědi ANO:\n",
    "P_ANO_obs <- N_ANO / N_total # 120 / 320 = 0.375\n",
    "\n",
    "# Celková pravděpodobnost odpovědi ANO:\n",
    "# P(ANO) = P(PC) * P(ANO|PC) + P(PP) * P(ANO|PP)\n",
    "# P(ANO) = P_PC * P_ANO_PC + P_PP * P_ANO_PP\n",
    "# Řešíme rovnici: P_ANO_obs = 0.5 * P_ANO_PC + 0.5 * 0.5\n",
    "# Tedy: P_ANO_PC = (P_ANO_obs - 0.5 * 0.5) / 0.5\n",
    "\n",
    "P_ANO_PC <- (P_ANO_obs - P_PP * P_ANO_PP) / P_PC\n",
    "P_ANO_PC\n"
   ]
  },
  {
   "cell_type": "markdown",
   "metadata": {},
   "source": [
    "---\n",
    "\n",
    "## Bonus - Monty Hall Problem\n",
    "\n",
    "Monty Hall problém je známý statistický \"paradox\" založený na herní show, kde soutěžící vybírá mezi třemi dveřmi. Za jedněmi dveřmi se skrývá automobil (hlavní cena) a za zbývajícími dvěma dveřmi jsou kozy.\n",
    "\n",
    "**Popis soutěže (problému):**\n",
    "\n",
    "1. **Výběr:** Soutěžící si vybere jedny ze tří dveří.\n",
    "2. **Otevření:** Moderátor, který zná umístění ceny, otevře jedny z nezvolených dveří. Vždy odhalí kozu.\n",
    "3. **Volba:** Soutěžící dostane možnost buď setrvat u původního výběru, nebo změnit volbu na druhé původně nezvolené dveře.\n",
    "4. **Otázka:** Jaká strategie (setrvat nebo změnit) maximalizuje šanci na výhru automobilu?\n",
    "\n",
    "---\n",
    "\n",
    "Je asi zřejmé, že v prvním kole je pravděpodobnost, že dveře zvolené soutěžícím obsahují automobil $ \\frac{1}{3} $. \n",
    "\n",
    "Mohlo by se zdát, že po moderátorově otevření dveří s kozou se situace \"resetuje\" a zbývají dvě dveře mají pravděpodobnost $ \\frac{1}{2} $ na automobil za nimi. **To však není správný závěr.** Tím, že moderátor otevřel jedny dveře, nám ve skutečnosti poskytl dodatečnou informaci, kterou je třeba započítat do výpočtu pravděpodobností.\n",
    "\n",
    "***Výsledek se dá spočítat pomocí podmíněné pravděpodobnosti:***\n",
    "- pro jednoduchost si označíme následující jevy: \n",
    "    - $D_1$ - auto je za prvními dveřmi \n",
    "    - $D_2$ - auto je za druhými dveřmi\n",
    "    - $D_3$ - auto je za třetími dveřmi\n",
    "- pokud bychom neměli žádnou informaci, tak \n",
    "$$P(D_1) = P(D_2) = P(D_3) =  \\frac{1}{3}$$\n",
    "- bez újmy na obecnosti předpokládejme, že soutěžící si vybral dveře číslo 1 a moderátor otevřel dveře číslo 3\n",
    "- tedy nastal jev $M$ - moderátor otevřel dveře číslo 3 s kozou z výběru dveří číslo 2 a 3\n",
    "- nyní už pracujeme s podmíněnými pravděpodobnostmi $P(D_1|M)$, $P(D_2|M)$ a $P(D_3|M)$ (asi je už jasné, že $P(D_3|M) = 0$)\n",
    "- pojďme si vyjádřit $P(D_1|M)$ pomocí Bayesovy věty:   \n",
    "$$P(D_1|M) = \\frac{P(M|D_1)P(D_1)}{P(M|D_1)P(D_1) + P(M|D_2)P(D_2)+ P(M|D_3)P(D_3)}$$\n",
    "- \n",
    "    - co vlastně znamená $P(M|D_1)$, $P(M|D_2)$ a $P(M|D_3)$?\n",
    "    - $P(M|D_1)$ - je pravděpodobnost, že moderátor otevře dveře číslo 3, za předpokladu, že automobil je za dveřmi číslo 1. Tedy moderátor mohl otevřít dveře číslo 2 nebo 3 (oba obsahují kozy). Tedy \n",
    "    $$P(M|D_1) = \\frac{1}{2}$$\n",
    "    - $P(M|D_2)$ - je pravděpodobnost, že moderátor otevře dveře číslo 3, za předpokladu, že automobil je za dveřmi číslo 2. Tedy moderátor mohl otevřít pouze a jenom dveře číslo 3. Tedy \n",
    "    $$P(M|D_2) = 1$$\n",
    "    - $P(M|D_3)$ - je pravděpodobnost, že moderátor otevře dveře číslo 3, za předpokladu, že automobil je za dveřmi číslo 3. Což je nemožné, protože moderátor by otevřel s cenou. Tedy \n",
    "    $$P(M|D_3) = 0$$\n",
    "- dosadíme do vzorce číselné hodnoty a dostaneme \n",
    "$$P(D_1|M) = \\frac{\\frac{1}{2} \\cdot \\frac{1}{3}}{\\frac{1}{2} \\cdot \\frac{1}{3} + 1 \\cdot \\frac{1}{3}+ 0 \\cdot \\frac{1}{3}} = \\frac{1}{3}$$\n",
    "- obodobně můžeme spočítat $P(D_2|M) = \\frac{2}{3}$\n",
    "- Tedy výherní strategie je vždy provést změnu dveří, což zvyšuje pravděpodobnost výhry na $ \\frac{2}{3} $."
   ]
  },
  {
   "cell_type": "markdown",
   "metadata": {},
   "source": [
    "---\n",
    "**Kdo nevěří, může si vyzkoušet krátkou simulaci:**"
   ]
  },
  {
   "cell_type": "code",
   "execution_count": null,
   "metadata": {
    "vscode": {
     "languageId": "r"
    }
   },
   "outputs": [],
   "source": [
    "n <- 10000 # počet pokusů\n",
    "cena <- sample.int(n = 3, size = n, replace = TRUE) # náhdný výběr dveří\n",
    "head(cena) # head vykresli prvních 6 prvků/řádků\n"
   ]
  },
  {
   "cell_type": "markdown",
   "metadata": {},
   "source": [
    "Totéž pro naši původní volbu - náhodný index dveří."
   ]
  },
  {
   "cell_type": "code",
   "execution_count": null,
   "metadata": {
    "vscode": {
     "languageId": "r"
    }
   },
   "outputs": [],
   "source": [
    "volba_orig <- sample.int(n = 3, size = n, replace = TRUE) # původní volba\n",
    "head(volba_orig)\n"
   ]
  },
  {
   "cell_type": "markdown",
   "metadata": {},
   "source": [
    "V prvním kole moderátor jedny prázdné dveře otevře, takto se to dá nasimulovat:"
   ]
  },
  {
   "cell_type": "code",
   "execution_count": null,
   "metadata": {
    "vscode": {
     "languageId": "r"
    }
   },
   "outputs": [],
   "source": [
    "otevrene_dvere <- rep(0, n) # inicializace vektoru\n",
    "dvere_c <- 1:3 # pomocná proměnná - identifikátory dveří\n",
    "for (i in 1:n) {\n",
    "    dvere_k_otevereni <- c(TRUE, TRUE, TRUE) # inicializace\n",
    "    dvere_k_otevereni[cena[i]] <- FALSE # nesmíme otevřít dveře s cenou\n",
    "    dvere_k_otevereni[volba_orig[i]] <- FALSE # ani naše vybrané dveře\n",
    "    # ve zbytku jsou buď 2 (pokud jsme se trefili) nebo 1 dveře (pokud ne)\n",
    "    idx_dvere <- dvere_c[dvere_k_otevereni]\n",
    "    if (length(idx_dvere) == 1) {\n",
    "        otevrene_dvere[i] <- idx_dvere # pokud jedny otevřeme je\n",
    "    } else { # pokud 2 tak jedny náhodně vybereme a otevřeme je\n",
    "        otevrene_dvere[i] <- sample(x = idx_dvere, size = 1)\n",
    "    }\n",
    "}\n",
    "head(otevrene_dvere)\n"
   ]
  },
  {
   "cell_type": "markdown",
   "metadata": {},
   "source": [
    "Naše nová volba pokud se tak rozhodneme - součet indexů je 1+2+3=6 takže pokud my máme vybraný nějaký index, dále nějaký index se otevře, tak do zbytku 6 jsou ty třetí = naše nová volba."
   ]
  },
  {
   "cell_type": "code",
   "execution_count": null,
   "metadata": {
    "vscode": {
     "languageId": "r"
    }
   },
   "outputs": [],
   "source": [
    "nova_volba <- 6 - (volba_orig + otevrene_dvere)\n",
    "head(nova_volba)\n"
   ]
  },
  {
   "cell_type": "markdown",
   "metadata": {},
   "source": [
    "Úspěšnost při originální volbě:"
   ]
  },
  {
   "cell_type": "code",
   "execution_count": null,
   "metadata": {
    "vscode": {
     "languageId": "r"
    }
   },
   "outputs": [],
   "source": [
    "p_orig <- sum(cena == volba_orig) / n\n",
    "p_orig\n"
   ]
  },
  {
   "cell_type": "markdown",
   "metadata": {},
   "source": [
    "Úspěšnost při výměně:"
   ]
  },
  {
   "cell_type": "code",
   "execution_count": null,
   "metadata": {
    "vscode": {
     "languageId": "r"
    }
   },
   "outputs": [],
   "source": [
    "p_zmena <- sum(cena == nova_volba) / n\n",
    "p_zmena\n"
   ]
  },
  {
   "cell_type": "code",
   "execution_count": null,
   "metadata": {
    "vscode": {
     "languageId": "r"
    }
   },
   "outputs": [],
   "source": [
    "p_orig + p_zmena\n"
   ]
  }
 ],
 "metadata": {
  "kernelspec": {
   "display_name": "R",
   "language": "R",
   "name": "ir"
  },
  "language_info": {
   "codemirror_mode": "r",
   "file_extension": ".r",
   "mimetype": "text/x-r-source",
   "name": "R",
   "pygments_lexer": "r",
   "version": "4.4.2"
  }
 },
 "nbformat": 4,
 "nbformat_minor": 4
}
