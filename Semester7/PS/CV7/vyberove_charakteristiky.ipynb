{
 "cells": [
  {
   "cell_type": "markdown",
   "metadata": {},
   "source": [
    " # Cvičení 7. Výběrové charakteristiky\n",
    " ## Michal Béreš, Martina Litschmannová, Adéla Vrtková\n",
    " ---"
   ]
  },
  {
   "cell_type": "markdown",
   "metadata": {},
   "source": [
    "# 1. Další vybraná spojitá rozdělení\n",
    "\n",
    "## $\\chi^2$ - Chí-kvadrát rozdělení (Pearsonovo rozdělení)\n",
    "\n",
    "- **Použití**: při odhadu směrodatné odchylky (za použití výběrové)\n",
    "- Má jediný parametr – **počet stupňů volnosti**\n",
    "$$\\frac{S^2}{\\sigma^2} (n-1) \\sim \\chi^2_{n-1}$$\n",
    "- $S$ je výběrová směrodatná odchylka\n"
   ]
  },
  {
   "cell_type": "code",
   "execution_count": null,
   "metadata": {
    "vscode": {
     "languageId": "r"
    }
   },
   "outputs": [],
   "source": [
    "n <- 5 # počet stupňů volnosti\n",
    "x <- seq(from = 0, to = 30, by = 0.01) # osa x\n",
    "fx <- dchisq(x = x, df = n) # hustota pravděpodobnosti chí-kvad. rozdělení\n",
    "\n",
    "plot(x, fx, type = \"l\")\n"
   ]
  },
  {
   "cell_type": "code",
   "execution_count": null,
   "metadata": {
    "vscode": {
     "languageId": "r"
    }
   },
   "outputs": [],
   "source": [
    "Fx <- pchisq(q = x, df = n) # distrib. fce. chí-kvad. rozdělení\n",
    "\n",
    "plot(x, Fx, type = \"l\")\n"
   ]
  },
  {
   "cell_type": "markdown",
   "metadata": {},
   "source": [
    "## $t$ - Studentovo rozdělení\n",
    "\n",
    "- **Použití**: při odhadu střední hodnoty bez přesné znalosti rozptylu (pouze výběrového rozptylu)\n",
    "$$\\frac{\\bar{X} - \\mu}{S} \\sqrt{n} \\sim t_{n-1}$$\n",
    "- $\\bar{X}$ je výběrový průměr\n",
    "- $S$ je výběrová směrodatná odchylka\n",
    "- S rostoucím počtem stupňů volnosti konverguje k normovanému normálnímu rozdělení.\n"
   ]
  },
  {
   "cell_type": "code",
   "execution_count": null,
   "metadata": {
    "vscode": {
     "languageId": "r"
    }
   },
   "outputs": [],
   "source": [
    "n <- 5 # počet stupňů volnosti\n",
    "x <- seq(from = -3, to = 3, by = 0.01) # osa x\n",
    "fx <- dt(x = x, df = n) # hustota pravděpodobnosti studentova rozdělení\n",
    "\n",
    "plot(x, fx, type = \"l\")\n",
    "\n",
    "fnorm <- dnorm(x, mean = 0, sd = 1) # hodnoty norm. normálního roz.\n",
    "lines(x, fnorm, col = \"red\") # do posledního grafu\n"
   ]
  },
  {
   "cell_type": "code",
   "execution_count": null,
   "metadata": {
    "vscode": {
     "languageId": "r"
    }
   },
   "outputs": [],
   "source": [
    "Fx <- pt(q = x, df = n) # hustota pravděpodobnosti studentova rozdělení\n",
    "\n",
    "plot(x, Fx, type = \"l\")\n",
    "\n",
    "Fnorm <- pnorm(x, mean = 0, sd = 1) # hodnoty norm. normálního roz.\n",
    "lines(x, Fnorm, col = \"red\") # do posledního grafu\n"
   ]
  },
  {
   "cell_type": "markdown",
   "metadata": {},
   "source": [
    "## $F$ - Fisher-Snedecorovo rozdělení\n",
    "\n",
    "- **Použití**: k testování shody rozptylů  \n",
    "$$\\frac{S_1^2 / \\sigma_1^2}{S_2^2 / \\sigma_2^2} \\sim F_{n_1 - 1, n_2 - 1}$$\n",
    "- $S_1^2$ a $S_2^2$ jsou výběrové rozptyly\n",
    "- $\\sigma_1^2$ a $\\sigma_2^2$ jsou skutečné rozptyly\n",
    "- $n_1$ a $n_2$ jsou počty prvků v obou výběrech\n"
   ]
  },
  {
   "cell_type": "code",
   "execution_count": null,
   "metadata": {
    "vscode": {
     "languageId": "r"
    }
   },
   "outputs": [],
   "source": [
    "n <- 5 # počet stupňů volnosti výběr. 1\n",
    "m <- 6 # počet stupňů volnosti výběr. 2\n",
    "x <- seq(from = 0, to = 10, by = 0.01) # osa x\n",
    "fx <- df(x = x, df1 = n, df2 = m) # hustota pravděpodobnosti chí-kvad. rozdělení\n",
    "\n",
    "plot(x, fx, type = \"l\")\n"
   ]
  },
  {
   "cell_type": "code",
   "execution_count": null,
   "metadata": {
    "vscode": {
     "languageId": "r"
    }
   },
   "outputs": [],
   "source": [
    "Fx <- pf(q = x, df1 = n, df2 = m) # hustota pravděpodobnosti chí-kvad. rozdělení\n",
    "\n",
    "plot(x, Fx, type = \"l\")\n"
   ]
  },
  {
   "cell_type": "markdown",
   "metadata": {},
   "source": [
    "# 2. Jak se chová průměr hodnot z normálního rozdělení?\n",
    "\n",
    "- průměr $$\\bar{X} = \\frac{1}{n} \\sum_{i=1}^{n} X_i$$ je náhodná veličina, tedy každý výběr unikátních $n$ hodnot vede k jiné hodnotě průměru\n",
    "- ukážeme, že průměr hodnot z normálního rozdělení má normální rozdělení\n",
    "\n",
    "Funkce **`rnorm(n, mean, sd)`** generuje **n** hodnot z normálního rozdělení se střední hodnotou **mean** a směrodatnou odchylkou **sd**.\n"
   ]
  },
  {
   "cell_type": "code",
   "execution_count": null,
   "metadata": {
    "vscode": {
     "languageId": "r"
    }
   },
   "outputs": [],
   "source": [
    "vel_nah_vyberu <- 30\n",
    "mu <- 10\n",
    "sigma <- 3\n",
    "nah_vyber <- rnorm(n = vel_nah_vyberu, mean = mu, sd = sigma)\n",
    "nah_vyber\n"
   ]
  },
  {
   "cell_type": "code",
   "execution_count": null,
   "metadata": {
    "vscode": {
     "languageId": "r"
    }
   },
   "outputs": [],
   "source": [
    "mean(nah_vyber)\n",
    "sd(nah_vyber)\n"
   ]
  },
  {
   "cell_type": "markdown",
   "metadata": {},
   "source": [
    "#### Náhodná veličina: průměr hodnot"
   ]
  },
  {
   "cell_type": "code",
   "execution_count": null,
   "metadata": {
    "vscode": {
     "languageId": "r"
    }
   },
   "outputs": [],
   "source": [
    "poc_vyberu <- 1000\n",
    "prumery <- numeric(poc_vyberu) # numeric vyrobi vektor 0\n",
    "smer_odchylky <- numeric(poc_vyberu)\n",
    "for (i in 1:poc_vyberu) {\n",
    "  nah_vyber <- rnorm(n = vel_nah_vyberu, mean = mu, sd = sigma)\n",
    "  prumery[i] <- mean(nah_vyber)\n",
    "  smer_odchylky[i] <- sd(nah_vyber)\n",
    "}\n"
   ]
  },
  {
   "cell_type": "code",
   "execution_count": null,
   "metadata": {
    "vscode": {
     "languageId": "r"
    }
   },
   "outputs": [],
   "source": [
    "hist(prumery)\n"
   ]
  },
  {
   "cell_type": "code",
   "execution_count": null,
   "metadata": {
    "vscode": {
     "languageId": "r"
    }
   },
   "outputs": [],
   "source": [
    "qqnorm(prumery)\n",
    "qqline(prumery)\n"
   ]
  },
  {
   "cell_type": "code",
   "execution_count": null,
   "metadata": {
    "vscode": {
     "languageId": "r"
    }
   },
   "outputs": [],
   "source": [
    "mean(prumery)\n",
    "sd(prumery)\n",
    "sigma / sqrt(vel_nah_vyberu)\n"
   ]
  },
  {
   "cell_type": "markdown",
   "metadata": {},
   "source": [
    "# 3. Jak se chová průměr hodnot z uniformního rozdělení?\n",
    "\n",
    "- nyní se podíváme jaké rozdělení má průměr (jako náhodná veličina) hodnot z uniformního rozdělení\n",
    "\n",
    "Fukce **runif(n, min, max)** generuje **n** hodnot z uniformního rozdělení U(**min,max**)."
   ]
  },
  {
   "cell_type": "code",
   "execution_count": null,
   "metadata": {
    "vscode": {
     "languageId": "r"
    }
   },
   "outputs": [],
   "source": [
    "vel_nah_vyberu <- 30\n",
    "a <- 1\n",
    "b <- 7\n",
    "nah_vyber <- runif(n = vel_nah_vyberu, min = a, max = b)\n",
    "# nah_vyber\n"
   ]
  },
  {
   "cell_type": "code",
   "execution_count": null,
   "metadata": {
    "vscode": {
     "languageId": "r"
    }
   },
   "outputs": [],
   "source": [
    "hist(nah_vyber)\n",
    "qqnorm(nah_vyber)\n",
    "qqline(nah_vyber)\n"
   ]
  },
  {
   "cell_type": "code",
   "execution_count": null,
   "metadata": {
    "vscode": {
     "languageId": "r"
    }
   },
   "outputs": [],
   "source": [
    "mu <- (a + b) / 2\n",
    "mu\n",
    "mean(nah_vyber)\n",
    "sigma <- sqrt((b - a)^2 / 12)\n",
    "sigma\n",
    "sd(nah_vyber)\n"
   ]
  },
  {
   "cell_type": "markdown",
   "metadata": {},
   "source": [
    "#### Náhodná veličina: průměr hodnot"
   ]
  },
  {
   "cell_type": "code",
   "execution_count": null,
   "metadata": {
    "vscode": {
     "languageId": "r"
    }
   },
   "outputs": [],
   "source": [
    "poc_vyberu <- 1000\n",
    "prumery <- numeric(poc_vyberu)\n",
    "smer_odchylky <- numeric(poc_vyberu)\n",
    "for (i in 1:poc_vyberu) {\n",
    "  nah_vyber <- runif(n = vel_nah_vyberu, min = a, max = b)\n",
    "  prumery[i] <- mean(nah_vyber)\n",
    "  smer_odchylky[i] <- sd(nah_vyber)\n",
    "}\n"
   ]
  },
  {
   "cell_type": "code",
   "execution_count": null,
   "metadata": {
    "vscode": {
     "languageId": "r"
    }
   },
   "outputs": [],
   "source": [
    "hist(prumery)\n"
   ]
  },
  {
   "cell_type": "code",
   "execution_count": null,
   "metadata": {
    "vscode": {
     "languageId": "r"
    }
   },
   "outputs": [],
   "source": [
    "qqnorm(prumery)\n",
    "qqline(prumery)\n"
   ]
  },
  {
   "cell_type": "code",
   "execution_count": null,
   "metadata": {
    "vscode": {
     "languageId": "r"
    }
   },
   "outputs": [],
   "source": [
    "mean(prumery)\n",
    "sd(prumery)\n",
    "sigma / sqrt(vel_nah_vyberu)\n"
   ]
  },
  {
   "cell_type": "markdown",
   "metadata": {},
   "source": [
    "---\n",
    "# Příklady\n",
    "## Příklad 1.\n",
    "Zatížení letadla s 64 místy nemá překročit 6 000 kg. Jaká je pravděpodobnost, že při plném obsazení bude tato hodnota překročena, má-li hmotnost cestujícího střední hodnotu 90 kg a směrodatnou odchylku 10 kg?"
   ]
  },
  {
   "cell_type": "code",
   "execution_count": null,
   "metadata": {
    "vscode": {
     "languageId": "r"
    }
   },
   "outputs": [],
   "source": [
    "# X...hmotnost 64 cestujících\n",
    "# X ~ N(64*90; 64*100)\n",
    "# P(X > 6000) = 1 - F(6000)\n",
    "\n",
    "1 - pnorm(q = 6000, mean = 64 * 90, sd = sqrt(64 * 100))\n"
   ]
  },
  {
   "cell_type": "markdown",
   "metadata": {},
   "source": [
    "## Příklad 2.\n",
    "Zásilka obsahuje 300 výrobků určitého typu. Je známo, že pravděpodobnost zhotovení vadného výrobku tohoto typu je 0,04.\n",
    "\n",
    "**a)** \n",
    "Odhadněte pravděpodobnost, že absolutní odchylka podílu vadných výrobků v zásilce od pravděpodobnosti vyrobení vadného výrobku bude menší než 1 %."
   ]
  },
  {
   "cell_type": "code",
   "execution_count": null,
   "metadata": {
    "vscode": {
     "languageId": "r"
    }
   },
   "outputs": [],
   "source": [
    "# X = (p − π)/sqrt(π*(1 − π))*sqrt(n) ∼ N(0, 1)\n",
    "# P(-0.01/sqrt(π*(1 − π))*sqrt(n) < X < 0.01/sqrt(π*(1 − π))*sqrt(n))\n",
    "pi <- 0.04\n",
    "n <- 300\n",
    "bound <- 0.01 / sqrt(pi * (1 - pi)) * sqrt(n)\n",
    "pnorm(q = bound, mean = 0, sd = 1) - pnorm(q = -bound, mean = 0, sd = 1)\n"
   ]
  },
  {
   "cell_type": "markdown",
   "metadata": {},
   "source": [
    "**b)** \n",
    "Jak se změní výsledek, jestliže zásilka bude obsahovat 3 000 výrobků?"
   ]
  },
  {
   "cell_type": "code",
   "execution_count": null,
   "metadata": {
    "vscode": {
     "languageId": "r"
    }
   },
   "outputs": [],
   "source": [
    "n <- 3000\n",
    "bound <- 0.01 / sqrt(pi * (1 - pi)) * sqrt(n)\n",
    "pnorm(q = bound, mean = 0, sd = 1) - pnorm(q = -bound, mean = 0, sd = 1)\n"
   ]
  },
  {
   "cell_type": "markdown",
   "metadata": {},
   "source": [
    "## Příklad 3.\n",
    "Cestující pravidelně jezdí do zaměstnání a zpět MHD. Je známo, že doba čekání na příjezd MHD se pohybuje v mezích od 0 do 3 minut. Jaká je pravděpodobnost, že celková doba čekání zaměstnance na příjezd MHD během 23 pracovních dnů bude kratší než 80 minut?"
   ]
  },
  {
   "cell_type": "code",
   "execution_count": null,
   "metadata": {
    "vscode": {
     "languageId": "r"
    }
   },
   "outputs": [],
   "source": [
    "# Y...doba i-tého čekání na MHD\n",
    "# y ~ R(0; 3)\n",
    "# X...celková doba čekání během 23 dnů (cesta tam a zpět ⇒ 46 čekání)\n",
    "# X ~ N(46*EY; 46*DY)\n",
    "# P(X < 80)\n",
    "\n",
    "a <- 0\n",
    "b <- 3\n",
    "n <- 46\n",
    "EY <- (a + b) / 2\n",
    "DY <- (b - a)^2 / 12\n",
    "\n",
    "pnorm(q = 80, mean = n * EY, sd = sqrt(n * DY))\n"
   ]
  },
  {
   "cell_type": "markdown",
   "metadata": {},
   "source": [
    "## Příklad 4.\n",
    "Předpokládejme, že průměrná spotřeba elektrické energie domácností v určitém městě v lednu je 120 kWh a směrodatná odchylka spotřeby je 100 kWh. Určete pravděpodobnost, že průměrná spotřeba 100 náhodně vybraných domácností bude větší než 140 kWh."
   ]
  },
  {
   "cell_type": "code",
   "execution_count": null,
   "metadata": {
    "vscode": {
     "languageId": "r"
    }
   },
   "outputs": [],
   "source": [
    "# Xi...spotřeba i-té domácnosti\n",
    "# X...průměrná spotřeba 100 domácností\n",
    "# X ~ N(EXi;Dxi/n)\n",
    "# P(X > 140)\n",
    "\n",
    "EXi <- 120\n",
    "DXi <- 100^2\n",
    "n <- 100\n",
    "1 - pnorm(q = 140, mean = EXi, sd = sqrt(DXi / n))\n"
   ]
  },
  {
   "cell_type": "markdown",
   "metadata": {},
   "source": [
    "## Příklad 5.\n",
    "Společnost Acme Battery Company vyvinula nový typ baterie mobilních telefonů. V průměru vydrží baterie 60 minut na jedno nabití. Směrodatná odchylka této doby je 4 minuty. Předpokládejme, že výrobní oddělení po 6 měsících spustí test kontroly kvality. Provedli dva náhodné výběry o rozsahu 10 baterií a v obou zjistili směrodatnou odchylku výdrže baterií větší než 6 minut. S jakou pravděpodobností takový výsledek mohli očekávat?"
   ]
  },
  {
   "cell_type": "code",
   "execution_count": null,
   "metadata": {
    "vscode": {
     "languageId": "r"
    }
   },
   "outputs": [],
   "source": [
    "# X = (n − 1)S^2/σ^2\n",
    "# X ∼ χ_n-1\n",
    "# P(S > 6) = P(X > ...)\n",
    "\n",
    "n <- 10\n",
    "S_obs <- 6\n",
    "sigma <- 4\n",
    "X_obs <- (n - 1) * S_obs^2 / sigma^2\n",
    "\n",
    "P_jedno_mereni <- 1 - pchisq(q = X_obs, df = n - 1)\n",
    "P_jedno_mereni\n",
    "P_jedno_mereni^2\n"
   ]
  },
  {
   "cell_type": "markdown",
   "metadata": {},
   "source": [
    "## Příklad 6.\n",
    "Z úmrtnostních tabulek vyplývá pravděpodobnost 0,99, že se 35 - letý muž dožije dalšího roku. Roční pojistné této věkové skupiny činí 2 000 Kč, v případě úmrtí pojišťovna vyplatí 100 000 Kč. Jaká je pravděpodobnost, že zisk z 500 pojištěných mužů ve věku 35 let bude alespoň 500 000 Kč? \n",
    "\n",
    "**a)** Řešte pomocí binomického rozdělení."
   ]
  },
  {
   "cell_type": "code",
   "execution_count": null,
   "metadata": {
    "vscode": {
     "languageId": "r"
    }
   },
   "outputs": [],
   "source": [
    "# X...počet mužů z 500, kteří se nedožijí dalšího roku\n",
    "# X ~ Bi(500; 0.01)\n",
    "# Z = 500 · 2 000 − X · 100 000\n",
    "# P(Z ≥ 500 000) = P(X ≤ 5)\n",
    "\n",
    "pbinom(5, size = 500, prob = 0.01)\n"
   ]
  },
  {
   "cell_type": "markdown",
   "metadata": {},
   "source": [
    "**b)** Řešte pomoci aproximace binomického rozdělení rozdělením normálním."
   ]
  },
  {
   "cell_type": "code",
   "execution_count": null,
   "metadata": {
    "vscode": {
     "languageId": "r"
    }
   },
   "outputs": [],
   "source": [
    "# X ~ Bi(500; 0.01) ~ N(500*0.01; 500*0.01*(1-0.01))\n",
    "# P(X ≤ 5) ~ P(X < 5.5) (oprava na spojitost)\n",
    "\n",
    "pnorm(5.5, mean = 500 * 0.01, sd = sqrt(500 * 0.01 * (1 - 0.01)))\n"
   ]
  },
  {
   "cell_type": "markdown",
   "metadata": {},
   "source": [
    "## Příklad 7.\n",
    "Předpokládejme, že v populaci má přibližně 60 % mladých mužů vyšší než doporučenou hladinu cholesterolu v séru. S jakou pravděpodobností bude mít v náhodném výběru 200 mladých mužů více než 120 z nich vyšší než doporučenou hladinu cholesterolu v séru?"
   ]
  },
  {
   "cell_type": "markdown",
   "metadata": {},
   "source": [
    "**a)** Řešte pomocí binomického rozdělení."
   ]
  },
  {
   "cell_type": "code",
   "execution_count": null,
   "metadata": {
    "vscode": {
     "languageId": "r"
    }
   },
   "outputs": [],
   "source": [
    "# X...počet mladých mužů z 200 s vyšší než doporučenou hladinou cholesterolu v séru\n",
    "# X ∼ Bi(200; 0.6)\n",
    "# P(X > 120) = 1 - P(X ≤ 120)\n",
    "\n",
    "1 - pbinom(120, size = 200, prob = 0.6)\n"
   ]
  },
  {
   "cell_type": "markdown",
   "metadata": {},
   "source": [
    "**b)** Řešte pomocí aproximace binomického rozdělení normálním rozdělením."
   ]
  },
  {
   "cell_type": "code",
   "execution_count": null,
   "metadata": {
    "vscode": {
     "languageId": "r"
    }
   },
   "outputs": [],
   "source": [
    "# X ~ N(200*0.6; 200*0.6(1-0.6)), tj. X ≈ N(120; 48)\n",
    "# 1 - P(X ≤ 120) ~ 1 - P(X < 120.5) (oprava na spojitost)\n",
    "\n",
    "1 - pnorm(120.5, mean = 200 * 0.6, sd = sqrt(200 * 0.6 * (1 - 0.6)))\n"
   ]
  }
 ],
 "metadata": {
  "kernelspec": {
   "display_name": "R",
   "language": "R",
   "name": "ir"
  },
  "language_info": {
   "codemirror_mode": "r",
   "file_extension": ".r",
   "mimetype": "text/x-r-source",
   "name": "R",
   "pygments_lexer": "r",
   "version": "4.4.2"
  }
 },
 "nbformat": 4,
 "nbformat_minor": 4
}
