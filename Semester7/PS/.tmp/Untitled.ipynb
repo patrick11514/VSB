{
 "cells": [
  {
   "cell_type": "code",
   "execution_count": 1,
   "id": "political-forum",
   "metadata": {},
   "outputs": [
    {
     "name": "stderr",
     "output_type": "stream",
     "text": [
      "\n",
      "Attaching package: ‘dplyr’\n",
      "\n",
      "\n",
      "The following objects are masked from ‘package:stats’:\n",
      "\n",
      "    filter, lag\n",
      "\n",
      "\n",
      "The following objects are masked from ‘package:base’:\n",
      "\n",
      "    intersect, setdiff, setequal, union\n",
      "\n",
      "\n",
      "Loading required package: lattice\n",
      "\n",
      "\n",
      "Attaching package: ‘BSDA’\n",
      "\n",
      "\n",
      "The following object is masked from ‘package:datasets’:\n",
      "\n",
      "    Orange\n",
      "\n",
      "\n"
     ]
    },
    {
     "data": {
      "text/html": [
       "'/home/ber0061/Repositories/PS_2021/tmp'"
      ],
      "text/latex": [
       "'/home/ber0061/Repositories/PS\\_2021/tmp'"
      ],
      "text/markdown": [
       "'/home/ber0061/Repositories/PS_2021/tmp'"
      ],
      "text/plain": [
       "[1] \"/home/ber0061/Repositories/PS_2021/tmp\""
      ]
     },
     "metadata": {},
     "output_type": "display_data"
    }
   ],
   "source": [
    "#implementace knihoven.Knihovny sta?eny pomoc? karty packages/install (PACKAGES V PRAVO DOLE)\n",
    "# vlo?en? knihoven ####\n",
    "library(readxl)  \n",
    "library(dplyr)\n",
    "library(openxlsx)\n",
    "library(moments)\n",
    "library(lawstat)\n",
    "library(BSDA)\n",
    "\n",
    "getwd() # vyp??e aktu?ln? pou??vanou slo?ku do konzole \n",
    "#setwd(\"~/?koln?/MAT/DU_S1\")  # nastaven? pracovn?ho adres??e nesm? se v n?zvech obj?vit ?esk? znaky\n",
    "#lze tak? p?es kartu Session/Set working directory/chose directory\n",
    "\n",
    "# vlastn? funkce ####"
   ]
  },
  {
   "cell_type": "code",
   "execution_count": 2,
   "id": "alike-portfolio",
   "metadata": {},
   "outputs": [],
   "source": [
    "analiza <- function(value) # vytvo?en? funkce pro zpracov?n? z?kladn?ch informac? o nasb?ran?ch datech\n",
    "{\n",
    "  # nazev         datov? typ    funkce\n",
    "  #\n",
    "  # value                       hodnoty pro zanalizov?n?\n",
    "  # analizestruc  dataframe     zanalizovan? hodnoty min max ...\n",
    "  \n",
    "  analizestruc = data.frame(1) # vytvo?en? struktury, do kter? budu ukl?dat informace o anal?ze dat\n",
    "  \n",
    "  analizestruc$rozsahSouboru  = length(value)\n",
    "  analizestruc$minimum = min(value)\n",
    "  analizestruc$dolni_kvartil = quantile(value,0.25,TRUE)\n",
    "  analizestruc$median = median(value)\n",
    "  analizestruc$prumer = mean(value)\n",
    "  analizestruc$horni_kvartil = quantile(value,0.75,TRUE)\n",
    "  analizestruc$maximum = max(value)\n",
    "  analizestruc$smerodatna_odchylka = sd(value)\n",
    "  analizestruc$variacni_koeficient = (100*(analizestruc$smerodatna_odchylka/analizestruc$prumer))\n",
    "  analizestruc$sikmost = (moments::skewness(value,na.rm=T))\n",
    "  analizestruc$spicatost = (moments::kurtosis(value,na.rm=T)-3)\n",
    "  analizestruc$mezikvartiloveRozpeti = analizestruc$horni_kvartil - analizestruc$dolni_kvartil\n",
    "  analizestruc$dolni_mez = analizestruc$dolni_kvartil - 1.5*analizestruc$mezikvartiloveRozpeti\n",
    "  analizestruc$horni_mez = analizestruc$horni_kvartil + 1.5*analizestruc$mezikvartiloveRozpeti\n",
    "  \n",
    "  analizestruc = analizestruc[,-1] #odstran? prvn? sloupec kter? je nepot?ebn? vzdikl p?i tvorb? struktury\n",
    "  # pot?eba zm?nit a? na to n?kdy p??jdu (nen? vhodn? vytvo?it sloupec a pak ho mazat sta?? vytvo?it ??dek)\n",
    "  return(analizestruc) #vr?t? strukturu s informacemi kter? vypo??t?\n",
    "}"
   ]
  },
  {
   "cell_type": "code",
   "execution_count": 3,
   "id": "valid-edmonton",
   "metadata": {},
   "outputs": [
    {
     "name": "stdout",
     "output_type": "stream",
     "text": [
      "\f"
     ]
    }
   ],
   "source": [
    "cat(\"\\014\")    # vy?ist? konzoli"
   ]
  },
  {
   "cell_type": "code",
   "execution_count": 4,
   "id": "dutch-burner",
   "metadata": {},
   "outputs": [
    {
     "name": "stderr",
     "output_type": "stream",
     "text": [
      "New names:\n",
      "* `` -> ...1\n",
      "\n"
     ]
    }
   ],
   "source": [
    "# z?sk?n? dat a zobrazen? prvn?ch n?kolik ??dk? ####\n",
    "data = read_excel(\"ukol_52.xlsx\",\"Vysledky mereni\") \n",
    "#data = data[,-1] #odstran? prvn? sloupec (ID nen? pot?eba pro tento ?kol)\n",
    "colnames(data)=c(\"ID\", \"22\",\"5\",\"22\",\"5\",\"22\",\"5\",\"22\",\"5\")  #p?ejmenov?n? jednotliv?ch sloupc?\n",
    "#head(data,8L) #vyp??e 8 ??dk? z pole data"
   ]
  },
  {
   "cell_type": "code",
   "execution_count": 5,
   "id": "composite-victor",
   "metadata": {},
   "outputs": [],
   "source": [
    "# v?b?r dat ####\n",
    "\n",
    "\n",
    "#varianta 1 s odstra??n?mi hosnotami NA te? neaktivn?\n",
    "A = na.omit(data[,(2:3)])\n",
    "B = na.omit(data[,(4:5)])\n",
    "C = na.omit(data[,(6:7)])\n",
    "D = na.omit(data[,(8:9)])\n",
    "\n",
    "#varianta 2 s odstra??n?mi hosnotami NA\n",
    "A = data[,(2:3)]\n",
    "B = data[,(4:5)]\n",
    "C = data[,(6:7)]\n",
    "D = data[,(8:9)]\n",
    "\n",
    "# vytvo?en? listu pro uchov?n? a rozt??d?n? dat p?i pr?ci ####\n",
    "# umo??uje zkr?tit program o akce, kter? se periodicky opakuj?. \n",
    "# List v tomto p??pad? zastupuje strukturu, kter? v jazyce R nen?\n",
    "\n",
    "data = list(NA,NA,NA,NA) #A,B,C,D\n",
    "names(data) <- c('A','B','C','D')\n",
    "data[['A']] <- list('s_NA' = A)\n",
    "data[['B']] <- list('s_NA' = B)\n",
    "data[['C']] <- list('s_NA' = C)\n",
    "data[['D']] <- list('s_NA' = D)"
   ]
  },
  {
   "cell_type": "code",
   "execution_count": 6,
   "id": "adjusted-september",
   "metadata": {},
   "outputs": [],
   "source": [
    "# zpracov?n? dat ####\n",
    "\n",
    "for(i in seq_along(data))\n",
    "{\n",
    "  #odstranÄ›nĂ­ pĹ™ebyteÄŤnĂ˝ch hodnot NA\n",
    "  data[[i]][['puvodni']] = na.omit(data[[i]][['s_NA']])\n",
    "  \n",
    "  # vĂ˝poÄŤet rozdĂ­lu mezi teplotou 22 a 5\n",
    "  data[[i]][['s_NA']]['rozdil'] = data[[i]][['s_NA']]['22']-data[[i]][['s_NA']]['5']\n",
    "  data[[i]][['puvodni']]['rozdil'] = data[[i]][['puvodni']]['22']-data[[i]][['puvodni']]['5']\n",
    "  \n",
    "  \n",
    "  for (j in seq_along(data[[i]][['puvodni']]))\n",
    "  {\n",
    "    # z?sk?n? podrobnosti o datech (jejich maxima minima stĹ™ednĂ­ hodnoty...)\n",
    "    data[[i]][['analiza']][[j]] = data.frame(analiza(data[[i]][['puvodni']][[j]]))  # funkce z ukolu_1\n",
    "    \n",
    "    # zaokrouhlenĂ­\n",
    "    data[[i]][['analiza']][[j]][,1:12] = round(data[[i]][['analiza']][[j]][,1:12],1)\n",
    "    data[[i]][['analiza']][[j]][,13:14] = round(data[[i]][['analiza']][[j]][,13:14],2)\n",
    "    \n",
    "    #odstranÄ›nĂ­ odlehlĂ˝ch pozorovĂˇnĂ­\n",
    "    data[[i]][['bez_OP']][[j]] = data.frame(data[[i]][['puvodni']][[j]])\n",
    "    \n",
    "    data[[i]][['bez_OP']][[j]] [ data[[i]][['puvodni']][j] > data[[i]][['analiza']][[j]]$horni_mez | data[[i]][['puvodni']][j] < data[[i]][['analiza']][[j]]$dolni_mez] = NA\n",
    "    data[[i]][['bez_OP']][[j]] = na.omit(data[[i]][['bez_OP']][[j]])\n",
    "  }\n",
    "}"
   ]
  },
  {
   "cell_type": "code",
   "execution_count": 7,
   "id": "human-surrey",
   "metadata": {},
   "outputs": [],
   "source": [
    "# pĹ™ejmenovĂˇnĂ­ kvĹŻli pĹ™ehlednosti ####\n",
    "for(i in seq_along(data))\n",
    "{\n",
    "  names(data[[i]][['analiza']]) <- c('22', '5','rozdil')\n",
    "  names(data[[i]][['bez_OP']]) <- c('22', '5','rozdil')\n",
    "}"
   ]
  },
  {
   "cell_type": "code",
   "execution_count": 8,
   "id": "spoken-conference",
   "metadata": {},
   "outputs": [
    {
     "data": {
      "image/png": "[encoded data removed]",
      "text/plain": [
       "Plot with title “RozdĂ­l svÄ›telnĂ©ho toku zĂˇĹ™ivek”"
      ]
     },
     "metadata": {
      "image/png": {
       "height": 420,
       "width": 420
      }
     },
     "output_type": "display_data"
    }
   ],
   "source": [
    "# zobrazenĂ­ ####\n",
    "# KrabicovĂ˝\n",
    "boxplot(data.frame(data[['A']][['s_NA']]['rozdil'])[,1],data.frame(data[['B']][['s_NA']]['rozdil'])[,1],\n",
    "        main = \"RozdĂ­l svÄ›telnĂ©ho toku zĂˇĹ™ivek\",\n",
    "        names=c(\"Amber\",\"Bright\"),\n",
    "        ylab = \"tok (lm)\",\n",
    "        boxwex = 0.5)"
   ]
  },
  {
   "cell_type": "code",
   "execution_count": 9,
   "id": "aquatic-blanket",
   "metadata": {},
   "outputs": [
    {
     "data": {
      "image/png": "[encoded data removed]",
      "text/plain": [
       "Plot with title “RozdĂ­l svÄ›telnĂ©ho toku z??zĂˇĹ™ivek”"
      ]
     },
     "metadata": {
      "image/png": {
       "height": 420,
       "width": 420
      }
     },
     "output_type": "display_data"
    }
   ],
   "source": [
    "boxplot(data.frame(data[['A']][['bez_OP']]['rozdil'])[,1],data.frame(data[['B']][['bez_OP']]['rozdil'])[,1],\n",
    "        main = \"RozdĂ­l svÄ›telnĂ©ho toku z??zĂˇĹ™ivek\",\n",
    "        names=c(\"Amber\",\"Bright\"),\n",
    "        ylab = \"tok (lm)\",\n",
    "        boxwex = 0.5)"
   ]
  },
  {
   "cell_type": "code",
   "execution_count": 10,
   "id": "silent-wednesday",
   "metadata": {},
   "outputs": [
    {
     "data": {
      "image/png": "[encoded data removed]",
      "text/plain": [
       "Plot with title “ ”"
      ]
     },
     "metadata": {
      "image/png": {
       "height": 420,
       "width": 420
      }
     },
     "output_type": "display_data"
    }
   ],
   "source": [
    "# Histogram\n",
    "hist(data.frame(data[['A']][['bez_OP']]['rozdil'])[,1],\n",
    "     main = \" \",\n",
    "     xlab = \"SvĂ­tivost (lm)\",\n",
    "     xlim = c(-10,15),\n",
    "     ylab = \"ÄŚetnost\",\n",
    "     ylim = c(0,21),\n",
    "     border =  \"black\",\n",
    "     col = \"lightgrey\",\n",
    "     labels = TRUE)"
   ]
  },
  {
   "cell_type": "code",
   "execution_count": 11,
   "id": "interior-thursday",
   "metadata": {},
   "outputs": [
    {
     "data": {
      "image/png": "[encoded data removed]",
      "text/plain": [
       "Plot with title “Histograf Bright”"
      ]
     },
     "metadata": {
      "image/png": {
       "height": 420,
       "width": 420
      }
     },
     "output_type": "display_data"
    }
   ],
   "source": [
    "hist(data.frame(data[['B']][['bez_OP']]['rozdil'])[,1],\n",
    "     main = \"Histograf Bright\",\n",
    "     xlab = \"SvĂ­tivost (lm)\",\n",
    "     xlim = c(-10,15),\n",
    "     ylab = \"ÄŚetnost\",\n",
    "     ylim = c(0,21),\n",
    "     border = \"black\",\n",
    "     col = \"lightgrey\",\n",
    "     labels = TRUE)"
   ]
  },
  {
   "cell_type": "code",
   "execution_count": 12,
   "id": "absent-auditor",
   "metadata": {},
   "outputs": [
    {
     "data": {
      "image/png": "[encoded data removed]",
      "text/plain": [
       "Plot with title “QQ-graf, SvĂ­tivosti Amber”"
      ]
     },
     "metadata": {
      "image/png": {
       "height": 420,
       "width": 420
      }
     },
     "output_type": "display_data"
    }
   ],
   "source": [
    "# Q-Q graf \n",
    "qqnorm(data.frame(data[['A']][['bez_OP']]['rozdil'])[,1],\n",
    "       xlab=\"TeoretickĂ© kvantily\",\n",
    "       ylab=\"VĂ˝bÄ›rovĂ© kvantily\",\n",
    "       main=\"QQ-graf, SvĂ­tivosti Amber\",\n",
    "       col = \"black\")\n",
    "qqline(data.frame(data[['A']][['bez_OP']]['rozdil'])[,1])"
   ]
  },
  {
   "cell_type": "code",
   "execution_count": 13,
   "id": "green-collective",
   "metadata": {},
   "outputs": [
    {
     "data": {
      "image/png": "[encoded data removed]",
      "text/plain": [
       "Plot with title “QQ-graf, SvĂ­tivost Bright”"
      ]
     },
     "metadata": {
      "image/png": {
       "height": 420,
       "width": 420
      }
     },
     "output_type": "display_data"
    }
   ],
   "source": [
    "qqnorm(data.frame(data[['B']][['bez_OP']]['rozdil'])[,1], \n",
    "       xlab=\"Teoretick? kvantily\",\n",
    "       ylab=\"VĂ˝bÄ›rovĂ© kvantily\",\n",
    "       main=\"QQ-graf, SvĂ­tivost Bright\",\n",
    "       col = \"black\")\n",
    "qqline(data.frame(data[['B']][['bez_OP']]['rozdil'])[,1])"
   ]
  },
  {
   "cell_type": "code",
   "execution_count": 38,
   "id": "outdoor-imagination",
   "metadata": {},
   "outputs": [
    {
     "name": "stdout",
     "output_type": "stream",
     "text": [
      "[1] 1\n"
     ]
    },
    {
     "name": "stderr",
     "output_type": "stream",
     "text": [
      "Warning message in data[i] <- `*vtmp*`:\n",
      "“number of items to replace is not a multiple of replacement length”\n"
     ]
    },
    {
     "name": "stdout",
     "output_type": "stream",
     "text": [
      "[1] 2\n"
     ]
    },
    {
     "name": "stderr",
     "output_type": "stream",
     "text": [
      "Warning message in data[i] <- `*vtmp*`:\n",
      "“number of items to replace is not a multiple of replacement length”\n"
     ]
    },
    {
     "name": "stdout",
     "output_type": "stream",
     "text": [
      "[1] 3\n"
     ]
    },
    {
     "name": "stderr",
     "output_type": "stream",
     "text": [
      "Warning message in data[i] <- `*vtmp*`:\n",
      "“number of items to replace is not a multiple of replacement length”\n"
     ]
    },
    {
     "name": "stdout",
     "output_type": "stream",
     "text": [
      "[1] 4\n"
     ]
    },
    {
     "name": "stderr",
     "output_type": "stream",
     "text": [
      "Warning message in data[i] <- `*vtmp*`:\n",
      "“number of items to replace is not a multiple of replacement length”\n"
     ]
    }
   ],
   "source": [
    "# testy ####\n",
    "for (i in seq_along(data)) \n",
    "{\n",
    "  print(i)\n",
    "  # Shapir?v-Wilk?v test (p-hodnota) ####\n",
    "  data[i][['test']][['shapiro']] = shapiro.test(data[[i]][['bez_OP']][['rozdil']][,1])\n",
    "  # Test symetrie (Wilcoxon?v levostrann? test (p-hodnota))####\n",
    "  data[[i]][['test']][['symetrie']] = symmetry.test(data.frame(data[[i]][['bez_OP']]['rozdil'])[,1],boot=FALSE)\n",
    "  # BodovĂ˝ odhad = prĹŻmÄ›r\n",
    "  # 95% levostrannĂ˝ intervalovĂ˝ odhad ####\n",
    "  data[[i]][['test']][['95%_levostrany']] = t.test(data.frame(data[[i]][['bez_OP']]['rozdil'])[,1], alternative = 'greater', conf.level = 0.95)\n",
    "  # Wilcoxon?v test median\n",
    "  data[[i]][['test']][['wilcox_med']] = wilcox.test(data.frame(data[[i]][['bez_OP']]['rozdil'])[,1], mu = data.frame(data[[i]][['analiza']][['rozdil']]['median'])[,1], alternative = 'greater')\n",
    "}"
   ]
  },
  {
   "cell_type": "code",
   "execution_count": 40,
   "id": "failing-quilt",
   "metadata": {
    "scrolled": true
   },
   "outputs": [
    {
     "data": {
      "text/html": [
       "<table class=\"dataframe\">\n",
       "<caption>A data.frame: 65 × 1</caption>\n",
       "<thead>\n",
       "\t<tr><th></th><th scope=col>data..i.....puvodni.....j..</th></tr>\n",
       "\t<tr><th></th><th scope=col>&lt;dbl&gt;</th></tr>\n",
       "</thead>\n",
       "<tbody>\n",
       "\t<tr><th scope=row>1</th><td>-0.7</td></tr>\n",
       "\t<tr><th scope=row>2</th><td> 6.4</td></tr>\n",
       "\t<tr><th scope=row>3</th><td>11.7</td></tr>\n",
       "\t<tr><th scope=row>4</th><td>-6.3</td></tr>\n",
       "\t<tr><th scope=row>5</th><td>-2.1</td></tr>\n",
       "\t<tr><th scope=row>6</th><td> 1.7</td></tr>\n",
       "\t<tr><th scope=row>7</th><td>-2.0</td></tr>\n",
       "\t<tr><th scope=row>8</th><td>-0.3</td></tr>\n",
       "\t<tr><th scope=row>9</th><td>-8.0</td></tr>\n",
       "\t<tr><th scope=row>10</th><td>-0.5</td></tr>\n",
       "\t<tr><th scope=row>11</th><td>-4.3</td></tr>\n",
       "\t<tr><th scope=row>12</th><td>-3.4</td></tr>\n",
       "\t<tr><th scope=row>13</th><td> 9.6</td></tr>\n",
       "\t<tr><th scope=row>14</th><td>-5.7</td></tr>\n",
       "\t<tr><th scope=row>15</th><td> 5.4</td></tr>\n",
       "\t<tr><th scope=row>16</th><td> 3.8</td></tr>\n",
       "\t<tr><th scope=row>17</th><td>-1.7</td></tr>\n",
       "\t<tr><th scope=row>18</th><td> 5.7</td></tr>\n",
       "\t<tr><th scope=row>19</th><td>-1.3</td></tr>\n",
       "\t<tr><th scope=row>20</th><td> 4.1</td></tr>\n",
       "\t<tr><th scope=row>21</th><td> 2.4</td></tr>\n",
       "\t<tr><th scope=row>22</th><td> 7.3</td></tr>\n",
       "\t<tr><th scope=row>23</th><td> 1.1</td></tr>\n",
       "\t<tr><th scope=row>24</th><td>-7.8</td></tr>\n",
       "\t<tr><th scope=row>25</th><td> 3.1</td></tr>\n",
       "\t<tr><th scope=row>26</th><td> 0.8</td></tr>\n",
       "\t<tr><th scope=row>27</th><td> 5.8</td></tr>\n",
       "\t<tr><th scope=row>28</th><td> 4.2</td></tr>\n",
       "\t<tr><th scope=row>29</th><td> 0.4</td></tr>\n",
       "\t<tr><th scope=row>30</th><td> 1.8</td></tr>\n",
       "\t<tr><th scope=row>⋮</th><td>⋮</td></tr>\n",
       "\t<tr><th scope=row>36</th><td> 0.9</td></tr>\n",
       "\t<tr><th scope=row>37</th><td>-1.3</td></tr>\n",
       "\t<tr><th scope=row>38</th><td> 2.4</td></tr>\n",
       "\t<tr><th scope=row>39</th><td> 7.4</td></tr>\n",
       "\t<tr><th scope=row>40</th><td> 7.1</td></tr>\n",
       "\t<tr><th scope=row>41</th><td> 5.2</td></tr>\n",
       "\t<tr><th scope=row>42</th><td> 2.0</td></tr>\n",
       "\t<tr><th scope=row>43</th><td> 1.5</td></tr>\n",
       "\t<tr><th scope=row>44</th><td> 4.6</td></tr>\n",
       "\t<tr><th scope=row>45</th><td>-0.9</td></tr>\n",
       "\t<tr><th scope=row>46</th><td> 1.1</td></tr>\n",
       "\t<tr><th scope=row>47</th><td>-3.9</td></tr>\n",
       "\t<tr><th scope=row>48</th><td>10.6</td></tr>\n",
       "\t<tr><th scope=row>49</th><td> 4.3</td></tr>\n",
       "\t<tr><th scope=row>50</th><td> 2.3</td></tr>\n",
       "\t<tr><th scope=row>51</th><td> 0.6</td></tr>\n",
       "\t<tr><th scope=row>52</th><td>-7.6</td></tr>\n",
       "\t<tr><th scope=row>53</th><td>-2.6</td></tr>\n",
       "\t<tr><th scope=row>54</th><td>-5.3</td></tr>\n",
       "\t<tr><th scope=row>55</th><td> 0.4</td></tr>\n",
       "\t<tr><th scope=row>56</th><td> 8.7</td></tr>\n",
       "\t<tr><th scope=row>57</th><td>-7.1</td></tr>\n",
       "\t<tr><th scope=row>58</th><td>-1.8</td></tr>\n",
       "\t<tr><th scope=row>59</th><td>10.8</td></tr>\n",
       "\t<tr><th scope=row>60</th><td> 2.0</td></tr>\n",
       "\t<tr><th scope=row>61</th><td> 7.6</td></tr>\n",
       "\t<tr><th scope=row>62</th><td>-0.4</td></tr>\n",
       "\t<tr><th scope=row>64</th><td>-1.5</td></tr>\n",
       "\t<tr><th scope=row>65</th><td>-2.0</td></tr>\n",
       "\t<tr><th scope=row>66</th><td> 0.7</td></tr>\n",
       "</tbody>\n",
       "</table>\n"
      ],
      "text/latex": [
       "A data.frame: 65 × 1\n",
       "\\begin{tabular}{r|l}\n",
       "  & data..i.....puvodni.....j..\\\\\n",
       "  & <dbl>\\\\\n",
       "\\hline\n",
       "\t1 & -0.7\\\\\n",
       "\t2 &  6.4\\\\\n",
       "\t3 & 11.7\\\\\n",
       "\t4 & -6.3\\\\\n",
       "\t5 & -2.1\\\\\n",
       "\t6 &  1.7\\\\\n",
       "\t7 & -2.0\\\\\n",
       "\t8 & -0.3\\\\\n",
       "\t9 & -8.0\\\\\n",
       "\t10 & -0.5\\\\\n",
       "\t11 & -4.3\\\\\n",
       "\t12 & -3.4\\\\\n",
       "\t13 &  9.6\\\\\n",
       "\t14 & -5.7\\\\\n",
       "\t15 &  5.4\\\\\n",
       "\t16 &  3.8\\\\\n",
       "\t17 & -1.7\\\\\n",
       "\t18 &  5.7\\\\\n",
       "\t19 & -1.3\\\\\n",
       "\t20 &  4.1\\\\\n",
       "\t21 &  2.4\\\\\n",
       "\t22 &  7.3\\\\\n",
       "\t23 &  1.1\\\\\n",
       "\t24 & -7.8\\\\\n",
       "\t25 &  3.1\\\\\n",
       "\t26 &  0.8\\\\\n",
       "\t27 &  5.8\\\\\n",
       "\t28 &  4.2\\\\\n",
       "\t29 &  0.4\\\\\n",
       "\t30 &  1.8\\\\\n",
       "\t⋮ & ⋮\\\\\n",
       "\t36 &  0.9\\\\\n",
       "\t37 & -1.3\\\\\n",
       "\t38 &  2.4\\\\\n",
       "\t39 &  7.4\\\\\n",
       "\t40 &  7.1\\\\\n",
       "\t41 &  5.2\\\\\n",
       "\t42 &  2.0\\\\\n",
       "\t43 &  1.5\\\\\n",
       "\t44 &  4.6\\\\\n",
       "\t45 & -0.9\\\\\n",
       "\t46 &  1.1\\\\\n",
       "\t47 & -3.9\\\\\n",
       "\t48 & 10.6\\\\\n",
       "\t49 &  4.3\\\\\n",
       "\t50 &  2.3\\\\\n",
       "\t51 &  0.6\\\\\n",
       "\t52 & -7.6\\\\\n",
       "\t53 & -2.6\\\\\n",
       "\t54 & -5.3\\\\\n",
       "\t55 &  0.4\\\\\n",
       "\t56 &  8.7\\\\\n",
       "\t57 & -7.1\\\\\n",
       "\t58 & -1.8\\\\\n",
       "\t59 & 10.8\\\\\n",
       "\t60 &  2.0\\\\\n",
       "\t61 &  7.6\\\\\n",
       "\t62 & -0.4\\\\\n",
       "\t64 & -1.5\\\\\n",
       "\t65 & -2.0\\\\\n",
       "\t66 &  0.7\\\\\n",
       "\\end{tabular}\n"
      ],
      "text/markdown": [
       "\n",
       "A data.frame: 65 × 1\n",
       "\n",
       "| <!--/--> | data..i.....puvodni.....j.. &lt;dbl&gt; |\n",
       "|---|---|\n",
       "| 1 | -0.7 |\n",
       "| 2 |  6.4 |\n",
       "| 3 | 11.7 |\n",
       "| 4 | -6.3 |\n",
       "| 5 | -2.1 |\n",
       "| 6 |  1.7 |\n",
       "| 7 | -2.0 |\n",
       "| 8 | -0.3 |\n",
       "| 9 | -8.0 |\n",
       "| 10 | -0.5 |\n",
       "| 11 | -4.3 |\n",
       "| 12 | -3.4 |\n",
       "| 13 |  9.6 |\n",
       "| 14 | -5.7 |\n",
       "| 15 |  5.4 |\n",
       "| 16 |  3.8 |\n",
       "| 17 | -1.7 |\n",
       "| 18 |  5.7 |\n",
       "| 19 | -1.3 |\n",
       "| 20 |  4.1 |\n",
       "| 21 |  2.4 |\n",
       "| 22 |  7.3 |\n",
       "| 23 |  1.1 |\n",
       "| 24 | -7.8 |\n",
       "| 25 |  3.1 |\n",
       "| 26 |  0.8 |\n",
       "| 27 |  5.8 |\n",
       "| 28 |  4.2 |\n",
       "| 29 |  0.4 |\n",
       "| 30 |  1.8 |\n",
       "| ⋮ | ⋮ |\n",
       "| 36 |  0.9 |\n",
       "| 37 | -1.3 |\n",
       "| 38 |  2.4 |\n",
       "| 39 |  7.4 |\n",
       "| 40 |  7.1 |\n",
       "| 41 |  5.2 |\n",
       "| 42 |  2.0 |\n",
       "| 43 |  1.5 |\n",
       "| 44 |  4.6 |\n",
       "| 45 | -0.9 |\n",
       "| 46 |  1.1 |\n",
       "| 47 | -3.9 |\n",
       "| 48 | 10.6 |\n",
       "| 49 |  4.3 |\n",
       "| 50 |  2.3 |\n",
       "| 51 |  0.6 |\n",
       "| 52 | -7.6 |\n",
       "| 53 | -2.6 |\n",
       "| 54 | -5.3 |\n",
       "| 55 |  0.4 |\n",
       "| 56 |  8.7 |\n",
       "| 57 | -7.1 |\n",
       "| 58 | -1.8 |\n",
       "| 59 | 10.8 |\n",
       "| 60 |  2.0 |\n",
       "| 61 |  7.6 |\n",
       "| 62 | -0.4 |\n",
       "| 64 | -1.5 |\n",
       "| 65 | -2.0 |\n",
       "| 66 |  0.7 |\n",
       "\n"
      ],
      "text/plain": [
       "   data..i.....puvodni.....j..\n",
       "1  -0.7                       \n",
       "2   6.4                       \n",
       "3  11.7                       \n",
       "4  -6.3                       \n",
       "5  -2.1                       \n",
       "6   1.7                       \n",
       "7  -2.0                       \n",
       "8  -0.3                       \n",
       "9  -8.0                       \n",
       "10 -0.5                       \n",
       "11 -4.3                       \n",
       "12 -3.4                       \n",
       "13  9.6                       \n",
       "14 -5.7                       \n",
       "15  5.4                       \n",
       "16  3.8                       \n",
       "17 -1.7                       \n",
       "18  5.7                       \n",
       "19 -1.3                       \n",
       "20  4.1                       \n",
       "21  2.4                       \n",
       "22  7.3                       \n",
       "23  1.1                       \n",
       "24 -7.8                       \n",
       "25  3.1                       \n",
       "26  0.8                       \n",
       "27  5.8                       \n",
       "28  4.2                       \n",
       "29  0.4                       \n",
       "30  1.8                       \n",
       "⋮  ⋮                          \n",
       "36  0.9                       \n",
       "37 -1.3                       \n",
       "38  2.4                       \n",
       "39  7.4                       \n",
       "40  7.1                       \n",
       "41  5.2                       \n",
       "42  2.0                       \n",
       "43  1.5                       \n",
       "44  4.6                       \n",
       "45 -0.9                       \n",
       "46  1.1                       \n",
       "47 -3.9                       \n",
       "48 10.6                       \n",
       "49  4.3                       \n",
       "50  2.3                       \n",
       "51  0.6                       \n",
       "52 -7.6                       \n",
       "53 -2.6                       \n",
       "54 -5.3                       \n",
       "55  0.4                       \n",
       "56  8.7                       \n",
       "57 -7.1                       \n",
       "58 -1.8                       \n",
       "59 10.8                       \n",
       "60  2.0                       \n",
       "61  7.6                       \n",
       "62 -0.4                       \n",
       "64 -1.5                       \n",
       "65 -2.0                       \n",
       "66  0.7                       "
      ]
     },
     "metadata": {},
     "output_type": "display_data"
    }
   ],
   "source": [
    "data[[1]][['bez_OP']][['rozdil']]"
   ]
  },
  {
   "cell_type": "code",
   "execution_count": null,
   "id": "reasonable-sword",
   "metadata": {},
   "outputs": [],
   "source": [
    "#manuv-Witneuv\n",
    "spoj = list()\n",
    "spoj[['bodovy_odhad']] = data.frame(data[['A']][['analiza']][['rozdil']]['median'])[,1] - data.frame(data[['B']][['analiza']][['rozdil']]['median'])[,1]\n",
    "# srovnani nedianu poklesu\n",
    "spoj[['levostrany_IO']] = t.test(x = data.frame(data[['A']][['bez_OP']]['rozdil'])[,1],y = data.frame(data[['B']][['bez_OP']]['rozdil'])[,1], mu = spoj[['bodovy_odhad']],alternative = 'greater', var.equal = TRUE, conf.level = 0.95)\n",
    "# wilcoxsn?v test\n",
    "spoj[['mann_whith_levostranne']] = wilcox.test(x = data.frame(data[['A']][['bez_OP']]['rozdil'])[,1],y = data.frame(data[['B']][['bez_OP']]['rozdil'])[,1], mu = spoj[['bodovy_odhad']],alternative = 'greater', conf.level = 0.95,conf.int = TRUE)\n",
    "\n",
    "\n",
    "# pozn?mky k lu?t?n?\n",
    "#pokud je ?ikmost a ?pi?atost o dva od -2 do 2 potom odpov?d? nom?mu rozd?len?(qqgraf)\n",
    "#toto je explora?n? odhad a je pot?eba ov??it shapir?v wilkov?m testem \n",
    "#pokud v?jde p hodnota v?jde v?ce ne? zvolen? hladina v?znamnosti (tady 0.05 proto?e zad?n?) pak nezam?t?me\n",
    "#zam?tnout nebo nezam?tnout mu?eme pouze nulovou hypot?zu Ha (-H0) s t?m nem? co d?lat\n",
    "\n",
    "#explora?n? pomoc? tvaru histogramu a exaktn? pomoc? testu symetrie\n",
    "\n",
    "\n",
    "#pokud je p hodnota z "
   ]
  }
 ],
 "metadata": {
  "kernelspec": {
   "display_name": "R",
   "language": "R",
   "name": "ir"
  },
  "language_info": {
   "codemirror_mode": "r",
   "file_extension": ".r",
   "mimetype": "text/x-r-source",
   "name": "R",
   "pygments_lexer": "r",
   "version": "4.0.5"
  }
 },
 "nbformat": 4,
 "nbformat_minor": 5
}
