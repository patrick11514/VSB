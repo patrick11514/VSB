{
 "cells": [
  {
   "cell_type": "code",
   "execution_count": null,
   "id": "extreme-laptop",
   "metadata": {},
   "outputs": [],
   "source": [
    "data = list()\n",
    "jmena = c(\"Profa\", \"Stydlín\", \"Rejpal\", \"Kejchal\", \"Dřímal\", \"Štístko\", \"Šmudla\")\n",
    "for(i in 1:7){\n",
    "    tmp = as.data.frame(rnorm(n = 31, mean = rnorm(1,2,0.4), sd = 0.5))\n",
    "    colnames(tmp) = c(\"hodnota\")\n",
    "    tmp$typ = jmena[i]\n",
    "    data[[i]] = tmp\n",
    "}\n",
    "library(dplyr)\n",
    "data.df = bind_rows(data)\n",
    "boxplot(data.df$hodnota ~ data.df$typ)"
   ]
  },
  {
   "cell_type": "code",
   "execution_count": null,
   "id": "binary-tulsa",
   "metadata": {},
   "outputs": [],
   "source": [
    "writexl::write_xlsx(data.df,\"data/snehurka.xlsx\")"
   ]
  }
 ],
 "metadata": {
  "kernelspec": {
   "display_name": "R",
   "language": "R",
   "name": "ir"
  },
  "language_info": {
   "codemirror_mode": "r",
   "file_extension": ".r",
   "mimetype": "text/x-r-source",
   "name": "R",
   "pygments_lexer": "r",
   "version": "4.0.5"
  }
 },
 "nbformat": 4,
 "nbformat_minor": 5
}
