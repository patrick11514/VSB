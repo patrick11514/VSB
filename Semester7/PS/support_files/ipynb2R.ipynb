{
 "cells": [
  {
   "cell_type": "code",
   "execution_count": 1,
   "metadata": {},
   "outputs": [
    {
     "data": {
      "text/plain": [
       "['../CV1/kombinatorika',\n",
       " '../CV1/pravdepodobnost',\n",
       " '../CV1/uvod_R',\n",
       " '../CV2/DNV',\n",
       " '../CV3/vybrana_rozd_DNV',\n",
       " '../CV4/SNV',\n",
       " '../CV5/vybrana_rozd_SNV',\n",
       " '../CV5/nahodny_vektor',\n",
       " '../CV6/exploracni_analyza',\n",
       " '../CV7/vyberove_charakteristiky',\n",
       " '../CV8/uvod_do_teorie_odhadu',\n",
       " '../CV9/testovani_hypotez',\n",
       " '../CV10/dvou_vyberove_testy',\n",
       " '../CV11/extra',\n",
       " '../CV11/vicevyberove_testy',\n",
       " '../CV12/testy_dobre_shody_analyza_zavislosti']"
      ]
     },
     "execution_count": 1,
     "metadata": {},
     "output_type": "execute_result"
    }
   ],
   "source": [
    "import json\n",
    "import numpy as np\n",
    "\n",
    "import os\n",
    "\n",
    "# List all folders in the directory above the current one that start with \"CV\"\n",
    "cv_folders = [os.path.join(\"..\", d) for d in os.listdir(\"..\") if os.path.isdir(os.path.join(\"..\", d)) and d.startswith(\"CV\")]\n",
    "\n",
    "# For each of these folders, list all files and filter to keep only those with .ipynb extension\n",
    "ipynb_files = []\n",
    "for folder in cv_folders:\n",
    "    files_in_folder = [os.path.join(folder, f) for f in os.listdir(folder) if os.path.isfile(os.path.join(folder, f))]\n",
    "    ipynb_files.extend([f for f in files_in_folder if f.endswith(\".ipynb\")])\n",
    "\n",
    "# Remove the .ipynb extension from the paths\n",
    "cleaned_paths = [f[:-6] for f in ipynb_files]\n",
    "\n",
    "cleaned_paths\n"
   ]
  },
  {
   "cell_type": "code",
   "execution_count": 2,
   "metadata": {},
   "outputs": [
    {
     "name": "stdout",
     "output_type": "stream",
     "text": [
      "../CV1/kombinatorika\n",
      "../CV1/pravdepodobnost\n",
      "../CV1/uvod_R\n",
      "../CV2/DNV\n",
      "../CV3/vybrana_rozd_DNV\n",
      "../CV4/SNV\n",
      "../CV5/vybrana_rozd_SNV\n",
      "../CV5/nahodny_vektor\n",
      "../CV6/exploracni_analyza\n",
      "../CV7/vyberove_charakteristiky\n",
      "../CV8/uvod_do_teorie_odhadu\n",
      "../CV9/testovani_hypotez\n",
      "../CV10/dvou_vyberove_testy\n",
      "../CV11/extra\n",
      "../CV11/vicevyberove_testy\n",
      "../CV12/testy_dobre_shody_analyza_zavislosti\n"
     ]
    }
   ],
   "source": [
    "for filename in cleaned_paths:\n",
    "    print(filename)\n",
    "    velikost_radku_intro = 86\n",
    "\n",
    "    json_file = open(filename + '.ipynb')\n",
    "    data = json.load(json_file)\n",
    "\n",
    "\n",
    "    all_cells = data['cells']\n",
    "    out_list = list()\n",
    "\n",
    "    intro = all_cells.pop(0)\n",
    "    zdroj_intro = intro['source']\n",
    "\n",
    "    out_list.append('# '+'.'*velikost_radku_intro + '\\n')\n",
    "    tmp_text = zdroj_intro[0][2:].replace('\\n','')\n",
    "    n = len(tmp_text)\n",
    "    rem = (velikost_radku_intro - n)/2\n",
    "    out_list.append('# ' + '.'*int(np.ceil(rem)) + tmp_text + '.'*int(np.floor(rem)) + '\\n')\n",
    "    tmp_text = zdroj_intro[1][3:].replace('\\n','')\n",
    "    n = len(tmp_text)\n",
    "    rem = (velikost_radku_intro - n)/2\n",
    "    out_list.append('# ' + '.'*int(np.ceil(rem)) + tmp_text + '.'*int(np.floor(rem)) + '\\n')\n",
    "    out_list.append('# '+'.'*velikost_radku_intro + '\\n')\n",
    "    out_list.append('\\n')\n",
    "\n",
    "    out_list.append('# Nezobrazuje-li se vám text korektně, nastavte File \\ Reopen with Encoding... na UTF-8\\n')\n",
    "    out_list.append('# Pro zobrazení obsahu skriptu použijte CTRL+SHIFT+O\\n')\n",
    "    out_list.append('# Pro spouštění příkazů v jednotlivých řádcích použijte CTRL+ENTER\\n')\n",
    "    out_list.append('\\n')\n",
    "\n",
    "    for one_cell in all_cells:\n",
    "        if one_cell['cell_type'] == 'markdown':\n",
    "            for line in one_cell['source']:\n",
    "                if line[0:2] == '![':\n",
    "                    out_list.append('# Obrázek viz sbírka úloh.\\n')\n",
    "                else:\n",
    "                    loc_line = line.replace('\\n','')\n",
    "                    sub_lines = list()\n",
    "                    while len(loc_line)>velikost_radku_intro:\n",
    "                        temp_start = loc_line[0:velikost_radku_intro]\n",
    "                        if loc_line[velikost_radku_intro] != ' ':\n",
    "                            idx = temp_start.rfind(' ')\n",
    "                            if idx == -1:\n",
    "                                idx = temp_start.rfind('/')\n",
    "                                temp_start = temp_start[:idx]\n",
    "                                loc_line = loc_line[idx:]\n",
    "                            else:\n",
    "                                temp_start = temp_start[:idx]\n",
    "                                loc_line = loc_line[(idx+1):]                            \n",
    "                        else:\n",
    "                            loc_line = loc_line[(velikost_radku_intro+1):]\n",
    "                        sub_lines.append(temp_start)\n",
    "                    sub_lines.append(loc_line)\n",
    "                    for r_line in sub_lines:     \n",
    "                        for i in range(4,0,-1):\n",
    "                            if r_line.find('#'*i)>-1:\n",
    "                                r_line = r_line.replace('#'*i,'*'*(i-1)) + '----'                  \n",
    "                        out_list.append('# ' + r_line.replace('<hr>','.'*velikost_radku_intro).replace('----',\n",
    "                                        ' ####').replace('<br>','') + '\\n')\n",
    "            out_list.append('\\n')\n",
    "            out_list.append('\\n')\n",
    "            \n",
    "        if one_cell['cell_type'] == 'code':\n",
    "            for line in one_cell['source']:\n",
    "                out_list.append(line)\n",
    "            out_list.append('\\n')\n",
    "            out_list.append('\\n')\n",
    "\n",
    "    outfile = open(filename + '.r', 'w')\n",
    "    outfile.writelines(out_list)\n",
    "    outfile.close()"
   ]
  },
  {
   "cell_type": "code",
   "execution_count": null,
   "metadata": {},
   "outputs": [],
   "source": []
  }
 ],
 "metadata": {
  "kernelspec": {
   "display_name": "usr",
   "language": "python",
   "name": "python3"
  },
  "language_info": {
   "codemirror_mode": {
    "name": "ipython",
    "version": 3
   },
   "file_extension": ".py",
   "mimetype": "text/x-python",
   "name": "python",
   "nbconvert_exporter": "python",
   "pygments_lexer": "ipython3",
   "version": "3.13.2"
  }
 },
 "nbformat": 4,
 "nbformat_minor": 4
}
