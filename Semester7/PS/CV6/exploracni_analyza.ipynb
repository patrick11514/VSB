{
 "cells": [
  {
   "cell_type": "markdown",
   "id": "b6219073",
   "metadata": {},
   "source": [
    " # Cvičení 6. Preprocesing dat a explorační analýza \n",
    " ## Michal Béreš, Adéla Vrtková, Martina Litschmannová\n",
    " ---"
   ]
  },
  {
   "cell_type": "markdown",
   "id": "540ecd41",
   "metadata": {},
   "source": [
    " # 1. Rozšiřující balíčky funkcí - instalace a načítání"
   ]
  },
  {
   "cell_type": "code",
   "execution_count": 58,
   "id": "740ac111",
   "metadata": {
    "vscode": {
     "languageId": "r"
    }
   },
   "outputs": [],
   "source": [
    "# Instalování balíčků nutné pouze jednou (pokud je již nemáte)\n",
    "# install.packages(\"readxl\")\n",
    "# install.packages(\"dplyr\")\n",
    "# install.packages(\"openxlsx\")\n"
   ]
  },
  {
   "cell_type": "code",
   "execution_count": 59,
   "id": "08d77491",
   "metadata": {
    "vscode": {
     "languageId": "r"
    }
   },
   "outputs": [],
   "source": [
    "# Načtení balíčku (nutno opakovat při každém novém spuštění Rka, vhodné mít na začátku skriptu, pro kontrolu\n",
    "# co všechno se používá)\n",
    "\n",
    "library(dplyr) # balíček pro manipulaci s daty\n",
    "\n",
    "# výpis obsahuje upozornění na přepsané funkce případně na starší verzi balíčku"
   ]
  },
  {
   "cell_type": "markdown",
   "id": "a3cccb67",
   "metadata": {},
   "source": [
    "Právě kvůli maskování (přepisování existujících funkcí) je dobré omezit kompletní načtení balíčků na minimum.\n",
    "\n",
    "Často potřebujeme pouze jednu funkci z balíčku, pak lze tato funkce načíst pomocí `::`.\n",
    "\n",
    "Ukážeme si později."
   ]
  },
  {
   "cell_type": "markdown",
   "id": "9faf3130",
   "metadata": {},
   "source": [
    "---\n"
   ]
  },
  {
   "cell_type": "markdown",
   "id": "9e79b7bf",
   "metadata": {},
   "source": [
    "# 2. Pracovní adresář (working directory) - odkud načítáme a kam ukládáme data\n",
    "- Pozor aktuální otevřená složka v Rstudiu, případně umístění Rskriptu není automaticky pracovní adresář!"
   ]
  },
  {
   "cell_type": "code",
   "execution_count": 60,
   "id": "1882d279",
   "metadata": {
    "vscode": {
     "languageId": "r"
    }
   },
   "outputs": [
    {
     "data": {
      "text/html": [
       "'/home/patrick115/Projects/VSB/Semester7/PS/CV6'"
      ],
      "text/latex": [
       "'/home/patrick115/Projects/VSB/Semester7/PS/CV6'"
      ],
      "text/markdown": [
       "'/home/patrick115/Projects/VSB/Semester7/PS/CV6'"
      ],
      "text/plain": [
       "[1] \"/home/patrick115/Projects/VSB/Semester7/PS/CV6\""
      ]
     },
     "metadata": {},
     "output_type": "display_data"
    }
   ],
   "source": [
    "# Výpis pracovního adresáře\n",
    "getwd()\n"
   ]
  },
  {
   "cell_type": "code",
   "execution_count": 61,
   "id": "60bd7580",
   "metadata": {
    "vscode": {
     "languageId": "r"
    }
   },
   "outputs": [],
   "source": [
    "# Nastavení pracovního adresáře -> do uvozovek, celou cestu (relativní nebo absolutní)\n",
    "setwd(\"./data\")\n"
   ]
  },
  {
   "cell_type": "code",
   "execution_count": 62,
   "id": "b318736c",
   "metadata": {
    "vscode": {
     "languageId": "r"
    }
   },
   "outputs": [
    {
     "data": {
      "text/html": [
       "'/home/patrick115/Projects/VSB/Semester7/PS/CV6/data'"
      ],
      "text/latex": [
       "'/home/patrick115/Projects/VSB/Semester7/PS/CV6/data'"
      ],
      "text/markdown": [
       "'/home/patrick115/Projects/VSB/Semester7/PS/CV6/data'"
      ],
      "text/plain": [
       "[1] \"/home/patrick115/Projects/VSB/Semester7/PS/CV6/data\""
      ]
     },
     "metadata": {},
     "output_type": "display_data"
    }
   ],
   "source": [
    "getwd() # kde jsme teď\n"
   ]
  },
  {
   "cell_type": "code",
   "execution_count": 63,
   "id": "e37586e9",
   "metadata": {
    "vscode": {
     "languageId": "r"
    }
   },
   "outputs": [],
   "source": [
    "setwd(\"./..\") # zase zpátky\n"
   ]
  },
  {
   "cell_type": "code",
   "execution_count": 64,
   "id": "aaef208c",
   "metadata": {
    "vscode": {
     "languageId": "r"
    }
   },
   "outputs": [
    {
     "data": {
      "text/html": [
       "'/home/patrick115/Projects/VSB/Semester7/PS/CV6'"
      ],
      "text/latex": [
       "'/home/patrick115/Projects/VSB/Semester7/PS/CV6'"
      ],
      "text/markdown": [
       "'/home/patrick115/Projects/VSB/Semester7/PS/CV6'"
      ],
      "text/plain": [
       "[1] \"/home/patrick115/Projects/VSB/Semester7/PS/CV6\""
      ]
     },
     "metadata": {},
     "output_type": "display_data"
    }
   ],
   "source": [
    "getwd() # kontrola\n"
   ]
  },
  {
   "cell_type": "markdown",
   "id": "1f297ba5",
   "metadata": {},
   "source": [
    "---\n"
   ]
  },
  {
   "cell_type": "markdown",
   "id": "8a9e8127",
   "metadata": {},
   "source": [
    "# 3. Načítání datových souborů\n",
    "\n",
    "- pro ověření správnosti načtení budeme použífat funkci `head()` která vypíše prvních 6 řádků datového souboru"
   ]
  },
  {
   "cell_type": "markdown",
   "id": "78e56a5e",
   "metadata": {},
   "source": [
    "### a) Ze souboru CSV\n",
    "Základní funkce - `read.table`, `read.csv`, `read.csv2`, ...\n",
    "\n",
    "Záleží hlavně na formátu souboru (.txt, .csv), na tzv. oddělovači jednotlivých hodnot, desetinné čárce/tečce, ..."
   ]
  },
  {
   "cell_type": "code",
   "execution_count": 65,
   "id": "8ea93e05",
   "metadata": {
    "vscode": {
     "languageId": "r"
    }
   },
   "outputs": [
    {
     "data": {
      "text/html": [
       "<table class=\"dataframe\">\n",
       "<caption>A data.frame: 6 × 8</caption>\n",
       "<thead>\n",
       "\t<tr><th></th><th scope=col>A22</th><th scope=col>A5</th><th scope=col>B22</th><th scope=col>B5</th><th scope=col>C22</th><th scope=col>C5</th><th scope=col>D22</th><th scope=col>D5</th></tr>\n",
       "\t<tr><th></th><th scope=col>&lt;chr&gt;</th><th scope=col>&lt;chr&gt;</th><th scope=col>&lt;chr&gt;</th><th scope=col>&lt;chr&gt;</th><th scope=col>&lt;chr&gt;</th><th scope=col>&lt;chr&gt;</th><th scope=col>&lt;chr&gt;</th><th scope=col>&lt;chr&gt;</th></tr>\n",
       "</thead>\n",
       "<tbody>\n",
       "\t<tr><th scope=row>1</th><td>784.9</td><td>786.6</td><td>849.7</td><td>850.9</td><td>822.4</td><td>823.4</td><td>773.8</td><td>772.6</td></tr>\n",
       "\t<tr><th scope=row>2</th><td>782  </td><td>783.8</td><td>831.9</td><td>833.2</td><td>783.5</td><td>787.2</td><td>809.3</td><td>812.9</td></tr>\n",
       "\t<tr><th scope=row>3</th><td>782.6</td><td>785.3</td><td>828.5</td><td>825  </td><td>790  </td><td>787.7</td><td>826  </td><td>830  </td></tr>\n",
       "\t<tr><th scope=row>4</th><td>777.7</td><td>772.2</td><td>795.5</td><td>790.5</td><td>792.7</td><td>795.3</td><td>778.1</td><td>781.9</td></tr>\n",
       "\t<tr><th scope=row>5</th><td>824.7</td><td>825.3</td><td>815.2</td><td>817.9</td><td>829.4</td><td>831.5</td><td>777.3</td><td>772.4</td></tr>\n",
       "\t<tr><th scope=row>6</th><td>759.1</td><td>759.1</td><td>804.9</td><td>801.1</td><td>799  </td><td>798.7</td><td>797.6</td><td>795.7</td></tr>\n",
       "</tbody>\n",
       "</table>\n"
      ],
      "text/latex": [
       "A data.frame: 6 × 8\n",
       "\\begin{tabular}{r|llllllll}\n",
       "  & A22 & A5 & B22 & B5 & C22 & C5 & D22 & D5\\\\\n",
       "  & <chr> & <chr> & <chr> & <chr> & <chr> & <chr> & <chr> & <chr>\\\\\n",
       "\\hline\n",
       "\t1 & 784.9 & 786.6 & 849.7 & 850.9 & 822.4 & 823.4 & 773.8 & 772.6\\\\\n",
       "\t2 & 782   & 783.8 & 831.9 & 833.2 & 783.5 & 787.2 & 809.3 & 812.9\\\\\n",
       "\t3 & 782.6 & 785.3 & 828.5 & 825   & 790   & 787.7 & 826   & 830  \\\\\n",
       "\t4 & 777.7 & 772.2 & 795.5 & 790.5 & 792.7 & 795.3 & 778.1 & 781.9\\\\\n",
       "\t5 & 824.7 & 825.3 & 815.2 & 817.9 & 829.4 & 831.5 & 777.3 & 772.4\\\\\n",
       "\t6 & 759.1 & 759.1 & 804.9 & 801.1 & 799   & 798.7 & 797.6 & 795.7\\\\\n",
       "\\end{tabular}\n"
      ],
      "text/markdown": [
       "\n",
       "A data.frame: 6 × 8\n",
       "\n",
       "| <!--/--> | A22 &lt;chr&gt; | A5 &lt;chr&gt; | B22 &lt;chr&gt; | B5 &lt;chr&gt; | C22 &lt;chr&gt; | C5 &lt;chr&gt; | D22 &lt;chr&gt; | D5 &lt;chr&gt; |\n",
       "|---|---|---|---|---|---|---|---|---|\n",
       "| 1 | 784.9 | 786.6 | 849.7 | 850.9 | 822.4 | 823.4 | 773.8 | 772.6 |\n",
       "| 2 | 782   | 783.8 | 831.9 | 833.2 | 783.5 | 787.2 | 809.3 | 812.9 |\n",
       "| 3 | 782.6 | 785.3 | 828.5 | 825   | 790   | 787.7 | 826   | 830   |\n",
       "| 4 | 777.7 | 772.2 | 795.5 | 790.5 | 792.7 | 795.3 | 778.1 | 781.9 |\n",
       "| 5 | 824.7 | 825.3 | 815.2 | 817.9 | 829.4 | 831.5 | 777.3 | 772.4 |\n",
       "| 6 | 759.1 | 759.1 | 804.9 | 801.1 | 799   | 798.7 | 797.6 | 795.7 |\n",
       "\n"
      ],
      "text/plain": [
       "  A22   A5    B22   B5    C22   C5    D22   D5   \n",
       "1 784.9 786.6 849.7 850.9 822.4 823.4 773.8 772.6\n",
       "2 782   783.8 831.9 833.2 783.5 787.2 809.3 812.9\n",
       "3 782.6 785.3 828.5 825   790   787.7 826   830  \n",
       "4 777.7 772.2 795.5 790.5 792.7 795.3 778.1 781.9\n",
       "5 824.7 825.3 815.2 817.9 829.4 831.5 777.3 772.4\n",
       "6 759.1 759.1 804.9 801.1 799   798.7 797.6 795.7"
      ]
     },
     "metadata": {},
     "output_type": "display_data"
    }
   ],
   "source": [
    "# pro data oddělené středníkem lze použít read.csv2 s defaultním nastavením\n",
    "# načteme data relativně k aktuálnímu adresáři, tedy ze složky data\n",
    "data <- read.csv2(file = \"./data/zarovky.csv\")\n",
    "head(data)"
   ]
  },
  {
   "cell_type": "code",
   "execution_count": 66,
   "id": "f47d209e",
   "metadata": {
    "scrolled": true,
    "vscode": {
     "languageId": "r"
    }
   },
   "outputs": [
    {
     "data": {
      "text/html": [
       "<table class=\"dataframe\">\n",
       "<caption>A data.frame: 6 × 8</caption>\n",
       "<thead>\n",
       "\t<tr><th></th><th scope=col>A22</th><th scope=col>A5</th><th scope=col>B22</th><th scope=col>B5</th><th scope=col>C22</th><th scope=col>C5</th><th scope=col>D22</th><th scope=col>D5</th></tr>\n",
       "\t<tr><th></th><th scope=col>&lt;chr&gt;</th><th scope=col>&lt;chr&gt;</th><th scope=col>&lt;chr&gt;</th><th scope=col>&lt;chr&gt;</th><th scope=col>&lt;chr&gt;</th><th scope=col>&lt;chr&gt;</th><th scope=col>&lt;chr&gt;</th><th scope=col>&lt;chr&gt;</th></tr>\n",
       "</thead>\n",
       "<tbody>\n",
       "\t<tr><th scope=row>1</th><td>784.9</td><td>786.6</td><td>849.7</td><td>850.9</td><td>822.4</td><td>823.4</td><td>773.8</td><td>772.6</td></tr>\n",
       "\t<tr><th scope=row>2</th><td>782  </td><td>783.8</td><td>831.9</td><td>833.2</td><td>783.5</td><td>787.2</td><td>809.3</td><td>812.9</td></tr>\n",
       "\t<tr><th scope=row>3</th><td>782.6</td><td>785.3</td><td>828.5</td><td>825  </td><td>790  </td><td>787.7</td><td>826  </td><td>830  </td></tr>\n",
       "\t<tr><th scope=row>4</th><td>777.7</td><td>772.2</td><td>795.5</td><td>790.5</td><td>792.7</td><td>795.3</td><td>778.1</td><td>781.9</td></tr>\n",
       "\t<tr><th scope=row>5</th><td>824.7</td><td>825.3</td><td>815.2</td><td>817.9</td><td>829.4</td><td>831.5</td><td>777.3</td><td>772.4</td></tr>\n",
       "\t<tr><th scope=row>6</th><td>759.1</td><td>759.1</td><td>804.9</td><td>801.1</td><td>799  </td><td>798.7</td><td>797.6</td><td>795.7</td></tr>\n",
       "</tbody>\n",
       "</table>\n"
      ],
      "text/latex": [
       "A data.frame: 6 × 8\n",
       "\\begin{tabular}{r|llllllll}\n",
       "  & A22 & A5 & B22 & B5 & C22 & C5 & D22 & D5\\\\\n",
       "  & <chr> & <chr> & <chr> & <chr> & <chr> & <chr> & <chr> & <chr>\\\\\n",
       "\\hline\n",
       "\t1 & 784.9 & 786.6 & 849.7 & 850.9 & 822.4 & 823.4 & 773.8 & 772.6\\\\\n",
       "\t2 & 782   & 783.8 & 831.9 & 833.2 & 783.5 & 787.2 & 809.3 & 812.9\\\\\n",
       "\t3 & 782.6 & 785.3 & 828.5 & 825   & 790   & 787.7 & 826   & 830  \\\\\n",
       "\t4 & 777.7 & 772.2 & 795.5 & 790.5 & 792.7 & 795.3 & 778.1 & 781.9\\\\\n",
       "\t5 & 824.7 & 825.3 & 815.2 & 817.9 & 829.4 & 831.5 & 777.3 & 772.4\\\\\n",
       "\t6 & 759.1 & 759.1 & 804.9 & 801.1 & 799   & 798.7 & 797.6 & 795.7\\\\\n",
       "\\end{tabular}\n"
      ],
      "text/markdown": [
       "\n",
       "A data.frame: 6 × 8\n",
       "\n",
       "| <!--/--> | A22 &lt;chr&gt; | A5 &lt;chr&gt; | B22 &lt;chr&gt; | B5 &lt;chr&gt; | C22 &lt;chr&gt; | C5 &lt;chr&gt; | D22 &lt;chr&gt; | D5 &lt;chr&gt; |\n",
       "|---|---|---|---|---|---|---|---|---|\n",
       "| 1 | 784.9 | 786.6 | 849.7 | 850.9 | 822.4 | 823.4 | 773.8 | 772.6 |\n",
       "| 2 | 782   | 783.8 | 831.9 | 833.2 | 783.5 | 787.2 | 809.3 | 812.9 |\n",
       "| 3 | 782.6 | 785.3 | 828.5 | 825   | 790   | 787.7 | 826   | 830   |\n",
       "| 4 | 777.7 | 772.2 | 795.5 | 790.5 | 792.7 | 795.3 | 778.1 | 781.9 |\n",
       "| 5 | 824.7 | 825.3 | 815.2 | 817.9 | 829.4 | 831.5 | 777.3 | 772.4 |\n",
       "| 6 | 759.1 | 759.1 | 804.9 | 801.1 | 799   | 798.7 | 797.6 | 795.7 |\n",
       "\n"
      ],
      "text/plain": [
       "  A22   A5    B22   B5    C22   C5    D22   D5   \n",
       "1 784.9 786.6 849.7 850.9 822.4 823.4 773.8 772.6\n",
       "2 782   783.8 831.9 833.2 783.5 787.2 809.3 812.9\n",
       "3 782.6 785.3 828.5 825   790   787.7 826   830  \n",
       "4 777.7 772.2 795.5 790.5 792.7 795.3 778.1 781.9\n",
       "5 824.7 825.3 815.2 817.9 829.4 831.5 777.3 772.4\n",
       "6 759.1 759.1 804.9 801.1 799   798.7 797.6 795.7"
      ]
     },
     "metadata": {},
     "output_type": "display_data"
    }
   ],
   "source": [
    "# pokud má soubor jiný formát, lze upravit parametry načítání\n",
    "data <- read.csv2(file = \"./data/zarovky.csv\", sep = \";\", quote = \"\", skip = 0, header = TRUE)\n",
    "head(data)\n"
   ]
  },
  {
   "cell_type": "code",
   "execution_count": 67,
   "id": "d3a7a14d",
   "metadata": {
    "vscode": {
     "languageId": "r"
    }
   },
   "outputs": [],
   "source": [
    "# cesta souboru může být relativní, absulutní nebo lze použít i URL\n",
    "# data <- read.csv2(file = \"C:/Users/username/Documents/aku.csv\")\n",
    "# data <- read.csv2(file = \"./data/aku.csv\")\n",
    "# data <- read.csv2(file = \"http://am-nas.vsb.cz/lit40/DATA/aku.csv\")\n"
   ]
  },
  {
   "cell_type": "markdown",
   "id": "c0dcf13d",
   "metadata": {},
   "source": [
    "### b) z Excelu (souboru xlsx)\n",
    "K načtení/uložení datového souboru ve formátu xlsx použijeme funkci z balíčku `readxl`\n",
    "- konkrétně funkci `readxl::read_excel()`"
   ]
  },
  {
   "cell_type": "code",
   "execution_count": 68,
   "id": "328c6686",
   "metadata": {
    "vscode": {
     "languageId": "r"
    }
   },
   "outputs": [
    {
     "name": "stderr",
     "output_type": "stream",
     "text": [
      "\u001b[1m\u001b[22mNew names:\n",
      "\u001b[36m•\u001b[39m `` -> `...1`\n",
      "\u001b[36m•\u001b[39m `Amber` -> `Amber...2`\n",
      "\u001b[36m•\u001b[39m `Bright` -> `Bright...3`\n",
      "\u001b[36m•\u001b[39m `Clear` -> `Clear...4`\n",
      "\u001b[36m•\u001b[39m `Dim` -> `Dim...5`\n",
      "\u001b[36m•\u001b[39m `Amber` -> `Amber...6`\n",
      "\u001b[36m•\u001b[39m `Bright` -> `Bright...7`\n",
      "\u001b[36m•\u001b[39m `Clear` -> `Clear...8`\n",
      "\u001b[36m•\u001b[39m `Dim` -> `Dim...9`\n"
     ]
    },
    {
     "data": {
      "text/html": [
       "<table class=\"dataframe\">\n",
       "<caption>A tibble: 6 × 9</caption>\n",
       "<thead>\n",
       "\t<tr><th scope=col>...1</th><th scope=col>Amber...2</th><th scope=col>Bright...3</th><th scope=col>Clear...4</th><th scope=col>Dim...5</th><th scope=col>Amber...6</th><th scope=col>Bright...7</th><th scope=col>Clear...8</th><th scope=col>Dim...9</th></tr>\n",
       "\t<tr><th scope=col>&lt;dbl&gt;</th><th scope=col>&lt;dbl&gt;</th><th scope=col>&lt;dbl&gt;</th><th scope=col>&lt;dbl&gt;</th><th scope=col>&lt;dbl&gt;</th><th scope=col>&lt;dbl&gt;</th><th scope=col>&lt;dbl&gt;</th><th scope=col>&lt;dbl&gt;</th><th scope=col>&lt;dbl&gt;</th></tr>\n",
       "</thead>\n",
       "<tbody>\n",
       "\t<tr><td>1</td><td>784.9</td><td>849.7</td><td>822.4</td><td>773.8</td><td>786.6</td><td>850.9</td><td>823.4</td><td>772.6</td></tr>\n",
       "\t<tr><td>2</td><td>782.0</td><td>831.9</td><td>783.5</td><td>809.3</td><td>783.8</td><td>833.2</td><td>787.2</td><td>812.9</td></tr>\n",
       "\t<tr><td>3</td><td>782.6</td><td>828.5</td><td>790.0</td><td>826.0</td><td>785.3</td><td>825.0</td><td>787.7</td><td>830.0</td></tr>\n",
       "\t<tr><td>4</td><td>777.7</td><td>795.5</td><td>792.7</td><td>778.1</td><td>772.2</td><td>790.5</td><td>795.3</td><td>781.9</td></tr>\n",
       "\t<tr><td>5</td><td>824.7</td><td>815.2</td><td>829.4</td><td>777.3</td><td>825.3</td><td>817.9</td><td>831.5</td><td>772.4</td></tr>\n",
       "\t<tr><td>6</td><td>759.1</td><td>804.9</td><td>799.0</td><td>797.6</td><td>759.1</td><td>801.1</td><td>798.7</td><td>795.7</td></tr>\n",
       "</tbody>\n",
       "</table>\n"
      ],
      "text/latex": [
       "A tibble: 6 × 9\n",
       "\\begin{tabular}{lllllllll}\n",
       " ...1 & Amber...2 & Bright...3 & Clear...4 & Dim...5 & Amber...6 & Bright...7 & Clear...8 & Dim...9\\\\\n",
       " <dbl> & <dbl> & <dbl> & <dbl> & <dbl> & <dbl> & <dbl> & <dbl> & <dbl>\\\\\n",
       "\\hline\n",
       "\t 1 & 784.9 & 849.7 & 822.4 & 773.8 & 786.6 & 850.9 & 823.4 & 772.6\\\\\n",
       "\t 2 & 782.0 & 831.9 & 783.5 & 809.3 & 783.8 & 833.2 & 787.2 & 812.9\\\\\n",
       "\t 3 & 782.6 & 828.5 & 790.0 & 826.0 & 785.3 & 825.0 & 787.7 & 830.0\\\\\n",
       "\t 4 & 777.7 & 795.5 & 792.7 & 778.1 & 772.2 & 790.5 & 795.3 & 781.9\\\\\n",
       "\t 5 & 824.7 & 815.2 & 829.4 & 777.3 & 825.3 & 817.9 & 831.5 & 772.4\\\\\n",
       "\t 6 & 759.1 & 804.9 & 799.0 & 797.6 & 759.1 & 801.1 & 798.7 & 795.7\\\\\n",
       "\\end{tabular}\n"
      ],
      "text/markdown": [
       "\n",
       "A tibble: 6 × 9\n",
       "\n",
       "| ...1 &lt;dbl&gt; | Amber...2 &lt;dbl&gt; | Bright...3 &lt;dbl&gt; | Clear...4 &lt;dbl&gt; | Dim...5 &lt;dbl&gt; | Amber...6 &lt;dbl&gt; | Bright...7 &lt;dbl&gt; | Clear...8 &lt;dbl&gt; | Dim...9 &lt;dbl&gt; |\n",
       "|---|---|---|---|---|---|---|---|---|\n",
       "| 1 | 784.9 | 849.7 | 822.4 | 773.8 | 786.6 | 850.9 | 823.4 | 772.6 |\n",
       "| 2 | 782.0 | 831.9 | 783.5 | 809.3 | 783.8 | 833.2 | 787.2 | 812.9 |\n",
       "| 3 | 782.6 | 828.5 | 790.0 | 826.0 | 785.3 | 825.0 | 787.7 | 830.0 |\n",
       "| 4 | 777.7 | 795.5 | 792.7 | 778.1 | 772.2 | 790.5 | 795.3 | 781.9 |\n",
       "| 5 | 824.7 | 815.2 | 829.4 | 777.3 | 825.3 | 817.9 | 831.5 | 772.4 |\n",
       "| 6 | 759.1 | 804.9 | 799.0 | 797.6 | 759.1 | 801.1 | 798.7 | 795.7 |\n",
       "\n"
      ],
      "text/plain": [
       "  ...1 Amber...2 Bright...3 Clear...4 Dim...5 Amber...6 Bright...7 Clear...8\n",
       "1 1    784.9     849.7      822.4     773.8   786.6     850.9      823.4    \n",
       "2 2    782.0     831.9      783.5     809.3   783.8     833.2      787.2    \n",
       "3 3    782.6     828.5      790.0     826.0   785.3     825.0      787.7    \n",
       "4 4    777.7     795.5      792.7     778.1   772.2     790.5      795.3    \n",
       "5 5    824.7     815.2      829.4     777.3   825.3     817.9      831.5    \n",
       "6 6    759.1     804.9      799.0     797.6   759.1     801.1      798.7    \n",
       "  Dim...9\n",
       "1 772.6  \n",
       "2 812.9  \n",
       "3 830.0  \n",
       "4 781.9  \n",
       "5 772.4  \n",
       "6 795.7  "
      ]
     },
     "metadata": {},
     "output_type": "display_data"
    }
   ],
   "source": [
    "# při načítání dat z Excelu si sice nemusíme dělat starosti s oddělovači a formátem čísel\n",
    "# musíme však specifikovat který list chceme načíst a případně kolik řádků od začátku chceme přeskočit\n",
    "data <- readxl::read_excel(\"./data/zarovky.xlsx\", sheet = \"Data\", skip = 3)\n",
    "head(data)"
   ]
  },
  {
   "cell_type": "markdown",
   "id": "00f2d426",
   "metadata": {},
   "source": [
    "### c) Odstranění nepotřebných sloupců a jejich přejmenování pro snadnější adresování dat"
   ]
  },
  {
   "cell_type": "code",
   "execution_count": 69,
   "id": "4bc97d08",
   "metadata": {
    "vscode": {
     "languageId": "r"
    }
   },
   "outputs": [
    {
     "data": {
      "text/html": [
       "<table class=\"dataframe\">\n",
       "<caption>A tibble: 6 × 8</caption>\n",
       "<thead>\n",
       "\t<tr><th scope=col>Amber...2</th><th scope=col>Bright...3</th><th scope=col>Clear...4</th><th scope=col>Dim...5</th><th scope=col>Amber...6</th><th scope=col>Bright...7</th><th scope=col>Clear...8</th><th scope=col>Dim...9</th></tr>\n",
       "\t<tr><th scope=col>&lt;dbl&gt;</th><th scope=col>&lt;dbl&gt;</th><th scope=col>&lt;dbl&gt;</th><th scope=col>&lt;dbl&gt;</th><th scope=col>&lt;dbl&gt;</th><th scope=col>&lt;dbl&gt;</th><th scope=col>&lt;dbl&gt;</th><th scope=col>&lt;dbl&gt;</th></tr>\n",
       "</thead>\n",
       "<tbody>\n",
       "\t<tr><td>784.9</td><td>849.7</td><td>822.4</td><td>773.8</td><td>786.6</td><td>850.9</td><td>823.4</td><td>772.6</td></tr>\n",
       "\t<tr><td>782.0</td><td>831.9</td><td>783.5</td><td>809.3</td><td>783.8</td><td>833.2</td><td>787.2</td><td>812.9</td></tr>\n",
       "\t<tr><td>782.6</td><td>828.5</td><td>790.0</td><td>826.0</td><td>785.3</td><td>825.0</td><td>787.7</td><td>830.0</td></tr>\n",
       "\t<tr><td>777.7</td><td>795.5</td><td>792.7</td><td>778.1</td><td>772.2</td><td>790.5</td><td>795.3</td><td>781.9</td></tr>\n",
       "\t<tr><td>824.7</td><td>815.2</td><td>829.4</td><td>777.3</td><td>825.3</td><td>817.9</td><td>831.5</td><td>772.4</td></tr>\n",
       "\t<tr><td>759.1</td><td>804.9</td><td>799.0</td><td>797.6</td><td>759.1</td><td>801.1</td><td>798.7</td><td>795.7</td></tr>\n",
       "</tbody>\n",
       "</table>\n"
      ],
      "text/latex": [
       "A tibble: 6 × 8\n",
       "\\begin{tabular}{llllllll}\n",
       " Amber...2 & Bright...3 & Clear...4 & Dim...5 & Amber...6 & Bright...7 & Clear...8 & Dim...9\\\\\n",
       " <dbl> & <dbl> & <dbl> & <dbl> & <dbl> & <dbl> & <dbl> & <dbl>\\\\\n",
       "\\hline\n",
       "\t 784.9 & 849.7 & 822.4 & 773.8 & 786.6 & 850.9 & 823.4 & 772.6\\\\\n",
       "\t 782.0 & 831.9 & 783.5 & 809.3 & 783.8 & 833.2 & 787.2 & 812.9\\\\\n",
       "\t 782.6 & 828.5 & 790.0 & 826.0 & 785.3 & 825.0 & 787.7 & 830.0\\\\\n",
       "\t 777.7 & 795.5 & 792.7 & 778.1 & 772.2 & 790.5 & 795.3 & 781.9\\\\\n",
       "\t 824.7 & 815.2 & 829.4 & 777.3 & 825.3 & 817.9 & 831.5 & 772.4\\\\\n",
       "\t 759.1 & 804.9 & 799.0 & 797.6 & 759.1 & 801.1 & 798.7 & 795.7\\\\\n",
       "\\end{tabular}\n"
      ],
      "text/markdown": [
       "\n",
       "A tibble: 6 × 8\n",
       "\n",
       "| Amber...2 &lt;dbl&gt; | Bright...3 &lt;dbl&gt; | Clear...4 &lt;dbl&gt; | Dim...5 &lt;dbl&gt; | Amber...6 &lt;dbl&gt; | Bright...7 &lt;dbl&gt; | Clear...8 &lt;dbl&gt; | Dim...9 &lt;dbl&gt; |\n",
       "|---|---|---|---|---|---|---|---|\n",
       "| 784.9 | 849.7 | 822.4 | 773.8 | 786.6 | 850.9 | 823.4 | 772.6 |\n",
       "| 782.0 | 831.9 | 783.5 | 809.3 | 783.8 | 833.2 | 787.2 | 812.9 |\n",
       "| 782.6 | 828.5 | 790.0 | 826.0 | 785.3 | 825.0 | 787.7 | 830.0 |\n",
       "| 777.7 | 795.5 | 792.7 | 778.1 | 772.2 | 790.5 | 795.3 | 781.9 |\n",
       "| 824.7 | 815.2 | 829.4 | 777.3 | 825.3 | 817.9 | 831.5 | 772.4 |\n",
       "| 759.1 | 804.9 | 799.0 | 797.6 | 759.1 | 801.1 | 798.7 | 795.7 |\n",
       "\n"
      ],
      "text/plain": [
       "  Amber...2 Bright...3 Clear...4 Dim...5 Amber...6 Bright...7 Clear...8 Dim...9\n",
       "1 784.9     849.7      822.4     773.8   786.6     850.9      823.4     772.6  \n",
       "2 782.0     831.9      783.5     809.3   783.8     833.2      787.2     812.9  \n",
       "3 782.6     828.5      790.0     826.0   785.3     825.0      787.7     830.0  \n",
       "4 777.7     795.5      792.7     778.1   772.2     790.5      795.3     781.9  \n",
       "5 824.7     815.2      829.4     777.3   825.3     817.9      831.5     772.4  \n",
       "6 759.1     804.9      799.0     797.6   759.1     801.1      798.7     795.7  "
      ]
     },
     "metadata": {},
     "output_type": "display_data"
    }
   ],
   "source": [
    "# indexování se zápornými indexy vrátí vše kromě hodnoty indexů\n",
    "# nelze míchat záporné a kladné indexy!\n",
    "data <- data[, -1] # odstraníme první sloupec s indexy\n",
    "head(data)\n"
   ]
  },
  {
   "cell_type": "code",
   "execution_count": 70,
   "id": "47f3946b",
   "metadata": {
    "vscode": {
     "languageId": "r"
    }
   },
   "outputs": [
    {
     "data": {
      "text/html": [
       "<table class=\"dataframe\">\n",
       "<caption>A tibble: 6 × 8</caption>\n",
       "<thead>\n",
       "\t<tr><th scope=col>A5</th><th scope=col>B5</th><th scope=col>C5</th><th scope=col>D5</th><th scope=col>A22</th><th scope=col>B22</th><th scope=col>C22</th><th scope=col>D22</th></tr>\n",
       "\t<tr><th scope=col>&lt;dbl&gt;</th><th scope=col>&lt;dbl&gt;</th><th scope=col>&lt;dbl&gt;</th><th scope=col>&lt;dbl&gt;</th><th scope=col>&lt;dbl&gt;</th><th scope=col>&lt;dbl&gt;</th><th scope=col>&lt;dbl&gt;</th><th scope=col>&lt;dbl&gt;</th></tr>\n",
       "</thead>\n",
       "<tbody>\n",
       "\t<tr><td>784.9</td><td>849.7</td><td>822.4</td><td>773.8</td><td>786.6</td><td>850.9</td><td>823.4</td><td>772.6</td></tr>\n",
       "\t<tr><td>782.0</td><td>831.9</td><td>783.5</td><td>809.3</td><td>783.8</td><td>833.2</td><td>787.2</td><td>812.9</td></tr>\n",
       "\t<tr><td>782.6</td><td>828.5</td><td>790.0</td><td>826.0</td><td>785.3</td><td>825.0</td><td>787.7</td><td>830.0</td></tr>\n",
       "\t<tr><td>777.7</td><td>795.5</td><td>792.7</td><td>778.1</td><td>772.2</td><td>790.5</td><td>795.3</td><td>781.9</td></tr>\n",
       "\t<tr><td>824.7</td><td>815.2</td><td>829.4</td><td>777.3</td><td>825.3</td><td>817.9</td><td>831.5</td><td>772.4</td></tr>\n",
       "\t<tr><td>759.1</td><td>804.9</td><td>799.0</td><td>797.6</td><td>759.1</td><td>801.1</td><td>798.7</td><td>795.7</td></tr>\n",
       "</tbody>\n",
       "</table>\n"
      ],
      "text/latex": [
       "A tibble: 6 × 8\n",
       "\\begin{tabular}{llllllll}\n",
       " A5 & B5 & C5 & D5 & A22 & B22 & C22 & D22\\\\\n",
       " <dbl> & <dbl> & <dbl> & <dbl> & <dbl> & <dbl> & <dbl> & <dbl>\\\\\n",
       "\\hline\n",
       "\t 784.9 & 849.7 & 822.4 & 773.8 & 786.6 & 850.9 & 823.4 & 772.6\\\\\n",
       "\t 782.0 & 831.9 & 783.5 & 809.3 & 783.8 & 833.2 & 787.2 & 812.9\\\\\n",
       "\t 782.6 & 828.5 & 790.0 & 826.0 & 785.3 & 825.0 & 787.7 & 830.0\\\\\n",
       "\t 777.7 & 795.5 & 792.7 & 778.1 & 772.2 & 790.5 & 795.3 & 781.9\\\\\n",
       "\t 824.7 & 815.2 & 829.4 & 777.3 & 825.3 & 817.9 & 831.5 & 772.4\\\\\n",
       "\t 759.1 & 804.9 & 799.0 & 797.6 & 759.1 & 801.1 & 798.7 & 795.7\\\\\n",
       "\\end{tabular}\n"
      ],
      "text/markdown": [
       "\n",
       "A tibble: 6 × 8\n",
       "\n",
       "| A5 &lt;dbl&gt; | B5 &lt;dbl&gt; | C5 &lt;dbl&gt; | D5 &lt;dbl&gt; | A22 &lt;dbl&gt; | B22 &lt;dbl&gt; | C22 &lt;dbl&gt; | D22 &lt;dbl&gt; |\n",
       "|---|---|---|---|---|---|---|---|\n",
       "| 784.9 | 849.7 | 822.4 | 773.8 | 786.6 | 850.9 | 823.4 | 772.6 |\n",
       "| 782.0 | 831.9 | 783.5 | 809.3 | 783.8 | 833.2 | 787.2 | 812.9 |\n",
       "| 782.6 | 828.5 | 790.0 | 826.0 | 785.3 | 825.0 | 787.7 | 830.0 |\n",
       "| 777.7 | 795.5 | 792.7 | 778.1 | 772.2 | 790.5 | 795.3 | 781.9 |\n",
       "| 824.7 | 815.2 | 829.4 | 777.3 | 825.3 | 817.9 | 831.5 | 772.4 |\n",
       "| 759.1 | 804.9 | 799.0 | 797.6 | 759.1 | 801.1 | 798.7 | 795.7 |\n",
       "\n"
      ],
      "text/plain": [
       "  A5    B5    C5    D5    A22   B22   C22   D22  \n",
       "1 784.9 849.7 822.4 773.8 786.6 850.9 823.4 772.6\n",
       "2 782.0 831.9 783.5 809.3 783.8 833.2 787.2 812.9\n",
       "3 782.6 828.5 790.0 826.0 785.3 825.0 787.7 830.0\n",
       "4 777.7 795.5 792.7 778.1 772.2 790.5 795.3 781.9\n",
       "5 824.7 815.2 829.4 777.3 825.3 817.9 831.5 772.4\n",
       "6 759.1 804.9 799.0 797.6 759.1 801.1 798.7 795.7"
      ]
     },
     "metadata": {},
     "output_type": "display_data"
    }
   ],
   "source": [
    "# Přejmenování sloupců (obecně diakritika a mezery v názvech sloupců komplikují práci)\n",
    "colnames(data) <- c(\"A5\", \"B5\", \"C5\", \"D5\", \"A22\", \"B22\", \"C22\", \"D22\")\n",
    "head(data)\n"
   ]
  },
  {
   "cell_type": "markdown",
   "id": "84458612",
   "metadata": {},
   "source": [
    "**Poznámka:**\n",
    "\n",
    "V R jsou aktuálně dva formáty reprezentace tabulek: `data.frame` a `tibble`.\n",
    "\n",
    "Objekt importovaný touto cestou bude v novém RStudiu jako typ \"tibble\".\n",
    "\n",
    "Jedná se o modernější \"data.frame\" a v některých funkcích může dělat problémy a házet errory!\n",
    "Jednoduše lze tento objekt převést na typ data.frame pomocí **as.data.frame()**"
   ]
  },
  {
   "cell_type": "markdown",
   "id": "1dad37c8",
   "metadata": {},
   "source": [
    "---"
   ]
  },
  {
   "cell_type": "markdown",
   "id": "06e5787b",
   "metadata": {},
   "source": [
    "# 4. Standardní datový formát (a převod do něj)\n",
    "\n",
    "Standardní datový formát (v **R** tzv. *\"long format\"*) se vyznačuje tím, že:\n",
    "\n",
    "- **Každý řádek tabulky obsahuje jednu pozorovanou entitu**, například:\n",
    "  - jednoho pacienta,\n",
    "  - jednu žárovku,\n",
    "  - jednoho studenta, atd.\n",
    "  \n",
    "  To znamená, že data o produktech dvou firem **nemohou** být v jednom řádku – místo toho se přidá samostatný sloupec s identifikátorem firmy.\n",
    "\n",
    "- **V jednom sloupci jsou vždy data jednoho typu**:\n",
    "  - Je vhodné mít **jeden samostatný sloupec pro `id` entity** (například pro odstranění odlehlých pozorování). Například pomocí: ```data$id <- seq_along(data$...)``` nebo s pomocí balíčku `dplyr` a funkce `mutate()`: ```data <- data %>% mutate(id = row_number())```\n"
   ]
  },
  {
   "cell_type": "markdown",
   "id": "fb86899f",
   "metadata": {},
   "source": [
    "### a) Základní převod jednoduché datové matice do standardního datového formátu - `stack(...)`"
   ]
  },
  {
   "cell_type": "code",
   "execution_count": 71,
   "id": "b02f26ed",
   "metadata": {
    "vscode": {
     "languageId": "r"
    }
   },
   "outputs": [
    {
     "data": {
      "text/html": [
       "<table class=\"dataframe\">\n",
       "<caption>A tibble: 6 × 4</caption>\n",
       "<thead>\n",
       "\t<tr><th scope=col>Amber</th><th scope=col>Bright</th><th scope=col>Clear</th><th scope=col>Dim</th></tr>\n",
       "\t<tr><th scope=col>&lt;dbl&gt;</th><th scope=col>&lt;dbl&gt;</th><th scope=col>&lt;dbl&gt;</th><th scope=col>&lt;dbl&gt;</th></tr>\n",
       "</thead>\n",
       "<tbody>\n",
       "\t<tr><td>784.9</td><td>849.7</td><td>822.4</td><td>773.8</td></tr>\n",
       "\t<tr><td>782.0</td><td>831.9</td><td>783.5</td><td>809.3</td></tr>\n",
       "\t<tr><td>782.6</td><td>828.5</td><td>790.0</td><td>826.0</td></tr>\n",
       "\t<tr><td>777.7</td><td>795.5</td><td>792.7</td><td>778.1</td></tr>\n",
       "\t<tr><td>824.7</td><td>815.2</td><td>829.4</td><td>777.3</td></tr>\n",
       "\t<tr><td>759.1</td><td>804.9</td><td>799.0</td><td>797.6</td></tr>\n",
       "</tbody>\n",
       "</table>\n"
      ],
      "text/latex": [
       "A tibble: 6 × 4\n",
       "\\begin{tabular}{llll}\n",
       " Amber & Bright & Clear & Dim\\\\\n",
       " <dbl> & <dbl> & <dbl> & <dbl>\\\\\n",
       "\\hline\n",
       "\t 784.9 & 849.7 & 822.4 & 773.8\\\\\n",
       "\t 782.0 & 831.9 & 783.5 & 809.3\\\\\n",
       "\t 782.6 & 828.5 & 790.0 & 826.0\\\\\n",
       "\t 777.7 & 795.5 & 792.7 & 778.1\\\\\n",
       "\t 824.7 & 815.2 & 829.4 & 777.3\\\\\n",
       "\t 759.1 & 804.9 & 799.0 & 797.6\\\\\n",
       "\\end{tabular}\n"
      ],
      "text/markdown": [
       "\n",
       "A tibble: 6 × 4\n",
       "\n",
       "| Amber &lt;dbl&gt; | Bright &lt;dbl&gt; | Clear &lt;dbl&gt; | Dim &lt;dbl&gt; |\n",
       "|---|---|---|---|\n",
       "| 784.9 | 849.7 | 822.4 | 773.8 |\n",
       "| 782.0 | 831.9 | 783.5 | 809.3 |\n",
       "| 782.6 | 828.5 | 790.0 | 826.0 |\n",
       "| 777.7 | 795.5 | 792.7 | 778.1 |\n",
       "| 824.7 | 815.2 | 829.4 | 777.3 |\n",
       "| 759.1 | 804.9 | 799.0 | 797.6 |\n",
       "\n"
      ],
      "text/plain": [
       "  Amber Bright Clear Dim  \n",
       "1 784.9 849.7  822.4 773.8\n",
       "2 782.0 831.9  783.5 809.3\n",
       "3 782.6 828.5  790.0 826.0\n",
       "4 777.7 795.5  792.7 778.1\n",
       "5 824.7 815.2  829.4 777.3\n",
       "6 759.1 804.9  799.0 797.6"
      ]
     },
     "metadata": {},
     "output_type": "display_data"
    }
   ],
   "source": [
    "data5 <- data[, 1:4] # z dat vybereme ty sloupce, které odpovídají měřením po 5 cyklech\n",
    "colnames(data5) <- c(\"Amber\", \"Bright\", \"Clear\", \"Dim\") # přejmenujeme sloupce\n",
    "head(data5)\n"
   ]
  },
  {
   "cell_type": "code",
   "execution_count": 72,
   "id": "923787a7",
   "metadata": {
    "vscode": {
     "languageId": "r"
    }
   },
   "outputs": [
    {
     "data": {
      "text/html": [
       "<table class=\"dataframe\">\n",
       "<caption>A data.frame: 6 × 2</caption>\n",
       "<thead>\n",
       "\t<tr><th></th><th scope=col>values</th><th scope=col>ind</th></tr>\n",
       "\t<tr><th></th><th scope=col>&lt;dbl&gt;</th><th scope=col>&lt;fct&gt;</th></tr>\n",
       "</thead>\n",
       "<tbody>\n",
       "\t<tr><th scope=row>1</th><td>784.9</td><td>Amber</td></tr>\n",
       "\t<tr><th scope=row>2</th><td>782.0</td><td>Amber</td></tr>\n",
       "\t<tr><th scope=row>3</th><td>782.6</td><td>Amber</td></tr>\n",
       "\t<tr><th scope=row>4</th><td>777.7</td><td>Amber</td></tr>\n",
       "\t<tr><th scope=row>5</th><td>824.7</td><td>Amber</td></tr>\n",
       "\t<tr><th scope=row>6</th><td>759.1</td><td>Amber</td></tr>\n",
       "</tbody>\n",
       "</table>\n"
      ],
      "text/latex": [
       "A data.frame: 6 × 2\n",
       "\\begin{tabular}{r|ll}\n",
       "  & values & ind\\\\\n",
       "  & <dbl> & <fct>\\\\\n",
       "\\hline\n",
       "\t1 & 784.9 & Amber\\\\\n",
       "\t2 & 782.0 & Amber\\\\\n",
       "\t3 & 782.6 & Amber\\\\\n",
       "\t4 & 777.7 & Amber\\\\\n",
       "\t5 & 824.7 & Amber\\\\\n",
       "\t6 & 759.1 & Amber\\\\\n",
       "\\end{tabular}\n"
      ],
      "text/markdown": [
       "\n",
       "A data.frame: 6 × 2\n",
       "\n",
       "| <!--/--> | values &lt;dbl&gt; | ind &lt;fct&gt; |\n",
       "|---|---|---|\n",
       "| 1 | 784.9 | Amber |\n",
       "| 2 | 782.0 | Amber |\n",
       "| 3 | 782.6 | Amber |\n",
       "| 4 | 777.7 | Amber |\n",
       "| 5 | 824.7 | Amber |\n",
       "| 6 | 759.1 | Amber |\n",
       "\n"
      ],
      "text/plain": [
       "  values ind  \n",
       "1 784.9  Amber\n",
       "2 782.0  Amber\n",
       "3 782.6  Amber\n",
       "4 777.7  Amber\n",
       "5 824.7  Amber\n",
       "6 759.1  Amber"
      ]
     },
     "metadata": {},
     "output_type": "display_data"
    }
   ],
   "source": [
    "data5S <- stack(data5) # a převedeme do st. datového formátu\n",
    "head(data5S)\n"
   ]
  },
  {
   "cell_type": "code",
   "execution_count": 73,
   "id": "a40dd7d6",
   "metadata": {
    "vscode": {
     "languageId": "r"
    }
   },
   "outputs": [
    {
     "data": {
      "text/html": [
       "<table class=\"dataframe\">\n",
       "<caption>A data.frame: 6 × 3</caption>\n",
       "<thead>\n",
       "\t<tr><th></th><th scope=col>tok5</th><th scope=col>vyrobce</th><th scope=col>id</th></tr>\n",
       "\t<tr><th></th><th scope=col>&lt;dbl&gt;</th><th scope=col>&lt;fct&gt;</th><th scope=col>&lt;int&gt;</th></tr>\n",
       "</thead>\n",
       "<tbody>\n",
       "\t<tr><th scope=row>1</th><td>784.9</td><td>Amber</td><td>1</td></tr>\n",
       "\t<tr><th scope=row>2</th><td>782.0</td><td>Amber</td><td>2</td></tr>\n",
       "\t<tr><th scope=row>3</th><td>782.6</td><td>Amber</td><td>3</td></tr>\n",
       "\t<tr><th scope=row>4</th><td>777.7</td><td>Amber</td><td>4</td></tr>\n",
       "\t<tr><th scope=row>5</th><td>824.7</td><td>Amber</td><td>5</td></tr>\n",
       "\t<tr><th scope=row>6</th><td>759.1</td><td>Amber</td><td>6</td></tr>\n",
       "</tbody>\n",
       "</table>\n"
      ],
      "text/latex": [
       "A data.frame: 6 × 3\n",
       "\\begin{tabular}{r|lll}\n",
       "  & tok5 & vyrobce & id\\\\\n",
       "  & <dbl> & <fct> & <int>\\\\\n",
       "\\hline\n",
       "\t1 & 784.9 & Amber & 1\\\\\n",
       "\t2 & 782.0 & Amber & 2\\\\\n",
       "\t3 & 782.6 & Amber & 3\\\\\n",
       "\t4 & 777.7 & Amber & 4\\\\\n",
       "\t5 & 824.7 & Amber & 5\\\\\n",
       "\t6 & 759.1 & Amber & 6\\\\\n",
       "\\end{tabular}\n"
      ],
      "text/markdown": [
       "\n",
       "A data.frame: 6 × 3\n",
       "\n",
       "| <!--/--> | tok5 &lt;dbl&gt; | vyrobce &lt;fct&gt; | id &lt;int&gt; |\n",
       "|---|---|---|---|\n",
       "| 1 | 784.9 | Amber | 1 |\n",
       "| 2 | 782.0 | Amber | 2 |\n",
       "| 3 | 782.6 | Amber | 3 |\n",
       "| 4 | 777.7 | Amber | 4 |\n",
       "| 5 | 824.7 | Amber | 5 |\n",
       "| 6 | 759.1 | Amber | 6 |\n",
       "\n"
      ],
      "text/plain": [
       "  tok5  vyrobce id\n",
       "1 784.9 Amber   1 \n",
       "2 782.0 Amber   2 \n",
       "3 782.6 Amber   3 \n",
       "4 777.7 Amber   4 \n",
       "5 824.7 Amber   5 \n",
       "6 759.1 Amber   6 "
      ]
     },
     "metadata": {},
     "output_type": "display_data"
    }
   ],
   "source": [
    "# přejmenujeme sloupce\n",
    "colnames(data5S) <- c(\"tok5\", \"vyrobce\")\n",
    "\n",
    "# a přidáme slopec is id\n",
    "data5S$id <- seq_along(data5S$tok5)\n",
    "\n",
    "head(data5S)"
   ]
  },
  {
   "cell_type": "markdown",
   "id": "5ba2771d",
   "metadata": {},
   "source": [
    "\n",
    "### b) Z dat ve formátu Datová matice `reshape(...)`"
   ]
  },
  {
   "cell_type": "code",
   "execution_count": 74,
   "id": "cf5a56c6",
   "metadata": {
    "vscode": {
     "languageId": "r"
    }
   },
   "outputs": [
    {
     "name": "stderr",
     "output_type": "stream",
     "text": [
      "\u001b[1m\u001b[22mNew names:\n",
      "\u001b[36m•\u001b[39m `` -> `...1`\n"
     ]
    },
    {
     "data": {
      "text/html": [
       "<table class=\"dataframe\">\n",
       "<caption>A tibble: 6 × 9</caption>\n",
       "<thead>\n",
       "\t<tr><th scope=col>...1</th><th scope=col>Amber Světelný tok při teplotě 22 °C (lm)</th><th scope=col>Amber Světelný tok při teplotě 5 °C (lm)</th><th scope=col>Bright Světelný tok při teplotě 22 °C (lm)</th><th scope=col>Bright Světelný tok při teplotě 5 °C (lm)</th><th scope=col>Clear Světelný tok při teplotě 22 °C (lm)</th><th scope=col>Clear Světelný tok při teplotě 5 °C (lm)</th><th scope=col>Dim Světelný tok při teplotě 22 °C (lm)</th><th scope=col>Dim Světelný tok při teplotě 5 °C (lm)</th></tr>\n",
       "\t<tr><th scope=col>&lt;dbl&gt;</th><th scope=col>&lt;dbl&gt;</th><th scope=col>&lt;dbl&gt;</th><th scope=col>&lt;dbl&gt;</th><th scope=col>&lt;dbl&gt;</th><th scope=col>&lt;dbl&gt;</th><th scope=col>&lt;dbl&gt;</th><th scope=col>&lt;dbl&gt;</th><th scope=col>&lt;dbl&gt;</th></tr>\n",
       "</thead>\n",
       "<tbody>\n",
       "\t<tr><td>0</td><td>784.9</td><td>786.6</td><td>849.7</td><td>850.9</td><td>822.4</td><td>823.4</td><td>773.8</td><td>772.6</td></tr>\n",
       "\t<tr><td>1</td><td>782.0</td><td>783.8</td><td>831.9</td><td>833.2</td><td>783.5</td><td>787.2</td><td>809.3</td><td>812.9</td></tr>\n",
       "\t<tr><td>2</td><td>782.6</td><td>785.3</td><td>828.5</td><td>825.0</td><td>790.0</td><td>787.7</td><td>826.0</td><td>830.0</td></tr>\n",
       "\t<tr><td>3</td><td>777.7</td><td>772.2</td><td>795.5</td><td>790.5</td><td>792.7</td><td>795.3</td><td>778.1</td><td>781.9</td></tr>\n",
       "\t<tr><td>4</td><td>824.7</td><td>825.3</td><td>815.2</td><td>817.9</td><td>829.4</td><td>831.5</td><td>777.3</td><td>772.4</td></tr>\n",
       "\t<tr><td>5</td><td>759.1</td><td>759.1</td><td>804.9</td><td>801.1</td><td>799.0</td><td>798.7</td><td>797.6</td><td>795.7</td></tr>\n",
       "</tbody>\n",
       "</table>\n"
      ],
      "text/latex": [
       "A tibble: 6 × 9\n",
       "\\begin{tabular}{lllllllll}\n",
       " ...1 & Amber Světelný tok při teplotě 22 °C (lm) & Amber Světelný tok při teplotě 5 °C (lm) & Bright Světelný tok při teplotě 22 °C (lm) & Bright Světelný tok při teplotě 5 °C (lm) & Clear Světelný tok při teplotě 22 °C (lm) & Clear Světelný tok při teplotě 5 °C (lm) & Dim Světelný tok při teplotě 22 °C (lm) & Dim Světelný tok při teplotě 5 °C (lm)\\\\\n",
       " <dbl> & <dbl> & <dbl> & <dbl> & <dbl> & <dbl> & <dbl> & <dbl> & <dbl>\\\\\n",
       "\\hline\n",
       "\t 0 & 784.9 & 786.6 & 849.7 & 850.9 & 822.4 & 823.4 & 773.8 & 772.6\\\\\n",
       "\t 1 & 782.0 & 783.8 & 831.9 & 833.2 & 783.5 & 787.2 & 809.3 & 812.9\\\\\n",
       "\t 2 & 782.6 & 785.3 & 828.5 & 825.0 & 790.0 & 787.7 & 826.0 & 830.0\\\\\n",
       "\t 3 & 777.7 & 772.2 & 795.5 & 790.5 & 792.7 & 795.3 & 778.1 & 781.9\\\\\n",
       "\t 4 & 824.7 & 825.3 & 815.2 & 817.9 & 829.4 & 831.5 & 777.3 & 772.4\\\\\n",
       "\t 5 & 759.1 & 759.1 & 804.9 & 801.1 & 799.0 & 798.7 & 797.6 & 795.7\\\\\n",
       "\\end{tabular}\n"
      ],
      "text/markdown": [
       "\n",
       "A tibble: 6 × 9\n",
       "\n",
       "| ...1 &lt;dbl&gt; | Amber Světelný tok při teplotě 22 °C (lm) &lt;dbl&gt; | Amber Světelný tok při teplotě 5 °C (lm) &lt;dbl&gt; | Bright Světelný tok při teplotě 22 °C (lm) &lt;dbl&gt; | Bright Světelný tok při teplotě 5 °C (lm) &lt;dbl&gt; | Clear Světelný tok při teplotě 22 °C (lm) &lt;dbl&gt; | Clear Světelný tok při teplotě 5 °C (lm) &lt;dbl&gt; | Dim Světelný tok při teplotě 22 °C (lm) &lt;dbl&gt; | Dim Světelný tok při teplotě 5 °C (lm) &lt;dbl&gt; |\n",
       "|---|---|---|---|---|---|---|---|---|\n",
       "| 0 | 784.9 | 786.6 | 849.7 | 850.9 | 822.4 | 823.4 | 773.8 | 772.6 |\n",
       "| 1 | 782.0 | 783.8 | 831.9 | 833.2 | 783.5 | 787.2 | 809.3 | 812.9 |\n",
       "| 2 | 782.6 | 785.3 | 828.5 | 825.0 | 790.0 | 787.7 | 826.0 | 830.0 |\n",
       "| 3 | 777.7 | 772.2 | 795.5 | 790.5 | 792.7 | 795.3 | 778.1 | 781.9 |\n",
       "| 4 | 824.7 | 825.3 | 815.2 | 817.9 | 829.4 | 831.5 | 777.3 | 772.4 |\n",
       "| 5 | 759.1 | 759.1 | 804.9 | 801.1 | 799.0 | 798.7 | 797.6 | 795.7 |\n",
       "\n"
      ],
      "text/plain": [
       "  ...1 Amber Světelný tok při teplotě 22 °C (lm)\n",
       "1 0    784.9                                    \n",
       "2 1    782.0                                    \n",
       "3 2    782.6                                    \n",
       "4 3    777.7                                    \n",
       "5 4    824.7                                    \n",
       "6 5    759.1                                    \n",
       "  Amber Světelný tok při teplotě 5 °C (lm)\n",
       "1 786.6                                   \n",
       "2 783.8                                   \n",
       "3 785.3                                   \n",
       "4 772.2                                   \n",
       "5 825.3                                   \n",
       "6 759.1                                   \n",
       "  Bright Světelný tok při teplotě 22 °C (lm)\n",
       "1 849.7                                     \n",
       "2 831.9                                     \n",
       "3 828.5                                     \n",
       "4 795.5                                     \n",
       "5 815.2                                     \n",
       "6 804.9                                     \n",
       "  Bright Světelný tok při teplotě 5 °C (lm)\n",
       "1 850.9                                    \n",
       "2 833.2                                    \n",
       "3 825.0                                    \n",
       "4 790.5                                    \n",
       "5 817.9                                    \n",
       "6 801.1                                    \n",
       "  Clear Světelný tok při teplotě 22 °C (lm)\n",
       "1 822.4                                    \n",
       "2 783.5                                    \n",
       "3 790.0                                    \n",
       "4 792.7                                    \n",
       "5 829.4                                    \n",
       "6 799.0                                    \n",
       "  Clear Světelný tok při teplotě 5 °C (lm)\n",
       "1 823.4                                   \n",
       "2 787.2                                   \n",
       "3 787.7                                   \n",
       "4 795.3                                   \n",
       "5 831.5                                   \n",
       "6 798.7                                   \n",
       "  Dim Světelný tok při teplotě 22 °C (lm)\n",
       "1 773.8                                  \n",
       "2 809.3                                  \n",
       "3 826.0                                  \n",
       "4 778.1                                  \n",
       "5 777.3                                  \n",
       "6 797.6                                  \n",
       "  Dim Světelný tok při teplotě 5 °C (lm)\n",
       "1 772.6                                 \n",
       "2 812.9                                 \n",
       "3 830.0                                 \n",
       "4 781.9                                 \n",
       "5 772.4                                 \n",
       "6 795.7                                 "
      ]
     },
     "metadata": {},
     "output_type": "display_data"
    }
   ],
   "source": [
    "data_DM <- readxl::read_excel(\"./data/datova_matice.xlsx\")\n",
    "head(data_DM)\n"
   ]
  },
  {
   "cell_type": "code",
   "execution_count": 75,
   "id": "e0cf327d",
   "metadata": {
    "vscode": {
     "languageId": "r"
    }
   },
   "outputs": [
    {
     "data": {
      "text/html": [
       "<table class=\"dataframe\">\n",
       "<caption>A tibble: 6 × 8</caption>\n",
       "<thead>\n",
       "\t<tr><th scope=col>A22</th><th scope=col>A5</th><th scope=col>B22</th><th scope=col>B5</th><th scope=col>C22</th><th scope=col>C5</th><th scope=col>D22</th><th scope=col>D5</th></tr>\n",
       "\t<tr><th scope=col>&lt;dbl&gt;</th><th scope=col>&lt;dbl&gt;</th><th scope=col>&lt;dbl&gt;</th><th scope=col>&lt;dbl&gt;</th><th scope=col>&lt;dbl&gt;</th><th scope=col>&lt;dbl&gt;</th><th scope=col>&lt;dbl&gt;</th><th scope=col>&lt;dbl&gt;</th></tr>\n",
       "</thead>\n",
       "<tbody>\n",
       "\t<tr><td>784.9</td><td>786.6</td><td>849.7</td><td>850.9</td><td>822.4</td><td>823.4</td><td>773.8</td><td>772.6</td></tr>\n",
       "\t<tr><td>782.0</td><td>783.8</td><td>831.9</td><td>833.2</td><td>783.5</td><td>787.2</td><td>809.3</td><td>812.9</td></tr>\n",
       "\t<tr><td>782.6</td><td>785.3</td><td>828.5</td><td>825.0</td><td>790.0</td><td>787.7</td><td>826.0</td><td>830.0</td></tr>\n",
       "\t<tr><td>777.7</td><td>772.2</td><td>795.5</td><td>790.5</td><td>792.7</td><td>795.3</td><td>778.1</td><td>781.9</td></tr>\n",
       "\t<tr><td>824.7</td><td>825.3</td><td>815.2</td><td>817.9</td><td>829.4</td><td>831.5</td><td>777.3</td><td>772.4</td></tr>\n",
       "\t<tr><td>759.1</td><td>759.1</td><td>804.9</td><td>801.1</td><td>799.0</td><td>798.7</td><td>797.6</td><td>795.7</td></tr>\n",
       "</tbody>\n",
       "</table>\n"
      ],
      "text/latex": [
       "A tibble: 6 × 8\n",
       "\\begin{tabular}{llllllll}\n",
       " A22 & A5 & B22 & B5 & C22 & C5 & D22 & D5\\\\\n",
       " <dbl> & <dbl> & <dbl> & <dbl> & <dbl> & <dbl> & <dbl> & <dbl>\\\\\n",
       "\\hline\n",
       "\t 784.9 & 786.6 & 849.7 & 850.9 & 822.4 & 823.4 & 773.8 & 772.6\\\\\n",
       "\t 782.0 & 783.8 & 831.9 & 833.2 & 783.5 & 787.2 & 809.3 & 812.9\\\\\n",
       "\t 782.6 & 785.3 & 828.5 & 825.0 & 790.0 & 787.7 & 826.0 & 830.0\\\\\n",
       "\t 777.7 & 772.2 & 795.5 & 790.5 & 792.7 & 795.3 & 778.1 & 781.9\\\\\n",
       "\t 824.7 & 825.3 & 815.2 & 817.9 & 829.4 & 831.5 & 777.3 & 772.4\\\\\n",
       "\t 759.1 & 759.1 & 804.9 & 801.1 & 799.0 & 798.7 & 797.6 & 795.7\\\\\n",
       "\\end{tabular}\n"
      ],
      "text/markdown": [
       "\n",
       "A tibble: 6 × 8\n",
       "\n",
       "| A22 &lt;dbl&gt; | A5 &lt;dbl&gt; | B22 &lt;dbl&gt; | B5 &lt;dbl&gt; | C22 &lt;dbl&gt; | C5 &lt;dbl&gt; | D22 &lt;dbl&gt; | D5 &lt;dbl&gt; |\n",
       "|---|---|---|---|---|---|---|---|\n",
       "| 784.9 | 786.6 | 849.7 | 850.9 | 822.4 | 823.4 | 773.8 | 772.6 |\n",
       "| 782.0 | 783.8 | 831.9 | 833.2 | 783.5 | 787.2 | 809.3 | 812.9 |\n",
       "| 782.6 | 785.3 | 828.5 | 825.0 | 790.0 | 787.7 | 826.0 | 830.0 |\n",
       "| 777.7 | 772.2 | 795.5 | 790.5 | 792.7 | 795.3 | 778.1 | 781.9 |\n",
       "| 824.7 | 825.3 | 815.2 | 817.9 | 829.4 | 831.5 | 777.3 | 772.4 |\n",
       "| 759.1 | 759.1 | 804.9 | 801.1 | 799.0 | 798.7 | 797.6 | 795.7 |\n",
       "\n"
      ],
      "text/plain": [
       "  A22   A5    B22   B5    C22   C5    D22   D5   \n",
       "1 784.9 786.6 849.7 850.9 822.4 823.4 773.8 772.6\n",
       "2 782.0 783.8 831.9 833.2 783.5 787.2 809.3 812.9\n",
       "3 782.6 785.3 828.5 825.0 790.0 787.7 826.0 830.0\n",
       "4 777.7 772.2 795.5 790.5 792.7 795.3 778.1 781.9\n",
       "5 824.7 825.3 815.2 817.9 829.4 831.5 777.3 772.4\n",
       "6 759.1 759.1 804.9 801.1 799.0 798.7 797.6 795.7"
      ]
     },
     "metadata": {},
     "output_type": "display_data"
    }
   ],
   "source": [
    "# smažeme první sloupec\n",
    "data_DM <- data_DM[, -1]\n",
    "# přejmenujeme sloupce\n",
    "colnames(data_DM) <- c(\"A22\", \"A5\", \"B22\", \"B5\", \"C22\", \"C5\", \"D22\", \"D5\")\n",
    "head(data_DM)\n"
   ]
  },
  {
   "cell_type": "markdown",
   "id": "25dcb024",
   "metadata": {},
   "source": [
    "#### Funkce `reshape`:  \n",
    "```r\n",
    "reshape(data, direction, varying, v.names, times, timevar)\n",
    "```\n",
    "\n",
    "- **`data`** – Data k převedení musí být ve formátu `data.frame` nebo `tibble`.\n",
    "- **`direction`** – Směr transformace:\n",
    "  - `\"long\"` – převod do standardního formátu (*long format*).\n",
    "  - `\"wide\"` – převod zpět do datové matice (*wide format*).\n",
    "- **`varying`** – Názvy sloupců, které označují stejná data pro různé kategorie:\n",
    "  - Je to **seznam vektorů** (`list`).\n",
    "  - Každá položka listu odpovídá **jednomu měření**.\n",
    "  - Každý vektor obsahuje seznam odpovídajících sloupců.\n",
    "- **`v.names`** – Názvy sloupců ve standardním datovém formátu:\n",
    "  - Počet názvů musí odpovídat počtu vektorů ve `varying`.\n",
    "- **`times`** – Názvy jednotlivých kategorií:\n",
    "  - ⚠ **Musí být ve stejném pořadí jako odpovídající sloupce ve `varying`!**\n",
    "- **`timevar`** – Název sloupce obsahujícího kategorie.\n"
   ]
  },
  {
   "cell_type": "code",
   "execution_count": 76,
   "id": "c610e528",
   "metadata": {
    "vscode": {
     "languageId": "r"
    }
   },
   "outputs": [
    {
     "data": {
      "text/html": [
       "<table class=\"dataframe\">\n",
       "<caption>A data.frame: 6 × 4</caption>\n",
       "<thead>\n",
       "\t<tr><th></th><th scope=col>vyrobce</th><th scope=col>tok5</th><th scope=col>tok22</th><th scope=col>id</th></tr>\n",
       "\t<tr><th></th><th scope=col>&lt;chr&gt;</th><th scope=col>&lt;dbl&gt;</th><th scope=col>&lt;dbl&gt;</th><th scope=col>&lt;int&gt;</th></tr>\n",
       "</thead>\n",
       "<tbody>\n",
       "\t<tr><th scope=row>1.Amber</th><td>Amber</td><td>786.6</td><td>784.9</td><td>1</td></tr>\n",
       "\t<tr><th scope=row>2.Amber</th><td>Amber</td><td>783.8</td><td>782.0</td><td>2</td></tr>\n",
       "\t<tr><th scope=row>3.Amber</th><td>Amber</td><td>785.3</td><td>782.6</td><td>3</td></tr>\n",
       "\t<tr><th scope=row>4.Amber</th><td>Amber</td><td>772.2</td><td>777.7</td><td>4</td></tr>\n",
       "\t<tr><th scope=row>5.Amber</th><td>Amber</td><td>825.3</td><td>824.7</td><td>5</td></tr>\n",
       "\t<tr><th scope=row>6.Amber</th><td>Amber</td><td>759.1</td><td>759.1</td><td>6</td></tr>\n",
       "</tbody>\n",
       "</table>\n"
      ],
      "text/latex": [
       "A data.frame: 6 × 4\n",
       "\\begin{tabular}{r|llll}\n",
       "  & vyrobce & tok5 & tok22 & id\\\\\n",
       "  & <chr> & <dbl> & <dbl> & <int>\\\\\n",
       "\\hline\n",
       "\t1.Amber & Amber & 786.6 & 784.9 & 1\\\\\n",
       "\t2.Amber & Amber & 783.8 & 782.0 & 2\\\\\n",
       "\t3.Amber & Amber & 785.3 & 782.6 & 3\\\\\n",
       "\t4.Amber & Amber & 772.2 & 777.7 & 4\\\\\n",
       "\t5.Amber & Amber & 825.3 & 824.7 & 5\\\\\n",
       "\t6.Amber & Amber & 759.1 & 759.1 & 6\\\\\n",
       "\\end{tabular}\n"
      ],
      "text/markdown": [
       "\n",
       "A data.frame: 6 × 4\n",
       "\n",
       "| <!--/--> | vyrobce &lt;chr&gt; | tok5 &lt;dbl&gt; | tok22 &lt;dbl&gt; | id &lt;int&gt; |\n",
       "|---|---|---|---|---|\n",
       "| 1.Amber | Amber | 786.6 | 784.9 | 1 |\n",
       "| 2.Amber | Amber | 783.8 | 782.0 | 2 |\n",
       "| 3.Amber | Amber | 785.3 | 782.6 | 3 |\n",
       "| 4.Amber | Amber | 772.2 | 777.7 | 4 |\n",
       "| 5.Amber | Amber | 825.3 | 824.7 | 5 |\n",
       "| 6.Amber | Amber | 759.1 | 759.1 | 6 |\n",
       "\n"
      ],
      "text/plain": [
       "        vyrobce tok5  tok22 id\n",
       "1.Amber Amber   786.6 784.9 1 \n",
       "2.Amber Amber   783.8 782.0 2 \n",
       "3.Amber Amber   785.3 782.6 3 \n",
       "4.Amber Amber   772.2 777.7 4 \n",
       "5.Amber Amber   825.3 824.7 5 \n",
       "6.Amber Amber   759.1 759.1 6 "
      ]
     },
     "metadata": {},
     "output_type": "display_data"
    }
   ],
   "source": [
    "dataS <- reshape(\n",
    "    data = as.data.frame(data_DM),\n",
    "    direction = \"long\",\n",
    "    varying = list(\n",
    "        c(\"A5\", \"B5\", \"C5\", \"D5\"),\n",
    "        c(\"A22\", \"B22\", \"C22\", \"D22\")\n",
    "    ),\n",
    "    v.names = c(\"tok5\", \"tok22\"),\n",
    "    times = c(\"Amber\", \"Bright\", \"Clear\", \"Dim\"),\n",
    "    timevar = \"vyrobce\"\n",
    ")\n",
    "head(dataS)\n"
   ]
  },
  {
   "cell_type": "markdown",
   "id": "ea4f9743",
   "metadata": {},
   "source": [
    "### c) Z datového souboru, kde jsou kategorie (např. výrobci) v jednotlivých listech Excelu\n",
    "\n",
    "V tomto případě bohužel **nelze využít vestavěnou funkci**, která by provedla operaci automaticky. Musíme to provést ručně následujícím postupem:\n",
    "\n",
    "1. **Načteme všechny listy Excelu** do samostatných proměnných.\n",
    "2. **Ke každé proměnné přidáme sloupec s kategorií** (např. výrobce).\n",
    "3. **Spojíme všechny proměnné do jedné tabulky** pomocí funkce:\n",
    "   ```r\n",
    "   rbind(data1, data2, data3, ...)\n",
    "    ```"
   ]
  },
  {
   "cell_type": "code",
   "execution_count": 77,
   "id": "633a22dd",
   "metadata": {
    "vscode": {
     "languageId": "r"
    }
   },
   "outputs": [
    {
     "name": "stderr",
     "output_type": "stream",
     "text": [
      "\u001b[1m\u001b[22mNew names:\n",
      "\u001b[36m•\u001b[39m `` -> `...1`\n"
     ]
    },
    {
     "data": {
      "text/html": [
       "<table class=\"dataframe\">\n",
       "<caption>A tibble: 6 × 3</caption>\n",
       "<thead>\n",
       "\t<tr><th scope=col>...1</th><th scope=col>Světelný tok při teplotě 22 °C (lm)</th><th scope=col>Světelný tok při teplotě 5 °C (lm)</th></tr>\n",
       "\t<tr><th scope=col>&lt;dbl&gt;</th><th scope=col>&lt;dbl&gt;</th><th scope=col>&lt;dbl&gt;</th></tr>\n",
       "</thead>\n",
       "<tbody>\n",
       "\t<tr><td>0</td><td>825.2</td><td>828.9</td></tr>\n",
       "\t<tr><td>1</td><td>855.4</td><td>847.4</td></tr>\n",
       "\t<tr><td>2</td><td>823.3</td><td>813.3</td></tr>\n",
       "\t<tr><td>3</td><td>826.1</td><td>815.2</td></tr>\n",
       "\t<tr><td>4</td><td>785.5</td><td>781.1</td></tr>\n",
       "\t<tr><td>5</td><td>835.0</td><td>828.3</td></tr>\n",
       "</tbody>\n",
       "</table>\n"
      ],
      "text/latex": [
       "A tibble: 6 × 3\n",
       "\\begin{tabular}{lll}\n",
       " ...1 & Světelný tok při teplotě 22 °C (lm) & Světelný tok při teplotě 5 °C (lm)\\\\\n",
       " <dbl> & <dbl> & <dbl>\\\\\n",
       "\\hline\n",
       "\t 0 & 825.2 & 828.9\\\\\n",
       "\t 1 & 855.4 & 847.4\\\\\n",
       "\t 2 & 823.3 & 813.3\\\\\n",
       "\t 3 & 826.1 & 815.2\\\\\n",
       "\t 4 & 785.5 & 781.1\\\\\n",
       "\t 5 & 835.0 & 828.3\\\\\n",
       "\\end{tabular}\n"
      ],
      "text/markdown": [
       "\n",
       "A tibble: 6 × 3\n",
       "\n",
       "| ...1 &lt;dbl&gt; | Světelný tok při teplotě 22 °C (lm) &lt;dbl&gt; | Světelný tok při teplotě 5 °C (lm) &lt;dbl&gt; |\n",
       "|---|---|---|\n",
       "| 0 | 825.2 | 828.9 |\n",
       "| 1 | 855.4 | 847.4 |\n",
       "| 2 | 823.3 | 813.3 |\n",
       "| 3 | 826.1 | 815.2 |\n",
       "| 4 | 785.5 | 781.1 |\n",
       "| 5 | 835.0 | 828.3 |\n",
       "\n"
      ],
      "text/plain": [
       "  ...1 Světelný tok při teplotě 22 °C (lm) Světelný tok při teplotě 5 °C (lm)\n",
       "1 0    825.2                               828.9                             \n",
       "2 1    855.4                               847.4                             \n",
       "3 2    823.3                               813.3                             \n",
       "4 3    826.1                               815.2                             \n",
       "5 4    785.5                               781.1                             \n",
       "6 5    835.0                               828.3                             "
      ]
     },
     "metadata": {},
     "output_type": "display_data"
    },
    {
     "name": "stderr",
     "output_type": "stream",
     "text": [
      "\u001b[1m\u001b[22mNew names:\n",
      "\u001b[36m•\u001b[39m `` -> `...1`\n",
      "\u001b[1m\u001b[22mNew names:\n",
      "\u001b[36m•\u001b[39m `` -> `...1`\n",
      "\u001b[1m\u001b[22mNew names:\n",
      "\u001b[36m•\u001b[39m `` -> `...1`\n"
     ]
    }
   ],
   "source": [
    "# načteme všechny listy do separátních proměnných\n",
    "data_A <- readxl::read_excel(\"./data/po_listech.xlsx\", sheet = 1)\n",
    "head(data_A)\n",
    "data_B <- readxl::read_excel(\"./data/po_listech.xlsx\", sheet = 2)\n",
    "data_C <- readxl::read_excel(\"./data/po_listech.xlsx\", sheet = 3)\n",
    "data_D <- readxl::read_excel(\"./data/po_listech.xlsx\", sheet = 4)\n"
   ]
  },
  {
   "cell_type": "code",
   "execution_count": 78,
   "id": "dd846b6d",
   "metadata": {
    "vscode": {
     "languageId": "r"
    }
   },
   "outputs": [
    {
     "data": {
      "text/html": [
       "<table class=\"dataframe\">\n",
       "<caption>A tibble: 6 × 4</caption>\n",
       "<thead>\n",
       "\t<tr><th scope=col>...1</th><th scope=col>Světelný tok při teplotě 22 °C (lm)</th><th scope=col>Světelný tok při teplotě 5 °C (lm)</th><th scope=col>vyrobce</th></tr>\n",
       "\t<tr><th scope=col>&lt;dbl&gt;</th><th scope=col>&lt;dbl&gt;</th><th scope=col>&lt;dbl&gt;</th><th scope=col>&lt;chr&gt;</th></tr>\n",
       "</thead>\n",
       "<tbody>\n",
       "\t<tr><td>0</td><td>825.2</td><td>828.9</td><td>Amber</td></tr>\n",
       "\t<tr><td>1</td><td>855.4</td><td>847.4</td><td>Amber</td></tr>\n",
       "\t<tr><td>2</td><td>823.3</td><td>813.3</td><td>Amber</td></tr>\n",
       "\t<tr><td>3</td><td>826.1</td><td>815.2</td><td>Amber</td></tr>\n",
       "\t<tr><td>4</td><td>785.5</td><td>781.1</td><td>Amber</td></tr>\n",
       "\t<tr><td>5</td><td>835.0</td><td>828.3</td><td>Amber</td></tr>\n",
       "</tbody>\n",
       "</table>\n"
      ],
      "text/latex": [
       "A tibble: 6 × 4\n",
       "\\begin{tabular}{llll}\n",
       " ...1 & Světelný tok při teplotě 22 °C (lm) & Světelný tok při teplotě 5 °C (lm) & vyrobce\\\\\n",
       " <dbl> & <dbl> & <dbl> & <chr>\\\\\n",
       "\\hline\n",
       "\t 0 & 825.2 & 828.9 & Amber\\\\\n",
       "\t 1 & 855.4 & 847.4 & Amber\\\\\n",
       "\t 2 & 823.3 & 813.3 & Amber\\\\\n",
       "\t 3 & 826.1 & 815.2 & Amber\\\\\n",
       "\t 4 & 785.5 & 781.1 & Amber\\\\\n",
       "\t 5 & 835.0 & 828.3 & Amber\\\\\n",
       "\\end{tabular}\n"
      ],
      "text/markdown": [
       "\n",
       "A tibble: 6 × 4\n",
       "\n",
       "| ...1 &lt;dbl&gt; | Světelný tok při teplotě 22 °C (lm) &lt;dbl&gt; | Světelný tok při teplotě 5 °C (lm) &lt;dbl&gt; | vyrobce &lt;chr&gt; |\n",
       "|---|---|---|---|\n",
       "| 0 | 825.2 | 828.9 | Amber |\n",
       "| 1 | 855.4 | 847.4 | Amber |\n",
       "| 2 | 823.3 | 813.3 | Amber |\n",
       "| 3 | 826.1 | 815.2 | Amber |\n",
       "| 4 | 785.5 | 781.1 | Amber |\n",
       "| 5 | 835.0 | 828.3 | Amber |\n",
       "\n"
      ],
      "text/plain": [
       "  ...1 Světelný tok při teplotě 22 °C (lm) Světelný tok při teplotě 5 °C (lm)\n",
       "1 0    825.2                               828.9                             \n",
       "2 1    855.4                               847.4                             \n",
       "3 2    823.3                               813.3                             \n",
       "4 3    826.1                               815.2                             \n",
       "5 4    785.5                               781.1                             \n",
       "6 5    835.0                               828.3                             \n",
       "  vyrobce\n",
       "1 Amber  \n",
       "2 Amber  \n",
       "3 Amber  \n",
       "4 Amber  \n",
       "5 Amber  \n",
       "6 Amber  "
      ]
     },
     "metadata": {},
     "output_type": "display_data"
    }
   ],
   "source": [
    "# přidáme sloupec s výrobcem\n",
    "data_A$vyrobce <- \"Amber\"\n",
    "data_B$vyrobce <- \"Bright\"\n",
    "data_C$vyrobce <- \"Clear\"\n",
    "data_D$vyrobce <- \"Dim\"\n",
    "head(data_A)\n"
   ]
  },
  {
   "cell_type": "code",
   "execution_count": 79,
   "id": "1b001c67",
   "metadata": {
    "vscode": {
     "languageId": "r"
    }
   },
   "outputs": [
    {
     "data": {
      "text/html": [
       "<table class=\"dataframe\">\n",
       "<caption>A tibble: 6 × 3</caption>\n",
       "<thead>\n",
       "\t<tr><th scope=col>Světelný tok při teplotě 22 °C (lm)</th><th scope=col>Světelný tok při teplotě 5 °C (lm)</th><th scope=col>vyrobce</th></tr>\n",
       "\t<tr><th scope=col>&lt;dbl&gt;</th><th scope=col>&lt;dbl&gt;</th><th scope=col>&lt;chr&gt;</th></tr>\n",
       "</thead>\n",
       "<tbody>\n",
       "\t<tr><td>817.7</td><td>821.7</td><td>Dim</td></tr>\n",
       "\t<tr><td>821.9</td><td>820.9</td><td>Dim</td></tr>\n",
       "\t<tr><td>818.4</td><td>821.9</td><td>Dim</td></tr>\n",
       "\t<tr><td>828.0</td><td>821.9</td><td>Dim</td></tr>\n",
       "\t<tr><td>807.1</td><td>806.6</td><td>Dim</td></tr>\n",
       "\t<tr><td>857.4</td><td>868.6</td><td>Dim</td></tr>\n",
       "</tbody>\n",
       "</table>\n"
      ],
      "text/latex": [
       "A tibble: 6 × 3\n",
       "\\begin{tabular}{lll}\n",
       " Světelný tok při teplotě 22 °C (lm) & Světelný tok při teplotě 5 °C (lm) & vyrobce\\\\\n",
       " <dbl> & <dbl> & <chr>\\\\\n",
       "\\hline\n",
       "\t 817.7 & 821.7 & Dim\\\\\n",
       "\t 821.9 & 820.9 & Dim\\\\\n",
       "\t 818.4 & 821.9 & Dim\\\\\n",
       "\t 828.0 & 821.9 & Dim\\\\\n",
       "\t 807.1 & 806.6 & Dim\\\\\n",
       "\t 857.4 & 868.6 & Dim\\\\\n",
       "\\end{tabular}\n"
      ],
      "text/markdown": [
       "\n",
       "A tibble: 6 × 3\n",
       "\n",
       "| Světelný tok při teplotě 22 °C (lm) &lt;dbl&gt; | Světelný tok při teplotě 5 °C (lm) &lt;dbl&gt; | vyrobce &lt;chr&gt; |\n",
       "|---|---|---|\n",
       "| 817.7 | 821.7 | Dim |\n",
       "| 821.9 | 820.9 | Dim |\n",
       "| 818.4 | 821.9 | Dim |\n",
       "| 828.0 | 821.9 | Dim |\n",
       "| 807.1 | 806.6 | Dim |\n",
       "| 857.4 | 868.6 | Dim |\n",
       "\n"
      ],
      "text/plain": [
       "  Světelný tok při teplotě 22 °C (lm) Světelný tok při teplotě 5 °C (lm)\n",
       "1 817.7                               821.7                             \n",
       "2 821.9                               820.9                             \n",
       "3 818.4                               821.9                             \n",
       "4 828.0                               821.9                             \n",
       "5 807.1                               806.6                             \n",
       "6 857.4                               868.6                             \n",
       "  vyrobce\n",
       "1 Dim    \n",
       "2 Dim    \n",
       "3 Dim    \n",
       "4 Dim    \n",
       "5 Dim    \n",
       "6 Dim    "
      ]
     },
     "metadata": {},
     "output_type": "display_data"
    }
   ],
   "source": [
    "# sloučíme všechny listy do jednoho pomocí rbind\n",
    "# v prvním sloupci je sice id, ale je jen vůči danému listu, ne vůči celé tabulce\n",
    "dataS2 <- rbind(data_A, data_B, data_C, data_D)\n",
    "dataS2 <- dataS2[, -1]\n",
    "tail(dataS2)\n"
   ]
  },
  {
   "cell_type": "code",
   "execution_count": 80,
   "id": "95c155a8",
   "metadata": {
    "vscode": {
     "languageId": "r"
    }
   },
   "outputs": [
    {
     "data": {
      "text/html": [
       "<table class=\"dataframe\">\n",
       "<caption>A tibble: 6 × 4</caption>\n",
       "<thead>\n",
       "\t<tr><th scope=col>tok5</th><th scope=col>tok22</th><th scope=col>vyrobce</th><th scope=col>id</th></tr>\n",
       "\t<tr><th scope=col>&lt;dbl&gt;</th><th scope=col>&lt;dbl&gt;</th><th scope=col>&lt;chr&gt;</th><th scope=col>&lt;int&gt;</th></tr>\n",
       "</thead>\n",
       "<tbody>\n",
       "\t<tr><td>825.2</td><td>828.9</td><td>Amber</td><td>1</td></tr>\n",
       "\t<tr><td>855.4</td><td>847.4</td><td>Amber</td><td>2</td></tr>\n",
       "\t<tr><td>823.3</td><td>813.3</td><td>Amber</td><td>3</td></tr>\n",
       "\t<tr><td>826.1</td><td>815.2</td><td>Amber</td><td>4</td></tr>\n",
       "\t<tr><td>785.5</td><td>781.1</td><td>Amber</td><td>5</td></tr>\n",
       "\t<tr><td>835.0</td><td>828.3</td><td>Amber</td><td>6</td></tr>\n",
       "</tbody>\n",
       "</table>\n"
      ],
      "text/latex": [
       "A tibble: 6 × 4\n",
       "\\begin{tabular}{llll}\n",
       " tok5 & tok22 & vyrobce & id\\\\\n",
       " <dbl> & <dbl> & <chr> & <int>\\\\\n",
       "\\hline\n",
       "\t 825.2 & 828.9 & Amber & 1\\\\\n",
       "\t 855.4 & 847.4 & Amber & 2\\\\\n",
       "\t 823.3 & 813.3 & Amber & 3\\\\\n",
       "\t 826.1 & 815.2 & Amber & 4\\\\\n",
       "\t 785.5 & 781.1 & Amber & 5\\\\\n",
       "\t 835.0 & 828.3 & Amber & 6\\\\\n",
       "\\end{tabular}\n"
      ],
      "text/markdown": [
       "\n",
       "A tibble: 6 × 4\n",
       "\n",
       "| tok5 &lt;dbl&gt; | tok22 &lt;dbl&gt; | vyrobce &lt;chr&gt; | id &lt;int&gt; |\n",
       "|---|---|---|---|\n",
       "| 825.2 | 828.9 | Amber | 1 |\n",
       "| 855.4 | 847.4 | Amber | 2 |\n",
       "| 823.3 | 813.3 | Amber | 3 |\n",
       "| 826.1 | 815.2 | Amber | 4 |\n",
       "| 785.5 | 781.1 | Amber | 5 |\n",
       "| 835.0 | 828.3 | Amber | 6 |\n",
       "\n"
      ],
      "text/plain": [
       "  tok5  tok22 vyrobce id\n",
       "1 825.2 828.9 Amber   1 \n",
       "2 855.4 847.4 Amber   2 \n",
       "3 823.3 813.3 Amber   3 \n",
       "4 826.1 815.2 Amber   4 \n",
       "5 785.5 781.1 Amber   5 \n",
       "6 835.0 828.3 Amber   6 "
      ]
     },
     "metadata": {},
     "output_type": "display_data"
    }
   ],
   "source": [
    "# přejmenujeme sloupce\n",
    "colnames(dataS2) <- c(\"tok5\", \"tok22\", \"vyrobce\")\n",
    "# přidáme sloupec s id\n",
    "dataS2$id <- seq_along(dataS2$tok5)\n",
    "head(dataS2)"
   ]
  },
  {
   "cell_type": "markdown",
   "id": "b0e566ee",
   "metadata": {},
   "source": [
    "---\n"
   ]
  },
  {
   "cell_type": "markdown",
   "id": "23e7b75a",
   "metadata": {},
   "source": [
    "# 5. Knihovna Dplyr\n"
   ]
  },
  {
   "cell_type": "markdown",
   "id": "af94d1b8",
   "metadata": {},
   "source": [
    "### a) Přehled funkcí knihovny `dplyr`\n",
    "\n",
    "- **`%>%`** je tzv. pipe operátor. Typické využití je ve tvaru:\n",
    "  ```r\n",
    "  res = data %>% operace\n",
    "  ```\n",
    "  kde výsledkem je aplikovaná operace na `data`.\n",
    "    - v Rstudio lze zapsat jako `Ctrl + Shift + M`\n",
    "\n",
    "- **`select(...)`** slouží k výběru sloupců v datovém rámci:\n",
    "  - `select(1)` – vybere první sloupec.\n",
    "  - `select(A5)` – vybere sloupec se jménem `A5`.\n",
    "  - `select(1,3,5)` – vybere sloupce 1, 3 a 5.\n",
    "\n",
    "- **`mutate(novy_sloupec = ...)`** vytvoří v datovém rámci nový sloupec pomocí výpočtu nad existujícími sloupci:\n",
    "  ```r\n",
    "  data %>% mutate(C = A - B)\n",
    "  ```\n",
    "  Tento příkaz vytvoří v datovém rámci `data` nový sloupec `C` jako rozdíl hodnot ve stávajících sloupcích `A` a `B`.\n",
    "\n",
    "- **`filter(...)`** vyfiltruje záznamy splňující zadané podmínky:\n",
    "  - `data %>% filter(vyrobce == \"A\" | vyrobce == \"B\")`  \n",
    "    Vrátí datový rámec, kde sloupec `vyrobce` obsahuje pouze hodnoty `\"A\"` nebo `\"B\"`.\n",
    "  - `data %>% filter(vyrobce == \"A\", hodnoty > 1000)`  \n",
    "    Pokud jsou podmínky odděleny čárkou, chápeme je jako **\"a zároveň\"**.\n",
    "\n",
    "- **`summarise(...)`** vypočítá číselné charakteristiky v rámci zadaných sloupců (vhodné pro kombinaci s `group_by`):\n",
    "  ```r\n",
    "  data %>% summarise(prum = mean(kap5), median = median(kap5))\n",
    "  ```\n",
    "\n",
    "- **`arrange(...)`** seřadí řádky vzestupně nebo sestupně:\n",
    "  - `data %>% arrange(pokles)` – vzestupné řazení.\n",
    "  - `data %>% arrange(desc(pokles))` – sestupné řazení.\n",
    "\n",
    "- **`group_by(...)`** seskupí data podle unikátních hodnot v zadaném sloupci:\n",
    "  ```r\n",
    "  data %>% group_by(vyrobce)\n",
    "  ```\n",
    "\n",
    "Velice užitečný `dplyr` cheat sheet naleznete zde:  \n",
    "[Data Transformation Cheat Sheet](https://github.com/rstudio/cheatsheets/raw/main/data-transformation.pdf)"
   ]
  },
  {
   "cell_type": "markdown",
   "id": "f8a15af5",
   "metadata": {},
   "source": [
    "### b) Výběry sloupců"
   ]
  },
  {
   "cell_type": "code",
   "execution_count": 81,
   "id": "45ae19d1",
   "metadata": {
    "vscode": {
     "languageId": "r"
    }
   },
   "outputs": [
    {
     "data": {
      "text/html": [
       "<table class=\"dataframe\">\n",
       "<caption>A tibble: 6 × 8</caption>\n",
       "<thead>\n",
       "\t<tr><th scope=col>A5</th><th scope=col>B5</th><th scope=col>C5</th><th scope=col>D5</th><th scope=col>A22</th><th scope=col>B22</th><th scope=col>C22</th><th scope=col>D22</th></tr>\n",
       "\t<tr><th scope=col>&lt;dbl&gt;</th><th scope=col>&lt;dbl&gt;</th><th scope=col>&lt;dbl&gt;</th><th scope=col>&lt;dbl&gt;</th><th scope=col>&lt;dbl&gt;</th><th scope=col>&lt;dbl&gt;</th><th scope=col>&lt;dbl&gt;</th><th scope=col>&lt;dbl&gt;</th></tr>\n",
       "</thead>\n",
       "<tbody>\n",
       "\t<tr><td>784.9</td><td>849.7</td><td>822.4</td><td>773.8</td><td>786.6</td><td>850.9</td><td>823.4</td><td>772.6</td></tr>\n",
       "\t<tr><td>782.0</td><td>831.9</td><td>783.5</td><td>809.3</td><td>783.8</td><td>833.2</td><td>787.2</td><td>812.9</td></tr>\n",
       "\t<tr><td>782.6</td><td>828.5</td><td>790.0</td><td>826.0</td><td>785.3</td><td>825.0</td><td>787.7</td><td>830.0</td></tr>\n",
       "\t<tr><td>777.7</td><td>795.5</td><td>792.7</td><td>778.1</td><td>772.2</td><td>790.5</td><td>795.3</td><td>781.9</td></tr>\n",
       "\t<tr><td>824.7</td><td>815.2</td><td>829.4</td><td>777.3</td><td>825.3</td><td>817.9</td><td>831.5</td><td>772.4</td></tr>\n",
       "\t<tr><td>759.1</td><td>804.9</td><td>799.0</td><td>797.6</td><td>759.1</td><td>801.1</td><td>798.7</td><td>795.7</td></tr>\n",
       "</tbody>\n",
       "</table>\n"
      ],
      "text/latex": [
       "A tibble: 6 × 8\n",
       "\\begin{tabular}{llllllll}\n",
       " A5 & B5 & C5 & D5 & A22 & B22 & C22 & D22\\\\\n",
       " <dbl> & <dbl> & <dbl> & <dbl> & <dbl> & <dbl> & <dbl> & <dbl>\\\\\n",
       "\\hline\n",
       "\t 784.9 & 849.7 & 822.4 & 773.8 & 786.6 & 850.9 & 823.4 & 772.6\\\\\n",
       "\t 782.0 & 831.9 & 783.5 & 809.3 & 783.8 & 833.2 & 787.2 & 812.9\\\\\n",
       "\t 782.6 & 828.5 & 790.0 & 826.0 & 785.3 & 825.0 & 787.7 & 830.0\\\\\n",
       "\t 777.7 & 795.5 & 792.7 & 778.1 & 772.2 & 790.5 & 795.3 & 781.9\\\\\n",
       "\t 824.7 & 815.2 & 829.4 & 777.3 & 825.3 & 817.9 & 831.5 & 772.4\\\\\n",
       "\t 759.1 & 804.9 & 799.0 & 797.6 & 759.1 & 801.1 & 798.7 & 795.7\\\\\n",
       "\\end{tabular}\n"
      ],
      "text/markdown": [
       "\n",
       "A tibble: 6 × 8\n",
       "\n",
       "| A5 &lt;dbl&gt; | B5 &lt;dbl&gt; | C5 &lt;dbl&gt; | D5 &lt;dbl&gt; | A22 &lt;dbl&gt; | B22 &lt;dbl&gt; | C22 &lt;dbl&gt; | D22 &lt;dbl&gt; |\n",
       "|---|---|---|---|---|---|---|---|\n",
       "| 784.9 | 849.7 | 822.4 | 773.8 | 786.6 | 850.9 | 823.4 | 772.6 |\n",
       "| 782.0 | 831.9 | 783.5 | 809.3 | 783.8 | 833.2 | 787.2 | 812.9 |\n",
       "| 782.6 | 828.5 | 790.0 | 826.0 | 785.3 | 825.0 | 787.7 | 830.0 |\n",
       "| 777.7 | 795.5 | 792.7 | 778.1 | 772.2 | 790.5 | 795.3 | 781.9 |\n",
       "| 824.7 | 815.2 | 829.4 | 777.3 | 825.3 | 817.9 | 831.5 | 772.4 |\n",
       "| 759.1 | 804.9 | 799.0 | 797.6 | 759.1 | 801.1 | 798.7 | 795.7 |\n",
       "\n"
      ],
      "text/plain": [
       "  A5    B5    C5    D5    A22   B22   C22   D22  \n",
       "1 784.9 849.7 822.4 773.8 786.6 850.9 823.4 772.6\n",
       "2 782.0 831.9 783.5 809.3 783.8 833.2 787.2 812.9\n",
       "3 782.6 828.5 790.0 826.0 785.3 825.0 787.7 830.0\n",
       "4 777.7 795.5 792.7 778.1 772.2 790.5 795.3 781.9\n",
       "5 824.7 815.2 829.4 777.3 825.3 817.9 831.5 772.4\n",
       "6 759.1 804.9 799.0 797.6 759.1 801.1 798.7 795.7"
      ]
     },
     "metadata": {},
     "output_type": "display_data"
    }
   ],
   "source": [
    "# budeme pracovat s daty, které jsme připravili\n",
    "head(data)\n"
   ]
  },
  {
   "cell_type": "code",
   "execution_count": 82,
   "id": "7dbfc90d",
   "metadata": {
    "vscode": {
     "languageId": "r"
    }
   },
   "outputs": [
    {
     "data": {
      "text/html": [
       "<table class=\"dataframe\">\n",
       "<caption>A tibble: 6 × 1</caption>\n",
       "<thead>\n",
       "\t<tr><th scope=col>C5</th></tr>\n",
       "\t<tr><th scope=col>&lt;dbl&gt;</th></tr>\n",
       "</thead>\n",
       "<tbody>\n",
       "\t<tr><td>822.4</td></tr>\n",
       "\t<tr><td>783.5</td></tr>\n",
       "\t<tr><td>790.0</td></tr>\n",
       "\t<tr><td>792.7</td></tr>\n",
       "\t<tr><td>829.4</td></tr>\n",
       "\t<tr><td>799.0</td></tr>\n",
       "</tbody>\n",
       "</table>\n"
      ],
      "text/latex": [
       "A tibble: 6 × 1\n",
       "\\begin{tabular}{l}\n",
       " C5\\\\\n",
       " <dbl>\\\\\n",
       "\\hline\n",
       "\t 822.4\\\\\n",
       "\t 783.5\\\\\n",
       "\t 790.0\\\\\n",
       "\t 792.7\\\\\n",
       "\t 829.4\\\\\n",
       "\t 799.0\\\\\n",
       "\\end{tabular}\n"
      ],
      "text/markdown": [
       "\n",
       "A tibble: 6 × 1\n",
       "\n",
       "| C5 &lt;dbl&gt; |\n",
       "|---|\n",
       "| 822.4 |\n",
       "| 783.5 |\n",
       "| 790.0 |\n",
       "| 792.7 |\n",
       "| 829.4 |\n",
       "| 799.0 |\n",
       "\n"
      ],
      "text/plain": [
       "  C5   \n",
       "1 822.4\n",
       "2 783.5\n",
       "3 790.0\n",
       "4 792.7\n",
       "5 829.4\n",
       "6 799.0"
      ]
     },
     "metadata": {},
     "output_type": "display_data"
    }
   ],
   "source": [
    "# pomocí funkce select balíčku dplyr, která vybere zvolené sloupce\n",
    "res <- data %>% select(C5)\n",
    "head(res)"
   ]
  },
  {
   "cell_type": "code",
   "execution_count": 83,
   "id": "139ab551",
   "metadata": {
    "vscode": {
     "languageId": "r"
    }
   },
   "outputs": [
    {
     "data": {
      "text/html": [
       "<table class=\"dataframe\">\n",
       "<caption>A tibble: 6 × 2</caption>\n",
       "<thead>\n",
       "\t<tr><th scope=col>A5</th><th scope=col>A22</th></tr>\n",
       "\t<tr><th scope=col>&lt;dbl&gt;</th><th scope=col>&lt;dbl&gt;</th></tr>\n",
       "</thead>\n",
       "<tbody>\n",
       "\t<tr><td>784.9</td><td>786.6</td></tr>\n",
       "\t<tr><td>782.0</td><td>783.8</td></tr>\n",
       "\t<tr><td>782.6</td><td>785.3</td></tr>\n",
       "\t<tr><td>777.7</td><td>772.2</td></tr>\n",
       "\t<tr><td>824.7</td><td>825.3</td></tr>\n",
       "\t<tr><td>759.1</td><td>759.1</td></tr>\n",
       "</tbody>\n",
       "</table>\n"
      ],
      "text/latex": [
       "A tibble: 6 × 2\n",
       "\\begin{tabular}{ll}\n",
       " A5 & A22\\\\\n",
       " <dbl> & <dbl>\\\\\n",
       "\\hline\n",
       "\t 784.9 & 786.6\\\\\n",
       "\t 782.0 & 783.8\\\\\n",
       "\t 782.6 & 785.3\\\\\n",
       "\t 777.7 & 772.2\\\\\n",
       "\t 824.7 & 825.3\\\\\n",
       "\t 759.1 & 759.1\\\\\n",
       "\\end{tabular}\n"
      ],
      "text/markdown": [
       "\n",
       "A tibble: 6 × 2\n",
       "\n",
       "| A5 &lt;dbl&gt; | A22 &lt;dbl&gt; |\n",
       "|---|---|\n",
       "| 784.9 | 786.6 |\n",
       "| 782.0 | 783.8 |\n",
       "| 782.6 | 785.3 |\n",
       "| 777.7 | 772.2 |\n",
       "| 824.7 | 825.3 |\n",
       "| 759.1 | 759.1 |\n",
       "\n"
      ],
      "text/plain": [
       "  A5    A22  \n",
       "1 784.9 786.6\n",
       "2 782.0 783.8\n",
       "3 782.6 785.3\n",
       "4 777.7 772.2\n",
       "5 824.7 825.3\n",
       "6 759.1 759.1"
      ]
     },
     "metadata": {},
     "output_type": "display_data"
    }
   ],
   "source": [
    "# Uložení prvního a pátého sloupce dat. rámce data do dat. rámce pokus\n",
    "pokus <- data %>% select(1, 5)\n",
    "head(pokus)\n"
   ]
  },
  {
   "cell_type": "code",
   "execution_count": 84,
   "id": "515ff1aa",
   "metadata": {
    "vscode": {
     "languageId": "r"
    }
   },
   "outputs": [
    {
     "data": {
      "text/html": [
       "<table class=\"dataframe\">\n",
       "<caption>A tibble: 6 × 2</caption>\n",
       "<thead>\n",
       "\t<tr><th scope=col>A5</th><th scope=col>A22</th></tr>\n",
       "\t<tr><th scope=col>&lt;dbl&gt;</th><th scope=col>&lt;dbl&gt;</th></tr>\n",
       "</thead>\n",
       "<tbody>\n",
       "\t<tr><td>784.9</td><td>786.6</td></tr>\n",
       "\t<tr><td>782.0</td><td>783.8</td></tr>\n",
       "\t<tr><td>782.6</td><td>785.3</td></tr>\n",
       "\t<tr><td>777.7</td><td>772.2</td></tr>\n",
       "\t<tr><td>824.7</td><td>825.3</td></tr>\n",
       "\t<tr><td>759.1</td><td>759.1</td></tr>\n",
       "</tbody>\n",
       "</table>\n"
      ],
      "text/latex": [
       "A tibble: 6 × 2\n",
       "\\begin{tabular}{ll}\n",
       " A5 & A22\\\\\n",
       " <dbl> & <dbl>\\\\\n",
       "\\hline\n",
       "\t 784.9 & 786.6\\\\\n",
       "\t 782.0 & 783.8\\\\\n",
       "\t 782.6 & 785.3\\\\\n",
       "\t 777.7 & 772.2\\\\\n",
       "\t 824.7 & 825.3\\\\\n",
       "\t 759.1 & 759.1\\\\\n",
       "\\end{tabular}\n"
      ],
      "text/markdown": [
       "\n",
       "A tibble: 6 × 2\n",
       "\n",
       "| A5 &lt;dbl&gt; | A22 &lt;dbl&gt; |\n",
       "|---|---|\n",
       "| 784.9 | 786.6 |\n",
       "| 782.0 | 783.8 |\n",
       "| 782.6 | 785.3 |\n",
       "| 777.7 | 772.2 |\n",
       "| 824.7 | 825.3 |\n",
       "| 759.1 | 759.1 |\n",
       "\n"
      ],
      "text/plain": [
       "  A5    A22  \n",
       "1 784.9 786.6\n",
       "2 782.0 783.8\n",
       "3 782.6 785.3\n",
       "4 777.7 772.2\n",
       "5 824.7 825.3\n",
       "6 759.1 759.1"
      ]
     },
     "metadata": {},
     "output_type": "display_data"
    }
   ],
   "source": [
    "# nebo pomocí názvů sloupců\n",
    "pokus <- data %>% select(A5, A22)\n",
    "head(pokus)\n"
   ]
  },
  {
   "cell_type": "markdown",
   "id": "ef58ab02",
   "metadata": {},
   "source": [
    "### c) Vylučování dat ze souboru (pomocí záporných indexů)\n"
   ]
  },
  {
   "cell_type": "code",
   "execution_count": 85,
   "id": "6ec027d4",
   "metadata": {
    "vscode": {
     "languageId": "r"
    }
   },
   "outputs": [
    {
     "data": {
      "text/html": [
       "<table class=\"dataframe\">\n",
       "<caption>A tibble: 6 × 6</caption>\n",
       "<thead>\n",
       "\t<tr><th scope=col>B5</th><th scope=col>C5</th><th scope=col>D5</th><th scope=col>B22</th><th scope=col>C22</th><th scope=col>D22</th></tr>\n",
       "\t<tr><th scope=col>&lt;dbl&gt;</th><th scope=col>&lt;dbl&gt;</th><th scope=col>&lt;dbl&gt;</th><th scope=col>&lt;dbl&gt;</th><th scope=col>&lt;dbl&gt;</th><th scope=col>&lt;dbl&gt;</th></tr>\n",
       "</thead>\n",
       "<tbody>\n",
       "\t<tr><td>849.7</td><td>822.4</td><td>773.8</td><td>850.9</td><td>823.4</td><td>772.6</td></tr>\n",
       "\t<tr><td>831.9</td><td>783.5</td><td>809.3</td><td>833.2</td><td>787.2</td><td>812.9</td></tr>\n",
       "\t<tr><td>828.5</td><td>790.0</td><td>826.0</td><td>825.0</td><td>787.7</td><td>830.0</td></tr>\n",
       "\t<tr><td>795.5</td><td>792.7</td><td>778.1</td><td>790.5</td><td>795.3</td><td>781.9</td></tr>\n",
       "\t<tr><td>815.2</td><td>829.4</td><td>777.3</td><td>817.9</td><td>831.5</td><td>772.4</td></tr>\n",
       "\t<tr><td>804.9</td><td>799.0</td><td>797.6</td><td>801.1</td><td>798.7</td><td>795.7</td></tr>\n",
       "</tbody>\n",
       "</table>\n"
      ],
      "text/latex": [
       "A tibble: 6 × 6\n",
       "\\begin{tabular}{llllll}\n",
       " B5 & C5 & D5 & B22 & C22 & D22\\\\\n",
       " <dbl> & <dbl> & <dbl> & <dbl> & <dbl> & <dbl>\\\\\n",
       "\\hline\n",
       "\t 849.7 & 822.4 & 773.8 & 850.9 & 823.4 & 772.6\\\\\n",
       "\t 831.9 & 783.5 & 809.3 & 833.2 & 787.2 & 812.9\\\\\n",
       "\t 828.5 & 790.0 & 826.0 & 825.0 & 787.7 & 830.0\\\\\n",
       "\t 795.5 & 792.7 & 778.1 & 790.5 & 795.3 & 781.9\\\\\n",
       "\t 815.2 & 829.4 & 777.3 & 817.9 & 831.5 & 772.4\\\\\n",
       "\t 804.9 & 799.0 & 797.6 & 801.1 & 798.7 & 795.7\\\\\n",
       "\\end{tabular}\n"
      ],
      "text/markdown": [
       "\n",
       "A tibble: 6 × 6\n",
       "\n",
       "| B5 &lt;dbl&gt; | C5 &lt;dbl&gt; | D5 &lt;dbl&gt; | B22 &lt;dbl&gt; | C22 &lt;dbl&gt; | D22 &lt;dbl&gt; |\n",
       "|---|---|---|---|---|---|\n",
       "| 849.7 | 822.4 | 773.8 | 850.9 | 823.4 | 772.6 |\n",
       "| 831.9 | 783.5 | 809.3 | 833.2 | 787.2 | 812.9 |\n",
       "| 828.5 | 790.0 | 826.0 | 825.0 | 787.7 | 830.0 |\n",
       "| 795.5 | 792.7 | 778.1 | 790.5 | 795.3 | 781.9 |\n",
       "| 815.2 | 829.4 | 777.3 | 817.9 | 831.5 | 772.4 |\n",
       "| 804.9 | 799.0 | 797.6 | 801.1 | 798.7 | 795.7 |\n",
       "\n"
      ],
      "text/plain": [
       "  B5    C5    D5    B22   C22   D22  \n",
       "1 849.7 822.4 773.8 850.9 823.4 772.6\n",
       "2 831.9 783.5 809.3 833.2 787.2 812.9\n",
       "3 828.5 790.0 826.0 825.0 787.7 830.0\n",
       "4 795.5 792.7 778.1 790.5 795.3 781.9\n",
       "5 815.2 829.4 777.3 817.9 831.5 772.4\n",
       "6 804.9 799.0 797.6 801.1 798.7 795.7"
      ]
     },
     "metadata": {},
     "output_type": "display_data"
    }
   ],
   "source": [
    "# nebo pomocí dplyr\n",
    "pokus <- data %>% select(-1, -5)\n",
    "head(pokus)\n"
   ]
  },
  {
   "cell_type": "code",
   "execution_count": 86,
   "id": "ddf0b80a",
   "metadata": {
    "vscode": {
     "languageId": "r"
    }
   },
   "outputs": [
    {
     "data": {
      "text/html": [
       "<table class=\"dataframe\">\n",
       "<caption>A tibble: 6 × 6</caption>\n",
       "<thead>\n",
       "\t<tr><th scope=col>B5</th><th scope=col>C5</th><th scope=col>D5</th><th scope=col>B22</th><th scope=col>C22</th><th scope=col>D22</th></tr>\n",
       "\t<tr><th scope=col>&lt;dbl&gt;</th><th scope=col>&lt;dbl&gt;</th><th scope=col>&lt;dbl&gt;</th><th scope=col>&lt;dbl&gt;</th><th scope=col>&lt;dbl&gt;</th><th scope=col>&lt;dbl&gt;</th></tr>\n",
       "</thead>\n",
       "<tbody>\n",
       "\t<tr><td>849.7</td><td>822.4</td><td>773.8</td><td>850.9</td><td>823.4</td><td>772.6</td></tr>\n",
       "\t<tr><td>831.9</td><td>783.5</td><td>809.3</td><td>833.2</td><td>787.2</td><td>812.9</td></tr>\n",
       "\t<tr><td>828.5</td><td>790.0</td><td>826.0</td><td>825.0</td><td>787.7</td><td>830.0</td></tr>\n",
       "\t<tr><td>795.5</td><td>792.7</td><td>778.1</td><td>790.5</td><td>795.3</td><td>781.9</td></tr>\n",
       "\t<tr><td>815.2</td><td>829.4</td><td>777.3</td><td>817.9</td><td>831.5</td><td>772.4</td></tr>\n",
       "\t<tr><td>804.9</td><td>799.0</td><td>797.6</td><td>801.1</td><td>798.7</td><td>795.7</td></tr>\n",
       "</tbody>\n",
       "</table>\n"
      ],
      "text/latex": [
       "A tibble: 6 × 6\n",
       "\\begin{tabular}{llllll}\n",
       " B5 & C5 & D5 & B22 & C22 & D22\\\\\n",
       " <dbl> & <dbl> & <dbl> & <dbl> & <dbl> & <dbl>\\\\\n",
       "\\hline\n",
       "\t 849.7 & 822.4 & 773.8 & 850.9 & 823.4 & 772.6\\\\\n",
       "\t 831.9 & 783.5 & 809.3 & 833.2 & 787.2 & 812.9\\\\\n",
       "\t 828.5 & 790.0 & 826.0 & 825.0 & 787.7 & 830.0\\\\\n",
       "\t 795.5 & 792.7 & 778.1 & 790.5 & 795.3 & 781.9\\\\\n",
       "\t 815.2 & 829.4 & 777.3 & 817.9 & 831.5 & 772.4\\\\\n",
       "\t 804.9 & 799.0 & 797.6 & 801.1 & 798.7 & 795.7\\\\\n",
       "\\end{tabular}\n"
      ],
      "text/markdown": [
       "\n",
       "A tibble: 6 × 6\n",
       "\n",
       "| B5 &lt;dbl&gt; | C5 &lt;dbl&gt; | D5 &lt;dbl&gt; | B22 &lt;dbl&gt; | C22 &lt;dbl&gt; | D22 &lt;dbl&gt; |\n",
       "|---|---|---|---|---|---|\n",
       "| 849.7 | 822.4 | 773.8 | 850.9 | 823.4 | 772.6 |\n",
       "| 831.9 | 783.5 | 809.3 | 833.2 | 787.2 | 812.9 |\n",
       "| 828.5 | 790.0 | 826.0 | 825.0 | 787.7 | 830.0 |\n",
       "| 795.5 | 792.7 | 778.1 | 790.5 | 795.3 | 781.9 |\n",
       "| 815.2 | 829.4 | 777.3 | 817.9 | 831.5 | 772.4 |\n",
       "| 804.9 | 799.0 | 797.6 | 801.1 | 798.7 | 795.7 |\n",
       "\n"
      ],
      "text/plain": [
       "  B5    C5    D5    B22   C22   D22  \n",
       "1 849.7 822.4 773.8 850.9 823.4 772.6\n",
       "2 831.9 783.5 809.3 833.2 787.2 812.9\n",
       "3 828.5 790.0 826.0 825.0 787.7 830.0\n",
       "4 795.5 792.7 778.1 790.5 795.3 781.9\n",
       "5 815.2 829.4 777.3 817.9 831.5 772.4\n",
       "6 804.9 799.0 797.6 801.1 798.7 795.7"
      ]
     },
     "metadata": {},
     "output_type": "display_data"
    }
   ],
   "source": [
    "# nebo pomocí názvů\n",
    "pokus <- data %>% select(-A5, -A22)\n",
    "head(pokus)\n"
   ]
  },
  {
   "cell_type": "markdown",
   "id": "5bae3e3f",
   "metadata": {},
   "source": [
    "### d) Práce s daty ve standardním datovém formátu"
   ]
  },
  {
   "cell_type": "code",
   "execution_count": 87,
   "id": "0bba0046",
   "metadata": {
    "vscode": {
     "languageId": "r"
    }
   },
   "outputs": [
    {
     "data": {
      "text/html": [
       "<table class=\"dataframe\">\n",
       "<caption>A data.frame: 6 × 4</caption>\n",
       "<thead>\n",
       "\t<tr><th></th><th scope=col>vyrobce</th><th scope=col>tok5</th><th scope=col>tok22</th><th scope=col>id</th></tr>\n",
       "\t<tr><th></th><th scope=col>&lt;chr&gt;</th><th scope=col>&lt;dbl&gt;</th><th scope=col>&lt;dbl&gt;</th><th scope=col>&lt;int&gt;</th></tr>\n",
       "</thead>\n",
       "<tbody>\n",
       "\t<tr><th scope=row>1.Amber</th><td>Amber</td><td>786.6</td><td>784.9</td><td>1</td></tr>\n",
       "\t<tr><th scope=row>2.Amber</th><td>Amber</td><td>783.8</td><td>782.0</td><td>2</td></tr>\n",
       "\t<tr><th scope=row>3.Amber</th><td>Amber</td><td>785.3</td><td>782.6</td><td>3</td></tr>\n",
       "\t<tr><th scope=row>4.Amber</th><td>Amber</td><td>772.2</td><td>777.7</td><td>4</td></tr>\n",
       "\t<tr><th scope=row>5.Amber</th><td>Amber</td><td>825.3</td><td>824.7</td><td>5</td></tr>\n",
       "\t<tr><th scope=row>6.Amber</th><td>Amber</td><td>759.1</td><td>759.1</td><td>6</td></tr>\n",
       "</tbody>\n",
       "</table>\n"
      ],
      "text/latex": [
       "A data.frame: 6 × 4\n",
       "\\begin{tabular}{r|llll}\n",
       "  & vyrobce & tok5 & tok22 & id\\\\\n",
       "  & <chr> & <dbl> & <dbl> & <int>\\\\\n",
       "\\hline\n",
       "\t1.Amber & Amber & 786.6 & 784.9 & 1\\\\\n",
       "\t2.Amber & Amber & 783.8 & 782.0 & 2\\\\\n",
       "\t3.Amber & Amber & 785.3 & 782.6 & 3\\\\\n",
       "\t4.Amber & Amber & 772.2 & 777.7 & 4\\\\\n",
       "\t5.Amber & Amber & 825.3 & 824.7 & 5\\\\\n",
       "\t6.Amber & Amber & 759.1 & 759.1 & 6\\\\\n",
       "\\end{tabular}\n"
      ],
      "text/markdown": [
       "\n",
       "A data.frame: 6 × 4\n",
       "\n",
       "| <!--/--> | vyrobce &lt;chr&gt; | tok5 &lt;dbl&gt; | tok22 &lt;dbl&gt; | id &lt;int&gt; |\n",
       "|---|---|---|---|---|\n",
       "| 1.Amber | Amber | 786.6 | 784.9 | 1 |\n",
       "| 2.Amber | Amber | 783.8 | 782.0 | 2 |\n",
       "| 3.Amber | Amber | 785.3 | 782.6 | 3 |\n",
       "| 4.Amber | Amber | 772.2 | 777.7 | 4 |\n",
       "| 5.Amber | Amber | 825.3 | 824.7 | 5 |\n",
       "| 6.Amber | Amber | 759.1 | 759.1 | 6 |\n",
       "\n"
      ],
      "text/plain": [
       "        vyrobce tok5  tok22 id\n",
       "1.Amber Amber   786.6 784.9 1 \n",
       "2.Amber Amber   783.8 782.0 2 \n",
       "3.Amber Amber   785.3 782.6 3 \n",
       "4.Amber Amber   772.2 777.7 4 \n",
       "5.Amber Amber   825.3 824.7 5 \n",
       "6.Amber Amber   759.1 759.1 6 "
      ]
     },
     "metadata": {},
     "output_type": "display_data"
    }
   ],
   "source": [
    "# budeme používat dříve vyrobený datový rámec dataS\n",
    "head(dataS)"
   ]
  },
  {
   "cell_type": "markdown",
   "id": "8b1ebaad",
   "metadata": {},
   "source": [
    "\n",
    "#### Definování nových sloupců (`mutate`)"
   ]
  },
  {
   "cell_type": "code",
   "execution_count": 88,
   "id": "2540cd4d",
   "metadata": {
    "vscode": {
     "languageId": "r"
    }
   },
   "outputs": [
    {
     "data": {
      "text/html": [
       "<table class=\"dataframe\">\n",
       "<caption>A data.frame: 6 × 5</caption>\n",
       "<thead>\n",
       "\t<tr><th></th><th scope=col>vyrobce</th><th scope=col>tok5</th><th scope=col>tok22</th><th scope=col>id</th><th scope=col>pokles</th></tr>\n",
       "\t<tr><th></th><th scope=col>&lt;chr&gt;</th><th scope=col>&lt;dbl&gt;</th><th scope=col>&lt;dbl&gt;</th><th scope=col>&lt;int&gt;</th><th scope=col>&lt;dbl&gt;</th></tr>\n",
       "</thead>\n",
       "<tbody>\n",
       "\t<tr><th scope=row>1.Amber</th><td>Amber</td><td>786.6</td><td>784.9</td><td>1</td><td>-1.7</td></tr>\n",
       "\t<tr><th scope=row>2.Amber</th><td>Amber</td><td>783.8</td><td>782.0</td><td>2</td><td>-1.8</td></tr>\n",
       "\t<tr><th scope=row>3.Amber</th><td>Amber</td><td>785.3</td><td>782.6</td><td>3</td><td>-2.7</td></tr>\n",
       "\t<tr><th scope=row>4.Amber</th><td>Amber</td><td>772.2</td><td>777.7</td><td>4</td><td> 5.5</td></tr>\n",
       "\t<tr><th scope=row>5.Amber</th><td>Amber</td><td>825.3</td><td>824.7</td><td>5</td><td>-0.6</td></tr>\n",
       "\t<tr><th scope=row>6.Amber</th><td>Amber</td><td>759.1</td><td>759.1</td><td>6</td><td> 0.0</td></tr>\n",
       "</tbody>\n",
       "</table>\n"
      ],
      "text/latex": [
       "A data.frame: 6 × 5\n",
       "\\begin{tabular}{r|lllll}\n",
       "  & vyrobce & tok5 & tok22 & id & pokles\\\\\n",
       "  & <chr> & <dbl> & <dbl> & <int> & <dbl>\\\\\n",
       "\\hline\n",
       "\t1.Amber & Amber & 786.6 & 784.9 & 1 & -1.7\\\\\n",
       "\t2.Amber & Amber & 783.8 & 782.0 & 2 & -1.8\\\\\n",
       "\t3.Amber & Amber & 785.3 & 782.6 & 3 & -2.7\\\\\n",
       "\t4.Amber & Amber & 772.2 & 777.7 & 4 &  5.5\\\\\n",
       "\t5.Amber & Amber & 825.3 & 824.7 & 5 & -0.6\\\\\n",
       "\t6.Amber & Amber & 759.1 & 759.1 & 6 &  0.0\\\\\n",
       "\\end{tabular}\n"
      ],
      "text/markdown": [
       "\n",
       "A data.frame: 6 × 5\n",
       "\n",
       "| <!--/--> | vyrobce &lt;chr&gt; | tok5 &lt;dbl&gt; | tok22 &lt;dbl&gt; | id &lt;int&gt; | pokles &lt;dbl&gt; |\n",
       "|---|---|---|---|---|---|\n",
       "| 1.Amber | Amber | 786.6 | 784.9 | 1 | -1.7 |\n",
       "| 2.Amber | Amber | 783.8 | 782.0 | 2 | -1.8 |\n",
       "| 3.Amber | Amber | 785.3 | 782.6 | 3 | -2.7 |\n",
       "| 4.Amber | Amber | 772.2 | 777.7 | 4 |  5.5 |\n",
       "| 5.Amber | Amber | 825.3 | 824.7 | 5 | -0.6 |\n",
       "| 6.Amber | Amber | 759.1 | 759.1 | 6 |  0.0 |\n",
       "\n"
      ],
      "text/plain": [
       "        vyrobce tok5  tok22 id pokles\n",
       "1.Amber Amber   786.6 784.9 1  -1.7  \n",
       "2.Amber Amber   783.8 782.0 2  -1.8  \n",
       "3.Amber Amber   785.3 782.6 3  -2.7  \n",
       "4.Amber Amber   772.2 777.7 4   5.5  \n",
       "5.Amber Amber   825.3 824.7 5  -0.6  \n",
       "6.Amber Amber   759.1 759.1 6   0.0  "
      ]
     },
     "metadata": {},
     "output_type": "display_data"
    }
   ],
   "source": [
    "# vytvoříme nový sloupec pokles, který bude obsahovat rozdíl mezi hodnotami tok22 a tok5\n",
    "dataS <- dataS %>% mutate(pokles = tok22 - tok5)\n",
    "head(dataS)\n",
    "\n",
    "# pozor! pokud výsledek s nový sloupcem nikam neuložíme, tak se pouze vypíše a zmizí\n"
   ]
  },
  {
   "cell_type": "markdown",
   "id": "9b918e4a",
   "metadata": {},
   "source": [
    "#### Vybírání řádků a sloupců (`filter` a `select`) "
   ]
  },
  {
   "cell_type": "code",
   "execution_count": 89,
   "id": "6321e04b",
   "metadata": {
    "vscode": {
     "languageId": "r"
    }
   },
   "outputs": [
    {
     "data": {
      "text/html": [
       "<table class=\"dataframe\">\n",
       "<caption>A data.frame: 6 × 5</caption>\n",
       "<thead>\n",
       "\t<tr><th></th><th scope=col>vyrobce</th><th scope=col>tok5</th><th scope=col>tok22</th><th scope=col>id</th><th scope=col>pokles</th></tr>\n",
       "\t<tr><th></th><th scope=col>&lt;chr&gt;</th><th scope=col>&lt;dbl&gt;</th><th scope=col>&lt;dbl&gt;</th><th scope=col>&lt;int&gt;</th><th scope=col>&lt;dbl&gt;</th></tr>\n",
       "</thead>\n",
       "<tbody>\n",
       "\t<tr><th scope=row>69.Amber</th><td>Amber</td><td>759.9</td><td>764.9</td><td>69</td><td> 5.0</td></tr>\n",
       "\t<tr><th scope=row>70.Amber</th><td>Amber</td><td>805.0</td><td>806.1</td><td>70</td><td> 1.1</td></tr>\n",
       "\t<tr><th scope=row>71.Amber</th><td>Amber</td><td>769.4</td><td>766.5</td><td>71</td><td>-2.9</td></tr>\n",
       "\t<tr><th scope=row>72.Amber</th><td>Amber</td><td>828.6</td><td>830.1</td><td>72</td><td> 1.5</td></tr>\n",
       "\t<tr><th scope=row>73.Amber</th><td>Amber</td><td>776.8</td><td>777.6</td><td>73</td><td> 0.8</td></tr>\n",
       "\t<tr><th scope=row>74.Amber</th><td>Amber</td><td>   NA</td><td>   NA</td><td>74</td><td>  NA</td></tr>\n",
       "</tbody>\n",
       "</table>\n"
      ],
      "text/latex": [
       "A data.frame: 6 × 5\n",
       "\\begin{tabular}{r|lllll}\n",
       "  & vyrobce & tok5 & tok22 & id & pokles\\\\\n",
       "  & <chr> & <dbl> & <dbl> & <int> & <dbl>\\\\\n",
       "\\hline\n",
       "\t69.Amber & Amber & 759.9 & 764.9 & 69 &  5.0\\\\\n",
       "\t70.Amber & Amber & 805.0 & 806.1 & 70 &  1.1\\\\\n",
       "\t71.Amber & Amber & 769.4 & 766.5 & 71 & -2.9\\\\\n",
       "\t72.Amber & Amber & 828.6 & 830.1 & 72 &  1.5\\\\\n",
       "\t73.Amber & Amber & 776.8 & 777.6 & 73 &  0.8\\\\\n",
       "\t74.Amber & Amber &    NA &    NA & 74 &   NA\\\\\n",
       "\\end{tabular}\n"
      ],
      "text/markdown": [
       "\n",
       "A data.frame: 6 × 5\n",
       "\n",
       "| <!--/--> | vyrobce &lt;chr&gt; | tok5 &lt;dbl&gt; | tok22 &lt;dbl&gt; | id &lt;int&gt; | pokles &lt;dbl&gt; |\n",
       "|---|---|---|---|---|---|\n",
       "| 69.Amber | Amber | 759.9 | 764.9 | 69 |  5.0 |\n",
       "| 70.Amber | Amber | 805.0 | 806.1 | 70 |  1.1 |\n",
       "| 71.Amber | Amber | 769.4 | 766.5 | 71 | -2.9 |\n",
       "| 72.Amber | Amber | 828.6 | 830.1 | 72 |  1.5 |\n",
       "| 73.Amber | Amber | 776.8 | 777.6 | 73 |  0.8 |\n",
       "| 74.Amber | Amber |    NA |    NA | 74 |   NA |\n",
       "\n"
      ],
      "text/plain": [
       "         vyrobce tok5  tok22 id pokles\n",
       "69.Amber Amber   759.9 764.9 69  5.0  \n",
       "70.Amber Amber   805.0 806.1 70  1.1  \n",
       "71.Amber Amber   769.4 766.5 71 -2.9  \n",
       "72.Amber Amber   828.6 830.1 72  1.5  \n",
       "73.Amber Amber   776.8 777.6 73  0.8  \n",
       "74.Amber Amber      NA    NA 74   NA  "
      ]
     },
     "metadata": {},
     "output_type": "display_data"
    }
   ],
   "source": [
    "# filter - vybere / vyfiltruje řádky na základě daných podmínek\n",
    "# Výběr výrobků od výrobce Amber\n",
    "res <- dataS %>% filter(vyrobce == \"Amber\")\n",
    "tail(res)"
   ]
  },
  {
   "cell_type": "code",
   "execution_count": 90,
   "id": "1a3c98b1",
   "metadata": {
    "vscode": {
     "languageId": "r"
    }
   },
   "outputs": [
    {
     "data": {
      "text/html": [
       "<table class=\"dataframe\">\n",
       "<caption>A data.frame: 6 × 5</caption>\n",
       "<thead>\n",
       "\t<tr><th></th><th scope=col>vyrobce</th><th scope=col>tok5</th><th scope=col>tok22</th><th scope=col>id</th><th scope=col>pokles</th></tr>\n",
       "\t<tr><th></th><th scope=col>&lt;chr&gt;</th><th scope=col>&lt;dbl&gt;</th><th scope=col>&lt;dbl&gt;</th><th scope=col>&lt;int&gt;</th><th scope=col>&lt;dbl&gt;</th></tr>\n",
       "</thead>\n",
       "<tbody>\n",
       "\t<tr><th scope=row>69.Bright</th><td>Bright</td><td>NA</td><td>NA</td><td>69</td><td>NA</td></tr>\n",
       "\t<tr><th scope=row>70.Bright</th><td>Bright</td><td>NA</td><td>NA</td><td>70</td><td>NA</td></tr>\n",
       "\t<tr><th scope=row>71.Bright</th><td>Bright</td><td>NA</td><td>NA</td><td>71</td><td>NA</td></tr>\n",
       "\t<tr><th scope=row>72.Bright</th><td>Bright</td><td>NA</td><td>NA</td><td>72</td><td>NA</td></tr>\n",
       "\t<tr><th scope=row>73.Bright</th><td>Bright</td><td>NA</td><td>NA</td><td>73</td><td>NA</td></tr>\n",
       "\t<tr><th scope=row>74.Bright</th><td>Bright</td><td>NA</td><td>NA</td><td>74</td><td>NA</td></tr>\n",
       "</tbody>\n",
       "</table>\n"
      ],
      "text/latex": [
       "A data.frame: 6 × 5\n",
       "\\begin{tabular}{r|lllll}\n",
       "  & vyrobce & tok5 & tok22 & id & pokles\\\\\n",
       "  & <chr> & <dbl> & <dbl> & <int> & <dbl>\\\\\n",
       "\\hline\n",
       "\t69.Bright & Bright & NA & NA & 69 & NA\\\\\n",
       "\t70.Bright & Bright & NA & NA & 70 & NA\\\\\n",
       "\t71.Bright & Bright & NA & NA & 71 & NA\\\\\n",
       "\t72.Bright & Bright & NA & NA & 72 & NA\\\\\n",
       "\t73.Bright & Bright & NA & NA & 73 & NA\\\\\n",
       "\t74.Bright & Bright & NA & NA & 74 & NA\\\\\n",
       "\\end{tabular}\n"
      ],
      "text/markdown": [
       "\n",
       "A data.frame: 6 × 5\n",
       "\n",
       "| <!--/--> | vyrobce &lt;chr&gt; | tok5 &lt;dbl&gt; | tok22 &lt;dbl&gt; | id &lt;int&gt; | pokles &lt;dbl&gt; |\n",
       "|---|---|---|---|---|---|\n",
       "| 69.Bright | Bright | NA | NA | 69 | NA |\n",
       "| 70.Bright | Bright | NA | NA | 70 | NA |\n",
       "| 71.Bright | Bright | NA | NA | 71 | NA |\n",
       "| 72.Bright | Bright | NA | NA | 72 | NA |\n",
       "| 73.Bright | Bright | NA | NA | 73 | NA |\n",
       "| 74.Bright | Bright | NA | NA | 74 | NA |\n",
       "\n"
      ],
      "text/plain": [
       "          vyrobce tok5 tok22 id pokles\n",
       "69.Bright Bright  NA   NA    69 NA    \n",
       "70.Bright Bright  NA   NA    70 NA    \n",
       "71.Bright Bright  NA   NA    71 NA    \n",
       "72.Bright Bright  NA   NA    72 NA    \n",
       "73.Bright Bright  NA   NA    73 NA    \n",
       "74.Bright Bright  NA   NA    74 NA    "
      ]
     },
     "metadata": {},
     "output_type": "display_data"
    }
   ],
   "source": [
    "# Výběr výrobků od výrobce Amber nebo Bright\n",
    "# | oddělující podmínky odpovídá logickému \"nebo\"\n",
    "res <- dataS %>% filter(vyrobce == \"Amber\" | vyrobce == \"Bright\")\n",
    "tail(res)"
   ]
  },
  {
   "cell_type": "code",
   "execution_count": 91,
   "id": "6db27d7c",
   "metadata": {
    "vscode": {
     "languageId": "r"
    }
   },
   "outputs": [
    {
     "data": {
      "text/html": [
       "<table class=\"dataframe\">\n",
       "<caption>A data.frame: 8 × 5</caption>\n",
       "<thead>\n",
       "\t<tr><th></th><th scope=col>vyrobce</th><th scope=col>tok5</th><th scope=col>tok22</th><th scope=col>id</th><th scope=col>pokles</th></tr>\n",
       "\t<tr><th></th><th scope=col>&lt;chr&gt;</th><th scope=col>&lt;dbl&gt;</th><th scope=col>&lt;dbl&gt;</th><th scope=col>&lt;int&gt;</th><th scope=col>&lt;dbl&gt;</th></tr>\n",
       "</thead>\n",
       "<tbody>\n",
       "\t<tr><th scope=row>7.Clear</th><td>Clear</td><td>803.5</td><td>808.8</td><td> 7</td><td> 5.3</td></tr>\n",
       "\t<tr><th scope=row>10.Clear</th><td>Clear</td><td>720.4</td><td>815.8</td><td>10</td><td>95.4</td></tr>\n",
       "\t<tr><th scope=row>14.Clear</th><td>Clear</td><td>803.8</td><td>808.9</td><td>14</td><td> 5.1</td></tr>\n",
       "\t<tr><th scope=row>18.Clear</th><td>Clear</td><td>809.0</td><td>814.1</td><td>18</td><td> 5.1</td></tr>\n",
       "\t<tr><th scope=row>48.Clear</th><td>Clear</td><td>808.5</td><td>813.7</td><td>48</td><td> 5.2</td></tr>\n",
       "\t<tr><th scope=row>49.Clear</th><td>Clear</td><td>805.1</td><td>810.3</td><td>49</td><td> 5.2</td></tr>\n",
       "\t<tr><th scope=row>55.Clear</th><td>Clear</td><td>783.0</td><td>788.1</td><td>55</td><td> 5.1</td></tr>\n",
       "\t<tr><th scope=row>56.Clear</th><td>Clear</td><td>801.3</td><td>806.3</td><td>56</td><td> 5.0</td></tr>\n",
       "</tbody>\n",
       "</table>\n"
      ],
      "text/latex": [
       "A data.frame: 8 × 5\n",
       "\\begin{tabular}{r|lllll}\n",
       "  & vyrobce & tok5 & tok22 & id & pokles\\\\\n",
       "  & <chr> & <dbl> & <dbl> & <int> & <dbl>\\\\\n",
       "\\hline\n",
       "\t7.Clear & Clear & 803.5 & 808.8 &  7 &  5.3\\\\\n",
       "\t10.Clear & Clear & 720.4 & 815.8 & 10 & 95.4\\\\\n",
       "\t14.Clear & Clear & 803.8 & 808.9 & 14 &  5.1\\\\\n",
       "\t18.Clear & Clear & 809.0 & 814.1 & 18 &  5.1\\\\\n",
       "\t48.Clear & Clear & 808.5 & 813.7 & 48 &  5.2\\\\\n",
       "\t49.Clear & Clear & 805.1 & 810.3 & 49 &  5.2\\\\\n",
       "\t55.Clear & Clear & 783.0 & 788.1 & 55 &  5.1\\\\\n",
       "\t56.Clear & Clear & 801.3 & 806.3 & 56 &  5.0\\\\\n",
       "\\end{tabular}\n"
      ],
      "text/markdown": [
       "\n",
       "A data.frame: 8 × 5\n",
       "\n",
       "| <!--/--> | vyrobce &lt;chr&gt; | tok5 &lt;dbl&gt; | tok22 &lt;dbl&gt; | id &lt;int&gt; | pokles &lt;dbl&gt; |\n",
       "|---|---|---|---|---|---|\n",
       "| 7.Clear | Clear | 803.5 | 808.8 |  7 |  5.3 |\n",
       "| 10.Clear | Clear | 720.4 | 815.8 | 10 | 95.4 |\n",
       "| 14.Clear | Clear | 803.8 | 808.9 | 14 |  5.1 |\n",
       "| 18.Clear | Clear | 809.0 | 814.1 | 18 |  5.1 |\n",
       "| 48.Clear | Clear | 808.5 | 813.7 | 48 |  5.2 |\n",
       "| 49.Clear | Clear | 805.1 | 810.3 | 49 |  5.2 |\n",
       "| 55.Clear | Clear | 783.0 | 788.1 | 55 |  5.1 |\n",
       "| 56.Clear | Clear | 801.3 | 806.3 | 56 |  5.0 |\n",
       "\n"
      ],
      "text/plain": [
       "         vyrobce tok5  tok22 id pokles\n",
       "7.Clear  Clear   803.5 808.8  7  5.3  \n",
       "10.Clear Clear   720.4 815.8 10 95.4  \n",
       "14.Clear Clear   803.8 808.9 14  5.1  \n",
       "18.Clear Clear   809.0 814.1 18  5.1  \n",
       "48.Clear Clear   808.5 813.7 48  5.2  \n",
       "49.Clear Clear   805.1 810.3 49  5.2  \n",
       "55.Clear Clear   783.0 788.1 55  5.1  \n",
       "56.Clear Clear   801.3 806.3 56  5.0  "
      ]
     },
     "metadata": {},
     "output_type": "display_data"
    }
   ],
   "source": [
    "# Výběr všech výrobků s poklesem o 5 Lumenů a větším od výrobce Clear\n",
    "# čárka oddělující podmínky odpovídá logickému \"a zároveň\"\n",
    "res <- dataS %>% filter(pokles >= 5, vyrobce == \"Clear\")\n",
    "res"
   ]
  },
  {
   "cell_type": "code",
   "execution_count": 92,
   "id": "58b20045",
   "metadata": {
    "vscode": {
     "languageId": "r"
    }
   },
   "outputs": [
    {
     "data": {
      "text/html": [
       "<table class=\"dataframe\">\n",
       "<caption>A data.frame: 6 × 1</caption>\n",
       "<thead>\n",
       "\t<tr><th></th><th scope=col>tok5</th></tr>\n",
       "\t<tr><th></th><th scope=col>&lt;dbl&gt;</th></tr>\n",
       "</thead>\n",
       "<tbody>\n",
       "\t<tr><th scope=row>1.Amber</th><td>786.6</td></tr>\n",
       "\t<tr><th scope=row>2.Amber</th><td>783.8</td></tr>\n",
       "\t<tr><th scope=row>3.Amber</th><td>785.3</td></tr>\n",
       "\t<tr><th scope=row>4.Amber</th><td>772.2</td></tr>\n",
       "\t<tr><th scope=row>5.Amber</th><td>825.3</td></tr>\n",
       "\t<tr><th scope=row>6.Amber</th><td>759.1</td></tr>\n",
       "</tbody>\n",
       "</table>\n"
      ],
      "text/latex": [
       "A data.frame: 6 × 1\n",
       "\\begin{tabular}{r|l}\n",
       "  & tok5\\\\\n",
       "  & <dbl>\\\\\n",
       "\\hline\n",
       "\t1.Amber & 786.6\\\\\n",
       "\t2.Amber & 783.8\\\\\n",
       "\t3.Amber & 785.3\\\\\n",
       "\t4.Amber & 772.2\\\\\n",
       "\t5.Amber & 825.3\\\\\n",
       "\t6.Amber & 759.1\\\\\n",
       "\\end{tabular}\n"
      ],
      "text/markdown": [
       "\n",
       "A data.frame: 6 × 1\n",
       "\n",
       "| <!--/--> | tok5 &lt;dbl&gt; |\n",
       "|---|---|\n",
       "| 1.Amber | 786.6 |\n",
       "| 2.Amber | 783.8 |\n",
       "| 3.Amber | 785.3 |\n",
       "| 4.Amber | 772.2 |\n",
       "| 5.Amber | 825.3 |\n",
       "| 6.Amber | 759.1 |\n",
       "\n"
      ],
      "text/plain": [
       "        tok5 \n",
       "1.Amber 786.6\n",
       "2.Amber 783.8\n",
       "3.Amber 785.3\n",
       "4.Amber 772.2\n",
       "5.Amber 825.3\n",
       "6.Amber 759.1"
      ]
     },
     "metadata": {},
     "output_type": "display_data"
    }
   ],
   "source": [
    "# chcemeli světelný tok při 5°C výrobce Amber\n",
    "# nejprve vyfiltrujeme řádky pro Amber a pak vybereme sloupec tok5\n",
    "a5 <- dataS %>% filter(vyrobce == \"Amber\") %>% select(tok5)\n",
    "head(a5)\n"
   ]
  },
  {
   "cell_type": "markdown",
   "id": "ddf66835",
   "metadata": {},
   "source": [
    "#### generování souhrných charakteristik (`summarise`)\n",
    "Sílu tohoto nástroje oceníme zejména v kombinaci s group_by."
   ]
  },
  {
   "cell_type": "code",
   "execution_count": 93,
   "id": "cca73c5c",
   "metadata": {
    "vscode": {
     "languageId": "r"
    }
   },
   "outputs": [
    {
     "data": {
      "text/html": [
       "<table class=\"dataframe\">\n",
       "<caption>A data.frame: 1 × 2</caption>\n",
       "<thead>\n",
       "\t<tr><th scope=col>prum</th><th scope=col>median</th></tr>\n",
       "\t<tr><th scope=col>&lt;dbl&gt;</th><th scope=col>&lt;dbl&gt;</th></tr>\n",
       "</thead>\n",
       "<tbody>\n",
       "\t<tr><td>NA</td><td>NA</td></tr>\n",
       "</tbody>\n",
       "</table>\n"
      ],
      "text/latex": [
       "A data.frame: 1 × 2\n",
       "\\begin{tabular}{ll}\n",
       " prum & median\\\\\n",
       " <dbl> & <dbl>\\\\\n",
       "\\hline\n",
       "\t NA & NA\\\\\n",
       "\\end{tabular}\n"
      ],
      "text/markdown": [
       "\n",
       "A data.frame: 1 × 2\n",
       "\n",
       "| prum &lt;dbl&gt; | median &lt;dbl&gt; |\n",
       "|---|---|\n",
       "| NA | NA |\n",
       "\n"
      ],
      "text/plain": [
       "  prum median\n",
       "1 NA   NA    "
      ]
     },
     "metadata": {},
     "output_type": "display_data"
    }
   ],
   "source": [
    "# Výpočet průměru a mediánu všech hodnot proměnné kap5\n",
    "dataS %>% summarise(prum = mean(tok5), median = median(tok5))\n"
   ]
  },
  {
   "cell_type": "markdown",
   "id": "a2180031",
   "metadata": {},
   "source": [
    "#### seskupí hodnot do skupin podle zvolené proměnné (`group_by`)\n",
    "- Výsledkem je tzv. `grouped_df` (tibble), který obsahuje informace o seskupení.\n",
    "- Jedná se zejména o mezioperace, které nám umožní provádět další operace nad seskupenými daty."
   ]
  },
  {
   "cell_type": "code",
   "execution_count": 94,
   "id": "01e8a320",
   "metadata": {
    "vscode": {
     "languageId": "r"
    }
   },
   "outputs": [
    {
     "data": {
      "text/html": [
       "<table class=\"dataframe\">\n",
       "<caption>A grouped_df: 6 × 5</caption>\n",
       "<thead>\n",
       "\t<tr><th scope=col>vyrobce</th><th scope=col>tok5</th><th scope=col>tok22</th><th scope=col>id</th><th scope=col>pokles</th></tr>\n",
       "\t<tr><th scope=col>&lt;chr&gt;</th><th scope=col>&lt;dbl&gt;</th><th scope=col>&lt;dbl&gt;</th><th scope=col>&lt;int&gt;</th><th scope=col>&lt;dbl&gt;</th></tr>\n",
       "</thead>\n",
       "<tbody>\n",
       "\t<tr><td>Amber</td><td>786.6</td><td>784.9</td><td>1</td><td>-1.7</td></tr>\n",
       "\t<tr><td>Amber</td><td>783.8</td><td>782.0</td><td>2</td><td>-1.8</td></tr>\n",
       "\t<tr><td>Amber</td><td>785.3</td><td>782.6</td><td>3</td><td>-2.7</td></tr>\n",
       "\t<tr><td>Amber</td><td>772.2</td><td>777.7</td><td>4</td><td> 5.5</td></tr>\n",
       "\t<tr><td>Amber</td><td>825.3</td><td>824.7</td><td>5</td><td>-0.6</td></tr>\n",
       "\t<tr><td>Amber</td><td>759.1</td><td>759.1</td><td>6</td><td> 0.0</td></tr>\n",
       "</tbody>\n",
       "</table>\n"
      ],
      "text/latex": [
       "A grouped\\_df: 6 × 5\n",
       "\\begin{tabular}{lllll}\n",
       " vyrobce & tok5 & tok22 & id & pokles\\\\\n",
       " <chr> & <dbl> & <dbl> & <int> & <dbl>\\\\\n",
       "\\hline\n",
       "\t Amber & 786.6 & 784.9 & 1 & -1.7\\\\\n",
       "\t Amber & 783.8 & 782.0 & 2 & -1.8\\\\\n",
       "\t Amber & 785.3 & 782.6 & 3 & -2.7\\\\\n",
       "\t Amber & 772.2 & 777.7 & 4 &  5.5\\\\\n",
       "\t Amber & 825.3 & 824.7 & 5 & -0.6\\\\\n",
       "\t Amber & 759.1 & 759.1 & 6 &  0.0\\\\\n",
       "\\end{tabular}\n"
      ],
      "text/markdown": [
       "\n",
       "A grouped_df: 6 × 5\n",
       "\n",
       "| vyrobce &lt;chr&gt; | tok5 &lt;dbl&gt; | tok22 &lt;dbl&gt; | id &lt;int&gt; | pokles &lt;dbl&gt; |\n",
       "|---|---|---|---|---|\n",
       "| Amber | 786.6 | 784.9 | 1 | -1.7 |\n",
       "| Amber | 783.8 | 782.0 | 2 | -1.8 |\n",
       "| Amber | 785.3 | 782.6 | 3 | -2.7 |\n",
       "| Amber | 772.2 | 777.7 | 4 |  5.5 |\n",
       "| Amber | 825.3 | 824.7 | 5 | -0.6 |\n",
       "| Amber | 759.1 | 759.1 | 6 |  0.0 |\n",
       "\n"
      ],
      "text/plain": [
       "  vyrobce tok5  tok22 id pokles\n",
       "1 Amber   786.6 784.9 1  -1.7  \n",
       "2 Amber   783.8 782.0 2  -1.8  \n",
       "3 Amber   785.3 782.6 3  -2.7  \n",
       "4 Amber   772.2 777.7 4   5.5  \n",
       "5 Amber   825.3 824.7 5  -0.6  \n",
       "6 Amber   759.1 759.1 6   0.0  "
      ]
     },
     "metadata": {},
     "output_type": "display_data"
    }
   ],
   "source": [
    "# tabulka je \"virtuálně\" rozdělená na skupiny pro pozdější zpracování např. summarise\n",
    "res <- dataS %>% group_by(vyrobce)\n",
    "head(res)"
   ]
  },
  {
   "cell_type": "code",
   "execution_count": 95,
   "id": "e82db7bf",
   "metadata": {
    "vscode": {
     "languageId": "r"
    }
   },
   "outputs": [
    {
     "data": {
      "text/html": [
       "<table class=\"dataframe\">\n",
       "<caption>A tibble: 4 × 3</caption>\n",
       "<thead>\n",
       "\t<tr><th scope=col>vyrobce</th><th scope=col>prum</th><th scope=col>směrodatná odchylka</th></tr>\n",
       "\t<tr><th scope=col>&lt;chr&gt;</th><th scope=col>&lt;dbl&gt;</th><th scope=col>&lt;dbl&gt;</th></tr>\n",
       "</thead>\n",
       "<tbody>\n",
       "\t<tr><td>Amber </td><td>      NA</td><td>      NA</td></tr>\n",
       "\t<tr><td>Bright</td><td>      NA</td><td>      NA</td></tr>\n",
       "\t<tr><td>Clear </td><td>      NA</td><td>      NA</td></tr>\n",
       "\t<tr><td>Dim   </td><td>795.3797</td><td>26.91351</td></tr>\n",
       "</tbody>\n",
       "</table>\n"
      ],
      "text/latex": [
       "A tibble: 4 × 3\n",
       "\\begin{tabular}{lll}\n",
       " vyrobce & prum & směrodatná odchylka\\\\\n",
       " <chr> & <dbl> & <dbl>\\\\\n",
       "\\hline\n",
       "\t Amber  &       NA &       NA\\\\\n",
       "\t Bright &       NA &       NA\\\\\n",
       "\t Clear  &       NA &       NA\\\\\n",
       "\t Dim    & 795.3797 & 26.91351\\\\\n",
       "\\end{tabular}\n"
      ],
      "text/markdown": [
       "\n",
       "A tibble: 4 × 3\n",
       "\n",
       "| vyrobce &lt;chr&gt; | prum &lt;dbl&gt; | směrodatná odchylka &lt;dbl&gt; |\n",
       "|---|---|---|\n",
       "| Amber  |       NA |       NA |\n",
       "| Bright |       NA |       NA |\n",
       "| Clear  |       NA |       NA |\n",
       "| Dim    | 795.3797 | 26.91351 |\n",
       "\n"
      ],
      "text/plain": [
       "  vyrobce prum     směrodatná odchylka\n",
       "1 Amber         NA       NA           \n",
       "2 Bright        NA       NA           \n",
       "3 Clear         NA       NA           \n",
       "4 Dim     795.3797 26.91351           "
      ]
     },
     "metadata": {},
     "output_type": "display_data"
    }
   ],
   "source": [
    "# Ideální pro spočítání sumárních charakteristik pro každého výrobce zvlášť, např. průměru\n",
    "dataS %>%\n",
    "  group_by(vyrobce) %>%\n",
    "  summarise(prum = mean(tok5), \"směrodatná odchylka\" = sd(tok5))\n"
   ]
  },
  {
   "cell_type": "markdown",
   "id": "2ec63027",
   "metadata": {},
   "source": [
    "#### setřízení dat (`arrange`)"
   ]
  },
  {
   "cell_type": "code",
   "execution_count": 96,
   "id": "f3b94668",
   "metadata": {
    "vscode": {
     "languageId": "r"
    }
   },
   "outputs": [
    {
     "data": {
      "text/html": [
       "<table class=\"dataframe\">\n",
       "<caption>A data.frame: 6 × 5</caption>\n",
       "<thead>\n",
       "\t<tr><th></th><th scope=col>vyrobce</th><th scope=col>tok5</th><th scope=col>tok22</th><th scope=col>id</th><th scope=col>pokles</th></tr>\n",
       "\t<tr><th></th><th scope=col>&lt;chr&gt;</th><th scope=col>&lt;dbl&gt;</th><th scope=col>&lt;dbl&gt;</th><th scope=col>&lt;int&gt;</th><th scope=col>&lt;dbl&gt;</th></tr>\n",
       "</thead>\n",
       "<tbody>\n",
       "\t<tr><th scope=row>11.Bright</th><td>Bright</td><td>887.6</td><td>797.6</td><td>11</td><td>-90.0</td></tr>\n",
       "\t<tr><th scope=row>14.Dim</th><td>Dim   </td><td>844.5</td><td>757.3</td><td>14</td><td>-87.2</td></tr>\n",
       "\t<tr><th scope=row>28.Amber</th><td>Amber </td><td>783.1</td><td>779.1</td><td>28</td><td> -4.0</td></tr>\n",
       "\t<tr><th scope=row>3.Dim</th><td>Dim   </td><td>830.0</td><td>826.0</td><td> 3</td><td> -4.0</td></tr>\n",
       "\t<tr><th scope=row>7.Dim</th><td>Dim   </td><td>819.4</td><td>815.4</td><td> 7</td><td> -4.0</td></tr>\n",
       "\t<tr><th scope=row>66.Clear</th><td>Clear </td><td>738.6</td><td>734.8</td><td>66</td><td> -3.8</td></tr>\n",
       "</tbody>\n",
       "</table>\n"
      ],
      "text/latex": [
       "A data.frame: 6 × 5\n",
       "\\begin{tabular}{r|lllll}\n",
       "  & vyrobce & tok5 & tok22 & id & pokles\\\\\n",
       "  & <chr> & <dbl> & <dbl> & <int> & <dbl>\\\\\n",
       "\\hline\n",
       "\t11.Bright & Bright & 887.6 & 797.6 & 11 & -90.0\\\\\n",
       "\t14.Dim & Dim    & 844.5 & 757.3 & 14 & -87.2\\\\\n",
       "\t28.Amber & Amber  & 783.1 & 779.1 & 28 &  -4.0\\\\\n",
       "\t3.Dim & Dim    & 830.0 & 826.0 &  3 &  -4.0\\\\\n",
       "\t7.Dim & Dim    & 819.4 & 815.4 &  7 &  -4.0\\\\\n",
       "\t66.Clear & Clear  & 738.6 & 734.8 & 66 &  -3.8\\\\\n",
       "\\end{tabular}\n"
      ],
      "text/markdown": [
       "\n",
       "A data.frame: 6 × 5\n",
       "\n",
       "| <!--/--> | vyrobce &lt;chr&gt; | tok5 &lt;dbl&gt; | tok22 &lt;dbl&gt; | id &lt;int&gt; | pokles &lt;dbl&gt; |\n",
       "|---|---|---|---|---|---|\n",
       "| 11.Bright | Bright | 887.6 | 797.6 | 11 | -90.0 |\n",
       "| 14.Dim | Dim    | 844.5 | 757.3 | 14 | -87.2 |\n",
       "| 28.Amber | Amber  | 783.1 | 779.1 | 28 |  -4.0 |\n",
       "| 3.Dim | Dim    | 830.0 | 826.0 |  3 |  -4.0 |\n",
       "| 7.Dim | Dim    | 819.4 | 815.4 |  7 |  -4.0 |\n",
       "| 66.Clear | Clear  | 738.6 | 734.8 | 66 |  -3.8 |\n",
       "\n"
      ],
      "text/plain": [
       "          vyrobce tok5  tok22 id pokles\n",
       "11.Bright Bright  887.6 797.6 11 -90.0 \n",
       "14.Dim    Dim     844.5 757.3 14 -87.2 \n",
       "28.Amber  Amber   783.1 779.1 28  -4.0 \n",
       "3.Dim     Dim     830.0 826.0  3  -4.0 \n",
       "7.Dim     Dim     819.4 815.4  7  -4.0 \n",
       "66.Clear  Clear   738.6 734.8 66  -3.8 "
      ]
     },
     "metadata": {},
     "output_type": "display_data"
    },
    {
     "data": {
      "text/html": [
       "<table class=\"dataframe\">\n",
       "<caption>A data.frame: 6 × 5</caption>\n",
       "<thead>\n",
       "\t<tr><th></th><th scope=col>vyrobce</th><th scope=col>tok5</th><th scope=col>tok22</th><th scope=col>id</th><th scope=col>pokles</th></tr>\n",
       "\t<tr><th></th><th scope=col>&lt;chr&gt;</th><th scope=col>&lt;dbl&gt;</th><th scope=col>&lt;dbl&gt;</th><th scope=col>&lt;int&gt;</th><th scope=col>&lt;dbl&gt;</th></tr>\n",
       "</thead>\n",
       "<tbody>\n",
       "\t<tr><th scope=row>71.Bright</th><td>Bright</td><td>NA</td><td>NA</td><td>71</td><td>NA</td></tr>\n",
       "\t<tr><th scope=row>72.Bright</th><td>Bright</td><td>NA</td><td>NA</td><td>72</td><td>NA</td></tr>\n",
       "\t<tr><th scope=row>73.Bright</th><td>Bright</td><td>NA</td><td>NA</td><td>73</td><td>NA</td></tr>\n",
       "\t<tr><th scope=row>74.Bright</th><td>Bright</td><td>NA</td><td>NA</td><td>74</td><td>NA</td></tr>\n",
       "\t<tr><th scope=row>73.Clear</th><td>Clear </td><td>NA</td><td>NA</td><td>73</td><td>NA</td></tr>\n",
       "\t<tr><th scope=row>74.Clear</th><td>Clear </td><td>NA</td><td>NA</td><td>74</td><td>NA</td></tr>\n",
       "</tbody>\n",
       "</table>\n"
      ],
      "text/latex": [
       "A data.frame: 6 × 5\n",
       "\\begin{tabular}{r|lllll}\n",
       "  & vyrobce & tok5 & tok22 & id & pokles\\\\\n",
       "  & <chr> & <dbl> & <dbl> & <int> & <dbl>\\\\\n",
       "\\hline\n",
       "\t71.Bright & Bright & NA & NA & 71 & NA\\\\\n",
       "\t72.Bright & Bright & NA & NA & 72 & NA\\\\\n",
       "\t73.Bright & Bright & NA & NA & 73 & NA\\\\\n",
       "\t74.Bright & Bright & NA & NA & 74 & NA\\\\\n",
       "\t73.Clear & Clear  & NA & NA & 73 & NA\\\\\n",
       "\t74.Clear & Clear  & NA & NA & 74 & NA\\\\\n",
       "\\end{tabular}\n"
      ],
      "text/markdown": [
       "\n",
       "A data.frame: 6 × 5\n",
       "\n",
       "| <!--/--> | vyrobce &lt;chr&gt; | tok5 &lt;dbl&gt; | tok22 &lt;dbl&gt; | id &lt;int&gt; | pokles &lt;dbl&gt; |\n",
       "|---|---|---|---|---|---|\n",
       "| 71.Bright | Bright | NA | NA | 71 | NA |\n",
       "| 72.Bright | Bright | NA | NA | 72 | NA |\n",
       "| 73.Bright | Bright | NA | NA | 73 | NA |\n",
       "| 74.Bright | Bright | NA | NA | 74 | NA |\n",
       "| 73.Clear | Clear  | NA | NA | 73 | NA |\n",
       "| 74.Clear | Clear  | NA | NA | 74 | NA |\n",
       "\n"
      ],
      "text/plain": [
       "          vyrobce tok5 tok22 id pokles\n",
       "71.Bright Bright  NA   NA    71 NA    \n",
       "72.Bright Bright  NA   NA    72 NA    \n",
       "73.Bright Bright  NA   NA    73 NA    \n",
       "74.Bright Bright  NA   NA    74 NA    \n",
       "73.Clear  Clear   NA   NA    73 NA    \n",
       "74.Clear  Clear   NA   NA    74 NA    "
      ]
     },
     "metadata": {},
     "output_type": "display_data"
    }
   ],
   "source": [
    "# Vzestupné a sestupné seřazení řádků podle hodnoty poklesu\n",
    "res <- dataS %>% arrange(pokles)\n",
    "\n",
    "head(res)\n",
    "tail(res)"
   ]
  },
  {
   "cell_type": "code",
   "execution_count": 97,
   "id": "eb0669dd",
   "metadata": {
    "vscode": {
     "languageId": "r"
    }
   },
   "outputs": [
    {
     "data": {
      "text/html": [
       "<table class=\"dataframe\">\n",
       "<caption>A data.frame: 6 × 5</caption>\n",
       "<thead>\n",
       "\t<tr><th></th><th scope=col>vyrobce</th><th scope=col>tok5</th><th scope=col>tok22</th><th scope=col>id</th><th scope=col>pokles</th></tr>\n",
       "\t<tr><th></th><th scope=col>&lt;chr&gt;</th><th scope=col>&lt;dbl&gt;</th><th scope=col>&lt;dbl&gt;</th><th scope=col>&lt;int&gt;</th><th scope=col>&lt;dbl&gt;</th></tr>\n",
       "</thead>\n",
       "<tbody>\n",
       "\t<tr><th scope=row>7.Amber</th><td>Amber</td><td>714.6</td><td>819.4</td><td> 7</td><td>104.8</td></tr>\n",
       "\t<tr><th scope=row>10.Clear</th><td>Clear</td><td>720.4</td><td>815.8</td><td>10</td><td> 95.4</td></tr>\n",
       "\t<tr><th scope=row>24.Dim</th><td>Dim  </td><td>776.5</td><td>782.4</td><td>24</td><td>  5.9</td></tr>\n",
       "\t<tr><th scope=row>50.Dim</th><td>Dim  </td><td>793.1</td><td>799.0</td><td>50</td><td>  5.9</td></tr>\n",
       "\t<tr><th scope=row>64.Dim</th><td>Dim  </td><td>763.1</td><td>769.0</td><td>64</td><td>  5.9</td></tr>\n",
       "\t<tr><th scope=row>18.Dim</th><td>Dim  </td><td>810.9</td><td>816.6</td><td>18</td><td>  5.7</td></tr>\n",
       "</tbody>\n",
       "</table>\n"
      ],
      "text/latex": [
       "A data.frame: 6 × 5\n",
       "\\begin{tabular}{r|lllll}\n",
       "  & vyrobce & tok5 & tok22 & id & pokles\\\\\n",
       "  & <chr> & <dbl> & <dbl> & <int> & <dbl>\\\\\n",
       "\\hline\n",
       "\t7.Amber & Amber & 714.6 & 819.4 &  7 & 104.8\\\\\n",
       "\t10.Clear & Clear & 720.4 & 815.8 & 10 &  95.4\\\\\n",
       "\t24.Dim & Dim   & 776.5 & 782.4 & 24 &   5.9\\\\\n",
       "\t50.Dim & Dim   & 793.1 & 799.0 & 50 &   5.9\\\\\n",
       "\t64.Dim & Dim   & 763.1 & 769.0 & 64 &   5.9\\\\\n",
       "\t18.Dim & Dim   & 810.9 & 816.6 & 18 &   5.7\\\\\n",
       "\\end{tabular}\n"
      ],
      "text/markdown": [
       "\n",
       "A data.frame: 6 × 5\n",
       "\n",
       "| <!--/--> | vyrobce &lt;chr&gt; | tok5 &lt;dbl&gt; | tok22 &lt;dbl&gt; | id &lt;int&gt; | pokles &lt;dbl&gt; |\n",
       "|---|---|---|---|---|---|\n",
       "| 7.Amber | Amber | 714.6 | 819.4 |  7 | 104.8 |\n",
       "| 10.Clear | Clear | 720.4 | 815.8 | 10 |  95.4 |\n",
       "| 24.Dim | Dim   | 776.5 | 782.4 | 24 |   5.9 |\n",
       "| 50.Dim | Dim   | 793.1 | 799.0 | 50 |   5.9 |\n",
       "| 64.Dim | Dim   | 763.1 | 769.0 | 64 |   5.9 |\n",
       "| 18.Dim | Dim   | 810.9 | 816.6 | 18 |   5.7 |\n",
       "\n"
      ],
      "text/plain": [
       "         vyrobce tok5  tok22 id pokles\n",
       "7.Amber  Amber   714.6 819.4  7 104.8 \n",
       "10.Clear Clear   720.4 815.8 10  95.4 \n",
       "24.Dim   Dim     776.5 782.4 24   5.9 \n",
       "50.Dim   Dim     793.1 799.0 50   5.9 \n",
       "64.Dim   Dim     763.1 769.0 64   5.9 \n",
       "18.Dim   Dim     810.9 816.6 18   5.7 "
      ]
     },
     "metadata": {},
     "output_type": "display_data"
    },
    {
     "data": {
      "text/html": [
       "<table class=\"dataframe\">\n",
       "<caption>A data.frame: 6 × 5</caption>\n",
       "<thead>\n",
       "\t<tr><th></th><th scope=col>vyrobce</th><th scope=col>tok5</th><th scope=col>tok22</th><th scope=col>id</th><th scope=col>pokles</th></tr>\n",
       "\t<tr><th></th><th scope=col>&lt;chr&gt;</th><th scope=col>&lt;dbl&gt;</th><th scope=col>&lt;dbl&gt;</th><th scope=col>&lt;int&gt;</th><th scope=col>&lt;dbl&gt;</th></tr>\n",
       "</thead>\n",
       "<tbody>\n",
       "\t<tr><th scope=row>71.Bright</th><td>Bright</td><td>NA</td><td>NA</td><td>71</td><td>NA</td></tr>\n",
       "\t<tr><th scope=row>72.Bright</th><td>Bright</td><td>NA</td><td>NA</td><td>72</td><td>NA</td></tr>\n",
       "\t<tr><th scope=row>73.Bright</th><td>Bright</td><td>NA</td><td>NA</td><td>73</td><td>NA</td></tr>\n",
       "\t<tr><th scope=row>74.Bright</th><td>Bright</td><td>NA</td><td>NA</td><td>74</td><td>NA</td></tr>\n",
       "\t<tr><th scope=row>73.Clear</th><td>Clear </td><td>NA</td><td>NA</td><td>73</td><td>NA</td></tr>\n",
       "\t<tr><th scope=row>74.Clear</th><td>Clear </td><td>NA</td><td>NA</td><td>74</td><td>NA</td></tr>\n",
       "</tbody>\n",
       "</table>\n"
      ],
      "text/latex": [
       "A data.frame: 6 × 5\n",
       "\\begin{tabular}{r|lllll}\n",
       "  & vyrobce & tok5 & tok22 & id & pokles\\\\\n",
       "  & <chr> & <dbl> & <dbl> & <int> & <dbl>\\\\\n",
       "\\hline\n",
       "\t71.Bright & Bright & NA & NA & 71 & NA\\\\\n",
       "\t72.Bright & Bright & NA & NA & 72 & NA\\\\\n",
       "\t73.Bright & Bright & NA & NA & 73 & NA\\\\\n",
       "\t74.Bright & Bright & NA & NA & 74 & NA\\\\\n",
       "\t73.Clear & Clear  & NA & NA & 73 & NA\\\\\n",
       "\t74.Clear & Clear  & NA & NA & 74 & NA\\\\\n",
       "\\end{tabular}\n"
      ],
      "text/markdown": [
       "\n",
       "A data.frame: 6 × 5\n",
       "\n",
       "| <!--/--> | vyrobce &lt;chr&gt; | tok5 &lt;dbl&gt; | tok22 &lt;dbl&gt; | id &lt;int&gt; | pokles &lt;dbl&gt; |\n",
       "|---|---|---|---|---|---|\n",
       "| 71.Bright | Bright | NA | NA | 71 | NA |\n",
       "| 72.Bright | Bright | NA | NA | 72 | NA |\n",
       "| 73.Bright | Bright | NA | NA | 73 | NA |\n",
       "| 74.Bright | Bright | NA | NA | 74 | NA |\n",
       "| 73.Clear | Clear  | NA | NA | 73 | NA |\n",
       "| 74.Clear | Clear  | NA | NA | 74 | NA |\n",
       "\n"
      ],
      "text/plain": [
       "          vyrobce tok5 tok22 id pokles\n",
       "71.Bright Bright  NA   NA    71 NA    \n",
       "72.Bright Bright  NA   NA    72 NA    \n",
       "73.Bright Bright  NA   NA    73 NA    \n",
       "74.Bright Bright  NA   NA    74 NA    \n",
       "73.Clear  Clear   NA   NA    73 NA    \n",
       "74.Clear  Clear   NA   NA    74 NA    "
      ]
     },
     "metadata": {},
     "output_type": "display_data"
    }
   ],
   "source": [
    "# případně sestupně\n",
    "res <- dataS %>% arrange(desc(pokles))\n",
    "head(res)\n",
    "tail(res)"
   ]
  },
  {
   "cell_type": "markdown",
   "id": "c8dac59b",
   "metadata": {},
   "source": [
    "---"
   ]
  },
  {
   "cell_type": "markdown",
   "id": "eb48f82c",
   "metadata": {},
   "source": [
    "# 6. Explorační analýza a vizualizace kategoriální proměnné\n"
   ]
  },
  {
   "cell_type": "markdown",
   "id": "cd6c7d9e",
   "metadata": {},
   "source": [
    "### a) Absolutní a relativní četnosti kategoriální proměnné\n",
    "- **`table()`** – vytvoří tabulku absolutních četností kategoriální proměnné ze sloupce datového rámce podle unikátních hodnot.\n",
    "- lze i pomocí knihovny `dplyr`:\n",
    "    - ```r\n",
    "      data %>% count(vyrobce)\n",
    "      ``` \n",
    "      nebo\n",
    "    - ```r\n",
    "      data %>% group_by(vyrobce) %>% summarise(n = n())\n",
    "      ```"
   ]
  },
  {
   "cell_type": "code",
   "execution_count": 98,
   "id": "5f47eb9f",
   "metadata": {
    "vscode": {
     "languageId": "r"
    }
   },
   "outputs": [
    {
     "data": {
      "text/plain": [
       "\n",
       " Amber Bright  Clear    Dim \n",
       "    74     74     74     74 "
      ]
     },
     "metadata": {},
     "output_type": "display_data"
    }
   ],
   "source": [
    "# Tabulka absolutních četností kategoriální proměnné výrobce...\n",
    "cetnosti <- table(dataS$vyrobce)\n",
    "cetnosti # výpis - objekt typu \"table\" - většinou vhodnější, ale těžší převedení do typu data.frame\n"
   ]
  },
  {
   "cell_type": "markdown",
   "id": "a3624bdf",
   "metadata": {},
   "source": [
    "**Tabulka relativních četností pomocí `prop.table()`**\n"
   ]
  },
  {
   "cell_type": "code",
   "execution_count": 99,
   "id": "04b53b44",
   "metadata": {
    "vscode": {
     "languageId": "r"
    }
   },
   "outputs": [
    {
     "data": {
      "text/plain": [
       "\n",
       " Amber Bright  Clear    Dim \n",
       "  0.25   0.25   0.25   0.25 "
      ]
     },
     "metadata": {},
     "output_type": "display_data"
    }
   ],
   "source": [
    "rel.cetnosti <- prop.table(cetnosti)\n",
    "rel.cetnosti # výpis\n"
   ]
  },
  {
   "cell_type": "markdown",
   "id": "8cbb7651",
   "metadata": {},
   "source": [
    "U tabulek relativních četností je potřeba pohlídat zaokrouhlení a s ním spojené riziko zaokrouhlovací chyby."
   ]
  },
  {
   "cell_type": "code",
   "execution_count": 100,
   "id": "a165daba",
   "metadata": {
    "vscode": {
     "languageId": "r"
    }
   },
   "outputs": [
    {
     "data": {
      "text/plain": [
       "\n",
       " Amber Bright  Clear    Dim \n",
       "  0.25   0.25   0.25   0.25 "
      ]
     },
     "metadata": {},
     "output_type": "display_data"
    }
   ],
   "source": [
    "rel.cetnosti <- round(rel.cetnosti, digits = 3) # zaokrouhlení na 3 desetinná místa\n",
    "rel.cetnosti[4] <- 1 - sum(rel.cetnosti[1:3]) # ohlídání zaokrouhlovací chyby\n",
    "rel.cetnosti\n"
   ]
  },
  {
   "cell_type": "markdown",
   "id": "de752a10",
   "metadata": {},
   "source": [
    "\n",
    "### b) Vizualizace pomocí sloupcového grafu"
   ]
  },
  {
   "cell_type": "code",
   "execution_count": 101,
   "id": "e1ceaf10",
   "metadata": {
    "vscode": {
     "languageId": "r"
    }
   },
   "outputs": [
    {
     "data": {
      "image/png": "[encoded data removed]",
      "text/plain": [
       "plot without title"
      ]
     },
     "metadata": {
      "image/png": {
       "height": 420,
       "width": 420
      }
     },
     "output_type": "display_data"
    }
   ],
   "source": [
    "# Sloupcový graf\n",
    "barplot(cetnosti)\n"
   ]
  },
  {
   "cell_type": "code",
   "execution_count": 102,
   "id": "96c89ae7",
   "metadata": {
    "vscode": {
     "languageId": "r"
    }
   },
   "outputs": [
    {
     "data": {
      "image/png": "[encoded data removed]",
      "text/plain": [
       "Plot with title “Zastoupení výrobců ve výběru”"
      ]
     },
     "metadata": {
      "image/png": {
       "height": 420,
       "width": 420
      }
     },
     "output_type": "display_data"
    }
   ],
   "source": [
    "# lze i pro relativní četnosti, také má funkce mnoho dalších parametrů\n",
    "barplot(rel.cetnosti,\n",
    "        col = heat.colors(4), # alt. může být volen vektor konkrétních barev, např. c(\"blue\",\"yellow,\"red\",\"green\")\n",
    "        # nebo jiné škály (heat.colors, topo.colors, terrain.colors a mnoho dalších)\n",
    "        main = \"Zastoupení výrobců ve výběru\", # nadpis grafu\n",
    "        space = 0.5, # parametr space vytvoří mezeru mezi sloupci\n",
    "        xlab = \"Výrobce\", # popisek osy x\n",
    "        ylab = \"Relativní četnost\" # popisek osy y\n",
    ")\n"
   ]
  },
  {
   "cell_type": "markdown",
   "id": "f15c1a51",
   "metadata": {},
   "source": [
    "**Graf lze uložit v podobě obrázku následovně:**"
   ]
  },
  {
   "cell_type": "code",
   "execution_count": 103,
   "id": "93dd08f0",
   "metadata": {
    "vscode": {
     "languageId": "r"
    }
   },
   "outputs": [
    {
     "data": {
      "text/html": [
       "<strong>agg_record_1534290647:</strong> 2"
      ],
      "text/latex": [
       "\\textbf{agg\\textbackslash{}\\_record\\textbackslash{}\\_1534290647:} 2"
      ],
      "text/markdown": [
       "**agg_record_1534290647:** 2"
      ],
      "text/plain": [
       "agg_record_1534290647 \n",
       "                    2 "
      ]
     },
     "metadata": {},
     "output_type": "display_data"
    }
   ],
   "source": [
    "# uložení grafu\n",
    "png(\"barplot.png\") # název souboru\n",
    "barplot(rel.cetnosti)\n",
    "dev.off() # ukončení zápisu a uložení na disk\n"
   ]
  },
  {
   "cell_type": "markdown",
   "id": "73f2ea8d",
   "metadata": {},
   "source": [
    "**A v podobě PDF:**\n"
   ]
  },
  {
   "cell_type": "code",
   "execution_count": 104,
   "id": "c6b7fcbe",
   "metadata": {
    "vscode": {
     "languageId": "r"
    }
   },
   "outputs": [
    {
     "data": {
      "text/html": [
       "<strong>agg_record_683471576:</strong> 2"
      ],
      "text/latex": [
       "\\textbf{agg\\textbackslash{}\\_record\\textbackslash{}\\_683471576:} 2"
      ],
      "text/markdown": [
       "**agg_record_683471576:** 2"
      ],
      "text/plain": [
       "agg_record_683471576 \n",
       "                   2 "
      ]
     },
     "metadata": {},
     "output_type": "display_data"
    }
   ],
   "source": [
    "# uložení grafu do pdf, pozor na diaktitiku a kódování\n",
    "pdf(\"barplot.pdf\", encoding = \"ISOLatin2\") # název souboru\n",
    "barplot(rel.cetnosti)\n",
    "dev.off() # ukončení zápisu a uložení na disk\n"
   ]
  },
  {
   "cell_type": "markdown",
   "id": "c1f3a111",
   "metadata": {},
   "source": [
    "---\n"
   ]
  },
  {
   "cell_type": "markdown",
   "id": "34c0cc8e",
   "metadata": {},
   "source": [
    "# 7. Explorační analýza a vizualizace kvantitativní proměnné"
   ]
  },
  {
   "cell_type": "markdown",
   "id": "46741dd8",
   "metadata": {},
   "source": [
    "### a) Základní deskriptivní statistiky kvantitativní proměnné\n",
    "- **průměr** pomocí `mean()` (pozor na chybějící hodnoty, dají se ignorovat pomocí `na.rm = TRUE`)\n",
    "- **medián** pomocí `median()`\n",
    "- **rozptyl** pomocí `var()`\n",
    "- **směrodatná odchylka** pomocí `sd()`\n",
    "- **kvantily** pomocí `quantile()` (např. `quantile(data$kap5, c(0.25, 0.75))`)\n",
    "- **velikost výběru** pomocí `length()`\n",
    "- **variační koeficient** pomocí `sd()/mean()*100`\n",
    "- **interkvartilové rozpětí** pomocí `IQR()`\n",
    "- **vnitřní hradby** pomocí `quantile() +/- 1.5*IQR()`\n",
    "- **šikmost** pomocí `monents::skewness()`\n",
    "- **špičatost** pomocí `moments::kurtosis() - 3` (Pozor na normalizaci!)\n",
    "\n",
    "\n",
    "**pozor na chybějící hodnoty, dají se ignorovat pomocí `na.rm = TRUE`**\n"
   ]
  },
  {
   "cell_type": "code",
   "execution_count": null,
   "id": "fb217fa2",
   "metadata": {
    "vscode": {
     "languageId": "r"
    }
   },
   "outputs": [
    {
     "name": "stderr",
     "output_type": "stream",
     "text": [
      "Installing package into ‘/home/patrick115/R/x86_64-pc-linux-gnu-library/4.5’\n",
      "(as ‘lib’ is unspecified)\n",
      "\n"
     ]
    }
   ],
   "source": [
    "#install.packages(\"moments\")"
   ]
  },
  {
   "cell_type": "code",
   "execution_count": 107,
   "id": "e3f3b699",
   "metadata": {
    "vscode": {
     "languageId": "r"
    }
   },
   "outputs": [
    {
     "data": {
      "text/html": [
       "805.490747330961"
      ],
      "text/latex": [
       "805.490747330961"
      ],
      "text/markdown": [
       "805.490747330961"
      ],
      "text/plain": [
       "[1] 805.4907"
      ]
     },
     "metadata": {},
     "output_type": "display_data"
    },
    {
     "data": {
      "text/html": [
       "804.7"
      ],
      "text/latex": [
       "804.7"
      ],
      "text/markdown": [
       "804.7"
      ],
      "text/plain": [
       "[1] 804.7"
      ]
     },
     "metadata": {},
     "output_type": "display_data"
    },
    {
     "data": {
      "text/html": [
       "886.082056939502"
      ],
      "text/latex": [
       "886.082056939502"
      ],
      "text/markdown": [
       "886.082056939502"
      ],
      "text/plain": [
       "[1] 886.0821"
      ]
     },
     "metadata": {},
     "output_type": "display_data"
    },
    {
     "data": {
      "text/html": [
       "29.7671304787597"
      ],
      "text/latex": [
       "29.7671304787597"
      ],
      "text/markdown": [
       "29.7671304787597"
      ],
      "text/plain": [
       "[1] 29.76713"
      ]
     },
     "metadata": {},
     "output_type": "display_data"
    },
    {
     "data": {
      "text/html": [
       "<style>\n",
       ".dl-inline {width: auto; margin:0; padding: 0}\n",
       ".dl-inline>dt, .dl-inline>dd {float: none; width: auto; display: inline-block}\n",
       ".dl-inline>dt::after {content: \":\\0020\"; padding-right: .5ex}\n",
       ".dl-inline>dt:not(:first-of-type) {padding-left: .5ex}\n",
       "</style><dl class=dl-inline><dt>25%</dt><dd>783.8</dd><dt>75%</dt><dd>825.3</dd></dl>\n"
      ],
      "text/latex": [
       "\\begin{description*}\n",
       "\\item[25\\textbackslash{}\\%] 783.8\n",
       "\\item[75\\textbackslash{}\\%] 825.3\n",
       "\\end{description*}\n"
      ],
      "text/markdown": [
       "25%\n",
       ":   783.875%\n",
       ":   825.3\n",
       "\n"
      ],
      "text/plain": [
       "  25%   75% \n",
       "783.8 825.3 "
      ]
     },
     "metadata": {},
     "output_type": "display_data"
    },
    {
     "data": {
      "text/html": [
       "296"
      ],
      "text/latex": [
       "296"
      ],
      "text/markdown": [
       "296"
      ],
      "text/plain": [
       "[1] 296"
      ]
     },
     "metadata": {},
     "output_type": "display_data"
    },
    {
     "data": {
      "text/html": [
       "281"
      ],
      "text/latex": [
       "281"
      ],
      "text/markdown": [
       "281"
      ],
      "text/plain": [
       "[1] 281"
      ]
     },
     "metadata": {},
     "output_type": "display_data"
    },
    {
     "data": {
      "text/html": [
       "3.69552730151088"
      ],
      "text/latex": [
       "3.69552730151088"
      ],
      "text/markdown": [
       "3.69552730151088"
      ],
      "text/plain": [
       "[1] 3.695527"
      ]
     },
     "metadata": {},
     "output_type": "display_data"
    },
    {
     "data": {
      "text/html": [
       "41.5"
      ],
      "text/latex": [
       "41.5"
      ],
      "text/markdown": [
       "41.5"
      ],
      "text/plain": [
       "[1] 41.5"
      ]
     },
     "metadata": {},
     "output_type": "display_data"
    },
    {
     "data": {
      "text/html": [
       "<strong>25%:</strong> 721.55"
      ],
      "text/latex": [
       "\\textbf{25\\textbackslash{}\\%:} 721.55"
      ],
      "text/markdown": [
       "**25%:** 721.55"
      ],
      "text/plain": [
       "   25% \n",
       "721.55 "
      ]
     },
     "metadata": {},
     "output_type": "display_data"
    },
    {
     "data": {
      "text/html": [
       "<strong>75%:</strong> 887.55"
      ],
      "text/latex": [
       "\\textbf{75\\textbackslash{}\\%:} 887.55"
      ],
      "text/markdown": [
       "**75%:** 887.55"
      ],
      "text/plain": [
       "   75% \n",
       "887.55 "
      ]
     },
     "metadata": {},
     "output_type": "display_data"
    },
    {
     "data": {
      "text/html": [
       "0.591671122277775"
      ],
      "text/latex": [
       "0.591671122277775"
      ],
      "text/markdown": [
       "0.591671122277775"
      ],
      "text/plain": [
       "[1] 0.5916711"
      ]
     },
     "metadata": {},
     "output_type": "display_data"
    },
    {
     "data": {
      "text/html": [
       "2.62958840169473"
      ],
      "text/latex": [
       "2.62958840169473"
      ],
      "text/markdown": [
       "2.62958840169473"
      ],
      "text/plain": [
       "[1] 2.629588"
      ]
     },
     "metadata": {},
     "output_type": "display_data"
    }
   ],
   "source": [
    "# výpočty popisné statistiky pro proměnnou tok5 (pro všechny výrobce)\n",
    "mean(dataS$tok5, na.rm = TRUE) # průměr\n",
    "median(dataS$tok5, na.rm = TRUE) # medián\n",
    "var(dataS$tok5, na.rm = TRUE) # rozptyl\n",
    "sd(dataS$tok5, na.rm = TRUE) # směrodatná odchylka\n",
    "quantile(dataS$tok5, probs = c(0.25, 0.75), na.rm = TRUE) # kvartily\n",
    "length(dataS$tok5) # počet hodnot (pozor jsou včetně NA)\n",
    "length(dataS$tok5[!is.na(dataS$tok5)]) # počet hodnot bez NA\n",
    "sd(dataS$tok5, na.rm = TRUE) / mean(dataS$tok5, na.rm = TRUE) * 100 # variační koeficient\n",
    "IQR(dataS$tok5, na.rm = TRUE) # interkvartilové rozpětí\n",
    "quantile(dataS$tok5, 0.25, na.rm = TRUE) - 1.5 * IQR(dataS$tok5, na.rm = TRUE) # dolní mez vnitřních hradeb\n",
    "quantile(dataS$tok5, 0.75, na.rm = TRUE) + 1.5 * IQR(dataS$tok5, na.rm = TRUE) # horní mez vnitřních hradeb\n",
    "moments::skewness(dataS$tok5, na.rm = TRUE) # šikmost\n",
    "moments::kurtosis(dataS$tok5, na.rm = TRUE) - 3 # špičatost"
   ]
  },
  {
   "cell_type": "markdown",
   "id": "567facd7",
   "metadata": {},
   "source": [
    "**Totéž lze udělat pomocí knihovny `dplyr`**"
   ]
  },
  {
   "cell_type": "code",
   "execution_count": 108,
   "id": "58ef91bb",
   "metadata": {
    "vscode": {
     "languageId": "r"
    }
   },
   "outputs": [
    {
     "data": {
      "text/html": [
       "<table class=\"dataframe\">\n",
       "<caption>A matrix: 14 × 1 of type dbl</caption>\n",
       "<tbody>\n",
       "\t<tr><th scope=row>prumer</th><td>805.4907473</td></tr>\n",
       "\t<tr><th scope=row>median</th><td>804.7000000</td></tr>\n",
       "\t<tr><th scope=row>rozptyl</th><td>886.0820569</td></tr>\n",
       "\t<tr><th scope=row>smer.odchylka</th><td> 29.7671305</td></tr>\n",
       "\t<tr><th scope=row>dolni.kvartil</th><td>783.8000000</td></tr>\n",
       "\t<tr><th scope=row>horni.kvartil</th><td>825.3000000</td></tr>\n",
       "\t<tr><th scope=row>pocet.radku</th><td>296.0000000</td></tr>\n",
       "\t<tr><th scope=row>pocet.hodnot.bez.NA</th><td>281.0000000</td></tr>\n",
       "\t<tr><th scope=row>var.koeficient</th><td>  3.6955273</td></tr>\n",
       "\t<tr><th scope=row>interkvartilove.rozp</th><td> 41.5000000</td></tr>\n",
       "\t<tr><th scope=row>dolni.mez.vnitrnihradeb</th><td>721.5500000</td></tr>\n",
       "\t<tr><th scope=row>horni.mez.vnitrnihradeb</th><td>887.5500000</td></tr>\n",
       "\t<tr><th scope=row>skewness</th><td>  0.5916711</td></tr>\n",
       "\t<tr><th scope=row>kurtosis</th><td>  2.6295884</td></tr>\n",
       "</tbody>\n",
       "</table>\n"
      ],
      "text/latex": [
       "A matrix: 14 × 1 of type dbl\n",
       "\\begin{tabular}{r|l}\n",
       "\tprumer & 805.4907473\\\\\n",
       "\tmedian & 804.7000000\\\\\n",
       "\trozptyl & 886.0820569\\\\\n",
       "\tsmer.odchylka &  29.7671305\\\\\n",
       "\tdolni.kvartil & 783.8000000\\\\\n",
       "\thorni.kvartil & 825.3000000\\\\\n",
       "\tpocet.radku & 296.0000000\\\\\n",
       "\tpocet.hodnot.bez.NA & 281.0000000\\\\\n",
       "\tvar.koeficient &   3.6955273\\\\\n",
       "\tinterkvartilove.rozp &  41.5000000\\\\\n",
       "\tdolni.mez.vnitrnihradeb & 721.5500000\\\\\n",
       "\thorni.mez.vnitrnihradeb & 887.5500000\\\\\n",
       "\tskewness &   0.5916711\\\\\n",
       "\tkurtosis &   2.6295884\\\\\n",
       "\\end{tabular}\n"
      ],
      "text/markdown": [
       "\n",
       "A matrix: 14 × 1 of type dbl\n",
       "\n",
       "| prumer | 805.4907473 |\n",
       "| median | 804.7000000 |\n",
       "| rozptyl | 886.0820569 |\n",
       "| smer.odchylka |  29.7671305 |\n",
       "| dolni.kvartil | 783.8000000 |\n",
       "| horni.kvartil | 825.3000000 |\n",
       "| pocet.radku | 296.0000000 |\n",
       "| pocet.hodnot.bez.NA | 281.0000000 |\n",
       "| var.koeficient |   3.6955273 |\n",
       "| interkvartilove.rozp |  41.5000000 |\n",
       "| dolni.mez.vnitrnihradeb | 721.5500000 |\n",
       "| horni.mez.vnitrnihradeb | 887.5500000 |\n",
       "| skewness |   0.5916711 |\n",
       "| kurtosis |   2.6295884 |\n",
       "\n"
      ],
      "text/plain": [
       "                        [,1]       \n",
       "prumer                  805.4907473\n",
       "median                  804.7000000\n",
       "rozptyl                 886.0820569\n",
       "smer.odchylka            29.7671305\n",
       "dolni.kvartil           783.8000000\n",
       "horni.kvartil           825.3000000\n",
       "pocet.radku             296.0000000\n",
       "pocet.hodnot.bez.NA     281.0000000\n",
       "var.koeficient            3.6955273\n",
       "interkvartilove.rozp     41.5000000\n",
       "dolni.mez.vnitrnihradeb 721.5500000\n",
       "horni.mez.vnitrnihradeb 887.5500000\n",
       "skewness                  0.5916711\n",
       "kurtosis                  2.6295884"
      ]
     },
     "metadata": {},
     "output_type": "display_data"
    }
   ],
   "source": [
    "tabulka_statistik <- dataS %>% summarise(\n",
    "    prumer = mean(tok5, na.rm = TRUE),\n",
    "    median = median(tok5, na.rm = TRUE),\n",
    "    rozptyl = var(tok5, na.rm = TRUE),\n",
    "    smer.odchylka = sd(tok5, na.rm = TRUE),\n",
    "    dolni.kvartil = quantile(tok5, 0.25, na.rm = TRUE),\n",
    "    horni.kvartil = quantile(tok5, 0.75, na.rm = TRUE),\n",
    "    pocet.radku = n(),\n",
    "    pocet.hodnot.bez.NA = sum(!is.na(tok5)),\n",
    "    var.koeficient = sd(tok5, na.rm = TRUE) / mean(tok5, na.rm = TRUE) * 100,\n",
    "    interkvartilove.rozp = IQR(tok5, na.rm = TRUE),\n",
    "    dolni.mez.vnitrnihradeb = quantile(tok5, 0.25, na.rm = TRUE) - 1.5 * IQR(tok5, na.rm = TRUE),\n",
    "    horni.mez.vnitrnihradeb = quantile(tok5, 0.75, na.rm = TRUE) + 1.5 * IQR(tok5, na.rm = TRUE),\n",
    "    skewness = moments::skewness(tok5, na.rm = TRUE),\n",
    "    kurtosis = moments::kurtosis(tok5, na.rm = TRUE) - 3\n",
    ")\n",
    "t(tabulka_statistik) # transpozice tabulky pro lepší čitelnost"
   ]
  },
  {
   "cell_type": "markdown",
   "id": "403cc914",
   "metadata": {},
   "source": [
    "**A finálně pro každou skupinu zvlášť skrze `group_by`**"
   ]
  },
  {
   "cell_type": "code",
   "execution_count": 109,
   "id": "3f812a25",
   "metadata": {
    "vscode": {
     "languageId": "r"
    }
   },
   "outputs": [
    {
     "data": {
      "text/html": [
       "<table class=\"dataframe\">\n",
       "<caption>A matrix: 15 × 4 of type chr</caption>\n",
       "<tbody>\n",
       "\t<tr><th scope=row>vyrobce</th><td>Amber     </td><td>Bright    </td><td>Clear     </td><td>Dim       </td></tr>\n",
       "\t<tr><th scope=row>prumer</th><td>800.5301  </td><td>825.9516  </td><td>803.2931  </td><td>795.3797  </td></tr>\n",
       "\t<tr><th scope=row>median</th><td>801.60    </td><td>823.05    </td><td>801.95    </td><td>792.15    </td></tr>\n",
       "\t<tr><th scope=row>rozptyl</th><td>1136.8755 </td><td> 531.6475 </td><td> 637.6815 </td><td> 724.3373 </td></tr>\n",
       "\t<tr><th scope=row>smer.odchylka</th><td>33.71758  </td><td>23.05748  </td><td>25.25236  </td><td>26.91351  </td></tr>\n",
       "\t<tr><th scope=row>dolni.kvartil</th><td>780.700   </td><td>810.700   </td><td>787.575   </td><td>777.375   </td></tr>\n",
       "\t<tr><th scope=row>horni.kvartil</th><td>824.60    </td><td>837.00    </td><td>823.85    </td><td>812.40    </td></tr>\n",
       "\t<tr><th scope=row>pocet.radku</th><td>74        </td><td>74        </td><td>74        </td><td>74        </td></tr>\n",
       "\t<tr><th scope=row>pocet.hodnot.bez.NA</th><td>73        </td><td>62        </td><td>72        </td><td>74        </td></tr>\n",
       "\t<tr><th scope=row>var.koeficient</th><td>4.211907  </td><td>2.791626  </td><td>3.143604  </td><td>3.383731  </td></tr>\n",
       "\t<tr><th scope=row>interkvartilove.rozp</th><td>43.900    </td><td>26.300    </td><td>36.275    </td><td>35.025    </td></tr>\n",
       "\t<tr><th scope=row>dolni.mez.vnitrnihradeb</th><td>714.8500  </td><td>771.2500  </td><td>733.1625  </td><td>724.8375  </td></tr>\n",
       "\t<tr><th scope=row>horni.mez.vnitrnihradeb</th><td>890.4500  </td><td>876.4500  </td><td>878.2625  </td><td>864.9375  </td></tr>\n",
       "\t<tr><th scope=row>skewness</th><td> 0.7102133</td><td> 1.8822725</td><td>-0.4307977</td><td> 1.5516622</td></tr>\n",
       "\t<tr><th scope=row>kurtosis</th><td>2.6046712 </td><td>7.1537783 </td><td>0.5407968 </td><td>5.3508282 </td></tr>\n",
       "</tbody>\n",
       "</table>\n"
      ],
      "text/latex": [
       "A matrix: 15 × 4 of type chr\n",
       "\\begin{tabular}{r|llll}\n",
       "\tvyrobce & Amber      & Bright     & Clear      & Dim       \\\\\n",
       "\tprumer & 800.5301   & 825.9516   & 803.2931   & 795.3797  \\\\\n",
       "\tmedian & 801.60     & 823.05     & 801.95     & 792.15    \\\\\n",
       "\trozptyl & 1136.8755  &  531.6475  &  637.6815  &  724.3373 \\\\\n",
       "\tsmer.odchylka & 33.71758   & 23.05748   & 25.25236   & 26.91351  \\\\\n",
       "\tdolni.kvartil & 780.700    & 810.700    & 787.575    & 777.375   \\\\\n",
       "\thorni.kvartil & 824.60     & 837.00     & 823.85     & 812.40    \\\\\n",
       "\tpocet.radku & 74         & 74         & 74         & 74        \\\\\n",
       "\tpocet.hodnot.bez.NA & 73         & 62         & 72         & 74        \\\\\n",
       "\tvar.koeficient & 4.211907   & 2.791626   & 3.143604   & 3.383731  \\\\\n",
       "\tinterkvartilove.rozp & 43.900     & 26.300     & 36.275     & 35.025    \\\\\n",
       "\tdolni.mez.vnitrnihradeb & 714.8500   & 771.2500   & 733.1625   & 724.8375  \\\\\n",
       "\thorni.mez.vnitrnihradeb & 890.4500   & 876.4500   & 878.2625   & 864.9375  \\\\\n",
       "\tskewness &  0.7102133 &  1.8822725 & -0.4307977 &  1.5516622\\\\\n",
       "\tkurtosis & 2.6046712  & 7.1537783  & 0.5407968  & 5.3508282 \\\\\n",
       "\\end{tabular}\n"
      ],
      "text/markdown": [
       "\n",
       "A matrix: 15 × 4 of type chr\n",
       "\n",
       "| vyrobce | Amber      | Bright     | Clear      | Dim        |\n",
       "| prumer | 800.5301   | 825.9516   | 803.2931   | 795.3797   |\n",
       "| median | 801.60     | 823.05     | 801.95     | 792.15     |\n",
       "| rozptyl | 1136.8755  |  531.6475  |  637.6815  |  724.3373  |\n",
       "| smer.odchylka | 33.71758   | 23.05748   | 25.25236   | 26.91351   |\n",
       "| dolni.kvartil | 780.700    | 810.700    | 787.575    | 777.375    |\n",
       "| horni.kvartil | 824.60     | 837.00     | 823.85     | 812.40     |\n",
       "| pocet.radku | 74         | 74         | 74         | 74         |\n",
       "| pocet.hodnot.bez.NA | 73         | 62         | 72         | 74         |\n",
       "| var.koeficient | 4.211907   | 2.791626   | 3.143604   | 3.383731   |\n",
       "| interkvartilove.rozp | 43.900     | 26.300     | 36.275     | 35.025     |\n",
       "| dolni.mez.vnitrnihradeb | 714.8500   | 771.2500   | 733.1625   | 724.8375   |\n",
       "| horni.mez.vnitrnihradeb | 890.4500   | 876.4500   | 878.2625   | 864.9375   |\n",
       "| skewness |  0.7102133 |  1.8822725 | -0.4307977 |  1.5516622 |\n",
       "| kurtosis | 2.6046712  | 7.1537783  | 0.5407968  | 5.3508282  |\n",
       "\n"
      ],
      "text/plain": [
       "                        [,1]       [,2]       [,3]       [,4]      \n",
       "vyrobce                 Amber      Bright     Clear      Dim       \n",
       "prumer                  800.5301   825.9516   803.2931   795.3797  \n",
       "median                  801.60     823.05     801.95     792.15    \n",
       "rozptyl                 1136.8755   531.6475   637.6815   724.3373 \n",
       "smer.odchylka           33.71758   23.05748   25.25236   26.91351  \n",
       "dolni.kvartil           780.700    810.700    787.575    777.375   \n",
       "horni.kvartil           824.60     837.00     823.85     812.40    \n",
       "pocet.radku             74         74         74         74        \n",
       "pocet.hodnot.bez.NA     73         62         72         74        \n",
       "var.koeficient          4.211907   2.791626   3.143604   3.383731  \n",
       "interkvartilove.rozp    43.900     26.300     36.275     35.025    \n",
       "dolni.mez.vnitrnihradeb 714.8500   771.2500   733.1625   724.8375  \n",
       "horni.mez.vnitrnihradeb 890.4500   876.4500   878.2625   864.9375  \n",
       "skewness                 0.7102133  1.8822725 -0.4307977  1.5516622\n",
       "kurtosis                2.6046712  7.1537783  0.5407968  5.3508282 "
      ]
     },
     "metadata": {},
     "output_type": "display_data"
    }
   ],
   "source": [
    "tabulka_statistik <- dataS %>%\n",
    "    group_by(vyrobce) %>%\n",
    "    summarise(\n",
    "        prumer = mean(tok5, na.rm = TRUE),\n",
    "        median = median(tok5, na.rm = TRUE),\n",
    "        rozptyl = var(tok5, na.rm = TRUE),\n",
    "        smer.odchylka = sd(tok5, na.rm = TRUE),\n",
    "        dolni.kvartil = quantile(tok5, 0.25, na.rm = TRUE),\n",
    "        horni.kvartil = quantile(tok5, 0.75, na.rm = TRUE),\n",
    "        pocet.radku = n(),\n",
    "        pocet.hodnot.bez.NA = sum(!is.na(tok5)),\n",
    "        var.koeficient = sd(tok5, na.rm = TRUE) / mean(tok5, na.rm = TRUE) * 100,\n",
    "        interkvartilove.rozp = IQR(tok5, na.rm = TRUE),\n",
    "        dolni.mez.vnitrnihradeb = quantile(tok5, 0.25, na.rm = TRUE) - 1.5 * IQR(tok5, na.rm = TRUE),\n",
    "        horni.mez.vnitrnihradeb = quantile(tok5, 0.75, na.rm = TRUE) + 1.5 * IQR(tok5, na.rm = TRUE),\n",
    "        skewness = moments::skewness(tok5, na.rm = TRUE),\n",
    "        kurtosis = moments::kurtosis(tok5, na.rm = TRUE) - 3\n",
    "    )\n",
    "t(tabulka_statistik) # transpozice tabulky pro lepší čitelnost\n"
   ]
  },
  {
   "cell_type": "markdown",
   "id": "4ba90a1e",
   "metadata": {},
   "source": [
    "**Můžeme si třeba vytvořit funkci, co nám takovýto přehled vytvoří pro náš zadaný datový rámec a příslušné třízení + data.**"
   ]
  },
  {
   "cell_type": "code",
   "execution_count": 110,
   "id": "2b1d58fa",
   "metadata": {
    "vscode": {
     "languageId": "r"
    }
   },
   "outputs": [
    {
     "data": {
      "text/html": [
       "<table class=\"dataframe\">\n",
       "<caption>A data.frame: 13 × 4</caption>\n",
       "<thead>\n",
       "\t<tr><th></th><th scope=col>Amber</th><th scope=col>Bright</th><th scope=col>Clear</th><th scope=col>Dim</th></tr>\n",
       "\t<tr><th></th><th scope=col>&lt;dbl&gt;</th><th scope=col>&lt;dbl&gt;</th><th scope=col>&lt;dbl&gt;</th><th scope=col>&lt;dbl&gt;</th></tr>\n",
       "</thead>\n",
       "<tbody>\n",
       "\t<tr><th scope=row>rozsah_souboru</th><td> 73.0000000</td><td> 62.000000</td><td> 72.0000000</td><td> 74.000000</td></tr>\n",
       "\t<tr><th scope=row>minimum</th><td>714.6000000</td><td>788.300000</td><td>720.4000000</td><td>755.900000</td></tr>\n",
       "\t<tr><th scope=row>dolni_kvartil</th><td>780.7000000</td><td>810.700000</td><td>787.5750000</td><td>777.375000</td></tr>\n",
       "\t<tr><th scope=row>median</th><td>801.6000000</td><td>823.050000</td><td>801.9500000</td><td>792.150000</td></tr>\n",
       "\t<tr><th scope=row>prumer</th><td>800.5301370</td><td>825.951613</td><td>803.2930556</td><td>795.379730</td></tr>\n",
       "\t<tr><th scope=row>horni_kvartil</th><td>824.6000000</td><td>837.000000</td><td>823.8500000</td><td>812.400000</td></tr>\n",
       "\t<tr><th scope=row>maximum</th><td>940.0000000</td><td>936.100000</td><td>844.3000000</td><td>924.700000</td></tr>\n",
       "\t<tr><th scope=row>smerodatna_odchylka</th><td> 33.7175840</td><td> 23.057482</td><td> 25.2523563</td><td> 26.913514</td></tr>\n",
       "\t<tr><th scope=row>variacni_koeficient</th><td>  4.2119069</td><td>  2.791626</td><td>  3.1436045</td><td>  3.383731</td></tr>\n",
       "\t<tr><th scope=row>sikmost</th><td>  0.7102133</td><td>  1.882272</td><td> -0.4307977</td><td>  1.551662</td></tr>\n",
       "\t<tr><th scope=row>spicatost</th><td>  2.6046712</td><td>  7.153778</td><td>  0.5407968</td><td>  5.350828</td></tr>\n",
       "\t<tr><th scope=row>dolni_mez_vnitrni_hradeb</th><td>714.8500000</td><td>771.250000</td><td>733.1625000</td><td>724.837500</td></tr>\n",
       "\t<tr><th scope=row>horni_mez_vnitrni_hradeb</th><td>890.4500000</td><td>876.450000</td><td>878.2625000</td><td>864.937500</td></tr>\n",
       "</tbody>\n",
       "</table>\n"
      ],
      "text/latex": [
       "A data.frame: 13 × 4\n",
       "\\begin{tabular}{r|llll}\n",
       "  & Amber & Bright & Clear & Dim\\\\\n",
       "  & <dbl> & <dbl> & <dbl> & <dbl>\\\\\n",
       "\\hline\n",
       "\trozsah\\_souboru &  73.0000000 &  62.000000 &  72.0000000 &  74.000000\\\\\n",
       "\tminimum & 714.6000000 & 788.300000 & 720.4000000 & 755.900000\\\\\n",
       "\tdolni\\_kvartil & 780.7000000 & 810.700000 & 787.5750000 & 777.375000\\\\\n",
       "\tmedian & 801.6000000 & 823.050000 & 801.9500000 & 792.150000\\\\\n",
       "\tprumer & 800.5301370 & 825.951613 & 803.2930556 & 795.379730\\\\\n",
       "\thorni\\_kvartil & 824.6000000 & 837.000000 & 823.8500000 & 812.400000\\\\\n",
       "\tmaximum & 940.0000000 & 936.100000 & 844.3000000 & 924.700000\\\\\n",
       "\tsmerodatna\\_odchylka &  33.7175840 &  23.057482 &  25.2523563 &  26.913514\\\\\n",
       "\tvariacni\\_koeficient &   4.2119069 &   2.791626 &   3.1436045 &   3.383731\\\\\n",
       "\tsikmost &   0.7102133 &   1.882272 &  -0.4307977 &   1.551662\\\\\n",
       "\tspicatost &   2.6046712 &   7.153778 &   0.5407968 &   5.350828\\\\\n",
       "\tdolni\\_mez\\_vnitrni\\_hradeb & 714.8500000 & 771.250000 & 733.1625000 & 724.837500\\\\\n",
       "\thorni\\_mez\\_vnitrni\\_hradeb & 890.4500000 & 876.450000 & 878.2625000 & 864.937500\\\\\n",
       "\\end{tabular}\n"
      ],
      "text/markdown": [
       "\n",
       "A data.frame: 13 × 4\n",
       "\n",
       "| <!--/--> | Amber &lt;dbl&gt; | Bright &lt;dbl&gt; | Clear &lt;dbl&gt; | Dim &lt;dbl&gt; |\n",
       "|---|---|---|---|---|\n",
       "| rozsah_souboru |  73.0000000 |  62.000000 |  72.0000000 |  74.000000 |\n",
       "| minimum | 714.6000000 | 788.300000 | 720.4000000 | 755.900000 |\n",
       "| dolni_kvartil | 780.7000000 | 810.700000 | 787.5750000 | 777.375000 |\n",
       "| median | 801.6000000 | 823.050000 | 801.9500000 | 792.150000 |\n",
       "| prumer | 800.5301370 | 825.951613 | 803.2930556 | 795.379730 |\n",
       "| horni_kvartil | 824.6000000 | 837.000000 | 823.8500000 | 812.400000 |\n",
       "| maximum | 940.0000000 | 936.100000 | 844.3000000 | 924.700000 |\n",
       "| smerodatna_odchylka |  33.7175840 |  23.057482 |  25.2523563 |  26.913514 |\n",
       "| variacni_koeficient |   4.2119069 |   2.791626 |   3.1436045 |   3.383731 |\n",
       "| sikmost |   0.7102133 |   1.882272 |  -0.4307977 |   1.551662 |\n",
       "| spicatost |   2.6046712 |   7.153778 |   0.5407968 |   5.350828 |\n",
       "| dolni_mez_vnitrni_hradeb | 714.8500000 | 771.250000 | 733.1625000 | 724.837500 |\n",
       "| horni_mez_vnitrni_hradeb | 890.4500000 | 876.450000 | 878.2625000 | 864.937500 |\n",
       "\n"
      ],
      "text/plain": [
       "                         Amber       Bright     Clear       Dim       \n",
       "rozsah_souboru            73.0000000  62.000000  72.0000000  74.000000\n",
       "minimum                  714.6000000 788.300000 720.4000000 755.900000\n",
       "dolni_kvartil            780.7000000 810.700000 787.5750000 777.375000\n",
       "median                   801.6000000 823.050000 801.9500000 792.150000\n",
       "prumer                   800.5301370 825.951613 803.2930556 795.379730\n",
       "horni_kvartil            824.6000000 837.000000 823.8500000 812.400000\n",
       "maximum                  940.0000000 936.100000 844.3000000 924.700000\n",
       "smerodatna_odchylka       33.7175840  23.057482  25.2523563  26.913514\n",
       "variacni_koeficient        4.2119069   2.791626   3.1436045   3.383731\n",
       "sikmost                    0.7102133   1.882272  -0.4307977   1.551662\n",
       "spicatost                  2.6046712   7.153778   0.5407968   5.350828\n",
       "dolni_mez_vnitrni_hradeb 714.8500000 771.250000 733.1625000 724.837500\n",
       "horni_mez_vnitrni_hradeb 890.4500000 876.450000 878.2625000 864.937500"
      ]
     },
     "metadata": {},
     "output_type": "display_data"
    }
   ],
   "source": [
    "statistika_sloupce <- function(data, column_group, column_data) {\n",
    "    `%>%` <- dplyr::`%>%` # Define the pipe operator explicitly\n",
    "\n",
    "    tabulka_statistik <- data %>%\n",
    "        dplyr::group_by({{ column_group }}) %>% # Group by the specified column\n",
    "        dplyr::summarise(\n",
    "            rozsah_souboru = sum(!is.na({{ column_data }})),\n",
    "            minimum = min({{ column_data }}, na.rm = TRUE),\n",
    "            dolni_kvartil = quantile({{ column_data }}, 0.25, na.rm = TRUE),\n",
    "            median = median({{ column_data }}, na.rm = TRUE),\n",
    "            prumer = mean({{ column_data }}, na.rm = TRUE),\n",
    "            horni_kvartil = quantile({{ column_data }}, 0.75, na.rm = TRUE),\n",
    "            maximum = max({{ column_data }}, na.rm = TRUE),\n",
    "            smerodatna_odchylka = sd({{ column_data }}, na.rm = TRUE),\n",
    "            variacni_koeficient = sd({{ column_data }}, na.rm = TRUE) /\n",
    "                mean({{ column_data }}, na.rm = TRUE) * 100,\n",
    "            sikmost = moments::skewness({{ column_data }}, na.rm = TRUE),\n",
    "            spicatost = moments::kurtosis({{ column_data }}, na.rm = TRUE) - 3,\n",
    "            dolni_mez_vnitrni_hradeb = quantile({{ column_data }}, 0.25, na.rm = TRUE) -\n",
    "                1.5 * IQR({{ column_data }}, na.rm = TRUE),\n",
    "            horni_mez_vnitrni_hradeb = quantile({{ column_data }}, 0.75, na.rm = TRUE) +\n",
    "                1.5 * IQR({{ column_data }}, na.rm = TRUE)\n",
    "        )\n",
    "\n",
    "    names_vars <- tabulka_statistik %>% dplyr::pull({{ column_group }})\n",
    "\n",
    "    tabulka_statistik <- tabulka_statistik[, -1] # Remove the grouping column\n",
    "    tabulka_statistik <- as.data.frame(t(tabulka_statistik)) # Transpose for better readability\n",
    "    colnames(tabulka_statistik) <- names_vars # Set column names\n",
    "\n",
    "    return(tabulka_statistik)\n",
    "}\n",
    "\n",
    "tabulka_statistik <- statistika_sloupce(dataS, vyrobce, tok5)\n",
    "tabulka_statistik\n"
   ]
  },
  {
   "cell_type": "markdown",
   "id": "b681ad40",
   "metadata": {},
   "source": [
    "**Může se hodit si takovou tabulku uložit do excelu pomocí `openxlsx::write.xlsx()`:**"
   ]
  },
  {
   "cell_type": "code",
   "execution_count": 111,
   "id": "0bf41cb5",
   "metadata": {
    "vscode": {
     "languageId": "r"
    }
   },
   "outputs": [],
   "source": [
    "# export tabulky do excelu (opět transponovaně), bohužel konverze na data.frame je nutná\n",
    "openxlsx::write.xlsx(tabulka_statistik,\n",
    "    file = \"tabulka_statistik.xlsx\",\n",
    "    rowNames = TRUE, # jednotlivé názvy polí jsou rownames\n",
    "    colNames = TRUE # názvy sloupců jsou jednotlivé skupiny\n",
    ")\n"
   ]
  },
  {
   "cell_type": "markdown",
   "id": "06493d3e",
   "metadata": {},
   "source": [
    "### b) Krabicový graf\n",
    "\n",
    "Co na grafu vidíme:\n",
    "- **medián** (čára uvnitř krabice),\n",
    "- **kvartily** (spodní a horní okraj krabice),\n",
    "- **minimální a maximální hodnoty bez odlehlých pozorování** (čárky/whiskers),\n",
    "- **odlehlá pozorování** (body mimo čáry).\n",
    "\n",
    "**Vykreslujeme vždy pro originální data, můžeme doplnit i vykreslení pro data bez OP v případech, kdy byl originální graf příliš roztažený extrémními OP.**"
   ]
  },
  {
   "cell_type": "code",
   "execution_count": 112,
   "id": "e6298f35",
   "metadata": {
    "vscode": {
     "languageId": "r"
    }
   },
   "outputs": [
    {
     "data": {
      "image/png": "[encoded data removed]",
      "text/plain": [
       "plot without title"
      ]
     },
     "metadata": {
      "image/png": {
       "height": 420,
       "width": 420
      }
     },
     "output_type": "display_data"
    }
   ],
   "source": [
    "# Jednoduché a rychlé vykreslení pomocí základní funkce pro jeden vektor\n",
    "boxplot(dataS$tok5)\n"
   ]
  },
  {
   "cell_type": "markdown",
   "id": "6699fc4a",
   "metadata": {},
   "source": [
    "#### Vždy když budeme uvádět více boxplotů pro srovnatelná data (například různé skupiny), je ***nutné*** je vykreslit v jednom grafu\n",
    "- vícenásobný boxplot se jednoduše vykreslí pro data ve standardním datovém formátu\n",
    "- syntaxe je pomocí `~`: `boxplot(hodnoty ~ trizeni, data = data)`"
   ]
  },
  {
   "cell_type": "code",
   "execution_count": 113,
   "id": "6cee2466",
   "metadata": {
    "vscode": {
     "languageId": "r"
    }
   },
   "outputs": [
    {
     "data": {
      "image/png": "[encoded data removed]",
      "text/plain": [
       "plot without title"
      ]
     },
     "metadata": {
      "image/png": {
       "height": 420,
       "width": 420
      }
     },
     "output_type": "display_data"
    }
   ],
   "source": [
    "# vykreslení vícenásobného krabicového grafu\n",
    "boxplot(tok5 ~ vyrobce, dataS)\n"
   ]
  },
  {
   "cell_type": "code",
   "execution_count": null,
   "id": "314c3985",
   "metadata": {
    "vscode": {
     "languageId": "r"
    }
   },
   "outputs": [],
   "source": [
    "# Při vytváření grafu pro publikace je nutné dodržet určité standardy úpravy\n",
    "\n",
    "boxplot(tok5 ~ vyrobce, dataS,\n",
    "    xlab = \"Výrobce\", # popisek osy x\n",
    "    ylab = \"Světelný tok [lm]\", # popisek osy y\n",
    "    main = \"Světelný tok při 5°C v závislosti na výrobci\" # nadpis grafu (vynechat pokud je součástí textu)\n",
    ")\n",
    "grid() # přidání mřížky do grafu pro snadnější porovnání hodnot"
   ]
  },
  {
   "cell_type": "markdown",
   "id": "74b54fdf",
   "metadata": {},
   "source": [
    "**Samozřejmě můžeme uložit stejným způsobem jako u předchozího sloupcového grafu.**"
   ]
  },
  {
   "cell_type": "code",
   "execution_count": null,
   "id": "3a63c709",
   "metadata": {
    "vscode": {
     "languageId": "r"
    }
   },
   "outputs": [],
   "source": [
    "png(\"boxplot.png\", width = 800, height = 500) # název souboru a velikost grafu v pixelech\n",
    "boxplot(tok5 ~ vyrobce, dataS, xlab = \"Výrobce\", ylab = \"Světelný tok [lm]\")\n",
    "grid()\n",
    "dev.off() # ukončení zápisu a uložení na disk"
   ]
  },
  {
   "cell_type": "code",
   "execution_count": null,
   "id": "1ae628aa",
   "metadata": {
    "vscode": {
     "languageId": "r"
    }
   },
   "outputs": [],
   "source": [
    "# velikost (v palcích) a kódování\n",
    "pdf(\"boxplot.pdf\", width = 8, height = 5, encoding = \"ISOLatin2\")\n",
    "boxplot(tok5 ~ vyrobce, dataS, xlab = \"Výrobce\", ylab = \"Světelný tok [lm]\")\n",
    "grid()\n",
    "dev.off() # ukončení zápisu a uložení na disk"
   ]
  },
  {
   "cell_type": "markdown",
   "id": "9f71f83c",
   "metadata": {},
   "source": [
    "### c) Vnitřní hradby a identifikace odlehlých pozorování\n",
    "- odlehlá pozorování, které jsme viděli i v boxplotu jsou identifikována pomocí vnitřních hradeb\n",
    "- tato pozorování často umí znehodnotit číselné charakteristiky, proto je vhodné se s nimi nějakým způsobem vypořádat\n",
    "- jedním z \"universálních\" způsobů je jejich odstranění\n",
    "\n",
    "Identifikaci odlehlých pozorování budeme provádět pomocí `dplyr` a funkce `rstatix::identify_outliers()`\n",
    "- je třeba aby data byla ve standardním datovém formátu a obsahovala sloupec s identifikátorem entity (např. `id`)\n",
    "- odstranění děláme vždy pro každou skupinu zvlášť!\n",
    "\n",
    "Následné odstranění provedeme pomocí definice nového sloupce, který bude obsahovat pouze data bez odlehlých pozorování. **Tímto způsobem si zachováme původní data!** \n",
    "```\n",
    "data$hodnota_bez_OP <- ifelse(data$id %in% OP$id, NA, data$hodnota)\n",
    "# nebo\n",
    "data <- data %>% mutate(hodnota_bez_OP = ifelse(id %in% OP$id, NA, hodnota))\n",
    "```"
   ]
  },
  {
   "cell_type": "code",
   "execution_count": 114,
   "id": "a3da2c3d",
   "metadata": {
    "vscode": {
     "languageId": "r"
    }
   },
   "outputs": [
    {
     "data": {
      "text/html": [
       "<table class=\"dataframe\">\n",
       "<caption>A data.frame: 6 × 5</caption>\n",
       "<thead>\n",
       "\t<tr><th></th><th scope=col>vyrobce</th><th scope=col>tok5</th><th scope=col>tok22</th><th scope=col>id</th><th scope=col>pokles</th></tr>\n",
       "\t<tr><th></th><th scope=col>&lt;chr&gt;</th><th scope=col>&lt;dbl&gt;</th><th scope=col>&lt;dbl&gt;</th><th scope=col>&lt;int&gt;</th><th scope=col>&lt;dbl&gt;</th></tr>\n",
       "</thead>\n",
       "<tbody>\n",
       "\t<tr><th scope=row>1.Amber</th><td>Amber</td><td>786.6</td><td>784.9</td><td>1</td><td>-1.7</td></tr>\n",
       "\t<tr><th scope=row>2.Amber</th><td>Amber</td><td>783.8</td><td>782.0</td><td>2</td><td>-1.8</td></tr>\n",
       "\t<tr><th scope=row>3.Amber</th><td>Amber</td><td>785.3</td><td>782.6</td><td>3</td><td>-2.7</td></tr>\n",
       "\t<tr><th scope=row>4.Amber</th><td>Amber</td><td>772.2</td><td>777.7</td><td>4</td><td> 5.5</td></tr>\n",
       "\t<tr><th scope=row>5.Amber</th><td>Amber</td><td>825.3</td><td>824.7</td><td>5</td><td>-0.6</td></tr>\n",
       "\t<tr><th scope=row>6.Amber</th><td>Amber</td><td>759.1</td><td>759.1</td><td>6</td><td> 0.0</td></tr>\n",
       "</tbody>\n",
       "</table>\n"
      ],
      "text/latex": [
       "A data.frame: 6 × 5\n",
       "\\begin{tabular}{r|lllll}\n",
       "  & vyrobce & tok5 & tok22 & id & pokles\\\\\n",
       "  & <chr> & <dbl> & <dbl> & <int> & <dbl>\\\\\n",
       "\\hline\n",
       "\t1.Amber & Amber & 786.6 & 784.9 & 1 & -1.7\\\\\n",
       "\t2.Amber & Amber & 783.8 & 782.0 & 2 & -1.8\\\\\n",
       "\t3.Amber & Amber & 785.3 & 782.6 & 3 & -2.7\\\\\n",
       "\t4.Amber & Amber & 772.2 & 777.7 & 4 &  5.5\\\\\n",
       "\t5.Amber & Amber & 825.3 & 824.7 & 5 & -0.6\\\\\n",
       "\t6.Amber & Amber & 759.1 & 759.1 & 6 &  0.0\\\\\n",
       "\\end{tabular}\n"
      ],
      "text/markdown": [
       "\n",
       "A data.frame: 6 × 5\n",
       "\n",
       "| <!--/--> | vyrobce &lt;chr&gt; | tok5 &lt;dbl&gt; | tok22 &lt;dbl&gt; | id &lt;int&gt; | pokles &lt;dbl&gt; |\n",
       "|---|---|---|---|---|---|\n",
       "| 1.Amber | Amber | 786.6 | 784.9 | 1 | -1.7 |\n",
       "| 2.Amber | Amber | 783.8 | 782.0 | 2 | -1.8 |\n",
       "| 3.Amber | Amber | 785.3 | 782.6 | 3 | -2.7 |\n",
       "| 4.Amber | Amber | 772.2 | 777.7 | 4 |  5.5 |\n",
       "| 5.Amber | Amber | 825.3 | 824.7 | 5 | -0.6 |\n",
       "| 6.Amber | Amber | 759.1 | 759.1 | 6 |  0.0 |\n",
       "\n"
      ],
      "text/plain": [
       "        vyrobce tok5  tok22 id pokles\n",
       "1.Amber Amber   786.6 784.9 1  -1.7  \n",
       "2.Amber Amber   783.8 782.0 2  -1.8  \n",
       "3.Amber Amber   785.3 782.6 3  -2.7  \n",
       "4.Amber Amber   772.2 777.7 4   5.5  \n",
       "5.Amber Amber   825.3 824.7 5  -0.6  \n",
       "6.Amber Amber   759.1 759.1 6   0.0  "
      ]
     },
     "metadata": {},
     "output_type": "display_data"
    }
   ],
   "source": [
    "# data jsou ve standardním formátu\n",
    "# obsahují také sloupec id\n",
    "# kdyby zde nebyl přítomen lze doplnit buďto\n",
    "dataS$id <- seq_along(dataS$tok5)\n",
    "# nebo\n",
    "dataS <- dataS %>% mutate(id = row_number())\n",
    "head(dataS)"
   ]
  },
  {
   "cell_type": "code",
   "execution_count": 115,
   "id": "c110280f",
   "metadata": {
    "vscode": {
     "languageId": "r"
    }
   },
   "outputs": [
    {
     "data": {
      "image/png": "[encoded data removed]",
      "text/plain": [
       "plot without title"
      ]
     },
     "metadata": {
      "image/png": {
       "height": 420,
       "width": 420
      }
     },
     "output_type": "display_data"
    }
   ],
   "source": [
    "# pro srovnán vykreslíme oba grafy s i bez OP\n",
    "boxplot(tok5 ~ vyrobce, dataS)\n"
   ]
  },
  {
   "cell_type": "code",
   "execution_count": null,
   "id": "7288257d",
   "metadata": {
    "vscode": {
     "languageId": "r"
    }
   },
   "outputs": [
    {
     "name": "stderr",
     "output_type": "stream",
     "text": [
      "Installing package into ‘/home/patrick115/R/x86_64-pc-linux-gnu-library/4.5’\n",
      "(as ‘lib’ is unspecified)\n",
      "\n",
      "also installing the dependencies ‘gtable’, ‘isoband’, ‘S7’, ‘rbibutils’, ‘cowplot’, ‘Deriv’, ‘ggplot2’, ‘modelr’, ‘microbenchmark’, ‘Rdpack’, ‘numDeriv’, ‘doBy’, ‘SparseM’, ‘MatrixModels’, ‘minqa’, ‘nloptr’, ‘reformulas’, ‘RcppEigen’, ‘farver’, ‘labeling’, ‘RColorBrewer’, ‘viridisLite’, ‘carData’, ‘abind’, ‘Formula’, ‘pbkrtest’, ‘quantreg’, ‘lme4’, ‘scales’, ‘tidyr’, ‘broom’, ‘corrplot’, ‘car’\n",
      "\n",
      "\n",
      "Warning message in install.packages(\"rstatix\"):\n",
      "“installation of package ‘SparseM’ had non-zero exit status”\n",
      "Warning message in install.packages(\"rstatix\"):\n",
      "“installation of package ‘minqa’ had non-zero exit status”\n",
      "Warning message in install.packages(\"rstatix\"):\n",
      "“installation of package ‘quantreg’ had non-zero exit status”\n",
      "Warning message in install.packages(\"rstatix\"):\n",
      "“installation of package ‘lme4’ had non-zero exit status”\n",
      "Warning message in install.packages(\"rstatix\"):\n",
      "“installation of package ‘pbkrtest’ had non-zero exit status”\n",
      "Warning message in install.packages(\"rstatix\"):\n",
      "“installation of package ‘car’ had non-zero exit status”\n",
      "Warning message in install.packages(\"rstatix\"):\n",
      "“installation of package ‘rstatix’ had non-zero exit status”\n"
     ]
    }
   ],
   "source": [
    "#install.packages(\"rstatix\")"
   ]
  },
  {
   "cell_type": "code",
   "execution_count": 119,
   "id": "61c740fd",
   "metadata": {
    "vscode": {
     "languageId": "r"
    }
   },
   "outputs": [
    {
     "data": {
      "text/html": [
       "<table class=\"dataframe\">\n",
       "<caption>A tibble: 6 × 7</caption>\n",
       "<thead>\n",
       "\t<tr><th scope=col>vyrobce</th><th scope=col>tok5</th><th scope=col>tok22</th><th scope=col>id</th><th scope=col>pokles</th><th scope=col>is.outlier</th><th scope=col>is.extreme</th></tr>\n",
       "\t<tr><th scope=col>&lt;chr&gt;</th><th scope=col>&lt;dbl&gt;</th><th scope=col>&lt;dbl&gt;</th><th scope=col>&lt;int&gt;</th><th scope=col>&lt;dbl&gt;</th><th scope=col>&lt;lgl&gt;</th><th scope=col>&lt;lgl&gt;</th></tr>\n",
       "</thead>\n",
       "<tbody>\n",
       "\t<tr><td>Amber </td><td>714.6</td><td>819.4</td><td>  7</td><td>104.8</td><td>TRUE</td><td>FALSE</td></tr>\n",
       "\t<tr><td>Amber </td><td>940.0</td><td>942.4</td><td> 15</td><td>  2.4</td><td>TRUE</td><td>FALSE</td></tr>\n",
       "\t<tr><td>Bright</td><td>887.6</td><td>797.6</td><td> 85</td><td>-90.0</td><td>TRUE</td><td>FALSE</td></tr>\n",
       "\t<tr><td>Bright</td><td>936.1</td><td>935.9</td><td>101</td><td> -0.2</td><td>TRUE</td><td> TRUE</td></tr>\n",
       "\t<tr><td>Clear </td><td>720.4</td><td>815.8</td><td>158</td><td> 95.4</td><td>TRUE</td><td>FALSE</td></tr>\n",
       "\t<tr><td>Dim   </td><td>924.7</td><td>923.8</td><td>273</td><td> -0.9</td><td>TRUE</td><td> TRUE</td></tr>\n",
       "</tbody>\n",
       "</table>\n"
      ],
      "text/latex": [
       "A tibble: 6 × 7\n",
       "\\begin{tabular}{lllllll}\n",
       " vyrobce & tok5 & tok22 & id & pokles & is.outlier & is.extreme\\\\\n",
       " <chr> & <dbl> & <dbl> & <int> & <dbl> & <lgl> & <lgl>\\\\\n",
       "\\hline\n",
       "\t Amber  & 714.6 & 819.4 &   7 & 104.8 & TRUE & FALSE\\\\\n",
       "\t Amber  & 940.0 & 942.4 &  15 &   2.4 & TRUE & FALSE\\\\\n",
       "\t Bright & 887.6 & 797.6 &  85 & -90.0 & TRUE & FALSE\\\\\n",
       "\t Bright & 936.1 & 935.9 & 101 &  -0.2 & TRUE &  TRUE\\\\\n",
       "\t Clear  & 720.4 & 815.8 & 158 &  95.4 & TRUE & FALSE\\\\\n",
       "\t Dim    & 924.7 & 923.8 & 273 &  -0.9 & TRUE &  TRUE\\\\\n",
       "\\end{tabular}\n"
      ],
      "text/markdown": [
       "\n",
       "A tibble: 6 × 7\n",
       "\n",
       "| vyrobce &lt;chr&gt; | tok5 &lt;dbl&gt; | tok22 &lt;dbl&gt; | id &lt;int&gt; | pokles &lt;dbl&gt; | is.outlier &lt;lgl&gt; | is.extreme &lt;lgl&gt; |\n",
       "|---|---|---|---|---|---|---|\n",
       "| Amber  | 714.6 | 819.4 |   7 | 104.8 | TRUE | FALSE |\n",
       "| Amber  | 940.0 | 942.4 |  15 |   2.4 | TRUE | FALSE |\n",
       "| Bright | 887.6 | 797.6 |  85 | -90.0 | TRUE | FALSE |\n",
       "| Bright | 936.1 | 935.9 | 101 |  -0.2 | TRUE |  TRUE |\n",
       "| Clear  | 720.4 | 815.8 | 158 |  95.4 | TRUE | FALSE |\n",
       "| Dim    | 924.7 | 923.8 | 273 |  -0.9 | TRUE |  TRUE |\n",
       "\n"
      ],
      "text/plain": [
       "  vyrobce tok5  tok22 id  pokles is.outlier is.extreme\n",
       "1 Amber   714.6 819.4   7 104.8  TRUE       FALSE     \n",
       "2 Amber   940.0 942.4  15   2.4  TRUE       FALSE     \n",
       "3 Bright  887.6 797.6  85 -90.0  TRUE       FALSE     \n",
       "4 Bright  936.1 935.9 101  -0.2  TRUE        TRUE     \n",
       "5 Clear   720.4 815.8 158  95.4  TRUE       FALSE     \n",
       "6 Dim     924.7 923.8 273  -0.9  TRUE        TRUE     "
      ]
     },
     "metadata": {},
     "output_type": "display_data"
    }
   ],
   "source": [
    "# díky funkci identify_outliers z balíčku rstatix můžeme identifikovat odlehlé hodnoty\n",
    "# dostaneme jejich seznam včetně náležitosti do skupin, id, ...\n",
    "# toto se hodí pro jednoduchý reporting počtu OP a jejich identifikaci\n",
    "OP_tok5 <-\n",
    "  dataS %>%\n",
    "  group_by(vyrobce) %>%\n",
    "  rstatix::identify_outliers(tok5)\n",
    "OP_tok5\n"
   ]
  },
  {
   "cell_type": "code",
   "execution_count": 120,
   "id": "d787db9c",
   "metadata": {
    "vscode": {
     "languageId": "r"
    }
   },
   "outputs": [],
   "source": [
    "# informaci o OP můžeme využít pro vyrobení nového sloupce s vynechanými OP\n",
    "dataS$tok5OP <- ifelse(dataS$id %in% OP_tok5$id, NA, dataS$tok5)\n",
    "# nebo\n",
    "dataS <- dataS %>% mutate(tok5OP = ifelse(id %in% OP_tok5$id, NA, tok5))"
   ]
  },
  {
   "cell_type": "code",
   "execution_count": 121,
   "id": "f536d21f",
   "metadata": {
    "vscode": {
     "languageId": "r"
    }
   },
   "outputs": [
    {
     "data": {
      "image/png": "[encoded data removed]",
      "text/plain": [
       "plot without title"
      ]
     },
     "metadata": {
      "image/png": {
       "height": 420,
       "width": 420
      }
     },
     "output_type": "display_data"
    }
   ],
   "source": [
    "boxplot(tok5OP ~ vyrobce, dataS)\n"
   ]
  },
  {
   "cell_type": "code",
   "execution_count": 122,
   "id": "0c6af90b",
   "metadata": {
    "vscode": {
     "languageId": "r"
    }
   },
   "outputs": [
    {
     "data": {
      "text/html": [
       "<table class=\"dataframe\">\n",
       "<caption>A data.frame: 13 × 4</caption>\n",
       "<thead>\n",
       "\t<tr><th></th><th scope=col>Amber</th><th scope=col>Bright</th><th scope=col>Clear</th><th scope=col>Dim</th></tr>\n",
       "\t<tr><th></th><th scope=col>&lt;dbl&gt;</th><th scope=col>&lt;dbl&gt;</th><th scope=col>&lt;dbl&gt;</th><th scope=col>&lt;dbl&gt;</th></tr>\n",
       "</thead>\n",
       "<tbody>\n",
       "\t<tr><th scope=row>rozsah_souboru</th><td> 71.000000000</td><td> 60.0000000</td><td> 71.00000000</td><td> 73.0000000</td></tr>\n",
       "\t<tr><th scope=row>minimum</th><td>751.000000000</td><td>788.3000000</td><td>738.60000000</td><td>755.9000000</td></tr>\n",
       "\t<tr><th scope=row>dolni_kvartil</th><td>781.250000000</td><td>810.4250000</td><td>787.85000000</td><td>777.1000000</td></tr>\n",
       "\t<tr><th scope=row>median</th><td>801.600000000</td><td>822.7000000</td><td>802.60000000</td><td>792.0000000</td></tr>\n",
       "\t<tr><th scope=row>prumer</th><td>799.776056338</td><td>823.0883333</td><td>804.46056338</td><td>793.6082192</td></tr>\n",
       "\t<tr><th scope=row>horni_kvartil</th><td>823.300000000</td><td>835.6500000</td><td>824.30000000</td><td>810.9000000</td></tr>\n",
       "\t<tr><th scope=row>maximum</th><td>850.400000000</td><td>850.9000000</td><td>844.30000000</td><td>844.5000000</td></tr>\n",
       "\t<tr><th scope=row>smerodatna_odchylka</th><td> 28.025200215</td><td> 16.4705190</td><td> 23.39332920</td><td> 22.3370007</td></tr>\n",
       "\t<tr><th scope=row>variacni_koeficient</th><td>  3.504130937</td><td>  2.0010634</td><td>  2.90795227</td><td>  2.8146131</td></tr>\n",
       "\t<tr><th scope=row>sikmost</th><td> -0.004803379</td><td> -0.1365513</td><td> -0.06047276</td><td>  0.2783225</td></tr>\n",
       "\t<tr><th scope=row>spicatost</th><td> -1.090025875</td><td> -0.7988652</td><td> -0.40999353</td><td> -0.9223123</td></tr>\n",
       "\t<tr><th scope=row>dolni_mez_vnitrni_hradeb</th><td>718.175000000</td><td>772.5875000</td><td>733.17500000</td><td>726.4000000</td></tr>\n",
       "\t<tr><th scope=row>horni_mez_vnitrni_hradeb</th><td>886.375000000</td><td>873.4875000</td><td>878.97500000</td><td>861.6000000</td></tr>\n",
       "</tbody>\n",
       "</table>\n"
      ],
      "text/latex": [
       "A data.frame: 13 × 4\n",
       "\\begin{tabular}{r|llll}\n",
       "  & Amber & Bright & Clear & Dim\\\\\n",
       "  & <dbl> & <dbl> & <dbl> & <dbl>\\\\\n",
       "\\hline\n",
       "\trozsah\\_souboru &  71.000000000 &  60.0000000 &  71.00000000 &  73.0000000\\\\\n",
       "\tminimum & 751.000000000 & 788.3000000 & 738.60000000 & 755.9000000\\\\\n",
       "\tdolni\\_kvartil & 781.250000000 & 810.4250000 & 787.85000000 & 777.1000000\\\\\n",
       "\tmedian & 801.600000000 & 822.7000000 & 802.60000000 & 792.0000000\\\\\n",
       "\tprumer & 799.776056338 & 823.0883333 & 804.46056338 & 793.6082192\\\\\n",
       "\thorni\\_kvartil & 823.300000000 & 835.6500000 & 824.30000000 & 810.9000000\\\\\n",
       "\tmaximum & 850.400000000 & 850.9000000 & 844.30000000 & 844.5000000\\\\\n",
       "\tsmerodatna\\_odchylka &  28.025200215 &  16.4705190 &  23.39332920 &  22.3370007\\\\\n",
       "\tvariacni\\_koeficient &   3.504130937 &   2.0010634 &   2.90795227 &   2.8146131\\\\\n",
       "\tsikmost &  -0.004803379 &  -0.1365513 &  -0.06047276 &   0.2783225\\\\\n",
       "\tspicatost &  -1.090025875 &  -0.7988652 &  -0.40999353 &  -0.9223123\\\\\n",
       "\tdolni\\_mez\\_vnitrni\\_hradeb & 718.175000000 & 772.5875000 & 733.17500000 & 726.4000000\\\\\n",
       "\thorni\\_mez\\_vnitrni\\_hradeb & 886.375000000 & 873.4875000 & 878.97500000 & 861.6000000\\\\\n",
       "\\end{tabular}\n"
      ],
      "text/markdown": [
       "\n",
       "A data.frame: 13 × 4\n",
       "\n",
       "| <!--/--> | Amber &lt;dbl&gt; | Bright &lt;dbl&gt; | Clear &lt;dbl&gt; | Dim &lt;dbl&gt; |\n",
       "|---|---|---|---|---|\n",
       "| rozsah_souboru |  71.000000000 |  60.0000000 |  71.00000000 |  73.0000000 |\n",
       "| minimum | 751.000000000 | 788.3000000 | 738.60000000 | 755.9000000 |\n",
       "| dolni_kvartil | 781.250000000 | 810.4250000 | 787.85000000 | 777.1000000 |\n",
       "| median | 801.600000000 | 822.7000000 | 802.60000000 | 792.0000000 |\n",
       "| prumer | 799.776056338 | 823.0883333 | 804.46056338 | 793.6082192 |\n",
       "| horni_kvartil | 823.300000000 | 835.6500000 | 824.30000000 | 810.9000000 |\n",
       "| maximum | 850.400000000 | 850.9000000 | 844.30000000 | 844.5000000 |\n",
       "| smerodatna_odchylka |  28.025200215 |  16.4705190 |  23.39332920 |  22.3370007 |\n",
       "| variacni_koeficient |   3.504130937 |   2.0010634 |   2.90795227 |   2.8146131 |\n",
       "| sikmost |  -0.004803379 |  -0.1365513 |  -0.06047276 |   0.2783225 |\n",
       "| spicatost |  -1.090025875 |  -0.7988652 |  -0.40999353 |  -0.9223123 |\n",
       "| dolni_mez_vnitrni_hradeb | 718.175000000 | 772.5875000 | 733.17500000 | 726.4000000 |\n",
       "| horni_mez_vnitrni_hradeb | 886.375000000 | 873.4875000 | 878.97500000 | 861.6000000 |\n",
       "\n"
      ],
      "text/plain": [
       "                         Amber         Bright      Clear        Dim        \n",
       "rozsah_souboru            71.000000000  60.0000000  71.00000000  73.0000000\n",
       "minimum                  751.000000000 788.3000000 738.60000000 755.9000000\n",
       "dolni_kvartil            781.250000000 810.4250000 787.85000000 777.1000000\n",
       "median                   801.600000000 822.7000000 802.60000000 792.0000000\n",
       "prumer                   799.776056338 823.0883333 804.46056338 793.6082192\n",
       "horni_kvartil            823.300000000 835.6500000 824.30000000 810.9000000\n",
       "maximum                  850.400000000 850.9000000 844.30000000 844.5000000\n",
       "smerodatna_odchylka       28.025200215  16.4705190  23.39332920  22.3370007\n",
       "variacni_koeficient        3.504130937   2.0010634   2.90795227   2.8146131\n",
       "sikmost                   -0.004803379  -0.1365513  -0.06047276   0.2783225\n",
       "spicatost                 -1.090025875  -0.7988652  -0.40999353  -0.9223123\n",
       "dolni_mez_vnitrni_hradeb 718.175000000 772.5875000 733.17500000 726.4000000\n",
       "horni_mez_vnitrni_hradeb 886.375000000 873.4875000 878.97500000 861.6000000"
      ]
     },
     "metadata": {},
     "output_type": "display_data"
    }
   ],
   "source": [
    "# a můžeme použít dříve definovanou funkci pro výpočet statistik bez OP\n",
    "tabulka_statistik <- statistika_sloupce(dataS, vyrobce, tok5OP)\n",
    "tabulka_statistik\n"
   ]
  },
  {
   "cell_type": "markdown",
   "id": "8b5187fc",
   "metadata": {},
   "source": [
    "**Analytik může vždy říct, že odlehlá pozorování odstraňovat nebude, ale tuto informaci musí do zápisu o analýze uvést!**"
   ]
  },
  {
   "cell_type": "markdown",
   "id": "d866a8cc",
   "metadata": {},
   "source": [
    "### d) Histogramy a aproximace hustoty pravděpodobnosti\n",
    "\n",
    "- **`hist()`** – vytvoří histogram kvantitativní proměnné, **Pozor, vyžaduje vstup v podobě numerického vektoru!**\n",
    "    - není ochotno fungovat pro `tibble`/`data.frame` i pokud máme jen jeden sloupec, je třeba jej dostat přes `data$sloupec`\n",
    "    - parametr `breaks` určuje počet intervalů\n",
    "    - parametr `freq` určuje, zda chceme zobrazit absolutní četnosti nebo odhad hustoty pravděpodobnosti\n",
    "- **`density()`** – vytvoří aproximaci hustoty pravděpodobnosti z histogramu\n",
    "    - **Nemá rádo NA hodnoty!**\n",
    "\n",
    "**Vykreslujeme vždy pro data bez odlehlých pozorování!!**"
   ]
  },
  {
   "cell_type": "code",
   "execution_count": 123,
   "id": "c8314d42",
   "metadata": {
    "vscode": {
     "languageId": "r"
    }
   },
   "outputs": [
    {
     "data": {
      "image/png": "[encoded data removed]",
      "text/plain": [
       "Plot with title “Histogram of a5”"
      ]
     },
     "metadata": {
      "image/png": {
       "height": 420,
       "width": 420
      }
     },
     "output_type": "display_data"
    }
   ],
   "source": [
    "# Jednoduché a rychlé vykreslení\n",
    "a5 <- dataS %>%\n",
    "    filter(vyrobce == \"Amber\") %>%\n",
    "    select(tok5OP)\n",
    "a5 <- na.omit(a5$tok5OP) # odstraní řádky s NA a vybere pouze numerické hodnoty\n",
    "hist(a5)\n"
   ]
  },
  {
   "cell_type": "markdown",
   "id": "18978f57",
   "metadata": {},
   "source": [
    "Lze si hrát s parametry, přidat do jednoho grafu i odhad hustoty pravděpodobnosti, a fit pomocí normálního rozdělení."
   ]
  },
  {
   "cell_type": "code",
   "execution_count": 124,
   "id": "40d613ef",
   "metadata": {
    "vscode": {
     "languageId": "r"
    }
   },
   "outputs": [
    {
     "data": {
      "image/png": "[encoded data removed]",
      "text/plain": [
       "Plot with title “Histogram světelného toku při 5°C pro výrobce Amber”"
      ]
     },
     "metadata": {
      "image/png": {
       "height": 420,
       "width": 420
      }
     },
     "output_type": "display_data"
    }
   ],
   "source": [
    "# Již tradičně lze nastavit popisky a další parametry\n",
    "hist(a5,\n",
    "    main = \"Histogram světelného toku při 5°C pro výrobce Amber\",\n",
    "    xlab = \"Světelný tok [lm]\",\n",
    "    ylab = \"Hustota pravděpodobnosti\",\n",
    "    freq = FALSE, # relativní četnosti\n",
    "    breaks = 10 # počet intervalů\n",
    ") # přidá absolutní četnosti daných kategorií ve formě popisků\n",
    "\n",
    "lines(density(a5), col = \"red\") # přidá odhad hustoty pravděpodobnosti\n",
    "\n",
    "# generování hodnot pro osu x\n",
    "xfit <- seq(min(a5), max(a5), length = 100)\n",
    "# generování hodnot pro osu y\n",
    "yfit <- dnorm(xfit, mean = mean(a5), sd = sd(a5))\n",
    "\n",
    "# přidání křivky odhdu pomocí normálního rozdělení\n",
    "lines(xfit, yfit, col = \"blue\", lwd = 2)\n",
    "# Takto kombinovaný graf může posloužit k vizuálnímu posouzení normality."
   ]
  },
  {
   "cell_type": "markdown",
   "id": "7b794758",
   "metadata": {},
   "source": [
    "A samozřejmě exportovat například do PDF."
   ]
  },
  {
   "cell_type": "code",
   "execution_count": 125,
   "id": "e80e8520",
   "metadata": {
    "vscode": {
     "languageId": "r"
    }
   },
   "outputs": [
    {
     "data": {
      "text/html": [
       "<strong>agg_record_1185766719:</strong> 2"
      ],
      "text/latex": [
       "\\textbf{agg\\textbackslash{}\\_record\\textbackslash{}\\_1185766719:} 2"
      ],
      "text/markdown": [
       "**agg_record_1185766719:** 2"
      ],
      "text/plain": [
       "agg_record_1185766719 \n",
       "                    2 "
      ]
     },
     "metadata": {},
     "output_type": "display_data"
    }
   ],
   "source": [
    "pdf(\"histogram.pdf\", width = 8, height = 5, encoding = \"ISOLatin2\")\n",
    "hist(a5,\n",
    "    freq = FALSE, breaks = 10,\n",
    "    xlab = \"Světelný tok [lm]\", ylab = \"Hustota pravděpodobnosti\", main = \"\"\n",
    ")\n",
    "grid()\n",
    "dev.off() # ukončení zápisu a uložení na disk\n"
   ]
  },
  {
   "cell_type": "markdown",
   "id": "aac3e85b",
   "metadata": {},
   "source": [
    "### e) QQ-graf\n",
    "Vykreslíme pomocí `qqnorm()` a `qqline()`. Stajně jako u histogramu, je třeba mít data ve formátu numerického vektoru.\n",
    "\n",
    "**Vykreslujeme vždy pro data bez odlehlých pozorování!!**"
   ]
  },
  {
   "cell_type": "code",
   "execution_count": 126,
   "id": "c7a7decd",
   "metadata": {
    "vscode": {
     "languageId": "r"
    }
   },
   "outputs": [
    {
     "data": {
      "image/png": "[encoded data removed]",
      "text/plain": [
       "Plot with title “QQ-graf, pro žárovky výrobce Amber při 5°C”"
      ]
     },
     "metadata": {
      "image/png": {
       "height": 420,
       "width": 420
      }
     },
     "output_type": "display_data"
    }
   ],
   "source": [
    "# Nezapomenout na popisků os...\n",
    "qqnorm(a5,\n",
    "    xlab = \"Teoretické kvantily\",\n",
    "    ylab = \"Výběrové kvantily\",\n",
    "    main = \"QQ-graf, pro žárovky výrobce Amber při 5°C\"\n",
    ")\n",
    "qqline(a5)\n"
   ]
  },
  {
   "cell_type": "markdown",
   "id": "52bc84f4",
   "metadata": {},
   "source": [
    "---"
   ]
  },
  {
   "cell_type": "markdown",
   "id": "6ef1e4f3",
   "metadata": {},
   "source": [
    "# 8. pravidlo 3 $\\sigma$ a Čebyševova nerovnost\n",
    "### a) Empirické ověření normality\n",
    "- provádíme vizuálně: \n",
    "    - pomocí QQ-grafu: pokud body leží na přímce, můžeme předpokládat normální rozdělení\n",
    "    - pomocí histogramu: musí být \"podobný\" normálnímu rozdělení\n",
    "- numericky:\n",
    "    - pomocí šikmosti: musí ležet v intervalu $(-2,2)$\n",
    "    - pomocí špičatosti: musí ležet v intervalu $(-2,2)$"
   ]
  },
  {
   "cell_type": "code",
   "execution_count": 127,
   "id": "e3dec91b-7553-49ef-a4f5-1ca00b399504",
   "metadata": {
    "vscode": {
     "languageId": "r"
    }
   },
   "outputs": [],
   "source": [
    "# vyrobíme si data pro ukázku\n",
    "data1 <- rnorm(100, mean = 1, sd = 1)\n",
    "data2 <- runif(100, min = 0, max = 2)\n",
    "data3 <- rexp(100, rate = 1)\n"
   ]
  },
  {
   "cell_type": "markdown",
   "id": "6063b922",
   "metadata": {},
   "source": [
    "**Všechny nástroje pro ověření normality jsme si již ukázali, můžeme je zabalit do jedné funkce:**"
   ]
  },
  {
   "cell_type": "code",
   "execution_count": 128,
   "id": "81e28411",
   "metadata": {
    "vscode": {
     "languageId": "r"
    }
   },
   "outputs": [],
   "source": [
    "exploracni_overeni_normality <- function(data) {\n",
    "    # výpočet popisných statistik\n",
    "    sikmost <- moments::skewness(data)\n",
    "    spicatost <- moments::kurtosis(data) - 3\n",
    "    cat(\"Šikmost:\", sikmost, \"\\n\")\n",
    "    cat(\"Špičatost:\", spicatost, \"\\n\")\n",
    "\n",
    "    # QQ graf\n",
    "    qqnorm(data)\n",
    "    qqline(data)\n",
    "\n",
    "    # histogram s odhadem hustoty pravděpodobnosti normálního rozdělení\n",
    "    hist(data,\n",
    "        freq = FALSE, breaks = 10,\n",
    "        xlab = \"Světelný tok [lm]\", ylab = \"Hustota pravděpodobnosti\", main = \"\"\n",
    "    )\n",
    "    xfit <- seq(min(data), max(data), length = 100)\n",
    "    yfit <- dnorm(xfit, mean = mean(data), sd = sd(data))\n",
    "    lines(xfit, yfit, col = \"blue\", lwd = 2)\n",
    "}\n"
   ]
  },
  {
   "cell_type": "code",
   "execution_count": 129,
   "id": "e1f9beac",
   "metadata": {
    "vscode": {
     "languageId": "r"
    }
   },
   "outputs": [
    {
     "name": "stdout",
     "output_type": "stream",
     "text": [
      "Šikmost: 0.1091392 \n",
      "Špičatost: 0.05207618 \n"
     ]
    },
    {
     "data": {
      "image/png": "[encoded data removed]",
      "text/plain": [
       "Plot with title “Normal Q-Q Plot”"
      ]
     },
     "metadata": {
      "image/png": {
       "height": 420,
       "width": 420
      }
     },
     "output_type": "display_data"
    },
    {
     "data": {
      "image/png": "[encoded data removed]",
      "text/plain": [
       "Plot with title “”"
      ]
     },
     "metadata": {
      "image/png": {
       "height": 420,
       "width": 420
      }
     },
     "output_type": "display_data"
    }
   ],
   "source": [
    "# jak to vypadá pro skutečná data z normálního rozdělení\n",
    "exploracni_overeni_normality(data1)"
   ]
  },
  {
   "cell_type": "code",
   "execution_count": 130,
   "id": "9423af5b",
   "metadata": {
    "vscode": {
     "languageId": "r"
    }
   },
   "outputs": [
    {
     "name": "stdout",
     "output_type": "stream",
     "text": [
      "Šikmost: 0.2151067 \n",
      "Špičatost: -1.220538 \n"
     ]
    },
    {
     "data": {
      "image/png": "[encoded data removed]",
      "text/plain": [
       "Plot with title “Normal Q-Q Plot”"
      ]
     },
     "metadata": {
      "image/png": {
       "height": 420,
       "width": 420
      }
     },
     "output_type": "display_data"
    },
    {
     "data": {
      "image/png": "[encoded data removed]",
      "text/plain": [
       "Plot with title “”"
      ]
     },
     "metadata": {
      "image/png": {
       "height": 420,
       "width": 420
      }
     },
     "output_type": "display_data"
    }
   ],
   "source": [
    "# jak to vypadá pro skutečná data z uniformního rozdělení\n",
    "exploracni_overeni_normality(data2)"
   ]
  },
  {
   "cell_type": "code",
   "execution_count": 131,
   "id": "88a74a9b",
   "metadata": {
    "vscode": {
     "languageId": "r"
    }
   },
   "outputs": [
    {
     "name": "stdout",
     "output_type": "stream",
     "text": [
      "Šikmost: 1.867134 \n",
      "Špičatost: 4.777869 \n"
     ]
    },
    {
     "data": {
      "image/png": "[encoded data removed]",
      "text/plain": [
       "Plot with title “Normal Q-Q Plot”"
      ]
     },
     "metadata": {
      "image/png": {
       "height": 420,
       "width": 420
      }
     },
     "output_type": "display_data"
    },
    {
     "data": {
      "image/png": "[encoded data removed]",
      "text/plain": [
       "Plot with title “”"
      ]
     },
     "metadata": {
      "image/png": {
       "height": 420,
       "width": 420
      }
     },
     "output_type": "display_data"
    }
   ],
   "source": [
    "# jak to vypadá pro skutečná data z exponenciálního rozdělení\n",
    "exploracni_overeni_normality(data3)"
   ]
  },
  {
   "cell_type": "markdown",
   "id": "57b1f03c",
   "metadata": {},
   "source": [
    "### b) Pravidlo 3 $\\sigma$ a Čebyševova nerovnost\n",
    "\n",
    "**Je-li splněna normalita dat → pravidlo $3\\sigma$**  \n",
    "$\\sigma$:  $P(\\mu - \\sigma < X < \\mu + \\sigma) = 0.6827$  \n",
    "$2\\sigma$: $P(\\mu - 2\\sigma < X < \\mu + 2\\sigma) = 0.9545$  \n",
    "$3\\sigma$: $P(\\mu - 3\\sigma < X < \\mu + 3\\sigma) = 0.9973$  \n",
    "\n",
    "**Není-li splněna normalita dat → Čebyševova nerovnost**  \n",
    "$\\sigma$:  $P(\\mu - \\sigma < X < \\mu + \\sigma) = 0$  \n",
    "$2\\sigma$: $P(\\mu - 2\\sigma < X < \\mu + 2\\sigma) = 0.75$  \n",
    "$3\\sigma$: $P(\\mu - 3\\sigma < X < \\mu + 3\\sigma) = 0.8889$  \n"
   ]
  },
  {
   "cell_type": "code",
   "execution_count": 132,
   "id": "5cbaf393",
   "metadata": {
    "vscode": {
     "languageId": "r"
    }
   },
   "outputs": [
    {
     "data": {
      "text/html": [
       "<style>\n",
       ".list-inline {list-style: none; margin:0; padding: 0}\n",
       ".list-inline>li {display: inline-block}\n",
       ".list-inline>li:not(:last-child)::after {content: \"\\00b7\"; padding: 0 .5ex}\n",
       "</style>\n",
       "<ol class=list-inline><li>786.6</li><li>783.8</li><li>785.3</li><li>772.2</li><li>825.3</li><li>759.1</li><li>781.8</li><li>850.4</li><li>792.7</li><li>772.6</li><li>821.2</li><li>783.4</li><li>824.7</li><li>790.4</li><li>804.2</li><li>787.8</li><li>844.8</li><li>798.8</li><li>761.4</li><li>809.6</li><li>821.4</li><li>835.9</li><li>814.8</li><li>788.9</li><li>839</li><li>783.1</li><li>753.9</li><li>795.1</li><li>820.9</li><li>771</li><li>835.2</li><li>826.6</li><li>755.3</li><li>820.8</li><li>756.3</li><li>802</li><li>785</li><li>754</li><li>848.1</li><li>822</li><li>807.3</li><li>839.9</li><li>802.1</li><li>821.3</li><li>803.4</li><li>767.6</li><li>844.8</li><li>790.6</li><li>824.6</li><li>792</li><li>754.3</li><li>829.5</li><li>836.6</li><li>816.7</li><li>784.2</li><li>751</li><li>782.3</li><li>807</li><li>836.6</li><li>802.7</li><li>776</li><li>801.6</li><li>760.3</li><li>780.7</li><li>841.2</li><li>824.7</li><li>759.9</li><li>805</li><li>769.4</li><li>828.6</li><li>776.8</li></ol>\n"
      ],
      "text/latex": [
       "\\begin{enumerate*}\n",
       "\\item 786.6\n",
       "\\item 783.8\n",
       "\\item 785.3\n",
       "\\item 772.2\n",
       "\\item 825.3\n",
       "\\item 759.1\n",
       "\\item 781.8\n",
       "\\item 850.4\n",
       "\\item 792.7\n",
       "\\item 772.6\n",
       "\\item 821.2\n",
       "\\item 783.4\n",
       "\\item 824.7\n",
       "\\item 790.4\n",
       "\\item 804.2\n",
       "\\item 787.8\n",
       "\\item 844.8\n",
       "\\item 798.8\n",
       "\\item 761.4\n",
       "\\item 809.6\n",
       "\\item 821.4\n",
       "\\item 835.9\n",
       "\\item 814.8\n",
       "\\item 788.9\n",
       "\\item 839\n",
       "\\item 783.1\n",
       "\\item 753.9\n",
       "\\item 795.1\n",
       "\\item 820.9\n",
       "\\item 771\n",
       "\\item 835.2\n",
       "\\item 826.6\n",
       "\\item 755.3\n",
       "\\item 820.8\n",
       "\\item 756.3\n",
       "\\item 802\n",
       "\\item 785\n",
       "\\item 754\n",
       "\\item 848.1\n",
       "\\item 822\n",
       "\\item 807.3\n",
       "\\item 839.9\n",
       "\\item 802.1\n",
       "\\item 821.3\n",
       "\\item 803.4\n",
       "\\item 767.6\n",
       "\\item 844.8\n",
       "\\item 790.6\n",
       "\\item 824.6\n",
       "\\item 792\n",
       "\\item 754.3\n",
       "\\item 829.5\n",
       "\\item 836.6\n",
       "\\item 816.7\n",
       "\\item 784.2\n",
       "\\item 751\n",
       "\\item 782.3\n",
       "\\item 807\n",
       "\\item 836.6\n",
       "\\item 802.7\n",
       "\\item 776\n",
       "\\item 801.6\n",
       "\\item 760.3\n",
       "\\item 780.7\n",
       "\\item 841.2\n",
       "\\item 824.7\n",
       "\\item 759.9\n",
       "\\item 805\n",
       "\\item 769.4\n",
       "\\item 828.6\n",
       "\\item 776.8\n",
       "\\end{enumerate*}\n"
      ],
      "text/markdown": [
       "1. 786.6\n",
       "2. 783.8\n",
       "3. 785.3\n",
       "4. 772.2\n",
       "5. 825.3\n",
       "6. 759.1\n",
       "7. 781.8\n",
       "8. 850.4\n",
       "9. 792.7\n",
       "10. 772.6\n",
       "11. 821.2\n",
       "12. 783.4\n",
       "13. 824.7\n",
       "14. 790.4\n",
       "15. 804.2\n",
       "16. 787.8\n",
       "17. 844.8\n",
       "18. 798.8\n",
       "19. 761.4\n",
       "20. 809.6\n",
       "21. 821.4\n",
       "22. 835.9\n",
       "23. 814.8\n",
       "24. 788.9\n",
       "25. 839\n",
       "26. 783.1\n",
       "27. 753.9\n",
       "28. 795.1\n",
       "29. 820.9\n",
       "30. 771\n",
       "31. 835.2\n",
       "32. 826.6\n",
       "33. 755.3\n",
       "34. 820.8\n",
       "35. 756.3\n",
       "36. 802\n",
       "37. 785\n",
       "38. 754\n",
       "39. 848.1\n",
       "40. 822\n",
       "41. 807.3\n",
       "42. 839.9\n",
       "43. 802.1\n",
       "44. 821.3\n",
       "45. 803.4\n",
       "46. 767.6\n",
       "47. 844.8\n",
       "48. 790.6\n",
       "49. 824.6\n",
       "50. 792\n",
       "51. 754.3\n",
       "52. 829.5\n",
       "53. 836.6\n",
       "54. 816.7\n",
       "55. 784.2\n",
       "56. 751\n",
       "57. 782.3\n",
       "58. 807\n",
       "59. 836.6\n",
       "60. 802.7\n",
       "61. 776\n",
       "62. 801.6\n",
       "63. 760.3\n",
       "64. 780.7\n",
       "65. 841.2\n",
       "66. 824.7\n",
       "67. 759.9\n",
       "68. 805\n",
       "69. 769.4\n",
       "70. 828.6\n",
       "71. 776.8\n",
       "\n",
       "\n"
      ],
      "text/plain": [
       " [1] 786.6 783.8 785.3 772.2 825.3 759.1 781.8 850.4 792.7 772.6 821.2 783.4\n",
       "[13] 824.7 790.4 804.2 787.8 844.8 798.8 761.4 809.6 821.4 835.9 814.8 788.9\n",
       "[25] 839.0 783.1 753.9 795.1 820.9 771.0 835.2 826.6 755.3 820.8 756.3 802.0\n",
       "[37] 785.0 754.0 848.1 822.0 807.3 839.9 802.1 821.3 803.4 767.6 844.8 790.6\n",
       "[49] 824.6 792.0 754.3 829.5 836.6 816.7 784.2 751.0 782.3 807.0 836.6 802.7\n",
       "[61] 776.0 801.6 760.3 780.7 841.2 824.7 759.9 805.0 769.4 828.6 776.8\n",
       "attr(,\"na.action\")\n",
       "[1]  7 15 74\n",
       "attr(,\"class\")\n",
       "[1] \"omit\""
      ]
     },
     "metadata": {},
     "output_type": "display_data"
    }
   ],
   "source": [
    "# data pro světelný tok výrobce Amber při 5°C bez OP\n",
    "A_tok5OP <- dataS %>%\n",
    "    filter(vyrobce == \"Amber\") %>%\n",
    "    select(tok5OP)\n",
    "A_tok5OP <- na.omit(A_tok5OP$tok5OP)\n",
    "A_tok5OP"
   ]
  },
  {
   "cell_type": "code",
   "execution_count": 133,
   "id": "03de0d51",
   "metadata": {
    "vscode": {
     "languageId": "r"
    }
   },
   "outputs": [
    {
     "name": "stdout",
     "output_type": "stream",
     "text": [
      "< 771.7509 ,  827.8013 >\n",
      "< 743.7257 ,  855.8265 >\n",
      "< 715.7005 ,  883.8517 >\n"
     ]
    }
   ],
   "source": [
    "# příslušné 1, 2 a 3 sigma intervaly\n",
    "mu <- mean(A_tok5OP)\n",
    "sigma <- sd(A_tok5OP)\n",
    "cat(\"<\", mu - sigma, \", \", mu + sigma, \">\\n\")\n",
    "cat(\"<\", mu - 2 * sigma, \", \", mu + 2 * sigma, \">\\n\")\n",
    "cat(\"<\", mu - 3 * sigma, \", \", mu + 3 * sigma, \">\\n\")\n"
   ]
  },
  {
   "cell_type": "markdown",
   "id": "007a8d67",
   "metadata": {},
   "source": [
    "---"
   ]
  },
  {
   "cell_type": "markdown",
   "id": "0c9db44b",
   "metadata": {},
   "source": [
    "# 9. Zaokrouhlování\n",
    "\n",
    "Vše potřebné k zaokrouhlování naleznete na LMS v dokumentu [Zaokrouhlování](https://lms.vsb.cz/pluginfile.php/1298954/mod_folder/content/0/Leg%C3%A1ln%C3%AD%20tah%C3%A1ky/zaokrouhlovani.pdf).  \n",
    "\n",
    "#### To nejdůležitější:\n",
    "- Směrodatnou odchylku zaokrouhlujeme na předepsaný počet cifer nahoru (*ceiling*):  \n",
    "  - Velikost datového souboru $\\in \\langle 2,10 \\rangle$ → **1 platná cifra**  \n",
    "  - Velikost datového souboru $\\in (10,30 \\rangle$ → **2 platné cifry**  \n",
    "  - Velikost datového souboru $\\in (30,2000 \\rangle$ → **3 platné cifry**  \n",
    "\n",
    "- Míry polohy (průměry, kvantily, ...) pak zaokrouhlujeme klasicky (*round*) na stejnou platnou cifru jako směrodatnou odchylku.\n"
   ]
  },
  {
   "cell_type": "code",
   "execution_count": 134,
   "id": "188f10cb",
   "metadata": {
    "vscode": {
     "languageId": "r"
    }
   },
   "outputs": [
    {
     "data": {
      "text/html": [
       "71"
      ],
      "text/latex": [
       "71"
      ],
      "text/markdown": [
       "71"
      ],
      "text/plain": [
       "[1] 71"
      ]
     },
     "metadata": {},
     "output_type": "display_data"
    },
    {
     "data": {
      "text/html": [
       "28.0252002148512"
      ],
      "text/latex": [
       "28.0252002148512"
      ],
      "text/markdown": [
       "28.0252002148512"
      ],
      "text/plain": [
       "[1] 28.0252"
      ]
     },
     "metadata": {},
     "output_type": "display_data"
    }
   ],
   "source": [
    "# podíváme se na velikost souboru a směrodatnou odchylku\n",
    "length(A_tok5OP)\n",
    "smer_odch <- sd(A_tok5OP)\n",
    "smer_odch\n"
   ]
  },
  {
   "cell_type": "code",
   "execution_count": 135,
   "id": "6fbb4f86",
   "metadata": {
    "vscode": {
     "languageId": "r"
    }
   },
   "outputs": [
    {
     "data": {
      "text/html": [
       "28.1"
      ],
      "text/latex": [
       "28.1"
      ],
      "text/markdown": [
       "28.1"
      ],
      "text/plain": [
       "[1] 28.1"
      ]
     },
     "metadata": {},
     "output_type": "display_data"
    }
   ],
   "source": [
    "# na 3 platné cifry, tedy na jedno desetinné místo\n",
    "ceiling(smer_odch * 10) / 10"
   ]
  },
  {
   "cell_type": "code",
   "execution_count": 136,
   "id": "ad2777f3",
   "metadata": {
    "vscode": {
     "languageId": "r"
    }
   },
   "outputs": [
    {
     "data": {
      "text/html": [
       "799.776056338028"
      ],
      "text/latex": [
       "799.776056338028"
      ],
      "text/markdown": [
       "799.776056338028"
      ],
      "text/plain": [
       "[1] 799.7761"
      ]
     },
     "metadata": {},
     "output_type": "display_data"
    }
   ],
   "source": [
    "prumer <- mean(A_tok5OP)\n",
    "prumer\n"
   ]
  },
  {
   "cell_type": "code",
   "execution_count": 137,
   "id": "d87afae2",
   "metadata": {
    "vscode": {
     "languageId": "r"
    }
   },
   "outputs": [
    {
     "data": {
      "text/html": [
       "799.8"
      ],
      "text/latex": [
       "799.8"
      ],
      "text/markdown": [
       "799.8"
      ],
      "text/plain": [
       "[1] 799.8"
      ]
     },
     "metadata": {},
     "output_type": "display_data"
    }
   ],
   "source": [
    "round(prumer, digits = 1)\n"
   ]
  }
 ],
 "metadata": {
  "kernelspec": {
   "display_name": "R",
   "language": "R",
   "name": "ir"
  },
  "language_info": {
   "codemirror_mode": "r",
   "file_extension": ".r",
   "mimetype": "text/x-r-source",
   "name": "R",
   "pygments_lexer": "r",
   "version": "4.3.2"
  }
 },
 "nbformat": 4,
 "nbformat_minor": 5
}
