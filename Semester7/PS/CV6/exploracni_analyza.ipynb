{
 "cells": [
  {
   "cell_type": "markdown",
   "id": "b6219073",
   "metadata": {},
   "source": [
    " # Cvičení 6. Preprocesing dat a explorační analýza \n",
    " ## Michal Béreš, Adéla Vrtková, Martina Litschmannová\n",
    " ---"
   ]
  },
  {
   "cell_type": "markdown",
   "id": "540ecd41",
   "metadata": {},
   "source": [
    " # 1. Rozšiřující balíčky funkcí - instalace a načítání"
   ]
  },
  {
   "cell_type": "code",
   "execution_count": null,
   "id": "740ac111",
   "metadata": {
    "vscode": {
     "languageId": "r"
    }
   },
   "outputs": [],
   "source": [
    "# Instalování balíčků nutné pouze jednou (pokud je již nemáte)\n",
    "# install.packages(\"readxl\")\n",
    "# install.packages(\"dplyr\")\n",
    "# install.packages(\"openxlsx\")\n"
   ]
  },
  {
   "cell_type": "code",
   "execution_count": null,
   "id": "08d77491",
   "metadata": {
    "vscode": {
     "languageId": "r"
    }
   },
   "outputs": [],
   "source": [
    "# Načtení balíčku (nutno opakovat při každém novém spuštění Rka, vhodné mít na začátku skriptu, pro kontrolu\n",
    "# co všechno se používá)\n",
    "\n",
    "library(dplyr) # balíček pro manipulaci s daty\n",
    "\n",
    "# výpis obsahuje upozornění na přepsané funkce případně na starší verzi balíčku"
   ]
  },
  {
   "cell_type": "markdown",
   "id": "a3cccb67",
   "metadata": {},
   "source": [
    "Právě kvůli maskování (přepisování existujících funkcí) je dobré omezit kompletní načtení balíčků na minimum.\n",
    "\n",
    "Často potřebujeme pouze jednu funkci z balíčku, pak lze tato funkce načíst pomocí `::`.\n",
    "\n",
    "Ukážeme si později."
   ]
  },
  {
   "cell_type": "markdown",
   "id": "9faf3130",
   "metadata": {},
   "source": [
    "---\n"
   ]
  },
  {
   "cell_type": "markdown",
   "id": "9e79b7bf",
   "metadata": {},
   "source": [
    "# 2. Pracovní adresář (working directory) - odkud načítáme a kam ukládáme data\n",
    "- Pozor aktuální otevřená složka v Rstudiu, případně umístění Rskriptu není automaticky pracovní adresář!"
   ]
  },
  {
   "cell_type": "code",
   "execution_count": null,
   "id": "1882d279",
   "metadata": {
    "vscode": {
     "languageId": "r"
    }
   },
   "outputs": [],
   "source": [
    "# Výpis pracovního adresáře\n",
    "getwd()\n"
   ]
  },
  {
   "cell_type": "code",
   "execution_count": null,
   "id": "60bd7580",
   "metadata": {
    "vscode": {
     "languageId": "r"
    }
   },
   "outputs": [],
   "source": [
    "# Nastavení pracovního adresáře -> do uvozovek, celou cestu (relativní nebo absolutní)\n",
    "setwd(\"./data\")\n"
   ]
  },
  {
   "cell_type": "code",
   "execution_count": null,
   "id": "b318736c",
   "metadata": {
    "vscode": {
     "languageId": "r"
    }
   },
   "outputs": [],
   "source": [
    "getwd() # kde jsme teď\n"
   ]
  },
  {
   "cell_type": "code",
   "execution_count": null,
   "id": "e37586e9",
   "metadata": {
    "vscode": {
     "languageId": "r"
    }
   },
   "outputs": [],
   "source": [
    "setwd(\"./..\") # zase zpátky\n"
   ]
  },
  {
   "cell_type": "code",
   "execution_count": null,
   "id": "aaef208c",
   "metadata": {
    "vscode": {
     "languageId": "r"
    }
   },
   "outputs": [],
   "source": [
    "getwd() # kontrola\n"
   ]
  },
  {
   "cell_type": "markdown",
   "id": "1f297ba5",
   "metadata": {},
   "source": [
    "---\n"
   ]
  },
  {
   "cell_type": "markdown",
   "id": "8a9e8127",
   "metadata": {},
   "source": [
    "# 3. Načítání datových souborů\n",
    "\n",
    "- pro ověření správnosti načtení budeme použífat funkci `head()` která vypíše prvních 6 řádků datového souboru"
   ]
  },
  {
   "cell_type": "markdown",
   "id": "78e56a5e",
   "metadata": {},
   "source": [
    "### a) Ze souboru CSV\n",
    "Základní funkce - `read.table`, `read.csv`, `read.csv2`, ...\n",
    "\n",
    "Záleží hlavně na formátu souboru (.txt, .csv), na tzv. oddělovači jednotlivých hodnot, desetinné čárce/tečce, ..."
   ]
  },
  {
   "cell_type": "code",
   "execution_count": null,
   "id": "8ea93e05",
   "metadata": {
    "vscode": {
     "languageId": "r"
    }
   },
   "outputs": [],
   "source": [
    "# pro data oddělené středníkem lze použít read.csv2 s defaultním nastavením\n",
    "# načteme data relativně k aktuálnímu adresáři, tedy ze složky data\n",
    "data <- read.csv2(file = \"./data/zarovky.csv\")\n",
    "head(data)"
   ]
  },
  {
   "cell_type": "code",
   "execution_count": null,
   "id": "f47d209e",
   "metadata": {
    "scrolled": true,
    "vscode": {
     "languageId": "r"
    }
   },
   "outputs": [],
   "source": [
    "# pokud má soubor jiný formát, lze upravit parametry načítání\n",
    "data <- read.csv2(file = \"./data/zarovky.csv\", sep = \";\", quote = \"\", skip = 0, header = TRUE)\n",
    "head(data)\n"
   ]
  },
  {
   "cell_type": "code",
   "execution_count": null,
   "id": "d3a7a14d",
   "metadata": {
    "vscode": {
     "languageId": "r"
    }
   },
   "outputs": [],
   "source": [
    "# cesta souboru může být relativní, absulutní nebo lze použít i URL\n",
    "# data <- read.csv2(file = \"C:/Users/username/Documents/aku.csv\")\n",
    "# data <- read.csv2(file = \"./data/aku.csv\")\n",
    "# data <- read.csv2(file = \"http://am-nas.vsb.cz/lit40/DATA/aku.csv\")\n"
   ]
  },
  {
   "cell_type": "markdown",
   "id": "c0dcf13d",
   "metadata": {},
   "source": [
    "### b) z Excelu (souboru xlsx)\n",
    "K načtení/uložení datového souboru ve formátu xlsx použijeme funkci z balíčku `readxl`\n",
    "- konkrétně funkci `readxl::read_excel()`"
   ]
  },
  {
   "cell_type": "code",
   "execution_count": null,
   "id": "328c6686",
   "metadata": {
    "vscode": {
     "languageId": "r"
    }
   },
   "outputs": [],
   "source": [
    "# při načítání dat z Excelu si sice nemusíme dělat starosti s oddělovači a formátem čísel\n",
    "# musíme však specifikovat který list chceme načíst a případně kolik řádků od začátku chceme přeskočit\n",
    "data <- readxl::read_excel(\"./data/zarovky.xlsx\", sheet = \"Data\", skip = 3)\n",
    "head(data)"
   ]
  },
  {
   "cell_type": "markdown",
   "id": "00f2d426",
   "metadata": {},
   "source": [
    "### c) Odstranění nepotřebných sloupců a jejich přejmenování pro snadnější adresování dat"
   ]
  },
  {
   "cell_type": "code",
   "execution_count": null,
   "id": "4bc97d08",
   "metadata": {
    "vscode": {
     "languageId": "r"
    }
   },
   "outputs": [],
   "source": [
    "# indexování se zápornými indexy vrátí vše kromě hodnoty indexů\n",
    "# nelze míchat záporné a kladné indexy!\n",
    "data <- data[, -1] # odstraníme první sloupec s indexy\n",
    "head(data)\n"
   ]
  },
  {
   "cell_type": "code",
   "execution_count": null,
   "id": "47f3946b",
   "metadata": {
    "vscode": {
     "languageId": "r"
    }
   },
   "outputs": [],
   "source": [
    "# Přejmenování sloupců (obecně diakritika a mezery v názvech sloupců komplikují práci)\n",
    "colnames(data) <- c(\"A5\", \"B5\", \"C5\", \"D5\", \"A22\", \"B22\", \"C22\", \"D22\")\n",
    "head(data)\n"
   ]
  },
  {
   "cell_type": "markdown",
   "id": "84458612",
   "metadata": {},
   "source": [
    "**Poznámka:**\n",
    "\n",
    "V R jsou aktuálně dva formáty reprezentace tabulek: `data.frame` a `tibble`.\n",
    "\n",
    "Objekt importovaný touto cestou bude v novém RStudiu jako typ \"tibble\".\n",
    "\n",
    "Jedná se o modernější \"data.frame\" a v některých funkcích může dělat problémy a házet errory!\n",
    "Jednoduše lze tento objekt převést na typ data.frame pomocí **as.data.frame()**"
   ]
  },
  {
   "cell_type": "markdown",
   "id": "1dad37c8",
   "metadata": {},
   "source": [
    "---"
   ]
  },
  {
   "cell_type": "markdown",
   "id": "06e5787b",
   "metadata": {},
   "source": [
    "# 4. Standardní datový formát (a převod do něj)\n",
    "\n",
    "Standardní datový formát (v **R** tzv. *\"long format\"*) se vyznačuje tím, že:\n",
    "\n",
    "- **Každý řádek tabulky obsahuje jednu pozorovanou entitu**, například:\n",
    "  - jednoho pacienta,\n",
    "  - jednu žárovku,\n",
    "  - jednoho studenta, atd.\n",
    "  \n",
    "  To znamená, že data o produktech dvou firem **nemohou** být v jednom řádku – místo toho se přidá samostatný sloupec s identifikátorem firmy.\n",
    "\n",
    "- **V jednom sloupci jsou vždy data jednoho typu**:\n",
    "  - Je vhodné mít **jeden samostatný sloupec pro `id` entity** (například pro odstranění odlehlých pozorování). Například pomocí: ```data$id <- seq_along(data$...)``` nebo s pomocí balíčku `dplyr` a funkce `mutate()`: ```data <- data %>% mutate(id = row_number())```\n"
   ]
  },
  {
   "cell_type": "markdown",
   "id": "fb86899f",
   "metadata": {},
   "source": [
    "### a) Základní převod jednoduché datové matice do standardního datového formátu - `stack(...)`"
   ]
  },
  {
   "cell_type": "code",
   "execution_count": null,
   "id": "b02f26ed",
   "metadata": {
    "vscode": {
     "languageId": "r"
    }
   },
   "outputs": [],
   "source": [
    "data5 <- data[, 1:4] # z dat vybereme ty sloupce, které odpovídají měřením po 5 cyklech\n",
    "colnames(data5) <- c(\"Amber\", \"Bright\", \"Clear\", \"Dim\") # přejmenujeme sloupce\n",
    "head(data5)\n"
   ]
  },
  {
   "cell_type": "code",
   "execution_count": null,
   "id": "923787a7",
   "metadata": {
    "vscode": {
     "languageId": "r"
    }
   },
   "outputs": [],
   "source": [
    "data5S <- stack(data5) # a převedeme do st. datového formátu\n",
    "head(data5S)\n"
   ]
  },
  {
   "cell_type": "code",
   "execution_count": null,
   "id": "a40dd7d6",
   "metadata": {
    "vscode": {
     "languageId": "r"
    }
   },
   "outputs": [],
   "source": [
    "# přejmenujeme sloupce\n",
    "colnames(data5S) <- c(\"tok5\", \"vyrobce\")\n",
    "\n",
    "# a přidáme slopec is id\n",
    "data5S$id <- seq_along(data5S$tok5)\n",
    "\n",
    "head(data5S)"
   ]
  },
  {
   "cell_type": "markdown",
   "id": "5ba2771d",
   "metadata": {},
   "source": [
    "\n",
    "### b) Z dat ve formátu Datová matice `reshape(...)`"
   ]
  },
  {
   "cell_type": "code",
   "execution_count": null,
   "id": "cf5a56c6",
   "metadata": {
    "vscode": {
     "languageId": "r"
    }
   },
   "outputs": [],
   "source": [
    "data_DM <- readxl::read_excel(\"./data/datova_matice.xlsx\")\n",
    "head(data_DM)\n"
   ]
  },
  {
   "cell_type": "code",
   "execution_count": null,
   "id": "e0cf327d",
   "metadata": {
    "vscode": {
     "languageId": "r"
    }
   },
   "outputs": [],
   "source": [
    "# smažeme první sloupec\n",
    "data_DM <- data_DM[, -1]\n",
    "# přejmenujeme sloupce\n",
    "colnames(data_DM) <- c(\"A22\", \"A5\", \"B22\", \"B5\", \"C22\", \"C5\", \"D22\", \"D5\")\n",
    "head(data_DM)\n"
   ]
  },
  {
   "cell_type": "markdown",
   "id": "25dcb024",
   "metadata": {},
   "source": [
    "#### Funkce `reshape`:  \n",
    "```r\n",
    "reshape(data, direction, varying, v.names, times, timevar)\n",
    "```\n",
    "\n",
    "- **`data`** – Data k převedení musí být ve formátu `data.frame` nebo `tibble`.\n",
    "- **`direction`** – Směr transformace:\n",
    "  - `\"long\"` – převod do standardního formátu (*long format*).\n",
    "  - `\"wide\"` – převod zpět do datové matice (*wide format*).\n",
    "- **`varying`** – Názvy sloupců, které označují stejná data pro různé kategorie:\n",
    "  - Je to **seznam vektorů** (`list`).\n",
    "  - Každá položka listu odpovídá **jednomu měření**.\n",
    "  - Každý vektor obsahuje seznam odpovídajících sloupců.\n",
    "- **`v.names`** – Názvy sloupců ve standardním datovém formátu:\n",
    "  - Počet názvů musí odpovídat počtu vektorů ve `varying`.\n",
    "- **`times`** – Názvy jednotlivých kategorií:\n",
    "  - ⚠ **Musí být ve stejném pořadí jako odpovídající sloupce ve `varying`!**\n",
    "- **`timevar`** – Název sloupce obsahujícího kategorie.\n"
   ]
  },
  {
   "cell_type": "code",
   "execution_count": null,
   "id": "c610e528",
   "metadata": {
    "vscode": {
     "languageId": "r"
    }
   },
   "outputs": [],
   "source": [
    "dataS <- reshape(\n",
    "    data = as.data.frame(data_DM),\n",
    "    direction = \"long\",\n",
    "    varying = list(\n",
    "        c(\"A5\", \"B5\", \"C5\", \"D5\"),\n",
    "        c(\"A22\", \"B22\", \"C22\", \"D22\")\n",
    "    ),\n",
    "    v.names = c(\"tok5\", \"tok22\"),\n",
    "    times = c(\"Amber\", \"Bright\", \"Clear\", \"Dim\"),\n",
    "    timevar = \"vyrobce\"\n",
    ")\n",
    "head(dataS)\n"
   ]
  },
  {
   "cell_type": "markdown",
   "id": "ea4f9743",
   "metadata": {},
   "source": [
    "### c) Z datového souboru, kde jsou kategorie (např. výrobci) v jednotlivých listech Excelu\n",
    "\n",
    "V tomto případě bohužel **nelze využít vestavěnou funkci**, která by provedla operaci automaticky. Musíme to provést ručně následujícím postupem:\n",
    "\n",
    "1. **Načteme všechny listy Excelu** do samostatných proměnných.\n",
    "2. **Ke každé proměnné přidáme sloupec s kategorií** (např. výrobce).\n",
    "3. **Spojíme všechny proměnné do jedné tabulky** pomocí funkce:\n",
    "   ```r\n",
    "   rbind(data1, data2, data3, ...)\n",
    "    ```"
   ]
  },
  {
   "cell_type": "code",
   "execution_count": null,
   "id": "633a22dd",
   "metadata": {
    "vscode": {
     "languageId": "r"
    }
   },
   "outputs": [],
   "source": [
    "# načteme všechny listy do separátních proměnných\n",
    "data_A <- readxl::read_excel(\"./data/po_listech.xlsx\", sheet = 1)\n",
    "head(data_A)\n",
    "data_B <- readxl::read_excel(\"./data/po_listech.xlsx\", sheet = 2)\n",
    "data_C <- readxl::read_excel(\"./data/po_listech.xlsx\", sheet = 3)\n",
    "data_D <- readxl::read_excel(\"./data/po_listech.xlsx\", sheet = 4)\n"
   ]
  },
  {
   "cell_type": "code",
   "execution_count": null,
   "id": "dd846b6d",
   "metadata": {
    "vscode": {
     "languageId": "r"
    }
   },
   "outputs": [],
   "source": [
    "# přidáme sloupec s výrobcem\n",
    "data_A$vyrobce <- \"Amber\"\n",
    "data_B$vyrobce <- \"Bright\"\n",
    "data_C$vyrobce <- \"Clear\"\n",
    "data_D$vyrobce <- \"Dim\"\n",
    "head(data_A)\n"
   ]
  },
  {
   "cell_type": "code",
   "execution_count": null,
   "id": "1b001c67",
   "metadata": {
    "vscode": {
     "languageId": "r"
    }
   },
   "outputs": [],
   "source": [
    "# sloučíme všechny listy do jednoho pomocí rbind\n",
    "# v prvním sloupci je sice id, ale je jen vůči danému listu, ne vůči celé tabulce\n",
    "dataS2 <- rbind(data_A, data_B, data_C, data_D)\n",
    "dataS2 <- dataS2[, -1]\n",
    "tail(dataS2)\n"
   ]
  },
  {
   "cell_type": "code",
   "execution_count": null,
   "id": "95c155a8",
   "metadata": {
    "vscode": {
     "languageId": "r"
    }
   },
   "outputs": [],
   "source": [
    "# přejmenujeme sloupce\n",
    "colnames(dataS2) <- c(\"tok5\", \"tok22\", \"vyrobce\")\n",
    "# přidáme sloupec s id\n",
    "dataS2$id <- seq_along(dataS2$tok5)\n",
    "head(dataS2)"
   ]
  },
  {
   "cell_type": "markdown",
   "id": "b0e566ee",
   "metadata": {},
   "source": [
    "---\n"
   ]
  },
  {
   "cell_type": "markdown",
   "id": "23e7b75a",
   "metadata": {},
   "source": [
    "# 5. Knihovna Dplyr\n"
   ]
  },
  {
   "cell_type": "markdown",
   "id": "af94d1b8",
   "metadata": {},
   "source": [
    "### a) Přehled funkcí knihovny `dplyr`\n",
    "\n",
    "- **`%>%`** je tzv. pipe operátor. Typické využití je ve tvaru:\n",
    "  ```r\n",
    "  res = data %>% operace\n",
    "  ```\n",
    "  kde výsledkem je aplikovaná operace na `data`.\n",
    "    - v Rstudio lze zapsat jako `Ctrl + Shift + M`\n",
    "\n",
    "- **`select(...)`** slouží k výběru sloupců v datovém rámci:\n",
    "  - `select(1)` – vybere první sloupec.\n",
    "  - `select(A5)` – vybere sloupec se jménem `A5`.\n",
    "  - `select(1,3,5)` – vybere sloupce 1, 3 a 5.\n",
    "\n",
    "- **`mutate(novy_sloupec = ...)`** vytvoří v datovém rámci nový sloupec pomocí výpočtu nad existujícími sloupci:\n",
    "  ```r\n",
    "  data %>% mutate(C = A - B)\n",
    "  ```\n",
    "  Tento příkaz vytvoří v datovém rámci `data` nový sloupec `C` jako rozdíl hodnot ve stávajících sloupcích `A` a `B`.\n",
    "\n",
    "- **`filter(...)`** vyfiltruje záznamy splňující zadané podmínky:\n",
    "  - `data %>% filter(vyrobce == \"A\" | vyrobce == \"B\")`  \n",
    "    Vrátí datový rámec, kde sloupec `vyrobce` obsahuje pouze hodnoty `\"A\"` nebo `\"B\"`.\n",
    "  - `data %>% filter(vyrobce == \"A\", hodnoty > 1000)`  \n",
    "    Pokud jsou podmínky odděleny čárkou, chápeme je jako **\"a zároveň\"**.\n",
    "\n",
    "- **`summarise(...)`** vypočítá číselné charakteristiky v rámci zadaných sloupců (vhodné pro kombinaci s `group_by`):\n",
    "  ```r\n",
    "  data %>% summarise(prum = mean(kap5), median = median(kap5))\n",
    "  ```\n",
    "\n",
    "- **`arrange(...)`** seřadí řádky vzestupně nebo sestupně:\n",
    "  - `data %>% arrange(pokles)` – vzestupné řazení.\n",
    "  - `data %>% arrange(desc(pokles))` – sestupné řazení.\n",
    "\n",
    "- **`group_by(...)`** seskupí data podle unikátních hodnot v zadaném sloupci:\n",
    "  ```r\n",
    "  data %>% group_by(vyrobce)\n",
    "  ```\n",
    "\n",
    "Velice užitečný `dplyr` cheat sheet naleznete zde:  \n",
    "[Data Transformation Cheat Sheet](https://github.com/rstudio/cheatsheets/raw/main/data-transformation.pdf)"
   ]
  },
  {
   "cell_type": "markdown",
   "id": "f8a15af5",
   "metadata": {},
   "source": [
    "### b) Výběry sloupců"
   ]
  },
  {
   "cell_type": "code",
   "execution_count": null,
   "id": "45ae19d1",
   "metadata": {
    "vscode": {
     "languageId": "r"
    }
   },
   "outputs": [],
   "source": [
    "# budeme pracovat s daty, které jsme připravili\n",
    "head(data)\n"
   ]
  },
  {
   "cell_type": "code",
   "execution_count": null,
   "id": "7dbfc90d",
   "metadata": {
    "vscode": {
     "languageId": "r"
    }
   },
   "outputs": [],
   "source": [
    "# pomocí funkce select balíčku dplyr, která vybere zvolené sloupce\n",
    "res <- data %>% select(C5)\n",
    "head(res)"
   ]
  },
  {
   "cell_type": "code",
   "execution_count": null,
   "id": "139ab551",
   "metadata": {
    "vscode": {
     "languageId": "r"
    }
   },
   "outputs": [],
   "source": [
    "# Uložení prvního a pátého sloupce dat. rámce data do dat. rámce pokus\n",
    "pokus <- data %>% select(1, 5)\n",
    "head(pokus)\n"
   ]
  },
  {
   "cell_type": "code",
   "execution_count": null,
   "id": "515ff1aa",
   "metadata": {
    "vscode": {
     "languageId": "r"
    }
   },
   "outputs": [],
   "source": [
    "# nebo pomocí názvů sloupců\n",
    "pokus <- data %>% select(A5, A22)\n",
    "head(pokus)\n"
   ]
  },
  {
   "cell_type": "markdown",
   "id": "ef58ab02",
   "metadata": {},
   "source": [
    "### c) Vylučování dat ze souboru (pomocí záporných indexů)\n"
   ]
  },
  {
   "cell_type": "code",
   "execution_count": null,
   "id": "6ec027d4",
   "metadata": {
    "vscode": {
     "languageId": "r"
    }
   },
   "outputs": [],
   "source": [
    "# nebo pomocí dplyr\n",
    "pokus <- data %>% select(-1, -5)\n",
    "head(pokus)\n"
   ]
  },
  {
   "cell_type": "code",
   "execution_count": null,
   "id": "ddf0b80a",
   "metadata": {
    "vscode": {
     "languageId": "r"
    }
   },
   "outputs": [],
   "source": [
    "# nebo pomocí názvů\n",
    "pokus <- data %>% select(-A5, -A22)\n",
    "head(pokus)\n"
   ]
  },
  {
   "cell_type": "markdown",
   "id": "5bae3e3f",
   "metadata": {},
   "source": [
    "### d) Práce s daty ve standardním datovém formátu"
   ]
  },
  {
   "cell_type": "code",
   "execution_count": null,
   "id": "0bba0046",
   "metadata": {
    "vscode": {
     "languageId": "r"
    }
   },
   "outputs": [],
   "source": [
    "# budeme používat dříve vyrobený datový rámec dataS\n",
    "head(dataS)"
   ]
  },
  {
   "cell_type": "markdown",
   "id": "8b1ebaad",
   "metadata": {},
   "source": [
    "\n",
    "#### Definování nových sloupců (`mutate`)"
   ]
  },
  {
   "cell_type": "code",
   "execution_count": null,
   "id": "2540cd4d",
   "metadata": {
    "vscode": {
     "languageId": "r"
    }
   },
   "outputs": [],
   "source": [
    "# vytvoříme nový sloupec pokles, který bude obsahovat rozdíl mezi hodnotami tok22 a tok5\n",
    "dataS <- dataS %>% mutate(pokles = tok22 - tok5)\n",
    "head(dataS)\n",
    "\n",
    "# pozor! pokud výsledek s nový sloupcem nikam neuložíme, tak se pouze vypíše a zmizí\n"
   ]
  },
  {
   "cell_type": "markdown",
   "id": "9b918e4a",
   "metadata": {},
   "source": [
    "#### Vybírání řádků a sloupců (`filter` a `select`) "
   ]
  },
  {
   "cell_type": "code",
   "execution_count": null,
   "id": "6321e04b",
   "metadata": {
    "vscode": {
     "languageId": "r"
    }
   },
   "outputs": [],
   "source": [
    "# filter - vybere / vyfiltruje řádky na základě daných podmínek\n",
    "# Výběr výrobků od výrobce Amber\n",
    "res <- dataS %>% filter(vyrobce == \"Amber\")\n",
    "tail(res)"
   ]
  },
  {
   "cell_type": "code",
   "execution_count": null,
   "id": "1a3c98b1",
   "metadata": {
    "vscode": {
     "languageId": "r"
    }
   },
   "outputs": [],
   "source": [
    "# Výběr výrobků od výrobce Amber nebo Bright\n",
    "# | oddělující podmínky odpovídá logickému \"nebo\"\n",
    "res <- dataS %>% filter(vyrobce == \"Amber\" | vyrobce == \"Bright\")\n",
    "tail(res)"
   ]
  },
  {
   "cell_type": "code",
   "execution_count": null,
   "id": "6db27d7c",
   "metadata": {
    "vscode": {
     "languageId": "r"
    }
   },
   "outputs": [],
   "source": [
    "# Výběr všech výrobků s poklesem o 5 Lumenů a větším od výrobce Clear\n",
    "# čárka oddělující podmínky odpovídá logickému \"a zároveň\"\n",
    "res <- dataS %>% filter(pokles >= 5, vyrobce == \"Clear\")\n",
    "res"
   ]
  },
  {
   "cell_type": "code",
   "execution_count": null,
   "id": "58b20045",
   "metadata": {
    "vscode": {
     "languageId": "r"
    }
   },
   "outputs": [],
   "source": [
    "# chcemeli světelný tok při 5°C výrobce Amber\n",
    "# nejprve vyfiltrujeme řádky pro Amber a pak vybereme sloupec tok5\n",
    "a5 <- dataS %>% filter(vyrobce == \"Amber\") %>% select(tok5)\n",
    "head(a5)\n"
   ]
  },
  {
   "cell_type": "markdown",
   "id": "ddf66835",
   "metadata": {},
   "source": [
    "#### generování souhrných charakteristik (`summarise`)\n",
    "Sílu tohoto nástroje oceníme zejména v kombinaci s group_by."
   ]
  },
  {
   "cell_type": "code",
   "execution_count": null,
   "id": "cca73c5c",
   "metadata": {
    "vscode": {
     "languageId": "r"
    }
   },
   "outputs": [],
   "source": [
    "# Výpočet průměru a mediánu všech hodnot proměnné kap5\n",
    "dataS %>% summarise(prum = mean(tok5), median = median(tok5))\n"
   ]
  },
  {
   "cell_type": "markdown",
   "id": "a2180031",
   "metadata": {},
   "source": [
    "#### seskupí hodnot do skupin podle zvolené proměnné (`group_by`)\n",
    "- Výsledkem je tzv. `grouped_df` (tibble), který obsahuje informace o seskupení.\n",
    "- Jedná se zejména o mezioperace, které nám umožní provádět další operace nad seskupenými daty."
   ]
  },
  {
   "cell_type": "code",
   "execution_count": null,
   "id": "01e8a320",
   "metadata": {
    "vscode": {
     "languageId": "r"
    }
   },
   "outputs": [],
   "source": [
    "# tabulka je \"virtuálně\" rozdělená na skupiny pro pozdější zpracování např. summarise\n",
    "res <- dataS %>% group_by(vyrobce)\n",
    "head(res)"
   ]
  },
  {
   "cell_type": "code",
   "execution_count": null,
   "id": "e82db7bf",
   "metadata": {
    "vscode": {
     "languageId": "r"
    }
   },
   "outputs": [],
   "source": [
    "# Ideální pro spočítání sumárních charakteristik pro každého výrobce zvlášť, např. průměru\n",
    "dataS %>%\n",
    "  group_by(vyrobce) %>%\n",
    "  summarise(prum = mean(tok5), \"směrodatná odchylka\" = sd(tok5))\n"
   ]
  },
  {
   "cell_type": "markdown",
   "id": "2ec63027",
   "metadata": {},
   "source": [
    "#### setřízení dat (`arrange`)"
   ]
  },
  {
   "cell_type": "code",
   "execution_count": null,
   "id": "f3b94668",
   "metadata": {
    "vscode": {
     "languageId": "r"
    }
   },
   "outputs": [],
   "source": [
    "# Vzestupné a sestupné seřazení řádků podle hodnoty poklesu\n",
    "res <- dataS %>% arrange(pokles)\n",
    "\n",
    "head(res)\n",
    "tail(res)"
   ]
  },
  {
   "cell_type": "code",
   "execution_count": null,
   "id": "eb0669dd",
   "metadata": {
    "vscode": {
     "languageId": "r"
    }
   },
   "outputs": [],
   "source": [
    "# případně sestupně\n",
    "res <- dataS %>% arrange(desc(pokles))\n",
    "head(res)\n",
    "tail(res)"
   ]
  },
  {
   "cell_type": "markdown",
   "id": "c8dac59b",
   "metadata": {},
   "source": [
    "---"
   ]
  },
  {
   "cell_type": "markdown",
   "id": "eb48f82c",
   "metadata": {},
   "source": [
    "# 6. Explorační analýza a vizualizace kategoriální proměnné\n"
   ]
  },
  {
   "cell_type": "markdown",
   "id": "cd6c7d9e",
   "metadata": {},
   "source": [
    "### a) Absolutní a relativní četnosti kategoriální proměnné\n",
    "- **`table()`** – vytvoří tabulku absolutních četností kategoriální proměnné ze sloupce datového rámce podle unikátních hodnot.\n",
    "- lze i pomocí knihovny `dplyr`:\n",
    "    - ```r\n",
    "      data %>% count(vyrobce)\n",
    "      ``` \n",
    "      nebo\n",
    "    - ```r\n",
    "      data %>% group_by(vyrobce) %>% summarise(n = n())\n",
    "      ```"
   ]
  },
  {
   "cell_type": "code",
   "execution_count": null,
   "id": "5f47eb9f",
   "metadata": {
    "vscode": {
     "languageId": "r"
    }
   },
   "outputs": [],
   "source": [
    "# Tabulka absolutních četností kategoriální proměnné výrobce...\n",
    "cetnosti <- table(dataS$vyrobce)\n",
    "cetnosti # výpis - objekt typu \"table\" - většinou vhodnější, ale těžší převedení do typu data.frame\n"
   ]
  },
  {
   "cell_type": "markdown",
   "id": "a3624bdf",
   "metadata": {},
   "source": [
    "**Tabulka relativních četností pomocí `prop.table()`**\n"
   ]
  },
  {
   "cell_type": "code",
   "execution_count": null,
   "id": "04b53b44",
   "metadata": {
    "vscode": {
     "languageId": "r"
    }
   },
   "outputs": [],
   "source": [
    "rel.cetnosti <- prop.table(cetnosti)\n",
    "rel.cetnosti # výpis\n"
   ]
  },
  {
   "cell_type": "markdown",
   "id": "8cbb7651",
   "metadata": {},
   "source": [
    "U tabulek relativních četností je potřeba pohlídat zaokrouhlení a s ním spojené riziko zaokrouhlovací chyby."
   ]
  },
  {
   "cell_type": "code",
   "execution_count": null,
   "id": "a165daba",
   "metadata": {
    "vscode": {
     "languageId": "r"
    }
   },
   "outputs": [],
   "source": [
    "rel.cetnosti <- round(rel.cetnosti, digits = 3) # zaokrouhlení na 3 desetinná místa\n",
    "rel.cetnosti[4] <- 1 - sum(rel.cetnosti[1:3]) # ohlídání zaokrouhlovací chyby\n",
    "rel.cetnosti\n"
   ]
  },
  {
   "cell_type": "markdown",
   "id": "de752a10",
   "metadata": {},
   "source": [
    "\n",
    "### b) Vizualizace pomocí sloupcového grafu"
   ]
  },
  {
   "cell_type": "code",
   "execution_count": null,
   "id": "e1ceaf10",
   "metadata": {
    "vscode": {
     "languageId": "r"
    }
   },
   "outputs": [],
   "source": [
    "# Sloupcový graf\n",
    "barplot(cetnosti)\n"
   ]
  },
  {
   "cell_type": "code",
   "execution_count": null,
   "id": "96c89ae7",
   "metadata": {
    "vscode": {
     "languageId": "r"
    }
   },
   "outputs": [],
   "source": [
    "# lze i pro relativní četnosti, také má funkce mnoho dalších parametrů\n",
    "barplot(rel.cetnosti,\n",
    "        col = heat.colors(4), # alt. může být volen vektor konkrétních barev, např. c(\"blue\",\"yellow,\"red\",\"green\")\n",
    "        # nebo jiné škály (heat.colors, topo.colors, terrain.colors a mnoho dalších)\n",
    "        main = \"Zastoupení výrobců ve výběru\", # nadpis grafu\n",
    "        space = 0.5, # parametr space vytvoří mezeru mezi sloupci\n",
    "        xlab = \"Výrobce\", # popisek osy x\n",
    "        ylab = \"Relativní četnost\" # popisek osy y\n",
    ")\n"
   ]
  },
  {
   "cell_type": "markdown",
   "id": "f15c1a51",
   "metadata": {},
   "source": [
    "**Graf lze uložit v podobě obrázku následovně:**"
   ]
  },
  {
   "cell_type": "code",
   "execution_count": null,
   "id": "93dd08f0",
   "metadata": {
    "vscode": {
     "languageId": "r"
    }
   },
   "outputs": [],
   "source": [
    "# uložení grafu\n",
    "png(\"barplot.png\") # název souboru\n",
    "barplot(rel.cetnosti)\n",
    "dev.off() # ukončení zápisu a uložení na disk\n"
   ]
  },
  {
   "cell_type": "markdown",
   "id": "73f2ea8d",
   "metadata": {},
   "source": [
    "**A v podobě PDF:**\n"
   ]
  },
  {
   "cell_type": "code",
   "execution_count": null,
   "id": "c6b7fcbe",
   "metadata": {
    "vscode": {
     "languageId": "r"
    }
   },
   "outputs": [],
   "source": [
    "# uložení grafu do pdf, pozor na diaktitiku a kódování\n",
    "pdf(\"barplot.pdf\", encoding = \"ISOLatin2\") # název souboru\n",
    "barplot(rel.cetnosti)\n",
    "dev.off() # ukončení zápisu a uložení na disk\n"
   ]
  },
  {
   "cell_type": "markdown",
   "id": "c1f3a111",
   "metadata": {},
   "source": [
    "---\n"
   ]
  },
  {
   "cell_type": "markdown",
   "id": "34c0cc8e",
   "metadata": {},
   "source": [
    "# 7. Explorační analýza a vizualizace kvantitativní proměnné"
   ]
  },
  {
   "cell_type": "markdown",
   "id": "46741dd8",
   "metadata": {},
   "source": [
    "### a) Základní deskriptivní statistiky kvantitativní proměnné\n",
    "- **průměr** pomocí `mean()` (pozor na chybějící hodnoty, dají se ignorovat pomocí `na.rm = TRUE`)\n",
    "- **medián** pomocí `median()`\n",
    "- **rozptyl** pomocí `var()`\n",
    "- **směrodatná odchylka** pomocí `sd()`\n",
    "- **kvantily** pomocí `quantile()` (např. `quantile(data$kap5, c(0.25, 0.75))`)\n",
    "- **velikost výběru** pomocí `length()`\n",
    "- **variační koeficient** pomocí `sd()/mean()*100`\n",
    "- **interkvartilové rozpětí** pomocí `IQR()`\n",
    "- **vnitřní hradby** pomocí `quantile() +/- 1.5*IQR()`\n",
    "- **šikmost** pomocí `monents::skewness()`\n",
    "- **špičatost** pomocí `moments::kurtosis() - 3` (Pozor na normalizaci!)\n",
    "\n",
    "\n",
    "**pozor na chybějící hodnoty, dají se ignorovat pomocí `na.rm = TRUE`**\n"
   ]
  },
  {
   "cell_type": "code",
   "execution_count": null,
   "id": "e3f3b699",
   "metadata": {
    "vscode": {
     "languageId": "r"
    }
   },
   "outputs": [],
   "source": [
    "# výpočty popisné statistiky pro proměnnou tok5 (pro všechny výrobce)\n",
    "mean(dataS$tok5, na.rm = TRUE) # průměr\n",
    "median(dataS$tok5, na.rm = TRUE) # medián\n",
    "var(dataS$tok5, na.rm = TRUE) # rozptyl\n",
    "sd(dataS$tok5, na.rm = TRUE) # směrodatná odchylka\n",
    "quantile(dataS$tok5, probs = c(0.25, 0.75), na.rm = TRUE) # kvartily\n",
    "length(dataS$tok5) # počet hodnot (pozor jsou včetně NA)\n",
    "length(dataS$tok5[!is.na(dataS$tok5)]) # počet hodnot bez NA\n",
    "sd(dataS$tok5, na.rm = TRUE) / mean(dataS$tok5, na.rm = TRUE) * 100 # variační koeficient\n",
    "IQR(dataS$tok5, na.rm = TRUE) # interkvartilové rozpětí\n",
    "quantile(dataS$tok5, 0.25, na.rm = TRUE) - 1.5 * IQR(dataS$tok5, na.rm = TRUE) # dolní mez vnitřních hradeb\n",
    "quantile(dataS$tok5, 0.75, na.rm = TRUE) + 1.5 * IQR(dataS$tok5, na.rm = TRUE) # horní mez vnitřních hradeb\n",
    "moments::skewness(dataS$tok5, na.rm = TRUE) # šikmost\n",
    "moments::kurtosis(dataS$tok5, na.rm = TRUE) - 3 # špičatost"
   ]
  },
  {
   "cell_type": "markdown",
   "id": "567facd7",
   "metadata": {},
   "source": [
    "**Totéž lze udělat pomocí knihovny `dplyr`**"
   ]
  },
  {
   "cell_type": "code",
   "execution_count": null,
   "id": "58ef91bb",
   "metadata": {
    "vscode": {
     "languageId": "r"
    }
   },
   "outputs": [],
   "source": [
    "tabulka_statistik <- dataS %>% summarise(\n",
    "    prumer = mean(tok5, na.rm = TRUE),\n",
    "    median = median(tok5, na.rm = TRUE),\n",
    "    rozptyl = var(tok5, na.rm = TRUE),\n",
    "    smer.odchylka = sd(tok5, na.rm = TRUE),\n",
    "    dolni.kvartil = quantile(tok5, 0.25, na.rm = TRUE),\n",
    "    horni.kvartil = quantile(tok5, 0.75, na.rm = TRUE),\n",
    "    pocet.radku = n(),\n",
    "    pocet.hodnot.bez.NA = sum(!is.na(tok5)),\n",
    "    var.koeficient = sd(tok5, na.rm = TRUE) / mean(tok5, na.rm = TRUE) * 100,\n",
    "    interkvartilove.rozp = IQR(tok5, na.rm = TRUE),\n",
    "    dolni.mez.vnitrnihradeb = quantile(tok5, 0.25, na.rm = TRUE) - 1.5 * IQR(tok5, na.rm = TRUE),\n",
    "    horni.mez.vnitrnihradeb = quantile(tok5, 0.75, na.rm = TRUE) + 1.5 * IQR(tok5, na.rm = TRUE),\n",
    "    skewness = moments::skewness(tok5, na.rm = TRUE),\n",
    "    kurtosis = moments::kurtosis(tok5, na.rm = TRUE) - 3\n",
    ")\n",
    "t(tabulka_statistik) # transpozice tabulky pro lepší čitelnost"
   ]
  },
  {
   "cell_type": "markdown",
   "id": "403cc914",
   "metadata": {},
   "source": [
    "**A finálně pro každou skupinu zvlášť skrze `group_by`**"
   ]
  },
  {
   "cell_type": "code",
   "execution_count": null,
   "id": "3f812a25",
   "metadata": {
    "vscode": {
     "languageId": "r"
    }
   },
   "outputs": [],
   "source": [
    "tabulka_statistik <- dataS %>%\n",
    "    group_by(vyrobce) %>%\n",
    "    summarise(\n",
    "        prumer = mean(tok5, na.rm = TRUE),\n",
    "        median = median(tok5, na.rm = TRUE),\n",
    "        rozptyl = var(tok5, na.rm = TRUE),\n",
    "        smer.odchylka = sd(tok5, na.rm = TRUE),\n",
    "        dolni.kvartil = quantile(tok5, 0.25, na.rm = TRUE),\n",
    "        horni.kvartil = quantile(tok5, 0.75, na.rm = TRUE),\n",
    "        pocet.radku = n(),\n",
    "        pocet.hodnot.bez.NA = sum(!is.na(tok5)),\n",
    "        var.koeficient = sd(tok5, na.rm = TRUE) / mean(tok5, na.rm = TRUE) * 100,\n",
    "        interkvartilove.rozp = IQR(tok5, na.rm = TRUE),\n",
    "        dolni.mez.vnitrnihradeb = quantile(tok5, 0.25, na.rm = TRUE) - 1.5 * IQR(tok5, na.rm = TRUE),\n",
    "        horni.mez.vnitrnihradeb = quantile(tok5, 0.75, na.rm = TRUE) + 1.5 * IQR(tok5, na.rm = TRUE),\n",
    "        skewness = moments::skewness(tok5, na.rm = TRUE),\n",
    "        kurtosis = moments::kurtosis(tok5, na.rm = TRUE) - 3\n",
    "    )\n",
    "t(tabulka_statistik) # transpozice tabulky pro lepší čitelnost\n"
   ]
  },
  {
   "cell_type": "markdown",
   "id": "4ba90a1e",
   "metadata": {},
   "source": [
    "**Můžeme si třeba vytvořit funkci, co nám takovýto přehled vytvoří pro náš zadaný datový rámec a příslušné třízení + data.**"
   ]
  },
  {
   "cell_type": "code",
   "execution_count": null,
   "id": "2b1d58fa",
   "metadata": {
    "vscode": {
     "languageId": "r"
    }
   },
   "outputs": [],
   "source": [
    "statistika_sloupce <- function(data, column_group, column_data) {\n",
    "    `%>%` <- dplyr::`%>%` # Define the pipe operator explicitly\n",
    "\n",
    "    tabulka_statistik <- data %>%\n",
    "        dplyr::group_by({{ column_group }}) %>% # Group by the specified column\n",
    "        dplyr::summarise(\n",
    "            rozsah_souboru = sum(!is.na({{ column_data }})),\n",
    "            minimum = min({{ column_data }}, na.rm = TRUE),\n",
    "            dolni_kvartil = quantile({{ column_data }}, 0.25, na.rm = TRUE),\n",
    "            median = median({{ column_data }}, na.rm = TRUE),\n",
    "            prumer = mean({{ column_data }}, na.rm = TRUE),\n",
    "            horni_kvartil = quantile({{ column_data }}, 0.75, na.rm = TRUE),\n",
    "            maximum = max({{ column_data }}, na.rm = TRUE),\n",
    "            smerodatna_odchylka = sd({{ column_data }}, na.rm = TRUE),\n",
    "            variacni_koeficient = sd({{ column_data }}, na.rm = TRUE) /\n",
    "                mean({{ column_data }}, na.rm = TRUE) * 100,\n",
    "            sikmost = moments::skewness({{ column_data }}, na.rm = TRUE),\n",
    "            spicatost = moments::kurtosis({{ column_data }}, na.rm = TRUE) - 3,\n",
    "            dolni_mez_vnitrni_hradeb = quantile({{ column_data }}, 0.25, na.rm = TRUE) -\n",
    "                1.5 * IQR({{ column_data }}, na.rm = TRUE),\n",
    "            horni_mez_vnitrni_hradeb = quantile({{ column_data }}, 0.75, na.rm = TRUE) +\n",
    "                1.5 * IQR({{ column_data }}, na.rm = TRUE)\n",
    "        )\n",
    "\n",
    "    names_vars <- tabulka_statistik %>% dplyr::pull({{ column_group }})\n",
    "\n",
    "    tabulka_statistik <- tabulka_statistik[, -1] # Remove the grouping column\n",
    "    tabulka_statistik <- as.data.frame(t(tabulka_statistik)) # Transpose for better readability\n",
    "    colnames(tabulka_statistik) <- names_vars # Set column names\n",
    "\n",
    "    return(tabulka_statistik)\n",
    "}\n",
    "\n",
    "tabulka_statistik <- statistika_sloupce(dataS, vyrobce, tok5)\n",
    "tabulka_statistik\n"
   ]
  },
  {
   "cell_type": "markdown",
   "id": "b681ad40",
   "metadata": {},
   "source": [
    "**Může se hodit si takovou tabulku uložit do excelu pomocí `openxlsx::write.xlsx()`:**"
   ]
  },
  {
   "cell_type": "code",
   "execution_count": null,
   "id": "0bf41cb5",
   "metadata": {
    "vscode": {
     "languageId": "r"
    }
   },
   "outputs": [],
   "source": [
    "# export tabulky do excelu (opět transponovaně), bohužel konverze na data.frame je nutná\n",
    "openxlsx::write.xlsx(tabulka_statistik,\n",
    "    file = \"tabulka_statistik.xlsx\",\n",
    "    rowNames = TRUE, # jednotlivé názvy polí jsou rownames\n",
    "    colNames = TRUE # názvy sloupců jsou jednotlivé skupiny\n",
    ")\n"
   ]
  },
  {
   "cell_type": "markdown",
   "id": "06493d3e",
   "metadata": {},
   "source": [
    "### b) Krabicový graf\n",
    "\n",
    "Co na grafu vidíme:\n",
    "- **medián** (čára uvnitř krabice),\n",
    "- **kvartily** (spodní a horní okraj krabice),\n",
    "- **minimální a maximální hodnoty bez odlehlých pozorování** (čárky/whiskers),\n",
    "- **odlehlá pozorování** (body mimo čáry).\n",
    "\n",
    "**Vykreslujeme vždy pro originální data, můžeme doplnit i vykreslení pro data bez OP v případech, kdy byl originální graf příliš roztažený extrémními OP.**"
   ]
  },
  {
   "cell_type": "code",
   "execution_count": null,
   "id": "e6298f35",
   "metadata": {
    "vscode": {
     "languageId": "r"
    }
   },
   "outputs": [],
   "source": [
    "# Jednoduché a rychlé vykreslení pomocí základní funkce pro jeden vektor\n",
    "boxplot(dataS$tok5)\n"
   ]
  },
  {
   "cell_type": "markdown",
   "id": "6699fc4a",
   "metadata": {},
   "source": [
    "#### Vždy když budeme uvádět více boxplotů pro srovnatelná data (například různé skupiny), je ***nutné*** je vykreslit v jednom grafu\n",
    "- vícenásobný boxplot se jednoduše vykreslí pro data ve standardním datovém formátu\n",
    "- syntaxe je pomocí `~`: `boxplot(hodnoty ~ trizeni, data = data)`"
   ]
  },
  {
   "cell_type": "code",
   "execution_count": null,
   "id": "6cee2466",
   "metadata": {
    "vscode": {
     "languageId": "r"
    }
   },
   "outputs": [],
   "source": [
    "# vykreslení vícenásobného krabicového grafu\n",
    "boxplot(tok5 ~ vyrobce, dataS)\n"
   ]
  },
  {
   "cell_type": "code",
   "execution_count": null,
   "id": "314c3985",
   "metadata": {
    "vscode": {
     "languageId": "r"
    }
   },
   "outputs": [],
   "source": [
    "# Při vytváření grafu pro publikace je nutné dodržet určité standardy úpravy\n",
    "\n",
    "boxplot(tok5 ~ vyrobce, dataS,\n",
    "    xlab = \"Výrobce\", # popisek osy x\n",
    "    ylab = \"Světelný tok [lm]\", # popisek osy y\n",
    "    main = \"Světelný tok při 5°C v závislosti na výrobci\" # nadpis grafu (vynechat pokud je součástí textu)\n",
    ")\n",
    "grid() # přidání mřížky do grafu pro snadnější porovnání hodnot"
   ]
  },
  {
   "cell_type": "markdown",
   "id": "74b54fdf",
   "metadata": {},
   "source": [
    "**Samozřejmě můžeme uložit stejným způsobem jako u předchozího sloupcového grafu.**"
   ]
  },
  {
   "cell_type": "code",
   "execution_count": null,
   "id": "3a63c709",
   "metadata": {
    "vscode": {
     "languageId": "r"
    }
   },
   "outputs": [],
   "source": [
    "png(\"boxplot.png\", width = 800, height = 500) # název souboru a velikost grafu v pixelech\n",
    "boxplot(tok5 ~ vyrobce, dataS, xlab = \"Výrobce\", ylab = \"Světelný tok [lm]\")\n",
    "grid()\n",
    "dev.off() # ukončení zápisu a uložení na disk"
   ]
  },
  {
   "cell_type": "code",
   "execution_count": null,
   "id": "1ae628aa",
   "metadata": {
    "vscode": {
     "languageId": "r"
    }
   },
   "outputs": [],
   "source": [
    "# velikost (v palcích) a kódování\n",
    "pdf(\"boxplot.pdf\", width = 8, height = 5, encoding = \"ISOLatin2\")\n",
    "boxplot(tok5 ~ vyrobce, dataS, xlab = \"Výrobce\", ylab = \"Světelný tok [lm]\")\n",
    "grid()\n",
    "dev.off() # ukončení zápisu a uložení na disk"
   ]
  },
  {
   "cell_type": "markdown",
   "id": "9f71f83c",
   "metadata": {},
   "source": [
    "### c) Vnitřní hradby a identifikace odlehlých pozorování\n",
    "- odlehlá pozorování, které jsme viděli i v boxplotu jsou identifikována pomocí vnitřních hradeb\n",
    "- tato pozorování často umí znehodnotit číselné charakteristiky, proto je vhodné se s nimi nějakým způsobem vypořádat\n",
    "- jedním z \"universálních\" způsobů je jejich odstranění\n",
    "\n",
    "Identifikaci odlehlých pozorování budeme provádět pomocí `dplyr` a funkce `rstatix::identify_outliers()`\n",
    "- je třeba aby data byla ve standardním datovém formátu a obsahovala sloupec s identifikátorem entity (např. `id`)\n",
    "- odstranění děláme vždy pro každou skupinu zvlášť!\n",
    "\n",
    "Následné odstranění provedeme pomocí definice nového sloupce, který bude obsahovat pouze data bez odlehlých pozorování. **Tímto způsobem si zachováme původní data!** \n",
    "```\n",
    "data$hodnota_bez_OP <- ifelse(data$id %in% OP$id, NA, data$hodnota)\n",
    "# nebo\n",
    "data <- data %>% mutate(hodnota_bez_OP = ifelse(id %in% OP$id, NA, hodnota))\n",
    "```"
   ]
  },
  {
   "cell_type": "code",
   "execution_count": null,
   "id": "a3da2c3d",
   "metadata": {
    "vscode": {
     "languageId": "r"
    }
   },
   "outputs": [],
   "source": [
    "# data jsou ve standardním formátu\n",
    "# obsahují také sloupec id\n",
    "# kdyby zde nebyl přítomen lze doplnit buďto\n",
    "dataS$id <- seq_along(dataS$tok5)\n",
    "# nebo\n",
    "dataS <- dataS %>% mutate(id = row_number())\n",
    "head(dataS)"
   ]
  },
  {
   "cell_type": "code",
   "execution_count": null,
   "id": "c110280f",
   "metadata": {
    "vscode": {
     "languageId": "r"
    }
   },
   "outputs": [],
   "source": [
    "# pro srovnán vykreslíme oba grafy s i bez OP\n",
    "boxplot(tok5 ~ vyrobce, dataS)\n"
   ]
  },
  {
   "cell_type": "code",
   "execution_count": null,
   "id": "61c740fd",
   "metadata": {
    "vscode": {
     "languageId": "r"
    }
   },
   "outputs": [],
   "source": [
    "# díky funkci identify_outliers z balíčku rstatix můžeme identifikovat odlehlé hodnoty\n",
    "# dostaneme jejich seznam včetně náležitosti do skupin, id, ...\n",
    "# toto se hodí pro jednoduchý reporting počtu OP a jejich identifikaci\n",
    "OP_tok5 <-\n",
    "  dataS %>%\n",
    "  group_by(vyrobce) %>%\n",
    "  rstatix::identify_outliers(tok5)\n",
    "OP_tok5\n"
   ]
  },
  {
   "cell_type": "code",
   "execution_count": null,
   "id": "d787db9c",
   "metadata": {
    "vscode": {
     "languageId": "r"
    }
   },
   "outputs": [],
   "source": [
    "# informaci o OP můžeme využít pro vyrobení nového sloupce s vynechanými OP\n",
    "dataS$tok5OP <- ifelse(dataS$id %in% OP_tok5$id, NA, dataS$tok5)\n",
    "# nebo\n",
    "dataS <- dataS %>% mutate(tok5OP = ifelse(id %in% OP_tok5$id, NA, tok5))"
   ]
  },
  {
   "cell_type": "code",
   "execution_count": null,
   "id": "f536d21f",
   "metadata": {
    "vscode": {
     "languageId": "r"
    }
   },
   "outputs": [],
   "source": [
    "boxplot(tok5OP ~ vyrobce, dataS)\n"
   ]
  },
  {
   "cell_type": "code",
   "execution_count": null,
   "id": "0c6af90b",
   "metadata": {
    "vscode": {
     "languageId": "r"
    }
   },
   "outputs": [],
   "source": [
    "# a můžeme použít dříve definovanou funkci pro výpočet statistik bez OP\n",
    "tabulka_statistik <- statistika_sloupce(dataS, vyrobce, tok5OP)\n",
    "tabulka_statistik\n"
   ]
  },
  {
   "cell_type": "markdown",
   "id": "8b5187fc",
   "metadata": {},
   "source": [
    "**Analytik může vždy říct, že odlehlá pozorování odstraňovat nebude, ale tuto informaci musí do zápisu o analýze uvést!**"
   ]
  },
  {
   "cell_type": "markdown",
   "id": "d866a8cc",
   "metadata": {},
   "source": [
    "### d) Histogramy a aproximace hustoty pravděpodobnosti\n",
    "\n",
    "- **`hist()`** – vytvoří histogram kvantitativní proměnné, **Pozor, vyžaduje vstup v podobě numerického vektoru!**\n",
    "    - není ochotno fungovat pro `tibble`/`data.frame` i pokud máme jen jeden sloupec, je třeba jej dostat přes `data$sloupec`\n",
    "    - parametr `breaks` určuje počet intervalů\n",
    "    - parametr `freq` určuje, zda chceme zobrazit absolutní četnosti nebo odhad hustoty pravděpodobnosti\n",
    "- **`density()`** – vytvoří aproximaci hustoty pravděpodobnosti z histogramu\n",
    "    - **Nemá rádo NA hodnoty!**\n",
    "\n",
    "**Vykreslujeme vždy pro data bez odlehlých pozorování!!**"
   ]
  },
  {
   "cell_type": "code",
   "execution_count": null,
   "id": "c8314d42",
   "metadata": {
    "vscode": {
     "languageId": "r"
    }
   },
   "outputs": [],
   "source": [
    "# Jednoduché a rychlé vykreslení\n",
    "a5 <- dataS %>%\n",
    "    filter(vyrobce == \"Amber\") %>%\n",
    "    select(tok5OP)\n",
    "a5 <- na.omit(a5$tok5OP) # odstraní řádky s NA a vybere pouze numerické hodnoty\n",
    "hist(a5)\n"
   ]
  },
  {
   "cell_type": "markdown",
   "id": "18978f57",
   "metadata": {},
   "source": [
    "Lze si hrát s parametry, přidat do jednoho grafu i odhad hustoty pravděpodobnosti, a fit pomocí normálního rozdělení."
   ]
  },
  {
   "cell_type": "code",
   "execution_count": null,
   "id": "40d613ef",
   "metadata": {
    "vscode": {
     "languageId": "r"
    }
   },
   "outputs": [],
   "source": [
    "# Již tradičně lze nastavit popisky a další parametry\n",
    "hist(a5,\n",
    "    main = \"Histogram světelného toku při 5°C pro výrobce Amber\",\n",
    "    xlab = \"Světelný tok [lm]\",\n",
    "    ylab = \"Hustota pravděpodobnosti\",\n",
    "    freq = FALSE, # relativní četnosti\n",
    "    breaks = 10 # počet intervalů\n",
    ") # přidá absolutní četnosti daných kategorií ve formě popisků\n",
    "\n",
    "lines(density(a5), col = \"red\") # přidá odhad hustoty pravděpodobnosti\n",
    "\n",
    "# generování hodnot pro osu x\n",
    "xfit <- seq(min(a5), max(a5), length = 100)\n",
    "# generování hodnot pro osu y\n",
    "yfit <- dnorm(xfit, mean = mean(a5), sd = sd(a5))\n",
    "\n",
    "# přidání křivky odhdu pomocí normálního rozdělení\n",
    "lines(xfit, yfit, col = \"blue\", lwd = 2)\n",
    "# Takto kombinovaný graf může posloužit k vizuálnímu posouzení normality."
   ]
  },
  {
   "cell_type": "markdown",
   "id": "7b794758",
   "metadata": {},
   "source": [
    "A samozřejmě exportovat například do PDF."
   ]
  },
  {
   "cell_type": "code",
   "execution_count": null,
   "id": "e80e8520",
   "metadata": {
    "vscode": {
     "languageId": "r"
    }
   },
   "outputs": [],
   "source": [
    "pdf(\"histogram.pdf\", width = 8, height = 5, encoding = \"ISOLatin2\")\n",
    "hist(a5,\n",
    "    freq = FALSE, breaks = 10,\n",
    "    xlab = \"Světelný tok [lm]\", ylab = \"Hustota pravděpodobnosti\", main = \"\"\n",
    ")\n",
    "grid()\n",
    "dev.off() # ukončení zápisu a uložení na disk\n"
   ]
  },
  {
   "cell_type": "markdown",
   "id": "aac3e85b",
   "metadata": {},
   "source": [
    "### e) QQ-graf\n",
    "Vykreslíme pomocí `qqnorm()` a `qqline()`. Stajně jako u histogramu, je třeba mít data ve formátu numerického vektoru.\n",
    "\n",
    "**Vykreslujeme vždy pro data bez odlehlých pozorování!!**"
   ]
  },
  {
   "cell_type": "code",
   "execution_count": null,
   "id": "c7a7decd",
   "metadata": {
    "vscode": {
     "languageId": "r"
    }
   },
   "outputs": [],
   "source": [
    "# Nezapomenout na popisků os...\n",
    "qqnorm(a5,\n",
    "    xlab = \"Teoretické kvantily\",\n",
    "    ylab = \"Výběrové kvantily\",\n",
    "    main = \"QQ-graf, pro žárovky výrobce Amber při 5°C\"\n",
    ")\n",
    "qqline(a5)\n"
   ]
  },
  {
   "cell_type": "markdown",
   "id": "52bc84f4",
   "metadata": {},
   "source": [
    "---"
   ]
  },
  {
   "cell_type": "markdown",
   "id": "6ef1e4f3",
   "metadata": {},
   "source": [
    "# 8. pravidlo 3 $\\sigma$ a Čebyševova nerovnost\n",
    "### a) Empirické ověření normality\n",
    "- provádíme vizuálně: \n",
    "    - pomocí QQ-grafu: pokud body leží na přímce, můžeme předpokládat normální rozdělení\n",
    "    - pomocí histogramu: musí být \"podobný\" normálnímu rozdělení\n",
    "- numericky:\n",
    "    - pomocí šikmosti: musí ležet v intervalu $(-2,2)$\n",
    "    - pomocí špičatosti: musí ležet v intervalu $(-2,2)$"
   ]
  },
  {
   "cell_type": "code",
   "execution_count": null,
   "id": "e3dec91b-7553-49ef-a4f5-1ca00b399504",
   "metadata": {
    "vscode": {
     "languageId": "r"
    }
   },
   "outputs": [],
   "source": [
    "# vyrobíme si data pro ukázku\n",
    "data1 <- rnorm(100, mean = 1, sd = 1)\n",
    "data2 <- runif(100, min = 0, max = 2)\n",
    "data3 <- rexp(100, rate = 1)\n"
   ]
  },
  {
   "cell_type": "markdown",
   "id": "6063b922",
   "metadata": {},
   "source": [
    "**Všechny nástroje pro ověření normality jsme si již ukázali, můžeme je zabalit do jedné funkce:**"
   ]
  },
  {
   "cell_type": "code",
   "execution_count": null,
   "id": "81e28411",
   "metadata": {
    "vscode": {
     "languageId": "r"
    }
   },
   "outputs": [],
   "source": [
    "exploracni_overeni_normality <- function(data) {\n",
    "    # výpočet popisných statistik\n",
    "    sikmost <- moments::skewness(data)\n",
    "    spicatost <- moments::kurtosis(data) - 3\n",
    "    cat(\"Šikmost:\", sikmost, \"\\n\")\n",
    "    cat(\"Špičatost:\", spicatost, \"\\n\")\n",
    "\n",
    "    # QQ graf\n",
    "    qqnorm(data)\n",
    "    qqline(data)\n",
    "\n",
    "    # histogram s odhadem hustoty pravděpodobnosti normálního rozdělení\n",
    "    hist(data,\n",
    "        freq = FALSE, breaks = 10,\n",
    "        xlab = \"Světelný tok [lm]\", ylab = \"Hustota pravděpodobnosti\", main = \"\"\n",
    "    )\n",
    "    xfit <- seq(min(data), max(data), length = 100)\n",
    "    yfit <- dnorm(xfit, mean = mean(data), sd = sd(data))\n",
    "    lines(xfit, yfit, col = \"blue\", lwd = 2)\n",
    "}\n"
   ]
  },
  {
   "cell_type": "code",
   "execution_count": null,
   "id": "e1f9beac",
   "metadata": {
    "vscode": {
     "languageId": "r"
    }
   },
   "outputs": [],
   "source": [
    "# jak to vypadá pro skutečná data z normálního rozdělení\n",
    "exploracni_overeni_normality(data1)"
   ]
  },
  {
   "cell_type": "code",
   "execution_count": null,
   "id": "9423af5b",
   "metadata": {
    "vscode": {
     "languageId": "r"
    }
   },
   "outputs": [],
   "source": [
    "# jak to vypadá pro skutečná data z uniformního rozdělení\n",
    "exploracni_overeni_normality(data2)"
   ]
  },
  {
   "cell_type": "code",
   "execution_count": null,
   "id": "88a74a9b",
   "metadata": {
    "vscode": {
     "languageId": "r"
    }
   },
   "outputs": [],
   "source": [
    "# jak to vypadá pro skutečná data z exponenciálního rozdělení\n",
    "exploracni_overeni_normality(data3)"
   ]
  },
  {
   "cell_type": "markdown",
   "id": "57b1f03c",
   "metadata": {},
   "source": [
    "### b) Pravidlo 3 $\\sigma$ a Čebyševova nerovnost\n",
    "\n",
    "**Je-li splněna normalita dat → pravidlo $3\\sigma$**  \n",
    "$\\sigma$:  $P(\\mu - \\sigma < X < \\mu + \\sigma) = 0.6827$  \n",
    "$2\\sigma$: $P(\\mu - 2\\sigma < X < \\mu + 2\\sigma) = 0.9545$  \n",
    "$3\\sigma$: $P(\\mu - 3\\sigma < X < \\mu + 3\\sigma) = 0.9973$  \n",
    "\n",
    "**Není-li splněna normalita dat → Čebyševova nerovnost**  \n",
    "$\\sigma$:  $P(\\mu - \\sigma < X < \\mu + \\sigma) = 0$  \n",
    "$2\\sigma$: $P(\\mu - 2\\sigma < X < \\mu + 2\\sigma) = 0.75$  \n",
    "$3\\sigma$: $P(\\mu - 3\\sigma < X < \\mu + 3\\sigma) = 0.8889$  \n"
   ]
  },
  {
   "cell_type": "code",
   "execution_count": null,
   "id": "5cbaf393",
   "metadata": {
    "vscode": {
     "languageId": "r"
    }
   },
   "outputs": [],
   "source": [
    "# data pro světelný tok výrobce Amber při 5°C bez OP\n",
    "A_tok5OP <- dataS %>%\n",
    "    filter(vyrobce == \"Amber\") %>%\n",
    "    select(tok5OP)\n",
    "A_tok5OP <- na.omit(A_tok5OP$tok5OP)\n",
    "A_tok5OP"
   ]
  },
  {
   "cell_type": "code",
   "execution_count": null,
   "id": "03de0d51",
   "metadata": {
    "vscode": {
     "languageId": "r"
    }
   },
   "outputs": [],
   "source": [
    "# příslušné 1, 2 a 3 sigma intervaly\n",
    "mu <- mean(A_tok5OP)\n",
    "sigma <- sd(A_tok5OP)\n",
    "cat(\"<\", mu - sigma, \", \", mu + sigma, \">\\n\")\n",
    "cat(\"<\", mu - 2 * sigma, \", \", mu + 2 * sigma, \">\\n\")\n",
    "cat(\"<\", mu - 3 * sigma, \", \", mu + 3 * sigma, \">\\n\")\n"
   ]
  },
  {
   "cell_type": "markdown",
   "id": "007a8d67",
   "metadata": {},
   "source": [
    "---"
   ]
  },
  {
   "cell_type": "markdown",
   "id": "0c9db44b",
   "metadata": {},
   "source": [
    "# 9. Zaokrouhlování\n",
    "\n",
    "Vše potřebné k zaokrouhlování naleznete na LMS v dokumentu [Zaokrouhlování](https://lms.vsb.cz/pluginfile.php/1298954/mod_folder/content/0/Leg%C3%A1ln%C3%AD%20tah%C3%A1ky/zaokrouhlovani.pdf).  \n",
    "\n",
    "#### To nejdůležitější:\n",
    "- Směrodatnou odchylku zaokrouhlujeme na předepsaný počet cifer nahoru (*ceiling*):  \n",
    "  - Velikost datového souboru $\\in \\langle 2,10 \\rangle$ → **1 platná cifra**  \n",
    "  - Velikost datového souboru $\\in (10,30 \\rangle$ → **2 platné cifry**  \n",
    "  - Velikost datového souboru $\\in (30,2000 \\rangle$ → **3 platné cifry**  \n",
    "\n",
    "- Míry polohy (průměry, kvantily, ...) pak zaokrouhlujeme klasicky (*round*) na stejnou platnou cifru jako směrodatnou odchylku.\n"
   ]
  },
  {
   "cell_type": "code",
   "execution_count": null,
   "id": "188f10cb",
   "metadata": {
    "vscode": {
     "languageId": "r"
    }
   },
   "outputs": [],
   "source": [
    "# podíváme se na velikost souboru a směrodatnou odchylku\n",
    "length(A_tok5OP)\n",
    "smer_odch <- sd(A_tok5OP)\n",
    "smer_odch\n"
   ]
  },
  {
   "cell_type": "code",
   "execution_count": null,
   "id": "6fbb4f86",
   "metadata": {
    "vscode": {
     "languageId": "r"
    }
   },
   "outputs": [],
   "source": [
    "# na 3 platné cifry, tedy na jedno desetinné místo\n",
    "ceiling(smer_odch * 10) / 10"
   ]
  },
  {
   "cell_type": "code",
   "execution_count": null,
   "id": "ad2777f3",
   "metadata": {
    "vscode": {
     "languageId": "r"
    }
   },
   "outputs": [],
   "source": [
    "prumer <- mean(A_tok5OP)\n",
    "prumer\n"
   ]
  },
  {
   "cell_type": "code",
   "execution_count": null,
   "id": "d87afae2",
   "metadata": {
    "vscode": {
     "languageId": "r"
    }
   },
   "outputs": [],
   "source": [
    "round(prumer, digits = 1)\n"
   ]
  }
 ],
 "metadata": {
  "kernelspec": {
   "display_name": "R",
   "language": "R",
   "name": "ir"
  },
  "language_info": {
   "codemirror_mode": "r",
   "file_extension": ".r",
   "mimetype": "text/x-r-source",
   "name": "R",
   "pygments_lexer": "r",
   "version": "4.3.2"
  }
 },
 "nbformat": 4,
 "nbformat_minor": 5
}
