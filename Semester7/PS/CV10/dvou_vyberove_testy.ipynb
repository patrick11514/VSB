{
 "cells": [
  {
   "cell_type": "markdown",
   "id": "advisory-spell",
   "metadata": {},
   "source": [
    " # Cvičení 10. Dvou-výběrové testy/Intervalové odhady\n",
    " ## Michal Béreš, Martina Litschmannová\n",
    " ---"
   ]
  },
  {
   "cell_type": "markdown",
   "id": "selective-framework",
   "metadata": {},
   "source": [
    "\n",
    "# 1. Párová vs. dvouvýběrová data\n",
    "- Párová data označují data, která jsou vstažena k dvěma měřením stejných entit -> datové sloupce jsou závislé. \n",
    "- Pokud jsou nezávislé, jedná se o dvouvýběrový test. \n",
    "- Pro párová data napočítáme rozdíl mezi sloupci (případně jinou funkci dle zadání) a použijeme jednovýběrové testy na tento rozdíl."
   ]
  },
  {
   "cell_type": "markdown",
   "id": "white-campbell",
   "metadata": {},
   "source": [
    "### Příklady párových dat:\n",
    "- měření žárovek při dvou různých teplotách (pokud každý kus je měřen dvakrát - při teplotě 1 a teplotě 2)\n",
    "    - zde pozor, může se stát, že jsou testy např. destruktivní a nelze měřit dvakrát stejnou entitu (výrobek). Potom bychom uvažovali dva nezávislé výběry, každý pro jeden typ měření -> nezávislé datové sloupce -> dvouvýběrové testy\n",
    "- měření hodnot v krvi pacienta před a po podání léčiva\n",
    "    - opět pozor na například testování léků ve dvou skupinách (placebo/skutečný lék) -> dvě nezávislé skupiny -> dvouvýběrové testy"
   ]
  },
  {
   "cell_type": "markdown",
   "id": "smooth-serve",
   "metadata": {},
   "source": [
    "### Obecně k dvouvýběrovým testům/IO\n",
    "- test je vždy svázán s příslušným IO -> stejné podmínky pro použití\n",
    "- pokud má test podmínky použití (např.: normalita dat, symetrie dat) pak musí tuto podmínku splnit **oba soubory**, pokud alespoň jeden nesplňuje, považujeme předpoklad za porušený\n",
    "- jeden z velmi důležitých předpokladů je nezávislost dat\n",
    "    - např.: měření výrobků výrobce A a výrobků výrobce B - zde je rozumné předpokládat, že výrobky výrobce A jsou samostatné entity od výrobků výrobce B"
   ]
  },
  {
   "cell_type": "markdown",
   "id": "73ab7ab4",
   "metadata": {},
   "source": [
    "---"
   ]
  },
  {
   "cell_type": "markdown",
   "id": "fbfe6025",
   "metadata": {},
   "source": [
    "# 2. Přehled testů/konstrukcí IO"
   ]
  },
  {
   "cell_type": "markdown",
   "id": "brutal-doctor",
   "metadata": {},
   "source": [
    "## I. Dvouvýběrové testy/IO - rozdíl měr polohy"
   ]
  },
  {
   "cell_type": "code",
   "execution_count": null,
   "id": "disabled-cheat",
   "metadata": {
    "vscode": {
     "languageId": "r"
    }
   },
   "outputs": [],
   "source": [
    "# vyrobíme si testovací data - tak je lze použít všude\n",
    "data1 <- rnorm(n = 30, mean = 105, sd = 10)\n",
    "data2 <- rnorm(n = 30, mean = 100, sd = 10)\n",
    "boxplot(data1, data2)\n"
   ]
  },
  {
   "cell_type": "markdown",
   "id": "informational-structure",
   "metadata": {},
   "source": [
    "### a) Dvouvýběrový Studentův t-test\n",
    "- Testuje/odhaduje rozdíl středních hodnot: $H_0: \\mu_{1} - \\mu_{2} = a$\n",
    "- požadavky:\n",
    "    - Normalita dat\n",
    "    - Homoskedasticita (shoda rozptlyů)\n",
    "    - nezávislost výběrů\n",
    "- funkce musí mít parametr var.equal = TRUE"
   ]
  },
  {
   "cell_type": "code",
   "execution_count": null,
   "id": "hollywood-wedding",
   "metadata": {
    "vscode": {
     "languageId": "r"
    }
   },
   "outputs": [],
   "source": [
    "# H0: mu1 - mu2 = 2\n",
    "# HA: mu1 - mu2 != 2\n",
    "\n",
    "t.test(\n",
    "       x = data1, y = data2, mu = 2, alternative = \"two.sided\",\n",
    "       var.equal = TRUE, conf.level = 0.95\n",
    ")\n"
   ]
  },
  {
   "cell_type": "code",
   "execution_count": null,
   "id": "legislative-inclusion",
   "metadata": {
    "vscode": {
     "languageId": "r"
    }
   },
   "outputs": [],
   "source": [
    "# H0: mu1 - mu2 = 2\n",
    "# HA: mu1 - mu2 > 2\n",
    "\n",
    "t.test(\n",
    "       x = data1, y = data2, mu = 2, alternative = \"greater\",\n",
    "       var.equal = TRUE, conf.level = 0.95\n",
    ")\n"
   ]
  },
  {
   "cell_type": "code",
   "execution_count": null,
   "id": "artistic-poster",
   "metadata": {
    "vscode": {
     "languageId": "r"
    }
   },
   "outputs": [],
   "source": [
    "# H0: mu1 - mu2 = 2\n",
    "# HA: mu1 - mu2 < 2\n",
    "\n",
    "t.test(\n",
    "       x = data1, y = data2, mu = 2, alternative = \"less\",\n",
    "       var.equal = TRUE, conf.level = 0.95\n",
    ")\n"
   ]
  },
  {
   "cell_type": "markdown",
   "id": "substantial-method",
   "metadata": {},
   "source": [
    "### b) Aspinové-Welshův test\n",
    "- Testuje/odhaduje rozdíl středních hodnot: $H_0: \\mu_{1} - \\mu_{2} = a$\n",
    "- požadavky:\n",
    "    - Normalita dat\n",
    "    - nezávislost výběrů\n",
    "- funkce musí mít parametr var.equal = FALSE"
   ]
  },
  {
   "cell_type": "code",
   "execution_count": null,
   "id": "verified-absolute",
   "metadata": {
    "vscode": {
     "languageId": "r"
    }
   },
   "outputs": [],
   "source": [
    "# H0: mu1 - mu2 = 2\n",
    "# HA: mu1 - mu2 != 2\n",
    "\n",
    "t.test(\n",
    "       x = data1, y = data2, mu = 2, alternative = \"two.sided\",\n",
    "       var.equal = FALSE, conf.level = 0.95\n",
    ")\n"
   ]
  },
  {
   "cell_type": "code",
   "execution_count": null,
   "id": "handed-configuration",
   "metadata": {
    "vscode": {
     "languageId": "r"
    }
   },
   "outputs": [],
   "source": [
    "# H0: mu1 - mu2 = 2\n",
    "# HA: mu1 - mu2 > 2\n",
    "\n",
    "t.test(\n",
    "       x = data1, y = data2, mu = 0, alternative = \"greater\",\n",
    "       var.equal = FALSE, conf.level = 0.95\n",
    ")\n"
   ]
  },
  {
   "cell_type": "code",
   "execution_count": null,
   "id": "elect-driver",
   "metadata": {
    "vscode": {
     "languageId": "r"
    }
   },
   "outputs": [],
   "source": [
    "# H0: mu1 - mu2 = 2\n",
    "# HA: mu1 - mu2 < 2\n",
    "\n",
    "t.test(\n",
    "       x = data1, y = data2, mu = 0, alternative = \"less\",\n",
    "       var.equal = FALSE, conf.level = 0.95\n",
    ")\n"
   ]
  },
  {
   "cell_type": "markdown",
   "id": "fluid-liver",
   "metadata": {},
   "source": [
    "### c) Mannův-Whitneyův test\n",
    "- Testuje/odhaduje rozdíl mediánů: $H_0: X_{0.5,1} - X_{0.5,2} = a$\n",
    "- požadavky:\n",
    "    - nezávislost výběrů\n",
    "    - (stejný typ rozdělení)\n",
    "- vyžaduje conf.int = TRUE, pro spočtení IO"
   ]
  },
  {
   "cell_type": "code",
   "execution_count": null,
   "id": "optimum-python",
   "metadata": {
    "vscode": {
     "languageId": "r"
    }
   },
   "outputs": [],
   "source": [
    "# H0: X0.5,1 - X0.5,2 = 2\n",
    "# HA: X0.5,1 - X0.5,2 != 2\n",
    "\n",
    "wilcox.test(\n",
    "    x = data1, y = data2, mu = 2, alternative = \"two.sided\",\n",
    "    conf.level = 0.95, conf.int = TRUE\n",
    ")\n"
   ]
  },
  {
   "cell_type": "code",
   "execution_count": null,
   "id": "physical-macintosh",
   "metadata": {
    "vscode": {
     "languageId": "r"
    }
   },
   "outputs": [],
   "source": [
    "# H0: X0.5,1 - X0.5,2 = 2\n",
    "# HA: X0.5,1 - X0.5,2 > 2\n",
    "\n",
    "wilcox.test(\n",
    "    x = data1, y = data2, mu = 2, alternative = \"greater\",\n",
    "    conf.level = 0.95, conf.int = TRUE\n",
    ")\n"
   ]
  },
  {
   "cell_type": "code",
   "execution_count": null,
   "id": "neural-cooling",
   "metadata": {
    "vscode": {
     "languageId": "r"
    }
   },
   "outputs": [],
   "source": [
    "# H0: X0.5,1 - X0.5,2 = 2\n",
    "# HA: X0.5,1 - X0.5,2 < 2\n",
    "\n",
    "wilcox.test(\n",
    "    x = data1, y = data2, mu = 2, alternative = \"less\",\n",
    "    conf.level = 0.95, conf.int = TRUE\n",
    ")\n"
   ]
  },
  {
   "cell_type": "markdown",
   "id": "phantom-interview",
   "metadata": {},
   "source": [
    "## II. Dvouvýběrové testy/IO - podíl rozptylů\n",
    "### a) F-test\n",
    "- Testuje/odhaduje podíl rozptylů: $H_0: \\sigma^2_{1} / \\sigma^2_{2} = a$\n",
    "- požadavky:\n",
    "    - normalita dat\n",
    "    - nezávislost výběrů"
   ]
  },
  {
   "cell_type": "code",
   "execution_count": null,
   "id": "artificial-dependence",
   "metadata": {
    "vscode": {
     "languageId": "r"
    }
   },
   "outputs": [],
   "source": [
    "# H0: sigma1^2/sigma2^2 = 1\n",
    "# H0: sigma1^2/sigma2^2 != 1\n",
    "\n",
    "var.test(\n",
    "    x = data1, y = data2, ratio = 1, alternative = \"two.sided\",\n",
    "    conf.level = 0.95\n",
    ")\n"
   ]
  },
  {
   "cell_type": "code",
   "execution_count": null,
   "id": "baking-capacity",
   "metadata": {
    "vscode": {
     "languageId": "r"
    }
   },
   "outputs": [],
   "source": [
    "# H0: sigma1^2/sigma2^2 = 1\n",
    "# H0: sigma1^2/sigma2^2 > 1\n",
    "\n",
    "var.test(\n",
    "    x = data1, y = data2, ratio = 1, alternative = \"greater\",\n",
    "    conf.level = 0.95\n",
    ")\n"
   ]
  },
  {
   "cell_type": "code",
   "execution_count": null,
   "id": "brazilian-titanium",
   "metadata": {
    "vscode": {
     "languageId": "r"
    }
   },
   "outputs": [],
   "source": [
    "# H0: sigma1^2/sigma2^2 = 1\n",
    "# H0: sigma1^2/sigma2^2 < 1\n",
    "\n",
    "var.test(\n",
    "    x = data1, y = data2, ratio = 1, alternative = \"less\",\n",
    "    conf.level = 0.95\n",
    ")\n"
   ]
  },
  {
   "cell_type": "markdown",
   "id": "enormous-crazy",
   "metadata": {},
   "source": [
    "### b) Leveneův test\n",
    "- Testuje rovnost rozptylů: $H_0: \\sigma^2_{1} = \\sigma^2_{2}$ !\n",
    "- požadavky:\n",
    "    - nezávislost výběrů\n",
    "- vyžaduje data ve standardním datovém formátu\n",
    "- funkce leveneTest v balíčku car"
   ]
  },
  {
   "cell_type": "code",
   "execution_count": null,
   "id": "naked-precipitation",
   "metadata": {
    "vscode": {
     "languageId": "r"
    }
   },
   "outputs": [],
   "source": [
    "# vyrobíme data ve standardním datovém formátu\n",
    "\n",
    "data1.df <- as.data.frame(data1)\n",
    "data1.df$typ <- \"d1\"\n",
    "colnames(data1.df) <- c(\"data\", \"typ\")\n",
    "\n",
    "data2.df <- as.data.frame(data2)\n",
    "data2.df$typ <- \"d2\"\n",
    "colnames(data2.df) <- c(\"data\", \"typ\")\n",
    "\n",
    "data <- rbind(data1.df, data2.df)\n",
    "data$typ <- as.factor(data$typ)\n",
    "\n",
    "head(data)\n"
   ]
  },
  {
   "cell_type": "code",
   "execution_count": null,
   "id": "judicial-peoples",
   "metadata": {
    "vscode": {
     "languageId": "r"
    }
   },
   "outputs": [],
   "source": [
    "# install.packages(\"car\")\n",
    "\n",
    "# H0: sigma1^2 = sigma2^2\n",
    "# HA: sigma1^2 != sigma2^2\n",
    "\n",
    "car::leveneTest(data$data ~ data$typ)\n"
   ]
  },
  {
   "cell_type": "markdown",
   "id": "existing-reasoning",
   "metadata": {},
   "source": [
    "## III. Dvouvýběrové testy/IO - rozdíl pravděpodobností\n",
    "### Test homogenity dvou binomických rozdělení\n",
    "- Testuje shodu/odhaduje rozdíl pravděpodobností: $H_0: \\pi_{1} - \\pi_{2} = 0$\n",
    "- požadavky:\n",
    "    - dostatečná velikost výběrů: $n_i>\\frac{9}{p_i(1-p_i)}$\n",
    "    - nezávislost výběrů"
   ]
  },
  {
   "cell_type": "code",
   "execution_count": null,
   "id": "casual-thong",
   "metadata": {
    "vscode": {
     "languageId": "r"
    }
   },
   "outputs": [],
   "source": [
    "# vyrobíme si vhodná data\n",
    "pi1 <- 0.4\n",
    "pi2 <- 0.3\n",
    "\n",
    "dp1 <- runif(n = 100, min = 0, max = 1) < pi1\n",
    "dp2 <- runif(n = 130, min = 0, max = 1) < pi2\n",
    "\n",
    "x1 <- sum(dp1)\n",
    "n1 <- length(dp1)\n",
    "\n",
    "x2 <- sum(dp2)\n",
    "n2 <- length(dp2)\n",
    "\n",
    "x1\n",
    "n1\n",
    "x2\n",
    "n2\n"
   ]
  },
  {
   "cell_type": "code",
   "execution_count": null,
   "id": "chubby-arctic",
   "metadata": {
    "vscode": {
     "languageId": "r"
    }
   },
   "outputs": [],
   "source": [
    "# H0: pi1 - pi2 = 0\n",
    "# HA: pi1 - pi2 != 0\n",
    "\n",
    "prop.test(\n",
    "    x = c(x1, x2), n = c(n1, n2), alternative = \"two.sided\",\n",
    "    conf.level = 0.95\n",
    ")\n"
   ]
  },
  {
   "cell_type": "code",
   "execution_count": null,
   "id": "saving-foundation",
   "metadata": {
    "vscode": {
     "languageId": "r"
    }
   },
   "outputs": [],
   "source": [
    "# H0: pi1 - pi2 = 0\n",
    "# HA: pi1 - pi2 > 0\n",
    "\n",
    "prop.test(\n",
    "    x = c(x1, x2), n = c(n1, n2), alternative = \"greater\",\n",
    "    conf.level = 0.95\n",
    ")\n"
   ]
  },
  {
   "cell_type": "code",
   "execution_count": null,
   "id": "turned-brown",
   "metadata": {
    "vscode": {
     "languageId": "r"
    }
   },
   "outputs": [],
   "source": [
    "# H0: pi1 - pi2 = 0\n",
    "# HA: pi1 - pi2 < 0\n",
    "\n",
    "prop.test(\n",
    "    x = c(x1, x2), n = c(n1, n2), alternative = \"less\",\n",
    "    conf.level = 0.95\n",
    ")\n"
   ]
  },
  {
   "cell_type": "markdown",
   "id": "d105b633",
   "metadata": {},
   "source": [
    "---"
   ]
  },
  {
   "cell_type": "markdown",
   "id": "extreme-gates",
   "metadata": {},
   "source": [
    "# Příklady\n",
    "## Příkald 1.\n",
    "Data v souboru `data/testy_dvouvyberove.xlsx` v listu `cholesterol2` udávají hladinu cholesterolu v krvi mužů dvou různých věkových skupin (20-30 letých a 40-50 letých). Ověřte na hladině významnosti 0,05 hypotézu, zda se hladina cholesterolu v krvi starších mužů neliší od hladiny cholesterolu v krvi mladších mužů."
   ]
  },
  {
   "cell_type": "code",
   "execution_count": 1,
   "id": "healthy-vanilla",
   "metadata": {
    "vscode": {
     "languageId": "r"
    }
   },
   "outputs": [
    {
     "data": {
      "text/html": [
       "<table class=\"dataframe\">\n",
       "<caption>A tibble: 6 × 2</caption>\n",
       "<thead>\n",
       "\t<tr><th scope=col>mladsi</th><th scope=col>starsi</th></tr>\n",
       "\t<tr><th scope=col>&lt;dbl&gt;</th><th scope=col>&lt;dbl&gt;</th></tr>\n",
       "</thead>\n",
       "<tbody>\n",
       "\t<tr><td>4.573</td><td>4.593</td></tr>\n",
       "\t<tr><td>4.565</td><td>4.589</td></tr>\n",
       "\t<tr><td>4.624</td><td>4.864</td></tr>\n",
       "\t<tr><td>4.720</td><td>4.603</td></tr>\n",
       "\t<tr><td>4.604</td><td>5.090</td></tr>\n",
       "\t<tr><td>4.662</td><td>5.472</td></tr>\n",
       "</tbody>\n",
       "</table>\n"
      ],
      "text/latex": [
       "A tibble: 6 × 2\n",
       "\\begin{tabular}{ll}\n",
       " mladsi & starsi\\\\\n",
       " <dbl> & <dbl>\\\\\n",
       "\\hline\n",
       "\t 4.573 & 4.593\\\\\n",
       "\t 4.565 & 4.589\\\\\n",
       "\t 4.624 & 4.864\\\\\n",
       "\t 4.720 & 4.603\\\\\n",
       "\t 4.604 & 5.090\\\\\n",
       "\t 4.662 & 5.472\\\\\n",
       "\\end{tabular}\n"
      ],
      "text/markdown": [
       "\n",
       "A tibble: 6 × 2\n",
       "\n",
       "| mladsi &lt;dbl&gt; | starsi &lt;dbl&gt; |\n",
       "|---|---|\n",
       "| 4.573 | 4.593 |\n",
       "| 4.565 | 4.589 |\n",
       "| 4.624 | 4.864 |\n",
       "| 4.720 | 4.603 |\n",
       "| 4.604 | 5.090 |\n",
       "| 4.662 | 5.472 |\n",
       "\n"
      ],
      "text/plain": [
       "  mladsi starsi\n",
       "1 4.573  4.593 \n",
       "2 4.565  4.589 \n",
       "3 4.624  4.864 \n",
       "4 4.720  4.603 \n",
       "5 4.604  5.090 \n",
       "6 4.662  5.472 "
      ]
     },
     "metadata": {},
     "output_type": "display_data"
    }
   ],
   "source": [
    "# Načtení dat\n",
    "chol <- readxl::read_excel(\"data/testy_dvouvyberove.xlsx\",\n",
    "    sheet = \"cholesterol2\",\n",
    "    skip = 1\n",
    ")\n",
    "colnames(chol) <- c(\"mladsi\", \"starsi\")\n",
    "head(chol)\n"
   ]
  },
  {
   "cell_type": "code",
   "execution_count": 2,
   "id": "hungarian-calculator",
   "metadata": {
    "vscode": {
     "languageId": "r"
    }
   },
   "outputs": [
    {
     "data": {
      "text/html": [
       "<table class=\"dataframe\">\n",
       "<caption>A data.frame: 6 × 2</caption>\n",
       "<thead>\n",
       "\t<tr><th></th><th scope=col>hodnoty</th><th scope=col>skupina</th></tr>\n",
       "\t<tr><th></th><th scope=col>&lt;dbl&gt;</th><th scope=col>&lt;fct&gt;</th></tr>\n",
       "</thead>\n",
       "<tbody>\n",
       "\t<tr><th scope=row>1</th><td>4.573</td><td>mladsi</td></tr>\n",
       "\t<tr><th scope=row>2</th><td>4.565</td><td>mladsi</td></tr>\n",
       "\t<tr><th scope=row>3</th><td>4.624</td><td>mladsi</td></tr>\n",
       "\t<tr><th scope=row>4</th><td>4.720</td><td>mladsi</td></tr>\n",
       "\t<tr><th scope=row>5</th><td>4.604</td><td>mladsi</td></tr>\n",
       "\t<tr><th scope=row>6</th><td>4.662</td><td>mladsi</td></tr>\n",
       "</tbody>\n",
       "</table>\n"
      ],
      "text/latex": [
       "A data.frame: 6 × 2\n",
       "\\begin{tabular}{r|ll}\n",
       "  & hodnoty & skupina\\\\\n",
       "  & <dbl> & <fct>\\\\\n",
       "\\hline\n",
       "\t1 & 4.573 & mladsi\\\\\n",
       "\t2 & 4.565 & mladsi\\\\\n",
       "\t3 & 4.624 & mladsi\\\\\n",
       "\t4 & 4.720 & mladsi\\\\\n",
       "\t5 & 4.604 & mladsi\\\\\n",
       "\t6 & 4.662 & mladsi\\\\\n",
       "\\end{tabular}\n"
      ],
      "text/markdown": [
       "\n",
       "A data.frame: 6 × 2\n",
       "\n",
       "| <!--/--> | hodnoty &lt;dbl&gt; | skupina &lt;fct&gt; |\n",
       "|---|---|---|\n",
       "| 1 | 4.573 | mladsi |\n",
       "| 2 | 4.565 | mladsi |\n",
       "| 3 | 4.624 | mladsi |\n",
       "| 4 | 4.720 | mladsi |\n",
       "| 5 | 4.604 | mladsi |\n",
       "| 6 | 4.662 | mladsi |\n",
       "\n"
      ],
      "text/plain": [
       "  hodnoty skupina\n",
       "1 4.573   mladsi \n",
       "2 4.565   mladsi \n",
       "3 4.624   mladsi \n",
       "4 4.720   mladsi \n",
       "5 4.604   mladsi \n",
       "6 4.662   mladsi "
      ]
     },
     "metadata": {},
     "output_type": "display_data"
    }
   ],
   "source": [
    "# Převod do standardního datového formátu\n",
    "chol.s <- stack(chol)\n",
    "chol.s <- na.omit(chol.s)\n",
    "colnames(chol.s) <- c(\"hodnoty\", \"skupina\")\n",
    "head(chol.s)\n"
   ]
  },
  {
   "cell_type": "code",
   "execution_count": 3,
   "id": "upset-narrative",
   "metadata": {
    "vscode": {
     "languageId": "r"
    }
   },
   "outputs": [
    {
     "data": {
      "image/png": "[encoded data removed]",
      "text/plain": [
       "plot without title"
      ]
     },
     "metadata": {
      "image/png": {
       "height": 420,
       "width": 420
      }
     },
     "output_type": "display_data"
    }
   ],
   "source": [
    "# Explorační analýza - zhodnocení OP\n",
    "boxplot(chol.s$hodnoty ~ chol.s$skupina)\n"
   ]
  },
  {
   "cell_type": "code",
   "execution_count": null,
   "id": "native-malawi",
   "metadata": {
    "vscode": {
     "languageId": "r"
    }
   },
   "outputs": [],
   "source": [
    "# Odstranění odlehlých pozorování:\n",
    "chol.s$hodnoty.bez <- chol.s$hodnoty\n",
    "\n",
    "pom <- boxplot(chol.s$hodnoty[chol.s$skupina == \"mladsi\"], plot = FALSE)\n",
    "chol.s$hodnoty.bez[chol.s$skupina == \"mladsi\" &\n",
    "    chol.s$hodnoty %in% pom$out] <- NA\n",
    "\n",
    "pom <- boxplot(chol.s$hodnoty[chol.s$skupina == \"starsi\"], plot = FALSE)\n",
    "chol.s$hodnoty.bez[chol.s$skupina == \"starsi\" &\n",
    "    chol.s$hodnoty %in% pom$out] <- NA\n",
    "\n",
    "boxplot(chol.s$hodnoty.bez ~ chol.s$skupina)\n",
    "\n",
    "# pozor v datech máme NA a musíme s tím dále počítat!!!\n",
    "# (např. u zjištění délky)\n"
   ]
  },
  {
   "cell_type": "code",
   "execution_count": null,
   "id": "upper-underground",
   "metadata": {
    "vscode": {
     "languageId": "r"
    }
   },
   "outputs": [],
   "source": [
    "library(dplyr)\n",
    "\n",
    "chol.s %>%\n",
    "    group_by(skupina) %>%\n",
    "    summarise(\n",
    "        pocet = sum(!is.na(hodnoty.bez)),\n",
    "        prumer = mean(hodnoty.bez, na.rm = TRUE),\n",
    "        smer.odch = sd(hodnoty.bez, na.rm = TRUE)\n",
    "    )\n",
    "\n",
    "# zaokrouhlování -> 3 platné cifry -> dle sd na tisíciny\n"
   ]
  },
  {
   "cell_type": "markdown",
   "id": "polar-alcohol",
   "metadata": {},
   "source": [
    "**Test o shodě středních hodnot / mediánů**"
   ]
  },
  {
   "cell_type": "code",
   "execution_count": null,
   "id": "mediterranean-jones",
   "metadata": {
    "vscode": {
     "languageId": "r"
    }
   },
   "outputs": [],
   "source": [
    "# Ověření normality\n",
    "chol.s %>%\n",
    "    group_by(skupina) %>%\n",
    "    summarise(norm.pval = shapiro.test(hodnoty.bez)$p.value)\n",
    "\n",
    "# normalita na hl. významnosti 0.05 OK\n"
   ]
  },
  {
   "cell_type": "code",
   "execution_count": null,
   "id": "polished-stand",
   "metadata": {
    "vscode": {
     "languageId": "r"
    }
   },
   "outputs": [],
   "source": [
    "# Ověření shody rozptylů\n",
    "\n",
    "# Exploračně\n",
    "rozptyly <- chol.s %>%\n",
    "    group_by(skupina) %>%\n",
    "    summarise(rozptyl = sd(hodnoty.bez, na.rm = TRUE)^2)\n",
    "rozptyly\n",
    "max(rozptyly$rozptyl) / min(rozptyly$rozptyl)\n",
    "\n",
    "# explorační posouzení: poměr nejvetšího ku nejmenšímu je > než 2\n",
    "# -> nepředpokládám shodu rozptylu\n"
   ]
  },
  {
   "cell_type": "code",
   "execution_count": null,
   "id": "north-baptist",
   "metadata": {
    "vscode": {
     "languageId": "r"
    }
   },
   "outputs": [],
   "source": [
    "# Exaktně pomocí F-testu\n",
    "\n",
    "# H0: sigma.starsi = sigma.mladsi\n",
    "# Ha: sigma.starsi <> sigma.mladsi\n",
    "\n",
    "# vyberu si žádaná data\n",
    "starsi.bez <- chol.s$hodnoty.bez[chol.s$skupina == \"starsi\"]\n",
    "mladsi.bez <- chol.s$hodnoty.bez[chol.s$skupina == \"mladsi\"]\n",
    "\n",
    "var.test(x = starsi.bez, y = mladsi.bez, ratio = 1, conf.level = 0.95)\n",
    "\n",
    "# Na hl. významnosti 0.05 zamítáme předpoklad o shodě rozptylů\n",
    "# Pozorovanou neshodu mezi rozptyly lze na hladině významnosti 0,05\n",
    "# označit za statisticky významnou.\n"
   ]
  },
  {
   "cell_type": "code",
   "execution_count": null,
   "id": "activated-guinea",
   "metadata": {
    "vscode": {
     "languageId": "r"
    }
   },
   "outputs": [],
   "source": [
    "# Ověření shody středních hodnot (Aspinové-Welchův test)\n",
    "\n",
    "# H0: mu.starsi - mu.mladsi = 0\n",
    "# Ha: mu.starsi - mu.mladsi != 0\n",
    "\n",
    "t.test(\n",
    "       x = starsi.bez, y = mladsi.bez, mu = 0,\n",
    "       alternative = \"two.sided\", var.equal = FALSE, conf.level = 0.95\n",
    ")\n",
    "\n",
    "# na hl. významnosti 0.05 zamítáme H0-> existuje stat. významný rozdíl.\n"
   ]
  },
  {
   "cell_type": "code",
   "execution_count": null,
   "id": "accurate-foster",
   "metadata": {
    "vscode": {
     "languageId": "r"
    }
   },
   "outputs": [],
   "source": [
    "# H0: mu.starsi = mu.mladsi (mu.starsi - mu.mladsi = 0)\n",
    "# Ha: mu.starsi > mu.mladsi (mu.starsi - mu.mladsi > 0)\n",
    "\n",
    "t.test(\n",
    "       x = starsi.bez, y = mladsi.bez, mu = 0, alternative = \"greater\",\n",
    "       var.equal = FALSE, conf.level = 0.95\n",
    ")\n",
    "\n",
    "# Na hladině významnosti 0,05 zamítáme předpoklad o shodě středních\n",
    "# hodnot cholesterolu ve skupinách mladších a starších mužů ve prospěch\n",
    "# alternativy, že starší muži mají vyšší střední hladinu cholesterolu\n",
    "# než muži mladší\n",
    "# Dle výsledků výběrového šetření očekáváme, že střední obsah\n",
    "# cholesterolu v krvi straších mužů bude cca o 0,524 mmol/l vyšší než\n",
    "# střední obsah chol. u mladších mužů. Dle 95% levostranný interv.\n",
    "# odhadu daného rozdílu očekáváme střední obsah cholesterolu u\n",
    "# starších mužů minimálně o 0,457 mmol/l větší než stř. hodnota\n",
    "# cholesterolu u mladších mužů.\n"
   ]
  },
  {
   "cell_type": "markdown",
   "id": "necessary-treasury",
   "metadata": {},
   "source": [
    "## Příklad 2.\n",
    "Údaje v souboru deprese.xls představují délku remise ve dnech z prostého náhodného výběru ze dvou různých skupin pacientů (pacienti s endogenní depresi a pacienti s neurotickou depresí). Ověřte, zda je pozorovaný rozdíl mezi průměrnou délkou remise u těchto dvou skupin pacientů statisticky významný."
   ]
  },
  {
   "cell_type": "code",
   "execution_count": null,
   "id": "coated-shade",
   "metadata": {
    "vscode": {
     "languageId": "r"
    }
   },
   "outputs": [],
   "source": [
    "# Načtení dat z xlsx souboru (pomoci balíčku readxl)\n",
    "deprese <- readxl::read_excel(\"data/testy_dvouvyberove.xlsx\",\n",
    "    sheet = \"deprese\"\n",
    ")\n",
    "colnames(deprese) <- c(\"endo\", \"neuro\")\n",
    "\n",
    "head(deprese)\n"
   ]
  },
  {
   "cell_type": "code",
   "execution_count": null,
   "id": "persistent-cholesterol",
   "metadata": {
    "vscode": {
     "languageId": "r"
    }
   },
   "outputs": [],
   "source": [
    "# Převod do standardního datového formátu\n",
    "deprese.s <- stack(deprese)\n",
    "deprese.s <- na.omit(deprese.s)\n",
    "colnames(deprese.s) <- c(\"hodnoty\", \"skupina\")\n",
    "\n",
    "head(deprese.s)\n"
   ]
  },
  {
   "cell_type": "code",
   "execution_count": null,
   "id": "dental-piano",
   "metadata": {
    "vscode": {
     "languageId": "r"
    }
   },
   "outputs": [],
   "source": [
    "# Explorační analýza\n",
    "boxplot(deprese.s$hodnoty ~ deprese.s$skupina)\n",
    "\n",
    "# Data neobsahují odlehlá pozorování.\n"
   ]
  },
  {
   "cell_type": "code",
   "execution_count": null,
   "id": "abroad-exercise",
   "metadata": {
    "vscode": {
     "languageId": "r"
    }
   },
   "outputs": [],
   "source": [
    "library(dplyr)\n",
    "\n",
    "deprese.s %>%\n",
    "    group_by(skupina) %>%\n",
    "    summarise(\n",
    "        pocet = length(hodnoty),\n",
    "        prumer = mean(hodnoty),\n",
    "        smer.odch = sd(hodnoty)\n",
    "    )\n",
    "\n",
    "# zaokrouhlování -> 3 platné cifry -> dle sd na jednotky\n"
   ]
  },
  {
   "cell_type": "markdown",
   "id": "norman-slovak",
   "metadata": {},
   "source": [
    "**Test o shodě středních hodnot / mediánů**"
   ]
  },
  {
   "cell_type": "code",
   "execution_count": null,
   "id": "explicit-baseball",
   "metadata": {
    "vscode": {
     "languageId": "r"
    }
   },
   "outputs": [],
   "source": [
    "# Ověření normality\n",
    "# Předpoklad normality ověříme Shapirovovým - Wilkovovým testem.\n",
    "deprese.s %>%\n",
    "    group_by(skupina) %>%\n",
    "    summarise(norm.pval = shapiro.test(hodnoty)$p.value)\n",
    "\n",
    "\n",
    "# Na hl. významnosti 0,05 zamítáme předpoklad normality\n"
   ]
  },
  {
   "cell_type": "code",
   "execution_count": null,
   "id": "large-parcel",
   "metadata": {
    "vscode": {
     "languageId": "r"
    }
   },
   "outputs": [],
   "source": [
    "# alespoň orientačne zkontrolujeme podobnost rozdělení\n",
    "\n",
    "# vybereme si data pro jednodušší spracování\n",
    "\n",
    "neuro <- deprese.s$hodnoty[deprese.s$skupina == \"neuro\"]\n",
    "endo <- deprese.s$hodnoty[deprese.s$skupina == \"endo\"]\n",
    "\n",
    "\n",
    "par(mfrow = c(1, 2))\n",
    "hist(neuro)\n",
    "hist(endo)\n"
   ]
  },
  {
   "cell_type": "code",
   "execution_count": null,
   "id": "cosmetic-scenario",
   "metadata": {
    "vscode": {
     "languageId": "r"
    }
   },
   "outputs": [],
   "source": [
    "# Ověření shody mediánů (Mannův - Whitneyho test)\n",
    "\n",
    "# Dle histogramů předpokládáme, že data mají stejný typ rozdělení.\n",
    "\n",
    "# H0: med.neuro = med.endo (med.neuro - med.endo = 0)\n",
    "# Ha: med.neuro != med.endo (med.neuro - med.endo != 0)\n",
    "\n",
    "wilcox.test(\n",
    "    x = neuro, y = endo, mu = 0, alternative = \"two.sided\",\n",
    "    conf.level = 0.95, conf.int = TRUE\n",
    ")\n",
    "\n",
    "# na hl. významnosti 0.05 zamítáme H0-> existuje stat. významný rozdíl\n"
   ]
  },
  {
   "cell_type": "code",
   "execution_count": null,
   "id": "correct-connectivity",
   "metadata": {
    "vscode": {
     "languageId": "r"
    }
   },
   "outputs": [],
   "source": [
    "# H0: med.neuro = med.endo (med.neuro - med.endo = 0)\n",
    "# Ha: med.neuro > med.endo (med.neuro - med.endo > 0)\n",
    "\n",
    "wilcox.test(\n",
    "    x = neuro, y = endo, mu = 0, alternative = \"greater\",\n",
    "    conf.level = 0.95, conf.int = TRUE\n",
    ")\n",
    "\n",
    "# Na hladině významnosti 0,05 zamítáme hyp. o shodě mediánů dob do\n",
    "# remise onemocnění pro obě skupiny pacientů ve prospěch alternativy\n",
    "\n",
    "# Medián doby remise je u pacientů s neurotickou depresí statisticky\n",
    "# významně větší než u pacientů s endogenní depresí.\n",
    "\n",
    "# Doba remise pacientů s neurotickou depresí je cca o 191 dnů delší\n",
    "# než u pacientů s endogenní depresí. Dle 95% levostranného\n",
    "# intervalového odhadu očekáváme, že pacienti s neuro. depresí mají\n",
    "# minimálně o 168 dní delší dobu remise než pacienti s endo. depresí.\n"
   ]
  },
  {
   "cell_type": "markdown",
   "id": "optional-possession",
   "metadata": {},
   "source": [
    "## Příklad 3.\n",
    "Sledujeme osmolalitu moči na lůžkové stanici v 08:00 hodin a v 11:00 hodin u 16 mužů. Na základě výsledků uvedených v souboru osmolalita.xls ověřte, zda se osmolalita statisticky významně zvýšila."
   ]
  },
  {
   "cell_type": "code",
   "execution_count": null,
   "id": "freelance-washer",
   "metadata": {
    "vscode": {
     "languageId": "r"
    }
   },
   "outputs": [],
   "source": [
    "# Načtení dat\n",
    "osmolalita <- readxl::read_excel(\"data/testy_dvouvyberove.xlsx\",\n",
    "    sheet = \"osmolalita\", skip = 1\n",
    ")\n",
    "osmolalita <- osmolalita[, c(2, 3)]\n",
    "colnames(osmolalita) <- c(\"o8\", \"o11\")\n",
    "head(osmolalita)\n"
   ]
  },
  {
   "cell_type": "code",
   "execution_count": null,
   "id": "comfortable-concert",
   "metadata": {
    "vscode": {
     "languageId": "r"
    }
   },
   "outputs": [],
   "source": [
    "# Výpočet nárůstu osmolality\n",
    "osmolalita$narust <- osmolalita$o11 - osmolalita$o8\n",
    "\n",
    "# Explorační analýza\n",
    "par(mfrow = c(1, 1))\n",
    "boxplot(osmolalita$narust)\n",
    "\n",
    "# Data obsahují odlehlá pozorování.\n"
   ]
  },
  {
   "cell_type": "code",
   "execution_count": null,
   "id": "legal-mexico",
   "metadata": {
    "vscode": {
     "languageId": "r"
    }
   },
   "outputs": [],
   "source": [
    "# Odstranění odlehlých hodnot\n",
    "pom <- boxplot(osmolalita$narust, plot = FALSE)\n",
    "\n",
    "osmolalita$narust.bez <- osmolalita$narust\n",
    "osmolalita$narust.bez[osmolalita$narust %in% pom$out] <- NA\n",
    "\n",
    "boxplot(osmolalita$narust.bez)\n"
   ]
  },
  {
   "cell_type": "code",
   "execution_count": null,
   "id": "medium-league",
   "metadata": {
    "vscode": {
     "languageId": "r"
    }
   },
   "outputs": [],
   "source": [
    "# Explorační analýza pro data bez odlehlých pozorování\n",
    "library(dplyr)\n",
    "\n",
    "osmolalita %>% summarise(\n",
    "    pocet = sum(!is.na(narust.bez)),\n",
    "    prumer = mean(narust.bez, na.rm = TRUE),\n",
    "    smer.odch = sd(narust.bez, na.rm = TRUE)\n",
    ")\n",
    "\n",
    "# zaokrouhlování -> 2 platné cifry -> dle sd na jednotky\n"
   ]
  },
  {
   "cell_type": "code",
   "execution_count": null,
   "id": "expanded-surface",
   "metadata": {
    "vscode": {
     "languageId": "r"
    }
   },
   "outputs": [],
   "source": [
    "# Ověření normality\n",
    "# Předpoklad normality ověříme Shapirovým - Wilkovým testem.\n",
    "shapiro.test(osmolalita$narust.bez)\n",
    "# Na hl. významnosti 0.05 nelze předpoklad normality zamítnout\n",
    "# (Shapirův-Wilkův test, W = 0,949, p-hodnota=0,545).\n"
   ]
  },
  {
   "cell_type": "code",
   "execution_count": null,
   "id": "crude-sample",
   "metadata": {
    "vscode": {
     "languageId": "r"
    }
   },
   "outputs": [],
   "source": [
    "# Párový t-test\n",
    "# H0: mu.narust = 0 mm\n",
    "# Ha: mu.narust > 0 mm\n",
    "\n",
    "t.test(osmolalita$narust.bez, mu = 0, alternative = \"greater\")\n",
    "\n",
    "# Dle výběrového šetření lze očekávat, že osmolalita moči se\n",
    "# mezi 8 a 11 hodinou zvýší o cca 24 mmol/kg. Dle 95% intervalového odhadu\n",
    "# lze očekávat, že dojde k navýšení osmolality minimálně o 10 mmol/kg).\n",
    "# Na hladině významnosti 0,05 lze tento nárůst označit za statisticky\n",
    "# významný (párový t-test, t = 3,1, df = 13, p-hodnota = 0,005).\n"
   ]
  },
  {
   "cell_type": "markdown",
   "id": "attractive-finland",
   "metadata": {},
   "source": [
    "## Příklad 4.\n",
    "Byly testovány polovodičové součástky dvou výrobců - MM a PP. MM prohlašuje, že její výrobky mají nižší procento vadných kusů. Pro ověření tohoto tvrzení bylo z produkce MM náhodně vybráno 200 součástek, z nichž 14 bylo vadných. Podobný experiment byl proveden u firmy PP s výsledkem 10 vadných ze 100 náhodně vybraných součástek.\n",
    "### a) \n",
    "Otestujte tvrzení firmy MM čistým testem významnosti."
   ]
  },
  {
   "cell_type": "code",
   "execution_count": null,
   "id": "noticed-perry",
   "metadata": {
    "vscode": {
     "languageId": "r"
    }
   },
   "outputs": [],
   "source": [
    "x.MM <- 14\n",
    "n.MM <- 200\n",
    "p.MM <- x.MM / n.MM\n",
    "p.MM\n",
    "\n",
    "x.PP <- 10\n",
    "n.PP <- 100\n",
    "p.PP <- x.PP / n.PP\n",
    "p.PP\n"
   ]
  },
  {
   "cell_type": "code",
   "execution_count": null,
   "id": "generous-stylus",
   "metadata": {
    "vscode": {
     "languageId": "r"
    }
   },
   "outputs": [],
   "source": [
    "# Ověření předpokladů\n",
    "9 / (p.MM * (1 - p.MM))\n",
    "9 / (p.PP * (1 - p.PP))\n"
   ]
  },
  {
   "cell_type": "markdown",
   "id": "median-professional",
   "metadata": {},
   "source": [
    "Dále pro obě firmy předpokládáme, že  n/N < 0.05, tj. že daná populace (součástek) má rozsah \n",
    "alespoň 20 * n, tj. 20 * 200 (4 000), resp. 20 * 150 (3 000) součástek, což je asi vcelku reálný předpoklad."
   ]
  },
  {
   "cell_type": "code",
   "execution_count": null,
   "id": "gothic-tolerance",
   "metadata": {
    "vscode": {
     "languageId": "r"
    }
   },
   "outputs": [],
   "source": [
    "# Pearsonův X2 test\n",
    "# H0: pi.PP = pi.MM\n",
    "# Ha: pi.PP > pi.MM\n",
    "\n",
    "prop.test(\n",
    "    x = c(x.PP, x.MM), n = c(n.PP, n.MM), alternative = \"greater\",\n",
    "    conf.level = 0.95\n",
    ")\n",
    "\n",
    "# Vzhledem k p-hodnotě > hl. významnosti 0.05 nezamítáme H0 - tedy předpokl.\n",
    "# shodné chybovosti. Nelze tedy říci, že firma MM má kvalitnější produkci.\n"
   ]
  },
  {
   "cell_type": "code",
   "execution_count": null,
   "id": "dependent-concert",
   "metadata": {
    "vscode": {
     "languageId": "r"
    }
   },
   "outputs": [],
   "source": [
    "# Pearsonův X2 test\n",
    "# H0: pi.PP = pi.MM\n",
    "# Ha: pi.PP != pi.MM\n",
    "\n",
    "prop.test(\n",
    "    x = c(x.PP, x.MM), n = c(n.PP, n.MM), alternative = \"two.sided\",\n",
    "    conf.level = 0.95\n",
    ")\n"
   ]
  },
  {
   "cell_type": "markdown",
   "id": "bridal-greensboro",
   "metadata": {},
   "source": [
    "### b) \n",
    "Otestujte tvrzení firmy MM prostřednictvím intervalového odhadu na hladině významnosti 0,05."
   ]
  },
  {
   "cell_type": "code",
   "execution_count": null,
   "id": "instant-reach",
   "metadata": {
    "vscode": {
     "languageId": "r"
    }
   },
   "outputs": [],
   "source": [
    "# Na základě 95% Clopperova - Pearsonova pravostranného intervalového odhadu\n",
    "# (-0,036; 1,000) lze pozorovaný rozdíl v kvalitě výroby označit za\n",
    "# statisticky nevýznamný. Ke stejným závěrům můžeme dojít i na základě\n",
    "# Pearsonova pravostranného testu\n"
   ]
  }
 ],
 "metadata": {
  "kernelspec": {
   "display_name": "R",
   "language": "R",
   "name": "ir"
  },
  "language_info": {
   "codemirror_mode": "r",
   "file_extension": ".r",
   "mimetype": "text/x-r-source",
   "name": "R",
   "pygments_lexer": "r",
   "version": "4.4.2"
  }
 },
 "nbformat": 4,
 "nbformat_minor": 5
}
