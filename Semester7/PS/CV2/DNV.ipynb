{
 "cells": [
  {
   "cell_type": "markdown",
   "metadata": {},
   "source": [
    "# Cvičení 2 - Diskrétní náhodná veličina\n",
    "## Michal Béreš, Adéla Vrtková, Martina Litschmannová\n",
    "---\n",
    "\n",
    "### Náhodná veličina\n",
    "Náhodná veličina je funkce, která každému elementárnímu jevu přiřazuje reálné číslo.\n",
    "\n",
    "### Diskrétní náhodná veličina\n",
    "Diskrétní náhodná veličina nabývá konečně nebo spočetně mnoha hodnot.\n",
    "\n",
    "### Pravděpodobnostní funkce\n",
    "Pravděpodobnostní funkce je funkce, která každé hodnotě náhodné veličiny přiřazuje pravděpodobnost, že náhodná veličina nabývá této hodnoty.\n",
    "- $P(X = x) = p(x)$\n",
    "\n",
    "### Distribuční funkce\n",
    "Distribuční funkce je funkce, která každému reálnému číslu přiřazuje pravděpodobnost, že náhodná veličina nabývá hodnoty menší než toto číslo.\n",
    "- $F(x) = P(X < x)$\n",
    "\n",
    "### Očekávaná hodnota\n",
    "Očekávaná hodnota (anglicky expected value) je vážený průměr hodnot, které může náhodná veličina nabývat.\n",
    "- Přímo pro $X$ se nazývá střední hodnota: $$E(X) = \\sum_{i=1}^{n} x_i \\cdot p(x_i)$$\n",
    "- V jejím argumentu může být libovolná funkce nad hodnotami náhodné veličiny: $$E(g(X)) = \\sum_{i=1}^{n} g(x_i) \\cdot p(x_i)$$\n",
    "- Takovéto zajímavé funkce jsou například momenty. **obecný moment:** $$E(X^k) = \\sum_{i=1}^{n} x_i^k \\cdot p(x_i)$$ a **centrální moment:** $$E((X - E(X))^k) = \\sum_{i=1}^{n} (x_i - E(X))^k \\cdot p(x_i)$$\n",
    "- První zajímavý centrální moment je rozptyl: $$D(X) = E((X - E(X))^2) = E(X^2) - E(X)^2$$\n",
    "\n",
    "### Další důležité číselné charakteristiky\n",
    "- **Modus** $\\hat{x}$ je hodnota, která má největší pravděpodobnost.\n",
    "- **Směrodatná odchylka** $\\sigma = \\sqrt{D(X)}$ je odmocnina z rozptylu.\n",
    "---"
   ]
  },
  {
   "attachments": {
    "image-3.png": {
     "image/png": "[encoded data removed]"
    }
   },
   "cell_type": "markdown",
   "metadata": {},
   "source": [
    "# Příklady\n",
    "## Příklad 1.\n",
    "Majitel servisního střediska nabídl prodejně automobilů, která si zřídila autopůjčovnu své\n",
    "služby. Za každý automobil zapůjčený jeho prostřednictvím obdrží od autopůjčovny 500,- Kč.\n",
    "Zároveň se však zavázal, že každý den investuje do údržby zapůjčených automobilů 800,- Kč.\n",
    "Počet automobilů zapůjčených prostřednictvím servisního střediska za 1 den je popsán následující pravděpodobnostní funkcí:\n",
    "![image-3.png](attachment:image-3.png)\n",
    "\n",
    "\n",
    "**1. a)**  Hodnota pravděpodobnostní funkce pro 5 automobilů byla špatně čitelná. Určete ji:"
   ]
  },
  {
   "cell_type": "code",
   "execution_count": 1,
   "metadata": {
    "vscode": {
     "languageId": "r"
    }
   },
   "outputs": [
    {
     "data": {
      "text/html": [
       "0.0599999999999999"
      ],
      "text/latex": [
       "0.0599999999999999"
      ],
      "text/markdown": [
       "0.0599999999999999"
      ],
      "text/plain": [
       "[1] 0.06"
      ]
     },
     "metadata": {},
     "output_type": "display_data"
    },
    {
     "data": {
      "text/html": [
       "0.06"
      ],
      "text/latex": [
       "0.06"
      ],
      "text/markdown": [
       "0.06"
      ],
      "text/plain": [
       "[1] 0.06"
      ]
     },
     "metadata": {},
     "output_type": "display_data"
    },
    {
     "data": {
      "text/html": [
       "<style>\n",
       ".list-inline {list-style: none; margin:0; padding: 0}\n",
       ".list-inline>li {display: inline-block}\n",
       ".list-inline>li:not(:last-child)::after {content: \"\\00b7\"; padding: 0 .5ex}\n",
       "</style>\n",
       "<ol class=list-inline><li>0.01</li><li>0.4</li><li>0.25</li><li>0.15</li><li>0.1</li><li>0.06</li><li>0.03</li></ol>\n"
      ],
      "text/latex": [
       "\\begin{enumerate*}\n",
       "\\item 0.01\n",
       "\\item 0.4\n",
       "\\item 0.25\n",
       "\\item 0.15\n",
       "\\item 0.1\n",
       "\\item 0.06\n",
       "\\item 0.03\n",
       "\\end{enumerate*}\n"
      ],
      "text/markdown": [
       "1. 0.01\n",
       "2. 0.4\n",
       "3. 0.25\n",
       "4. 0.15\n",
       "5. 0.1\n",
       "6. 0.06\n",
       "7. 0.03\n",
       "\n",
       "\n"
      ],
      "text/plain": [
       "[1] 0.01 0.40 0.25 0.15 0.10 0.06 0.03"
      ]
     },
     "metadata": {},
     "output_type": "display_data"
    }
   ],
   "source": [
    "x <- c(0, 1, 2, 3, 4, 5, 6)\n",
    "p <- c(0.01, 0.40, 0.25, 0.15, 0.10, 0, 0.03)\n",
    "1 - sum(p) # počítačová aritmetika zde může zlobit\n",
    "round(1 - sum(p), digits = 2) # zaokrouhlíme na setiny\n",
    "p[6] <- round(1 - sum(p), digits = 2) # zápis pro x=5 je 6-tá pozice\n",
    "p\n"
   ]
  },
  {
   "cell_type": "code",
   "execution_count": 2,
   "metadata": {
    "vscode": {
     "languageId": "r"
    }
   },
   "outputs": [
    {
     "data": {
      "image/png": "[encoded data removed]",
      "text/plain": [
       "Plot with title “Pravdepodobnostni funkce”"
      ]
     },
     "metadata": {
      "image/png": {
       "height": 420,
       "width": 420
      }
     },
     "output_type": "display_data"
    }
   ],
   "source": [
    "# Pravděpodobnostní funkce\n",
    "pravd.f <- function(x, p) {\n",
    "    plot(x, p, # plná kolečka - v skutečných hodnotách\n",
    "        ylab = \"p(x)\", xaxt = \"n\", pch = 19, ylim = c(0, max(p)), main = \"Pravdepodobnostni funkce\"\n",
    "    )\n",
    "    lines(c(min(x) - 100, max(x) + 100), c(0, 0))\n",
    "    for (i in seq_along(x)) {\n",
    "        lines(c(min(x) - 100, max(x) + 100), c(p[i], p[i]),\n",
    "            type = \"l\", lty = 3, lwd = 0.5\n",
    "        ) # horizontální grid\n",
    "        lines(c(x[i], x[i]), c(-0.1, 1.1),\n",
    "            type = \"l\", lty = 3, lwd = 0.5\n",
    "        ) # vertikální grid\n",
    "    }\n",
    "    par(new = TRUE) # že chceme kreslit do jednoho grafu\n",
    "    plot(x, p * 0, # prázdná kolečka - tam kde je definovaná nenulová hodnota\n",
    "        ylab = \"p(x)\", xaxt = \"n\", ylim = c(0, max(p))\n",
    "    )\n",
    "    axis(1, at = x, labels = x) # nastavení hodnot na X\n",
    "    axis(4, at = p, labels = p, las = 2, cex.axis = 0.7, tck = -.01) # a Y\n",
    "}\n",
    "\n",
    "pravd.f(x, p)"
   ]
  },
  {
   "cell_type": "markdown",
   "metadata": {},
   "source": [
    "**1. b)**\n",
    "Určete a zakreslete distribuční funkci náhodné veličiny X, která je definována jako počet\n",
    "zapůjčených automobilů."
   ]
  },
  {
   "cell_type": "code",
   "execution_count": 3,
   "metadata": {
    "vscode": {
     "languageId": "r"
    }
   },
   "outputs": [
    {
     "data": {
      "text/html": [
       "<style>\n",
       ".list-inline {list-style: none; margin:0; padding: 0}\n",
       ".list-inline>li {display: inline-block}\n",
       ".list-inline>li:not(:last-child)::after {content: \"\\00b7\"; padding: 0 .5ex}\n",
       "</style>\n",
       "<ol class=list-inline><li>0.01</li><li>0.4</li><li>0.25</li><li>0.15</li><li>0.1</li><li>0.06</li><li>0.03</li></ol>\n"
      ],
      "text/latex": [
       "\\begin{enumerate*}\n",
       "\\item 0.01\n",
       "\\item 0.4\n",
       "\\item 0.25\n",
       "\\item 0.15\n",
       "\\item 0.1\n",
       "\\item 0.06\n",
       "\\item 0.03\n",
       "\\end{enumerate*}\n"
      ],
      "text/markdown": [
       "1. 0.01\n",
       "2. 0.4\n",
       "3. 0.25\n",
       "4. 0.15\n",
       "5. 0.1\n",
       "6. 0.06\n",
       "7. 0.03\n",
       "\n",
       "\n"
      ],
      "text/plain": [
       "[1] 0.01 0.40 0.25 0.15 0.10 0.06 0.03"
      ]
     },
     "metadata": {},
     "output_type": "display_data"
    },
    {
     "data": {
      "text/html": [
       "<style>\n",
       ".list-inline {list-style: none; margin:0; padding: 0}\n",
       ".list-inline>li {display: inline-block}\n",
       ".list-inline>li:not(:last-child)::after {content: \"\\00b7\"; padding: 0 .5ex}\n",
       "</style>\n",
       "<ol class=list-inline><li>0.01</li><li>0.41</li><li>0.66</li><li>0.81</li><li>0.91</li><li>0.97</li><li>1</li></ol>\n"
      ],
      "text/latex": [
       "\\begin{enumerate*}\n",
       "\\item 0.01\n",
       "\\item 0.41\n",
       "\\item 0.66\n",
       "\\item 0.81\n",
       "\\item 0.91\n",
       "\\item 0.97\n",
       "\\item 1\n",
       "\\end{enumerate*}\n"
      ],
      "text/markdown": [
       "1. 0.01\n",
       "2. 0.41\n",
       "3. 0.66\n",
       "4. 0.81\n",
       "5. 0.91\n",
       "6. 0.97\n",
       "7. 1\n",
       "\n",
       "\n"
      ],
      "text/plain": [
       "[1] 0.01 0.41 0.66 0.81 0.91 0.97 1.00"
      ]
     },
     "metadata": {},
     "output_type": "display_data"
    }
   ],
   "source": [
    "p\n",
    "# cumulative sum\n",
    "F_x <- cumsum(p)\n",
    "F_x\n"
   ]
  },
  {
   "cell_type": "code",
   "execution_count": 4,
   "metadata": {
    "vscode": {
     "languageId": "r"
    }
   },
   "outputs": [
    {
     "data": {
      "image/png": "[encoded data removed]",
      "text/plain": [
       "Plot with title “Distribucni funkce”"
      ]
     },
     "metadata": {
      "image/png": {
       "height": 420,
       "width": 420
      }
     },
     "output_type": "display_data"
    }
   ],
   "source": [
    "# Funkce pro výpočet a vykreslení distribuční funkce\n",
    "dist.f <- function(x, p) {\n",
    "    F_x <- cumsum(p)\n",
    "    F_ext <- c(0, F_x) # natáhneme F o 0 na začátku\n",
    "    length_int <- max(x) - min(x)\n",
    "    x_ext <- c(x[1] - 0.1 * length_int, x, x[length(x)] + 0.1 * length_int) # a x z obou stran\n",
    "\n",
    "\n",
    "    plot(x, F_x,\n",
    "        ylab = \"F(x)\", xaxt = \"n\", ylim = c(0, 1), # prazdná kolečka\n",
    "        type = \"p\", main = \"Distribucni funkce\"\n",
    "    )\n",
    "    par(new = TRUE) # že chceme kreslit do jednoho grafu\n",
    "    plot(x, F_ext[1:(length(F_ext) - 1)], # plná kolečka\n",
    "        ylab = \"F(x)\", xaxt = \"n\", ylim = c(0, 1), type = \"p\", pch = 19\n",
    "    )\n",
    "\n",
    "    for (i in 1:(length(x_ext) - 1)) {\n",
    "        lines(c(min(x) - 0.1 * length_int, max(x) + 0.1 * length_int),\n",
    "            c(F_ext[i], F_ext[i]),\n",
    "            type = \"l\", lty = 3, lwd = 0.5\n",
    "        ) # horizontální grid\n",
    "        lines(c(x_ext[i], x_ext[i]), c(-0.1, 1.1),\n",
    "            type = \"l\", lty = 3, lwd = 0.5\n",
    "        ) # vertikální grid\n",
    "        lines(x_ext[i:(i + 1)], c(F_ext[i], F_ext[i])) # graf - čáry\n",
    "    }\n",
    "    axis(1, at = x, labels = x) # nastavení hodnot na X\n",
    "    axis(4, at = F_x, labels = F_x, las = 2, cex.axis = 0.7, tck = -.01) # a Y\n",
    "}\n",
    "\n",
    "dist.f(x, p)\n"
   ]
  },
  {
   "cell_type": "markdown",
   "metadata": {},
   "source": [
    "**1. c)** \n",
    "Určete střední hodnotu, rozptyl, směrodatnou odchylku a modus počtu zapůjčených automobilů během jednoho dne."
   ]
  },
  {
   "cell_type": "code",
   "execution_count": 5,
   "metadata": {
    "vscode": {
     "languageId": "r"
    }
   },
   "outputs": [
    {
     "data": {
      "text/html": [
       "<style>\n",
       ".list-inline {list-style: none; margin:0; padding: 0}\n",
       ".list-inline>li {display: inline-block}\n",
       ".list-inline>li:not(:last-child)::after {content: \"\\00b7\"; padding: 0 .5ex}\n",
       "</style>\n",
       "<ol class=list-inline><li>0</li><li>0.4</li><li>0.5</li><li>0.45</li><li>0.4</li><li>0.3</li><li>0.18</li></ol>\n"
      ],
      "text/latex": [
       "\\begin{enumerate*}\n",
       "\\item 0\n",
       "\\item 0.4\n",
       "\\item 0.5\n",
       "\\item 0.45\n",
       "\\item 0.4\n",
       "\\item 0.3\n",
       "\\item 0.18\n",
       "\\end{enumerate*}\n"
      ],
      "text/markdown": [
       "1. 0\n",
       "2. 0.4\n",
       "3. 0.5\n",
       "4. 0.45\n",
       "5. 0.4\n",
       "6. 0.3\n",
       "7. 0.18\n",
       "\n",
       "\n"
      ],
      "text/plain": [
       "[1] 0.00 0.40 0.50 0.45 0.40 0.30 0.18"
      ]
     },
     "metadata": {},
     "output_type": "display_data"
    },
    {
     "data": {
      "text/html": [
       "2.23"
      ],
      "text/latex": [
       "2.23"
      ],
      "text/markdown": [
       "2.23"
      ],
      "text/plain": [
       "[1] 2.23"
      ]
     },
     "metadata": {},
     "output_type": "display_data"
    }
   ],
   "source": [
    "# Střední hodnota\n",
    "x * p\n",
    "EX <- sum(x * p)\n",
    "EX\n"
   ]
  },
  {
   "cell_type": "code",
   "execution_count": 7,
   "metadata": {
    "vscode": {
     "languageId": "r"
    }
   },
   "outputs": [
    {
     "data": {
      "text/html": [
       "6.93"
      ],
      "text/latex": [
       "6.93"
      ],
      "text/markdown": [
       "6.93"
      ],
      "text/plain": [
       "[1] 6.93"
      ]
     },
     "metadata": {},
     "output_type": "display_data"
    },
    {
     "data": {
      "text/html": [
       "1.9571"
      ],
      "text/latex": [
       "1.9571"
      ],
      "text/markdown": [
       "1.9571"
      ],
      "text/plain": [
       "[1] 1.9571"
      ]
     },
     "metadata": {},
     "output_type": "display_data"
    }
   ],
   "source": [
    "# Rozptyl\n",
    "EX2 <- sum(x * x * p) # druhý obecný moment\n",
    "EX2\n",
    "DX <- EX2 - EX^2\n",
    "DX\n",
    "\n"
   ]
  },
  {
   "cell_type": "code",
   "execution_count": 8,
   "metadata": {
    "vscode": {
     "languageId": "r"
    }
   },
   "outputs": [
    {
     "data": {
      "text/html": [
       "1.398963902322"
      ],
      "text/latex": [
       "1.398963902322"
      ],
      "text/markdown": [
       "1.398963902322"
      ],
      "text/plain": [
       "[1] 1.398964"
      ]
     },
     "metadata": {},
     "output_type": "display_data"
    }
   ],
   "source": [
    "# Směrodatná odchylka\n",
    "sigma.X <- sqrt(DX)\n",
    "sigma.X\n"
   ]
  },
  {
   "cell_type": "code",
   "execution_count": 10,
   "metadata": {
    "vscode": {
     "languageId": "r"
    }
   },
   "outputs": [
    {
     "data": {
      "text/html": [
       "1"
      ],
      "text/latex": [
       "1"
      ],
      "text/markdown": [
       "1"
      ],
      "text/plain": [
       "[1] 1"
      ]
     },
     "metadata": {},
     "output_type": "display_data"
    }
   ],
   "source": [
    "# modus\n",
    "x[which.max(p)]\n"
   ]
  },
  {
   "cell_type": "markdown",
   "metadata": {},
   "source": [
    "**1. d)**\n",
    "Určete pravděpodobnostní funkci a distribuční funkci náhodné veličiny $Z$, která je definována jako zisk majitele servisu."
   ]
  },
  {
   "cell_type": "code",
   "execution_count": 11,
   "metadata": {
    "vscode": {
     "languageId": "r"
    }
   },
   "outputs": [
    {
     "data": {
      "text/html": [
       "<style>\n",
       ".list-inline {list-style: none; margin:0; padding: 0}\n",
       ".list-inline>li {display: inline-block}\n",
       ".list-inline>li:not(:last-child)::after {content: \"\\00b7\"; padding: 0 .5ex}\n",
       "</style>\n",
       "<ol class=list-inline><li>-800</li><li>-300</li><li>200</li><li>700</li><li>1200</li><li>1700</li><li>2200</li></ol>\n"
      ],
      "text/latex": [
       "\\begin{enumerate*}\n",
       "\\item -800\n",
       "\\item -300\n",
       "\\item 200\n",
       "\\item 700\n",
       "\\item 1200\n",
       "\\item 1700\n",
       "\\item 2200\n",
       "\\end{enumerate*}\n"
      ],
      "text/markdown": [
       "1. -800\n",
       "2. -300\n",
       "3. 200\n",
       "4. 700\n",
       "5. 1200\n",
       "6. 1700\n",
       "7. 2200\n",
       "\n",
       "\n"
      ],
      "text/plain": [
       "[1] -800 -300  200  700 1200 1700 2200"
      ]
     },
     "metadata": {},
     "output_type": "display_data"
    }
   ],
   "source": [
    "z <- 500 * x - 800\n",
    "z\n",
    "\n"
   ]
  },
  {
   "cell_type": "code",
   "execution_count": null,
   "metadata": {
    "vscode": {
     "languageId": "r"
    }
   },
   "outputs": [],
   "source": [
    "pravd.f(z, p)\n"
   ]
  },
  {
   "cell_type": "code",
   "execution_count": null,
   "metadata": {
    "vscode": {
     "languageId": "r"
    }
   },
   "outputs": [],
   "source": [
    "# Distribuční funkce\n",
    "dist.f(z, p)\n"
   ]
  },
  {
   "cell_type": "markdown",
   "metadata": {},
   "source": [
    "**1. e)** \n",
    "Určete střední hodnotu, směrodatnou odchylku a modus zisku majitele servisu ze zapůjčených automobilů během jednoho dne."
   ]
  },
  {
   "cell_type": "code",
   "execution_count": 12,
   "metadata": {
    "vscode": {
     "languageId": "r"
    }
   },
   "outputs": [
    {
     "data": {
      "text/html": [
       "315"
      ],
      "text/latex": [
       "315"
      ],
      "text/markdown": [
       "315"
      ],
      "text/plain": [
       "[1] 315"
      ]
     },
     "metadata": {},
     "output_type": "display_data"
    },
    {
     "data": {
      "text/html": [
       "489275"
      ],
      "text/latex": [
       "489275"
      ],
      "text/markdown": [
       "489275"
      ],
      "text/plain": [
       "[1] 489275"
      ]
     },
     "metadata": {},
     "output_type": "display_data"
    },
    {
     "data": {
      "text/html": [
       "699.481951161"
      ],
      "text/latex": [
       "699.481951161"
      ],
      "text/markdown": [
       "699.481951161"
      ],
      "text/plain": [
       "[1] 699.482"
      ]
     },
     "metadata": {},
     "output_type": "display_data"
    },
    {
     "data": {
      "text/html": [
       "-300"
      ],
      "text/latex": [
       "-300"
      ],
      "text/markdown": [
       "-300"
      ],
      "text/plain": [
       "[1] -300"
      ]
     },
     "metadata": {},
     "output_type": "display_data"
    }
   ],
   "source": [
    "# použijeme vzorec pro střední hodnotu a rozptyl\n",
    "# E(aX + b) = aE(X) + b\n",
    "# D(aX + b) = a^2D(X)\n",
    "\n",
    "EZ <- 500 * EX - 800\n",
    "EZ\n",
    "\n",
    "DZ <- 500^2 * DX\n",
    "DZ\n",
    "\n",
    "sigma.Z <- sqrt(DZ)\n",
    "sigma.Z\n",
    "\n",
    "# modus\n",
    "z[which.max(p)]\n"
   ]
  },
  {
   "cell_type": "markdown",
   "metadata": {},
   "source": [
    "**1. f)**\n",
    "Určete pravděpodobnost, že v daný den nebude majitel autoservisu prodělávat (kladný zisk)."
   ]
  },
  {
   "cell_type": "code",
   "execution_count": 17,
   "metadata": {
    "vscode": {
     "languageId": "r"
    }
   },
   "outputs": [
    {
     "data": {
      "text/html": [
       "<style>\n",
       ".list-inline {list-style: none; margin:0; padding: 0}\n",
       ".list-inline>li {display: inline-block}\n",
       ".list-inline>li:not(:last-child)::after {content: \"\\00b7\"; padding: 0 .5ex}\n",
       "</style>\n",
       "<ol class=list-inline><li>0.01</li><li>0.4</li><li>0.25</li><li>0.15</li><li>0.1</li><li>0.06</li><li>0.03</li></ol>\n"
      ],
      "text/latex": [
       "\\begin{enumerate*}\n",
       "\\item 0.01\n",
       "\\item 0.4\n",
       "\\item 0.25\n",
       "\\item 0.15\n",
       "\\item 0.1\n",
       "\\item 0.06\n",
       "\\item 0.03\n",
       "\\end{enumerate*}\n"
      ],
      "text/markdown": [
       "1. 0.01\n",
       "2. 0.4\n",
       "3. 0.25\n",
       "4. 0.15\n",
       "5. 0.1\n",
       "6. 0.06\n",
       "7. 0.03\n",
       "\n",
       "\n"
      ],
      "text/plain": [
       "[1] 0.01 0.40 0.25 0.15 0.10 0.06 0.03"
      ]
     },
     "metadata": {},
     "output_type": "display_data"
    },
    {
     "data": {
      "text/html": [
       "<style>\n",
       ".list-inline {list-style: none; margin:0; padding: 0}\n",
       ".list-inline>li {display: inline-block}\n",
       ".list-inline>li:not(:last-child)::after {content: \"\\00b7\"; padding: 0 .5ex}\n",
       "</style>\n",
       "<ol class=list-inline><li>FALSE</li><li>FALSE</li><li>TRUE</li><li>TRUE</li><li>TRUE</li><li>TRUE</li><li>TRUE</li></ol>\n"
      ],
      "text/latex": [
       "\\begin{enumerate*}\n",
       "\\item FALSE\n",
       "\\item FALSE\n",
       "\\item TRUE\n",
       "\\item TRUE\n",
       "\\item TRUE\n",
       "\\item TRUE\n",
       "\\item TRUE\n",
       "\\end{enumerate*}\n"
      ],
      "text/markdown": [
       "1. FALSE\n",
       "2. FALSE\n",
       "3. TRUE\n",
       "4. TRUE\n",
       "5. TRUE\n",
       "6. TRUE\n",
       "7. TRUE\n",
       "\n",
       "\n"
      ],
      "text/plain": [
       "[1] FALSE FALSE  TRUE  TRUE  TRUE  TRUE  TRUE"
      ]
     },
     "metadata": {},
     "output_type": "display_data"
    },
    {
     "data": {
      "text/html": [
       "0.59"
      ],
      "text/latex": [
       "0.59"
      ],
      "text/markdown": [
       "0.59"
      ],
      "text/plain": [
       "[1] 0.59"
      ]
     },
     "metadata": {},
     "output_type": "display_data"
    }
   ],
   "source": [
    "# příjem převýší výdaje, když je zisk kladný\n",
    "p\n",
    "z > 0\n",
    "sum(p[z > 0])"
   ]
  },
  {
   "cell_type": "markdown",
   "metadata": {},
   "source": [
    "## Příklad č. 2\n",
    "Pro distribuční funkci náhodné veličiny $X$ platí:\n",
    "\n",
    "$F(x)=\\begin{cases}\n",
    "0   &      x \\leq -1 \\\\\n",
    "0.3 & -1 < x \\leq  0 \\\\\n",
    "0.7 &  0 < x \\leq  1 \\\\\n",
    "1   & 1 < x\n",
    "\\end{cases}$\n",
    "\n",
    "**2. a)** \n",
    "Určete pravděpodobnostní funkci náhodné veličiny $X$, její střední hodnotu a směrodatnou odchylku."
   ]
  },
  {
   "cell_type": "code",
   "execution_count": 18,
   "metadata": {
    "vscode": {
     "languageId": "r"
    }
   },
   "outputs": [
    {
     "data": {
      "text/html": [
       "<style>\n",
       ".list-inline {list-style: none; margin:0; padding: 0}\n",
       ".list-inline>li {display: inline-block}\n",
       ".list-inline>li:not(:last-child)::after {content: \"\\00b7\"; padding: 0 .5ex}\n",
       "</style>\n",
       "<ol class=list-inline><li>0</li><li>0.3</li><li>0.7</li><li>1</li></ol>\n"
      ],
      "text/latex": [
       "\\begin{enumerate*}\n",
       "\\item 0\n",
       "\\item 0.3\n",
       "\\item 0.7\n",
       "\\item 1\n",
       "\\end{enumerate*}\n"
      ],
      "text/markdown": [
       "1. 0\n",
       "2. 0.3\n",
       "3. 0.7\n",
       "4. 1\n",
       "\n",
       "\n"
      ],
      "text/plain": [
       "[1] 0.0 0.3 0.7 1.0"
      ]
     },
     "metadata": {},
     "output_type": "display_data"
    },
    {
     "data": {
      "text/html": [
       "<style>\n",
       ".list-inline {list-style: none; margin:0; padding: 0}\n",
       ".list-inline>li {display: inline-block}\n",
       ".list-inline>li:not(:last-child)::after {content: \"\\00b7\"; padding: 0 .5ex}\n",
       "</style>\n",
       "<ol class=list-inline><li>-1</li><li>0</li><li>1</li></ol>\n"
      ],
      "text/latex": [
       "\\begin{enumerate*}\n",
       "\\item -1\n",
       "\\item 0\n",
       "\\item 1\n",
       "\\end{enumerate*}\n"
      ],
      "text/markdown": [
       "1. -1\n",
       "2. 0\n",
       "3. 1\n",
       "\n",
       "\n"
      ],
      "text/plain": [
       "[1] -1  0  1"
      ]
     },
     "metadata": {},
     "output_type": "display_data"
    }
   ],
   "source": [
    "F_x <- c(0, 0.3, 0.7, 1)\n",
    "F_x\n",
    "x <- c(-1, 0, 1)\n",
    "x\n"
   ]
  },
  {
   "cell_type": "code",
   "execution_count": 19,
   "metadata": {
    "vscode": {
     "languageId": "r"
    }
   },
   "outputs": [
    {
     "data": {
      "text/html": [
       "<style>\n",
       ".list-inline {list-style: none; margin:0; padding: 0}\n",
       ".list-inline>li {display: inline-block}\n",
       ".list-inline>li:not(:last-child)::after {content: \"\\00b7\"; padding: 0 .5ex}\n",
       "</style>\n",
       "<ol class=list-inline><li>-1</li><li>0</li><li>1</li></ol>\n"
      ],
      "text/latex": [
       "\\begin{enumerate*}\n",
       "\\item -1\n",
       "\\item 0\n",
       "\\item 1\n",
       "\\end{enumerate*}\n"
      ],
      "text/markdown": [
       "1. -1\n",
       "2. 0\n",
       "3. 1\n",
       "\n",
       "\n"
      ],
      "text/plain": [
       "[1] -1  0  1"
      ]
     },
     "metadata": {},
     "output_type": "display_data"
    },
    {
     "data": {
      "text/html": [
       "<style>\n",
       ".list-inline {list-style: none; margin:0; padding: 0}\n",
       ".list-inline>li {display: inline-block}\n",
       ".list-inline>li:not(:last-child)::after {content: \"\\00b7\"; padding: 0 .5ex}\n",
       "</style>\n",
       "<ol class=list-inline><li>0.3</li><li>0.4</li><li>0.3</li></ol>\n"
      ],
      "text/latex": [
       "\\begin{enumerate*}\n",
       "\\item 0.3\n",
       "\\item 0.4\n",
       "\\item 0.3\n",
       "\\end{enumerate*}\n"
      ],
      "text/markdown": [
       "1. 0.3\n",
       "2. 0.4\n",
       "3. 0.3\n",
       "\n",
       "\n"
      ],
      "text/plain": [
       "[1] 0.3 0.4 0.3"
      ]
     },
     "metadata": {},
     "output_type": "display_data"
    }
   ],
   "source": [
    "p <- diff(F_x)\n",
    "x\n",
    "p\n"
   ]
  },
  {
   "cell_type": "code",
   "execution_count": 20,
   "metadata": {
    "vscode": {
     "languageId": "r"
    }
   },
   "outputs": [
    {
     "data": {
      "image/png": "[encoded data removed]",
      "text/plain": [
       "Plot with title “Pravdepodobnostni funkce”"
      ]
     },
     "metadata": {
      "image/png": {
       "height": 420,
       "width": 420
      }
     },
     "output_type": "display_data"
    }
   ],
   "source": [
    "pravd.f(x, p)\n"
   ]
  },
  {
   "cell_type": "code",
   "execution_count": null,
   "metadata": {
    "vscode": {
     "languageId": "r"
    }
   },
   "outputs": [],
   "source": [
    "dist.f(x, p)\n"
   ]
  },
  {
   "cell_type": "code",
   "execution_count": null,
   "metadata": {
    "vscode": {
     "languageId": "r"
    }
   },
   "outputs": [],
   "source": [
    "# střední hodnota\n",
    "EX <- sum(x * p)\n",
    "EX\n",
    "# rozptyl\n",
    "EX2 <- sum(x * x * p)\n",
    "DX <- EX2 - EX^2\n",
    "DX\n",
    "# směrodatná odchylka\n",
    "sigma.X <- sqrt(DX)\n",
    "sigma.X"
   ]
  },
  {
   "cell_type": "markdown",
   "metadata": {},
   "source": [
    "**2. b)**\n",
    "Náhodná veličina $Y = 1 − 3X$, určete $P(y), F(y), E(Y), D(Y)$."
   ]
  },
  {
   "cell_type": "code",
   "execution_count": 21,
   "metadata": {
    "vscode": {
     "languageId": "r"
    }
   },
   "outputs": [
    {
     "data": {
      "image/png": "[encoded data removed]",
      "text/plain": [
       "Plot with title “Pravdepodobnostni funkce”"
      ]
     },
     "metadata": {
      "image/png": {
       "height": 420,
       "width": 420
      }
     },
     "output_type": "display_data"
    }
   ],
   "source": [
    "y <- 1 - 3 * x\n",
    "pravd.f(y, p)\n"
   ]
  },
  {
   "cell_type": "code",
   "execution_count": 22,
   "metadata": {
    "vscode": {
     "languageId": "r"
    }
   },
   "outputs": [
    {
     "data": {
      "text/html": [
       "<style>\n",
       ".list-inline {list-style: none; margin:0; padding: 0}\n",
       ".list-inline>li {display: inline-block}\n",
       ".list-inline>li:not(:last-child)::after {content: \"\\00b7\"; padding: 0 .5ex}\n",
       "</style>\n",
       "<ol class=list-inline><li>4</li><li>1</li><li>-2</li></ol>\n"
      ],
      "text/latex": [
       "\\begin{enumerate*}\n",
       "\\item 4\n",
       "\\item 1\n",
       "\\item -2\n",
       "\\end{enumerate*}\n"
      ],
      "text/markdown": [
       "1. 4\n",
       "2. 1\n",
       "3. -2\n",
       "\n",
       "\n"
      ],
      "text/plain": [
       "[1]  4  1 -2"
      ]
     },
     "metadata": {},
     "output_type": "display_data"
    },
    {
     "data": {
      "text/html": [
       "<style>\n",
       ".list-inline {list-style: none; margin:0; padding: 0}\n",
       ".list-inline>li {display: inline-block}\n",
       ".list-inline>li:not(:last-child)::after {content: \"\\00b7\"; padding: 0 .5ex}\n",
       "</style>\n",
       "<ol class=list-inline><li>0.3</li><li>0.4</li><li>0.3</li></ol>\n"
      ],
      "text/latex": [
       "\\begin{enumerate*}\n",
       "\\item 0.3\n",
       "\\item 0.4\n",
       "\\item 0.3\n",
       "\\end{enumerate*}\n"
      ],
      "text/markdown": [
       "1. 0.3\n",
       "2. 0.4\n",
       "3. 0.3\n",
       "\n",
       "\n"
      ],
      "text/plain": [
       "[1] 0.3 0.4 0.3"
      ]
     },
     "metadata": {},
     "output_type": "display_data"
    },
    {
     "data": {
      "image/png": "[encoded data removed]",
      "text/plain": [
       "Plot with title “Distribucni funkce”"
      ]
     },
     "metadata": {
      "image/png": {
       "height": 420,
       "width": 420
      }
     },
     "output_type": "display_data"
    }
   ],
   "source": [
    "dist.f(y, p) # Nesmyslný výstup - čím je to způsobeno?\n",
    "y\n",
    "p\n"
   ]
  },
  {
   "cell_type": "code",
   "execution_count": 23,
   "metadata": {
    "vscode": {
     "languageId": "r"
    }
   },
   "outputs": [
    {
     "data": {
      "text/html": [
       "<style>\n",
       ".list-inline {list-style: none; margin:0; padding: 0}\n",
       ".list-inline>li {display: inline-block}\n",
       ".list-inline>li:not(:last-child)::after {content: \"\\00b7\"; padding: 0 .5ex}\n",
       "</style>\n",
       "<ol class=list-inline><li>4</li><li>1</li><li>-2</li></ol>\n"
      ],
      "text/latex": [
       "\\begin{enumerate*}\n",
       "\\item 4\n",
       "\\item 1\n",
       "\\item -2\n",
       "\\end{enumerate*}\n"
      ],
      "text/markdown": [
       "1. 4\n",
       "2. 1\n",
       "3. -2\n",
       "\n",
       "\n"
      ],
      "text/plain": [
       "[1]  4  1 -2"
      ]
     },
     "metadata": {},
     "output_type": "display_data"
    },
    {
     "data": {
      "text/html": [
       "<style>\n",
       ".list-inline {list-style: none; margin:0; padding: 0}\n",
       ".list-inline>li {display: inline-block}\n",
       ".list-inline>li:not(:last-child)::after {content: \"\\00b7\"; padding: 0 .5ex}\n",
       "</style>\n",
       "<ol class=list-inline><li>-2</li><li>1</li><li>4</li></ol>\n"
      ],
      "text/latex": [
       "\\begin{enumerate*}\n",
       "\\item -2\n",
       "\\item 1\n",
       "\\item 4\n",
       "\\end{enumerate*}\n"
      ],
      "text/markdown": [
       "1. -2\n",
       "2. 1\n",
       "3. 4\n",
       "\n",
       "\n"
      ],
      "text/plain": [
       "[1] -2  1  4"
      ]
     },
     "metadata": {},
     "output_type": "display_data"
    },
    {
     "data": {
      "text/html": [
       "<style>\n",
       ".list-inline {list-style: none; margin:0; padding: 0}\n",
       ".list-inline>li {display: inline-block}\n",
       ".list-inline>li:not(:last-child)::after {content: \"\\00b7\"; padding: 0 .5ex}\n",
       "</style>\n",
       "<ol class=list-inline><li>3</li><li>2</li><li>1</li></ol>\n"
      ],
      "text/latex": [
       "\\begin{enumerate*}\n",
       "\\item 3\n",
       "\\item 2\n",
       "\\item 1\n",
       "\\end{enumerate*}\n"
      ],
      "text/markdown": [
       "1. 3\n",
       "2. 2\n",
       "3. 1\n",
       "\n",
       "\n"
      ],
      "text/plain": [
       "[1] 3 2 1"
      ]
     },
     "metadata": {},
     "output_type": "display_data"
    },
    {
     "data": {
      "text/html": [
       "<style>\n",
       ".list-inline {list-style: none; margin:0; padding: 0}\n",
       ".list-inline>li {display: inline-block}\n",
       ".list-inline>li:not(:last-child)::after {content: \"\\00b7\"; padding: 0 .5ex}\n",
       "</style>\n",
       "<ol class=list-inline><li>0.3</li><li>0.4</li><li>0.3</li></ol>\n"
      ],
      "text/latex": [
       "\\begin{enumerate*}\n",
       "\\item 0.3\n",
       "\\item 0.4\n",
       "\\item 0.3\n",
       "\\end{enumerate*}\n"
      ],
      "text/markdown": [
       "1. 0.3\n",
       "2. 0.4\n",
       "3. 0.3\n",
       "\n",
       "\n"
      ],
      "text/plain": [
       "[1] 0.3 0.4 0.3"
      ]
     },
     "metadata": {},
     "output_type": "display_data"
    }
   ],
   "source": [
    "y\n",
    "sort(y)\n",
    "idx_sorted <- order(y) # funkce order vrátí indexy setřízeného pořadí\n",
    "idx_sorted\n",
    "y <- y[idx_sorted]\n",
    "p_y <- p[idx_sorted]\n",
    "p_y\n"
   ]
  },
  {
   "cell_type": "code",
   "execution_count": 24,
   "metadata": {
    "vscode": {
     "languageId": "r"
    }
   },
   "outputs": [
    {
     "data": {
      "image/png": "[encoded data removed]",
      "text/plain": [
       "Plot with title “Distribucni funkce”"
      ]
     },
     "metadata": {
      "image/png": {
       "height": 420,
       "width": 420
      }
     },
     "output_type": "display_data"
    }
   ],
   "source": [
    "dist.f(y, p_y)\n"
   ]
  },
  {
   "cell_type": "code",
   "execution_count": null,
   "metadata": {
    "vscode": {
     "languageId": "r"
    }
   },
   "outputs": [],
   "source": [
    "# zde stále můžeme použít vzorec pro střední hodnotu a rozptyl\n",
    "# E(aX + b) = aE(X) + b\n",
    "# D(aX + b) = a^2D(X)\n",
    "\n",
    "EY <- 1 - 3 * EX\n",
    "EY\n",
    "\n",
    "DY <- 3^2 * DX\n",
    "DY\n",
    "\n",
    "sigma.Y <- sqrt(DY)\n",
    "sigma.Y"
   ]
  },
  {
   "cell_type": "markdown",
   "metadata": {},
   "source": [
    "**2. c)** \n",
    "Náhodná veličina $W = 3X^2$, určete $P(w), F(w), E(W), D(W)$."
   ]
  },
  {
   "cell_type": "code",
   "execution_count": null,
   "metadata": {
    "vscode": {
     "languageId": "r"
    }
   },
   "outputs": [],
   "source": [
    "w <- 3 * x * x\n",
    "w\n"
   ]
  },
  {
   "cell_type": "code",
   "execution_count": null,
   "metadata": {
    "vscode": {
     "languageId": "r"
    }
   },
   "outputs": [],
   "source": [
    "pravd.f(w, p)\n",
    "dist.f(w, p)\n"
   ]
  },
  {
   "cell_type": "code",
   "execution_count": null,
   "metadata": {
    "vscode": {
     "languageId": "r"
    }
   },
   "outputs": [],
   "source": [
    "# distribuční funkce opět vypadá rozbitě, máme duplicitní hodnoty ve w\n",
    "\n",
    "w\n",
    "w_uniq <- unique(w)\n",
    "w_uniq\n",
    "w_sorted <- sort(w_uniq)\n",
    "w_sorted\n"
   ]
  },
  {
   "cell_type": "code",
   "execution_count": null,
   "metadata": {
    "vscode": {
     "languageId": "r"
    }
   },
   "outputs": [],
   "source": [
    "# ale jak se změní pravděpodobnosti?\n",
    "p_w <- w_sorted * 0 # inicializace pole o stejné velikosti\n",
    "for (i in seq_along(w_sorted)) {\n",
    "    p_w[i] <- sum(p[w == w_sorted[i]])\n",
    "}\n",
    "p_w\n"
   ]
  },
  {
   "cell_type": "code",
   "execution_count": null,
   "metadata": {
    "vscode": {
     "languageId": "r"
    }
   },
   "outputs": [],
   "source": [
    "pravd.f(w_sorted, p_w)\n",
    "dist.f(w_sorted, p_w)\n"
   ]
  },
  {
   "cell_type": "code",
   "execution_count": null,
   "metadata": {
    "vscode": {
     "languageId": "r"
    }
   },
   "outputs": [],
   "source": [
    "# charakteristiky\n",
    "\n",
    "EW <- sum(w_sorted * p_w)\n",
    "EW\n",
    "\n",
    "DW <- sum(w_sorted * w_sorted * p_w) - EW^2\n",
    "DW\n",
    "\n",
    "sigma.W <- sqrt(DW)\n",
    "sigma.W\n"
   ]
  },
  {
   "cell_type": "markdown",
   "metadata": {},
   "source": [
    "## Příklad 3.\n",
    "V dílně jsou dva stroje pracující nezávisle na sobě. Pravděpodobnost poruchy prvního stroje\n",
    "je 0,2, pravděpodobnost poruchy druhého stroje je 0,3. Náhodná veličina $X$ je definována jako\n",
    "počet současně porouchaných strojů. Určete:\n",
    "\n",
    "**3. a)** \n",
    "pravděpodobnostní funkci náhodné veličiny $X$,"
   ]
  },
  {
   "cell_type": "code",
   "execution_count": null,
   "metadata": {
    "vscode": {
     "languageId": "r"
    }
   },
   "outputs": [],
   "source": [
    "x <- c(0, 1, 2)\n",
    "x\n",
    "p1 <- 0.2\n",
    "p2 <- 0.3\n"
   ]
  },
  {
   "cell_type": "code",
   "execution_count": null,
   "metadata": {
    "vscode": {
     "languageId": "r"
    }
   },
   "outputs": [],
   "source": [
    "p <- x * 0\n",
    "# spočteme jednotlivé pravděpodobnosti počtu porouchaných strojů\n",
    "p[1] <- (1 - p1) * (1 - p2) # 0 porouchaných tedy oba v provozu\n",
    "p[3] <- p1 * p2 # 2 tedy porouchané oba\n",
    "p\n",
    "1 - sum(p)\n",
    "p[2] <- (1 - p1) * p2 + p1 * (1 - p2) # právě jeden - buď první nebo druhý\n",
    "p\n"
   ]
  },
  {
   "cell_type": "code",
   "execution_count": null,
   "metadata": {
    "vscode": {
     "languageId": "r"
    }
   },
   "outputs": [],
   "source": [
    "sum(p)\n"
   ]
  },
  {
   "cell_type": "code",
   "execution_count": null,
   "metadata": {
    "vscode": {
     "languageId": "r"
    }
   },
   "outputs": [],
   "source": [
    "pravd.f(x, p)\n"
   ]
  },
  {
   "cell_type": "markdown",
   "metadata": {},
   "source": [
    "**3. b)**\n",
    "distribuční funkci náhodné veličiny $X$,"
   ]
  },
  {
   "cell_type": "code",
   "execution_count": null,
   "metadata": {
    "vscode": {
     "languageId": "r"
    }
   },
   "outputs": [],
   "source": [
    "dist.f(x, p)\n"
   ]
  },
  {
   "cell_type": "markdown",
   "metadata": {},
   "source": [
    "**3. c)**\n",
    "střední hodnotu a rozptyl náhodné veličiny $X$."
   ]
  },
  {
   "cell_type": "code",
   "execution_count": null,
   "metadata": {
    "vscode": {
     "languageId": "r"
    }
   },
   "outputs": [],
   "source": [
    "# charakteristiky\n",
    "EX <- sum(x * p)\n",
    "EX\n",
    "\n",
    "EX2 <- sum(x * x * p)\n",
    "DX <- EX2 - EX^2\n",
    "DX\n",
    "\n",
    "sigma.X <- sqrt(DX)\n",
    "sigma.X\n"
   ]
  }
 ],
 "metadata": {
  "kernelspec": {
   "display_name": "R",
   "language": "R",
   "name": "ir"
  },
  "language_info": {
   "codemirror_mode": "r",
   "file_extension": ".r",
   "mimetype": "text/x-r-source",
   "name": "R",
   "pygments_lexer": "r",
   "version": "4.5.1"
  }
 },
 "nbformat": 4,
 "nbformat_minor": 4
}
