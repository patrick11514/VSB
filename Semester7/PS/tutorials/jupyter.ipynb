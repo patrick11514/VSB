{
 "cells": [
  {
   "cell_type": "markdown",
   "metadata": {},
   "source": [
    "# Tutoriál k Jupyteru/Jupyter Labu/Binderu\n",
    "Ve zkratce si ukážeme základní funkce Jupyteru\n",
    "\n",
    "## Prostředí na lokálním počítači\n",
    "Pokud vám běží Jupyter u vás na počítači sdílí R engine se zbytkem aplikací využívající R jako třeba R studio (pokud jste si specificky nevytvořili další instalaci R speciálně pro Jupyter - například dvě různé Environments v Anacondě).\n",
    "\n",
    "Balíčky stačí vždy instalovat pouze jednou a pak budou k dispozici pro všechny aplikace (co naistaluji zde, je k dispozici v Rstudiu)\n",
    "\n",
    "**Pomocí CTRL + ENTER spustíte buňku a zároveň v ní zůstanete.**\n",
    "\n",
    "**Pomocí SHIFT + ENTER spustíte buňku a skočíte na další pod ní.**"
   ]
  },
  {
   "cell_type": "code",
   "execution_count": null,
   "metadata": {
    "vscode": {
     "languageId": "r"
    }
   },
   "outputs": [],
   "source": [
    "# install.packages('readxl')\n"
   ]
  },
  {
   "cell_type": "markdown",
   "metadata": {},
   "source": [
    "**Pomocí TAB zapnete našeptávání.**\n",
    "\n",
    "**Po dokončení aktuálního příkazu se objeví v In [ ]: číslo, pokud příkaz stále běží je tam '*'.**\n",
    "\n",
    "**Pomocí čísla v In [ ] poznáte, které buňky jste už spustili a které ne, případně v jakém pořadí.**"
   ]
  },
  {
   "cell_type": "code",
   "execution_count": null,
   "metadata": {
    "vscode": {
     "languageId": "r"
    }
   },
   "outputs": [],
   "source": [
    "library(readxl)\n"
   ]
  },
  {
   "cell_type": "markdown",
   "metadata": {},
   "source": [
    "## Zobrazování výstupů\n",
    "**Rozdělit aktuální buňku lze pomocí CTRL + SHIFT + '-'**\n",
    "\n",
    "**Skrýt vástup aktuální buňky lze pomocí 'o'**\n",
    "\n",
    "**Srolovat aktuální výstup lze pomocí SHIFT + 'o'**"
   ]
  },
  {
   "cell_type": "code",
   "execution_count": null,
   "metadata": {
    "scrolled": true,
    "vscode": {
     "languageId": "r"
    }
   },
   "outputs": [],
   "source": [
    "data <- read.csv2(file = \"./data/aku.csv\")\n",
    "data\n",
    "boxplot(data)\n"
   ]
  },
  {
   "cell_type": "markdown",
   "metadata": {},
   "source": [
    "## Vkládání a odstraňování nových buněk\n",
    "\n",
    "**Pomocí 'A' vložíte novou buňku před aktuální buňku.**\n",
    "\n",
    "**Pomocí 'B' vložíte novou buňku za aktuální buňku (také lze pluskem v liště).**\n",
    "\n",
    "**Pomocí 'X' odstraníte současnou buňku (také pomocí nůžek v liště).**\n",
    "\n",
    "Pro tyto příkazy musíte mít na buňkách focus, ale nesmíte je mít otevřené k editaci - lzde docílit klikem na levo od In [ ]:"
   ]
  },
  {
   "cell_type": "markdown",
   "metadata": {},
   "source": [
    "## Zastavení aktuálního výpočtu, restart kernelu\n",
    "**Zastavení současného výpočtu lze pomoví 'Interupt kernel' (čtvereček v liště).**\n",
    "\n",
    "**Restart aktuálního kernelu lze pomocí 'Reset the kernel' (kulatá šipka v liště).**"
   ]
  },
  {
   "cell_type": "code",
   "execution_count": null,
   "metadata": {
    "vscode": {
     "languageId": "r"
    }
   },
   "outputs": [],
   "source": [
    "a <- 1\n",
    "while (5 > 3) {\n",
    "    a <- a + 1\n",
    "}\n"
   ]
  },
  {
   "cell_type": "code",
   "execution_count": null,
   "metadata": {
    "vscode": {
     "languageId": "r"
    }
   },
   "outputs": [],
   "source": [
    "a\n"
   ]
  },
  {
   "cell_type": "markdown",
   "metadata": {},
   "source": [
    "## Vyčištění všech výstupů\n",
    "\n",
    "**Cell->All Outputs->Clear**"
   ]
  },
  {
   "cell_type": "markdown",
   "metadata": {},
   "source": [
    "## Nápověda"
   ]
  },
  {
   "cell_type": "code",
   "execution_count": null,
   "metadata": {
    "vscode": {
     "languageId": "r"
    }
   },
   "outputs": [],
   "source": [
    "help(sequence)\n"
   ]
  }
 ],
 "metadata": {
  "kernelspec": {
   "display_name": "R",
   "language": "R",
   "name": "ir"
  },
  "language_info": {
   "codemirror_mode": "r",
   "file_extension": ".r",
   "mimetype": "text/x-r-source",
   "name": "R",
   "pygments_lexer": "r",
   "version": "4.3.1"
  },
  "toc-autonumbering": false,
  "toc-showcode": false,
  "toc-showmarkdowntxt": false
 },
 "nbformat": 4,
 "nbformat_minor": 4
}
