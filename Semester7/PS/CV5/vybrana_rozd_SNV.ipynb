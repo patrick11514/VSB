{
 "cells": [
  {
   "cell_type": "markdown",
   "metadata": {},
   "source": [
    "# Cvičení 5 - Vybraná rozdělení spojité náhodné veličiny\n",
    "## Martina Litschmannová, Adéla Vrtková, Michal Béreš\n",
    "---"
   ]
  },
  {
   "cell_type": "markdown",
   "metadata": {},
   "source": [
    "# Přehled typů R-kových funkcí (prefix ve jménech funkcí)\n",
    "### Hustota pravděpodobnosti\n",
    "- začíná písmenkem **d**: p = d...(x, ...)\n",
    "\n",
    "### Distribuční funkce\n",
    "- začíná písmenkem **p**: $p = P(X < x)$: p = p...(x, ...)\n",
    "\n",
    "### Kvantilová funkce\n",
    "- začíná písmenkem **q**:  najdi x pro zadané p: $p = F(x) \\rightarrow x = F^{-1}(p)$: x = q...(p, ...)\n",
    "---"
   ]
  },
  {
   "cell_type": "markdown",
   "metadata": {},
   "source": [
    "# Přehled rozdělení (sufix ve jménech funkcí)\n",
    "### Rovnoměrné rozdělení: $$X \\sim Ro(a, b)$$\n",
    "- náhodná veličina nabývá pouze hodnot větších než $a$ a menších než $b$\n",
    "- všechny hodnoty mají stejnou hustotu výskytu -> hustota pravděpodobnosti je konstantní mezi $a$ a $b$, jinde nulová\n",
    "\n",
    "$$f(x) = \\begin{cases} \\frac{1}{b-a} & \\text{pro } x \\in (a, b) \\\\ 0 & \\text{jinak} \\end{cases}$$\n",
    "$$F(x) = \\begin{cases} 0 & \\text{pro } x \\leq a \\\\ \\frac{x-a}{b-a} & \\text{pro } x \\in (a, b) \\\\ 1 & \\text{pro } x \\geq b \\end{cases}$$\n",
    "$$E(X) = \\frac{a+b}{2}$$\n",
    "$$D(X) = \\frac{(b-a)^2}{12}$$"
   ]
  },
  {
   "cell_type": "code",
   "execution_count": null,
   "metadata": {
    "vscode": {
     "languageId": "r"
    }
   },
   "outputs": [],
   "source": [
    "# Hustota pravděpodobnosti f(x)\n",
    "a <- 2 # odkud\n",
    "b <- 4 # kam\n",
    "x <- 3\n",
    "dunif(x, a, b)\n"
   ]
  },
  {
   "cell_type": "code",
   "execution_count": null,
   "metadata": {
    "vscode": {
     "languageId": "r"
    }
   },
   "outputs": [],
   "source": [
    "# Distribuční funkce F(x) = P(X < x)\n",
    "punif(x, a, b)\n"
   ]
  },
  {
   "cell_type": "code",
   "execution_count": null,
   "metadata": {
    "vscode": {
     "languageId": "r"
    }
   },
   "outputs": [],
   "source": [
    "# vykreslíme si Hustotu pravděpodobnosti\n",
    "x <- seq(from = 0, to = 6, by = 0.01)\n",
    "f_x <- dunif(x, a, b)\n",
    "plot(x, f_x, cex = 0.1) # cex je velikost markerů\n",
    "grid()\n",
    "\n",
    "# vykreslíme si Distribuční funkci\n",
    "F_x <- punif(x, a, b)\n",
    "plot(x, F_x, type = \"l\")\n",
    "grid()"
   ]
  },
  {
   "cell_type": "code",
   "execution_count": null,
   "metadata": {
    "vscode": {
     "languageId": "r"
    }
   },
   "outputs": [],
   "source": [
    "# kvantilová funkce F^(-1)(p) = x: P(X<x)=p\n",
    "a <- 2 # odkud\n",
    "b <- 4 # kam\n",
    "p <- 0.75\n",
    "qunif(p, a, b)\n"
   ]
  },
  {
   "cell_type": "markdown",
   "metadata": {},
   "source": [
    "### Exponenciální rozdělení: $$X \\sim Exp(\\lambda)$$\n",
    "- doba do 1. události, doba mezi událostmi (pouze v období stabilního života - Poissonův proces)\n",
    "- parametr $\\lambda$ je tentýž co v Poissonově rozdělení\n",
    "- střední hodnota je: $E(X)=1 / \\lambda$\n",
    "\n",
    "$$f(x) = \\begin{cases} \\lambda e^{-\\lambda x} & \\text{pro } x \\geq 0 \\\\ 0 & \\text{jinak} \\end{cases}$$\n",
    "$$F(x) = \\begin{cases} 1 - e^{-\\lambda x} & \\text{pro } x \\geq 0 \\\\ 0 & \\text{jinak} \\end{cases}$$\n",
    "$$E(X) = \\frac{1}{\\lambda}$$\n",
    "$$D(X) = \\frac{1}{\\lambda^2}$$"
   ]
  },
  {
   "cell_type": "code",
   "execution_count": null,
   "metadata": {
    "vscode": {
     "languageId": "r"
    }
   },
   "outputs": [],
   "source": [
    "# Hustota pravděpodobnosti f(x)\n",
    "lambda <- 2\n",
    "x <- 1\n",
    "dexp(x, lambda)\n"
   ]
  },
  {
   "cell_type": "code",
   "execution_count": null,
   "metadata": {
    "vscode": {
     "languageId": "r"
    }
   },
   "outputs": [],
   "source": [
    "# Distribuční funkce F(x) = P(X < x)\n",
    "pexp(x, lambda)\n"
   ]
  },
  {
   "cell_type": "code",
   "execution_count": null,
   "metadata": {
    "vscode": {
     "languageId": "r"
    }
   },
   "outputs": [],
   "source": [
    "# vykreslíme si Hustotu pravděpodobnosti\n",
    "x <- seq(from = -1, to = 6, by = 0.001)\n",
    "f_x <- dexp(x, lambda)\n",
    "plot(x, f_x, cex = 0.1)\n",
    "grid()\n",
    "\n",
    "# vykreslíme si Distribuční funkci\n",
    "F_x <- pexp(x, lambda)\n",
    "plot(x, F_x, type = \"l\")\n",
    "grid()"
   ]
  },
  {
   "cell_type": "code",
   "execution_count": null,
   "metadata": {
    "vscode": {
     "languageId": "r"
    }
   },
   "outputs": [],
   "source": [
    "# kvantilová funkce F^(-1)(p) = x: P(X<x)=p\n",
    "lambda <- 2\n",
    "p <- 0.5\n",
    "qexp(p, a, b)\n"
   ]
  },
  {
   "cell_type": "markdown",
   "metadata": {},
   "source": [
    "### Weibullovo rozdělení: $$X \\sim W(\\theta,\\beta)$$\n",
    "- doba do 1. události (poruchy)(vhodná volba $\\beta$ umožuje použití v libovolném období intenzity poruch)\n",
    "- rozšíření exponenciálního rozdělení $$Exp(\\lambda) = W(\\theta=\\frac{1}{\\lambda}, \\beta=1)$$"
   ]
  },
  {
   "cell_type": "code",
   "execution_count": null,
   "metadata": {
    "vscode": {
     "languageId": "r"
    }
   },
   "outputs": [],
   "source": [
    "# Hustota pravděpodobnosti f(x)\n",
    "theta <- 3 # ekvivalent 1/lambda u exp. rozdělení\n",
    "beta <- 2 # beta = 1 -> exponenciální rozdělení\n",
    "x <- 5\n",
    "dweibull(x, shape = beta, scale = theta)\n"
   ]
  },
  {
   "cell_type": "code",
   "execution_count": null,
   "metadata": {
    "vscode": {
     "languageId": "r"
    }
   },
   "outputs": [],
   "source": [
    "# Distribuční funkce F(x) = P(X < x)\n",
    "pweibull(x, shape = beta, scale = theta)\n"
   ]
  },
  {
   "cell_type": "code",
   "execution_count": null,
   "metadata": {
    "vscode": {
     "languageId": "r"
    }
   },
   "outputs": [],
   "source": [
    "# vykreslíme si Hustotu pravděpodobnosti\n",
    "x <- seq(from = -1, to = 10, by = 0.001)\n",
    "f_x <- dweibull(x, shape = beta, scale = theta)\n",
    "plot(x, f_x, cex = 0.1)\n",
    "grid()\n",
    "\n",
    "# vykreslíme si Distribuční funkci\n",
    "F_x <- pweibull(x, shape = beta, scale = theta)\n",
    "plot(x, F_x, type = \"l\")\n",
    "grid()"
   ]
  },
  {
   "cell_type": "markdown",
   "metadata": {},
   "source": [
    "### Normální rozdělení: $$X \\sim N(\\mu,\\sigma^2)$$\n",
    "- rozdělení modelující např. chyby měření, chování součtu/průměru mnoha jiných náhodných veličin\n",
    "- viz. Centrální limitní věta\n",
    "- $\\mu$ je přímo střední hodnota rozdělení: $$E(X)=\\mu$$\n",
    "- $\\sigma$ je přímo směrodatná odchyla rozdělení: $$D(X)=\\sigma^2$$\n",
    "- s parametry $\\mu=0,\\sigma=1$ se nazývá normované Normální rozdělení\n",
    "\n",
    "$$f(x) = \\frac{1}{\\sqrt{2\\pi}\\sigma} e^{-\\frac{(x-\\mu)^2}{2\\sigma^2}}$$"
   ]
  },
  {
   "cell_type": "code",
   "execution_count": null,
   "metadata": {
    "vscode": {
     "languageId": "r"
    }
   },
   "outputs": [],
   "source": [
    "# Hustota pravděpodobnosti f(x)\n",
    "mu <- 2\n",
    "sigma <- 3\n",
    "x <- 4\n",
    "dnorm(x, mean = mu, sd = sigma)\n"
   ]
  },
  {
   "cell_type": "code",
   "execution_count": null,
   "metadata": {
    "vscode": {
     "languageId": "r"
    }
   },
   "outputs": [],
   "source": [
    "# Distribuční funkce F(x) = P(X < x)\n",
    "pnorm(x, mean = mu, sd = sigma)\n"
   ]
  },
  {
   "cell_type": "code",
   "execution_count": null,
   "metadata": {
    "vscode": {
     "languageId": "r"
    }
   },
   "outputs": [],
   "source": [
    "# vykreslíme si Hustotu pravděpodobnosti\n",
    "x <- seq(from = -10, to = 15, by = 0.01)\n",
    "f_x <- dnorm(x, mean = mu, sd = sigma)\n",
    "plot(x, f_x, type = \"l\")\n",
    "grid()\n",
    "\n",
    "# vykreslíme si Distribuční funkci\n",
    "F_x <- pnorm(x, mean = mu, sd = sigma)\n",
    "plot(x, F_x, type = \"l\")\n",
    "grid()\n"
   ]
  },
  {
   "cell_type": "code",
   "execution_count": null,
   "metadata": {
    "vscode": {
     "languageId": "r"
    }
   },
   "outputs": [],
   "source": [
    "# kvantilová funkce F^(-1)(p) = x: P(X<x)=p\n",
    "mu <- 2\n",
    "sigma <- 3\n",
    "p <- 0.5\n",
    "qnorm(p, mean = mu, sd = sigma)\n"
   ]
  },
  {
   "cell_type": "markdown",
   "metadata": {},
   "source": [
    "---\n",
    "# Příklady k procvičení\n",
    "---"
   ]
  },
  {
   "cell_type": "markdown",
   "metadata": {},
   "source": [
    "## Příklad 1.\n",
    "Výška v populaci chlapců ve věku 3,5-4 roky má normální rozdělení se střední hodnotou 102 cm a směrodatnou odchylkou 4,5 cm. Určete, jaké procento chlapců v uvedeném věku má výšku menší nebo rovnou 93 cm."
   ]
  },
  {
   "cell_type": "code",
   "execution_count": null,
   "metadata": {
    "vscode": {
     "languageId": "r"
    }
   },
   "outputs": [],
   "source": [
    "# X ... výška chlapců ve věku 3.5 až 4 roky (cm)\n",
    "# X ~ N(mu = 102, sd = 4.5)\n",
    "\n",
    "mu <- 102\n",
    "sigma <- 4.5\n",
    "\n",
    "# P(X<=93)=F(93)\n",
    "pnorm(93, mean = mu, sd = sigma)\n"
   ]
  },
  {
   "cell_type": "markdown",
   "metadata": {},
   "source": [
    "## Příklad 2.\n",
    "Průměrná životnost strojní součástky je 30 000 hodin. Předpokládejme, že součástka je v období\n",
    "stabilního života. Určete:"
   ]
  },
  {
   "cell_type": "code",
   "execution_count": null,
   "metadata": {
    "vscode": {
     "languageId": "r"
    }
   },
   "outputs": [],
   "source": [
    "# X ... životnost součástky (h)\n",
    "# X ~ Exp(lambda), kde E(X)=1/lambda\n",
    "\n",
    "lambda <- 1 / 30000\n"
   ]
  },
  {
   "cell_type": "markdown",
   "metadata": {},
   "source": [
    "**a)** \n",
    "pravděpodobnost, že součástka nevydrží více než 2 000 hodin,"
   ]
  },
  {
   "cell_type": "code",
   "execution_count": null,
   "metadata": {
    "vscode": {
     "languageId": "r"
    }
   },
   "outputs": [],
   "source": [
    "# a) P(X<2000)=F(2000)\n",
    "pexp(2000, lambda)\n"
   ]
  },
  {
   "cell_type": "markdown",
   "metadata": {},
   "source": [
    "**b)** \n",
    "pravděpodobnost, že součástka vydrží více než 35 000 hodin,"
   ]
  },
  {
   "cell_type": "code",
   "execution_count": null,
   "metadata": {
    "vscode": {
     "languageId": "r"
    }
   },
   "outputs": [],
   "source": [
    "# b) P(X>35000)=1-F(35000)\n",
    "1 - pexp(35000, lambda)\n"
   ]
  },
  {
   "cell_type": "markdown",
   "metadata": {},
   "source": [
    "**c)** \n",
    " dobu, do níž se porouchá 95 % součástek."
   ]
  },
  {
   "cell_type": "code",
   "execution_count": null,
   "metadata": {
    "vscode": {
     "languageId": "r"
    }
   },
   "outputs": [],
   "source": [
    "# c) P(X<t)=0,95 -> F(t)=0,95 -> t… 95% kvantil\n",
    "qexp(0.95, lambda)\n"
   ]
  },
  {
   "cell_type": "markdown",
   "metadata": {},
   "source": [
    "## Příklad 3.\n",
    "Výrobní zařízení má poruchu v průměru jednou za 2000 hodin. Veličina Y představující dobu čekání na poruchu má exponenciální rozdělení. Určete dobu T0 tak, aby pravděpodobnost, že přístroj bude pracovat delší dobu než T0, byla 0,99."
   ]
  },
  {
   "cell_type": "code",
   "execution_count": null,
   "metadata": {
    "vscode": {
     "languageId": "r"
    }
   },
   "outputs": [],
   "source": [
    "# X ... doba čekání na poruchu (h)\n",
    "# X ~ Exp(lambda), kde E(X)=1/lambda\n",
    "lambda <- 1 / 2000\n",
    "\n",
    "# P(X>t)=0,99 -> 1-F(t)=0,99 -> F(t)=0,01 -> t… 1% kvant.\n",
    "qexp(0.01, lambda)\n"
   ]
  },
  {
   "cell_type": "markdown",
   "metadata": {},
   "source": [
    "## Příklad 4.\n",
    "Výsledky měření jsou zatíženy jen normálně rozdělenou chybou s nulovou střední hodnotou a se směrodatnou odchylkou 3 mm. Jaká je pravděpodobnost, že při 3 měřeních bude alespoň jednou chyba v intervalu (0 mm; 2,4mm)?"
   ]
  },
  {
   "cell_type": "code",
   "execution_count": null,
   "metadata": {
    "vscode": {
     "languageId": "r"
    }
   },
   "outputs": [],
   "source": [
    "# Y… velikost chyby měření (mm)\n",
    "# Y ~ N(mu = 0,sigma = 3)\n",
    "\n",
    "mu <- 0\n",
    "sigma <- 3\n",
    "\n",
    "# pp… pravd., že chyba měření bude v int. 0,0-2,4mm\n",
    "pp <- pnorm(2.4, mean = mu, sd = sigma) - pnorm(0, mean = mu, sd = sigma)\n",
    "pp\n"
   ]
  },
  {
   "cell_type": "code",
   "execution_count": null,
   "metadata": {
    "vscode": {
     "languageId": "r"
    }
   },
   "outputs": [],
   "source": [
    "# X … počet chyb měření v int. 0 mm -2,4 mm ve 3 měř.\n",
    "# X ~ Bi(n = 3,p = pp)\n",
    "n <- 3\n",
    "p <- pp\n",
    "\n",
    "# P(X>=1)=1-P(X=0)\n",
    "1 - dbinom(0, n, p)\n"
   ]
  },
  {
   "cell_type": "markdown",
   "metadata": {},
   "source": [
    "## Příklad 5.\n",
    "Ve velké počítačové síti se průměrně přihlašuje 25 uživatelů za hodinu. Určete pravděpodobnost,\n",
    "že:\n",
    "\n",
    "\n",
    "**a)** se nikdo nepřihlásí během 14:30 - 14:36,"
   ]
  },
  {
   "cell_type": "code",
   "execution_count": null,
   "metadata": {
    "vscode": {
     "languageId": "r"
    }
   },
   "outputs": [],
   "source": [
    "# X … počet uživatelů přihlášených za 6 minut\n",
    "# X ~ Po(lt = 2.5)\n",
    "\n",
    "lambda <- 25 / 60\n",
    "t <- 6\n",
    "lt <- lambda * t\n",
    "\n",
    "# P(X=0)\n",
    "dpois(0, lt)\n"
   ]
  },
  {
   "cell_type": "markdown",
   "metadata": {},
   "source": [
    "**b)** \n",
    "do dalšího přihlášení uběhnou 2-3 minuty."
   ]
  },
  {
   "cell_type": "code",
   "execution_count": null,
   "metadata": {
    "vscode": {
     "languageId": "r"
    }
   },
   "outputs": [],
   "source": [
    "# Y … doba do dalšího přihlášení\n",
    "# Y ~ Exp(lambda = 25/60), kde E(X)=1/lambda\n",
    "lambda <- 25 / 60\n",
    "\n",
    "# P(2<Y<3)=F(3)-F(2)\n",
    "pexp(3, lambda) - pexp(2, lambda)\n"
   ]
  },
  {
   "cell_type": "markdown",
   "metadata": {},
   "source": [
    "**c)**\n",
    "Určete maximální délku časového intervalu tak, aby pravděpodobnost, že se nikdo nepřihlásí byla alespoň 0,90."
   ]
  },
  {
   "cell_type": "code",
   "execution_count": null,
   "metadata": {
    "vscode": {
     "languageId": "r"
    }
   },
   "outputs": [],
   "source": [
    "# P(Y>t)=0,90 -> 1-F(t)=0,90 -> F(t)=0,10 -> t…10% kv.\n",
    "\n",
    "qexp(0.10, lambda) * 60\n"
   ]
  },
  {
   "cell_type": "markdown",
   "metadata": {},
   "source": [
    "## Příklad 6.\n",
    "Náhodná veličina X má normální rozdělení $N(\\mu; \\sigma^2)$. Určete:\n",
    "\n",
    "\n",
    "**a)**\n",
    "$P(\\mu − 2\\sigma < X < \\mu + 2\\sigma)$,"
   ]
  },
  {
   "cell_type": "code",
   "execution_count": null,
   "metadata": {
    "vscode": {
     "languageId": "r"
    }
   },
   "outputs": [],
   "source": [
    "# P(µ − 2σ < X < µ + 2σ) = F_X(µ + 2σ) - F_X(µ - 2σ)\n",
    "# Z = (X - µ)/σ ~N(0,1)\n",
    "# P(µ − 2σ < X < µ + 2σ) = P(-2 < Z < 2) = F_Z(2) - F_Z(-2)\n",
    "\n",
    "pnorm(2, mean = 0, sd = 1) - pnorm(-2, mean = 0, sd = 1)\n"
   ]
  },
  {
   "cell_type": "markdown",
   "metadata": {},
   "source": [
    "**b)**\n",
    "nejmenší $k \\in  \\mathbb{Z}$, tak, aby $P(\\mu − k\\sigma < X < \\mu + k\\sigma) > 0.99$."
   ]
  },
  {
   "cell_type": "code",
   "execution_count": null,
   "metadata": {
    "vscode": {
     "languageId": "r"
    }
   },
   "outputs": [],
   "source": [
    "# normální rozdělení je symetrické\n",
    "# P(µ − kσ < X < µ + kσ) = P(-k < Z < k) = F_Z(k) - F_Z(-k) = 2F_Z(k) - 1 = 0.99\n",
    "# F_Z(k) = 0.995\n",
    "\n",
    "k <- qnorm(0.995, mean = 0, sd = 1)\n",
    "k\n"
   ]
  },
  {
   "cell_type": "code",
   "execution_count": null,
   "metadata": {
    "vscode": {
     "languageId": "r"
    }
   },
   "outputs": [],
   "source": [
    "for (k in 1:5) {\n",
    "    p <- pnorm(k, mean = 0, sd = 1) - pnorm(-k, mean = 0, sd = 1)\n",
    "    print(paste0(k, \":\", p))\n",
    "}\n"
   ]
  },
  {
   "cell_type": "markdown",
   "metadata": {},
   "source": [
    "## Příklad 7.\n",
    "Na prohlídce výstavy je promítán doprovodný film o životě autora vystavovaných děl. Jeho projekce začíná každých 20 minut. Určete pravděpodobnost, že pokud náhodně přijdete do promítacího sálu,"
   ]
  },
  {
   "cell_type": "code",
   "execution_count": null,
   "metadata": {
    "vscode": {
     "languageId": "r"
    }
   },
   "outputs": [],
   "source": [
    "# Y … doba do začátku další projekce\n",
    "# Y ~ Ro(a=0, b=20)\n",
    "\n",
    "a <- 0\n",
    "b <- 20\n"
   ]
  },
  {
   "cell_type": "markdown",
   "metadata": {},
   "source": [
    "**a)**\n",
    "nebudete na začátek filmu čekat víc než 5 minut,"
   ]
  },
  {
   "cell_type": "code",
   "execution_count": null,
   "metadata": {
    "vscode": {
     "languageId": "r"
    }
   },
   "outputs": [],
   "source": [
    "# P(X<5)\n",
    "punif(5, a, b)\n"
   ]
  },
  {
   "cell_type": "markdown",
   "metadata": {},
   "source": [
    "**b)**\n",
    "budete čekat mezi 5 a 10 minutami,"
   ]
  },
  {
   "cell_type": "code",
   "execution_count": null,
   "metadata": {
    "vscode": {
     "languageId": "r"
    }
   },
   "outputs": [],
   "source": [
    "# P(5<X<10)\n",
    "punif(10, a, b) - punif(5, a, b)\n"
   ]
  },
  {
   "cell_type": "markdown",
   "metadata": {},
   "source": [
    "**c)**\n",
    "střední hodnotu a směrodatnou odchylku doby čekání na začátek filmu."
   ]
  },
  {
   "cell_type": "code",
   "execution_count": null,
   "metadata": {
    "vscode": {
     "languageId": "r"
    }
   },
   "outputs": [],
   "source": [
    "E_X <- (a + b) / 2\n",
    "E_X\n",
    "\n",
    "D_X <- (a - b)^2 / 12\n",
    "D_X\n",
    "\n",
    "sigma_X <- sqrt(D_X)\n",
    "sigma_X\n"
   ]
  },
  {
   "cell_type": "markdown",
   "metadata": {},
   "source": [
    "## Příklad 8.\n",
    "Při kontrole jakosti přebíráme součástku pouze tehdy, jestliže se její rozměr pohybuje v mezích 26-27 mm. Rozměry součástek mají normální rozdělení se střední hodnotou 26,4 mm a směrodatnou odchylkou 0,2 mm. Jaká je pravděpodobnost, že rozměr součástky náhodně vybrané ke kontrole bude v požadovaných mezích?"
   ]
  },
  {
   "cell_type": "code",
   "execution_count": null,
   "metadata": {
    "vscode": {
     "languageId": "r"
    }
   },
   "outputs": [],
   "source": [
    "# X ... rozměr součástky (mm)\n",
    "# X ~ N(mu =  26.4,sigma = 0.2)\n",
    "\n",
    "mu <- 26.4\n",
    "sigma <- 0.2\n",
    "\n",
    "# P(26<X<27)=F(27)-F(26)\n",
    "pnorm(27, mean = mu, sd = sigma) - pnorm(26, mean = mu, sd = sigma)\n"
   ]
  },
  {
   "cell_type": "markdown",
   "metadata": {},
   "source": [
    "## Příklad 9.\n",
    "Délka skoků sportovce Jakuba měřená v cm má normální rozdělení $N(\\mu_1; \\sigma_1^2)$, kde $\\mu_1 = 690$ a $\\sigma_1 = 10$. Délka skoků sportovce Aleše měřená v cm má také normální rozdělení $N(\\mu_2; \\sigma_2^2)$, kde $\\mu_2 = 705$ a $\\sigma_2 = 15$. Na závody se kvalifikuje ten, kdo ze dvou skoků alespoň jednou skočí více než 700 cm.\n",
    "\n",
    "**a)** S Jakou pravděpodobností bude skok Jakuba (a Aleše) kvalifikační?"
   ]
  },
  {
   "cell_type": "code",
   "execution_count": null,
   "metadata": {
    "vscode": {
     "languageId": "r"
    }
   },
   "outputs": [],
   "source": [
    "# SJ ... délka skoku Jakuba\n",
    "# SJ ~ N(mu = 690,sigma = 10)\n",
    "mu_J <- 690\n",
    "sigma_J <- 10\n",
    "\n",
    "# SA … délka skoku Aleše\n",
    "# SA ~ N(mu = 705,sigma = 15)\n",
    "mu_A <- 705\n",
    "sigma_A <- 15\n",
    "\n",
    "# J...Jakubův skok je úspěšný (delší než 700 cm)\n",
    "# A...Alešův skok je úspěšný (delší než 700 cm)\n",
    "\n",
    "# P(J)=P(SJ>700)=1-F(700)\n",
    "P.J <- 1 - pnorm(700, mean = mu_J, sd = sigma_J)\n",
    "P.J\n",
    "\n",
    "# P(A)=P(SA>700)=1-F(700)\n",
    "P.A <- 1 - pnorm(700, mean = mu_A, sd = sigma_A)\n",
    "P.A\n"
   ]
  },
  {
   "cell_type": "markdown",
   "metadata": {},
   "source": [
    "**b)** S jakou pravděpodobností se kvalifikuje Jakub (a Aleš)?"
   ]
  },
  {
   "cell_type": "code",
   "execution_count": null,
   "metadata": {
    "vscode": {
     "languageId": "r"
    }
   },
   "outputs": [],
   "source": [
    "# KJ … Jakub se kvalifikuje na závody,\n",
    "# P(KJ) = 1-(1-P(J))(1-P(J))\n",
    "P.KJ <- 1 - (1 - P.J) * (1 - P.J)\n",
    "P.KJ\n",
    "\n",
    "# KA … Aleš se kvalifikuje na závody,\n",
    "# P(KA) = 1-(1-P(A))(1-P(A))\n",
    "P.KA <- 1 - (1 - P.A) * (1 - P.A)\n",
    "P.KA\n"
   ]
  },
  {
   "cell_type": "markdown",
   "metadata": {},
   "source": [
    "**c)**\n",
    "S jakou pravděpodobností se oba dva kvalifikují na závody?"
   ]
  },
  {
   "cell_type": "code",
   "execution_count": null,
   "metadata": {
    "vscode": {
     "languageId": "r"
    }
   },
   "outputs": [],
   "source": [
    "P.KJ * P.KA\n"
   ]
  },
  {
   "cell_type": "markdown",
   "metadata": {},
   "source": [
    "**d)**\n",
    "S jakou pravděpodobností se kvalifikuje Aleš, ale Jakub ne?"
   ]
  },
  {
   "cell_type": "code",
   "execution_count": null,
   "metadata": {
    "vscode": {
     "languageId": "r"
    }
   },
   "outputs": [],
   "source": [
    "(1 - P.KJ) * P.KA\n"
   ]
  }
 ],
 "metadata": {
  "kernelspec": {
   "display_name": "R",
   "language": "R",
   "name": "ir"
  },
  "language_info": {
   "codemirror_mode": "r",
   "file_extension": ".r",
   "mimetype": "text/x-r-source",
   "name": "R",
   "pygments_lexer": "r",
   "version": "4.3.2"
  }
 },
 "nbformat": 4,
 "nbformat_minor": 4
}
