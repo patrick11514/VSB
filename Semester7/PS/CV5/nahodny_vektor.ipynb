{
 "cells": [
  {
   "cell_type": "markdown",
   "metadata": {},
   "source": [
    "# Náhodný vektor\n",
    "## Michal Béreš, Martina Litschmannová, Adéla Vrtková\n",
    "---"
   ]
  },
  {
   "attachments": {
    "image.png": {
     "image/png": "[encoded data removed]"
    }
   },
   "cell_type": "markdown",
   "metadata": {},
   "source": [
    "# Příklad ze sbírky\n",
    "Náhodný vektor $Z =(Y;X)^T$ má pravděpodobnostní funkci zadanou tabulkou\n",
    "\n",
    "![image.png](attachment:image.png)\n",
    "## a) Určete chybějící hodnotu sdružené pravděpodobnostní funkce,"
   ]
  },
  {
   "cell_type": "code",
   "execution_count": null,
   "metadata": {
    "vscode": {
     "languageId": "r"
    }
   },
   "outputs": [],
   "source": [
    "data <- c(\n",
    "    0.01, 0.04, 0.12,\n",
    "    0.02, 0.16, 0.07,\n",
    "    0.03, 0, 0.06,\n",
    "    0.25, 0.05, 0.01\n",
    ")\n",
    "P <- matrix(data, nrow = 3, ncol = 4) # případně byrow = ...\n",
    "X <- c(3, 5, 7)\n",
    "Y <- c(1, 2, 3, 4)\n",
    "dimnames(P) <- list(X, Y)\n",
    "P\n"
   ]
  },
  {
   "cell_type": "code",
   "execution_count": null,
   "metadata": {
    "vscode": {
     "languageId": "r"
    }
   },
   "outputs": [],
   "source": [
    "sum(P)\n"
   ]
  },
  {
   "cell_type": "code",
   "execution_count": null,
   "metadata": {
    "vscode": {
     "languageId": "r"
    }
   },
   "outputs": [],
   "source": [
    "# nespoštějte tuto buňku 2krát, jinak si hodnotu zase nastavíte na 0,\n",
    "# víte proč?\n",
    "p_5_3 <- 1 - sum(P)\n",
    "P[\"5\", \"3\"] <- p_5_3\n",
    "P\n"
   ]
  },
  {
   "cell_type": "markdown",
   "metadata": {},
   "source": [
    "## b) Určete distribuční funkci\n",
    "**Pozor! Vektor Z je $(Y,X)^T$ tedy první parametr je hodnota Y a druhý hodnota X.**"
   ]
  },
  {
   "cell_type": "code",
   "execution_count": null,
   "metadata": {
    "vscode": {
     "languageId": "r"
    }
   },
   "outputs": [],
   "source": [
    "# F(2.8; 7.1)\n",
    "# = P(Y<2.8,X<7.1)\n",
    "P[X < 7.1, Y < 2.8]\n",
    "sum(P[X < 7.1, Y < 2.8])\n"
   ]
  },
  {
   "cell_type": "code",
   "execution_count": null,
   "metadata": {
    "vscode": {
     "languageId": "r"
    }
   },
   "outputs": [],
   "source": [
    "F_x <- matrix(rep(0, 4 * 5), nrow = 4, ncol = 5)\n",
    "dimnames(F_x) <- list(\n",
    "    c(\"(-inf,3>\", \"(3,5>\", \"(5,7>\", \"(7,inf)\"),\n",
    "    c(\"(-inf,1>\", \"(1,2>\", \"(2,3>\", \"(3,4>\", \"(4,inf)\")\n",
    ")\n",
    "F_x\n"
   ]
  },
  {
   "cell_type": "code",
   "execution_count": null,
   "metadata": {
    "vscode": {
     "languageId": "r"
    }
   },
   "outputs": [],
   "source": [
    "# projdeme řádky a sloupce, vždy si vezmeme jednu hodnotu\n",
    "# z příslušného řádku nebo sloupce\n",
    "x_vals <- c(3, 5, 7, 8)\n",
    "y_vals <- c(1, 2, 3, 4, 5)\n",
    "for (i in 1:4) {\n",
    "    for (j in 1:5) {\n",
    "        x <- x_vals[i]\n",
    "        y <- y_vals[j]\n",
    "        F_x[i, j] <- sum(P[X < x, Y < y])\n",
    "    }\n",
    "}\n",
    "F_x\n"
   ]
  },
  {
   "cell_type": "markdown",
   "metadata": {},
   "source": [
    "## c) Určete marginální rozdělení"
   ]
  },
  {
   "cell_type": "code",
   "execution_count": null,
   "metadata": {
    "vscode": {
     "languageId": "r"
    }
   },
   "outputs": [],
   "source": [
    "P_x <- rowSums(P)\n",
    "P_x\n"
   ]
  },
  {
   "cell_type": "code",
   "execution_count": null,
   "metadata": {
    "vscode": {
     "languageId": "r"
    }
   },
   "outputs": [],
   "source": [
    "F_x <- c(0, cumsum(P_x))\n",
    "F_x\n"
   ]
  },
  {
   "cell_type": "code",
   "execution_count": null,
   "metadata": {
    "vscode": {
     "languageId": "r"
    }
   },
   "outputs": [],
   "source": [
    "P_y <- colSums(P)\n",
    "P_y\n"
   ]
  },
  {
   "cell_type": "code",
   "execution_count": null,
   "metadata": {
    "vscode": {
     "languageId": "r"
    }
   },
   "outputs": [],
   "source": [
    "F_y <- c(0, cumsum(P_y))\n",
    "F_y\n"
   ]
  },
  {
   "cell_type": "markdown",
   "metadata": {},
   "source": [
    "## d) Podmíněné pravděpodobnosti a podmíněné pravděpodobnostní funkce $P(x|y), P(y|x)$"
   ]
  },
  {
   "cell_type": "code",
   "execution_count": null,
   "metadata": {
    "vscode": {
     "languageId": "r"
    }
   },
   "outputs": [],
   "source": [
    "# P(Y > 2.1 | X < 5.3)\n",
    "#  = P(Y > 2.1 ∧ X < 5.3) / P(X < 5.3)\n",
    "sum(P[X < 5.3, Y > 2.1])\n",
    "sum(P[X < 5.3, ])\n",
    "sum(P[X < 5.3, Y > 2.1]) / sum(P[X < 5.3, ])\n"
   ]
  },
  {
   "cell_type": "code",
   "execution_count": null,
   "metadata": {
    "vscode": {
     "languageId": "r"
    }
   },
   "outputs": [],
   "source": [
    "# P(X = 5|Y = 1)\n",
    "# = P(X = 5 ∧ Y = 1) / P(Y = 1)\n",
    "P[\"5\", \"1\"] / sum(P[, \"1\"])\n",
    "P[\"5\", \"1\"] / sum(P_y[\"1\"])\n"
   ]
  },
  {
   "cell_type": "markdown",
   "metadata": {},
   "source": [
    "**$P(x|y)=\\frac{P(X=x,Y=y)}{P_Y(y)}$**"
   ]
  },
  {
   "cell_type": "code",
   "execution_count": null,
   "metadata": {
    "vscode": {
     "languageId": "r"
    }
   },
   "outputs": [],
   "source": [
    "P_xy <- P # má to stejnou velikost, tak si ukradneme formátování\n",
    "X_lab <- c(\"3\", \"5\", \"7\")\n",
    "Y_lab <- c(\"1\", \"2\", \"3\", \"4\")\n",
    "for (x in X_lab) {\n",
    "    for (y in Y_lab) {\n",
    "        P_xy[x, y] <- P[x, y] / P_y[y]\n",
    "    }\n",
    "}\n",
    "P_xy\n",
    "colSums(P_xy)\n"
   ]
  },
  {
   "cell_type": "markdown",
   "metadata": {},
   "source": [
    "**$P(y|x)$**"
   ]
  },
  {
   "cell_type": "code",
   "execution_count": null,
   "metadata": {
    "vscode": {
     "languageId": "r"
    }
   },
   "outputs": [],
   "source": [
    "P_yx <- P # má to stejnou velikost, tak si ukradneme formátování\n",
    "for (x in X_lab) {\n",
    "    for (y in Y_lab) {\n",
    "        P_yx[x, y] <- P[x, y] / P_x[x]\n",
    "    }\n",
    "}\n",
    "P_yx\n",
    "rowSums(P_yx)\n"
   ]
  },
  {
   "cell_type": "markdown",
   "metadata": {},
   "source": [
    "## e) zákládní charakteristiky náhodných veličin X a Y"
   ]
  },
  {
   "cell_type": "code",
   "execution_count": null,
   "metadata": {
    "vscode": {
     "languageId": "r"
    }
   },
   "outputs": [],
   "source": [
    "E_X <- sum(X * P_x)\n",
    "E_X\n",
    "E_XX <- sum(X * X * P_x)\n",
    "D_X <- E_XX - E_X^2\n",
    "D_X\n"
   ]
  },
  {
   "cell_type": "code",
   "execution_count": null,
   "metadata": {
    "vscode": {
     "languageId": "r"
    }
   },
   "outputs": [],
   "source": [
    "E_Y <- sum(Y * P_y)\n",
    "E_Y\n",
    "E_YY <- sum(Y * Y * P_y)\n",
    "D_Y <- E_YY - E_Y^2\n",
    "D_Y\n"
   ]
  },
  {
   "cell_type": "markdown",
   "metadata": {},
   "source": [
    "## f) podmíněná střední hodnota  E(X|Y = 2)"
   ]
  },
  {
   "cell_type": "code",
   "execution_count": null,
   "metadata": {
    "vscode": {
     "languageId": "r"
    }
   },
   "outputs": [],
   "source": [
    "# P(x|Y=2)\n",
    "P_xy[, \"2\"]\n",
    "E_X_Y2 <- sum(X * P_xy[, \"2\"])\n",
    "E_X_Y2\n"
   ]
  },
  {
   "cell_type": "markdown",
   "metadata": {},
   "source": [
    "## g) kovariance a korelace"
   ]
  },
  {
   "cell_type": "code",
   "execution_count": null,
   "metadata": {
    "vscode": {
     "languageId": "r"
    }
   },
   "outputs": [],
   "source": [
    "X_Y <- P # matice kde v každé kolonce je hodnota x*y\n",
    "for (x in X) {\n",
    "    for (y in Y) {\n",
    "        X_Y[x == X, y == Y] <- x * y\n",
    "    }\n",
    "}\n",
    "X_Y\n"
   ]
  },
  {
   "cell_type": "code",
   "execution_count": null,
   "metadata": {
    "vscode": {
     "languageId": "r"
    }
   },
   "outputs": [],
   "source": [
    "# střední hodnota E(X*Y)\n",
    "E_XY <- sum(X_Y * P)\n",
    "E_XY\n"
   ]
  },
  {
   "cell_type": "code",
   "execution_count": null,
   "metadata": {
    "vscode": {
     "languageId": "r"
    }
   },
   "outputs": [],
   "source": [
    "# kovariance\n",
    "cov_XY <- E_XY - E_X * E_Y\n",
    "cov_XY\n"
   ]
  },
  {
   "cell_type": "code",
   "execution_count": null,
   "metadata": {
    "vscode": {
     "languageId": "r"
    }
   },
   "outputs": [],
   "source": [
    "# korelace\n",
    "cov_XY / sqrt(D_X * D_Y)\n"
   ]
  }
 ],
 "metadata": {
  "kernelspec": {
   "display_name": "R",
   "language": "R",
   "name": "ir"
  },
  "language_info": {
   "codemirror_mode": "r",
   "file_extension": ".r",
   "mimetype": "text/x-r-source",
   "name": "R",
   "pygments_lexer": "r",
   "version": "4.3.1"
  }
 },
 "nbformat": 4,
 "nbformat_minor": 4
}
