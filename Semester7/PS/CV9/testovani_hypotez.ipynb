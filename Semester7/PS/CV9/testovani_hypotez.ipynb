{
 "cells": [
  {
   "cell_type": "markdown",
   "metadata": {},
   "source": [
    " # Cvičení 9. Úvod do testování hypotéz, jednovýběrové testy\n",
    " ## Michal Béreš, Martina Litschmannová\n",
    " ---"
   ]
  },
  {
   "cell_type": "code",
   "execution_count": 41,
   "metadata": {
    "vscode": {
     "languageId": "r"
    }
   },
   "outputs": [
    {
     "name": "stderr",
     "output_type": "stream",
     "text": [
      "\n",
      "Attaching package: ‘dplyr’\n",
      "\n",
      "\n",
      "The following objects are masked from ‘package:stats’:\n",
      "\n",
      "    filter, lag\n",
      "\n",
      "\n",
      "The following objects are masked from ‘package:base’:\n",
      "\n",
      "    intersect, setdiff, setequal, union\n",
      "\n",
      "\n"
     ]
    }
   ],
   "source": [
    "# načteme dplyr\n",
    "library(dplyr)"
   ]
  },
  {
   "cell_type": "markdown",
   "metadata": {},
   "source": [
    "# 1. Od intervalových odhadů k testům hypotéz\n",
    "## I. Co je to statistický test hypotéz?\n",
    "Mějme následující:\n",
    "- náhodná veličina $X$ (například výška mužů)\n",
    "- výběr z náhodné veličiny (měření výšky 30 mužů)\n",
    "\n",
    "Statistické testování hypotéz rozhoduje na základě získaných dat z náhodného výběru o platnosti:\n",
    "- $H_0$ - nulové hypotézy\n",
    "- $H_A$ - alternativní hypotézy\n",
    "\n",
    "Například:<br>\n",
    "$H_0$: $\\mu_X = 175$<br>\n",
    "$H_A$: $\\mu_X > 175$<br>\n",
    "Jelikož se jedná o statistické rozhodnutí, vždy bude vázáno k nějaké hladnině významnosti $\\alpha$. Vždy můžeme dospět pouze k 2 různým rozhodnutím:\n",
    "- Zamítám $H_0$ ve prospěch $H_A$\n",
    "    - to znamená, že tvrdím, že $H_0$ neplatí\n",
    "    - toto rozhodnutí je s maximální chybou $\\alpha$ (hladina významnosti, chyba I. druhu) - to znamená, že velikost této chyby jsme schopni ovlivnit\n",
    "- Nezamítám $H_0$\n",
    "    - to znamená, že tvrdím, že vzhledem k získaným datům (výběr) nelze vyvrátit $H_0$\n",
    "    - toto rozhodnutí je s chybou $\\beta$ (chyba II. druhu), tato chyba není přímo ovlivnitelná a záleží na typu použitého testu\n",
    "    \n",
    "Jak testy hypotéz souvisí s intervalovými odhady a jak do nich vstupuje hladina významnosti si ukážeme v další části."
   ]
  },
  {
   "cell_type": "markdown",
   "metadata": {},
   "source": [
    "## II. Intervalový odhad a hladina významnosti -> Klasický test"
   ]
  },
  {
   "cell_type": "code",
   "execution_count": 42,
   "metadata": {
    "vscode": {
     "languageId": "r"
    }
   },
   "outputs": [
    {
     "data": {
      "text/html": [
       "<table class=\"dataframe\">\n",
       "<caption>A tibble: 6 × 1</caption>\n",
       "<thead>\n",
       "\t<tr><th scope=col>data</th></tr>\n",
       "\t<tr><th scope=col>&lt;dbl&gt;</th></tr>\n",
       "</thead>\n",
       "<tbody>\n",
       "\t<tr><td> 75.91</td></tr>\n",
       "\t<tr><td>109.00</td></tr>\n",
       "\t<tr><td>107.89</td></tr>\n",
       "\t<tr><td>102.95</td></tr>\n",
       "\t<tr><td> 98.93</td></tr>\n",
       "\t<tr><td>105.71</td></tr>\n",
       "</tbody>\n",
       "</table>\n"
      ],
      "text/latex": [
       "A tibble: 6 × 1\n",
       "\\begin{tabular}{l}\n",
       " data\\\\\n",
       " <dbl>\\\\\n",
       "\\hline\n",
       "\t  75.91\\\\\n",
       "\t 109.00\\\\\n",
       "\t 107.89\\\\\n",
       "\t 102.95\\\\\n",
       "\t  98.93\\\\\n",
       "\t 105.71\\\\\n",
       "\\end{tabular}\n"
      ],
      "text/markdown": [
       "\n",
       "A tibble: 6 × 1\n",
       "\n",
       "| data &lt;dbl&gt; |\n",
       "|---|\n",
       "|  75.91 |\n",
       "| 109.00 |\n",
       "| 107.89 |\n",
       "| 102.95 |\n",
       "|  98.93 |\n",
       "| 105.71 |\n",
       "\n"
      ],
      "text/plain": [
       "  data  \n",
       "1  75.91\n",
       "2 109.00\n",
       "3 107.89\n",
       "4 102.95\n",
       "5  98.93\n",
       "6 105.71"
      ]
     },
     "metadata": {},
     "output_type": "display_data"
    },
    {
     "data": {
      "text/plain": [
       "\n",
       "\tShapiro-Wilk normality test\n",
       "\n",
       "data:  data$data\n",
       "W = 0.96994, p-value = 0.5374\n"
      ]
     },
     "metadata": {},
     "output_type": "display_data"
    }
   ],
   "source": [
    "# mějme data z normálního rozdělení\n",
    "data <- readxl::read_excel(\"data/uvod.xlsx\")\n",
    "head(data)\n",
    "\n",
    "shapiro.test(data$data) # test normality"
   ]
  },
  {
   "cell_type": "markdown",
   "metadata": {},
   "source": [
    "Vyrobíme 95% intervalový odhad střední hodnoty pomocí t-testu:"
   ]
  },
  {
   "cell_type": "code",
   "execution_count": 43,
   "metadata": {
    "vscode": {
     "languageId": "r"
    }
   },
   "outputs": [
    {
     "data": {
      "text/html": [
       "<style>\n",
       ".list-inline {list-style: none; margin:0; padding: 0}\n",
       ".list-inline>li {display: inline-block}\n",
       ".list-inline>li:not(:last-child)::after {content: \"\\00b7\"; padding: 0 .5ex}\n",
       "</style>\n",
       "<ol class=list-inline><li>94.9606492723303</li><li>103.406017394336</li></ol>\n"
      ],
      "text/latex": [
       "\\begin{enumerate*}\n",
       "\\item 94.9606492723303\n",
       "\\item 103.406017394336\n",
       "\\end{enumerate*}\n"
      ],
      "text/markdown": [
       "1. 94.9606492723303\n",
       "2. 103.406017394336\n",
       "\n",
       "\n"
      ],
      "text/plain": [
       "[1]  94.96065 103.40602\n",
       "attr(,\"conf.level\")\n",
       "[1] 0.95"
      ]
     },
     "metadata": {},
     "output_type": "display_data"
    }
   ],
   "source": [
    "t.test(data$data, alternative = \"two.sided\", conf.level = 0.95)$conf.int\n"
   ]
  },
  {
   "cell_type": "markdown",
   "metadata": {},
   "source": [
    "Představme si nyní, že chceme testovat hypotézu:<br>\n",
    "$H_0$: $\\mu = 100$<br>\n",
    "$H_A$: $\\mu \\neq 100$<br>\n",
    "Jaké by bylo rozhodnutí vzhledem k spočtenému IO a tedy hladině významnosti $\\alpha = 0.05$?"
   ]
  },
  {
   "cell_type": "markdown",
   "metadata": {},
   "source": [
    "Představme si dále, že chceme testovat hypotézu:<br>\n",
    "$H_0$: $\\mu = 105$<br>\n",
    "$H_A$: $\\mu \\neq 105$<br>\n",
    "Jaké by bylo rozhodnutí vzhledem k spočtenému IO a tedy hladině významnosti $\\alpha = 0.05$?"
   ]
  },
  {
   "cell_type": "markdown",
   "metadata": {},
   "source": [
    "**To co jsme právě udělali se nazývá klasický test.**<br>\n",
    "Ukážeme si ještě klasické testy pro jednostranné alternativy.<br>\n",
    "$H_0$: $\\mu = 105$<br>\n",
    "$H_A$: $\\mu > 105$<br>"
   ]
  },
  {
   "cell_type": "code",
   "execution_count": 44,
   "metadata": {
    "vscode": {
     "languageId": "r"
    }
   },
   "outputs": [
    {
     "data": {
      "text/html": [
       "<style>\n",
       ".list-inline {list-style: none; margin:0; padding: 0}\n",
       ".list-inline>li {display: inline-block}\n",
       ".list-inline>li:not(:last-child)::after {content: \"\\00b7\"; padding: 0 .5ex}\n",
       "</style>\n",
       "<ol class=list-inline><li>95.675230152763</li><li>Inf</li></ol>\n"
      ],
      "text/latex": [
       "\\begin{enumerate*}\n",
       "\\item 95.675230152763\n",
       "\\item Inf\n",
       "\\end{enumerate*}\n"
      ],
      "text/markdown": [
       "1. 95.675230152763\n",
       "2. Inf\n",
       "\n",
       "\n"
      ],
      "text/plain": [
       "[1] 95.67523      Inf\n",
       "attr(,\"conf.level\")\n",
       "[1] 0.95"
      ]
     },
     "metadata": {},
     "output_type": "display_data"
    }
   ],
   "source": [
    "t.test(data$data, alternative = \"greater\", conf.level = 0.95)$conf.int\n"
   ]
  },
  {
   "cell_type": "markdown",
   "metadata": {},
   "source": [
    "$H_0$: $\\mu = 105$<br>\n",
    "$H_A$: $\\mu < 105$<br>"
   ]
  },
  {
   "cell_type": "code",
   "execution_count": 45,
   "metadata": {
    "vscode": {
     "languageId": "r"
    }
   },
   "outputs": [
    {
     "data": {
      "text/html": [
       "<style>\n",
       ".list-inline {list-style: none; margin:0; padding: 0}\n",
       ".list-inline>li {display: inline-block}\n",
       ".list-inline>li:not(:last-child)::after {content: \"\\00b7\"; padding: 0 .5ex}\n",
       "</style>\n",
       "<ol class=list-inline><li>-Inf</li><li>102.691436513904</li></ol>\n"
      ],
      "text/latex": [
       "\\begin{enumerate*}\n",
       "\\item -Inf\n",
       "\\item 102.691436513904\n",
       "\\end{enumerate*}\n"
      ],
      "text/markdown": [
       "1. -Inf\n",
       "2. 102.691436513904\n",
       "\n",
       "\n"
      ],
      "text/plain": [
       "[1]     -Inf 102.6914\n",
       "attr(,\"conf.level\")\n",
       "[1] 0.95"
      ]
     },
     "metadata": {},
     "output_type": "display_data"
    }
   ],
   "source": [
    "t.test(data$data, alternative = \"less\", conf.level = 0.95)$conf.int\n"
   ]
  },
  {
   "cell_type": "markdown",
   "metadata": {},
   "source": [
    "Všimněte si, že první z těchto jednostranných alternativ vedla k \"nezamítnutí\" $H_0$. Je to z důvodu porovnávání nepravděpodobné $H_0$ s ještě méně pravděpodobnou $H_A$.\n",
    "## III. Čistý test významnosti a souvislost s IO\n",
    "Alternativou ke klasickému testu (kde vytváříme IO - v terminologii klasických testů tzv. obor přijetí a jeho doplněk do R kritický obor) je tzv. čistý test významnosti:"
   ]
  },
  {
   "cell_type": "code",
   "execution_count": 46,
   "metadata": {
    "vscode": {
     "languageId": "r"
    }
   },
   "outputs": [
    {
     "data": {
      "text/plain": [
       "\n",
       "\tOne Sample t-test\n",
       "\n",
       "data:  data$data\n",
       "t = -2.8173, df = 29, p-value = 0.008629\n",
       "alternative hypothesis: true mean is not equal to 105\n",
       "95 percent confidence interval:\n",
       "  94.96065 103.40602\n",
       "sample estimates:\n",
       "mean of x \n",
       " 99.18333 \n"
      ]
     },
     "metadata": {},
     "output_type": "display_data"
    }
   ],
   "source": [
    "# H_0: mu = 105\n",
    "# H_A: mu <> 105\n",
    "t.test(data$data, mu = 105, alternative = \"two.sided\")\n"
   ]
  },
  {
   "cell_type": "code",
   "execution_count": 47,
   "metadata": {
    "vscode": {
     "languageId": "r"
    }
   },
   "outputs": [
    {
     "data": {
      "text/html": [
       "0.00862854118186628"
      ],
      "text/latex": [
       "0.00862854118186628"
      ],
      "text/markdown": [
       "0.00862854118186628"
      ],
      "text/plain": [
       "[1] 0.008628541"
      ]
     },
     "metadata": {},
     "output_type": "display_data"
    }
   ],
   "source": [
    "t.test(data$data, mu = 105, alternative = \"two.sided\")$p.value\n"
   ]
  },
  {
   "cell_type": "markdown",
   "metadata": {},
   "source": [
    "Výsledkem čistého testu významnosti je p-hodnota. Na jejím základě rozhodujeme o zamítnutí či nezamítnutí $H_0$.<br>\n",
    "p-hodnota se dá chápat jako nejvyšší možná hladina váznamnosti, taková aby naše rozhodnutí bylo - nezamítám. Tedy IO/obor přijetí by obsahoval zkoumanou hodnotu:"
   ]
  },
  {
   "cell_type": "code",
   "execution_count": 48,
   "metadata": {
    "vscode": {
     "languageId": "r"
    }
   },
   "outputs": [
    {
     "data": {
      "text/html": [
       "0.00862854118186628"
      ],
      "text/latex": [
       "0.00862854118186628"
      ],
      "text/markdown": [
       "0.00862854118186628"
      ],
      "text/plain": [
       "[1] 0.008628541"
      ]
     },
     "metadata": {},
     "output_type": "display_data"
    },
    {
     "data": {
      "text/html": [
       "<style>\n",
       ".list-inline {list-style: none; margin:0; padding: 0}\n",
       ".list-inline>li {display: inline-block}\n",
       ".list-inline>li:not(:last-child)::after {content: \"\\00b7\"; padding: 0 .5ex}\n",
       "</style>\n",
       "<ol class=list-inline><li>93.3666666666667</li><li>105</li></ol>\n"
      ],
      "text/latex": [
       "\\begin{enumerate*}\n",
       "\\item 93.3666666666667\n",
       "\\item 105\n",
       "\\end{enumerate*}\n"
      ],
      "text/markdown": [
       "1. 93.3666666666667\n",
       "2. 105\n",
       "\n",
       "\n"
      ],
      "text/plain": [
       "[1]  93.36667 105.00000\n",
       "attr(,\"conf.level\")\n",
       "[1] 0.9913715"
      ]
     },
     "metadata": {},
     "output_type": "display_data"
    }
   ],
   "source": [
    "# H_0: mu = 105\n",
    "# H_A: mu <> 105\n",
    "\n",
    "p.hod <- t.test(data$data, mu = 105, alternative = \"two.sided\")$p.value\n",
    "p.hod\n",
    "\n",
    "t.test(data$data, alternative = \"two.sided\", conf.level = 1 - p.hod)$conf.int\n"
   ]
  },
  {
   "cell_type": "code",
   "execution_count": 49,
   "metadata": {
    "vscode": {
     "languageId": "r"
    }
   },
   "outputs": [
    {
     "data": {
      "text/html": [
       "0.995685729409067"
      ],
      "text/latex": [
       "0.995685729409067"
      ],
      "text/markdown": [
       "0.995685729409067"
      ],
      "text/plain": [
       "[1] 0.9956857"
      ]
     },
     "metadata": {},
     "output_type": "display_data"
    },
    {
     "data": {
      "text/html": [
       "<style>\n",
       ".list-inline {list-style: none; margin:0; padding: 0}\n",
       ".list-inline>li {display: inline-block}\n",
       ".list-inline>li:not(:last-child)::after {content: \"\\00b7\"; padding: 0 .5ex}\n",
       "</style>\n",
       "<ol class=list-inline><li>105</li><li>Inf</li></ol>\n"
      ],
      "text/latex": [
       "\\begin{enumerate*}\n",
       "\\item 105\n",
       "\\item Inf\n",
       "\\end{enumerate*}\n"
      ],
      "text/markdown": [
       "1. 105\n",
       "2. Inf\n",
       "\n",
       "\n"
      ],
      "text/plain": [
       "[1] 105 Inf\n",
       "attr(,\"conf.level\")\n",
       "[1] 0.004314271"
      ]
     },
     "metadata": {},
     "output_type": "display_data"
    }
   ],
   "source": [
    "# H_0: mu = 105\n",
    "# H_A: mu > 105\n",
    "\n",
    "p.hod <- t.test(data$data, mu = 105, alternative = \"greater\")$p.value\n",
    "p.hod\n",
    "\n",
    "t.test(data$data, alternative = \"greater\", conf.level = 1 - p.hod)$conf.int\n"
   ]
  },
  {
   "cell_type": "code",
   "execution_count": 50,
   "metadata": {
    "vscode": {
     "languageId": "r"
    }
   },
   "outputs": [
    {
     "data": {
      "text/html": [
       "0.00431427059093314"
      ],
      "text/latex": [
       "0.00431427059093314"
      ],
      "text/markdown": [
       "0.00431427059093314"
      ],
      "text/plain": [
       "[1] 0.004314271"
      ]
     },
     "metadata": {},
     "output_type": "display_data"
    },
    {
     "data": {
      "text/html": [
       "<style>\n",
       ".list-inline {list-style: none; margin:0; padding: 0}\n",
       ".list-inline>li {display: inline-block}\n",
       ".list-inline>li:not(:last-child)::after {content: \"\\00b7\"; padding: 0 .5ex}\n",
       "</style>\n",
       "<ol class=list-inline><li>-Inf</li><li>105</li></ol>\n"
      ],
      "text/latex": [
       "\\begin{enumerate*}\n",
       "\\item -Inf\n",
       "\\item 105\n",
       "\\end{enumerate*}\n"
      ],
      "text/markdown": [
       "1. -Inf\n",
       "2. 105\n",
       "\n",
       "\n"
      ],
      "text/plain": [
       "[1] -Inf  105\n",
       "attr(,\"conf.level\")\n",
       "[1] 0.9956857"
      ]
     },
     "metadata": {},
     "output_type": "display_data"
    }
   ],
   "source": [
    "# H_0: mu = 105\n",
    "# H_A: mu < 105\n",
    "\n",
    "p.hod <- t.test(data$data, mu = 105, alternative = \"less\")$p.value\n",
    "p.hod\n",
    "\n",
    "t.test(data$data, alternative = \"less\", conf.level = 1 - p.hod)$conf.int\n"
   ]
  },
  {
   "cell_type": "markdown",
   "metadata": {},
   "source": [
    "---"
   ]
  },
  {
   "cell_type": "markdown",
   "metadata": {},
   "source": [
    "# 2. Přehled testů\n",
    "## I. Míry polohy\n",
    "Mírami polohy rozumíme údaj určující polohu dat, nehledě na tom jak jsou rozptýlená. Pro data z normálního rozdělení můžeme odhadovat střední hodnotu, pro ostatní medián.\n",
    "#### a) studentův t-test\n",
    "- testujeme střední hodnotu\n",
    "- data musejí pocházet z normálního rozdělení\n",
    "    - exploračně: šikmost a špičatost leží v (-2,2)\n",
    "    - exploračně: QQ graf má body přibližně na čáře\n",
    "    - exaktně: pomocí statistického testu, např. Shapiro-Wilk test (shapiro.test(data))"
   ]
  },
  {
   "cell_type": "code",
   "execution_count": 51,
   "metadata": {
    "vscode": {
     "languageId": "r"
    }
   },
   "outputs": [
    {
     "data": {
      "text/html": [
       "0.69533398752422"
      ],
      "text/latex": [
       "0.69533398752422"
      ],
      "text/markdown": [
       "0.69533398752422"
      ],
      "text/plain": [
       "[1] 0.695334"
      ]
     },
     "metadata": {},
     "output_type": "display_data"
    }
   ],
   "source": [
    "# H_0: mu = 100\n",
    "# H_A: mu <> 100\n",
    "t.test(data$data, mu = 100, alternative = \"two.sided\")$p.value\n"
   ]
  },
  {
   "cell_type": "code",
   "execution_count": 52,
   "metadata": {
    "vscode": {
     "languageId": "r"
    }
   },
   "outputs": [
    {
     "data": {
      "text/html": [
       "0.65233300623789"
      ],
      "text/latex": [
       "0.65233300623789"
      ],
      "text/markdown": [
       "0.65233300623789"
      ],
      "text/plain": [
       "[1] 0.652333"
      ]
     },
     "metadata": {},
     "output_type": "display_data"
    }
   ],
   "source": [
    "# H_0: mu = 100\n",
    "# H_A: mu > 100\n",
    "t.test(data$data, mu = 100, alternative = \"greater\")$p.value\n"
   ]
  },
  {
   "cell_type": "code",
   "execution_count": 53,
   "metadata": {
    "vscode": {
     "languageId": "r"
    }
   },
   "outputs": [
    {
     "data": {
      "text/html": [
       "0.34766699376211"
      ],
      "text/latex": [
       "0.34766699376211"
      ],
      "text/markdown": [
       "0.34766699376211"
      ],
      "text/plain": [
       "[1] 0.347667"
      ]
     },
     "metadata": {},
     "output_type": "display_data"
    }
   ],
   "source": [
    "# H_0: mu = 100\n",
    "# H_A: mu < 100\n",
    "t.test(data$data, mu = 100, alternative = \"less\")$p.value\n"
   ]
  },
  {
   "cell_type": "markdown",
   "metadata": {},
   "source": [
    "#### b) Wilcoxnův test\n",
    "- testujeme medián\n",
    "- data musejí pocházet ze symetrického rozdělení\n",
    "    - exploračně: šikmost leží v (-2,2)\n",
    "    - exploračně: histogram vypadá přibližně symetricky\n",
    "    - exaktně: pomocí statistického testu, např. balíček \"lawstat\", funkce \"symmetry.test(data,boot=FALSE)\""
   ]
  },
  {
   "cell_type": "code",
   "execution_count": 54,
   "metadata": {
    "vscode": {
     "languageId": "r"
    }
   },
   "outputs": [
    {
     "data": {
      "text/html": [
       "0.792159093543887"
      ],
      "text/latex": [
       "0.792159093543887"
      ],
      "text/markdown": [
       "0.792159093543887"
      ],
      "text/plain": [
       "[1] 0.7921591"
      ]
     },
     "metadata": {},
     "output_type": "display_data"
    }
   ],
   "source": [
    "# H_0: X_0.5 = 100\n",
    "# H_A: X_0.5 <> 100\n",
    "wilcox.test(data$data, mu = 100, alternative = \"two.sided\")$p.value\n"
   ]
  },
  {
   "cell_type": "code",
   "execution_count": 55,
   "metadata": {
    "vscode": {
     "languageId": "r"
    }
   },
   "outputs": [
    {
     "data": {
      "text/html": [
       "0.611715583130717"
      ],
      "text/latex": [
       "0.611715583130717"
      ],
      "text/markdown": [
       "0.611715583130717"
      ],
      "text/plain": [
       "[1] 0.6117156"
      ]
     },
     "metadata": {},
     "output_type": "display_data"
    }
   ],
   "source": [
    "# H_0: X_0.5 = 100\n",
    "# H_A: X_0.5 > 100\n",
    "wilcox.test(data$data, mu = 100, alternative = \"greater\")$p.value\n"
   ]
  },
  {
   "cell_type": "code",
   "execution_count": 56,
   "metadata": {
    "vscode": {
     "languageId": "r"
    }
   },
   "outputs": [
    {
     "data": {
      "text/html": [
       "0.396079546771944"
      ],
      "text/latex": [
       "0.396079546771944"
      ],
      "text/markdown": [
       "0.396079546771944"
      ],
      "text/plain": [
       "[1] 0.3960795"
      ]
     },
     "metadata": {},
     "output_type": "display_data"
    }
   ],
   "source": [
    "# H_0: X_0.5 = 100\n",
    "# H_A: X_0.5 < 100\n",
    "wilcox.test(data$data, mu = 100, alternative = \"less\")$p.value\n"
   ]
  },
  {
   "cell_type": "markdown",
   "metadata": {},
   "source": [
    "#### c) znaménkový test test\n",
    "- testujeme medián\n",
    "- výběr většího rozsahu (>10)\n",
    "- vyžaduje knihovnu \"BSDA\"\n",
    "- jakožto nejrobustnější test, se dá použít i na nespojitá data - např. pořadí v nějakém seznamu"
   ]
  },
  {
   "cell_type": "code",
   "execution_count": 57,
   "metadata": {
    "vscode": {
     "languageId": "r"
    }
   },
   "outputs": [
    {
     "data": {
      "text/html": [
       "0.855535551905632"
      ],
      "text/latex": [
       "0.855535551905632"
      ],
      "text/markdown": [
       "0.855535551905632"
      ],
      "text/plain": [
       "[1] 0.8555356"
      ]
     },
     "metadata": {},
     "output_type": "display_data"
    }
   ],
   "source": [
    "# H_0: X_0.5 = 100\n",
    "# H_A: X_0.5 <> 100\n",
    "BSDA::SIGN.test(data$data, md = 100, alternative = \"two.sided\")$p.value\n"
   ]
  },
  {
   "cell_type": "code",
   "execution_count": 58,
   "metadata": {
    "vscode": {
     "languageId": "r"
    }
   },
   "outputs": [
    {
     "data": {
      "text/html": [
       "0.707667644135654"
      ],
      "text/latex": [
       "0.707667644135654"
      ],
      "text/markdown": [
       "0.707667644135654"
      ],
      "text/plain": [
       "[1] 0.7076676"
      ]
     },
     "metadata": {},
     "output_type": "display_data"
    }
   ],
   "source": [
    "# H_0: X_0.5 = 100\n",
    "# H_A: X_0.5 > 100\n",
    "BSDA::SIGN.test(data$data, md = 100, alternative = \"greater\")$p.value\n"
   ]
  },
  {
   "cell_type": "code",
   "execution_count": 59,
   "metadata": {
    "vscode": {
     "languageId": "r"
    }
   },
   "outputs": [
    {
     "data": {
      "text/html": [
       "0.427767775952816"
      ],
      "text/latex": [
       "0.427767775952816"
      ],
      "text/markdown": [
       "0.427767775952816"
      ],
      "text/plain": [
       "[1] 0.4277678"
      ]
     },
     "metadata": {},
     "output_type": "display_data"
    }
   ],
   "source": [
    "# H_0: X_0.5 = 100\n",
    "# H_A: X_0.5 < 100\n",
    "BSDA::SIGN.test(data$data, md = 100, alternative = \"less\")$p.value\n"
   ]
  },
  {
   "cell_type": "markdown",
   "metadata": {},
   "source": [
    "## II. Míry variability\n",
    "Mírami variability rozumíme údaj určující rozptýlenost/variabilitu dat, nehledě na celkových hodnotách. Pro data z normálního rozdělení můžeme odhadovat směrodatnou odchylku.\n",
    "### test směrodatné odchylky\n",
    "- testujeme směrodatnou odchylku\n",
    "- data musejí pocházet z normálního rozdělení\n",
    "    - exploračně: šikmost a špičatost leží v (-2,2)\n",
    "    - exploračně: QQ graf má body přibližně na čáře\n",
    "    - exaktně: pomocí statistického testu, např. Shapiro-Wilk test (shapiro.test(data))\n",
    "- vyžaduje balíček \"EnvStats\"\n",
    "- funkce v Rku, porovnává rozptyl!!!"
   ]
  },
  {
   "cell_type": "code",
   "execution_count": 60,
   "metadata": {
    "vscode": {
     "languageId": "r"
    }
   },
   "outputs": [
    {
     "data": {
      "text/html": [
       "0.288064602223072"
      ],
      "text/latex": [
       "0.288064602223072"
      ],
      "text/markdown": [
       "0.288064602223072"
      ],
      "text/plain": [
       "[1] 0.2880646"
      ]
     },
     "metadata": {},
     "output_type": "display_data"
    }
   ],
   "source": [
    "# H_0: sigma = 10\n",
    "# H_A: sigma <> 10\n",
    "EnvStats::varTest(data$data,\n",
    "    sigma.squared = 10 * 10,\n",
    "    alternative = \"two.sided\"\n",
    ")$p.value\n"
   ]
  },
  {
   "cell_type": "code",
   "execution_count": 61,
   "metadata": {
    "vscode": {
     "languageId": "r"
    }
   },
   "outputs": [
    {
     "data": {
      "text/html": [
       "0.144032301111536"
      ],
      "text/latex": [
       "0.144032301111536"
      ],
      "text/markdown": [
       "0.144032301111536"
      ],
      "text/plain": [
       "[1] 0.1440323"
      ]
     },
     "metadata": {},
     "output_type": "display_data"
    }
   ],
   "source": [
    "# H_0: sigma = 10\n",
    "# H_A: sigma > 10\n",
    "EnvStats::varTest(data$data,\n",
    "    sigma.squared = 10 * 10,\n",
    "    alternative = \"greater\"\n",
    ")$p.value\n"
   ]
  },
  {
   "cell_type": "code",
   "execution_count": 62,
   "metadata": {
    "vscode": {
     "languageId": "r"
    }
   },
   "outputs": [
    {
     "data": {
      "text/html": [
       "0.855967698888464"
      ],
      "text/latex": [
       "0.855967698888464"
      ],
      "text/markdown": [
       "0.855967698888464"
      ],
      "text/plain": [
       "[1] 0.8559677"
      ]
     },
     "metadata": {},
     "output_type": "display_data"
    }
   ],
   "source": [
    "# H_0: sigma = 10\n",
    "# H_A: sigma < 10\n",
    "EnvStats::varTest(data$data,\n",
    "    sigma.squared = 10 * 10,\n",
    "    alternative = \"less\"\n",
    ")$p.value\n"
   ]
  },
  {
   "cell_type": "markdown",
   "metadata": {},
   "source": [
    "## III. Pravděpodobnost výskytu u jednoho výběru\n",
    "### IO pravděpodobnosti\n",
    "- testujeme pravděpodobnost\n",
    "- vyžadujeme dostatečný počet dat: $n>\\frac{9}{p(1-p)}$\n",
    "- Clopperův - Pearsonův odhad (binom.test)\n",
    "    - jako parametr nebere data, ale počet úspěchů a počet pozorování "
   ]
  },
  {
   "cell_type": "code",
   "execution_count": 63,
   "metadata": {
    "vscode": {
     "languageId": "r"
    }
   },
   "outputs": [
    {
     "data": {
      "text/html": [
       "100"
      ],
      "text/latex": [
       "100"
      ],
      "text/markdown": [
       "100"
      ],
      "text/plain": [
       "[1] 100"
      ]
     },
     "metadata": {},
     "output_type": "display_data"
    },
    {
     "data": {
      "text/html": [
       "28"
      ],
      "text/latex": [
       "28"
      ],
      "text/markdown": [
       "28"
      ],
      "text/plain": [
       "[1] 28"
      ]
     },
     "metadata": {},
     "output_type": "display_data"
    }
   ],
   "source": [
    "pi <- 0.3\n",
    "data_bin <- runif(n = 100, min = 0, max = 1) < pi\n",
    "\n",
    "n <- length(data_bin)\n",
    "x <- sum(data_bin)\n",
    "n\n",
    "x\n"
   ]
  },
  {
   "cell_type": "code",
   "execution_count": 64,
   "metadata": {
    "vscode": {
     "languageId": "r"
    }
   },
   "outputs": [
    {
     "data": {
      "text/html": [
       "0.059480382860472"
      ],
      "text/latex": [
       "0.059480382860472"
      ],
      "text/markdown": [
       "0.059480382860472"
      ],
      "text/plain": [
       "[1] 0.05948038"
      ]
     },
     "metadata": {},
     "output_type": "display_data"
    }
   ],
   "source": [
    "# H_0: pi = 0.2\n",
    "# H_A: pi <> 0.2\n",
    "binom.test(x = x, n = n, p = 0.2, alternative = \"two.sided\")$p.value\n"
   ]
  },
  {
   "cell_type": "code",
   "execution_count": 65,
   "metadata": {
    "vscode": {
     "languageId": "r"
    }
   },
   "outputs": [
    {
     "data": {
      "text/html": [
       "0.034151629639075"
      ],
      "text/latex": [
       "0.034151629639075"
      ],
      "text/markdown": [
       "0.034151629639075"
      ],
      "text/plain": [
       "[1] 0.03415163"
      ]
     },
     "metadata": {},
     "output_type": "display_data"
    }
   ],
   "source": [
    "# H_0: pi = 0.2\n",
    "# H_A: pi > 0.2\n",
    "binom.test(x = x, n = n, p = 0.2, alternative = \"greater\")$p.value\n"
   ]
  },
  {
   "cell_type": "code",
   "execution_count": 66,
   "metadata": {
    "vscode": {
     "languageId": "r"
    }
   },
   "outputs": [
    {
     "data": {
      "text/html": [
       "0.979979793267828"
      ],
      "text/latex": [
       "0.979979793267828"
      ],
      "text/markdown": [
       "0.979979793267828"
      ],
      "text/plain": [
       "[1] 0.9799798"
      ]
     },
     "metadata": {},
     "output_type": "display_data"
    }
   ],
   "source": [
    "# H_0: pi = 0.2\n",
    "# H_A: pi < 0.2\n",
    "binom.test(x = x, n = n, p = 0.2, alternative = \"less\")$p.value\n"
   ]
  },
  {
   "cell_type": "markdown",
   "metadata": {},
   "source": [
    "---"
   ]
  },
  {
   "cell_type": "markdown",
   "metadata": {},
   "source": [
    "# Příklady\n",
    "## Příklad 1.\n",
    "Máme výběr 216 pacientů a změřili jsme jejich bílkovinné sérum (soubor `data/testy_jednovyberove.xlsx` list `bilk_serum`). Ověřte, zda se průměrné bílkovinné sérum (Albumin) všech pacientů tohoto typu (populační průměr µ) statisticky významně liší od hodnoty 35 g/l."
   ]
  },
  {
   "cell_type": "code",
   "execution_count": 67,
   "metadata": {
    "vscode": {
     "languageId": "r"
    }
   },
   "outputs": [
    {
     "data": {
      "text/html": [
       "<table class=\"dataframe\">\n",
       "<caption>A tibble: 6 × 1</caption>\n",
       "<thead>\n",
       "\t<tr><th scope=col>hodnoty</th></tr>\n",
       "\t<tr><th scope=col>&lt;dbl&gt;</th></tr>\n",
       "</thead>\n",
       "<tbody>\n",
       "\t<tr><td>33.874</td></tr>\n",
       "\t<tr><td>34.718</td></tr>\n",
       "\t<tr><td>34.957</td></tr>\n",
       "\t<tr><td>34.758</td></tr>\n",
       "\t<tr><td>35.280</td></tr>\n",
       "\t<tr><td>34.621</td></tr>\n",
       "</tbody>\n",
       "</table>\n"
      ],
      "text/latex": [
       "A tibble: 6 × 1\n",
       "\\begin{tabular}{l}\n",
       " hodnoty\\\\\n",
       " <dbl>\\\\\n",
       "\\hline\n",
       "\t 33.874\\\\\n",
       "\t 34.718\\\\\n",
       "\t 34.957\\\\\n",
       "\t 34.758\\\\\n",
       "\t 35.280\\\\\n",
       "\t 34.621\\\\\n",
       "\\end{tabular}\n"
      ],
      "text/markdown": [
       "\n",
       "A tibble: 6 × 1\n",
       "\n",
       "| hodnoty &lt;dbl&gt; |\n",
       "|---|\n",
       "| 33.874 |\n",
       "| 34.718 |\n",
       "| 34.957 |\n",
       "| 34.758 |\n",
       "| 35.280 |\n",
       "| 34.621 |\n",
       "\n"
      ],
      "text/plain": [
       "  hodnoty\n",
       "1 33.874 \n",
       "2 34.718 \n",
       "3 34.957 \n",
       "4 34.758 \n",
       "5 35.280 \n",
       "6 34.621 "
      ]
     },
     "metadata": {},
     "output_type": "display_data"
    }
   ],
   "source": [
    "# Načtení dat z xlsx souboru (pomoci balíčku readxl)\n",
    "albumin <- readxl::read_excel(\"data/testy_jednovyberove.xlsx\",\n",
    "    sheet = \"bilk_serum\"\n",
    ")\n",
    "colnames(albumin) <- \"hodnoty\"\n",
    "head(albumin)\n"
   ]
  },
  {
   "cell_type": "code",
   "execution_count": 68,
   "metadata": {
    "vscode": {
     "languageId": "r"
    }
   },
   "outputs": [
    {
     "data": {
      "image/png": "[encoded data removed]",
      "text/plain": [
       "plot without title"
      ]
     },
     "metadata": {
      "image/png": {
       "height": 420,
       "width": 420
      }
     },
     "output_type": "display_data"
    }
   ],
   "source": [
    "# Explorační analýza - zhodnocení OP\n",
    "boxplot(albumin$hodnoty)\n"
   ]
  },
  {
   "cell_type": "code",
   "execution_count": 69,
   "metadata": {
    "vscode": {
     "languageId": "r"
    }
   },
   "outputs": [
    {
     "data": {
      "text/plain": [
       "\n",
       "\tShapiro-Wilk normality test\n",
       "\n",
       "data:  albumin$hodnoty\n",
       "W = 0.99151, p-value = 0.2358\n"
      ]
     },
     "metadata": {},
     "output_type": "display_data"
    }
   ],
   "source": [
    "# Předpoklad normality ověříme Shapirovovým - Wilkovovým testem.\n",
    "# H0: Data jsou výběrem z normálního rozdělení.\n",
    "# Ha: Data nejsou výběrem z normálního rozdělení.\n",
    "shapiro.test(albumin$hodnoty)\n",
    "# p-value > 0.05 -> Na hl. významnosti 0,05 nelze předpoklad normality zamít.\n"
   ]
  },
  {
   "cell_type": "code",
   "execution_count": 70,
   "metadata": {
    "vscode": {
     "languageId": "r"
    }
   },
   "outputs": [
    {
     "data": {
      "text/plain": [
       "\n",
       "\tOne Sample t-test\n",
       "\n",
       "data:  albumin$hodnoty\n",
       "t = -19.249, df = 217, p-value < 2.2e-16\n",
       "alternative hypothesis: true mean is not equal to 35\n",
       "95 percent confidence interval:\n",
       " 34.43421 34.53932\n",
       "sample estimates:\n",
       "mean of x \n",
       " 34.48677 \n"
      ]
     },
     "metadata": {},
     "output_type": "display_data"
    }
   ],
   "source": [
    "# normalita OK -> t.test\n",
    "\n",
    "# H0: mu = 35 g/l\n",
    "# Ha: mu <> 35 g/l\n",
    "\n",
    "t.test(albumin$hodnoty, mu = 35, alternative = \"two.sided\")\n",
    "\n",
    "# p-value < 0.05 -> Na hl. významnosti 0,05 zamítáme nulovou hypotézu\n",
    "# ve prospěch hypotézy alternativní\n",
    "# Střední hodnota albuminu se statisticky významně liší od 35 g/l.\n"
   ]
  },
  {
   "cell_type": "code",
   "execution_count": 71,
   "metadata": {
    "vscode": {
     "languageId": "r"
    }
   },
   "outputs": [
    {
     "data": {
      "text/html": [
       "218"
      ],
      "text/latex": [
       "218"
      ],
      "text/markdown": [
       "218"
      ],
      "text/plain": [
       "[1] 218"
      ]
     },
     "metadata": {},
     "output_type": "display_data"
    },
    {
     "data": {
      "text/html": [
       "0.393682994116148"
      ],
      "text/latex": [
       "0.393682994116148"
      ],
      "text/markdown": [
       "0.393682994116148"
      ],
      "text/plain": [
       "[1] 0.393683"
      ]
     },
     "metadata": {},
     "output_type": "display_data"
    }
   ],
   "source": [
    "# Pokud budeme chtít zaokrouhlovat:\n",
    "length(albumin$hodnoty) # sd zaokrouhlujeme na 3 platné cifry\n",
    "sd(albumin$hodnoty) # sd a míry polohy zaokrouhlujeme na tisíciny\n"
   ]
  },
  {
   "cell_type": "markdown",
   "metadata": {},
   "source": [
    "## Příklad 2.\n",
    "V souboru `data/testy_jednovyberove.xlsx` list `preziti` jsou uvedeny doby přežití pro 100 pacientů s rakovinou plic léčených novým lékem. Z předchozích studií je známo, že průměrné přežití takových pacientů bez podávání nového léku je 22,2 měsíce. Lze na základě těchto dat usoudit, že nový lék prodlužuje přežití?"
   ]
  },
  {
   "cell_type": "code",
   "execution_count": 72,
   "metadata": {
    "vscode": {
     "languageId": "r"
    }
   },
   "outputs": [
    {
     "data": {
      "text/html": [
       "<table class=\"dataframe\">\n",
       "<caption>A tibble: 6 × 1</caption>\n",
       "<thead>\n",
       "\t<tr><th scope=col>hodnoty</th></tr>\n",
       "\t<tr><th scope=col>&lt;dbl&gt;</th></tr>\n",
       "</thead>\n",
       "<tbody>\n",
       "\t<tr><td>27</td></tr>\n",
       "\t<tr><td> 6</td></tr>\n",
       "\t<tr><td> 9</td></tr>\n",
       "\t<tr><td>62</td></tr>\n",
       "\t<tr><td>10</td></tr>\n",
       "\t<tr><td>10</td></tr>\n",
       "</tbody>\n",
       "</table>\n"
      ],
      "text/latex": [
       "A tibble: 6 × 1\n",
       "\\begin{tabular}{l}\n",
       " hodnoty\\\\\n",
       " <dbl>\\\\\n",
       "\\hline\n",
       "\t 27\\\\\n",
       "\t  6\\\\\n",
       "\t  9\\\\\n",
       "\t 62\\\\\n",
       "\t 10\\\\\n",
       "\t 10\\\\\n",
       "\\end{tabular}\n"
      ],
      "text/markdown": [
       "\n",
       "A tibble: 6 × 1\n",
       "\n",
       "| hodnoty &lt;dbl&gt; |\n",
       "|---|\n",
       "| 27 |\n",
       "|  6 |\n",
       "|  9 |\n",
       "| 62 |\n",
       "| 10 |\n",
       "| 10 |\n",
       "\n"
      ],
      "text/plain": [
       "  hodnoty\n",
       "1 27     \n",
       "2  6     \n",
       "3  9     \n",
       "4 62     \n",
       "5 10     \n",
       "6 10     "
      ]
     },
     "metadata": {},
     "output_type": "display_data"
    }
   ],
   "source": [
    "# Načtení dat z xlsx souboru (pomoci balíčku readxl)\n",
    "preziti <- readxl::read_excel(\"data/testy_jednovyberove.xlsx\",\n",
    "    sheet = \"preziti\"\n",
    ")\n",
    "colnames(preziti) <- \"hodnoty\"\n",
    "head(preziti)\n"
   ]
  },
  {
   "cell_type": "code",
   "execution_count": 73,
   "metadata": {
    "vscode": {
     "languageId": "r"
    }
   },
   "outputs": [
    {
     "data": {
      "image/png": "[encoded data removed]",
      "text/plain": [
       "Plot with title “Histogram of preziti$hodnoty”"
      ]
     },
     "metadata": {
      "image/png": {
       "height": 420,
       "width": 420
      }
     },
     "output_type": "display_data"
    }
   ],
   "source": [
    "## Explorační analýza - zhodnocení OP -> zhodnocení typu rozdělení\n",
    "par(mfrow = c(1, 2)) # matice grafů 1x2\n",
    "\n",
    "boxplot(preziti$hodnoty)\n",
    "hist(preziti$hodnoty)\n"
   ]
  },
  {
   "cell_type": "markdown",
   "metadata": {},
   "source": [
    "**Data obsahují OP -> můžeme je odstranit. Nebo si také všimnout, že se pravděpdobně jedná o exponenciální rozdělení a OP tam ve skutečnosti nejsou (rozdělení se tak prostě chová).**"
   ]
  },
  {
   "cell_type": "code",
   "execution_count": 74,
   "metadata": {
    "vscode": {
     "languageId": "r"
    }
   },
   "outputs": [
    {
     "data": {
      "text/plain": [
       "\n",
       "\tOne-sample Sign-Test\n",
       "\n",
       "data:  preziti$hodnoty\n",
       "s = 46, p-value = 0.8159\n",
       "alternative hypothesis: true median is greater than 22.2\n",
       "95 percent confidence interval:\n",
       "  19 Inf\n",
       "sample estimates:\n",
       "median of x \n",
       "         21 \n",
       "\n",
       "Achieved and Interpolated Confidence Intervals: \n",
       "\n",
       "                  Conf.Level L.E.pt U.E.pt\n",
       "Lower Achieved CI     0.9334     19    Inf\n",
       "Interpolated CI       0.9500     19    Inf\n",
       "Upper Achieved CI     0.9557     19    Inf\n"
      ]
     },
     "metadata": {},
     "output_type": "display_data"
    }
   ],
   "source": [
    "# Exponenciální rozdělení, tedy: normalita zamítnuta -> symetrie zamítnuta -> Sign. test\n",
    "# H0: median = 22,2 měsíců\n",
    "# Ha: median > 22,2 měsíců\n",
    "\n",
    "BSDA::SIGN.test(preziti$hodnoty,\n",
    "    md = 22.2,\n",
    "    alternative = \"greater\", conf.level = 0.95\n",
    ")\n",
    "\n",
    "# p-value > 0.05 -> Na hl. významnosti 0,05 nelze zamítnout nulovou hypotézu\n",
    "# Medián doby přežití není statisticky významně větší než 22,2 měsíců.\n"
   ]
  },
  {
   "cell_type": "code",
   "execution_count": 75,
   "metadata": {
    "vscode": {
     "languageId": "r"
    }
   },
   "outputs": [
    {
     "data": {
      "text/plain": [
       "\n",
       "\tOne-sample Sign-Test\n",
       "\n",
       "data:  preziti$hodnoty\n",
       "s = 46, p-value = 0.4841\n",
       "alternative hypothesis: true median is not equal to 22.2\n",
       "95 percent confidence interval:\n",
       " 18 27\n",
       "sample estimates:\n",
       "median of x \n",
       "         21 \n",
       "\n",
       "Achieved and Interpolated Confidence Intervals: \n",
       "\n",
       "                  Conf.Level L.E.pt U.E.pt\n",
       "Lower Achieved CI     0.9431     18     27\n",
       "Interpolated CI       0.9500     18     27\n",
       "Upper Achieved CI     0.9648     18     27\n"
      ]
     },
     "metadata": {},
     "output_type": "display_data"
    }
   ],
   "source": [
    "# lepší závěr je, že medián doby přežití se stat. významně neliší od 22,2 měsíců\n",
    "\n",
    "# H0: median = 22,2 měsíců\n",
    "# Ha: median != 22,2 měsíců\n",
    "\n",
    "BSDA::SIGN.test(preziti$hodnoty,\n",
    "    md = 22.2,\n",
    "    alternative = \"two.sided\", conf.level = 0.95\n",
    ")\n"
   ]
  },
  {
   "cell_type": "code",
   "execution_count": 76,
   "metadata": {
    "vscode": {
     "languageId": "r"
    }
   },
   "outputs": [
    {
     "data": {
      "text/html": [
       "100"
      ],
      "text/latex": [
       "100"
      ],
      "text/markdown": [
       "100"
      ],
      "text/plain": [
       "[1] 100"
      ]
     },
     "metadata": {},
     "output_type": "display_data"
    },
    {
     "data": {
      "text/html": [
       "27.5933145906941"
      ],
      "text/latex": [
       "27.5933145906941"
      ],
      "text/markdown": [
       "27.5933145906941"
      ],
      "text/plain": [
       "[1] 27.59331"
      ]
     },
     "metadata": {},
     "output_type": "display_data"
    }
   ],
   "source": [
    "# pokud chceme výsledek zaokrouhlit\n",
    "length(preziti$hodnoty)\n",
    "sd(preziti$hodnoty)"
   ]
  },
  {
   "cell_type": "markdown",
   "metadata": {},
   "source": [
    "## Příklad 3.\n",
    "Automat vyrábí pístové kroužky o daném průměru. Výrobce udává, že směrodatná odchylka průměru kroužku je 0,05 mm. K ověření této informace bylo náhodně vybráno 80 kroužků a vypočtena směrodatná odchylka jejich průměru 0,04 mm. Lze tento rozdíl považovat za statisticky významný ve smyslu zlepšení kvality produkce? Ověřte čistým testem významnosti. Předpokládejte, že průměr pístových kroužků má normální rozdělení."
   ]
  },
  {
   "cell_type": "code",
   "execution_count": 77,
   "metadata": {
    "vscode": {
     "languageId": "r"
    }
   },
   "outputs": [
    {
     "data": {
      "text/html": [
       "50.56"
      ],
      "text/latex": [
       "50.56"
      ],
      "text/markdown": [
       "50.56"
      ],
      "text/plain": [
       "[1] 50.56"
      ]
     },
     "metadata": {},
     "output_type": "display_data"
    }
   ],
   "source": [
    "# Test o směrodatné odchylce\n",
    "\n",
    "# Předpokládáme normalitu dat (dle zadání)\n",
    "n <- 80 # rozsah souboru\n",
    "s <- 0.04 # mm .... výběrová směrodatná odchylka (bodový odhad sm. odchylky)\n",
    "\n",
    "# H0: sigma = 0.05 mm\n",
    "# Ha: sigma < 0.05 mm\n",
    "\n",
    "x.obs <- (n - 1) * s^2 / 0.05^2\n",
    "x.obs\n"
   ]
  },
  {
   "cell_type": "code",
   "execution_count": 78,
   "metadata": {
    "vscode": {
     "languageId": "r"
    }
   },
   "outputs": [
    {
     "data": {
      "text/html": [
       "0.00529401561448451"
      ],
      "text/latex": [
       "0.00529401561448451"
      ],
      "text/markdown": [
       "0.00529401561448451"
      ],
      "text/plain": [
       "[1] 0.005294016"
      ]
     },
     "metadata": {},
     "output_type": "display_data"
    }
   ],
   "source": [
    "p.hodnota <- pchisq(x.obs, n - 1)\n",
    "p.hodnota\n",
    "\n",
    "# p.hodnota < 0.05 -> Na hladině významnosti 0,05 zamítáme nulovou hypotézu\n",
    "# ve prospěch alternativní hypotézy\n",
    "# Směr. odchylka průměru kroužku je statisticky významně menší než 0,05 mm.\n"
   ]
  },
  {
   "cell_type": "markdown",
   "metadata": {},
   "source": [
    "## Příklad 4.\n",
    "Automat vyrábí pístové kroužky o daném průměru. Výrobce udává, že směrodatná odchylka průměru kroužku je 0,05 mm. K ověření této informace bylo náhodně vybráno 80 kroužků a byl změřen jejich průměr (soubor `data/testy_jednovyberove.xlsx` list `krouzky`). Lze zjištěné výsledky považovat za statisticky významné ve smyslu zlepšení kvality produkce? Ověřte čistým testem významnosti."
   ]
  },
  {
   "cell_type": "code",
   "execution_count": 79,
   "metadata": {
    "vscode": {
     "languageId": "r"
    }
   },
   "outputs": [
    {
     "data": {
      "text/html": [
       "<table class=\"dataframe\">\n",
       "<caption>A tibble: 6 × 1</caption>\n",
       "<thead>\n",
       "\t<tr><th scope=col>hodnoty</th></tr>\n",
       "\t<tr><th scope=col>&lt;dbl&gt;</th></tr>\n",
       "</thead>\n",
       "<tbody>\n",
       "\t<tr><td>10.00</td></tr>\n",
       "\t<tr><td>10.03</td></tr>\n",
       "\t<tr><td> 9.96</td></tr>\n",
       "\t<tr><td>10.00</td></tr>\n",
       "\t<tr><td> 9.98</td></tr>\n",
       "\t<tr><td>10.02</td></tr>\n",
       "</tbody>\n",
       "</table>\n"
      ],
      "text/latex": [
       "A tibble: 6 × 1\n",
       "\\begin{tabular}{l}\n",
       " hodnoty\\\\\n",
       " <dbl>\\\\\n",
       "\\hline\n",
       "\t 10.00\\\\\n",
       "\t 10.03\\\\\n",
       "\t  9.96\\\\\n",
       "\t 10.00\\\\\n",
       "\t  9.98\\\\\n",
       "\t 10.02\\\\\n",
       "\\end{tabular}\n"
      ],
      "text/markdown": [
       "\n",
       "A tibble: 6 × 1\n",
       "\n",
       "| hodnoty &lt;dbl&gt; |\n",
       "|---|\n",
       "| 10.00 |\n",
       "| 10.03 |\n",
       "|  9.96 |\n",
       "| 10.00 |\n",
       "|  9.98 |\n",
       "| 10.02 |\n",
       "\n"
      ],
      "text/plain": [
       "  hodnoty\n",
       "1 10.00  \n",
       "2 10.03  \n",
       "3  9.96  \n",
       "4 10.00  \n",
       "5  9.98  \n",
       "6 10.02  "
      ]
     },
     "metadata": {},
     "output_type": "display_data"
    }
   ],
   "source": [
    "# Načtení dat z xlsx souboru (pomoci balíčku readxl)\n",
    "krouzky <- readxl::read_excel(\"data/testy_jednovyberove.xlsx\",\n",
    "    sheet = \"krouzky\"\n",
    ")\n",
    "colnames(krouzky) <- \"hodnoty\"\n",
    "head(krouzky)\n"
   ]
  },
  {
   "cell_type": "code",
   "execution_count": 80,
   "metadata": {
    "vscode": {
     "languageId": "r"
    }
   },
   "outputs": [
    {
     "data": {
      "image/png": "[encoded data removed]",
      "text/plain": [
       "plot without title"
      ]
     },
     "metadata": {
      "image/png": {
       "height": 420,
       "width": 420
      }
     },
     "output_type": "display_data"
    }
   ],
   "source": [
    "# Explorační analýza - zhodnocení OP\n",
    "boxplot(krouzky$hodnoty)\n"
   ]
  },
  {
   "cell_type": "code",
   "execution_count": 81,
   "metadata": {
    "vscode": {
     "languageId": "r"
    }
   },
   "outputs": [
    {
     "data": {
      "text/html": [
       "<table class=\"dataframe\">\n",
       "<caption>A tibble: 2 × 4</caption>\n",
       "<thead>\n",
       "\t<tr><th scope=col>hodnoty</th><th scope=col>id</th><th scope=col>is.outlier</th><th scope=col>is.extreme</th></tr>\n",
       "\t<tr><th scope=col>&lt;dbl&gt;</th><th scope=col>&lt;int&gt;</th><th scope=col>&lt;lgl&gt;</th><th scope=col>&lt;lgl&gt;</th></tr>\n",
       "</thead>\n",
       "<tbody>\n",
       "\t<tr><td>9.94</td><td>30</td><td>TRUE</td><td>FALSE</td></tr>\n",
       "\t<tr><td>9.94</td><td>41</td><td>TRUE</td><td>FALSE</td></tr>\n",
       "</tbody>\n",
       "</table>\n"
      ],
      "text/latex": [
       "A tibble: 2 × 4\n",
       "\\begin{tabular}{llll}\n",
       " hodnoty & id & is.outlier & is.extreme\\\\\n",
       " <dbl> & <int> & <lgl> & <lgl>\\\\\n",
       "\\hline\n",
       "\t 9.94 & 30 & TRUE & FALSE\\\\\n",
       "\t 9.94 & 41 & TRUE & FALSE\\\\\n",
       "\\end{tabular}\n"
      ],
      "text/markdown": [
       "\n",
       "A tibble: 2 × 4\n",
       "\n",
       "| hodnoty &lt;dbl&gt; | id &lt;int&gt; | is.outlier &lt;lgl&gt; | is.extreme &lt;lgl&gt; |\n",
       "|---|---|---|---|\n",
       "| 9.94 | 30 | TRUE | FALSE |\n",
       "| 9.94 | 41 | TRUE | FALSE |\n",
       "\n"
      ],
      "text/plain": [
       "  hodnoty id is.outlier is.extreme\n",
       "1 9.94    30 TRUE       FALSE     \n",
       "2 9.94    41 TRUE       FALSE     "
      ]
     },
     "metadata": {},
     "output_type": "display_data"
    },
    {
     "data": {
      "image/png": "[encoded data removed]",
      "text/plain": [
       "plot without title"
      ]
     },
     "metadata": {
      "image/png": {
       "height": 420,
       "width": 420
      }
     },
     "output_type": "display_data"
    }
   ],
   "source": [
    "# Data obsahují odlehlá pozorování, odstraníme je:\n",
    "\n",
    "# přidáme id\n",
    "krouzky <- krouzky %>% mutate(id = row_number())\n",
    "\n",
    "# identifikace odlehlých pozorování\n",
    "outliers <- krouzky %>% rstatix::identify_outliers(hodnoty)\n",
    "outliers\n",
    "\n",
    "# odstranění odlehlých pozorování\n",
    "krouzky <- krouzky %>% mutate(hodnoty.bez = ifelse(id %in% outliers$id, NA, hodnoty))\n",
    "\n",
    "boxplot(krouzky$hodnoty.bez)"
   ]
  },
  {
   "cell_type": "code",
   "execution_count": 82,
   "metadata": {
    "vscode": {
     "languageId": "r"
    }
   },
   "outputs": [
    {
     "data": {
      "text/plain": [
       "\n",
       "\tShapiro-Wilk normality test\n",
       "\n",
       "data:  krouzky$hodnoty.bez\n",
       "W = 0.97005, p-value = 0.0628\n"
      ]
     },
     "metadata": {},
     "output_type": "display_data"
    }
   ],
   "source": [
    "# test normality.\n",
    "# Předpoklad normality ověříme Shapirovovým . Wilkovovým testem.\n",
    "shapiro.test(krouzky$hodnoty.bez)\n",
    "# p-value > 0.05 -> Na hl. významnosti 0,05 nelze předpoklad norm. zamítnout\n"
   ]
  },
  {
   "cell_type": "code",
   "execution_count": 83,
   "metadata": {
    "vscode": {
     "languageId": "r"
    }
   },
   "outputs": [
    {
     "name": "stderr",
     "output_type": "stream",
     "text": [
      "Warning message in is.not.finite.warning(x):\n",
      "“There were 2 nonfinite values in x : 2 NA's”\n",
      "Warning message in EnvStats::varTest(krouzky$hodnoty.bez, sigma.squared = 0.05^2, :\n",
      "“2 observations with NA/NaN/Inf in 'x' removed.”\n"
     ]
    },
    {
     "data": {
      "text/plain": [
       "\n",
       "Results of Hypothesis Test\n",
       "--------------------------\n",
       "\n",
       "Null Hypothesis:                 variance = 0.0025\n",
       "\n",
       "Alternative Hypothesis:          True variance is less than 0.0025\n",
       "\n",
       "Test Name:                       Chi-Squared Test on Variance\n",
       "\n",
       "Estimated Parameter(s):          variance = 0.0006173327\n",
       "\n",
       "Data:                            krouzky$hodnoty.bez\n",
       "\n",
       "Test Statistic:                  Chi-Squared = 19.01385\n",
       "\n",
       "Test Statistic Parameter:        df = 77\n",
       "\n",
       "P-value:                         1.353973e-12\n",
       "\n",
       "95% Confidence Interval:         LCL = 0.0000000000\n",
       "                                 UCL = 0.0008225911\n"
      ]
     },
     "metadata": {},
     "output_type": "display_data"
    }
   ],
   "source": [
    "# test na míru variability -> test o rozptylu\n",
    "\n",
    "# H0: sigma = 0,05 mm\n",
    "# Ha: sigma < 0,05 mm\n",
    "EnvStats::varTest(krouzky$hodnoty.bez,\n",
    "    sigma.squared = 0.05^2,\n",
    "    alternative = \"less\"\n",
    ")\n",
    "\n",
    "# p-value < 0.05 -> Na hladině významnosti 0,05 zamítáme H0 ve prospěch Ha\n"
   ]
  },
  {
   "cell_type": "code",
   "execution_count": 84,
   "metadata": {
    "vscode": {
     "languageId": "r"
    }
   },
   "outputs": [
    {
     "name": "stderr",
     "output_type": "stream",
     "text": [
      "Warning message in is.not.finite.warning(x):\n",
      "“There were 2 nonfinite values in x : 2 NA's”\n",
      "Warning message in EnvStats::varTest(krouzky$hodnoty.bez, sigma.squared = 0.05^2, :\n",
      "“2 observations with NA/NaN/Inf in 'x' removed.”\n"
     ]
    },
    {
     "data": {
      "text/html": [
       "<style>\n",
       ".dl-inline {width: auto; margin:0; padding: 0}\n",
       ".dl-inline>dt, .dl-inline>dd {float: none; width: auto; display: inline-block}\n",
       ".dl-inline>dt::after {content: \":\\0020\"; padding-right: .5ex}\n",
       ".dl-inline>dt:not(:first-of-type) {padding-left: .5ex}\n",
       "</style><dl class=dl-inline><dt>LCL</dt><dd>0</dd><dt>UCL</dt><dd>0.0286808486207514</dd></dl>\n"
      ],
      "text/latex": [
       "\\begin{description*}\n",
       "\\item[LCL] 0\n",
       "\\item[UCL] 0.0286808486207514\n",
       "\\end{description*}\n"
      ],
      "text/markdown": [
       "LCL\n",
       ":   0UCL\n",
       ":   0.0286808486207514\n",
       "\n"
      ],
      "text/plain": [
       "       LCL        UCL \n",
       "0.00000000 0.02868085 \n",
       "attr(,\"conf.level\")\n",
       "[1] 0.95"
      ]
     },
     "metadata": {},
     "output_type": "display_data"
    }
   ],
   "source": [
    "# Jak najít 95% intervalový odhad směrodatné odchylky?\n",
    "pom <- EnvStats::varTest(krouzky$hodnoty.bez,\n",
    "    sigma.squared = 0.05^2,\n",
    "    alternative = \"less\", conf.level = 0.95\n",
    ")\n",
    "\n",
    "sqrt(pom$conf.int)\n"
   ]
  },
  {
   "cell_type": "code",
   "execution_count": 85,
   "metadata": {
    "vscode": {
     "languageId": "r"
    }
   },
   "outputs": [
    {
     "data": {
      "text/html": [
       "78"
      ],
      "text/latex": [
       "78"
      ],
      "text/markdown": [
       "78"
      ],
      "text/plain": [
       "[1] 78"
      ]
     },
     "metadata": {},
     "output_type": "display_data"
    },
    {
     "data": {
      "text/html": [
       "0.0248461801356396"
      ],
      "text/latex": [
       "0.0248461801356396"
      ],
      "text/markdown": [
       "0.0248461801356396"
      ],
      "text/plain": [
       "[1] 0.02484618"
      ]
     },
     "metadata": {},
     "output_type": "display_data"
    }
   ],
   "source": [
    "# jak budeme zaokrouhlovat?\n",
    "length(na.omit(krouzky$hodnoty.bez)) # sd zaokrouhlujeme na 3 platné cifry\n",
    "sd(krouzky$hodnoty.bez, na.rm = TRUE) # sd a míry polohy zaokr. na tisíciny\n"
   ]
  },
  {
   "cell_type": "markdown",
   "metadata": {},
   "source": [
    "## Příklad 5.\n",
    "Firma TT udává, že 1% jejich rezistorů nesplňuje požadovaná kritéria. V testované dodávce 1000 ks bylo nalezeno 15 nevyhovujících rezistorů. Potvrzuje tento výsledek tvrzení TT? Ověřte čistým testem významnosti."
   ]
  },
  {
   "cell_type": "code",
   "execution_count": 86,
   "metadata": {
    "vscode": {
     "languageId": "r"
    }
   },
   "outputs": [
    {
     "data": {
      "text/html": [
       "0.015"
      ],
      "text/latex": [
       "0.015"
      ],
      "text/markdown": [
       "0.015"
      ],
      "text/plain": [
       "[1] 0.015"
      ]
     },
     "metadata": {},
     "output_type": "display_data"
    }
   ],
   "source": [
    "n <- 1000 # rozsah výběru\n",
    "x <- 15 # počet \"úspěchů\"\n",
    "p <- x / n # relativní četnost (bodový odhad pravděpodobnosti)\n",
    "p\n"
   ]
  },
  {
   "cell_type": "code",
   "execution_count": 87,
   "metadata": {
    "vscode": {
     "languageId": "r"
    }
   },
   "outputs": [
    {
     "data": {
      "text/html": [
       "609.137055837563"
      ],
      "text/latex": [
       "609.137055837563"
      ],
      "text/markdown": [
       "609.137055837563"
      ],
      "text/plain": [
       "[1] 609.1371"
      ]
     },
     "metadata": {},
     "output_type": "display_data"
    }
   ],
   "source": [
    "# Ověření předpokladů\n",
    "9 / (p * (1 - p))\n",
    "# Dále předpokládáme  n/N < 0.05, tj. že daná populace (rezistorů) má rozsah\n",
    "# alespoň 1000/0.05 = 1000*20 = 20 000 rezistorů\n"
   ]
  },
  {
   "cell_type": "code",
   "execution_count": 88,
   "metadata": {
    "vscode": {
     "languageId": "r"
    }
   },
   "outputs": [
    {
     "data": {
      "text/plain": [
       "\n",
       "\tExact binomial test\n",
       "\n",
       "data:  x and n\n",
       "number of successes = 15, number of trials = 1000, p-value = 0.1111\n",
       "alternative hypothesis: true probability of success is not equal to 0.01\n",
       "95 percent confidence interval:\n",
       " 0.00841905 0.02461970\n",
       "sample estimates:\n",
       "probability of success \n",
       "                 0.015 \n"
      ]
     },
     "metadata": {},
     "output_type": "display_data"
    }
   ],
   "source": [
    "## Clopperův - Pearsonův (exaktní) test\n",
    "## H0: pi = 0.01\n",
    "## Ha: pi != 0.01\n",
    "\n",
    "binom.test(x = x, n = n, p = 0.01, alternative = \"two.sided\")\n"
   ]
  }
 ],
 "metadata": {
  "kernelspec": {
   "display_name": "R",
   "language": "R",
   "name": "ir"
  },
  "language_info": {
   "codemirror_mode": "r",
   "file_extension": ".r",
   "mimetype": "text/x-r-source",
   "name": "R",
   "pygments_lexer": "r",
   "version": "4.4.2"
  }
 },
 "nbformat": 4,
 "nbformat_minor": 4
}
