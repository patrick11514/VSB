{
 "cells": [
  {
   "cell_type": "markdown",
   "id": "looking-extra",
   "metadata": {},
   "source": [
    " # Cvičení 12. Vícevýběrové testy - Extra pro zájemce\n",
    " ## Michal Béreš"
   ]
  },
  {
   "cell_type": "markdown",
   "id": "speaking-burning",
   "metadata": {},
   "source": [
    "## Načteme si testovací data a vyrobíme post-hoc + efekty pro ANOVU a KW test"
   ]
  },
  {
   "cell_type": "code",
   "execution_count": null,
   "id": "saving-technology",
   "metadata": {
    "vscode": {
     "languageId": "r"
    }
   },
   "outputs": [],
   "source": [
    "data <- readxl::read_excel(\"data/snehurka.xlsx\")\n",
    "# data jsou ve standardním dtovém formátu\n"
   ]
  },
  {
   "cell_type": "code",
   "execution_count": null,
   "id": "entertaining-midwest",
   "metadata": {
    "vscode": {
     "languageId": "r"
    }
   },
   "outputs": [],
   "source": [
    "# POST-HOC ANOVA\n",
    "vysledky <- aov(data$hodnota ~ data$typ)\n",
    "PH.ANOVA <- TukeyHSD(vysledky)[[1]]\n",
    "PH.ANOVA\n"
   ]
  },
  {
   "cell_type": "code",
   "execution_count": null,
   "id": "figured-silver",
   "metadata": {
    "vscode": {
     "languageId": "r"
    }
   },
   "outputs": [],
   "source": [
    "# počítání efektů ANOVA\n",
    "library(dplyr)\n",
    "\n",
    "# celkový průměr\n",
    "prumer_vsech <- mean(data$hodnota)\n",
    "\n",
    "# průměry ve skupinách\n",
    "efekty <- data %>%\n",
    "    group_by(typ) %>%\n",
    "    summarize(mean_skup = mean(hodnota))\n",
    "\n",
    "# efekty\n",
    "efekty$efekt <- efekty$mean_skup - prumer_vsech\n",
    "\n",
    "# vypsat setřízené\n",
    "efekty.ANOVA <- efekty %>% arrange(desc(efekt))\n",
    "efekty.ANOVA\n"
   ]
  },
  {
   "cell_type": "code",
   "execution_count": null,
   "id": "cathedral-hello",
   "metadata": {
    "vscode": {
     "languageId": "r"
    }
   },
   "outputs": [],
   "source": [
    "# POST-HOC KW\n",
    "# post hoc - jiná funkce s výstupem, který se nám více hodí\n",
    "# číselně odpovídá té použité na cvičení\n",
    "\n",
    "# install.packages(\"FSA\")\n",
    "result <- FSA::dunnTest(data$hodnota ~ data$typ, # library FSA\n",
    "    method = \"bonferroni\"\n",
    ")\n",
    "PH.KW <- result$res\n",
    "PH.KW\n"
   ]
  },
  {
   "cell_type": "code",
   "execution_count": null,
   "id": "statutory-costa",
   "metadata": {
    "vscode": {
     "languageId": "r"
    }
   },
   "outputs": [],
   "source": [
    "# počítání efektů KW\n",
    "library(dplyr)\n",
    "\n",
    "# celkový průměr\n",
    "prumer_vsech <- median(data$hodnota)\n",
    "\n",
    "# průměry ve skupinách\n",
    "efekty <- data %>%\n",
    "    group_by(typ) %>%\n",
    "    summarize(mean_skup = median(hodnota))\n",
    "\n",
    "# efekty\n",
    "efekty$efekt <- efekty$mean_skup - prumer_vsech\n",
    "\n",
    "# vypsat setřízené\n",
    "efekty.KW <- efekty %>% arrange(desc(efekt))\n",
    "efekty.KW\n"
   ]
  },
  {
   "cell_type": "markdown",
   "id": "polyphonic-sight",
   "metadata": {},
   "source": [
    "# Pro zájemce (nepovinné) - vytvoření setřízené tabulky p-hodnot/pisménkové schéma automatizovaně"
   ]
  },
  {
   "cell_type": "code",
   "execution_count": null,
   "id": "knowing-system",
   "metadata": {
    "vscode": {
     "languageId": "r"
    }
   },
   "outputs": [],
   "source": [
    "# install.packages(\"stringi\")\n",
    "# toto je knihovna pro hledání v textu\n",
    "# budeme hledat jména šmoulů v párových post-hoc testech\n",
    "\n",
    "# inicializujeme si matici (pro pěkný výsledek jako textovou)\n",
    "# 7x7 protože máme 7 šmoulů\n",
    "POST.HOC.Phodnoty <- matrix(rep(\"-\", len = 7 * 7), nrow = 7, ncol = 7)\n",
    "# pojmenujeme její sloupce i řádky dle setřízených šmoulů\n",
    "colnames(POST.HOC.Phodnoty) <- efekty.ANOVA$typ\n",
    "rownames(POST.HOC.Phodnoty) <- efekty.ANOVA$typ\n",
    "POST.HOC.Phodnoty\n"
   ]
  },
  {
   "cell_type": "code",
   "execution_count": null,
   "id": "driving-armenia",
   "metadata": {
    "vscode": {
     "languageId": "r"
    }
   },
   "outputs": [],
   "source": [
    "# smyčka přes všechny testy v post-hoc (řes názvy sloupců)\n",
    "for (pair.test in rownames(PH.ANOVA)) {\n",
    "    # kteří trpaslíci jsou přítomni v tomto párovém testu?\n",
    "    trp.truefalse <- stringi::stri_detect_fixed(pair.test, efekty.ANOVA$typ)\n",
    "    # jaké jsou indexy těchto trpaslíků\n",
    "    # indexy pro zápis do matice - vždy 2 hodnoty\n",
    "    indexy.trp <- which(trp.truefalse)\n",
    "    # zapíšu do matice (první index je menší -> automaticky do\n",
    "    # horního trojuhelníku)\n",
    "    POST.HOC.Phodnoty[indexy.trp[1], indexy.trp[2]] <-\n",
    "        round(max(PH.ANOVA[pair.test, \"p adj\"], 0.001), digits = 3)\n",
    "    # zapisujeme text (pokud je matice textová, čísla se automaticky\n",
    "    # převedou na text), hodnoty na tisíciny\n",
    "}\n",
    "POST.HOC.Phodnoty\n"
   ]
  },
  {
   "cell_type": "markdown",
   "id": "initial-chosen",
   "metadata": {},
   "source": [
    "### Funkce pro aoutomatizované znaménkové schéma (ručně napsané a z balíčku)\n",
    "#### Ručně napsané funkce (to co bychom dělali na papír)"
   ]
  },
  {
   "cell_type": "code",
   "execution_count": null,
   "id": "tribal-dairy",
   "metadata": {
    "vscode": {
     "languageId": "r"
    }
   },
   "outputs": [],
   "source": [
    "# tabulka p-hodnot\n",
    "\n",
    "tabulka.phodnot <- function(setrizene.typy, parove.testy.nazvy,\n",
    "                            parove.testy.phodnoty) {\n",
    "    # pocet skupin\n",
    "    n <- length(setrizene.typy)\n",
    "    POST.HOC.Phodnoty <- matrix(rep(0, len = n * n), nrow = n, ncol = n)\n",
    "    # pojmenujeme její sloupce i řádky dle setřízených typů\n",
    "    colnames(POST.HOC.Phodnoty) <- setrizene.typy\n",
    "    rownames(POST.HOC.Phodnoty) <- setrizene.typy\n",
    "\n",
    "    # smyčka přes všechny testy v post-hoc (řes názvy sloupců)\n",
    "    for (i in seq_along(parove.testy.nazvy)) {\n",
    "        pair.test <- parove.testy.nazvy[i]\n",
    "        # kteří trpaslíci jsou přítomni v tomto párovém testu?\n",
    "        typ.truefalse <- stringi::stri_detect_fixed(pair.test, setrizene.typy)\n",
    "        # jaké jsou indexy těchto trpaslíků\n",
    "        # indexy pro zápis do matice - vždy 2 hodnoty\n",
    "        indexy.typ <- which(typ.truefalse)\n",
    "        # zapíšu do matice (první index je menší -> automaticky do\n",
    "        # horního trojuhelníku)\n",
    "        POST.HOC.Phodnoty[indexy.typ[1], indexy.typ[2]] <-\n",
    "            parove.testy.phodnoty[i]\n",
    "    }\n",
    "    return(POST.HOC.Phodnoty)\n",
    "}\n"
   ]
  },
  {
   "cell_type": "code",
   "execution_count": null,
   "id": "cellular-density",
   "metadata": {
    "vscode": {
     "languageId": "r"
    }
   },
   "outputs": [],
   "source": [
    "# písmenkové schéma z tabulky\n",
    "\n",
    "pismenkove.schema <- function(POST.HOC.Phodnoty, alpha) {\n",
    "    # jak je velká matice\n",
    "    n <- nrow(POST.HOC.Phodnoty)\n",
    "    # inicilizace matice\n",
    "    pis.schema <- matrix(rep(0, len = n * n), nrow = n, ncol = n)\n",
    "    # názvy řádků - kopie od vstupu\n",
    "    rownames(pis.schema) <- rownames(POST.HOC.Phodnoty)\n",
    "    # nastavení diagonály na 1 - je v dané skupině\n",
    "    diag(pis.schema) <- 1\n",
    "\n",
    "    # cyklus přes všechny sloupce kde můžeme něco vyplňovat\n",
    "    for (i in 1:(n - 1)) {\n",
    "        # cyklus přes všechny řádky v sloupci kde sledujeme pval\n",
    "        for (j in (i + 1):n) {\n",
    "            # je-li pval > alpha tak přidáme do hom. skupiny\n",
    "            pis.schema[j, i] <- POST.HOC.Phodnoty[i, j] > alpha\n",
    "        }\n",
    "    }\n",
    "    return(pis.schema)\n",
    "}\n"
   ]
  },
  {
   "cell_type": "markdown",
   "id": "capital-cliff",
   "metadata": {},
   "source": [
    "#### Jak použít ručně napsané funkce pro ANOVU a KW test?"
   ]
  },
  {
   "cell_type": "code",
   "execution_count": null,
   "id": "spread-repository",
   "metadata": {
    "vscode": {
     "languageId": "r"
    }
   },
   "outputs": [],
   "source": [
    "# Jak to udělat z POST-HOC ANOVY:\n",
    "\n",
    "# vyrobíme vstupní data\n",
    "setrizene.typy <- efekty.ANOVA$typ\n",
    "parove.testy.nazvy <- rownames(PH.ANOVA)\n",
    "parove.testy.phodnoty <- PH.ANOVA[, \"p adj\"]\n",
    "\n",
    "# vyrobíme setřízenou tabulku phodnot\n",
    "p.val.tab <- tabulka.phodnot(\n",
    "    setrizene.typy, parove.testy.nazvy,\n",
    "    parove.testy.phodnoty\n",
    ")\n",
    "# vykreslíme zaokrouhlené na tisíciny\n",
    "round(p.val.tab, digits = 3)\n",
    "\n",
    "# z tabulky phodnot vyrobíme písmenkové schéma\n",
    "pis.schema <- pismenkove.schema(p.val.tab, 0.05)\n",
    "pis.schema\n"
   ]
  },
  {
   "cell_type": "code",
   "execution_count": null,
   "id": "proud-valuable",
   "metadata": {
    "vscode": {
     "languageId": "r"
    }
   },
   "outputs": [],
   "source": [
    "# Jak to udělat z POST-HOC KW:\n",
    "\n",
    "# vyrobíme vstupní data\n",
    "setrizene.typy <- efekty.KW$typ\n",
    "parove.testy.nazvy <- PH.KW$Comparison\n",
    "parove.testy.phodnoty <- PH.KW$P.adj\n",
    "\n",
    "# vyrobíme setřízenou tabulku phodnot\n",
    "p.val.tab <- tabulka.phodnot(\n",
    "    setrizene.typy, parove.testy.nazvy,\n",
    "    parove.testy.phodnoty\n",
    ")\n",
    "# vykreslíme zaokrouhlené na tisíciny\n",
    "round(p.val.tab, digits = 3)\n",
    "\n",
    "# z tabulky phodnot vyrobíme písmenkové schéma\n",
    "pis.schema <- pismenkove.schema(p.val.tab, 0.05)\n",
    "pis.schema\n"
   ]
  },
  {
   "cell_type": "markdown",
   "id": "tight-associate",
   "metadata": {},
   "source": [
    "## Písmenkové schéma pomocí vestavěné Rkové funkce\n",
    "Balíček rcompanion, funkce cldList"
   ]
  },
  {
   "cell_type": "code",
   "execution_count": null,
   "id": "false-tucson",
   "metadata": {
    "vscode": {
     "languageId": "r"
    }
   },
   "outputs": [],
   "source": [
    "# v případě ANOVY\n",
    "\n",
    "# nejprve vyrobíme dataframe se sloupci dvojic a phodnot\n",
    "input <- data.frame(\n",
    "        dvojice = rownames(PH.ANOVA),\n",
    "        pval = PH.ANOVA[, \"p adj\"]\n",
    ")\n",
    "\n",
    "# písmenkové schéma, library rcompanion\n",
    "# install.packages(\"rcompanion\")\n",
    "rcompanion::cldList(pval ~ dvojice,\n",
    "        data = input,\n",
    "        threshold = 0.05\n",
    ")\n"
   ]
  },
  {
   "cell_type": "code",
   "execution_count": null,
   "id": "functioning-idaho",
   "metadata": {
    "vscode": {
     "languageId": "r"
    }
   },
   "outputs": [],
   "source": [
    "# v případě KW\n",
    "\n",
    "# nejprve vyrobíme dataframe se sloupci dvojic a phodnot\n",
    "input <- data.frame(\n",
    "        dvojice = PH.KW$Comparison,\n",
    "        pval = PH.KW$P.adj\n",
    ")\n",
    "\n",
    "# písmenkové schéma, library rcompanion\n",
    "# install.packages(\"rcompanion\")\n",
    "rcompanion::cldList(pval ~ dvojice,\n",
    "        data = input,\n",
    "        threshold = 0.05\n",
    ")\n"
   ]
  }
 ],
 "metadata": {
  "kernelspec": {
   "display_name": "R",
   "language": "R",
   "name": "ir"
  },
  "language_info": {
   "codemirror_mode": "r",
   "file_extension": ".r",
   "mimetype": "text/x-r-source",
   "name": "R",
   "pygments_lexer": "r",
   "version": "4.3.1"
  }
 },
 "nbformat": 4,
 "nbformat_minor": 5
}
