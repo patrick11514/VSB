{
 "cells": [
  {
   "cell_type": "markdown",
   "id": "transsexual-rogers",
   "metadata": {},
   "source": [
    " # Cvičení 11. Vícevýběrové testy\n",
    " ## Michal Béreš, Martina Litschmannová, Adéla Vrtková"
   ]
  },
  {
   "cell_type": "markdown",
   "id": "weekly-given",
   "metadata": {},
   "source": [
    "## Testovací data pro ukázku volání funkcí"
   ]
  },
  {
   "cell_type": "code",
   "execution_count": null,
   "id": "painful-price",
   "metadata": {
    "vscode": {
     "languageId": "r"
    }
   },
   "outputs": [],
   "source": [
    "# vyrobím data framy o jednom sloupci z náh. dat\n",
    "a <- as.data.frame(rnorm(n = 35, mean = 107, sd = 10))\n",
    "b <- as.data.frame(rnorm(n = 30, mean = 105, sd = 10))\n",
    "c <- as.data.frame(rnorm(n = 40, mean = 102, sd = 10))\n",
    "d <- as.data.frame(rnorm(n = 32, mean = 101, sd = 10))\n",
    "\n",
    "# přejmenuju název sloupce\n",
    "colnames(a) <- c(\"hodnota\")\n",
    "colnames(b) <- c(\"hodnota\")\n",
    "colnames(c) <- c(\"hodnota\")\n",
    "colnames(d) <- c(\"hodnota\")\n",
    "\n",
    "# doplním typ pro všechny data framy\n",
    "a$typ <- \"a\"\n",
    "b$typ <- \"b\"\n",
    "c$typ <- \"c\"\n",
    "d$typ <- \"d\"\n",
    "\n",
    "# slepím po řádcích dohromady\n",
    "data <- rbind(a, b, c, d)\n",
    "# převedu typ na typ factor\n",
    "data$typ <- as.factor(data$typ)\n",
    "\n",
    "head(data)\n"
   ]
  },
  {
   "cell_type": "code",
   "execution_count": null,
   "id": "velvet-abortion",
   "metadata": {
    "vscode": {
     "languageId": "r"
    }
   },
   "outputs": [],
   "source": [
    "boxplot(data$hodnota ~ data$typ)\n",
    "# pokud jsou k dispozici nějaká OP, budu je igrorovat\n",
    "# (vím, že data jsou z normálního rozdělení!)\n",
    "# (vím i že mají stejný rozptyl)\n"
   ]
  },
  {
   "cell_type": "markdown",
   "id": "passing-commercial",
   "metadata": {},
   "source": [
    "# Přehled funkcí \n",
    "## Míry variability\n",
    "### Bartlettův test\n",
    "- ověřuje shodu rozptylů\n",
    "    - $H_0: \\sigma^2_1 = \\sigma^2_2 = \\sigma^2_3 = \\ldots$\n",
    "    - $H_A: \\neg H_0$\n",
    "- předpokladem je normalita dat (a samozřejmě nezávislost a spojitost)"
   ]
  },
  {
   "cell_type": "code",
   "execution_count": null,
   "id": "golden-accordance",
   "metadata": {
    "vscode": {
     "languageId": "r"
    }
   },
   "outputs": [],
   "source": [
    "bartlett.test(data$hodnota ~ data$typ)\n"
   ]
  },
  {
   "cell_type": "markdown",
   "id": "accredited-picking",
   "metadata": {},
   "source": [
    "### Leveneův test\n",
    "- ověřuje shodu rozptylů\n",
    "    - $H_0: \\sigma^2_1 = \\sigma^2_2 = \\sigma^2_3 = \\ldots$\n",
    "    - $H_A: \\neg H_0$\n",
    "- předpokladem je pouze nezávislost a spojitost"
   ]
  },
  {
   "cell_type": "code",
   "execution_count": null,
   "id": "incoming-bacteria",
   "metadata": {
    "vscode": {
     "languageId": "r"
    }
   },
   "outputs": [],
   "source": [
    "car::leveneTest(data$hodnota ~ data$typ)\n"
   ]
  },
  {
   "cell_type": "markdown",
   "id": "wound-scheduling",
   "metadata": {},
   "source": [
    "### Cochranův a Hartleyův test\n",
    "- také ověřují shodu rozptylů\n",
    "- požadují normalitu dat a tzv. vyvážené třízení\n",
    "    - vyvážené třízení znamená, že máme přibližně stejné množství dat v každé skupině\n",
    "- nebudeme je používat\n",
    "\n",
    "## Míry polohy\n",
    "### ANOVA (analýza rozptylu)\n",
    "- ověřuje shodu polohy (středních hodnot)\n",
    "    - $H_0: \\mu_1 = \\mu_2 = \\mu_3 = \\ldots$\n",
    "    - $H_A: \\neg H_0$\n",
    "- předpoklady:\n",
    "    - normalita dat\n",
    "    - homoskedasticita (shodné rozptyly)\n",
    "    - (a samozřejmě nezávislost a spojitost)\n",
    "- pokud zamítáme $H_0$ je vyžadována Post-Hoc analýza\n",
    "    - pomocí TukeyHSD testu"
   ]
  },
  {
   "cell_type": "code",
   "execution_count": null,
   "id": "brief-humor",
   "metadata": {
    "vscode": {
     "languageId": "r"
    }
   },
   "outputs": [],
   "source": [
    "# Základní ANOVA\n",
    "# H0: mu1 = mu2 = mu3 = mu4\n",
    "# HA: ~H0 (negace H0)\n",
    "\n",
    "res <- aov(data$hodnota ~ data$typ)\n",
    "summary(res)\n"
   ]
  },
  {
   "cell_type": "code",
   "execution_count": null,
   "id": "verbal-marketplace",
   "metadata": {
    "vscode": {
     "languageId": "r"
    }
   },
   "outputs": [],
   "source": [
    "# Post-Hoc analýza\n",
    "\n",
    "TukeyHSD(res)\n"
   ]
  },
  {
   "cell_type": "code",
   "execution_count": null,
   "id": "special-brother",
   "metadata": {
    "vscode": {
     "languageId": "r"
    }
   },
   "outputs": [],
   "source": [
    "# počítání efektů\n",
    "library(dplyr)\n",
    "\n",
    "# celkový průměr\n",
    "prumer_vsech <- mean(data$hodnota)\n",
    "prumer_vsech\n",
    "\n",
    "# průměry ve skupinách\n",
    "efekty <- data %>%\n",
    "    group_by(typ) %>%\n",
    "    summarize(mean_skup = mean(hodnota))\n",
    "\n",
    "# efekty\n",
    "efekty$efekt <- efekty$mean_skup - prumer_vsech\n",
    "\n",
    "# vypsat setřízené\n",
    "efekty %>% arrange(desc(efekt))\n"
   ]
  },
  {
   "cell_type": "markdown",
   "id": "immune-trouble",
   "metadata": {},
   "source": [
    "### Kruskalův - Wallisův test\n",
    "- ověřuje shodu polohy (mediánů)\n",
    "    - $H_0: X_{0.5,1} = X_{0.5,2} = X_{0.5,3} = \\ldots$\n",
    "    - $H_A: \\neg H_0$\n",
    "- předpoklady:\n",
    "    - symetrie dat\n",
    "    - (a samozřejmě nezávislost a spojitost)\n",
    "- pokud zamítáme $H_0$ je vyžadována Post-Hoc analýza\n",
    "    - pomocí Dunnové testu/metody"
   ]
  },
  {
   "cell_type": "code",
   "execution_count": null,
   "id": "acting-shopping",
   "metadata": {
    "vscode": {
     "languageId": "r"
    }
   },
   "outputs": [],
   "source": [
    "# Základní KW test\n",
    "# H0: X0.5,1 = X0.5,2 = X0.5,3 = X0.5,4\n",
    "# HA: ~H0 (negace H0)\n",
    "\n",
    "kruskal.test(data$hodnota ~ data$typ)\n"
   ]
  },
  {
   "cell_type": "code",
   "execution_count": null,
   "id": "exotic-acrylic",
   "metadata": {
    "vscode": {
     "languageId": "r"
    }
   },
   "outputs": [],
   "source": [
    "# Post-Hoc analýza\n",
    "\n",
    "# altP = T nastavuje p-hodnotu tak,aby se při rozhodování\n",
    "# o statistické významnosti srovnávala s alfa\n",
    "# (defaultně: altp = FALSE, pak srovnáváme s alfa/2)\n",
    "\n",
    "# install.packages(\"dunn.test\")\n",
    "\n",
    "dunn.test::dunn.test(\n",
    "    x = data$hodnota, g = data$typ,\n",
    "    method = \"bonferroni\", altp = TRUE\n",
    ")\n"
   ]
  },
  {
   "cell_type": "code",
   "execution_count": null,
   "id": "trying-orbit",
   "metadata": {
    "vscode": {
     "languageId": "r"
    }
   },
   "outputs": [],
   "source": [
    "# počítání efektů\n",
    "\n",
    "# celkový median\n",
    "median_vsech <- median(data$hodnota)\n",
    "median_vsech\n",
    "\n",
    "# mediany ve skupinách\n",
    "efekty <- data %>%\n",
    "    group_by(typ) %>%\n",
    "    summarize(median_skup = median(hodnota))\n",
    "\n",
    "# efekty\n",
    "efekty$efekt <- efekty$median_skup - median_vsech\n",
    "\n",
    "# vypsat setřízené\n",
    "efekty %>% arrange(desc(efekt))\n"
   ]
  },
  {
   "attachments": {
    "4429db71-6c58-4bf9-b61f-fd9ec4015d20.png": {
     "image/png": "[encoded data removed]"
    }
   },
   "cell_type": "markdown",
   "id": "textile-trouble",
   "metadata": {},
   "source": [
    "# Příklady\n",
    "## Příklad 1.\n",
    "Testujeme nulovou hypotézu µ1 = µ2 = µ3. Bylo zjištěno, že data, která máme k dispozici jsou výběry z normálního rozdělení splňující předpoklad homoskedasticity (shody rozptylů). Na základě údajů získaných explorační analýzou doplňte tabulku ANOVA a vyplývající závěry.<br>\n",
    "![image.png](attachment:4429db71-6c58-4bf9-b61f-fd9ec4015d20.png)"
   ]
  },
  {
   "cell_type": "code",
   "execution_count": null,
   "id": "hydraulic-internet",
   "metadata": {
    "vscode": {
     "languageId": "r"
    }
   },
   "outputs": [],
   "source": [
    "n <- c(40, 40, 42) # rozsahy výběrů\n",
    "prum <- c(300, 290, 310) # průměry v jednotlivých skupinách / třídách\n",
    "s <- c(33, 34, 31) # směr. odchylky v jednotlivých skup. / třídách\n"
   ]
  },
  {
   "cell_type": "code",
   "execution_count": null,
   "id": "bacterial-black",
   "metadata": {
    "vscode": {
     "languageId": "r"
    }
   },
   "outputs": [],
   "source": [
    "n.total <- sum(n) # celkový rozsah výběrů\n",
    "k <- 3 # počet tříd\n",
    "df.b <- k - 1 # počet stupňů volnosti - meziskupinový\n",
    "df.e <- n.total - k # počet stupňů volnosti - reziduální\n"
   ]
  },
  {
   "cell_type": "code",
   "execution_count": null,
   "id": "advisory-commander",
   "metadata": {
    "vscode": {
     "languageId": "r"
    }
   },
   "outputs": [],
   "source": [
    "# celkový průměr (pomocí váženého průměru)\n",
    "prum.total <- weighted.mean(x = prum, w = n)\n",
    "prum.total\n"
   ]
  },
  {
   "cell_type": "code",
   "execution_count": null,
   "id": "stainless-alert",
   "metadata": {
    "vscode": {
     "languageId": "r"
    }
   },
   "outputs": [],
   "source": [
    "# meziskupinový součet čtverců\n",
    "ss.b <- sum(n * (prum - prum.total)^2)\n",
    "ss.b\n"
   ]
  },
  {
   "cell_type": "code",
   "execution_count": null,
   "id": "equivalent-belize",
   "metadata": {
    "vscode": {
     "languageId": "r"
    }
   },
   "outputs": [],
   "source": [
    "# reziduální součet čtverců\n",
    "ss.e <- sum((n - 1) * s^2)\n",
    "ss.e\n"
   ]
  },
  {
   "cell_type": "code",
   "execution_count": null,
   "id": "mobile-scientist",
   "metadata": {
    "vscode": {
     "languageId": "r"
    }
   },
   "outputs": [],
   "source": [
    "# celkový součet čtverců\n",
    "ss.b + ss.e\n"
   ]
  },
  {
   "cell_type": "code",
   "execution_count": null,
   "id": "acquired-smith",
   "metadata": {
    "vscode": {
     "languageId": "r"
    }
   },
   "outputs": [],
   "source": [
    "# rozptyl mezi skupinami / třídami\n",
    "ms.b <- ss.b / df.b\n",
    "ms.b\n"
   ]
  },
  {
   "cell_type": "code",
   "execution_count": null,
   "id": "interesting-nylon",
   "metadata": {
    "vscode": {
     "languageId": "r"
    }
   },
   "outputs": [],
   "source": [
    "# rozptyl uvnitř skupin / tříd\n",
    "ms.e <- ss.e / df.e\n",
    "ms.e\n"
   ]
  },
  {
   "cell_type": "code",
   "execution_count": null,
   "id": "gothic-signature",
   "metadata": {
    "vscode": {
     "languageId": "r"
    }
   },
   "outputs": [],
   "source": [
    "# F-poměr\n",
    "F_ratio <- ms.b / ms.e\n",
    "F_ratio\n"
   ]
  },
  {
   "cell_type": "code",
   "execution_count": null,
   "id": "olive-dimension",
   "metadata": {
    "vscode": {
     "languageId": "r"
    }
   },
   "outputs": [],
   "source": [
    "# p-hodnota\n",
    "p <- 1 - pf(F_ratio, df.b, df.e)\n",
    "p\n",
    "\n",
    "# Na hladině významnosti 0,05 zamítáme hypotézu o shodě středních hodnot\n",
    "# tj. střední hodnoty alespoň jedné dvojice skupin se stat. významně liší.\n"
   ]
  },
  {
   "cell_type": "code",
   "execution_count": null,
   "id": "bored-example",
   "metadata": {
    "vscode": {
     "languageId": "r"
    }
   },
   "outputs": [],
   "source": [
    "# odhady skupinových efektů\n",
    "efekt <- prum - prum.total\n",
    "efekt\n",
    "\n",
    "# Oproti celkovému průměru vykazuje nejvíce podprůměrné výsledky skupina 2\n",
    "# (o cca 10 jednotek nižší než celkový průměr). Naopak průměr skupiny 3 je\n",
    "# o cca 10 jednotek vyšší než celkový průměr. Průměrné výsledky skupiny 1\n",
    "# odpovídají celkovému průměru.\n"
   ]
  },
  {
   "cell_type": "markdown",
   "id": "experimental-montana",
   "metadata": {},
   "source": [
    "## Příklad 2.\n",
    "122 pacientů, kteří podstoupili operaci srdce, bylo náhodně rozděleno do tří skupin.<br>\n",
    "**Skupina 1:** Pacienti dostali 50 % oxidu dusného a 50 % kyslíkové směsi nepřetržitě po dobu 24 hodin.<br>\n",
    "**Skupina 2:** Pacienti dostali 50 % oxidu dusného a 50 % kyslíkové směsi pouze během operace.<br>\n",
    "**Skupina 3:** Pacienti nedostali žádný oxid dusný, ale dostali 35-50 % kyslíku po dobu 24 hodin.<br>\n",
    "Data v souboru kyselina listova.xls odpovídají koncentracím soli kyseliny listové v červených krvinkách ve všech třech skupinách po uplynutí 24 hodin ventilace. Ověřte, zda pozorované rozdíly mezi koncentracemi soli kyseliny listové jsou statisticky významné, tj. zda existuje vliv složení směsi na sledovaný parametr."
   ]
  },
  {
   "cell_type": "code",
   "execution_count": null,
   "id": "special-helen",
   "metadata": {
    "scrolled": true,
    "vscode": {
     "languageId": "r"
    }
   },
   "outputs": [],
   "source": [
    "kysel <- readxl::read_excel(\"data/testy_vicevyberove.xlsx\", sheet = 1)\n",
    "colnames(kysel) <- c(\"sk1\", \"sk2\", \"sk3\") # přejmenování sloupců\n",
    "kysel\n"
   ]
  },
  {
   "cell_type": "code",
   "execution_count": null,
   "id": "pleased-november",
   "metadata": {
    "scrolled": true,
    "vscode": {
     "languageId": "r"
    }
   },
   "outputs": [],
   "source": [
    "# převod do standardního datového formátu\n",
    "kysel.s <- stack(kysel)\n",
    "colnames(kysel.s) <- c(\"hodnoty\", \"skupina\")\n",
    "kysel.s <- na.omit(kysel.s)\n",
    "head(kysel.s)\n"
   ]
  },
  {
   "cell_type": "code",
   "execution_count": null,
   "id": "million-temperature",
   "metadata": {
    "vscode": {
     "languageId": "r"
    }
   },
   "outputs": [],
   "source": [
    "boxplot(kysel.s$hodnoty ~ kysel.s$skupina)\n",
    "# Data neobsahují odlehlá pozorování.\n"
   ]
  },
  {
   "cell_type": "code",
   "execution_count": null,
   "id": "forward-trauma",
   "metadata": {
    "vscode": {
     "languageId": "r"
    }
   },
   "outputs": [],
   "source": [
    "# otestujeme normalitu pomocí S.-W. testu\n",
    "library(dplyr)\n",
    "\n",
    "kysel.s %>%\n",
    "    group_by(skupina) %>%\n",
    "    summarise(norm.pval = shapiro.test(hodnoty)$p.value)\n"
   ]
  },
  {
   "cell_type": "code",
   "execution_count": null,
   "id": "fresh-wisdom",
   "metadata": {
    "vscode": {
     "languageId": "r"
    }
   },
   "outputs": [],
   "source": [
    "# Informace potřebné pro nastavení zaokrouhlování\n",
    "\n",
    "kysel.s %>%\n",
    "    group_by(skupina) %>%\n",
    "    summarise(len = length(hodnoty), st.dev = sd(hodnoty))\n",
    "\n",
    "# sd zaokrouhlujeme na 3 platné cifry\n",
    "# sd a míry polohy zaokrouhlujeme na desetiny\n"
   ]
  },
  {
   "cell_type": "code",
   "execution_count": null,
   "id": "functional-browser",
   "metadata": {
    "vscode": {
     "languageId": "r"
    }
   },
   "outputs": [],
   "source": [
    "# Ověření shody rozptylů\n",
    "s2 <- kysel.s %>%\n",
    "        group_by(skupina) %>%\n",
    "        summarise(var = sd(hodnoty)^2)\n",
    "s2 # výběrové rozptyly\n",
    "\n",
    "max(s2$var) / min(s2$var)\n",
    "# Dle krabicového grafu a informace o poměru největšího a nejmenšího\n",
    "# rozptylů (<2) nepředpokládáme, že se rozptyly statisticky významně liší\n"
   ]
  },
  {
   "cell_type": "code",
   "execution_count": null,
   "id": "express-rabbit",
   "metadata": {
    "vscode": {
     "languageId": "r"
    }
   },
   "outputs": [],
   "source": [
    "# Předpoklad normality nebyl zamítnut -> Bartlettův test\n",
    "bartlett.test(kysel.s$hodnoty ~ kysel.s$skupina)\n",
    "\n",
    "# Na hladině významnosti 0,05 nelze zamítnout předpoklad o shodě rozptylů\n",
    "# (Bartlettův test, x_OBS = 0,878, df = 2, p-hodnota = 0,645).\n"
   ]
  },
  {
   "cell_type": "code",
   "execution_count": null,
   "id": "collect-navigator",
   "metadata": {
    "vscode": {
     "languageId": "r"
    }
   },
   "outputs": [],
   "source": [
    "# Chceme srovnávat stř. hodnoty nezávislých výběrů z normálních rozdělení\n",
    "# se stejnými rozptyly -> ANOVA\n",
    "# příkaz aov() vyžaduje data ve standardním datovém formátu\n",
    "\n",
    "vysledky <- aov(kysel.s$hodnoty ~ kysel.s$skupina)\n",
    "summary(vysledky)\n",
    "\n",
    "# Na hladině významnosti 0,05 zamítáme hypotézu o shodě středních hodnot\n",
    "# (ANOVA, p-hodnota<<0,001) -> mnohonásobné porovnávání\n"
   ]
  },
  {
   "cell_type": "code",
   "execution_count": null,
   "id": "consecutive-authority",
   "metadata": {
    "vscode": {
     "languageId": "r"
    }
   },
   "outputs": [],
   "source": [
    "# post-hoc analýza\n",
    "TukeyHSD(vysledky)\n"
   ]
  },
  {
   "cell_type": "code",
   "execution_count": null,
   "id": "abstract-quebec",
   "metadata": {
    "vscode": {
     "languageId": "r"
    }
   },
   "outputs": [],
   "source": [
    "# počítání efektů\n",
    "library(dplyr)\n",
    "\n",
    "# celkový průměr\n",
    "prumer_vsech <- mean(kysel.s$hodnoty)\n",
    "prumer_vsech\n",
    "\n",
    "# průměry ve skupinách\n",
    "efekty <- kysel.s %>%\n",
    "    group_by(skupina) %>%\n",
    "    summarize(mean_skup = mean(hodnoty))\n",
    "\n",
    "# efekty\n",
    "efekty$efekt <- efekty$mean_skup - prumer_vsech\n",
    "\n",
    "# vypsat setřízené\n",
    "efekty %>% arrange(desc(efekt))\n",
    "\n",
    "# Považujeme-li vysoký obsah kyseliny listové za pozitivní, pak statisticky\n",
    "# významně nejlepších výsledků dosáhli pacienti ze skupiny 1 (průměrný obsah\n",
    "# kys. listové o cca 27 jednotek vyšší než prům. obsah kys. listové v krvi\n",
    "# všech testovaných pacientů) a statisticky významně nejhorších výsledků\n",
    "# dosáhli pacienti ze skup. 2 (průměrný obsah kys. listové o cca 26 jednotek\n",
    "# nižší než průměrný obsah kys. listové v krvi všech testovaných pacientů).\n",
    "# Obsah kys. listové v krvi pacientů ze skupiny 3\n",
    "# odpovídá celkovému průměru. Všechny tři skupiny pacientů jsou navzájem dle\n",
    "# obsahu kys. listové v krvi statisticky významně odlišné.\n"
   ]
  },
  {
   "cell_type": "markdown",
   "id": "inner-marathon",
   "metadata": {},
   "source": [
    "## Příklad 3.\n",
    "Na farmě jsou chována tři plemena králíků. Byl proveden pokus kralici.xls, jehož cílem bylo zjistit, zda i když chováme a vykrmujeme všechny králíky po stejnou dobu a za stejných podmínek, existuje statisticky významný (průkazný) rozdíl mezi plemeny v hmotnostech králíků. Ověřte."
   ]
  },
  {
   "cell_type": "code",
   "execution_count": null,
   "id": "jewish-exhibit",
   "metadata": {
    "scrolled": true,
    "vscode": {
     "languageId": "r"
    }
   },
   "outputs": [],
   "source": [
    "kralici <- readxl::read_excel(\"data/testy_vicevyberove.xlsx\", sheet = 2)\n",
    "colnames(kralici) <- c(\"viden\", \"cesky\", \"kalif\") # přejmenování sloupců\n",
    "kralici\n"
   ]
  },
  {
   "cell_type": "code",
   "execution_count": null,
   "id": "fatal-sister",
   "metadata": {
    "vscode": {
     "languageId": "r"
    }
   },
   "outputs": [],
   "source": [
    "# převod do standardního datového formátu\n",
    "kralici.s <- stack(kralici)\n",
    "colnames(kralici.s) <- c(\"hodnoty\", \"skupina\")\n",
    "kralici.s <- na.omit(kralici.s)\n",
    "head(kralici.s)\n"
   ]
  },
  {
   "cell_type": "code",
   "execution_count": null,
   "id": "about-gnome",
   "metadata": {
    "vscode": {
     "languageId": "r"
    }
   },
   "outputs": [],
   "source": [
    "boxplot(kralici.s$hodnoty ~ kralici.s$skupina)\n",
    "# data obsahojí OP\n"
   ]
  },
  {
   "cell_type": "code",
   "execution_count": null,
   "id": "professional-egyptian",
   "metadata": {
    "vscode": {
     "languageId": "r"
    }
   },
   "outputs": [],
   "source": [
    "# Odstranění odlehlého pozorování\n",
    "pom <- boxplot(kralici.s$hodnoty ~ kralici.s$skupina, plot = FALSE)\n",
    "pom$out\n",
    "\n",
    "kralici.s$hodnoty.bez <- kralici.s$hodnoty\n",
    "kralici.s$hodnoty.bez[kralici.s$hodnoty.bez %in% pom$out] <- NA\n",
    "\n",
    "# Krabicový graf\n",
    "boxplot(kralici.s$hodnoty.bez ~ kralici.s$skupina)\n"
   ]
  },
  {
   "cell_type": "code",
   "execution_count": null,
   "id": "increased-daughter",
   "metadata": {
    "vscode": {
     "languageId": "r"
    }
   },
   "outputs": [],
   "source": [
    "library(dplyr)\n",
    "\n",
    "kralici.s %>%\n",
    "    group_by(skupina) %>%\n",
    "    summarise(norm.pval = shapiro.test(hodnoty.bez)$p.value)\n",
    "\n",
    "# Na hladině významnosti 0,05 nezamítáme předpoklad normality.\n"
   ]
  },
  {
   "cell_type": "code",
   "execution_count": null,
   "id": "norman-transmission",
   "metadata": {
    "vscode": {
     "languageId": "r"
    }
   },
   "outputs": [],
   "source": [
    "# Informace potřebné pro nastavení zaokrouhlování\n",
    "kralici.s %>%\n",
    "    group_by(skupina) %>%\n",
    "    summarize(\n",
    "        len = sum(!is.nan(hodnoty.bez)),\n",
    "        sd = sd(hodnoty.bez, na.rm = TRUE)\n",
    "    )\n",
    "\n",
    "# sd zaokrouhlujeme na 2 platné cifry\n",
    "# sd a míry polohy zaok. na setiny (sjednocení napříč druhy králíků)\n"
   ]
  },
  {
   "cell_type": "code",
   "execution_count": null,
   "id": "painful-cream",
   "metadata": {
    "vscode": {
     "languageId": "r"
    }
   },
   "outputs": [],
   "source": [
    "# Ověření shody rozptylů\n",
    "s2 <- kralici.s %>%\n",
    "        group_by(skupina) %>%\n",
    "        summarize(var = sd(hodnoty.bez, na.rm = TRUE)^2)\n",
    "s2\n",
    "\n",
    "max(s2$var) / min(s2$var)\n",
    "# Dle krabicového grafu a informace o poměru největšího a nejmenšího rozpt.\n",
    "# (blízký 2, avšak rozsah výběrů < 30) je těžší odhadnout, zda lze\n",
    "# předpokládat shodu rozptylů. Rozhodnout nám pomůže test.\n"
   ]
  },
  {
   "cell_type": "code",
   "execution_count": null,
   "id": "eastern-harvest",
   "metadata": {
    "vscode": {
     "languageId": "r"
    }
   },
   "outputs": [],
   "source": [
    "# Předpoklad normality nebyl zamítnut -> Bartlettův test\n",
    "bartlett.test(kralici.s$hodnoty.bez ~ kralici.s$skupina)\n",
    "\n",
    "# Na hladině významnosti 0,05 nelze zamítnout předpoklad o shodě rozptylů\n",
    "# (Bartlettův test, x_OBS = 3,1, df = 2, p-hodnota = 0,217).\n"
   ]
  },
  {
   "cell_type": "code",
   "execution_count": null,
   "id": "dried-parker",
   "metadata": {
    "vscode": {
     "languageId": "r"
    }
   },
   "outputs": [],
   "source": [
    "# Chceme srovnávat stř. hodnoty nezávislých výběrů z normálních\n",
    "# rozdělení se stejnými rozptyly -> ANOVA\n",
    "# příkaz aov() vyžaduje data ve standardním datovém formátu\n",
    "\n",
    "vysledky <- aov(kralici.s$hodnoty.bez ~ kralici.s$skupina)\n",
    "summary(vysledky)\n",
    "\n",
    "# Na hladině významnosti 0,05 zamítáme hypotézu o shodě středních hodnot\n",
    "# (p-hodnota<<0,001, ANOVA) -> mnohonásobné porovnávání\n"
   ]
  },
  {
   "cell_type": "code",
   "execution_count": null,
   "id": "valid-darkness",
   "metadata": {
    "vscode": {
     "languageId": "r"
    }
   },
   "outputs": [],
   "source": [
    "# post-hoc analýza\n",
    "TukeyHSD(vysledky)\n"
   ]
  },
  {
   "cell_type": "code",
   "execution_count": null,
   "id": "nutritional-hamilton",
   "metadata": {
    "vscode": {
     "languageId": "r"
    }
   },
   "outputs": [],
   "source": [
    "# počítání efektů\n",
    "library(dplyr)\n",
    "\n",
    "# celkový průměr\n",
    "prumer_vsech <- mean(kralici.s$hodnoty.bez, na.rm = TRUE)\n",
    "prumer_vsech\n",
    "\n",
    "# průměry ve skupinách\n",
    "efekty <- kralici.s %>%\n",
    "    group_by(skupina) %>%\n",
    "    summarize(mean_skup = mean(hodnoty.bez, na.rm = TRUE))\n",
    "\n",
    "# efekty\n",
    "efekty$efekt <- efekty$mean_skup - prumer_vsech\n",
    "\n",
    "# vypsat setřízené\n",
    "efekty %>% arrange(desc(efekt))\n"
   ]
  },
  {
   "cell_type": "markdown",
   "id": "tough-lemon",
   "metadata": {},
   "source": [
    "## Příklad 4.\n",
    "Soutěž o nejlepší jakost výrobků obeslali čtyři výrobci A, B, C, D celkem 66 výrobky. Porota sestavila pořadí (uvedeno pouze pořadí výrobku od nejlepšího k nejhoršímu), jež je uvedené v souboru jakost.xls. Na základě uvedených údajů posuďte, zda původ výrobků má vliv na jeho jakost."
   ]
  },
  {
   "cell_type": "code",
   "execution_count": null,
   "id": "continuous-water",
   "metadata": {
    "vscode": {
     "languageId": "r"
    }
   },
   "outputs": [],
   "source": [
    "jakost.s <- readxl::read_excel(\"data/testy_vicevyberove.xlsx\", sheet = 3)\n",
    "colnames(jakost.s) <- c(\"poradi\", \"skupina\") # přejmenování sloupců\n",
    "head(jakost.s)\n",
    "# data již jsou v standardním formátu\n"
   ]
  },
  {
   "cell_type": "code",
   "execution_count": null,
   "id": "compressed-somalia",
   "metadata": {
    "vscode": {
     "languageId": "r"
    }
   },
   "outputs": [],
   "source": [
    "boxplot(jakost.s$poradi ~ jakost.s$skupina)\n",
    "\n",
    "# Ověření normality nemá smysl provádět - z povahy jde o diskr. data-pořadí\n"
   ]
  },
  {
   "cell_type": "code",
   "execution_count": null,
   "id": "spoken-workplace",
   "metadata": {
    "vscode": {
     "languageId": "r"
    }
   },
   "outputs": [],
   "source": [
    "# Informace potřebné pro nastavení zaokrouhlování\n",
    "jakost.s %>%\n",
    "    group_by(skupina) %>%\n",
    "    summarize(\n",
    "        len = length(poradi),\n",
    "        sd = sd(poradi)\n",
    "    )\n",
    "\n",
    "# sd zaokrouhlujeme na 2 platné cifry\n",
    "# sd a míry polohy zaokrouhlujeme na celá čísla\n"
   ]
  },
  {
   "cell_type": "code",
   "execution_count": null,
   "id": "twelve-accreditation",
   "metadata": {
    "vscode": {
     "languageId": "r"
    }
   },
   "outputs": [],
   "source": [
    "# Ověření shody rozptylů\n",
    "s2 <- jakost.s %>%\n",
    "    group_by(skupina) %>%\n",
    "    summarize(var = sd(poradi)^2)\n",
    "s2\n",
    "\n",
    "max(s2$var) / min(s2$var)\n",
    "# Dle krabicového grafu a informace o poměru největšího a nejmenšího\n",
    "# rozptylů (<2) ze předpokládat shodu rozptylů.\n",
    "# (Kruskalův - Wallisův test má větší sílu testu, jsou-li data homosk.)\n"
   ]
  },
  {
   "cell_type": "code",
   "execution_count": null,
   "id": "moved-department",
   "metadata": {
    "vscode": {
     "languageId": "r"
    }
   },
   "outputs": [],
   "source": [
    "# Jde o \"pořadová\" data, nemá smysl uvažovat o předpokladu norm.\n",
    "# -> Leveneův test\n",
    "car::leveneTest(jakost.s$poradi ~ jakost.s$skupina)\n",
    "# Na hladině významnosti 0,05 nelze zamítnout předpoklad o shodě rozptylů\n",
    "# (Leveneho test, x_OBS = 0,4, df_num = 3, df_denom = 62, p-hodnota = 0,750)\n"
   ]
  },
  {
   "cell_type": "code",
   "execution_count": null,
   "id": "modular-forum",
   "metadata": {
    "vscode": {
     "languageId": "r"
    }
   },
   "outputs": [],
   "source": [
    "# Ověření symetrie\n",
    "\n",
    "jakost.s %>%\n",
    "    group_by(skupina) %>%\n",
    "    summarize(\n",
    "        sikmost = moments::skewness(poradi),\n",
    "        test.pval = lawstat::symmetry.test(poradi, boot = FALSE)$p.value\n",
    "    )\n"
   ]
  },
  {
   "cell_type": "code",
   "execution_count": null,
   "id": "pediatric-football",
   "metadata": {
    "vscode": {
     "languageId": "r"
    }
   },
   "outputs": [],
   "source": [
    "# Chceme srovnávat mediány nezávislých výběrů -> Kruskalův-Wallisův test\n",
    "kruskal.test(jakost.s$poradi ~ jakost.s$skupina)\n",
    "\n",
    "# Na hladině významnosti 0,05 nelze zamítnout hypotézu o shodě mediánů\n",
    "# (Kruskalův-Wallisův test, x_OBS = 3,7, df = 3, p-hodnota=0,295).\n",
    "# Tj. statisticky významné rozdíly mezi výrobci (z hlediska pořadí\n",
    "# výrobků v soutěži) neexistují.\n"
   ]
  },
  {
   "cell_type": "markdown",
   "id": "complex-bottle",
   "metadata": {},
   "source": [
    "## Příklad 5.\n",
    "Byl sledován vliv tří preparátů na srážlivost krve. Kromě jiných ukazatelů byl zjišťován tzv. trombinový čas. Údaje o 42 sledovaných osobách jsou zaznamenány v souboru trombin.xls. Závisí velikost trombinového času na tom, jaký byl použit preparát?"
   ]
  },
  {
   "cell_type": "code",
   "execution_count": null,
   "id": "defensive-fiction",
   "metadata": {
    "vscode": {
     "languageId": "r"
    }
   },
   "outputs": [],
   "source": [
    "trombin.s <- readxl::read_excel(\"data/testy_vicevyberove.xlsx\",\n",
    "    sheet = 4, skip = 1\n",
    ")\n",
    "colnames(trombin.s) <- c(\"hodnoty\", \"skupina\") # přejmenování sloupců\n",
    "\n",
    "head(trombin.s)\n",
    "# data jsou již ve standardním formátu\n"
   ]
  },
  {
   "cell_type": "code",
   "execution_count": null,
   "id": "referenced-relations",
   "metadata": {
    "vscode": {
     "languageId": "r"
    }
   },
   "outputs": [],
   "source": [
    "# explorační analýza - ověření OP\n",
    "boxplot(trombin.s$hodnoty ~ trombin.s$skupina)\n",
    "# neobsahuje OP\n"
   ]
  },
  {
   "cell_type": "code",
   "execution_count": null,
   "id": "digital-latitude",
   "metadata": {
    "vscode": {
     "languageId": "r"
    }
   },
   "outputs": [],
   "source": [
    "# ověření normality\n",
    "library(dplyr)\n",
    "\n",
    "trombin.s %>%\n",
    "    group_by(skupina) %>%\n",
    "    summarize(norm.pval = shapiro.test(hodnoty)$p.value)\n",
    "\n",
    "# Na hladině významnosti 0,05 zamítáme předpoklad normality (u Ačka)\n"
   ]
  },
  {
   "cell_type": "code",
   "execution_count": null,
   "id": "danish-child",
   "metadata": {
    "vscode": {
     "languageId": "r"
    }
   },
   "outputs": [],
   "source": [
    "# Informace potřebné pro nastavení zaokrouhlování\n",
    "\n",
    "trombin.s %>%\n",
    "    group_by(skupina) %>%\n",
    "    summarize(len = length(hodnoty), stdev = sd(hodnoty))\n",
    "\n",
    "# sd zaokrouhlujeme na 2 platné cifry\n",
    "# sd a míry polohy zaokrouhlujeme na setiny (sjednocení napříč skupinami)\n"
   ]
  },
  {
   "cell_type": "code",
   "execution_count": null,
   "id": "overall-column",
   "metadata": {
    "vscode": {
     "languageId": "r"
    }
   },
   "outputs": [],
   "source": [
    "# Ověření shody rozptylů (není nutné - stejně musíme použít KW)\n",
    "s2 <- trombin.s %>%\n",
    "        group_by(skupina) %>%\n",
    "        summarize(var = sd(hodnoty)^2)\n",
    "s2\n",
    "\n",
    "max(s2$var) / min(s2$var)\n",
    "# Dle krabicového grafu a informace o poměru největšího a nejmenšího\n",
    "# rozptylů (>>2) nelze předpokládat shodu rozptylů.\n"
   ]
  },
  {
   "cell_type": "code",
   "execution_count": null,
   "id": "useful-wells",
   "metadata": {
    "vscode": {
     "languageId": "r"
    }
   },
   "outputs": [],
   "source": [
    "# Předpoklad normality byl zamítnut -> Leveneho test\n",
    "\n",
    "# trombin.s$skupina = as.factor(trombin.s$skupina)\n",
    "\n",
    "car::leveneTest(trombin.s$hodnoty ~ trombin.s$skupina)\n",
    "\n",
    "# předpoklad homoskedasticity byl zamítnut\n"
   ]
  },
  {
   "cell_type": "code",
   "execution_count": null,
   "id": "caroline-citizen",
   "metadata": {
    "vscode": {
     "languageId": "r"
    }
   },
   "outputs": [],
   "source": [
    "# Ověření symetrie\n",
    "trombin.s %>%\n",
    "  group_by(skupina) %>%\n",
    "  summarize(\n",
    "    sikmost = moments::skewness(hodnoty),\n",
    "    test.pval = lawstat::symmetry.test(hodnoty, boot = FALSE)$p.value\n",
    "  )\n",
    "# nezamítáme přepoklad symetrie dat\n"
   ]
  },
  {
   "cell_type": "code",
   "execution_count": null,
   "id": "coordinated-velvet",
   "metadata": {
    "vscode": {
     "languageId": "r"
    }
   },
   "outputs": [],
   "source": [
    "# Chceme srovnávat mediány nez. výběrů, která nemají norm. rozdělení\n",
    "# -> Kruskalův - Wallisův test\n",
    "\n",
    "kruskal.test(trombin.s$hodnoty, trombin.s$skupina)\n",
    "# Na hladině významnosti 0,05 zamítáme hypotézu o shodě mediánů\n",
    "# Tj. trombinový čas je statisticky významně\n",
    "# ovlivněn preparátem. -> mnohonásobné porovnávání\n"
   ]
  },
  {
   "cell_type": "code",
   "execution_count": null,
   "id": "suited-trouble",
   "metadata": {
    "vscode": {
     "languageId": "r"
    }
   },
   "outputs": [],
   "source": [
    "# altP = T nastavuje p-hodnotu tak,aby se při rozhodování\n",
    "# o statistické významnosti srovnávala s alfa\n",
    "# (defaultně: altp = FALSE, pak srovnáváme s alfa/2)\n",
    "\n",
    "dunn.test::dunn.test(trombin.s$hodnoty, trombin.s$skupina,\n",
    "    method = \"bonferroni\", altp = TRUE\n",
    ")\n"
   ]
  },
  {
   "cell_type": "code",
   "execution_count": null,
   "id": "sustainable-executive",
   "metadata": {
    "vscode": {
     "languageId": "r"
    }
   },
   "outputs": [],
   "source": [
    "# počítání efektů\n",
    "library(dplyr)\n",
    "\n",
    "# celkový průměr\n",
    "median_vsech <- median(trombin.s$hodnoty)\n",
    "median_vsech\n",
    "\n",
    "# průměry ve skupinách\n",
    "efekty <- trombin.s %>%\n",
    "    group_by(skupina) %>%\n",
    "    summarize(median_skup = median(hodnoty))\n",
    "\n",
    "# efekty\n",
    "efekty$efekt <- efekty$median_skup - median_vsech\n",
    "\n",
    "# vypsat setřízené\n",
    "efekty %>% arrange(desc(efekt))\n"
   ]
  },
  {
   "cell_type": "markdown",
   "id": "extended-parks",
   "metadata": {},
   "source": [
    "## Příklad 6. (více skupin)\n",
    "Co se Sněhurka dostala k sedmi trpaslíkům vycítila příležitost nemalého výdělku. Trpaslíci Sněhurce v podstatě zobou z ruky a veškeré vydolované zlato jí ihned předávají. Sněhurce však ani toto úplně nestačí a má pocit, že by mohla z trpaslíků benefitovat více. Proto si začla zaznamenávat kolik kilogramů zlata denně od každého z trpaslíků obdrží (snehurka.xlsx). Ověřte, zda se trpaslíci liší v množství vytěženého zlata, pokud ano sestave homogenní skupiny z hlediska vytěženého zlata."
   ]
  },
  {
   "cell_type": "code",
   "execution_count": null,
   "id": "activated-cooking",
   "metadata": {
    "vscode": {
     "languageId": "r"
    }
   },
   "outputs": [],
   "source": [
    "zlato <- readxl::read_excel(\"data/snehurka.xlsx\")\n",
    "head(zlato)\n",
    "# data jsou ve standardním dtovém formátu\n"
   ]
  },
  {
   "cell_type": "code",
   "execution_count": null,
   "id": "czech-jaguar",
   "metadata": {
    "vscode": {
     "languageId": "r"
    }
   },
   "outputs": [],
   "source": [
    "boxplot(zlato$hodnota ~ zlato$typ)\n",
    "# data neobsahují OP\n"
   ]
  },
  {
   "cell_type": "code",
   "execution_count": null,
   "id": "international-douglas",
   "metadata": {
    "vscode": {
     "languageId": "r"
    }
   },
   "outputs": [],
   "source": [
    "# ověření normality\n",
    "library(dplyr)\n",
    "\n",
    "zlato %>%\n",
    "    group_by(typ) %>%\n",
    "    summarize(p.hodnota = shapiro.test(hodnota)$p.value)\n",
    "\n",
    "# Na hladině významnosti 0,05 ne zamítáme předpoklad normality\n"
   ]
  },
  {
   "cell_type": "code",
   "execution_count": null,
   "id": "chicken-lambda",
   "metadata": {
    "vscode": {
     "languageId": "r"
    }
   },
   "outputs": [],
   "source": [
    "# Předpoklad normality nebyl zamítnut -> Bartlettův test\n",
    "bartlett.test(zlato$hodnota ~ zlato$typ)\n",
    "\n",
    "# Na hladině významnosti 0,05 nelze zamítnout předpoklad o shodě rozptylů\n"
   ]
  },
  {
   "cell_type": "code",
   "execution_count": null,
   "id": "international-tokyo",
   "metadata": {
    "vscode": {
     "languageId": "r"
    }
   },
   "outputs": [],
   "source": [
    "# ANOVA\n",
    "vysledky <- aov(zlato$hodnota ~ zlato$typ)\n",
    "summary(vysledky)\n",
    "# Zamítáme předpoklad o shodě\n",
    "# -> existují stat. významné rozdíly ve středních hodnotách\n"
   ]
  },
  {
   "cell_type": "code",
   "execution_count": null,
   "id": "entitled-middle",
   "metadata": {
    "vscode": {
     "languageId": "r"
    }
   },
   "outputs": [],
   "source": [
    "# POST-HOC\n",
    "res <- TukeyHSD(vysledky)[[1]]\n",
    "res\n"
   ]
  },
  {
   "cell_type": "code",
   "execution_count": null,
   "id": "blank-challenge",
   "metadata": {
    "vscode": {
     "languageId": "r"
    }
   },
   "outputs": [],
   "source": [
    "# počítání efektů\n",
    "library(dplyr)\n",
    "\n",
    "# celkový průměr\n",
    "prumer_vsech <- mean(zlato$hodnota)\n",
    "prumer_vsech\n",
    "\n",
    "# průměry ve skupinách\n",
    "efekty <- zlato %>%\n",
    "    group_by(typ) %>%\n",
    "    summarize(mean_skup = mean(hodnota))\n",
    "\n",
    "# efekty\n",
    "efekty$efekt <- efekty$mean_skup - prumer_vsech\n",
    "\n",
    "# vypsat setřízené\n",
    "efekty.s <- efekty %>% arrange(desc(efekt))\n",
    "efekty.s\n"
   ]
  }
 ],
 "metadata": {
  "kernelspec": {
   "display_name": "R",
   "language": "R",
   "name": "ir"
  },
  "language_info": {
   "codemirror_mode": "r",
   "file_extension": ".r",
   "mimetype": "text/x-r-source",
   "name": "R",
   "pygments_lexer": "r",
   "version": "4.3.1"
  }
 },
 "nbformat": 4,
 "nbformat_minor": 5
}
