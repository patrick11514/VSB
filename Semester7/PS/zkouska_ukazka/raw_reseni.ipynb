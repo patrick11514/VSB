{
 "cells": [
  {
   "cell_type": "code",
   "execution_count": null,
   "id": "c44673c8-ba75-4d0f-90bb-f70033a921b5",
   "metadata": {
    "vscode": {
     "languageId": "r"
    }
   },
   "outputs": [],
   "source": [
    "(0.2 * 0.5) / (0.3 * 0.05 + 0.2 * 0.5 + 0.5 * 0.05)\n"
   ]
  },
  {
   "cell_type": "code",
   "execution_count": null,
   "id": "a63b2706-354f-4117-8e1a-6f2ebb507f30",
   "metadata": {
    "vscode": {
     "languageId": "r"
    }
   },
   "outputs": [],
   "source": [
    "x <- seq(0, 3, 0.1)\n",
    "y <- pexp(x, 3)\n",
    "plot(x, y)\n"
   ]
  },
  {
   "cell_type": "code",
   "execution_count": null,
   "id": "7153304b-fc0c-4f78-803e-285e24ddd395",
   "metadata": {
    "vscode": {
     "languageId": "r"
    }
   },
   "outputs": [],
   "source": [
    "1 - pexp(0.5, 3)\n"
   ]
  },
  {
   "cell_type": "code",
   "execution_count": null,
   "id": "2cb38114-4aef-4b45-a0e9-23bbe3b3e047",
   "metadata": {
    "vscode": {
     "languageId": "r"
    }
   },
   "outputs": [],
   "source": [
    "qexp(0.01, 3) * 3600\n"
   ]
  },
  {
   "cell_type": "code",
   "execution_count": null,
   "id": "0e802f28-421f-44ce-81d7-418f65910648",
   "metadata": {
    "vscode": {
     "languageId": "r"
    }
   },
   "outputs": [],
   "source": [
    "x <- c(0, 1, 2)\n",
    "p <- c(0.25, 0.5, 0.25)\n"
   ]
  },
  {
   "cell_type": "code",
   "execution_count": null,
   "id": "7b827d4e-1e06-4ddd-801c-3b2821868ec6",
   "metadata": {
    "vscode": {
     "languageId": "r"
    }
   },
   "outputs": [],
   "source": [
    "ex <- sum(x * p)\n",
    "ex\n"
   ]
  },
  {
   "cell_type": "code",
   "execution_count": null,
   "id": "e8a4eb4f-49e5-4cac-b54c-5cfc5e950cf7",
   "metadata": {
    "vscode": {
     "languageId": "r"
    }
   },
   "outputs": [],
   "source": [
    "exx <- sum(x * x * p)\n",
    "exx\n",
    "dx <- exx - ex * ex\n",
    "dx\n",
    "sqrt(dx)\n"
   ]
  },
  {
   "cell_type": "code",
   "execution_count": null,
   "id": "b19f82ca-14ce-4aa1-b289-90b1350f5d57",
   "metadata": {
    "vscode": {
     "languageId": "r"
    }
   },
   "outputs": [],
   "source": [
    "library(readxl)\n"
   ]
  },
  {
   "cell_type": "code",
   "execution_count": null,
   "id": "799e6150-3e43-48e9-8852-99e3f1fa3103",
   "metadata": {
    "vscode": {
     "languageId": "r"
    }
   },
   "outputs": [],
   "source": [
    "data <- read_xlsx(\"ZtracenePonozky.xlsx\")\n",
    "head(data)\n"
   ]
  },
  {
   "cell_type": "code",
   "execution_count": null,
   "id": "1a41cbb4-17e2-4b35-9776-9a1d047be146",
   "metadata": {
    "vscode": {
     "languageId": "r"
    }
   },
   "outputs": [],
   "source": [
    "boxplot(data$kotnikove)\n"
   ]
  },
  {
   "cell_type": "code",
   "execution_count": null,
   "id": "612803f6-15c5-4b7a-9c88-7b7cae842f15",
   "metadata": {
    "vscode": {
     "languageId": "r"
    }
   },
   "outputs": [],
   "source": [
    "pom <- boxplot(data$kotnikove)\n",
    "pom$out\n"
   ]
  },
  {
   "cell_type": "code",
   "execution_count": null,
   "id": "7c86af76-0625-44be-ab54-02b76c74753d",
   "metadata": {
    "vscode": {
     "languageId": "r"
    }
   },
   "outputs": [],
   "source": [
    "kot <- data$kotnikove\n",
    "kot[kot == 36] <- NA\n"
   ]
  },
  {
   "cell_type": "code",
   "execution_count": null,
   "id": "cfdbba8d-d759-40e4-a3af-bffd766327e4",
   "metadata": {
    "vscode": {
     "languageId": "r"
    }
   },
   "outputs": [],
   "source": [
    "boxplot(kot)\n"
   ]
  },
  {
   "cell_type": "code",
   "execution_count": null,
   "id": "50fd0021-1b51-4240-95d6-88f62d950737",
   "metadata": {
    "vscode": {
     "languageId": "r"
    }
   },
   "outputs": [],
   "source": [
    "shapiro.test(kot)\n"
   ]
  },
  {
   "cell_type": "code",
   "execution_count": null,
   "id": "0674f04e-0bdb-4922-b88a-92b0f5777203",
   "metadata": {
    "vscode": {
     "languageId": "r"
    }
   },
   "outputs": [],
   "source": [
    "t.test(kot)\n"
   ]
  },
  {
   "cell_type": "code",
   "execution_count": null,
   "id": "6e28b19c-94af-4475-a868-ecad17192ebf",
   "metadata": {
    "vscode": {
     "languageId": "r"
    }
   },
   "outputs": [],
   "source": [
    "sd(kot, na.rm = TRUE)\n"
   ]
  },
  {
   "cell_type": "code",
   "execution_count": null,
   "id": "7dcf9f4b-57de-497a-81c3-813120f4be75",
   "metadata": {
    "vscode": {
     "languageId": "r"
    }
   },
   "outputs": [],
   "source": [
    "t.test(kot, mu = 8, alternative = \"greater\")\n"
   ]
  },
  {
   "cell_type": "code",
   "execution_count": null,
   "id": "0b951c09-2ce0-44c8-9261-d811c0271237",
   "metadata": {
    "vscode": {
     "languageId": "r"
    }
   },
   "outputs": [],
   "source": [
    "t.test(kot, mu = 8, alternative = \"two.sided\")\n"
   ]
  },
  {
   "cell_type": "code",
   "execution_count": null,
   "id": "bbbf6a07-14f1-4ddc-835d-a67a9c71574a",
   "metadata": {
    "vscode": {
     "languageId": "r"
    }
   },
   "outputs": [],
   "source": [
    "sden <- kot >= 10\n"
   ]
  },
  {
   "cell_type": "code",
   "execution_count": null,
   "id": "0858a999-dc91-41d3-8ab2-6f3d7ad93d16",
   "metadata": {
    "vscode": {
     "languageId": "r"
    }
   },
   "outputs": [],
   "source": [
    "sden\n"
   ]
  },
  {
   "cell_type": "code",
   "execution_count": null,
   "id": "63b402a8-8864-48f0-b687-76432692e13a",
   "metadata": {
    "vscode": {
     "languageId": "r"
    }
   },
   "outputs": [],
   "source": [
    "sden <- na.omit(sden)\n",
    "sden\n"
   ]
  },
  {
   "cell_type": "code",
   "execution_count": null,
   "id": "2f9f4e63-0ded-42c3-ad53-d91b2684bc87",
   "metadata": {
    "vscode": {
     "languageId": "r"
    }
   },
   "outputs": [],
   "source": [
    "x <- sum(sden)\n",
    "n <- length(sden)\n"
   ]
  },
  {
   "cell_type": "code",
   "execution_count": null,
   "id": "69434da0-1e9d-4722-b6d9-089fb5ca889c",
   "metadata": {
    "vscode": {
     "languageId": "r"
    }
   },
   "outputs": [],
   "source": [
    "table(sden)\n"
   ]
  },
  {
   "cell_type": "code",
   "execution_count": null,
   "id": "a892f911-d955-4836-b498-2c91fae1d5c3",
   "metadata": {
    "vscode": {
     "languageId": "r"
    }
   },
   "outputs": [],
   "source": [
    "x\n",
    "n\n"
   ]
  },
  {
   "cell_type": "code",
   "execution_count": null,
   "id": "c6ac6e76-760b-4bbb-9721-15b25b776b74",
   "metadata": {
    "vscode": {
     "languageId": "r"
    }
   },
   "outputs": [],
   "source": [
    "p <- x / 30\n"
   ]
  },
  {
   "cell_type": "code",
   "execution_count": null,
   "id": "fe4029c6-6d54-4322-8c80-b4cb687d498c",
   "metadata": {
    "vscode": {
     "languageId": "r"
    }
   },
   "outputs": [],
   "source": [
    "p\n"
   ]
  },
  {
   "cell_type": "code",
   "execution_count": null,
   "id": "53979aff-fe3a-4566-abaa-03a6057d5682",
   "metadata": {
    "vscode": {
     "languageId": "r"
    }
   },
   "outputs": [],
   "source": [
    "9 / (p * (1 - p))\n"
   ]
  },
  {
   "cell_type": "code",
   "execution_count": null,
   "id": "c844c6a6-e724-4eef-a840-5abb33ab3ef7",
   "metadata": {
    "vscode": {
     "languageId": "r"
    }
   },
   "outputs": [],
   "source": [
    "binom.test(x, n, conf.level = 0.99)\n"
   ]
  },
  {
   "cell_type": "code",
   "execution_count": null,
   "id": "160906ca-cd5c-472b-951c-f4b8cd9ddb55",
   "metadata": {
    "vscode": {
     "languageId": "r"
    }
   },
   "outputs": [],
   "source": [
    "binom.test(x, n, conf.level = 0.6)\n"
   ]
  },
  {
   "cell_type": "code",
   "execution_count": null,
   "id": "e9b7c5fd-b733-4b09-afd8-52bee60575e5",
   "metadata": {
    "vscode": {
     "languageId": "r"
    }
   },
   "outputs": [],
   "source": [
    "data\n"
   ]
  },
  {
   "cell_type": "code",
   "execution_count": null,
   "id": "0e533457-f524-4a32-afc4-3bece5b17464",
   "metadata": {
    "vscode": {
     "languageId": "r"
    }
   },
   "outputs": [],
   "source": [
    "datas <- stack(data)\n",
    "head(datas)\n"
   ]
  },
  {
   "cell_type": "code",
   "execution_count": null,
   "id": "0003e75f-8aa0-4456-8054-b2e502c61e5c",
   "metadata": {
    "vscode": {
     "languageId": "r"
    }
   },
   "outputs": [],
   "source": [
    "boxplot(datas$values ~ datas$ind)\n"
   ]
  },
  {
   "cell_type": "code",
   "execution_count": null,
   "id": "64ac584a-d2de-404f-a255-640d261afb29",
   "metadata": {
    "vscode": {
     "languageId": "r"
    }
   },
   "outputs": [],
   "source": [
    "datas$values[datas$values == 36] <- NA\n"
   ]
  },
  {
   "cell_type": "code",
   "execution_count": null,
   "id": "1683f8be-20f1-4d39-9765-b79374a9e51f",
   "metadata": {
    "vscode": {
     "languageId": "r"
    }
   },
   "outputs": [],
   "source": [
    "boxplot(datas$values ~ datas$ind)\n"
   ]
  },
  {
   "cell_type": "code",
   "execution_count": null,
   "id": "69e92f89-68b6-484a-8753-efc06ebf6e7a",
   "metadata": {
    "vscode": {
     "languageId": "r"
    }
   },
   "outputs": [],
   "source": [
    "library(dplyr)\n"
   ]
  },
  {
   "cell_type": "code",
   "execution_count": null,
   "id": "cc6f1024-c347-4c62-acf7-0d6fd4cff8b2",
   "metadata": {
    "vscode": {
     "languageId": "r"
    }
   },
   "outputs": [],
   "source": [
    "datas %>%\n",
    "    group_by(ind) %>%\n",
    "    summarise(pnorm = shapiro.test(values)$p.value)\n"
   ]
  },
  {
   "cell_type": "code",
   "execution_count": null,
   "id": "a5dd77ee-73d9-4b49-a3c5-ef50fa4a736e",
   "metadata": {
    "vscode": {
     "languageId": "r"
    }
   },
   "outputs": [],
   "source": [
    "bartlett.test(datas$values ~ datas$ind)\n"
   ]
  },
  {
   "cell_type": "code",
   "execution_count": null,
   "id": "861fdb11-6586-4bfa-af8e-e04b7c468839",
   "metadata": {
    "vscode": {
     "languageId": "r"
    }
   },
   "outputs": [],
   "source": [
    "res <- aov(datas$values ~ datas$ind)\n",
    "summary(res)\n"
   ]
  },
  {
   "cell_type": "code",
   "execution_count": null,
   "id": "c582693b-d32d-44cb-ba01-d5e75fc2e9ec",
   "metadata": {
    "vscode": {
     "languageId": "r"
    }
   },
   "outputs": [],
   "source": [
    "TukeyHSD(res)\n"
   ]
  },
  {
   "cell_type": "code",
   "execution_count": null,
   "id": "87aacde4-370c-4870-9d50-6378ec490571",
   "metadata": {
    "vscode": {
     "languageId": "r"
    }
   },
   "outputs": [],
   "source": [
    "efekty <- datas %>%\n",
    "    group_by(ind) %>%\n",
    "    summarise(mean = mean(values, na.rm = TRUE))\n"
   ]
  },
  {
   "cell_type": "code",
   "execution_count": null,
   "id": "19335a20-ceb0-4b6c-8633-9515fb1b35ca",
   "metadata": {
    "vscode": {
     "languageId": "r"
    }
   },
   "outputs": [],
   "source": [
    "total_mean <- mean(datas$values, na.rm = TRUE)\n"
   ]
  },
  {
   "cell_type": "code",
   "execution_count": null,
   "id": "69a22a8d-f5ec-42bb-abb7-66c424837204",
   "metadata": {
    "vscode": {
     "languageId": "r"
    }
   },
   "outputs": [],
   "source": [
    "efekty$efekt <- efekty$mean - total_mean\n",
    "efekty\n"
   ]
  }
 ],
 "metadata": {
  "kernelspec": {
   "display_name": "R",
   "language": "R",
   "name": "ir"
  },
  "language_info": {
   "codemirror_mode": "r",
   "file_extension": ".r",
   "mimetype": "text/x-r-source",
   "name": "R",
   "pygments_lexer": "r",
   "version": "4.1.3"
  }
 },
 "nbformat": 4,
 "nbformat_minor": 5
}
