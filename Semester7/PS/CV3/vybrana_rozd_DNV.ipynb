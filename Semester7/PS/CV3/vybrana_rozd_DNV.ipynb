{
 "cells": [
  {
   "cell_type": "markdown",
   "metadata": {},
   "source": [
    "# Cvičení 3 - Vybraná rozdělení diskrétní náhodné veličiny\n",
    "## Michal Béreš, Martina Litschmannová, Adéla Vrtková\n",
    "---"
   ]
  },
  {
   "cell_type": "markdown",
   "metadata": {},
   "source": [
    "# Přehled typů R-kových funkcí (prefix ve jménech funkcí)\n",
    "### Pravděpodobnostní funkce\n",
    "- začíná písmenkem **d**: $p = P(X = x)$: p = d...(x, ...)\n",
    "\n",
    "### Kumulativní pravděpodobnostní (Distribuční funkce)\n",
    "- začíná písmenkem **p**: $p = P(X \\leq x)$: p = p...(x, ...)\n",
    "- pozor Kumulativní pravděpodobnostní je s alternativní definicí $P(X \\leq t)$\n",
    "- pro naši distribuční funkci $F(t) = P(X<t)$: F(t) = p...(t - 1, ...)\n",
    "\n",
    "### Kvantilová funkce\n",
    "- začíná písmenkem **q**:  $p \\geq P(X \\leq x)$: x = q...(p, ...)\n",
    "- hledá nejmenší $x$ pro které je $P(X \\leq x)$ větší než $p$\n",
    "---"
   ]
  },
  {
   "cell_type": "markdown",
   "metadata": {},
   "source": [
    "# Přehled rozdělení (sufix ve jménech funkcí)\n",
    "### Binomické (Alternativní) rozdělení: $$X \\sim Bi(n, π),X \\sim A(π) = Bi(1, π)$$\n",
    "- počet úspěchů v $n$ Bernoulliho pokusech (případně pro jeden pokus v případě Alternativní)\n",
    "- každý pokus má šanci na úspěch $π$\n",
    "\n",
    "$$E(X) = n\\pi, \\quad D(X) = n\\pi(1-\\pi)$$"
   ]
  },
  {
   "cell_type": "code",
   "execution_count": null,
   "metadata": {
    "vscode": {
     "languageId": "r"
    }
   },
   "outputs": [],
   "source": [
    "# Pravděpodobnostní funkce P(X = x)\n",
    "x <- 10 # hodnota, pro níž hledáme p-stní funkci\n",
    "n <- 21 # rozsah výběru\n",
    "p <- 0.5 # pravděpodobnost úspěchu\n",
    "dbinom(x, n, p)\n"
   ]
  },
  {
   "cell_type": "code",
   "execution_count": null,
   "metadata": {
    "vscode": {
     "languageId": "r"
    }
   },
   "outputs": [],
   "source": [
    "# Kumulativní pravděpodobnostní funkce P(X <= x)\n",
    "pbinom(x, n, p)\n"
   ]
  },
  {
   "cell_type": "code",
   "execution_count": null,
   "metadata": {
    "vscode": {
     "languageId": "r"
    }
   },
   "outputs": [],
   "source": [
    "# Funkce podporují vektorové vstupy, tedy dají se jednoduše vykreslit\n",
    "\n",
    "x <- 0:21 # minimálně 0, maximálně n má kladnou pravděpodobnost\n",
    "\n",
    "# Pravděpodobnostní funkce\n",
    "P_x <- dbinom(x, n, p)\n",
    "plot(x, P_x)\n",
    "grid()\n",
    "\n",
    "# Kumulativní pravděpodobnostní funkce\n",
    "F_x <- pbinom(x, n, p)\n",
    "plot(x, F_x)\n",
    "grid()\n"
   ]
  },
  {
   "cell_type": "markdown",
   "metadata": {},
   "source": [
    "### Hypergeometrické rozdělení: $$X \\sim H(N, M, n)$$\n",
    "- počet úspěchů v $n$ závislých pokusech\n",
    "    - závislost typu: $N$ objektů, z toho $M$ objektů se zadanou vlastností a výběr velikosti $n$\n",
    "    - **při výběru nevracíme zpět - pravděpodobnost výběru objektu s danou vlastností se mění s každým dalším vybraným objektem**\n",
    "- **R funkce bere jako parametry** ***hyper(k, M, N - M, n)***\n",
    "    - k je počet úspěchů pro které počítáme pravděpodobnost,\n",
    "    - M je počet objektů se zadanou vlastností,\n",
    "    - N-M je počet objektů bez zadané vlastnosti,\n",
    "    - n je ceklová velikost výběru."
   ]
  },
  {
   "cell_type": "code",
   "execution_count": null,
   "metadata": {
    "vscode": {
     "languageId": "r"
    }
   },
   "outputs": [],
   "source": [
    "# Pravděpodobnostní funkce P(X = x)\n",
    "x <- 3 # hodnota, pro níž hledáme p-stní funkci\n",
    "N <- 20 # celkový počet objektů\n",
    "M <- 5 # z toho se zadanou vlastností\n",
    "n <- 10 # velikost výběru\n",
    "dhyper(x, M, N - M, n)\n"
   ]
  },
  {
   "cell_type": "code",
   "execution_count": null,
   "metadata": {
    "vscode": {
     "languageId": "r"
    }
   },
   "outputs": [],
   "source": [
    "# Kumulativní pravděpodobnostní funkce P(X <= x)\n",
    "phyper(x, M, N - M, n)\n"
   ]
  },
  {
   "cell_type": "code",
   "execution_count": null,
   "metadata": {
    "vscode": {
     "languageId": "r"
    }
   },
   "outputs": [],
   "source": [
    "# opět si můžeme vykreslit\n",
    "\n",
    "# Pravděpodobnostní funkce\n",
    "x <- 0:5 # minimálně 0, maximálně n nebo M má kladnou pravd.\n",
    "P_x <- dhyper(x, M, N - M, n)\n",
    "plot(x, P_x)\n",
    "grid()\n",
    "\n",
    "# Kumulativní pravděpodobnostní funkce\n",
    "F_x <- phyper(x, M, N - M, n)\n",
    "plot(x, F_x)\n",
    "grid()\n"
   ]
  },
  {
   "cell_type": "markdown",
   "metadata": {},
   "source": [
    "### Negativně binomické (Geometrické) rozdělení: $$X \\sim NB(k, \\pi), X \\sim Ge(\\pi) = NB(1, \\pi)$$\n",
    "- počet pokusů do $k$-tého úspěchu (včetně)\n",
    "- každý pokus má šanci na úspěch $π$\n",
    "- **Negativně binomická NV je v Rku definována jako počet neúspěchů před k-tým úspěchem**\n",
    " - proto jako první parametr budeme posílat x - k\n",
    "\n",
    "$$E(X) = \\frac{k}{\\pi}, \\quad D(X) = \\frac{k(1-\\pi)}{\\pi^2}$$"
   ]
  },
  {
   "cell_type": "code",
   "execution_count": null,
   "metadata": {
    "vscode": {
     "languageId": "r"
    }
   },
   "outputs": [],
   "source": [
    "# Pravděpodobnostní funkce P(X = x)\n",
    "x <- 15 # počet pokusů pro který hledáme pravd. fci\n",
    "k <- 5 # požadovaný počet úspěchů\n",
    "p <- 0.3 # pravd. jednotlivých pokusů\n",
    "# pozor první argument musí být počet neúspěchů\n",
    "dnbinom(x - k, k, p)\n"
   ]
  },
  {
   "cell_type": "code",
   "execution_count": null,
   "metadata": {
    "vscode": {
     "languageId": "r"
    }
   },
   "outputs": [],
   "source": [
    "# Kumulativní pravděpodobnostní funkce P(X <= x)\n",
    "pnbinom(x - k, k, p)\n"
   ]
  },
  {
   "cell_type": "code",
   "execution_count": null,
   "metadata": {
    "vscode": {
     "languageId": "r"
    }
   },
   "outputs": [],
   "source": [
    "# vykreslíme si pravděpodobnostní funkci\n",
    "x <- 0:40 # minimálně k, maximum neomezeno\n",
    "P_x <- dnbinom(x - k, k, p)\n",
    "plot(x, P_x)\n",
    "grid()\n",
    "# hodnoty 0,1,2,3,4 mají P(x)=0\n",
    "\n",
    "# vykreslíme si Kumulativní pravděpodobnostní funkci\n",
    "F_x <- pnbinom(x - k, k, p)\n",
    "plot(x, F_x)\n",
    "grid()\n"
   ]
  },
  {
   "cell_type": "markdown",
   "metadata": {},
   "source": [
    "### Poissonovo rozdělení: $$X \\sim Po(\\lambda t)$$\n",
    "- počet událostí v Poissonově procesu v uzavřené oblasti (v čase, na ploše, v objemu)\n",
    "- s hustotou výskytu $λ$ \n",
    "- v čase/ploše/objemu velikosti $t$\n",
    "\n",
    "$$E(X) = \\lambda t, \\quad D(X) = \\lambda t$$"
   ]
  },
  {
   "cell_type": "code",
   "execution_count": null,
   "metadata": {
    "vscode": {
     "languageId": "r"
    }
   },
   "outputs": [],
   "source": [
    "# Pravděpodobnostní funkce P(X = x)\n",
    "x <- 9 # počet pokusů pro který hledáme pravd. fci\n",
    "lambda <- 5 # hustota výskytu\n",
    "t <- 2 # pravd. jednotlivých pokusů\n",
    "lt <- lambda * t\n",
    "dpois(x, lt)\n"
   ]
  },
  {
   "cell_type": "code",
   "execution_count": null,
   "metadata": {
    "vscode": {
     "languageId": "r"
    }
   },
   "outputs": [],
   "source": [
    "# Kumulativní pravděpodobnostní funkce P(X <= x)\n",
    "ppois(x, lt)\n"
   ]
  },
  {
   "cell_type": "code",
   "execution_count": null,
   "metadata": {
    "vscode": {
     "languageId": "r"
    }
   },
   "outputs": [],
   "source": [
    "# vykreslíme si pravděpodobnostní funkci\n",
    "x <- 0:25 # minimálně 0, maximum neomezeno\n",
    "P_x <- dpois(x, lt)\n",
    "plot(x, P_x)\n",
    "grid()\n",
    "\n",
    "# vykreslíme si Kumulativní pravděpodobnostní funkci\n",
    "F_x <- ppois(x, lt)\n",
    "plot(x, F_x)\n",
    "grid()"
   ]
  },
  {
   "cell_type": "markdown",
   "metadata": {},
   "source": [
    "---\n",
    "# Úlohy k procvičení\n",
    "---\n",
    "## Příklad 1.\n",
    "Bridž se hraje s 52 bridžovými kartami, které se rozdají mezi 4 hráče. Vždy 2 hráči hrají spolu. Při rozdávání (13 karet) jste dostali do rukou 2 esa. Jaká je pravděpodobnost, že váš partner bude mít zbývající dvě esa?"
   ]
  },
  {
   "cell_type": "code",
   "execution_count": null,
   "metadata": {
    "vscode": {
     "languageId": "r"
    }
   },
   "outputs": [],
   "source": [
    "# X ... počet es mezi 13 kartami\n",
    "# X ~ H(N = 39, M = 2, n = 13)\n",
    "# P(X = 2)\n",
    "M <- 2\n",
    "N <- 39 # 52-13\n",
    "n <- 13\n",
    "# výpočet\n",
    "dhyper(2, M, N - M, n) # což je dhyper(2,2,37,13)\n"
   ]
  },
  {
   "cell_type": "markdown",
   "metadata": {},
   "source": [
    "## Příklad 2.\n",
    "Pokusy se zjistilo, že radioaktivní látka vyzařuje během 7,5 s průměrně 3,87 α-částice. Určete pravděpodobnost toho, že za 1 sekundu vyzáří tato látka alespoň jednu α-částici."
   ]
  },
  {
   "cell_type": "code",
   "execution_count": null,
   "metadata": {
    "vscode": {
     "languageId": "r"
    }
   },
   "outputs": [],
   "source": [
    "# X ... počet vyzářených alfa částic během 1 s\n",
    "# X ~ Po(lt = 3.87/7.5)\n",
    "\n",
    "lambda <- 3.87 / 7.5 # četnost výskytu\n",
    "t <- 1 # za 1 sekundu\n",
    "lt <- lambda * t # parametr Poissonova rozdělení\n",
    "\n",
    "# P(X >= 1) = 1 - P(X < 1) = 1 - (P(X <= 1) - P(X = 1))\n",
    "1 - (ppois(1, lt) - dpois(1, lt))"
   ]
  },
  {
   "cell_type": "markdown",
   "metadata": {},
   "source": [
    "## Příklad 3.\n",
    "Kamarád vás pošle do sklepa, abyste donesl(a) 4 lahvová piva - z toho dvě desítky a dvě dvanáctky. Nevíte, kde rozsvítit, proto vezmete z basy poslepu 4 láhve. S jakou pravděpodobností jste vyhověl(a), víte-li, že v base bylo celkem 10 desítek a 6 dvanáctek?"
   ]
  },
  {
   "cell_type": "code",
   "execution_count": null,
   "metadata": {
    "vscode": {
     "languageId": "r"
    }
   },
   "outputs": [],
   "source": [
    "# X ... počet 10°piv mezi 4 vybranými\n",
    "# X ~ H(N = 16, M = 10, n = 4)\n",
    "\n",
    "x <- 2\n",
    "N <- 16\n",
    "M <- 10\n",
    "n <- 4\n",
    "\n",
    "# P(X = 2)\n",
    "dhyper(x, M, N - M, n)\n"
   ]
  },
  {
   "cell_type": "markdown",
   "metadata": {},
   "source": [
    "## Příklad 4.\n",
    "V jednom mililitru určitého dokonale rozmíchaného roztoku se v průměru nachází 15 určitých mikroorganismů. Určete pravděpodobnost, že při náhodném výběru vzorku o objemu 1/2 mililitru bude ve zkumavce méně než 5 těchto mikroorganismu."
   ]
  },
  {
   "cell_type": "code",
   "execution_count": null,
   "metadata": {
    "vscode": {
     "languageId": "r"
    }
   },
   "outputs": [],
   "source": [
    "# X ... počet mikroorganismů v 0.5 ml roztoku\n",
    "# X ~ Po(lt = 15/2)\n",
    "\n",
    "lambda <- 15\n",
    "t <- 1 / 2\n",
    "lt <- lambda * t # parametr Poissonova rozd.\n",
    "\n",
    "# P(X < 5) = P(X <= 5) - P(X = 5)\n",
    "ppois(5, lt) - dpois(5, lt)\n"
   ]
  },
  {
   "cell_type": "markdown",
   "metadata": {},
   "source": [
    "## Příklad 5.\n",
    "Na stůl vysypeme 15 mincí. Jaká je pravděpodobnost, že počet mincí ležících lícem nahoře, je od 8 do 15?"
   ]
  },
  {
   "cell_type": "code",
   "execution_count": null,
   "metadata": {
    "vscode": {
     "languageId": "r"
    }
   },
   "outputs": [],
   "source": [
    "# X ... počet mincí, které padnou lícem nahoru z celkového množství 15 mincí\n",
    "# X ~ Bi(n = 15, p = 0.5)\n",
    "\n",
    "n <- 15\n",
    "p <- 0.5\n",
    "\n",
    "# P(8 <= X <= 15) = P(X <= 15) - P(X < 8) = P(X <= 15) - (P(X <= 8) - P(X = 8))\n",
    "pbinom(15, n, p) - (pbinom(8, n, p) - dbinom(8, n, p))\n"
   ]
  },
  {
   "cell_type": "markdown",
   "metadata": {},
   "source": [
    "## Příklad 6.\n",
    "Pravděpodobnost, že se dovoláme do studia rozhlasové stanice, která právě vyhlásila telefonickou soutěž je 0,08. Jaká je pravděpodobnost, že se dovoláme nejvýše na 4. pokus?"
   ]
  },
  {
   "cell_type": "code",
   "execution_count": null,
   "metadata": {
    "vscode": {
     "languageId": "r"
    }
   },
   "outputs": [],
   "source": [
    "# X ... počet pokusů než se dovoláme do rozhlasového studia\n",
    "# X ~ NB(k = 1,p = 0.08) nebo G(0.08)\n",
    "\n",
    "x <- 4\n",
    "k <- 1\n",
    "p <- 0.08\n",
    "\n",
    "# P(X <= 4)\n",
    "pnbinom(x - k, k, p)\n"
   ]
  },
  {
   "cell_type": "markdown",
   "metadata": {},
   "source": [
    "## Příklad 7.\n",
    "V továrně se vyrobí denně 10 % vadných součástek. Jaká je pravděpodobnost, že vybereme-li třicet součástek z denní produkce, tak nejméně dvě budou vadné?"
   ]
  },
  {
   "cell_type": "code",
   "execution_count": null,
   "metadata": {
    "vscode": {
     "languageId": "r"
    }
   },
   "outputs": [],
   "source": [
    "# X ... počet vadných součástek ze 30 vybraných\n",
    "# X ~ Bi(n = 30, p = 0.1)\n",
    "\n",
    "n <- 30\n",
    "p <- 0.1\n",
    "\n",
    "# P(X >= 2) = 1 - P(X < 2) = 1 - (P(X <= 2) - P(X = 2))\n",
    "1 - (pbinom(2, n, p) - dbinom(2, n, p))\n"
   ]
  },
  {
   "cell_type": "markdown",
   "metadata": {},
   "source": [
    "## Příklad 8.\n",
    "Ve skladu je 200 součástek. 10 % z nich je vadných. Jaká je pravděpodobnost, že vybereme-li ze skladu třicet součástek, tak nejméně dvě budou vadné?"
   ]
  },
  {
   "cell_type": "code",
   "execution_count": null,
   "metadata": {
    "vscode": {
     "languageId": "r"
    }
   },
   "outputs": [],
   "source": [
    "# X ... počet vadných součástek ze 30 vybraných z 200\n",
    "# X ~ H(N = 200, M = 20, n = 30)\n",
    "\n",
    "N <- 200\n",
    "M <- 20\n",
    "n <- 30\n",
    "\n",
    "# P(X >= 2) = 1 - P(X < 2) = 1 - (P(X <= 2) - P(X = 2))\n",
    "1 - (phyper(2, M, N - M, n) - dhyper(2, M, N - M, n))\n"
   ]
  },
  {
   "cell_type": "markdown",
   "metadata": {},
   "source": [
    "## Příklad 9.\n",
    "V určité firmě bylo zjištěno, že na 33 % počítačů je nainstalován nějaký nelegální software. Určete pravděpodobnostní a distribuční funkci počtu počítačů s nelegálním softwarem mezi třemi kontrolovanými počítači."
   ]
  },
  {
   "cell_type": "code",
   "execution_count": null,
   "metadata": {
    "vscode": {
     "languageId": "r"
    }
   },
   "outputs": [],
   "source": [
    "# X ... počet počítačů s nelegálním softwarem ze 3 kontrolovaných\n",
    "# X ~ Bi(n = 3,p = 0.33)\n",
    "\n",
    "n <- 3\n",
    "p <- 0.33\n",
    "\n",
    "# pravděpodobnostní funkce\n",
    "x <- 0:3 # všechny možné realizace NV X\n",
    "P_x <- dbinom(x, n, p) # hodnoty pravděpodobnostní funkce pro x\n",
    "\n",
    "F_x <- pbinom(x, n, p) - dbinom(x, n, p)\n",
    "\n",
    "x\n",
    "P_x\n",
    "\n",
    "x\n",
    "F_x\n"
   ]
  },
  {
   "cell_type": "markdown",
   "metadata": {},
   "source": [
    "## Příklad 10.\n",
    "Sportka je loterijní hra, v níž sázející tipuje šest čísel ze čtyřiceti devíti, která očekává, že padnou při budoucím slosování. K účasti ve hře je nutné zvolit alespoň jednu kombinaci 6 čísel (vždy 6 čísel na jeden sloupec) a pomocí křížků tato čísla označit na sázence společnosti Sazka a.s. do sloupců, počínaje sloupcem prvním. Sázející vyhrává v případě, že uhodne alespoň tři čísla z tažené šestice čísel. \n",
    "\n",
    "**a)** Jaká je pravděpodobnost, že soutěžící vyhraje v  jednom sloupci."
   ]
  },
  {
   "cell_type": "code",
   "execution_count": null,
   "metadata": {
    "vscode": {
     "languageId": "r"
    }
   },
   "outputs": [],
   "source": [
    "# Y ... počet uhádnutých čísel v 6 tažených ze 49\n",
    "# Y ~ H(N = 49, M = 6, n = 6)\n",
    "\n",
    "N <- 49\n",
    "M <- 6\n",
    "n <- 6\n",
    "\n",
    "# P-st uhádnutí alespoň 3 čísel v jednom sloupci\n",
    "# P(Y >= 3) = 1 - P(Y < 3) = 1 - (P(Y <= 3) - P(Y = 3))\n",
    "pp <- 1 - (phyper(3, M, N - M, n) - dhyper(3, M, N - M, n))\n",
    "pp\n"
   ]
  },
  {
   "cell_type": "markdown",
   "metadata": {},
   "source": [
    "**b)** Jaká je pravděpodobnost, že proto, aby sázející vyhrál, bude muset vyplnit právě tři sloupce."
   ]
  },
  {
   "cell_type": "code",
   "execution_count": null,
   "metadata": {
    "vscode": {
     "languageId": "r"
    }
   },
   "outputs": [],
   "source": [
    "# X … počet sloupců, které bude muset sázející vyplnit, aby vyhrál\n",
    "# X ~ NB(k = 1, p = pp)\n",
    "\n",
    "# a) P(X = 3)\n",
    "k <- 1\n",
    "p <- pp\n",
    "\n",
    "dnbinom(3 - k, k, pp)\n"
   ]
  },
  {
   "cell_type": "markdown",
   "metadata": {},
   "source": [
    "**c)** Jaká je pravděpodobnost, že proto, aby sázející vyhrál, bude muset vyplnit alespoň 5 sloupců.\n"
   ]
  },
  {
   "cell_type": "code",
   "execution_count": null,
   "metadata": {
    "vscode": {
     "languageId": "r"
    }
   },
   "outputs": [],
   "source": [
    "# b) P(X >= 5) = 1 - P(X < 5) = 1 - (P(X <= 5) - P(X = 5))\n",
    "\n",
    "1 - (pnbinom(5 - k, k, pp) - dnbinom(5 - k, k, pp))\n"
   ]
  },
  {
   "cell_type": "markdown",
   "metadata": {},
   "source": [
    "**d)** Jaká je pravděpodobnost, že proto, aby sázející vyhrál, bude muset vyplnit méně než 10 sloupců."
   ]
  },
  {
   "cell_type": "code",
   "execution_count": null,
   "metadata": {
    "vscode": {
     "languageId": "r"
    }
   },
   "outputs": [],
   "source": [
    "# c) P(X < 10) = P(X <= 10) - P(X = 10)\n",
    "pnbinom(10 - k, k, pp) - dnbinom(10 - k, k, pp)\n"
   ]
  },
  {
   "cell_type": "markdown",
   "metadata": {},
   "source": [
    "**e)** Jaká je pravděpodobnost, že proto, aby sázející vyhrál, bude muset vyplnit více než 5 a nejvýše 10 sloupců?"
   ]
  },
  {
   "cell_type": "code",
   "execution_count": null,
   "metadata": {
    "vscode": {
     "languageId": "r"
    }
   },
   "outputs": [],
   "source": [
    "# P(5 < X <= 10) = P(X <= 10) - P(X <= 5)\n",
    "pnbinom(10 - k, k, pp) - pnbinom(5 - k, k, pp)\n"
   ]
  },
  {
   "cell_type": "markdown",
   "metadata": {},
   "source": [
    "**f)** Jaký je průměrný počet sloupců které musí hráž vyplnit dokud nevyhraje?"
   ]
  },
  {
   "cell_type": "code",
   "execution_count": null,
   "metadata": {
    "vscode": {
     "languageId": "r"
    }
   },
   "outputs": [],
   "source": [
    "# X ~ NB(k = 1, p = pp)\n",
    "# chceme spočítat E(X)\n",
    "# podle vzorce E(X) = k/pi\n",
    "1 / pp"
   ]
  },
  {
   "cell_type": "markdown",
   "metadata": {},
   "source": [
    "## Příklad 11.\n",
    "Pravděpodobnost, že hodíme 6 na 6stěnné kostce je 1/6. Hážeme tak dlouho, než hodíme šestku 10 krát. \n",
    "\n",
    "**a)** Jaká je střední hodnota počtu hodů."
   ]
  },
  {
   "cell_type": "code",
   "execution_count": null,
   "metadata": {
    "vscode": {
     "languageId": "r"
    }
   },
   "outputs": [],
   "source": [
    "# X … hodů kostkou než hodíme 10 šestek\n",
    "# X ~ NB(k = 10, p = 1/6)\n",
    "\n",
    "k <- 10\n",
    "p <- 1 / 6\n",
    "\n",
    "E_X <- k / p\n",
    "E_X\n"
   ]
  },
  {
   "cell_type": "markdown",
   "metadata": {},
   "source": [
    "**b)**\n",
    "S kolika hody nejméně musíme počítat, pokud chceme, aby pradvěpodobnost, že se nám podaří naházet 10 šestek, byla alespoň 70%."
   ]
  },
  {
   "cell_type": "code",
   "execution_count": null,
   "metadata": {
    "vscode": {
     "languageId": "r"
    }
   },
   "outputs": [],
   "source": [
    "# P(X <= k) >= 0.7\n",
    "qnbinom(0.7, k, p) + k\n"
   ]
  }
 ],
 "metadata": {
  "kernelspec": {
   "display_name": "R",
   "language": "R",
   "name": "ir"
  },
  "language_info": {
   "codemirror_mode": "r",
   "file_extension": ".r",
   "mimetype": "text/x-r-source",
   "name": "R",
   "pygments_lexer": "r",
   "version": "4.3.2"
  }
 },
 "nbformat": 4,
 "nbformat_minor": 4
}
