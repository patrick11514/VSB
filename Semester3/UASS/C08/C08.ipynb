{
  "cells": [
    {
      "cell_type": "code",
      "execution_count": null,
      "metadata": {
        "colab": {
          "base_uri": "https://localhost:8080/",
          "height": 36
        },
        "id": "RJhxfj1PCwPb",
        "outputId": "6d581963-af9d-4ced-c3d5-45901cb91608"
      },
      "outputs": [
        {
          "data": {
            "application/vnd.google.colaboratory.intrinsic+json": {
              "type": "string"
            },
            "text/plain": [
              "'2023-10-15T22:12:35.177365'"
            ]
          },
          "execution_count": 14,
          "metadata": {},
          "output_type": "execute_result"
        }
      ],
      "source": [
        "import networkx as nx\n",
        "import sys\n",
        "import datetime\n",
        "from dateutil import parser\n",
        "\n",
        "NETWORK_NAME = \"fb-pages-politician_timestamp.csv\"\n",
        "\n",
        "# Nacteni souboru, seznam hran s daty\n",
        "def load_edges():\n",
        "  edges = [i.split(';') for i in open(NETWORK_NAME, \"r\").read().splitlines()]\n",
        "\n",
        "  if edges[0][0] == \"Source\":\n",
        "    edges.pop(0)\n",
        "\n",
        "  return edges\n",
        "\n",
        "\n",
        "\n",
        "def min_start_date(dates:list[tuple]):\n",
        "  return min([i[2] for i in dates])\n",
        "\n",
        "def max_start_date(dates:list[tuple]):\n",
        "  return max([i[2] for i in dates])\n",
        "\n",
        "def min_end_date(dates:list[tuple]):\n",
        "  return min([i[3] for i in dates])\n",
        "\n",
        "def max_end_date(dates:list[tuple]):\n",
        "  return max([i[3] for i in dates])\n",
        "\n",
        "hrany = load_edges()\n",
        "\n",
        "# min_start_date(hrany)\n",
        "# min_end_date(hrany)\n",
        "# max_start_date(hrany)\n",
        "# max_end_date(hrany)\n",
        "\n",
        "def load_date_range_network(edges: list[tuple], start_date: str, end_date:str) -> nx.Graph:\n",
        "  res_edges = []\n",
        "  start = parser.parse(start_date)\n",
        "  end = parser.parse(end_date)\n",
        "\n",
        "  # for e ...\n",
        "\n",
        "    # if e[3? 4?] >...\n",
        "\n",
        "      # res_edges.append((e[0], e[1]))\n",
        "\n",
        "  return nx.from_edgelist(res_edges)"
      ]
    }
  ],
  "metadata": {
    "colab": {
      "provenance": []
    },
    "kernelspec": {
      "display_name": "Python 3",
      "name": "python3"
    },
    "language_info": {
      "name": "python"
    }
  },
  "nbformat": 4,
  "nbformat_minor": 0
}
