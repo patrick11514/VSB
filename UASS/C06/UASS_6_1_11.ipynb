{
  "cells": [
    {
      "cell_type": "code",
      "execution_count": 17,
      "metadata": {
        "id": "qp5AHfStFsWX"
      },
      "outputs": [
        {
          "name": "stdout",
          "output_type": "stream",
          "text": [
            "10\n",
            "10\n",
            "Pocet klik vetsich nez 9: 2\n"
          ]
        }
      ],
      "source": [
        "from collections import defaultdict\n",
        "import numpy\n",
        "import networkx as nx\n",
        "from random import randrange\n",
        "\n",
        "# Vrati mi seznam seznamů, kde kazdy prvek v seznamu je radek v souboru. Takze prvni prvek je prvni radek a v tom seznamu je na indexu 0 zdrojovy vrchol, 1 koncovy vrchol a 2 vaha hrany\n",
        "# [[zdrojovy_vrchol, koncovy_vrchol, vaha], [...], ...]\n",
        "def load_network(file_name, delimiter = ';') -> list[list[int,int,int]]:\n",
        "  return [[int(j) for j in i.split(delimiter)] for i in open(file_name, mode='r', encoding='utf-8').read().splitlines()]\n",
        "\n",
        "def list_of_neighbors(edges:list[list[int,int,int]]):\n",
        "    seznam_sousedu : defaultdict[int, set] = defaultdict(set)\n",
        "\n",
        "    # TODO - doplnit do seznamu sousedy,\n",
        "    # seznam_sousedu klic bude vrchol a do mnoziny dam sousedy .add(soused)\n",
        "    for x,y,_ in edges:\n",
        "        seznam_sousedu[x].add(y)\n",
        "\n",
        "    return seznam_sousedu\n",
        "\n",
        "\n",
        "def adjacency_matrix_(nodes: set[int], edges: list[list[int,int,int]]):\n",
        "\n",
        "    matrix = [([0]*len(nodes)) for i in range(len(nodes))]\n",
        "\n",
        "    # TODO - doplnit do matice 1 pokud hrana existuje mezi dvojici vrcholu\n",
        "\n",
        "    return matrix\n",
        "\n",
        "def color_clique(G:nx.Graph, clique: list[int], r:int, g:int, b:int) -> None:\n",
        "    for node in clique:\n",
        "        G.nodes[node][\"viz\"] = {'color': {'r': r, 'g': g, 'b' : b}}\n",
        "        G.nodes[node][\"color\"] = '#%02x%02x%02x' % (r,g,b)\n",
        "\n",
        "if __name__ == \"__main__\":\n",
        "    # TODO - parametr funkce load_network vyzaduje nazev nacitane site\n",
        "    seznam_hran = load_network(\"Instagram_reduced.csv\")\n",
        "\n",
        "    vrcholy = set()\n",
        "    for s,t,w in seznam_hran:\n",
        "        vrcholy.add(s)\n",
        "        vrcholy.add(t)\n",
        "\n",
        "\n",
        "    # TODO - sousedi vrcholy 1 a 34?\n",
        "    # Seznam sousedu je slovnik, kde klic je vrchol(int) a hodnota je seznam sousedicich vrcholu\n",
        "    # Pro kontrolu, jestli je prvek v seznamu se pouziva klicove slovo in\n",
        "    # Seznam s = [1,2,3,4], je prvek 5 v seznamu s? -> if 5 in s:\n",
        "    seznam_sousedu = list_of_neighbors(seznam_hran)\n",
        "\n",
        "    # TODO - kolik sousedu ma vrchol 8?\n",
        "    # radek_matice obsahuje hodnotu 1 pokud sousedi s vrcholem, jinak 0\n",
        "    # matice_sousednosti = adjacency_matrix_(vrcholy,seznam_hran,)\n",
        "    #print(matice_sousednosti)\n",
        "    #radek_matice = matice_sousednosti[8]\n",
        "\n",
        "    #G = nx.from_numpy_matrix(numpy.array(matice_sousednosti))\n",
        "\n",
        "    # TODO - nacist seznam_sousedu (from_dict_of_lists) nebo matice_sousednosti (from_numpy_array (numpy.array(matice_sousednosti))) do NetworkX\n",
        "    G = nx.from_dict_of_lists(seznam_sousedu)\n",
        "\n",
        "    # TODO - vratit seznam vsech maximalnich klik, pozor, vraci generator, takze musim dat funkci do listu - list(find_cliques(G))\n",
        "    cliques = list(nx.find_cliques(G))\n",
        "\n",
        "    N = 9\n",
        "    # TODO - obarvit kliky vetsi nez N, metoda - color_clique(graf, klika, r,g,b)\n",
        "    count = 0\n",
        "    for clique in cliques:\n",
        "        if len(clique) > N:\n",
        "            print(len(clique))\n",
        "            count += 1\n",
        "            color_clique(G, clique, randrange(255), randrange(255), randrange(255))\n",
        "\n",
        "    print(f\"Pocet klik vetsich nez {N}: {count}\")\n",
        "\n",
        "    # TODO - zobrazit sit v Gephi\n",
        "    nx.write_gexf(G, \"Instagram_reduced.gexf\")\n"
      ]
    }
  ],
  "metadata": {
    "colab": {
      "provenance": []
    },
    "kernelspec": {
      "display_name": "Python 3",
      "name": "python3"
    },
    "language_info": {
      "codemirror_mode": {
        "name": "ipython",
        "version": 3
      },
      "file_extension": ".py",
      "mimetype": "text/x-python",
      "name": "python",
      "nbconvert_exporter": "python",
      "pygments_lexer": "ipython3",
      "version": "3.11.5"
    }
  },
  "nbformat": 4,
  "nbformat_minor": 0
}
