{
  "nbformat": 4,
  "nbformat_minor": 0,
  "metadata": {
    "colab": {
      "provenance": []
    },
    "kernelspec": {
      "name": "python3",
      "display_name": "Python 3"
    },
    "language_info": {
      "name": "python"
    }
  },
  "cells": [
    {
      "cell_type": "markdown",
      "source": [
        "### Erdős and Rényi model"
      ],
      "metadata": {
        "id": "reAPb0QltooW"
      }
    },
    {
      "cell_type": "code",
      "execution_count": 41,
      "metadata": {
        "id": "2wjDIbCftJMO"
      },
      "outputs": [],
      "source": [
        "import random\n",
        "from itertools import combinations\n",
        "import networkx as nx\n",
        "\n",
        "# G(N,L), kde N je pocet vrcholu a L pocet hran (N a L jsou parametry) (Erdős and Rényi)\n",
        "    # Start with N isolated nodes.\n",
        "    # Select randomly L node pairs and connect the selected node pairs with a link, otherwise leave them disconnected.\n",
        "\n",
        "N = 200\n",
        "L = 1000 # Pocet hran v nahodne siti, L <= N(N-1)/2 !!!\n",
        "\n",
        "if L > (N * (N - 1) / 2):\n",
        "    raise Exception(\"L > N(N-1)/2\")\n",
        "\n",
        "isolated_nodes = list(range(N)) # Izolovane vrcholy s ID od 0 az N-1\n",
        "\n",
        "edges = set()\n",
        "while len(edges) < L:\n",
        "    edges.add(tuple(random.sample(isolated_nodes, 2)))\n",
        "\n",
        "# TODO - Vytvorte z hran sit a exportujte pro Gephi (gexf)\n",
        "# https://networkx.org/documentation/stable/tutorial.html\n",
        "# https://networkx.org/documentation/stable/reference/readwrite/generated/networkx.readwrite.gexf.write_gexf.html\n",
        "# https://gephi.org/users/supported-graph-formats/\n",
        "\n",
        "\n",
        "G = nx.Graph()\n",
        "G.add_nodes_from(isolated_nodes)\n",
        "\n",
        "for edge in edges:\n",
        "    G.add_edge(*edge)\n",
        "\n",
        "for _ in range(1000):\n",
        "    source = N\n",
        "    target = random.choices(list(G.nodes), weights=[degree[1] for degree in G.degree])[0]\n",
        "\n",
        "    G.add_edge(source, target)\n",
        "    # G.node[N]['viz'] = {'color': {'r': 255, 'g': 0, 'b': 0, 'a': 0}}\n",
        "    N += 1\n",
        "\n",
        "nx.write_gexf(G, \"real2.gexf\")"
      ]
    },
    {
      "cell_type": "markdown",
      "source": [
        "### Gilbert model"
      ],
      "metadata": {
        "id": "Dh74dd6otti_"
      }
    },
    {
      "cell_type": "code",
      "source": [
        "import random\n",
        "from itertools import combinations\n",
        "import networkx as nx\n",
        "\n",
        "# G(N,p), kde N je pocet vrcholu a p pravdepodobnost vzniku hrany mezi dvojici vrcholu (N a p jsou parametry) (Gilbert)\n",
        "    # Start with N isolated nodes.\n",
        "    # Select a node pair and generate a random number between 0 and 1. If the number exceeds p, connect the selected node pair with a link, otherwise leave them disconnected.\n",
        "    # Repeat step (2) for each of the N(N-1)/2 node pairs.\n",
        "\n",
        "N = 200\n",
        "p = 0.2\n",
        "\n",
        "isolated_nodes = list(range(N)) # Izolovane vrcholy s ID od 0 az N-1\n",
        "edges = set()\n",
        "\n",
        "# TODO - metoda combinations (?, ?)\n",
        "for source, target in combinations(isolated_nodes, 2): # Funkce combinations ma 2 parametry, seznam prvku a velikost kombinaci\n",
        "    # TODO - pridat hranu (.add()) do mnoziny \"edges\", pokud splnuje podminku pro Gilbert model\n",
        "    if random.random() < p:\n",
        "      edges.add((source, target))\n",
        "\n",
        "\n",
        "# TODO - Vytvorte z hran sit a exportujte pro Gephi (gexf)\n",
        "G = nx.Graph()\n",
        "G.add_nodes_from(isolated_nodes)\n",
        "\n",
        "for edge in edges:\n",
        "    G.add_edge(*edge)\n",
        "\n",
        "nx.write_gexf(G, \"randomV2.gexf\")"
      ],
      "metadata": {
        "id": "RYLJofkvtPDm"
      },
      "execution_count": 37,
      "outputs": []
    },
    {
      "cell_type": "markdown",
      "source": [
        "### Preferenční připojování (B-A)"
      ],
      "metadata": {
        "id": "BlrijStxtwIU"
      }
    },
    {
      "cell_type": "code",
      "source": [
        "# TODO - Do jedné z předchozích sítí přidejte vrcholy s pouzitim preferencniho pripojovani\n",
        "for _ in range(1000):\n",
        "    source = N\n",
        "    target = random.choices(list(G.nodes), weights=[degree[1] for degree in G.degree])[0]\n",
        "\n",
        "    G.add_edge(source, target)\n",
        "    # G.node[N]['viz'] = {'color': {'r': 255, 'g': 0, 'b': 0, 'a': 0}}\n",
        "    N += 1\n",
        "\n",
        "# TODO - Exportujte sit do Gephi a porovnejte distribuce vrcholů s náhodným rozdělením v Gephi (gexf)"
      ],
      "metadata": {
        "id": "q24w4xOZtQhZ"
      },
      "execution_count": null,
      "outputs": []
    }
  ]
}