{
  "cells": [
    {
      "cell_type": "code",
      "execution_count": 1,
      "metadata": {
        "id": "0QsxmosduPML"
      },
      "outputs": [],
      "source": [
        "from random import randrange\n",
        "import networkx as nx\n",
        "import matplotlib.pyplot as plt\n",
        "\n",
        "\n",
        "# Pred zobrazenim / exportem site zavolejte tuto metodu pro obarveni podle prislusnosti do komunity\n",
        "# rozdeleni = nx.community...\n",
        "# color_network(G, rozdeleni)\n",
        "\n",
        "def color_network(G:nx.Graph, partitions: list[dict]) -> None:\n",
        "    colors = []\n",
        "    for _ in range(0,len(partitions)):\n",
        "        colors.append((randrange(255), randrange(255), randrange(255)))\n",
        "\n",
        "    for idx, partition in enumerate(partitions):\n",
        "        for node in partition:\n",
        "            G.nodes[node][\"viz\"] = {'color': {'r': colors[idx][0], 'g': colors[idx][1], 'b' : colors[idx][2]}}\n",
        "            G.nodes[node][\"color\"] = '#%02x%02x%02x' % colors[idx]\n",
        "\n",
        "\n",
        "NETWORK_NAME = \"Dolphins.csv\"\n",
        "\n",
        "G = nx.read_edgelist(NETWORK_NAME, delimiter=\";\") # Pozor na delimiter v souboru\n",
        "# G = nx.read_weighted_edgelist(NETWORK_NAME) # Vazena sit\n",
        "\n",
        "\n",
        "# TODO 1 - Vyzkoušejte algoritmus Louvain a porovnejte s výsledkem z Gephi.\n",
        "# https://networkx.org/documentation/stable/reference/algorithms/generated/networkx.algorithms.community.louvain.louvain_communities.html#networkx.algorithms.community.louvain.louvain_communities\n",
        "#communities = nx.community.louvain_communities(G)\n",
        "#color_network(G, communities)\n",
        "\n",
        "# TODO 2 - Použijte alespoň 2 další algoritmy pro detekci komunit a zobrazte výslednou síť, kde jednotlivé vrcholy budou obarveny podle příslušnosti do komunit.\n",
        "# Pokuste se zjednodušeně popsat jak fungují algoritmy (např. z dokumentace).\n",
        "# https://networkx.org/documentation/stable/reference/algorithms/community.html\n",
        "communities = nx.community.asyn_fluidc(G, 10)\n",
        "color_network(G, list(communities))\n",
        "\n",
        "# TODO 3 - Exportujte síť buď do Gephi nebo zobrazte síť s použitím networkx.\n",
        "# Pokud použijete networkx, tak použíjte i některé z roložení sítě (spring layout)\n",
        "# https://networkx.org/documentation/stable/reference/generated/networkx.drawing.nx_pylab.draw_spring.html#networkx.drawing.nx_pylab.draw_spring\n",
        "# ...draw metoda ma parametr pro obarveni vrcholu - node_color=nx.get_node_attributes(G, \"color\").values()\n",
        "\n",
        "\n",
        "\n",
        "nx.write_gexf(G, \"Dolphins-Fluid-colored2.gexf\")"
      ]
    }
  ],
  "metadata": {
    "colab": {
      "provenance": []
    },
    "kernelspec": {
      "display_name": "Python 3",
      "name": "python3"
    },
    "language_info": {
      "codemirror_mode": {
        "name": "ipython",
        "version": 3
      },
      "file_extension": ".py",
      "mimetype": "text/x-python",
      "name": "python",
      "nbconvert_exporter": "python",
      "pygments_lexer": "ipython3",
      "version": "3.11.5"
    }
  },
  "nbformat": 4,
  "nbformat_minor": 0
}
