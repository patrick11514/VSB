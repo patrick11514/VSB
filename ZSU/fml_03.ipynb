{
 "cells": [
  {
   "cell_type": "markdown",
   "metadata": {
    "id": "l9hHDMhFjshW",
    "tags": []
   },
   "source": [
    "# Fundamentals of Machine Learning - Exercise 3\n",
    "* Goal of the excercise is to learn about more advanced vizualization techniques.\n",
    "\n",
    "\n",
    "![meme1](https://github.com/rasvob/VSB-FEI-Fundamentals-of-Machine-Learning-Exercises/blob/master/images/fml_03_meme_02.jpg?raw=true)\n",
    "\n",
    "\n",
    "## We will use House prices dataset once more\n",
    "\n",
    "Data source: https://www.kaggle.com/c/house-prices-advanced-regression-techniques/data\n",
    "\n",
    "Important attributes description:\n",
    "* SalePrice: The property's sale price in dollars. This is the target variable that you're trying to predict.\n",
    "* MSSubClass: The building class\n",
    "* BldgType: Type of dwelling\n",
    "* HouseStyle: Style of dwelling\n",
    "* OverallQual: Overall material and finish quality\n",
    "* OverallCond: Overall condition rating\n",
    "* YearBuilt: Original construction date\n",
    "* Heating: Type of heating\n",
    "* CentralAir: Central air conditioning\n",
    "* GrLivArea: Above grade (ground) living area square feet\n",
    "* BedroomAbvGr: Number of bedrooms above basement level"
   ]
  },
  {
   "cell_type": "markdown",
   "metadata": {
    "tags": []
   },
   "source": [
    "## Import packages"
   ]
  },
  {
   "cell_type": "code",
   "execution_count": null,
   "metadata": {
    "id": "FVFwXLhL75FZ"
   },
   "outputs": [],
   "source": [
    "import pandas as pd # dataframes\n",
    "import numpy as np # matrices and linear algebra\n",
    "import matplotlib.pyplot as plt # plotting\n",
    "import seaborn as sns # another matplotlib interface - styled and easier to use"
   ]
  },
  {
   "cell_type": "markdown",
   "metadata": {},
   "source": [
    "## Load the data into the Pandas DataFrame\n",
    "* https://raw.githubusercontent.com/rasvob/VSB-FEI-Fundamentals-of-Machine-Learning-Exercises/master/datasets/zsu_cv1_data.csv"
   ]
  },
  {
   "cell_type": "code",
   "execution_count": null,
   "metadata": {},
   "outputs": [],
   "source": []
  },
  {
   "cell_type": "markdown",
   "metadata": {},
   "source": [
    "## 🔎 What does the *...* in the middle of table columns mean?\n",
    "\n",
    "### 💡 Hint: If the dataset has too many columns, it is good to set pandas parameter **display.max_columns** to None so there is no such limit"
   ]
  },
  {
   "cell_type": "code",
   "execution_count": null,
   "metadata": {},
   "outputs": [],
   "source": [
    "with pd.option_context('display.max_columns', None):\n",
    "    display(df)"
   ]
  },
  {
   "cell_type": "markdown",
   "metadata": {},
   "source": [
    "# Let's start with the plots already!"
   ]
  },
  {
   "cell_type": "markdown",
   "metadata": {},
   "source": [
    "# 📊 Pairplot\n",
    "* Plot pairwise relationships in a dataset\n",
    "    * i.e. **Scatterplots for multiple pairs of numerical attributes**\n",
    "    * See [this](https://seaborn.pydata.org/generated/seaborn.pairplot.html) for more details"
   ]
  },
  {
   "cell_type": "markdown",
   "metadata": {},
   "source": [
    "## Select only interesting features for pairplot visualization\n",
    "* 💡 The pairplot might be too big to see anything in the visualization otherwise\n",
    "* Select just subset of features and use *vars* parameter for it\n",
    "\n",
    "> ['LotFrontage', 'LotArea', 'OverallQual', 'OverallCond', 'YearBuilt', 'GrLivArea', 'GarageYrBlt', 'GarageArea', 'SalePrice']"
   ]
  },
  {
   "cell_type": "code",
   "execution_count": null,
   "metadata": {},
   "outputs": [],
   "source": []
  },
  {
   "cell_type": "markdown",
   "metadata": {},
   "source": [
    "## 💡 Notice that both OverallQual and OverallCond columns are rather categorical features\n",
    "* Even though they are represented by numerical values\n",
    "    * So one would expect that the features are numerical, but they aren't\n",
    "\n",
    "* Scatter plot may not be the best way to visualize this type of data\n",
    "    * 🔎 What type of plot is more reseonable?\n",
    "\n",
    "* Let's select only appropropriate features this time\n",
    "* Also distinguish among different **BldgType** in the plot\n",
    "    * *hue* parameter \n",
    "\n",
    "> ['LotFrontage', 'LotArea', 'YearBuilt', 'GrLivArea', 'GarageYrBlt', 'GarageArea', 'SalePrice']"
   ]
  },
  {
   "cell_type": "code",
   "execution_count": null,
   "metadata": {},
   "outputs": [],
   "source": []
  },
  {
   "cell_type": "markdown",
   "metadata": {},
   "source": [
    "## In the following steps we want to threat OverallQual and OverallCond as categories instead of numbers\n",
    "* for modifying of column's types you can use function *astype*"
   ]
  },
  {
   "cell_type": "code",
   "execution_count": null,
   "metadata": {},
   "outputs": [],
   "source": []
  },
  {
   "cell_type": "markdown",
   "metadata": {},
   "source": [
    "# 🔎 Are you able to say which categorical attributes affect the price right now?\n",
    "- Yeah... me neither so let's find out by plotting the data first 🙂"
   ]
  },
  {
   "cell_type": "markdown",
   "metadata": {},
   "source": [
    "## Start with a selection of only the categorical features\n",
    "* Use *select_dtypes* function with *exclude* parameter to get rid of numerical (*np.number*) attributes\n",
    "    * Save these column names into a variable\n",
    "* Loop over the selected columns and fill *NaN* values with **'MISSING'** string"
   ]
  },
  {
   "cell_type": "code",
   "execution_count": null,
   "metadata": {},
   "outputs": [],
   "source": []
  },
  {
   "cell_type": "markdown",
   "metadata": {},
   "source": [
    "## Check the result"
   ]
  },
  {
   "cell_type": "code",
   "execution_count": null,
   "metadata": {},
   "outputs": [],
   "source": [
    "df.head()"
   ]
  },
  {
   "cell_type": "markdown",
   "metadata": {},
   "source": [
    "![meme2](https://github.com/rasvob/VSB-FEI-Fundamentals-of-Machine-Learning-Exercises/blob/master/images/fml_03_meme_01.jpg?raw=true)"
   ]
  },
  {
   "cell_type": "markdown",
   "metadata": {},
   "source": [
    "# 📊 Very useful feature is the [subplots](https://matplotlib.org/stable/api/_as_gen/matplotlib.pyplot.subplots.html) function \n",
    "* It is useful for defining our own grids for plots based on our needs\n",
    "\n",
    "## We will plot boxplots of *SalePrice* along with the value counts using barplot for each categorical feature\n",
    "* **🔎 Why is this pair of plots useful?**\n",
    "\n",
    "* The *subplots* function has 3 important parameters\n",
    "    1. Number of rows - *nrows*\n",
    "    2. Number of columns - *ncols*\n",
    "    3. Figure size - *figsize*\n",
    "* It returns a *figure* and *axes* objects\n",
    "    * The *axes* contains reference to individual subplots\n",
    "    * 💡 Use *flat* property to access 1D array of subplots"
   ]
  },
  {
   "cell_type": "code",
   "execution_count": null,
   "metadata": {},
   "outputs": [],
   "source": [
    "fig, axes = plt.subplots(len(qualitative_columns), 2, figsize=(10, 150))\n",
    "\n",
    "for i, col in enumerate(qualitative_columns):\n",
    "    ax_left = axes.flat[2*i]\n",
    "    ax_right = axes.flat[2*i + 1]\n",
    "    sns.boxplot(data=df, x=col, y='SalePrice', ax=ax_left)\n",
    "    ax_left.set_xticklabels(ax_left.xaxis.get_majorticklabels(), rotation=60)\n",
    "    sns.countplot(data=df, x=col, ax=ax_right)\n",
    "    ax_right.set_xticklabels(ax_right.xaxis.get_majorticklabels(), rotation=60)\n",
    "        \n",
    "fig.tight_layout()"
   ]
  },
  {
   "cell_type": "markdown",
   "metadata": {},
   "source": [
    "# 📊 Correlation\n",
    "* 🔎 What does the *correlation coefficient* tell you?\n",
    "* What is the range of it?\n",
    "* Is it useful for each type of relationship?\n",
    "* 💡 **Correlation is not causation**\n",
    "    * e.g. Ice cream sales X Number of thefts\n",
    "\n",
    "- Take a look at [this link](https://www.dummies.com/education/math/statistics/how-to-interpret-a-correlation-coefficient-r/)\n",
    "- See also [this](https://www.simplypsychology.org/correlation.html) or [this](https://www.investopedia.com/ask/answers/032515/what-does-it-mean-if-correlation-coefficient-positive-negative-or-zero.asp) for some more info about the topic"
   ]
  },
  {
   "cell_type": "markdown",
   "metadata": {},
   "source": [
    "## We can compute the correlation matrix using *corr()* function\n",
    "* Select columns first\n",
    "\n",
    "> ['LotFrontage', 'LotArea', 'YearBuilt', 'GrLivArea', 'GarageYrBlt', 'GarageArea', 'SalePrice']"
   ]
  },
  {
   "cell_type": "code",
   "execution_count": null,
   "metadata": {},
   "outputs": [],
   "source": []
  },
  {
   "cell_type": "markdown",
   "metadata": {},
   "source": [
    "## 📊 Vizualize the matrix using *heatmap* plot"
   ]
  },
  {
   "cell_type": "code",
   "execution_count": null,
   "metadata": {},
   "outputs": [],
   "source": [
    "plt.figure(figsize=(12, 9))\n"
   ]
  },
  {
   "cell_type": "markdown",
   "metadata": {},
   "source": [
    "## Which color scheme will be more appropropriate for corellation representation?\n",
    "- Change color map *cmap* (e.g. RdYlGn)\n",
    "- Set limits to adjust color map values from -1 to 1\n",
    "    - Attributes *vmin*, *vmax*"
   ]
  },
  {
   "cell_type": "code",
   "execution_count": null,
   "metadata": {},
   "outputs": [],
   "source": [
    "plt.figure(figsize=(12, 9))\n"
   ]
  },
  {
   "cell_type": "markdown",
   "metadata": {},
   "source": [
    "## Add values to the heatmap and amplify heatmap's readability\n",
    "* Use *cmap=sns.light_palette(\"seagreen\", as_cmap=True)* color map\n",
    "* Set minimum value to **0.3**\n",
    "* Enable annotations using *annot* parameter\n",
    "* Plot each column as a *square* (same name of the parameter)"
   ]
  },
  {
   "cell_type": "code",
   "execution_count": null,
   "metadata": {},
   "outputs": [],
   "source": [
    "plt.figure(figsize=(12, 9))\n"
   ]
  },
  {
   "cell_type": "markdown",
   "metadata": {},
   "source": [
    "# 💡 I highly recommend taking a look at the plot gallery for some more plots!\n",
    "* https://seaborn.pydata.org/api.html"
   ]
  },
  {
   "cell_type": "markdown",
   "metadata": {},
   "source": [
    "## 📊 Let's try for example scatter plot with regression line fron the example gallery\n",
    "* 🔎 What insight does it give us about the trend?"
   ]
  },
  {
   "cell_type": "code",
   "execution_count": null,
   "metadata": {},
   "outputs": [],
   "source": [
    "fig = plt.figure(figsize=(12, 12))\n",
    "sns.regplot(data = df, x='GrLivArea', y='SalePrice')\n",
    "plt.show()"
   ]
  },
  {
   "cell_type": "markdown",
   "metadata": {
    "tags": []
   },
   "source": [
    "# ✅ Task (2p)\n",
    "1. Create two filtered dataframes:\n",
    "    * The first one *df_fam* will contain only the data for **BldgType** = '1Fam'\n",
    "    * The second one *df_twn* will contain only the data for **BldgType** = 'Twnhs' or 'TwnhsE'\n",
    "\n",
    "2. Plot two correlation matrices\n",
    "    * 💡 One for each of the datasets and use these features:\n",
    "    > ['LotFrontage', 'LotArea', 'YearBuilt', 'GrLivArea', 'GarageYrBlt', 'GarageArea', 'SalePrice']\n",
    "\n",
    "3. Do you see any differences or similarities in the correlation matrices?\n",
    "    * Which features you take as correlated and which are not according to you?\n",
    "    * **Describe the insight you got from the plots with a few sentences in a Markdown cell below the plot**\n",
    "        * ❌ Plot interpretation figured in real-time during task check is not allowed! ❌"
   ]
  }
 ],
 "metadata": {
  "colab": {
   "collapsed_sections": [],
   "name": "ZSU_cv1_introduction_jupyter_pandas_visualization.ipynb",
   "provenance": []
  },
  "kernelspec": {
   "display_name": "Python 3 (ipykernel)",
   "language": "python",
   "name": "python3"
  },
  "language_info": {
   "codemirror_mode": {
    "name": "ipython",
    "version": 3
   },
   "file_extension": ".py",
   "mimetype": "text/x-python",
   "name": "python",
   "nbconvert_exporter": "python",
   "pygments_lexer": "ipython3",
   "version": "3.10.8"
  }
 },
 "nbformat": 4,
 "nbformat_minor": 4
}
