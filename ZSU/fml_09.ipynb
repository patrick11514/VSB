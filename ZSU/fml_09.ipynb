{
 "cells": [
  {
   "cell_type": "markdown",
   "id": "30b61190-61c1-4dd2-a9ec-acbadc8a52ef",
   "metadata": {
    "tags": []
   },
   "source": [
    "# Fundamentals of Machine Learning - Exercise 9\n",
    "Goal of this excercise is to complete the hands-on experience of the classification task.\n",
    "\n",
    "## Household Prices Dataset\n",
    "https://www.kaggle.com/c/house-prices-advanced-regression-techniques/data\n",
    "\n",
    "* ... I bet that you already know the data pretty well 😅\n",
    "\n",
    "![meme03](https://github.com/rasvob/VSB-FEI-Fundamentals-of-Machine-Learning-Exercises/blob/master/images/fml_09_meme_03.jpg?raw=true)\n",
    "\n",
    "**Important attributes description:**\n",
    "* SalePrice: The property's sale price in dollars. This is the target variable that you're trying to predict.\n",
    "* MSSubClass: The building class\n",
    "* BldgType: Type of dwelling\n",
    "* HouseStyle: Style of dwelling\n",
    "* OverallQual: Overall material and finish quality\n",
    "* OverallCond: Overall condition rating\n",
    "* YearBuilt: Original construction date\n",
    "* Heating: Type of heating\n",
    "* CentralAir: Central air conditioning\n",
    "* GrLivArea: Above grade (ground) living area square feet\n",
    "* BedroomAbvGr: Number of bedrooms above basement level)\n",
    "\n"
   ]
  },
  {
   "cell_type": "code",
   "execution_count": null,
   "id": "a70c5553-ad01-4d43-93fb-50c085f09a64",
   "metadata": {},
   "outputs": [],
   "source": [
    "import numpy as np\n",
    "import pandas as pd\n",
    "import seaborn as sns\n",
    "import matplotlib.pyplot as plt\n",
    "import math\n",
    "\n",
    "from sklearn.tree import DecisionTreeClassifier\n",
    "from sklearn.model_selection import train_test_split, StratifiedKFold, KFold\n",
    "from sklearn.ensemble import RandomForestClassifier\n",
    "from sklearn.metrics import accuracy_score, f1_score, recall_score, precision_score, confusion_matrix, auc\n",
    "from sklearn.preprocessing import OrdinalEncoder"
   ]
  },
  {
   "cell_type": "markdown",
   "id": "91919c63-d578-4f60-ab66-6b319e4d8aee",
   "metadata": {},
   "source": [
    "# 🎯 Our goal is to predict if the house will be sold for more than 250k USD or not\n",
    "* We will use categorized price as a **Target** variable"
   ]
  },
  {
   "cell_type": "code",
   "execution_count": null,
   "id": "9c04fdf9-7fbf-48ac-ba7a-a8c748b16703",
   "metadata": {},
   "outputs": [],
   "source": [
    "df = pd.read_csv('https://raw.githubusercontent.com/rasvob/VSB-FEI-Fundamentals-of-Machine-Learning-Exercises/master/datasets/zsu_cv1_data.csv', sep=',')\n",
    "df = df.loc[:, ['SalePrice','MSSubClass','BldgType','HouseStyle','OverallQual','OverallCond','YearBuilt','Heating','CentralAir','GrLivArea','BedroomAbvGr']]\n",
    "df.loc[:, ['Target']] = (df.SalePrice > 250000).astype(int)\n",
    "df = df.drop(['SalePrice'], axis=1)"
   ]
  },
  {
   "cell_type": "code",
   "execution_count": null,
   "id": "f24a55f9-b2c2-4815-a0b5-ceb261895856",
   "metadata": {},
   "outputs": [],
   "source": [
    "df.head()"
   ]
  },
  {
   "cell_type": "markdown",
   "id": "f284c232-b4e3-40fc-b502-a3f27c4b67ba",
   "metadata": {},
   "source": [
    "# Take a look at the features\n",
    "* We will need it to answer the questions"
   ]
  },
  {
   "cell_type": "code",
   "execution_count": null,
   "id": "1c6ba193-7e2c-4e4b-9bf8-cf75e5689c36",
   "metadata": {},
   "outputs": [],
   "source": [
    "df.describe()"
   ]
  },
  {
   "cell_type": "markdown",
   "id": "98035a5b-ce62-488d-86a7-a23389543931",
   "metadata": {},
   "source": [
    "## Categorial features EDA"
   ]
  },
  {
   "cell_type": "code",
   "execution_count": null,
   "id": "015a2cf3-4dde-4722-97b9-0217e60cda00",
   "metadata": {
    "scrolled": true
   },
   "outputs": [],
   "source": [
    "df.describe(exclude=np.number)"
   ]
  },
  {
   "cell_type": "markdown",
   "id": "8ba6c3c9-b611-4780-9cb3-52a65b7c73fb",
   "metadata": {},
   "source": [
    "### BldgType"
   ]
  },
  {
   "cell_type": "code",
   "execution_count": null,
   "id": "6860381b-0926-4d63-a3ce-9c2592928469",
   "metadata": {},
   "outputs": [],
   "source": [
    "df.BldgType.value_counts()"
   ]
  },
  {
   "cell_type": "markdown",
   "id": "2b8304d9-d611-47c4-a598-56f106588df6",
   "metadata": {},
   "source": [
    "### HouseStyle"
   ]
  },
  {
   "cell_type": "code",
   "execution_count": null,
   "id": "d1904d3d-de59-45e1-90c5-3ce14c3a9824",
   "metadata": {},
   "outputs": [],
   "source": [
    "df.HouseStyle.value_counts()"
   ]
  },
  {
   "cell_type": "markdown",
   "id": "23d7d6b7-648e-413c-8126-05e3ed5d293e",
   "metadata": {},
   "source": [
    "### Heating"
   ]
  },
  {
   "cell_type": "code",
   "execution_count": null,
   "id": "5f6cd161-b886-43ae-ae9f-7eeae1112c96",
   "metadata": {},
   "outputs": [],
   "source": [
    "df.Heating.value_counts()"
   ]
  },
  {
   "cell_type": "markdown",
   "id": "cf3f4b2e-b43e-4dc6-8968-f904ed1a6b91",
   "metadata": {},
   "source": [
    "## Missing values"
   ]
  },
  {
   "cell_type": "code",
   "execution_count": null,
   "id": "9e772318-7b63-4a5f-95d5-c6979a4713ee",
   "metadata": {},
   "outputs": [],
   "source": [
    "df.isna().sum()"
   ]
  },
  {
   "cell_type": "markdown",
   "id": "cde8b9e4-a044-40e6-9747-5640b77d9083",
   "metadata": {},
   "source": [
    "## Labels distribution"
   ]
  },
  {
   "cell_type": "code",
   "execution_count": null,
   "id": "bdd99d8e-079f-44f8-bd94-514c3f63c6f4",
   "metadata": {},
   "outputs": [],
   "source": [
    "df.Target.value_counts()"
   ]
  },
  {
   "cell_type": "markdown",
   "id": "3782fb16-bb52-461c-a415-5f13f22aa1f0",
   "metadata": {},
   "source": [
    "# ✅ Task (2p)\n",
    "Complete the following tasks:\n",
    "\n",
    "1. 📈 Describe what operations you are performing for each of the features\n",
    "    * Mainly focus on categorical features\n",
    "      \n",
    "2. 📌 Answer the following questions:\n",
    "    * **How many values are missing?**\n",
    "    * **How many instances do you have in each of the classes?**\n",
    "    * 🔎 **Which metric score do you propose for the classification model performance evaluation?**\n",
    "        * 💡 This depends on your previous answer\n",
    "          \n",
    "3. ⚡Finish your preprocessing pipeline and split the data into the Input and Output part (i.e. `X` and `y` variables)\n",
    "\n",
    "4. 🌳 Start with the **Decision Tree**\n",
    "    * Use 5-fold cross validation\n",
    "    * 🔎 Will you use *standard* cross validation or *stratified* cross validation?\n",
    "    * Compute mean of the obtained score values\n",
    "      \n",
    "5. 🚀 Select one other algorithm from https://scikit-learn.org/stable/supervised_learning.html\n",
    "    * Repeat the 5-fold CV\n",
    "      \n",
    "6. 📒 **Write down which default model is better**\n",
    "\n",
    "7. 📊 Experiment with hyper-parameters\n",
    "    * Select at least one important parameter for the model \n",
    "    * Set the parameter value range\n",
    "        * You can use random values, interval of values, ... \n",
    "    * Do the 5-fold CV\n",
    "        * Compute mean of the obtained score values\n",
    "    * Document the experiment results using tables and/or plots\n",
    "    * Describe the results in a Markdown cell\n",
    "\n",
    "8. 📒 **Write down which model (default or tuned) is the best and why**\n",
    "\n",
    "* **Document everything you do in a Markdown cells**\n",
    "    * ❌ Results interpretation figured in real-time during task check is not allowed! ❌\n",
    "\n",
    "![meme01](https://github.com/rasvob/VSB-FEI-Fundamentals-of-Machine-Learning-Exercises/blob/master/images/fml_09_meme_01.jpg?raw=true)"
   ]
  }
 ],
 "metadata": {
  "kernelspec": {
   "display_name": "Python 3 (ipykernel)",
   "language": "python",
   "name": "python3"
  },
  "language_info": {
   "codemirror_mode": {
    "name": "ipython",
    "version": 3
   },
   "file_extension": ".py",
   "mimetype": "text/x-python",
   "name": "python",
   "nbconvert_exporter": "python",
   "pygments_lexer": "ipython3",
   "version": "3.12.0"
  }
 },
 "nbformat": 4,
 "nbformat_minor": 5
}
